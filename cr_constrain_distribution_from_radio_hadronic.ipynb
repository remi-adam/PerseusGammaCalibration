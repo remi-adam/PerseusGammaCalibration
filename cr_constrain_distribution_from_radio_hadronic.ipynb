{
 "cells": [
  {
   "cell_type": "raw",
   "metadata": {},
   "source": [
    "This notebook is part of the CTA key science project dedicated to Perseus. Here, we constrain the Perseus CR distribution (spectral and spatial) using radio data, via an MCMC approach. This is the pure hadronic model."
   ]
  },
  {
   "cell_type": "markdown",
   "metadata": {},
   "source": [
    "# Imports and parameters"
   ]
  },
  {
   "cell_type": "code",
   "execution_count": null,
   "metadata": {},
   "outputs": [],
   "source": [
    "from multiprocessing import Pool, cpu_count\n",
    "import warnings\n",
    "import astropy.units as u\n",
    "import numpy as np\n",
    "import pandas as pd\n",
    "import emcee\n",
    "import corner\n",
    "import matplotlib.pyplot as plt\n",
    "import copy\n",
    "import pickle\n",
    "\n",
    "from PerseusGammaCalibration import perseus_model_library\n",
    "from PerseusGammaCalibration import perseus_data_library\n",
    "from kesacco.Tools.plotting import seaborn_corner\n",
    "import minot\n",
    "\n",
    "# Modify plotting parameters\n",
    "dict_base = {'font.size':        16,\n",
    "             'legend.fontsize':  16,\n",
    "             'xtick.labelsize':  16,\n",
    "             'ytick.labelsize':  16,\n",
    "             'axes.labelsize':   16,\n",
    "             'axes.titlesize':   16,\n",
    "             'figure.titlesize': 16,    \n",
    "             'figure.figsize':[8.0, 6.0],\n",
    "             'figure.subplot.right':0.97,\n",
    "             'figure.subplot.left':0.15,\n",
    "             'font.family':'serif',\n",
    "             'figure.facecolor': 'white',\n",
    "             'legend.frameon': True}\n",
    "plt.rcParams.update(dict_base)"
   ]
  },
  {
   "cell_type": "code",
   "execution_count": null,
   "metadata": {},
   "outputs": [],
   "source": [
    "Nmc         = 100         # Number of Monte Carlo trials\n",
    "fit_index   = False       # Fit the spectral index profile\n",
    "mcmc_nsteps = 1000        # number of MCMC points\n",
    "mcmc_burnin = 100         # number of MCMC burnin points"
   ]
  },
  {
   "cell_type": "markdown",
   "metadata": {},
   "source": [
    "# Define the cluster model"
   ]
  },
  {
   "cell_type": "code",
   "execution_count": null,
   "metadata": {},
   "outputs": [],
   "source": [
    "cluster = perseus_model_library.default_model()\n",
    "cluster = perseus_model_library.set_magnetic_field_model(cluster, case='Taylor2006')\n",
    "cluster = perseus_model_library.set_pure_hadronic_model(cluster, ('density', 2.0), 3e-3, 2.5)\n",
    "cluster.Npt_per_decade_integ = 10"
   ]
  },
  {
   "cell_type": "markdown",
   "metadata": {},
   "source": [
    "# Data"
   ]
  },
  {
   "cell_type": "code",
   "execution_count": null,
   "metadata": {},
   "outputs": [],
   "source": [
    "radio_data = perseus_data_library.get_radio_data(cluster.cosmo, cluster.redshift)"
   ]
  },
  {
   "cell_type": "markdown",
   "metadata": {},
   "source": [
    "# Data initial model comparison"
   ]
  },
  {
   "cell_type": "code",
   "execution_count": null,
   "metadata": {},
   "outputs": [],
   "source": [
    "frequency = np.logspace(0,5,50)*u.MHz\n",
    "radius    = np.logspace(0,3,50)*u.kpc\n",
    "\n",
    "#----- Spectrum\n",
    "model_ini_freq, model_ini_spec = cluster.get_synchrotron_spectrum(frequency, \n",
    "                                                                  Rmin=radio_data['info']['spec_Rmin'], \n",
    "                                                                  Rmax=radio_data['info']['spec_Rmax'], \n",
    "                                                                  type_integral='cylindrical', Cframe=False)\n",
    "\n",
    "#----- Profile\n",
    "model_ini_rad,  model_ini_prof = cluster.get_synchrotron_profile(radius, freq0=radio_data['info']['prof_freq'], \n",
    "                                                                 Cframe=True)\n",
    "\n",
    "#----- Index\n",
    "model_ini_idxrad, model_ini_idx1 = cluster.get_synchrotron_profile(radius, freq0=radio_data['info']['idx_freq1'])\n",
    "model_ini_idxrad, model_ini_idx2 = cluster.get_synchrotron_profile(radius, freq0=radio_data['info']['idx_freq2'])\n",
    "model_ini_idx = -np.log10((model_ini_idx1/model_ini_idx2).to_value('')) / np.log10((radio_data['info']['idx_freq1']/radio_data['info']['idx_freq2']).to_value(''))"
   ]
  },
  {
   "cell_type": "code",
   "execution_count": null,
   "metadata": {},
   "outputs": [],
   "source": [
    "#----- Spectrum\n",
    "fig = plt.figure(0, figsize=(18, 16))\n",
    "ax = plt.subplot(221)\n",
    "plt.errorbar(radio_data['spectrum']['freq'].to_value('MHz'), radio_data['spectrum']['flux'].to_value('Jy'), radio_data['spectrum']['error'].to_value('Jy'),\n",
    "            marker='o', linestyle='', color='red', label='Data')\n",
    "plt.plot(model_ini_freq.to_value('MHz'), model_ini_spec.to_value('Jy'), color='green', label='Model')\n",
    "plt.xscale('log')\n",
    "plt.yscale('log')\n",
    "plt.xlabel('Frequency (MHz)')\n",
    "plt.ylabel('Flux (Jy)')\n",
    "plt.xlim(50,10000)\n",
    "plt.ylim(1,100)\n",
    "plt.legend()\n",
    "plt.grid()\n",
    "\n",
    "#----- Profile\n",
    "ax = plt.subplot(222)\n",
    "plt.errorbar(radio_data['profile']['radius'].to_value('kpc')*1.05, radio_data['profile']['flux'].to_value('Jy arcmin-2'), \n",
    "             yerr=(radio_data['profile']['error_m'].to_value('Jy arcmin-2'), radio_data['profile']['error_p'].to_value('Jy arcmin-2')),\n",
    "             marker='.', linestyle='', color='orange', label='Data (original)')\n",
    "plt.errorbar(radio_data['profile']['radius'].to_value('kpc'), radio_data['profile']['flux'].to_value('Jy arcmin-2'), \n",
    "             yerr=radio_data['profile']['error'].to_value('Jy arcmin-2'),\n",
    "             marker='o', linestyle='', color='red', label='Data (symmetrized 30% errors)')\n",
    "plt.plot(model_ini_rad.to_value('kpc'),  model_ini_prof.to_value('Jy arcmin-2'), color='green', label='Model')\n",
    "plt.plot([radio_data['info']['prof_Rmin'].to_value('kpc'),radio_data['info']['prof_Rmin'].to_value('kpc')], [0,1e6], linestyle='--', color='grey')\n",
    "plt.plot([radio_data['info']['prof_Rmax'].to_value('kpc'),radio_data['info']['prof_Rmax'].to_value('kpc')], [0,1e6], linestyle='--', color='grey')\n",
    "plt.fill_between([0,radio_data['info']['prof_Rmin'].to_value('kpc')], [0,0], [1e6,1e6], color='grey', alpha=0.2, label='Excluded region')\n",
    "plt.fill_between([radio_data['info']['prof_Rmax'].to_value('kpc'), np.inf], [0,0], [1e6,1e6], color='grey', alpha=0.2)\n",
    "plt.xscale('log')\n",
    "plt.yscale('log')\n",
    "plt.xlabel('Radius (kpc)')\n",
    "plt.ylabel('Surface brightness (Jy/arcmin$^2$)')\n",
    "plt.xlim(5,300)\n",
    "plt.ylim(1e-4,50)\n",
    "plt.legend()\n",
    "plt.grid()\n",
    "\n",
    "#----- Profile versus radius\n",
    "ax = plt.subplot(223)\n",
    "plt.plot(model_ini_idxrad.to_value('kpc'),  model_ini_idx1.to_value('Jy arcmin-2'), color='green', label=str(radio_data['info']['idx_freq1'].to_value('MHz'))+' MHz model')\n",
    "plt.plot(model_ini_idxrad.to_value('kpc'),  model_ini_idx2.to_value('Jy arcmin-2'), color='blue', label=str(radio_data['info']['idx_freq2'].to_value('MHz'))+' MHz model')\n",
    "plt.plot([radio_data['info']['prof_Rmin'].to_value('kpc'),radio_data['info']['prof_Rmin'].to_value('kpc')], [0,1e6], linestyle='--', color='grey')\n",
    "plt.plot([radio_data['info']['prof_Rmax'].to_value('kpc'),radio_data['info']['prof_Rmax'].to_value('kpc')], [0,1e6], linestyle='--', color='grey')\n",
    "plt.fill_between([0,radio_data['info']['prof_Rmin'].to_value('kpc')], [0,0], [1e6,1e6], color='grey', alpha=0.2, label='Excluded region')\n",
    "plt.fill_between([radio_data['info']['prof_Rmax'].to_value('kpc'), np.inf], [0,0], [1e6,1e6], color='grey', alpha=0.2)\n",
    "plt.xscale('log')\n",
    "plt.yscale('log')\n",
    "plt.xlabel('Radius (kpc)')\n",
    "plt.ylabel('Surface brightness (Jy/arcmin$^2$)')\n",
    "plt.xlim(5,300)\n",
    "plt.ylim(1e-3,50)\n",
    "plt.legend()\n",
    "plt.grid()\n",
    "\n",
    "#----- Spectral index\n",
    "ax = plt.subplot(224)\n",
    "plt.errorbar(radio_data['index']['radius'].to_value('kpc'), radio_data['index']['idx'], yerr=radio_data['index']['error'],\n",
    "             marker='o', linestyle='', color='red', label='Data')\n",
    "plt.plot(model_ini_idxrad.to_value('kpc'),  model_ini_idx, color='green', label='Model')\n",
    "plt.plot([radio_data['info']['idx_Rmin'].to_value('kpc'),radio_data['info']['idx_Rmin'].to_value('kpc')], [0,1e6], linestyle='--', color='grey')\n",
    "plt.plot([radio_data['info']['idx_Rmax'].to_value('kpc'),radio_data['info']['idx_Rmax'].to_value('kpc')], [0,1e6], linestyle='--', color='grey')\n",
    "plt.fill_between([0,radio_data['info']['idx_Rmin'].to_value('kpc')], [0,0], [1e6,1e6], color='grey', alpha=0.2, label='Excluded region')\n",
    "plt.fill_between([radio_data['info']['idx_Rmax'].to_value('kpc'), np.inf], [0,0], [1e6,1e6], color='grey', alpha=0.2)\n",
    "plt.xscale('log')\n",
    "plt.yscale('linear')\n",
    "plt.xlabel('Radius (kpc)')\n",
    "plt.ylabel('Spectral index ('+str(radio_data['info']['idx_freq1'].to_value('MHz'))+' - '+str(radio_data['info']['idx_freq2'].to_value('MHz'))+' MHz)')\n",
    "plt.xlim(5,300)\n",
    "plt.ylim(0.5,2.5)\n",
    "plt.legend()\n",
    "plt.grid()"
   ]
  },
  {
   "cell_type": "markdown",
   "metadata": {},
   "source": [
    "# MCMC fit"
   ]
  },
  {
   "cell_type": "code",
   "execution_count": null,
   "metadata": {},
   "outputs": [],
   "source": [
    "#----- Defines log likelihood\n",
    "def lnlike(params, cluster, data):\n",
    "    #--- Priors\n",
    "    cond1 = params[0]>=0  and params[0]<=100  # X\n",
    "    cond2 = params[1]>=-5 and params[1]<=5    # eta_CRp\n",
    "    cond3 = params[2]>=2  and params[2]<=4    # Slope\n",
    "    if cond1 and cond2 and cond3:\n",
    "        \n",
    "        prof_mod, spec_mod, idx_mod = model(params, cluster, data)\n",
    "        \n",
    "        # Profile chi2\n",
    "        wgood = (data['profile']['radius'] > data['info']['prof_Rmin'])*(data['profile']['radius'] < data['info']['prof_Rmax'])\n",
    "        prof_chi2 = ((data['profile']['flux'].to_value('Jy arcmin-2')[wgood] - prof_mod.to_value('Jy arcmin-2')[wgood])**2)/data['profile']['error'].to_value('Jy arcmin-2')[wgood]**2\n",
    "\n",
    "        # Spectrum chi2\n",
    "        spec_chi2 = ((data['spectrum']['flux'].to_value('Jy') - spec_mod.to_value('Jy'))**2)/data['spectrum']['error'].to_value('Jy')**2\n",
    "\n",
    "        # Spectral index chi2\n",
    "        wgood = (data['index']['radius'] > data['info']['idx_Rmin'])*(data['index']['radius'] < data['info']['idx_Rmax'])\n",
    "        idx_chi2 = ((data['index']['idx'][wgood] - idx_mod[wgood])**2)/data['index']['error'][wgood]**2\n",
    "        \n",
    "        # Chi2 tot\n",
    "        chi2_tot = -0.5*np.nansum(prof_chi2) - 0.5*np.nansum(spec_chi2)\n",
    "        if fit_index: \n",
    "            chi2_tot = chi2_tot - 0.5*np.nansum(idx_chi2)\n",
    "        \n",
    "        return chi2_tot\n",
    "    else:\n",
    "        #print('Prior conditions are ', cond1, cond2, cond3, cond4)\n",
    "        return -np.inf"
   ]
  },
  {
   "cell_type": "code",
   "execution_count": null,
   "metadata": {},
   "outputs": [],
   "source": [
    "#----- Defines model\n",
    "def model(params, cluster, data):\n",
    "    #--- Extract parameters\n",
    "    CR_X_E   = params[0]*1e-2\n",
    "    CR_eta   = params[1]\n",
    "    CR_slope = params[2]\n",
    "    \n",
    "    #--- Set parameters\n",
    "    cluster = perseus_model_library.set_pure_hadronic_model(cluster, ('density', CR_eta), CR_X_E, CR_slope)\n",
    "    \n",
    "    #--- Profile\n",
    "    r_synch, p_synch = cluster.get_synchrotron_profile(data['profile']['radius'], freq0=data['info']['prof_freq'])\n",
    "    \n",
    "    #--- Spectrum\n",
    "    sfreq_bis = np.append(np.array([1]), data['spectrum']['freq'].to_value('MHz'))*u.MHz\n",
    "    s_synch = cluster.get_synchrotron_spectrum(sfreq_bis, \n",
    "                                               Rmin=data['info']['spec_Rmin'], Rmax=data['info']['spec_Rmax'], \n",
    "                                               type_integral='cylindrical')[1]\n",
    "    s_synch = s_synch[1:]\n",
    "    \n",
    "    #--- Spectral index\n",
    "    p_synch1 = cluster.get_synchrotron_profile(data['index']['radius'], freq0=data['info']['idx_freq1'])[1]\n",
    "    p_synch2 = cluster.get_synchrotron_profile(data['index']['radius'], freq0=data['info']['idx_freq2'])[1]\n",
    "    i_synch  = -np.log10((p_synch1/p_synch2).to_value('')) / np.log10((data['info']['idx_freq1']/data['info']['idx_freq2']).to_value(''))\n",
    "    \n",
    "    return p_synch, s_synch, i_synch"
   ]
  },
  {
   "cell_type": "code",
   "execution_count": null,
   "metadata": {},
   "outputs": [],
   "source": [
    "#----- Define the MCMC\n",
    "par0 = np.array([0.3, 2.0, 2.5])\n",
    "\n",
    "param_name = [r'$X_{CRp}$(%)', r'$\\eta_{CRp}$', r'$\\alpha_{CRp}$']\n",
    "ndim, nwalkers, nsteps, burnin = len(par0), 50, mcmc_nsteps, mcmc_burnin\n",
    "pos = [par0 + par0*1e-1*np.random.randn(ndim) for i in range(nwalkers)]"
   ]
  },
  {
   "cell_type": "code",
   "execution_count": null,
   "metadata": {},
   "outputs": [],
   "source": [
    "#----- Define the MCMC\n",
    "sampler = emcee.EnsembleSampler(nwalkers, ndim, lnlike, args=[cluster, radio_data],\n",
    "                                pool=Pool(cpu_count()))\n",
    "\n",
    "#----- Restart from where it is or reset\n",
    "sampler.reset()\n",
    "\n",
    "#----- Rune the MCMC\n",
    "res = sampler.run_mcmc(pos, nsteps, progress=True)"
   ]
  },
  {
   "cell_type": "code",
   "execution_count": null,
   "metadata": {},
   "outputs": [],
   "source": [
    "#----- Save sampler\n",
    "with open(cluster.output_dir+'/Hadronic_sampler.pkl', 'wb') as output:\n",
    "    pickle.dump(sampler, output, pickle.HIGHEST_PROTOCOL)"
   ]
  },
  {
   "cell_type": "code",
   "execution_count": null,
   "metadata": {},
   "outputs": [],
   "source": [
    "#----- Burn in\n",
    "param_chains = sampler.chain[:, burnin:, :]\n",
    "lnL_chains = sampler.lnprobability[:, burnin:]"
   ]
  },
  {
   "cell_type": "code",
   "execution_count": null,
   "metadata": {},
   "outputs": [],
   "source": [
    "#----- Get the best fit parameters\n",
    "wbest = (lnL_chains == np.amax(lnL_chains))\n",
    "param_best = []\n",
    "for i in range(ndim):\n",
    "    param_best.append(((param_chains[:,:,i])[wbest])[0])"
   ]
  },
  {
   "cell_type": "code",
   "execution_count": null,
   "metadata": {},
   "outputs": [],
   "source": [
    "#----- MC parameters\n",
    "param_flat = param_chains.reshape(param_chains.shape[0]*param_chains.shape[1],param_chains.shape[2])\n",
    "Nsample = len(param_flat[:,0])-1\n",
    "param_MC = np.zeros((Nmc, ndim))\n",
    "for i in range(Nmc):\n",
    "    param_MC[i,:] = param_flat[np.random.randint(0, high=Nsample), :] # randomly taken from chains"
   ]
  },
  {
   "cell_type": "markdown",
   "metadata": {},
   "source": [
    "# Result"
   ]
  },
  {
   "cell_type": "markdown",
   "metadata": {},
   "source": [
    "### Chains"
   ]
  },
  {
   "cell_type": "code",
   "execution_count": null,
   "metadata": {},
   "outputs": [],
   "source": [
    "for i in range(ndim):\n",
    "    plt.figure(i)\n",
    "    plt.plot((param_chains[:,:,i]).flatten())\n",
    "    plt.xlabel('Step number')\n",
    "    plt.ylabel(param_name[i])"
   ]
  },
  {
   "cell_type": "markdown",
   "metadata": {},
   "source": [
    "### Parameters"
   ]
  },
  {
   "cell_type": "code",
   "execution_count": null,
   "metadata": {},
   "outputs": [],
   "source": [
    "print(param_best)"
   ]
  },
  {
   "cell_type": "code",
   "execution_count": null,
   "metadata": {},
   "outputs": [],
   "source": [
    "#----- Parameter space\n",
    "par_flat = param_chains.reshape(param_chains.shape[0]*param_chains.shape[1], param_chains.shape[2])\n",
    "fig = corner.corner(par_flat, bins=50, color='k', smooth=2, \n",
    "                    labels=param_name, quantiles=(0.16, 0.84), use_math_text=True)\n",
    "fig.savefig(cluster.output_dir+'/Hadronic_triangle_corner.pdf')"
   ]
  },
  {
   "cell_type": "code",
   "execution_count": null,
   "metadata": {},
   "outputs": [],
   "source": [
    "df = pd.DataFrame(par_flat, columns=param_name)\n",
    "seaborn_corner(df, n_levels=30, cols=[('royalblue', 'k', 'grey', 'Blues')], \n",
    "               ci2d=[0.68, 0.95], gridsize=100, zoom=0.1,\n",
    "               linewidth=2.0, alpha=(0.3, 0.3, 1.0), figsize=(9,9))"
   ]
  },
  {
   "cell_type": "markdown",
   "metadata": {},
   "source": [
    "### Data versus best-fit"
   ]
  },
  {
   "cell_type": "code",
   "execution_count": null,
   "metadata": {},
   "outputs": [],
   "source": [
    "# Best-fit\n",
    "prof_best, spec_best, idx_best = model(param_best, cluster, radio_data)"
   ]
  },
  {
   "cell_type": "code",
   "execution_count": null,
   "metadata": {},
   "outputs": [],
   "source": [
    "# MC sampling\n",
    "prof_mc = []\n",
    "spec_mc = []\n",
    "idx_mc  = []\n",
    "\n",
    "for imc in range(Nmc):\n",
    "    prof_mci, spec_mci, idx_mci = model(param_MC[imc,:], cluster, radio_data)\n",
    "    prof_mc.append(prof_mci)\n",
    "    spec_mc.append(spec_mci)\n",
    "    idx_mc.append(idx_mci)"
   ]
  },
  {
   "cell_type": "code",
   "execution_count": null,
   "metadata": {},
   "outputs": [],
   "source": [
    "# Limits\n",
    "prof_u = np.percentile(np.array(prof_mc), 100-(100-68)/2.0, axis=0)*prof_mc[0].unit\n",
    "prof_d = np.percentile(np.array(prof_mc), (100-68)/2.0, axis=0)*prof_mc[0].unit\n",
    "\n",
    "spec_u = np.percentile(np.array(spec_mc), 100-(100-68)/2.0, axis=0)*spec_mc[0].unit\n",
    "spec_d = np.percentile(np.array(spec_mc), (100-68)/2.0, axis=0)*spec_mc[0].unit\n",
    "\n",
    "idx_u = np.percentile(np.array(idx_mc), 100-(100-68)/2.0, axis=0)\n",
    "idx_d = np.percentile(np.array(idx_mc), (100-68)/2.0, axis=0)"
   ]
  },
  {
   "cell_type": "code",
   "execution_count": null,
   "metadata": {},
   "outputs": [],
   "source": [
    "fig = plt.figure(0, figsize=(18, 16))\n",
    "\n",
    "#----- Spectrum\n",
    "ax = plt.subplot(221)\n",
    "# MC\n",
    "for imc in range(Nmc):\n",
    "    plt.plot(radio_data['spectrum']['freq'].to_value('MHz'), spec_mc[imc].to_value('Jy'), color='blue', alpha=0.05)\n",
    "\n",
    "# Limits\n",
    "plt.plot(radio_data['spectrum']['freq'].to_value('MHz'), spec_u.to_value('Jy'), color='blue', linewidth=2, linestyle='--', label='68% C.L.')\n",
    "plt.plot(radio_data['spectrum']['freq'].to_value('MHz'), spec_d.to_value('Jy'), color='blue', linewidth=2, linestyle='--')\n",
    "plt.fill_between(radio_data['spectrum']['freq'].to_value('MHz'), spec_d.to_value('Jy'), spec_u.to_value('Jy'), color='blue', alpha=0.2)\n",
    "\n",
    "# Best fit and data\n",
    "plt.plot(radio_data['spectrum']['freq'].to_value('MHz'), spec_best.to_value('Jy'), color='blue', linewidth=3, label='Best-fit')\n",
    "plt.errorbar(radio_data['spectrum']['freq'].to_value('MHz'), radio_data['spectrum']['flux'].to_value('Jy'), radio_data['spectrum']['error'].to_value('Jy'),\n",
    "            marker='o', color='red', linestyle='', label='Data')\n",
    "\n",
    "plt.xscale('log')\n",
    "plt.yscale('log')\n",
    "plt.xlabel('frequency (MHz)')\n",
    "plt.ylabel('flux (Jy)')\n",
    "plt.legend()\n",
    "plt.grid()\n",
    "\n",
    "#----- Profile\n",
    "ax = plt.subplot(222)\n",
    "# MC\n",
    "for imc in range(Nmc):\n",
    "    plt.plot(radio_data['profile']['radius'].to_value('kpc'), prof_mc[imc].to_value('Jy arcmin-2'), color='blue', alpha=0.05)\n",
    "\n",
    "# Limits    \n",
    "plt.plot(radio_data['profile']['radius'].to_value('kpc'), prof_u.to_value('Jy arcmin-2'), color='blue', linewidth=2, linestyle='--', label='68% C.L.')\n",
    "plt.plot(radio_data['profile']['radius'].to_value('kpc'), prof_d.to_value('Jy arcmin-2'), color='blue', linewidth=2, linestyle='--')\n",
    "plt.fill_between(radio_data['profile']['radius'].to_value('kpc'), prof_d.to_value('Jy arcmin-2'), prof_u.to_value('Jy arcmin-2'), color='blue', alpha=0.2)\n",
    "\n",
    "\n",
    "# Best and data\n",
    "plt.plot(radio_data['profile']['radius'].to_value('kpc'), prof_best.to_value('Jy arcmin-2'), color='blue', linewidth=3, label='Best-fit')\n",
    "plt.errorbar(radio_data['profile']['radius'].to_value('kpc'), radio_data['profile']['flux'].to_value('Jy arcmin-2'), \n",
    "             yerr=radio_data['profile']['error'].to_value('Jy arcmin-2'),\n",
    "             marker='o', linestyle='', color='red', label='Data')\n",
    "\n",
    "plt.plot([radio_data['info']['prof_Rmin'].to_value('kpc'),radio_data['info']['prof_Rmin'].to_value('kpc')], [0,1e6], linestyle='--', color='grey')\n",
    "plt.plot([radio_data['info']['prof_Rmax'].to_value('kpc'),radio_data['info']['prof_Rmax'].to_value('kpc')], [0,1e6], linestyle='--', color='grey')\n",
    "plt.fill_between([0,radio_data['info']['prof_Rmin'].to_value('kpc')], [0,0], [1e6,1e6], color='grey', alpha=0.2, label='Excluded region')\n",
    "plt.fill_between([radio_data['info']['prof_Rmax'].to_value('kpc'), np.inf], [0,0], [1e6,1e6], color='grey', alpha=0.2)\n",
    "plt.xscale('log')\n",
    "plt.yscale('log')\n",
    "plt.xlabel('radius (kpc)')\n",
    "plt.ylabel('surface brightness (Jy/arcmin$^2$)')\n",
    "plt.xlim(10,250)\n",
    "plt.ylim(1e-3,1e1)\n",
    "plt.legend()\n",
    "plt.grid()\n",
    "\n",
    "#----- Spectral index\n",
    "ax = plt.subplot(224)\n",
    "# MC\n",
    "for imc in range(Nmc):\n",
    "    plt.plot(radio_data['index']['radius'].to_value('kpc'), idx_mc[imc], color='blue', alpha=0.05)\n",
    "\n",
    "# Limits\n",
    "plt.plot(radio_data['index']['radius'].to_value('kpc'), idx_u, color='blue', linewidth=2, linestyle='--', label='68% C.L.')\n",
    "plt.plot(radio_data['index']['radius'].to_value('kpc'), idx_d, color='blue', linewidth=2, linestyle='--')\n",
    "plt.fill_between(radio_data['index']['radius'].to_value('kpc'), idx_d, idx_u, color='blue', alpha=0.2)\n",
    "\n",
    "# Best and data    \n",
    "plt.plot(radio_data['index']['radius'].to_value('kpc'), idx_best, color='blue', linewidth=3, label='Best-fit')\n",
    "plt.errorbar(radio_data['index']['radius'].to_value('kpc'), radio_data['index']['idx'], yerr=radio_data['index']['error'],\n",
    "             marker='o', linestyle='', color='red', label='Data')\n",
    "\n",
    "plt.plot([radio_data['info']['idx_Rmin'].to_value('kpc'),radio_data['info']['idx_Rmin'].to_value('kpc')], [0,1e6], linestyle='--', color='grey')\n",
    "plt.plot([radio_data['info']['idx_Rmax'].to_value('kpc'),radio_data['info']['idx_Rmax'].to_value('kpc')], [0,1e6], linestyle='--', color='grey')\n",
    "plt.fill_between([0,radio_data['info']['idx_Rmin'].to_value('kpc')], [0,0], [1e6,1e6], color='grey', alpha=0.1, label='Excluded region')\n",
    "plt.fill_between([radio_data['info']['idx_Rmax'].to_value('kpc'), np.inf], [0,0], [1e6,1e6], color='grey', alpha=0.1)\n",
    "plt.xscale('log')\n",
    "plt.yscale('linear')\n",
    "plt.xlabel('radius (kpc)')\n",
    "plt.ylabel('spectral index')\n",
    "plt.xlim(10,250)\n",
    "plt.ylim(0.5,2.5)\n",
    "plt.legend()\n",
    "plt.grid()"
   ]
  },
  {
   "cell_type": "code",
   "execution_count": null,
   "metadata": {},
   "outputs": [],
   "source": [
    "#----- Spectrum\n",
    "fig = plt.figure(0, figsize=(8, 6))\n",
    "# MC\n",
    "for imc in range(Nmc):\n",
    "    plt.plot(radio_data['spectrum']['freq'].to_value('MHz'), spec_mc[imc].to_value('Jy'), color='blue', alpha=0.05)\n",
    "\n",
    "# Limits\n",
    "plt.plot(radio_data['spectrum']['freq'].to_value('MHz'), spec_u.to_value('Jy'), color='blue', linewidth=2, linestyle='--', label='68% C.L.')\n",
    "plt.plot(radio_data['spectrum']['freq'].to_value('MHz'), spec_d.to_value('Jy'), color='blue', linewidth=2, linestyle='--')\n",
    "plt.fill_between(radio_data['spectrum']['freq'].to_value('MHz'), spec_d.to_value('Jy'), spec_u.to_value('Jy'), color='blue', alpha=0.2)\n",
    "\n",
    "# Best fit and data\n",
    "plt.plot(radio_data['spectrum']['freq'].to_value('MHz'), spec_best.to_value('Jy'), color='blue', linewidth=3, label='Best-fit')\n",
    "plt.errorbar(radio_data['spectrum']['freq'].to_value('MHz'), radio_data['spectrum']['flux'].to_value('Jy'), radio_data['spectrum']['error'].to_value('Jy'),\n",
    "            marker='o', color='red', linestyle='', label='Data')\n",
    "\n",
    "plt.xscale('log')\n",
    "plt.yscale('log')\n",
    "plt.xlabel('frequency (MHz)')\n",
    "plt.ylabel('flux (Jy)')\n",
    "plt.legend()\n",
    "plt.savefig(cluster.output_dir+'/Haronic_Radio_spectrum.pdf')\n",
    "plt.close()\n",
    "\n",
    "#----- Profile\n",
    "fig = plt.figure(0, figsize=(8, 6))\n",
    "# MC\n",
    "for imc in range(Nmc):\n",
    "    plt.plot(radio_data['profile']['radius'].to_value('kpc'), prof_mc[imc].to_value('Jy arcmin-2'), color='blue', alpha=0.05)\n",
    "\n",
    "# Limits    \n",
    "plt.plot(radio_data['profile']['radius'].to_value('kpc'), prof_u.to_value('Jy arcmin-2'), color='blue', linewidth=2, linestyle='--', label='68% C.L.')\n",
    "plt.plot(radio_data['profile']['radius'].to_value('kpc'), prof_d.to_value('Jy arcmin-2'), color='blue', linewidth=2, linestyle='--')\n",
    "plt.fill_between(radio_data['profile']['radius'].to_value('kpc'), prof_d.to_value('Jy arcmin-2'), prof_u.to_value('Jy arcmin-2'), color='blue', alpha=0.2)\n",
    "\n",
    "\n",
    "# Best and data\n",
    "plt.plot(radio_data['profile']['radius'].to_value('kpc'), prof_best.to_value('Jy arcmin-2'), color='blue', linewidth=3, label='Best-fit')\n",
    "plt.errorbar(radio_data['profile']['radius'].to_value('kpc'), radio_data['profile']['flux'].to_value('Jy arcmin-2'), \n",
    "             yerr=radio_data['profile']['error'].to_value('Jy arcmin-2'),\n",
    "             marker='o', linestyle='', color='red', label='Data')\n",
    "\n",
    "plt.plot([radio_data['info']['prof_Rmin'].to_value('kpc'),radio_data['info']['prof_Rmin'].to_value('kpc')], [0,1e6], linestyle='--', color='grey')\n",
    "plt.plot([radio_data['info']['prof_Rmax'].to_value('kpc'),radio_data['info']['prof_Rmax'].to_value('kpc')], [0,1e6], linestyle='--', color='grey')\n",
    "plt.fill_between([0,radio_data['info']['prof_Rmin'].to_value('kpc')], [0,0], [1e6,1e6], color='grey', alpha=0.2, label='Excluded region')\n",
    "plt.fill_between([radio_data['info']['prof_Rmax'].to_value('kpc'), np.inf], [0,0], [1e6,1e6], color='grey', alpha=0.2)\n",
    "plt.xscale('log')\n",
    "plt.yscale('log')\n",
    "plt.xlabel('radius (kpc)')\n",
    "plt.ylabel('surface brightness (Jy/arcmin$^2$)')\n",
    "plt.xlim(10,250)\n",
    "plt.ylim(1e-3,1e1)\n",
    "plt.savefig(cluster.output_dir+'/Haronic_Radio_profile.pdf')\n",
    "plt.close()\n",
    "\n",
    "#----- Spectral index\n",
    "fig = plt.figure(0, figsize=(8, 6))\n",
    "# MC\n",
    "for imc in range(Nmc):\n",
    "    plt.plot(radio_data['index']['radius'].to_value('kpc'), idx_mc[imc], color='blue', alpha=0.05)\n",
    "\n",
    "# Limits\n",
    "plt.plot(radio_data['index']['radius'].to_value('kpc'), idx_u, color='blue', linewidth=2, linestyle='--', label='68% C.L.')\n",
    "plt.plot(radio_data['index']['radius'].to_value('kpc'), idx_d, color='blue', linewidth=2, linestyle='--')\n",
    "plt.fill_between(radio_data['index']['radius'].to_value('kpc'), idx_d, idx_u, color='blue', alpha=0.2)\n",
    "\n",
    "# Best and data    \n",
    "plt.plot(radio_data['index']['radius'].to_value('kpc'), idx_best, color='blue', linewidth=3, label='Best-fit')\n",
    "plt.errorbar(radio_data['index']['radius'].to_value('kpc'), radio_data['index']['idx'], yerr=radio_data['index']['error'],\n",
    "             marker='o', linestyle='', color='red', label='Data')\n",
    "\n",
    "plt.plot([radio_data['info']['idx_Rmin'].to_value('kpc'),radio_data['info']['idx_Rmin'].to_value('kpc')], [0,1e6], linestyle='--', color='grey')\n",
    "plt.plot([radio_data['info']['idx_Rmax'].to_value('kpc'),radio_data['info']['idx_Rmax'].to_value('kpc')], [0,1e6], linestyle='--', color='grey')\n",
    "plt.fill_between([0,radio_data['info']['idx_Rmin'].to_value('kpc')], [0,0], [1e6,1e6], color='grey', alpha=0.1, label='Excluded region')\n",
    "plt.fill_between([radio_data['info']['idx_Rmax'].to_value('kpc'), np.inf], [0,0], [1e6,1e6], color='grey', alpha=0.1)\n",
    "plt.xscale('log')\n",
    "plt.yscale('linear')\n",
    "plt.xlabel('radius (kpc)')\n",
    "plt.ylabel('spectral index')\n",
    "plt.xlim(10,250)\n",
    "plt.ylim(0.5,2.5)\n",
    "plt.savefig(cluster.output_dir+'/Haronic_Radio_index.pdf')\n",
    "plt.close()"
   ]
  },
  {
   "cell_type": "markdown",
   "metadata": {},
   "source": [
    "# Implications for the gamma-rays"
   ]
  },
  {
   "cell_type": "code",
   "execution_count": null,
   "metadata": {},
   "outputs": [],
   "source": [
    "energy = np.logspace(-2,6,100)*u.GeV\n",
    "radius = np.logspace(0,4,100)*u.kpc"
   ]
  },
  {
   "cell_type": "code",
   "execution_count": null,
   "metadata": {},
   "outputs": [],
   "source": [
    "# Best-fit\n",
    "cluster = perseus_model_library.set_pure_hadronic_model(cluster, ('density', param_best[1]), param_best[0]*1e-2, param_best[2])\n",
    "    \n",
    "#----- Hadronic\n",
    "E, dN_dEdSdt = cluster.get_gamma_spectrum(energy, \n",
    "                                          Rmin=None, Rmax=cluster.R500,\n",
    "                                          type_integral='cylindrical',\n",
    "                                          Rmin_los=None, NR500_los=5.0)\n",
    "\n",
    "r, dN_dSdtdO = cluster.get_gamma_profile(radius, \n",
    "                                         Emin=50*u.GeV, Emax=100*u.TeV, \n",
    "                                         Energy_density=False, Rmin_los=None, NR500_los=5.0)\n",
    "\n",
    "#----- Inverse Compton\n",
    "E, dNIC_dEdSdt = cluster.get_ic_spectrum(energy, \n",
    "                                         Rmin=None, Rmax=cluster.R500,\n",
    "                                         type_integral='cylindrical',\n",
    "                                         Rmin_los=None, NR500_los=5.0)\n",
    "\n",
    "r, dNIC_dSdtdO = cluster.get_ic_profile(radius, \n",
    "                                        Emin=50*u.GeV, Emax=100*u.TeV, \n",
    "                                        Energy_density=False, Rmin_los=None, NR500_los=5.0)"
   ]
  },
  {
   "cell_type": "code",
   "execution_count": null,
   "metadata": {},
   "outputs": [],
   "source": [
    "# Monte Carlo sampling: hadronic\n",
    "prof_g_mc = []\n",
    "spec_g_mc = []\n",
    "\n",
    "for imc in range(Nmc):\n",
    "    cluster = perseus_model_library.set_pure_hadronic_model(cluster, ('density', param_MC[imc,1]), \n",
    "                                                           param_MC[imc,0]*1e-2, param_MC[imc,2])\n",
    "\n",
    "    spec_g_mci = cluster.get_gamma_spectrum(energy, Rmin=None, Rmax=cluster.R500,\n",
    "                                            type_integral='cylindrical',\n",
    "                                            Rmin_los=None, NR500_los=5.0)[1]\n",
    "\n",
    "    prof_g_mci = cluster.get_gamma_profile(radius, Emin=50*u.GeV, Emax=100*u.TeV, \n",
    "                                           Energy_density=False, Rmin_los=None, NR500_los=5.0)[1]\n",
    "    prof_g_mc.append(prof_g_mci)\n",
    "    spec_g_mc.append(spec_g_mci)"
   ]
  },
  {
   "cell_type": "code",
   "execution_count": null,
   "metadata": {},
   "outputs": [],
   "source": [
    "# Limits: hadronic\n",
    "dN_dEdSdt_u = np.percentile(np.array(spec_g_mc), 100-(100-68)/2.0, axis=0)*spec_g_mc[0].unit\n",
    "dN_dEdSdt_d = np.percentile(np.array(spec_g_mc), (100-68)/2.0, axis=0)*spec_g_mc[0].unit\n",
    "\n",
    "dN_dSdtdO_u = np.percentile(np.array(prof_g_mc), 100-(100-68)/2.0, axis=0)*prof_g_mc[0].unit\n",
    "dN_dSdtdO_d = np.percentile(np.array(prof_g_mc), (100-68)/2.0, axis=0)*prof_g_mc[0].unit"
   ]
  },
  {
   "cell_type": "code",
   "execution_count": null,
   "metadata": {},
   "outputs": [],
   "source": [
    "# Monte Carlo sampling: IC\n",
    "prof_ic_mc = []\n",
    "spec_ic_mc = []\n",
    "\n",
    "for imc in range(Nmc):\n",
    "    cluster = perseus_model_library.set_pure_hadronic_model(cluster, ('density', param_MC[imc,1]), \n",
    "                                                           param_MC[imc,0]*1e-2, param_MC[imc,2])\n",
    "\n",
    "    spec_ic_mci = cluster.get_ic_spectrum(energy, Rmin=None, Rmax=cluster.R500,\n",
    "                                          type_integral='cylindrical',\n",
    "                                          Rmin_los=None, NR500_los=5.0)[1]\n",
    "\n",
    "    prof_ic_mci = cluster.get_ic_profile(radius, Emin=50*u.GeV, Emax=100*u.TeV, \n",
    "                                         Energy_density=False, Rmin_los=None, NR500_los=5.0)[1]\n",
    "    prof_ic_mc.append(prof_ic_mci)\n",
    "    spec_ic_mc.append(spec_ic_mci)"
   ]
  },
  {
   "cell_type": "code",
   "execution_count": null,
   "metadata": {},
   "outputs": [],
   "source": [
    "# Limits: IC\n",
    "dNIC_dEdSdt_u = np.percentile(np.array(spec_ic_mc), 100-(100-68)/2.0, axis=0)*spec_ic_mc[0].unit\n",
    "dNIC_dEdSdt_d = np.percentile(np.array(spec_ic_mc), (100-68)/2.0, axis=0)*spec_ic_mc[0].unit\n",
    "\n",
    "dNIC_dSdtdO_u = np.percentile(np.array(prof_ic_mc), 100-(100-68)/2.0, axis=0)*prof_ic_mc[0].unit\n",
    "dNIC_dSdtdO_d = np.percentile(np.array(prof_ic_mc), (100-68)/2.0, axis=0)*prof_ic_mc[0].unit"
   ]
  },
  {
   "cell_type": "code",
   "execution_count": null,
   "metadata": {},
   "outputs": [],
   "source": [
    "#----- Spectrum\n",
    "fig = plt.figure(0, figsize=(8, 6))\n",
    "# MC\n",
    "for imc in range(Nmc):\n",
    "    if imc == 0:\n",
    "        plt.plot(E.to_value('GeV'), (E**2*spec_g_mc[imc]).to_value('MeV cm-2 s-1'), color='blue', alpha=0.05, label='Monte Carlo')\n",
    "    else:\n",
    "        plt.plot(E.to_value('GeV'), (E**2*spec_g_mc[imc]).to_value('MeV cm-2 s-1'), color='blue', alpha=0.05)\n",
    "for imc in range(Nmc):\n",
    "    plt.plot(E.to_value('GeV'), (E**2*spec_ic_mc[imc]).to_value('MeV cm-2 s-1'), color='grey', alpha=0.05)\n",
    "\n",
    "# Limits\n",
    "plt.plot(E.to_value('GeV'), (E**2*dN_dEdSdt_u).to_value('MeV cm-2 s-1'), color='blue', linewidth=2, linestyle='--', label='68% C.L.')\n",
    "plt.plot(E.to_value('GeV'), (E**2*dN_dEdSdt_d).to_value('MeV cm-2 s-1'), color='blue', linewidth=2, linestyle='--')\n",
    "plt.fill_between(E.to_value('GeV'), (E**2*dN_dEdSdt_u).to_value('MeV cm-2 s-1'), (E**2*dN_dEdSdt_d).to_value('MeV cm-2 s-1'), color='blue', alpha=0.2)\n",
    "\n",
    "plt.plot(E.to_value('GeV'), (E**2*dNIC_dEdSdt_u).to_value('MeV cm-2 s-1'), color='k', linewidth=2, linestyle='--')\n",
    "plt.plot(E.to_value('GeV'), (E**2*dNIC_dEdSdt_d).to_value('MeV cm-2 s-1'), color='k', linewidth=2, linestyle='--')\n",
    "plt.fill_between(E.to_value('GeV'), (E**2*dNIC_dEdSdt_u).to_value('MeV cm-2 s-1'), (E**2*dNIC_dEdSdt_d).to_value('MeV cm-2 s-1'), color='k', alpha=0.2)\n",
    "\n",
    "# Best fit\n",
    "plt.plot(E.to_value('GeV'), (E**2*dN_dEdSdt).to_value('MeV cm-2 s-1'), color='blue', linewidth=3, label='Best-fit model (Hadronic)')\n",
    "plt.plot(E.to_value('GeV'), (E**2*dNIC_dEdSdt).to_value('MeV cm-2 s-1'), color='k', linewidth=3, linestyle='-',label='Best-fit model (IC)')\n",
    "\n",
    "plt.fill_between([30, 100e3], [0,0], [1e6,1e6], color='red', alpha=0.1, label='CTA energy range')\n",
    "plt.xscale('log')\n",
    "plt.yscale('log')\n",
    "plt.xlabel('Energy (GeV)')\n",
    "plt.ylabel(r'$\\frac{E^2 dN}{dEdSdt}$ (MeV cm$^{-2}$ s$^{-1}$)')\n",
    "plt.xlim(1e-2, 2e5)\n",
    "plt.ylim(1e-10, 5e-6)\n",
    "plt.legend(fontsize=14)\n",
    "plt.savefig(cluster.output_dir+'/Haronic_Gamma_spectrum.pdf')"
   ]
  },
  {
   "cell_type": "code",
   "execution_count": null,
   "metadata": {},
   "outputs": [],
   "source": [
    "#----- Profile\n",
    "fig = plt.figure(0, figsize=(8, 6))\n",
    "# MC\n",
    "for imc in range(Nmc):\n",
    "    if imc == 0:\n",
    "        plt.plot(r.to_value('kpc'), (prof_g_mc[imc]).to_value('cm-2 s-1 deg-2'), color='blue', alpha=0.05, label='Monte Carlo')\n",
    "    else:\n",
    "        plt.plot(r.to_value('kpc'), (prof_g_mc[imc]).to_value('cm-2 s-1 deg-2'), color='blue', alpha=0.05)\n",
    "for imc in range(Nmc):\n",
    "    plt.plot(r.to_value('kpc'), (prof_ic_mc[imc]).to_value('cm-2 s-1 deg-2'), color='grey', alpha=0.05)\n",
    "\n",
    "# Limits\n",
    "plt.plot(r.to_value('kpc'), (dN_dSdtdO_u).to_value('cm-2 s-1 deg-2'), color='blue', linewidth=2, linestyle='--', label='68% C.L.')\n",
    "plt.plot(r.to_value('kpc'), (dN_dSdtdO_d).to_value('cm-2 s-1 deg-2'), color='blue', linewidth=2, linestyle='--')\n",
    "plt.fill_between(r.to_value('kpc'), (dN_dSdtdO_u).to_value('cm-2 s-1 deg-2'), (dN_dSdtdO_d).to_value('cm-2 s-1 deg-2'), color='blue', alpha=0.2)\n",
    "  \n",
    "plt.plot(r.to_value('kpc'), (dNIC_dSdtdO_u).to_value('cm-2 s-1 deg-2'), color='k', linewidth=2, linestyle='--')\n",
    "plt.plot(r.to_value('kpc'), (dNIC_dSdtdO_d).to_value('cm-2 s-1 deg-2'), color='k', linewidth=2, linestyle='--')\n",
    "plt.fill_between(r.to_value('kpc'), (dNIC_dSdtdO_u).to_value('cm-2 s-1 deg-2'), (dNIC_dSdtdO_d).to_value('cm-2 s-1 deg-2'), color='k', alpha=0.2)\n",
    "\n",
    "# Best-fit\n",
    "plt.plot(r.to_value('kpc'), (dN_dSdtdO).to_value('cm-2 s-1 deg-2'), color='blue', linewidth=3, label='Best-fit model (Hadronic)')\n",
    "plt.plot(r.to_value('kpc'), (dNIC_dSdtdO).to_value('cm-2 s-1 deg-2'), color='k', linewidth=3, linestyle='-', label='Best-fit model (IC)')\n",
    "\n",
    "plt.vlines((0.05*u.deg*cluster.cosmo.kpc_proper_per_arcmin(cluster.redshift)).to_value('kpc'), 0,1, linestyle=':', color='k', label='CTA PSF (1 TeV)')\n",
    "plt.vlines(cluster.R500.to_value('kpc'), 0,1, linestyle='--', color='k', label='$R_{500}$')\n",
    "plt.xscale('log')\n",
    "plt.yscale('log')\n",
    "plt.xlabel('Radius (kpc)')\n",
    "plt.ylabel(r'$\\frac{dN}{dSdtd\\Omega}$ (cm$^{-2}$ s$^{-1}$ deg$^{-2}$)')\n",
    "plt.xlim(10,5e3)\n",
    "plt.ylim(1e-15,1e-8)\n",
    "plt.legend(fontsize=14)\n",
    "plt.savefig(cluster.output_dir+'/Haronic_Gamma_profile.pdf')"
   ]
  },
  {
   "cell_type": "code",
   "execution_count": null,
   "metadata": {},
   "outputs": [],
   "source": []
  }
 ],
 "metadata": {
  "kernelspec": {
   "display_name": "Python 3",
   "language": "python",
   "name": "python3"
  },
  "language_info": {
   "codemirror_mode": {
    "name": "ipython",
    "version": 3
   },
   "file_extension": ".py",
   "mimetype": "text/x-python",
   "name": "python",
   "nbconvert_exporter": "python",
   "pygments_lexer": "ipython3",
   "version": "3.7.7"
  }
 },
 "nbformat": 4,
 "nbformat_minor": 2
}
