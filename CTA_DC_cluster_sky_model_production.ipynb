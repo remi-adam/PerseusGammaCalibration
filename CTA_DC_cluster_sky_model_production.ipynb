{
 "cells": [
  {
   "cell_type": "raw",
   "metadata": {},
   "source": [
    "This notebook aims at computing a cluster sky model for the CTA data challenge 2022"
   ]
  },
  {
   "cell_type": "markdown",
   "metadata": {},
   "source": [
    "# Imports"
   ]
  },
  {
   "cell_type": "code",
   "execution_count": 1,
   "metadata": {},
   "outputs": [],
   "source": [
    "import os\n",
    "import numpy as np\n",
    "import healpy as hp\n",
    "from astropy.io import fits\n",
    "import astropy.units as u\n",
    "from astropy.cosmology import FlatLambdaCDM\n",
    "from astropy.coordinates import SkyCoord\n",
    "import pandas\n",
    "import gammalib\n",
    "import minot\n",
    "from PerseusGammaCalibration import perseus_model_library\n",
    "cosmo = FlatLambdaCDM(70, 0.3, Ob0=0.0224/0.674**2)"
   ]
  },
  {
   "cell_type": "markdown",
   "metadata": {},
   "source": [
    "# Main parameters "
   ]
  },
  {
   "cell_type": "code",
   "execution_count": 2,
   "metadata": {},
   "outputs": [],
   "source": [
    "Nside = 1024\n",
    "Npt_per_decade = 30  # Set the precision\n",
    "\n",
    "ne_gas_poly = True\n",
    "Fx500_treshold = 1e-3*5e-12 # erg/s/cm2\n",
    "\n",
    "X_crp = 0.01\n",
    "eta_crp = 1.0\n",
    "alpha_crp = 2.4\n",
    "\n",
    "workdir = '/Users/adam/Project/CTA/Phys/Outputs/CTADC2022/'"
   ]
  },
  {
   "cell_type": "markdown",
   "metadata": {},
   "source": [
    "# Input catalog"
   ]
  },
  {
   "cell_type": "markdown",
   "metadata": {},
   "source": [
    "### ACCEPT catalog"
   ]
  },
  {
   "cell_type": "code",
   "execution_count": 3,
   "metadata": {},
   "outputs": [],
   "source": [
    "#---------- Extract Accept info\n",
    "accept = pandas.read_table('/Users/adam/Project/ExternalData/accept_main.tab', sep='\\s+')\n",
    "accept_name = []\n",
    "accept_ra   = []\n",
    "accept_dec  = []\n",
    "accept_z    = []\n",
    "accept_k0   = []\n",
    "for icl in range(1, len(accept)):\n",
    "    accept_coord_icl = SkyCoord(accept['RA'][icl]+accept['Dec'][icl], unit=(u.hourangle, u.deg), frame='icrs')\n",
    "    accept_ra.append(accept_coord_icl.ra.to_value('deg'))\n",
    "    accept_dec.append(accept_coord_icl.dec.to_value('deg'))\n",
    "    accept_z.append(float(accept['z'][icl]))\n",
    "    accept_k0.append(float(accept['K0'][icl]))\n",
    "    accept_name.append(accept['#Name'][icl])\n",
    "accept_name = np.array(accept_name)\n",
    "accept_ra   = np.array(accept_ra)\n",
    "accept_dec  = np.array(accept_dec)\n",
    "accept_z    = np.array(accept_z)\n",
    "accept_k0   = np.array(accept_k0)\n",
    "\n",
    "#---------- Add info for important clusters not in ACCEPT\n",
    "# https://www.aanda.org/articles/aa/pdf/2010/05/aa12377-09.pdf\n",
    "accept_name = np.append(accept_name, 'A2634')\n",
    "accept_ra = np.append(accept_ra, 354.57181275)\n",
    "accept_dec = np.append(accept_dec, 27.02934221)\n",
    "accept_z = np.append(accept_z, 0.031)\n",
    "accept_k0 = np.append(accept_k0, 40.7)\n",
    "\n",
    "# https://www.aanda.org/articles/aa/pdf/2010/05/aa12377-09.pdf\n",
    "accept_name = np.append(accept_name, 'A1367')\n",
    "accept_ra = np.append(accept_ra, 176.12366417)\n",
    "accept_dec = np.append(accept_dec, 19.83883798)\n",
    "accept_z = np.append(accept_z, 0.022)\n",
    "accept_k0 = np.append(accept_k0, 296.5)\n",
    "\n",
    "# https://www.aanda.org/articles/aa/pdf/2010/05/aa12377-09.pdf\n",
    "accept_name = np.append(accept_name, 'A1656')\n",
    "accept_ra = np.append(accept_ra, 194.95038236)\n",
    "accept_dec = np.append(accept_dec, 27.97997795)\n",
    "accept_z = np.append(accept_z, 0.023)\n",
    "accept_k0 = np.append(accept_k0, 364.6) \n",
    "\n",
    "# https://www.aanda.org/articles/aa/pdf/2010/05/aa12377-09.pdf\n",
    "accept_name = np.append(accept_name, 'NGC1399')\n",
    "accept_ra = np.append(accept_ra, 54.6157681)\n",
    "accept_dec = np.append(accept_dec, -35.45277218)\n",
    "accept_z = np.append(accept_z, 0.005)\n",
    "accept_k0 = np.append(accept_k0, 13.6)\n",
    "\n",
    "# No entropy floor seen? https://academic.oup.com/mnras/article/469/2/1476/3738101\n",
    "accept_name = np.append(accept_name, 'Virgo')\n",
    "accept_ra = np.append(accept_ra, 186.63483418)\n",
    "accept_dec = np.append(accept_dec, 12.7233333)\n",
    "accept_z = np.append(accept_z, 0.0036)\n",
    "accept_k0 = np.append(accept_k0, 0)\n",
    "\n",
    "# https://academic.oup.com/mnras/article/326/1/2/1026382\n",
    "accept_name = np.append(accept_name, '3C 129.1')\n",
    "accept_ra = np.append(accept_ra, 72.515)\n",
    "accept_dec = np.append(accept_dec, 45.024)\n",
    "accept_z = np.append(accept_z, 0.022)\n",
    "accept_k0 = np.append(accept_k0, np.nan) \n",
    "\n",
    "# clear CC cluster http://www.aspbooks.org/publications/329/183.pdf\n",
    "accept_name = np.append(accept_name, 'RXC J1324.7-5736')\n",
    "accept_ra = np.append(accept_ra, 201.18)\n",
    "accept_dec = np.append(accept_dec, -57.614)\n",
    "accept_z = np.append(accept_z, 0.019)\n",
    "accept_k0 = np.append(accept_k0, 0)\n",
    "\n",
    "# https://academic.oup.com/pasj/article/64/1/16/1432259 (merging + CC)\n",
    "accept_name = np.append(accept_name, 'A3627')\n",
    "accept_ra = np.append(accept_ra, 243.594)\n",
    "accept_dec = np.append(accept_dec, -60.869)\n",
    "accept_z = np.append(accept_z, 0.0157)\n",
    "accept_k0 = np.append(accept_k0, np.nan) \n",
    "\n",
    "# https://arxiv.org/pdf/astro-ph/9606112.pdf\n",
    "accept_name = np.append(accept_name, 'Triangulum Australis')\n",
    "accept_ra = np.append(accept_ra, 249.567)\n",
    "accept_dec = np.append(accept_dec, -64.347)\n",
    "accept_z = np.append(accept_z, 0.0508)\n",
    "accept_k0 = np.append(accept_k0, 1e4) "
   ]
  },
  {
   "cell_type": "markdown",
   "metadata": {},
   "source": [
    "### MCXC catalog"
   ]
  },
  {
   "cell_type": "code",
   "execution_count": 4,
   "metadata": {},
   "outputs": [],
   "source": [
    "mcxc = fits.open('/Users/adam/Project/ExternalData/Planck/Clusters/MCXC_official.fits')\n",
    "mcxc_data = mcxc[1].data\n",
    "\n",
    "mcxc_ra    = []\n",
    "mcxc_dec   = []\n",
    "mcxc_z     = []\n",
    "mcxc_m     = []\n",
    "mcxc_lx    = []\n",
    "for icl in range(len(mcxc_data)):\n",
    "    mcxc_ra.append(mcxc_data[icl][10])\n",
    "    mcxc_dec.append(mcxc_data[icl][11])\n",
    "    mcxc_z.append(mcxc_data[icl][14])\n",
    "    mcxc_lx.append(mcxc_data[icl][18])\n",
    "    mcxc_m.append(mcxc_data[icl][19])\n",
    "mcxc_ra    = np.array(mcxc_ra)\n",
    "mcxc_dec   = np.array(mcxc_dec)\n",
    "mcxc_z     = np.array(mcxc_z)\n",
    "mcxc_m     = np.array(mcxc_m)\n",
    "mcxc_lx    = np.array(mcxc_lx)"
   ]
  },
  {
   "cell_type": "markdown",
   "metadata": {},
   "source": [
    "### Define the subsample: MCXC threshold on F_X500 (i.e. mainly REFLEX/NORAS/CIZA)"
   ]
  },
  {
   "cell_type": "code",
   "execution_count": 5,
   "metadata": {},
   "outputs": [
    {
     "name": "stdout",
     "output_type": "stream",
     "text": [
      "     WARNING: Nmatch= 0 775.9607418433915 0.03 8.274 0.0396 RXC J0000.1+0816 UGC 12890\n",
      "     WARNING: Nmatch= 0 173.84495156859026 0.103 -2.625 0.0379 RXC J0000.4-0237 \n",
      "     WARNING: Nmatch= 0 384.8083132864423 0.412 -15.681 0.1246 RXC J0001.6-1540 \n",
      "     WARNING: Nmatch= 0 383.17676826210806 0.488 12.073 0.2033 RXC J0001.9+1204 A2692\n",
      "     WARNING: Nmatch= 0 1093.4657736207944 0.799 -6.086 0.232 RXCJ0003.1-0605 A2697\n",
      "     WARNING: Nmatch= 0 764.769846275101 0.961 2.063 0.0924 RXCJ0003.8+0203 A2700\n",
      "     WARNING: Nmatch= 0 640.3574792440453 1.247 11.701 0.0761 RXC J0004.9+1142 UGC 00032\n",
      "     WARNING: Nmatch= 0 985.7104554459352 1.344 16.211 0.1164 RXC J0005.3+1612 A2703\n",
      "     WARNING: Nmatch= 0 1198.1327123091216 1.513 -34.724 0.1147 RXCJ0006.0-3443 A2721\n",
      "     WARNING: Nmatch= 0 670.3318041072558 1.591 10.868 0.1698 RXC J0006.3+1052 ZwCl15\n",
      "     WARNING: Nmatch= 0 763.6681263463976 2.237 41.177 0.1537 ZwCl28 ZwCl28\n",
      "     WARNING: Nmatch= 0 677.5696401200579 2.444 -35.275 0.05 MS0007.2-3532 \n",
      "     WARNING: Nmatch= 0 2108.2605359259815 2.935 32.417 0.1073 RXC J0011.7+3225 A0007\n",
      "     WARNING: Nmatch= 0 994.2870584350469 3.577 -66.077 0.1599 RXCJ0014.3-6604 A2746\n",
      "     WARNING: Nmatch= 0 602.0255711470835 3.583 8.9 0.163 MS0011.7+0837 \n",
      "     WARNING: Nmatch= 0 519.367050166956 3.85 -23.845 0.0645 RXCJ0015.4-2350 A0014\n",
      "     WARNING: Nmatch= 0 298.2517079548367 3.983 16.249 0.083 MS0013.4+1558 \n",
      "     WARNING: Nmatch= 0 537.8626621629074 4.082 -31.365 0.0805 RXC J0016.3-3121 A2751\n",
      "     WARNING: Nmatch= 0 295.5787234605423 4.189 6.774 0.0833 RXC J0016.7+0646 A0016\n",
      "     WARNING: Nmatch= 0 544.0197755571616 4.39 -35.165 0.0968 RXCJ0017.5-3509 A2755\n",
      "     WARNING: Nmatch= 0 652.6297128267505 4.766 -20.438 0.2773 RXC J0019.0-2026 S0026\n",
      "     WARNING: Nmatch= 0 638.3476134201372 4.913 25.291 0.1353 RXC J0019.6+2517 \n",
      "     WARNING: Nmatch= 0 96.86606497358468 5.044 0.092 0.2124 RXC J0020.1+0005 \n",
      "     WARNING: Nmatch= 0 334.6727153992783 5.142 -49.228 0.0711 RXC J0020.5-4913 A2764\n",
      "     WARNING: Nmatch= 0 1388.0445092268822 5.17 28.675 0.094 RXC J0020.6+2840 A0021\n",
      "     WARNING: Nmatch= 0 1334.4311131855775 5.179 -25.71 0.141 RXCJ0020.7-2542 A0022\n",
      "     WARNING: Nmatch= 0 850.0852665122677 5.4 28.051 0.0948 RXC J0021.5+2803 IV Zw 015\n",
      "     WARNING: Nmatch= 0 17.747513192445098 5.514 4.377 0.407 WARP J0022.0+0422 GHO 00190.5+0405\n",
      "     WARNING: Nmatch= 0 19.71722247353845 5.775 4.354 0.453 WARP J0023.1+0421 \n",
      "     WARNING: Nmatch= 0 316.9553539795899 6.015 -17.076 0.189 RXC J0024.0-1704 A2768\n",
      "     WARNING: Nmatch= 0 492.93688656428566 6.133 33.209 0.226 RXC J0024.5+3312 \n",
      "     WARNING: Nmatch= 0 174.53385657262265 6.372 -12.377 0.5843 MACSJ0025.4-1222 \n",
      "     WARNING: Nmatch= 0 1509.3919900379597 6.385 -33.047 0.0491 RXCJ0025.5-3302 S0041\n",
      "     WARNING: Nmatch= 0 26.67868338471631 6.699 5.024 0.2529 WARP J0026.7+0501 GHO 0024+0444\n",
      "     WARNING: Nmatch= 0 896.7341598879063 6.839 -50.251 0.1448 RXCJ0027.3-5015 A2777\n",
      "     WARNING: Nmatch= 0 556.5246934964601 6.957 26.274 0.3668 RXC J0027.8+2616 RXJ0027.6+2616\n",
      "     WARNING: Nmatch= 0 930.4964989142431 7.164 -23.637 0.112 RXCJ0028.6-2338 A0042\n",
      "     WARNING: Nmatch= 0 207.77437705544938 7.256 7.703 0.17 MS0026.4+0725 \n",
      "     WARNING: Nmatch= 0 82.13168968727041 7.461 13.504 0.251 BVH2007 1 \n",
      "     WARNING: Nmatch= 0 71.3570330487034 7.64 26.304 0.5 BVH2007 2 VMF98 1\n",
      "     WARNING: Nmatch= 0 303.04959207807747 7.657 -24.181 0.1382 RXC J0030.6-2410 A0047\n",
      "     WARNING: Nmatch= 0 1533.5192768316044 8.558 -2.075 0.0822 RXC J0034.2-0204 SH518\n",
      "     WARNING: Nmatch= 0 1610.1437331996221 8.65 -2.14 0.0812 RXCJ0034.6-0208 \n",
      "     WARNING: Nmatch= 0 24.443345710109153 8.997 85.221 0.8317 WARP J0035.9+8513 \n",
      "     WARNING: Nmatch= 0 462.96598310044095 9.149 25.744 0.0341 ZwCl193 ZwCl193\n",
      "     WARNING: Nmatch= 0 343.5126606420545 9.363 -28.531 0.105 RXC J0037.4-2831 A2798\n",
      "     WARNING: Nmatch= 0 329.0777534011732 9.9 21.239 0.0619 RXC J0039.6+2114 A0075\n",
      "     WARNING: Nmatch= 0 1402.048433524692 10.002 6.818 0.0395 A76 A0076\n",
      "     WARNING: Nmatch= 0 490.7392710830708 10.027 -56.117 0.0277 RXCJ0040.1-5607 A2806\n",
      "     WARNING: Nmatch= 0 1521.459290873384 10.114 29.559 0.0712 RXC J0040.4+2933 A0077\n",
      "     WARNING: Nmatch= 0 17.927660332469497 10.293 -23.659 0.112 RX J0041.1-2339 VMF98 2\n",
      "     WARNING: Nmatch= 0 765.8662176835965 10.446 21.414 0.1014 RXC J0041.7+2124 A0084\n",
      "     WARNING: Nmatch= 0 2228.5382037247655 10.536 -28.536 0.1082 RXCJ0042.1-2832 A2811\n",
      "     WARNING: Nmatch= 0 2435.389532044371 10.967 24.402 0.083 ZwCl235 ZwCl235\n",
      "     WARNING: Nmatch= 0 90.73592771386208 11.328 -29.401 0.257 BVH2007 3 \n",
      "     WARNING: Nmatch= 0 125.9153139239759 11.438 -25.262 0.112 MS0043.3-2531 \n",
      "     WARNING: Nmatch= 0 52.03904969767311 11.581 85.516 0.6241 WARP J0046.3+8530 \n",
      "     WARNING: Nmatch= 0 592.0396144198436 12.158 -21.247 0.0581 RXC J0048.6-2114 A2824\n",
      "     WARNING: Nmatch= 0 1026.6976295410136 12.35 -29.524 0.1084 RXCJ0049.4-2931 S0084\n",
      "     WARNING: Nmatch= 0 1281.0359855344818 12.452 24.441 0.0815 A104 A0104\n",
      "     WARNING: Nmatch= 0 91.91255308724264 12.747 -9.487 0.199 BVH2007 4 VMF98 3\n",
      "     WARNING: Nmatch= 0 472.83314168252986 12.797 -48.56 0.1873 RXC J0051.1-4833 A2830\n",
      "     WARNING: Nmatch= 0 403.7706541288141 12.83 -28.519 0.1125 RXC J0051.3-2831 A2829\n",
      "     WARNING: Nmatch= 0 2576.8075377417804 13.187 -80.266 0.1141 RXCJ0052.7-8015 A2837\n",
      "     WARNING: Nmatch= 0 25.66918413074916 13.512 -28.399 0.292 RX J0054.0-2823 VMF98 4\n",
      "     WARNING: Nmatch= 0 439.207956974285 14.015 -37.545 0.163 BVH2007 5 Cl0053\n",
      "     WARNING: Nmatch= 0 48.70738487336554 14.229 -22.231 0.116 BVH2007 6 VMF98 5\n",
      "     WARNING: Nmatch= 0 18.33576486105226 14.234 -27.67 0.563 RX J0056.9-2740 VMF98 6,J1888.16\n",
      "     WARNING: Nmatch= 0 507.5511025325091 14.353 -26.281 0.113 BVH2007 7 VMF98 7, A0122\n",
      "     WARNING: Nmatch= 0 17.222116773213052 14.373 30.214 0.123 WARP J0057.4+3012 \n",
      "     WARNING: Nmatch= 0 1306.6772527452038 14.45 -66.812 0.0661 RXCJ0057.8-6648 S0112\n",
      "     WARNING: Nmatch= 0 314.63637095065184 14.618 -14.427 0.0957 RXC J0058.4-1425 A0123\n",
      "     WARNING: Nmatch= 0 732.3714047507727 14.726 26.951 0.0451 RXC J0058.9+2657 RXJ0058.9+2657\n",
      "     WARNING: Nmatch= 0 423.77120106508005 16.146 -24.0 0.1603 RXC J0104.5-2400 A0140\n",
      "     WARNING: Nmatch= 0 553.5350302156127 16.26 2.03 0.1967 RXC J0105.0+0201 IC 1613\n",
      "     WARNING: Nmatch= 0 748.6420568865972 16.279 33.19 0.08 MS0102.3+3255 \n",
      "     WARNING: Nmatch= 0 763.9307914026197 16.709 1.055 0.2537 RXC J0106.8+0103 ZwCl348\n",
      "     WARNING: Nmatch= 0 658.4202480868022 16.718 -2.49 0.1909 RXCJ0106.8-0229 A0145\n",
      "     WARNING: Nmatch= 0 95.58981185134111 16.746 32.158 0.112 BVH2007 8 \n",
      "     WARNING: Nmatch= 0 1251.7538822099023 16.868 32.462 0.017 IV Zw 038 IV Zw 038\n",
      "     WARNING: Nmatch= 0 2368.8270351534065 16.949 54.142 0.1066 RXC J0107.7+5408 ZwCl 0104.9+5350\n",
      "     WARNING: Nmatch= 0 651.7407604290978 16.955 -36.727 0.1186 RXCJ0107.8-3643 A2871\n",
      "     WARNING: Nmatch= 0 1469.200009146915 17.005 75.978 0.096 RXC J0108.0+7558 \n",
      "     WARNING: Nmatch= 0 621.1814743730822 17.048 2.176 0.0436 RXCJ0108.1+0210 A0147\n",
      "     WARNING: Nmatch= 0 559.9708709803231 17.138 -40.35 0.1408 RXC J0108.5-4021 A2874\n",
      "     WARNING: Nmatch= 0 1262.0038763677674 17.209 -15.41 0.0533 RXCJ0108.8-1524 A0151N\n",
      "     WARNING: Nmatch= 0 658.7010061529243 17.23 -15.629 0.097 RXCJ0108.9-1537 A0151S\n",
      "     WARNING: Nmatch= 0 2001.6253526390035 17.501 -45.923 0.0238 RXCJ0110.0-4555 A2877\n",
      "     WARNING: Nmatch= 0 112.22997235479166 17.523 13.98 0.0581 RXC J0110.0+1358 A0152\n",
      "     WARNING: Nmatch= 0 18.031945841523807 17.575 19.64 0.317 RX J0110.3+1938 VMF98 8\n",
      "     WARNING: Nmatch= 0 345.8064060827269 17.742 33.149 0.0177 RXC J0110.9+3308 NGC 0410\n",
      "     WARNING: Nmatch= 0 15.070230347524735 17.903 -38.187 0.122 RX J0111.6-3811 VMF98 9\n",
      "     WARNING: Nmatch= 0 610.50909134288 17.925 33.453 0.1173 A156 A0156\n",
      "     WARNING: Nmatch= 0 64.39872004892888 18.036 39.455 0.208 MS0109.4+3910 \n",
      "     WARNING: Nmatch= 0 291.5418143462863 18.072 33.038 0.1249 RXC J0112.2+3302 \n",
      "     WARNING: Nmatch= 0 109.02285671526357 18.296 28.471 0.262 BVH2007 9 \n",
      "     WARNING: Nmatch= 0 85.51516461142461 18.476 -31.752 0.0191 RXC J0113.9-3145 S141a\n",
      "     WARNING: Nmatch= 0 1689.2471960622909 18.8 0.33 0.045 RXCJ0115.2+0019 A0168\n",
      "     WARNING: Nmatch= 0 282.1226649015378 19.049 -15.923 0.0448 RXC J0116.1-1555 SCG 16\n",
      "     WARNING: Nmatch= 0 57.540112077339735 19.165 -3.503 0.081 BVH2007 10 \n",
      "     WARNING: Nmatch= 0 51.6632042537024 19.402 -22.637 0.207 RX J0117.6-2238 A2894\n",
      "     WARNING: Nmatch= 0 708.5137131928009 19.46 -54.924 0.251 RXCJ0117.8-5455 \n",
      "     WARNING: Nmatch= 0 894.6288966650686 19.546 -26.973 0.2275 RXCJ0118.1-2658 A2895\n",
      "     WARNING: Nmatch= 0 2264.161527249565 20.246 -13.858 0.0519 RXCJ0120.9-1351 CAN 010\n",
      "     WARNING: Nmatch= 0 250.00561796271538 20.493 0.357 0.1756 RXC J0121.9+0021 A0181\n",
      "     WARNING: Nmatch= 0 68.9120389100303 20.65 -28.535 0.256 BVH2007 11 VMF98 10, S0154\n",
      "     WARNING: Nmatch= 0 298.5673135547311 20.73 -12.764 0.123 RXC J0122.9-1245 A0188\n",
      "     WARNING: Nmatch= 0 16.956933325565764 21.146 4.014 0.316 RX J0124.5+0400 VMF98 11\n",
      "     WARNING: Nmatch= 0 28.93330148837312 21.2 9.541 0.0079 BVH2007 12 NGC524\n",
      "     WARNING: Nmatch= 0 958.4015399123032 21.353 1.741 0.0181 A189 A0189\n",
      "     WARNING: Nmatch= 0 499.1596344187842 21.374 1.763 0.0183 RXC J0125.5+0145 N0533\n",
      "     WARNING: Nmatch= 0 1121.1498300516353 21.42 -1.407 0.018 RXCJ0125.6-0124 A0194\n",
      "     WARNING: Nmatch= 0 283.2980942263833 21.519 -37.977 0.081 RXC J0126.0-3758 A2911\n",
      "     WARNING: Nmatch= 0 18.038968572872253 21.727 19.212 0.0427 BVH2007 13 IC0115, A0195\n",
      "     WARNING: Nmatch= 0 369.3467389644158 21.808 -17.771 0.1459 RXC J0127.2-1746 A0199\n",
      "     WARNING: Nmatch= 0 16.302819047366945 22.154 -43.416 0.288 RX J0128.6-4324 VMF98 13\n",
      "     WARNING: Nmatch= 0 236.83235947054777 22.927 0.562 0.0798 RXC J0131.7+0033 A0208\n",
      "     WARNING: Nmatch= 0 765.0918326643533 23.17 -8.072 0.1489 RXCJ0132.6-0804 \n",
      "     WARNING: Nmatch= 0 59.83856302361451 23.228 -42.996 0.0876 BVH2007 14 VMF98 14\n",
      "     WARNING: Nmatch= 0 9.477897037031088 24.101 -18.2 0.251 RX J0136.4-1811 VMF98 15\n",
      "     WARNING: Nmatch= 0 1190.7124128836442 24.314 -9.203 0.0409 RXCJ0137.2-0912 \n",
      "     WARNING: Nmatch= 2 336.49737819676506 24.372 -12.986 0.2143 RXC J0137.4-1259 A0222\n",
      "     WARNING: Nmatch= 2 450.7101754537583 24.485 -12.8 0.2108 RXC J0137.9-1248 A0223\n",
      "     WARNING: Nmatch= 0 24.560051662899276 24.915 1.324 0.255 RX J0139.6+0119 VMF98 16\n",
      "     WARNING: Nmatch= 0 62.804670716071705 24.974 18.169 0.176 BVH2007 15 VMF98 17, A0227\n",
      "     WARNING: Nmatch= 0 93.3110128007695 25.385 -30.578 0.442 BVH2007 16 \n",
      "     WARNING: Nmatch= 0 638.8295132868437 25.511 21.522 0.2803 RXJ0142.0+2131 RXJ0142.0+2131\n",
      "     WARNING: Nmatch= 0 66.98716697599293 25.711 20.42 0.271 BVH2007 17 VMF98 18\n",
      "     WARNING: Nmatch= 0 1134.5461668101577 25.739 44.644 0.341 RXC J0142.9+4438 \n",
      "     WARNING: Nmatch= 0 20.24263348561116 26.121 2.21 0.166 RX J0144.4+0212 VMF98 19\n",
      "     WARNING: Nmatch= 0 391.8263342215132 26.174 -22.229 0.2781 RXC J0144.6-2213 A2938\n",
      "     WARNING: Nmatch= 0 1307.7152770870025 26.259 -53.014 0.1168 RXCJ0145.0-5300 A2941\n",
      "     WARNING: Nmatch= 0 1236.6660433928532 26.32 -60.565 0.1805 RXCJ0145.2-6033 RBS 0238\n",
      "     WARNING: Nmatch= 0 40.65468154567721 27.507 -39.453 0.373 MS0147.8-3941 \n",
      "     WARNING: Nmatch= 0 668.1900773034876 27.687 33.09 0.0363 A260 A0260\n",
      "     WARNING: Nmatch= 0 434.4116388642225 28.141 -28.892 0.413 MACSJ0152.5-2852 \n",
      "     WARNING: Nmatch= 0 54.62146690095609 28.172 -13.97 0.833 BVH2007 18 RX J0152.7-1357 (BSHARC)\n",
      "     WARNING: Nmatch= 0 499.6166766615234 28.245 37.535 0.2993 RXC J0152.9+3732 A0263\n",
      "     WARNING: Nmatch= 0 186.28573010267885 28.246 -13.753 0.005 RXCJ0152.9-1345 NGC0720\n",
      "     WARNING: Nmatch= 0 521.9960443648802 28.383 -1.312 0.2438 RXC J0153.5-0118 \n",
      "     WARNING: Nmatch= 0 37.107383473793874 28.552 -59.626 0.36 BVH2007 19 VMF98 20\n",
      "     WARNING: Nmatch= 0 1122.496255465075 28.79 33.922 0.0872 RXC J0155.1+3355 A0272\n",
      "     WARNING: Nmatch= 0 1041.9968513987262 29.282 41.34 0.081 RXC J0157.1+4120 A0276\n",
      "     WARNING: Nmatch= 0 618.6578630490319 29.351 -5.84 0.1289 RXCJ0157.4-0550 A0281\n",
      "     WARNING: Nmatch= 0 598.0169711881596 29.357 32.224 0.0894 A278 A0278\n",
      "     WARNING: Nmatch= 0 426.2889474300923 29.618 -1.781 0.1632 RXC J0158.4-0146 A0286\n",
      "     WARNING: Nmatch= 0 94.64957881025157 29.826 0.502 0.386 BVH2007 20 VMF98 21\n",
      "     WARNING: Nmatch= 0 666.2790747882389 30.069 31.437 0.0168 RXC J0200.2+3126 NGC 0777\n",
      "     WARNING: Nmatch= 0 1039.7380862649081 30.434 -2.201 0.196 RXCJ0201.7-0212 A0291\n",
      "     WARNING: Nmatch= 0 125.45628637531227 30.449 3.749 0.165 MS0159.1+0330 A0293\n",
      "     WARNING: Nmatch= 0 319.35163480632906 30.578 -44.794 0.0616 RXC J0202.3-4447 \n"
     ]
    },
    {
     "name": "stdout",
     "output_type": "stream",
     "text": [
      "     WARNING: Nmatch= 0 470.90057451856967 30.583 -1.12 0.0427 RXCJ0202.3-0107 A0295\n",
      "     WARNING: Nmatch= 0 29.920059810303172 31.597 15.188 0.248 RX J0206.3+1511 VMF98 22\n",
      "     WARNING: Nmatch= 0 624.6324176787773 31.625 -14.894 0.1529 RXCJ0206.4-1453 A0305\n",
      "     WARNING: Nmatch= 0 70.33022582812649 31.708 -13.153 0.321 BVH2007 21 VMF98 23\n",
      "     WARNING: Nmatch= 0 917.4342585567823 32.38 19.77 0.0657 RXC J0209.5+1946 A0311\n",
      "     WARNING: Nmatch= 0 38.32894517343542 32.47 -51.272 0.206 BVH2007 22 \n",
      "     WARNING: Nmatch= 0 7.856028444599704 32.557 -39.548 0.168 RX J0210.2-3932 VMF98 24\n",
      "     WARNING: Nmatch= 0 11.488031994618654 32.607 -39.496 0.165 RX J0210.4-3929 VMF98 25\n",
      "     WARNING: Nmatch= 0 581.3103642553829 32.856 -40.287 0.1008 RXCJ0211.4-4017 A2984\n",
      "     WARNING: Nmatch= 0 700.3751666565049 33.225 -47.133 0.115 RXC J0212.8-4707 A2988\n",
      "     WARNING: Nmatch= 0 1816.3841440183533 33.568 51.747 0.0489 RXC J0214.2+5144 \n",
      "     WARNING: Nmatch= 0 359.60266606602625 33.671 -4.563 0.1393 RXC J0214.6-0433 A0329\n",
      "     WARNING: Nmatch= 0 548.947341950586 34.08 -48.273 0.1709 RXC J0216.3-4816 A2998\n",
      "     WARNING: Nmatch= 0 39.20265612059918 34.14 -17.791 0.578 BVH2007 23 \n",
      "     WARNING: Nmatch= 0 547.8331098043017 34.176 -47.823 0.064 RXCJ0216.7-4749 S0239\n",
      "     WARNING: Nmatch= 0 900.4537394748127 34.302 -52.747 0.3432 RXCJ0217.2-5244 \n",
      "     WARNING: Nmatch= 0 84.85242611218958 35.285 19.974 0.45 RX J0221.1+1958 \n",
      "     WARNING: Nmatch= 0 55.8638582931055 35.868 -8.87 0.163 BVH2007 24 \n",
      "     WARNING: Nmatch= 0 758.6610456999742 36.294 -29.474 0.0604 RXCJ0225.1-2928 \n",
      "     WARNING: Nmatch= 0 1231.3456541261905 36.478 -41.91 0.2195 RXCJ0225.9-4154 A3016\n",
      "     WARNING: Nmatch= 0 253.15948377371424 36.803 -28.855 0.2138 RXC J0227.2-2851 EDCC651\n",
      "     WARNING: Nmatch= 0 784.910208506946 37.04 28.194 0.0353 RXC J0228.1+2811 RXJ0228.2+2811\n",
      "     WARNING: Nmatch= 0 51.95878995799789 37.056 -10.096 0.149 BVH2007 25 VMF98 26\n",
      "     WARNING: Nmatch= 0 69.33811958250259 37.094 23.423 0.305 BVH2007 26 \n",
      "     WARNING: Nmatch= 0 647.2646327708303 37.343 -33.538 0.0792 RXCJ0229.3-3332 APMCC269\n",
      "     WARNING: Nmatch= 0 67.45866397735685 37.611 18.606 0.799 BVH2007 27 \n",
      "     WARNING: Nmatch= 0 496.3425867922946 37.681 -33.099 0.076 RXCJ0230.7-3305 A3027\n",
      "     WARNING: Nmatch= 0 481.87368765948975 37.947 -4.856 0.1843 RXC J0231.7-0451 A0362\n",
      "     WARNING: Nmatch= 0 263.4891271778961 37.988 1.245 0.0221 RXCJ0231.9+0114 RCS145\n",
      "     WARNING: Nmatch= 0 16.283889376748125 38.555 -3.947 0.447 WARP J0234.2-0356 \n",
      "     WARNING: Nmatch= 0 600.2461653407076 39.168 -19.387 0.0907 RXCJ0236.6-1923 A0367\n",
      "     WARNING: Nmatch= 0 181.01148151657085 39.498 -52.413 0.136 BVH2007 28 VMF98 28, A3038\n",
      "     WARNING: Nmatch= 0 21.49732814803078 39.969 -23.343 0.45 RX J0239.8-2320 VMF98 29\n",
      "     WARNING: Nmatch= 0 539.8032850784926 40.337 -28.657 0.2323 RXC J0241.3-2839 A3041\n",
      "     WARNING: Nmatch= 0 538.7881435565635 41.026 -26.185 0.1362 RXC J0244.1-2611 \n",
      "     WARNING: Nmatch= 0 338.37822724338395 41.303 -46.454 0.0868 RXC J0245.2-4627 A3047\n",
      "     WARNING: Nmatch= 0 157.17911727045987 41.44 9.61 0.147 BVH2007 29 \n",
      "     WARNING: Nmatch= 0 2372.9935005892203 41.511 36.888 0.0488 RXC J0246.0+3653 A0376\n",
      "     WARNING: Nmatch= 0 1063.4358296446248 42.068 -2.279 0.236 RXC J0248.2-0216 A0384\n",
      "     WARNING: Nmatch= 0 861.1819254364334 42.404 -31.188 0.023 RXCJ0249.6-3111 S0301\n",
      "     WARNING: Nmatch= 0 51.85121622068853 42.515 19.131 0.122 BVH2007 30 \n",
      "     WARNING: Nmatch= 0 804.905802517631 42.572 -21.499 0.207 RXCJ0250.2-2129 \n",
      "     WARNING: Nmatch= 0 71.02418398687958 42.824 -20.929 0.325 BVH2007 31 \n",
      "     WARNING: Nmatch= 0 473.8644122065146 42.87 -24.949 0.1134 RXC J0251.4-2456 A0389\n",
      "     WARNING: Nmatch= 0 897.3105003229545 43.206 -1.274 0.0235 RXCJ0252.8-0116 NGC1132\n",
      "     WARNING: Nmatch= 0 365.3185153818782 43.964 9.313 0.0258 RXC J0255.8+0918 IC 1867\n",
      "     WARNING: Nmatch= 0 215.5324206257349 44.137 0.103 0.36 RX J0256.5+0006 \n",
      "     WARNING: Nmatch= 0 368.946559737758 44.562 -21.091 0.1226 RXC J0258.2-2105 A3073\n",
      "     WARNING: Nmatch= 0 24.67265322549506 44.692 0.212 0.259 RX J0258.7+0012 VMF98 30\n",
      "     WARNING: Nmatch= 0 78.7500128166668 44.891 0.229 0.194 BVH2007 32 VMF98 31\n",
      "     WARNING: Nmatch= 0 8955.548341913805 45.188 44.463 0.03 RXC J0300.7+4427 \n",
      "     WARNING: Nmatch= 0 1185.70681036345 45.405 1.92 0.1712 RXCJ0301.6+0155 Zw0258.9\n",
      "     WARNING: Nmatch= 0 865.4185048803585 45.456 35.835 0.0464 A407 A0407\n",
      "     WARNING: Nmatch= 0 580.5045927422835 45.589 -4.391 0.35 BVH2007 33 \n",
      "     WARNING: Nmatch= 0 1189.0169018049512 45.838 1.926 0.153 RXCJ0303.3+0155 A0409\n",
      "     WARNING: Nmatch= 0 782.6285624468084 45.943 -77.869 0.2742 RXCJ0303.7-7752 \n",
      "     WARNING: Nmatch= 0 667.7342266996048 46.03 -36.943 0.2192 RXCJ0304.1-3656 A3084\n",
      "     WARNING: Nmatch= 0 53.996894692138206 46.103 -7.037 0.135 BVH2007 34 \n",
      "     WARNING: Nmatch= 0 148.43730103801377 46.126 15.458 0.083 MS0301.7+1516 \n",
      "     WARNING: Nmatch= 0 66.24044738358327 46.326 17.473 0.4249 MS0302.5+1717 \n",
      "     WARNING: Nmatch= 0 78.68664611082608 46.382 17.167 0.4246 MS0302.7+1658 \n",
      "     WARNING: Nmatch= 0 165.20519529929038 46.62 -9.731 0.0342 BVH2007 35 IC1880\n",
      "     WARNING: Nmatch= 0 186.8979499875769 46.77 -6.481 0.347 BVH2007 36 \n",
      "     WARNING: Nmatch= 0 471.41942665564426 47.854 -26.9 0.0685 RXCJ0311.4-2653 A3094\n",
      "     WARNING: Nmatch= 0 372.2820610039169 47.899 7.238 0.142 RXC J0311.5+0714 \n",
      "     WARNING: Nmatch= 0 336.4622494695278 48.344 26.407 0.1649 RXC J0313.3+2624 \n",
      "     WARNING: Nmatch= 0 337.07873529458186 48.408 -38.299 0.0833 RXC J0313.6-3817 A3098\n",
      "     WARNING: Nmatch= 0 1643.0962232650372 48.582 -45.424 0.0718 RXCJ0314.3-4525 A3104\n",
      "     WARNING: Nmatch= 0 40.676289942513336 49.573 -3.021 0.37 RX J0318.2-0301 BS RXJ0318.2-0301\n",
      "     WARNING: Nmatch= 0 140.10908581270672 49.639 -3.049 0.37 BVH2007 37 BS RXJ0318.5-0302\n",
      "     WARNING: Nmatch= 0 67.73078743910125 50.075 -42.987 0.158 BVH2007 38 \n",
      "     WARNING: Nmatch= 0 56.02031051964233 50.158 -43.198 0.149 BVH2007 39 S0343\n",
      "     WARNING: Nmatch= 0 495.2447559292838 50.553 -53.178 0.0797 RXCJ0322.2-5310 APMCC391\n",
      "     WARNING: Nmatch= 0 1071.8852334461665 50.578 -41.36 0.0643 RXCJ0322.3-4121 A3122\n",
      "     WARNING: Nmatch= 0 69.89498725750782 50.585 -49.312 0.067 BVH2007 NS 1 VMF98 32, S0346\n",
      "     WARNING: Nmatch= 0 54.5109914480015 50.748 -13.637 0.334 BVH2007 40 \n",
      "     WARNING: Nmatch= 0 91.34100945488932 50.998 -19.276 0.332 BVH2007 41 \n",
      "     WARNING: Nmatch= 0 140.29155851919478 51.977 2.563 0.0302 BVH2007 42 UGC02748\n",
      "     WARNING: Nmatch= 0 63.0312217667385 52.15 -21.668 0.59 BVH2007 43 \n",
      "     WARNING: Nmatch= 0 1752.4092404558655 52.156 -55.713 0.0853 RXCJ0328.6-5542 A3126\n",
      "     WARNING: Nmatch= 0 2396.802690966766 52.503 -52.596 0.0624 RXCJ0330.0-5235 A3128\n",
      "     WARNING: Nmatch= 0 23.93903842968049 52.998 -45.407 0.0671 BVH2007 NS 2 \n",
      "     WARNING: Nmatch= 0 116.42544796840887 53.056 -29.177 0.15 BVH2007 44 \n",
      "     WARNING: Nmatch= 0 8.570877119219325 53.273 -39.23 0.245 RX J0333.0-3914 \n",
      "     WARNING: Nmatch= 0 68.36557494784148 53.292 -24.945 0.475 BVH2007 45 \n",
      "     WARNING: Nmatch= 0 72.94876361774541 53.515 -39.014 0.0623 BVH2007 46 A3135\n",
      "     WARNING: Nmatch= 0 485.35954133512547 53.734 -53.702 0.0619 RXCJ0334.9-5342 APMCC421\n",
      "     WARNING: Nmatch= 0 1316.1414795158482 54.078 -40.622 0.1729 RXCJ0336.3-4037 A3140\n",
      "     WARNING: Nmatch= 0 780.0622075920242 54.095 -3.792 0.1595 RXCJ0336.3-0347 \n",
      "     WARNING: Nmatch= 0 223.6817764025865 54.206 -28.081 0.105 BVH2007 47 A3141\n",
      "     WARNING: Nmatch= 0 583.924187134202 54.25 -39.82 0.103 RXCJ0337.0-3949 A3142\n",
      "     WARNING: Nmatch= 0 9.212671691766255 54.437 -25.378 0.585 RX J0337.7-2522 VMF98 33\n",
      "     WARNING: Nmatch= 0 36.45641628634268 54.549 -22.94 0.173 BVH2007 48 \n",
      "     WARNING: Nmatch= 0 93.17131734144427 54.851 -33.219 0.269 BVH2007 49 A3150\n",
      "     WARNING: Nmatch= 0 507.99001019153343 55.036 -55.054 0.0464 RXCJ0340.1-5503 IC 1987\n",
      "     WARNING: Nmatch= 0 251.73879787322616 55.048 -18.587 0.0056 RXCJ0340.1-1835 NGC1407\n",
      "     WARNING: Nmatch= 0 406.4547247330692 55.113 -28.672 0.068 BVH2007 50 A3151\n",
      "     WARNING: Nmatch= 0 1138.7124022264086 55.174 -2.666 0.0352 RXCJ0340.6-0239 \n",
      "     WARNING: Nmatch= 0 651.0845937672799 55.205 -45.705 0.0698 RXCJ0340.8-4542 RBS 0459\n",
      "     WARNING: Nmatch= 0 89.84323920982895 55.215 -28.386 0.346 BVH2007 51 \n",
      "     WARNING: Nmatch= 0 3.4665531283616584 55.488 -45.003 0.408 RX J0341.9-4500 VMF98 34\n",
      "     WARNING: Nmatch= 0 973.3491225217773 56.44 -41.208 0.0603 RXCJ0345.7-4112 S0384\n",
      "     WARNING: Nmatch= 0 1105.5888611996063 56.484 -24.28 0.1057 RXCJ0345.9-2416 A0458\n",
      "     WARNING: Nmatch= 0 1223.4832693379615 56.54 -57.05 0.057 RXCJ0346.1-5702 A3164\n",
      "     WARNING: Nmatch= 0 837.5103679776942 56.751 -29.003 0.1419 RXCJ0347.0-2900 A3165\n",
      "     WARNING: Nmatch= 0 26.14768531176328 57.036 -12.026 0.488 WARP J0348.1-1201 \n",
      "     WARNING: Nmatch= 0 291.3865441308364 57.093 -33.476 0.165 BVH2007 52 A3169\n",
      "     WARNING: Nmatch= 0 81.20516661245559 57.683 -38.024 0.363 BVH2007 53 \n",
      "     WARNING: Nmatch= 0 21.88339752602388 57.908 -36.831 0.372 RX J0351.6-3649 VMF98 35\n",
      "     WARNING: Nmatch= 0 519.8570781272531 58.086 -54.886 0.0447 RXCJ0352.3-5453 RBS 0485\n",
      "     WARNING: Nmatch= 0 1266.504082015285 58.123 -74.031 0.127 MS0353.3-7411 A3186\n",
      "     WARNING: Nmatch= 0 1723.6021636674557 58.249 19.69 0.1085 RXC J0352.9+1941 RXJ0352.9+1941\n",
      "     WARNING: Nmatch= 0 48.241296350736114 58.644 -42.559 0.224 BVH2007 54 \n",
      "     WARNING: Nmatch= 0 690.7081113975477 58.647 -37.756 0.251 BVH2007 55 A3184\n",
      "     WARNING: Nmatch= 0 365.00270651732956 58.875 -36.568 0.32 BVH2007 56 S0400, MS0353.6-3642\n",
      "     WARNING: Nmatch= 0 86.7660398707755 58.997 -37.696 0.473 BVH2007 57 \n",
      "     WARNING: Nmatch= 0 1044.2131712033977 59.727 -29.926 0.425 MACSJ0358.8-2955 A3192\n",
      "     WARNING: Nmatch= 0 679.898384043435 59.788 -3.341 0.122 RXCJ0359.1-0320 \n",
      "     WARNING: Nmatch= 0 456.5065170138235 61.156 11.166 0.3548 RXC J0404.6+1109 MCS  J0404.6+1109\n",
      "     WARNING: Nmatch= 0 44.13563186447617 61.351 -41.004 0.686 BVH2007 58 \n",
      "     WARNING: Nmatch= 0 176.8449134868438 61.691 -71.275 0.229 MS0407.2-7123 \n",
      "     WARNING: Nmatch= 0 1419.2267862831575 62.068 -30.894 0.06 RXCJ0408.2-3053 A3223\n",
      "     WARNING: Nmatch= 0 2292.71261149305 63.488 -38.1 0.0501 RXCJ0413.9-3805 \n",
      "     WARNING: Nmatch= 0 26.884075507545965 64.187 -55.419 0.365 RX J0416.7-5525 \n",
      "     WARNING: Nmatch= 0 130.3822751231675 64.357 -45.208 0.213 BVH2007 59 A3240\n",
      "     WARNING: Nmatch= 0 40.16255625640182 65.025 -38.634 0.35 MS0418.3-3844 \n",
      "     WARNING: Nmatch= 0 23.21580246379116 65.186 -38.699 0.225 MS0419.0-3848 \n",
      "     WARNING: Nmatch= 0 75.94701991793178 65.265 -46.493 0.131 BVH2007 60 A3247\n",
      "     WARNING: Nmatch= 0 77.3545648198255 65.62 -50.15 0.0901 BVH2007 61 \n",
      "     WARNING: Nmatch= 0 139.93154000817265 66.531 16.92 0.38 RX J0426.1+1655 \n",
      "     WARNING: Nmatch= 0 43.7828943378131 67.177 -38.096 0.154 BVH2007 62 VMF98 36, A3259\n",
      "     WARNING: Nmatch= 0 571.468097284387 67.283 -53.847 0.04 RXCJ0429.1-5350 S0463\n",
      "     WARNING: Nmatch= 0 14.955155043273301 68.565 -8.521 0.24 RX J0434.2-0831 VMF98 37\n",
      "     WARNING: Nmatch= 0 743.9684704063964 69.18 10.061 0.159 MS0433.9+0957 \n",
      "     WARNING: Nmatch= 0 680.7534290144802 69.28 -20.457 0.155 RXCJ0437.1-2027 A0499\n",
      "     WARNING: Nmatch= 0 965.7850825671502 69.292 0.727 0.2842 RXCJ0437.1+0043 RXJ0437.1+0043\n",
      "     WARNING: Nmatch= 0 1106.8078180750592 69.728 -22.114 0.067 RXCJ0438.9-2206 A0500\n",
      "     WARNING: Nmatch= 0 1284.2055158230046 71.292 -15.85 0.036 RXCJ0445.1-1551 NGC1650\n",
      "     WARNING: Nmatch= 0 209.5041800582677 71.658 -4.351 0.177 BVH2007 63 \n",
      "     WARNING: Nmatch= 0 368.82586602682755 72.002 10.618 0.094 RXC J0448.0+1037 \n",
      "     WARNING: Nmatch= 0 1588.9185793109757 72.051 -20.47 0.072 RXCJ0448.2-2028 A0514\n",
      "     WARNING: Nmatch= 0 777.5677581383991 72.054 9.89 0.154 RXJ0448.2+0953 RXJ0448.2+0953\n",
      "     WARNING: Nmatch= 0 996.6419086806002 72.48 -44.678 0.1501 RXCJ0449.9-4440 A3292\n",
      "     WARNING: Nmatch= 0 164.1008167520806 72.899 -55.954 0.094 MS0450.6-5602 \n"
     ]
    },
    {
     "name": "stdout",
     "output_type": "stream",
     "text": [
      "     WARNING: Nmatch= 0 295.1420653932154 72.977 0.105 0.43 MACSJ0451.9+0006 MCS  J0451.9+0006\n",
      "     WARNING: Nmatch= 0 81.21015972713356 73.582 -2.664 0.26 RX J0454.3-0239 \n",
      "     WARNING: Nmatch= 0 137.7928071990281 74.73 -0.489 0.015 BVH2007 64 NGC1713\n",
      "     WARNING: Nmatch= 0 656.3289082403139 74.776 8.78 0.1034 RXC J0459.1+0846 A0523\n",
      "     WARNING: Nmatch= 0 1233.854882724142 75.194 -38.678 0.0536 RXCJ0500.7-3840 A3301\n",
      "     WARNING: Nmatch= 0 706.9800037339231 75.331 -3.542 0.0913 RXCJ0501.3-0332 A0531\n",
      "     WARNING: Nmatch= 0 875.2719265237612 75.413 1.175 0.1248 RXCJ0501.6+0110 \n",
      "     WARNING: Nmatch= 0 989.9996590411972 75.78 6.127 0.088 RXC J0503.1+0607 RXJ0503.1+0608\n",
      "     WARNING: Nmatch= 0 24.750158491758423 76.333 -28.818 0.509 RX J0505.3-2849 \n",
      "     WARNING: Nmatch= 0 26.078756175027625 76.493 -28.434 0.131 BVH2007 65 VMF98 38\n",
      "     WARNING: Nmatch= 0 38.998676810196294 76.517 -28.681 0.136 BVH2007 66 VMF98 39\n",
      "     WARNING: Nmatch= 0 293.94230137518235 76.725 2.952 0.1475 RXC J0506.9+0257 \n",
      "     WARNING: Nmatch= 0 611.5184954868099 76.9 -2.64 0.1241 RXCJ0507.6-0238 A0535\n",
      "     WARNING: Nmatch= 0 702.3572259844946 76.94 -9.254 0.0398 RXCJ0507.7-0915 A0536\n",
      "     WARNING: Nmatch= 0 38.080897859837016 77.431 -8.611 0.125 BVH2007 67 \n",
      "     WARNING: Nmatch= 0 1158.1506450748523 77.558 -45.321 0.2 RXCJ0510.2-4519 A3322\n",
      "     WARNING: Nmatch= 0 1643.4391797854562 77.686 -8.018 0.2195 RXCJ0510.7-0801 \n",
      "     WARNING: Nmatch= 0 710.2735997284366 78.651 -49.055 0.0912 RXCJ0514.6-4903 A3330\n",
      "     WARNING: Nmatch= 0 1470.727684811578 78.835 58.766 0.1203 RXC J0515.3+5845 \n",
      "     WARNING: Nmatch= 0 2860.355723525114 79.086 17.209 0.115 RXC J0516.3+1712 \n",
      "     WARNING: Nmatch= 0 1504.706013097665 79.158 -54.514 0.2952 RXCJ0516.6-5430 S0520\n",
      "     WARNING: Nmatch= 0 1185.7955604507654 79.243 29.421 0.13 RXC J0516.9+2925 \n",
      "     WARNING: Nmatch= 0 50.66477825628115 80.294 -25.51 0.581 BVH2007 68 VMF98 40\n",
      "     WARNING: Nmatch= 0 821.5429895764976 80.373 -40.825 0.0756 RXCJ0521.4-4049 A3336\n",
      "     WARNING: Nmatch= 0 51.366836610845844 80.558 -36.414 0.472 BVH2007 69 VMF98 41\n",
      "     WARNING: Nmatch= 0 2539.210239731559 80.699 28.109 0.058 RXC J0522.7+2806 \n",
      "     WARNING: Nmatch= 0 1917.6333977521417 81.115 8.329 0.068 RXC J0524.4+0819 \n",
      "     WARNING: Nmatch= 0 1823.7731667702803 81.386 -31.596 0.038 RXCJ0525.5-3135 A3341\n",
      "     WARNING: Nmatch= 0 849.4020290327984 81.465 -47.251 0.1913 RXCJ0525.8-4715 A3343\n",
      "     WARNING: Nmatch= 0 906.3154097145946 81.807 4.219 0.151 RXC J0527.2+0413 \n",
      "     WARNING: Nmatch= 0 793.2301938333248 82.064 -29.716 0.1582 RXCJ0528.2-2942 \n",
      "     WARNING: Nmatch= 0 49.38097589916278 82.167 -32.858 0.273 BVH2007 70 VMF98 42\n",
      "     WARNING: Nmatch= 0 13.681653786660004 82.41 -58.803 0.466 RX J0529.6-5848 VMF98 43\n",
      "     WARNING: Nmatch= 0 10.525230971293187 82.63 -58.86 0.338 RX J0530.5-5852 \n",
      "     WARNING: Nmatch= 0 1301.7625574245608 82.66 -22.448 0.1706 RXCJ0530.6-2226 A0543\n",
      "     WARNING: Nmatch= 0 2143.4423926158925 83.096 -11.531 0.154 RXCJ0532.3-1131 A0545\n",
      "     WARNING: Nmatch= 0 91.35349975725786 83.174 -46.238 0.135 BVH2007 71 VMF98 44\n",
      "     WARNING: Nmatch= 0 782.9883529456041 83.231 -37.024 0.2708 RXCJ0532.9-3701 \n",
      "     WARNING: Nmatch= 0 518.7006312319063 83.327 -36.326 0.0479 RXCJ0533.3-3619 S0535\n",
      "     WARNING: Nmatch= 0 42.346453888809535 83.471 -57.779 0.297 BVH2007 72 VMF98 45\n",
      "     WARNING: Nmatch= 0 18.081480325087536 83.483 -58.154 0.198 RX J0533.9-5809 VMF98 46\n",
      "     WARNING: Nmatch= 0 920.4312470319168 84.568 -20.623 0.0915 RXCJ0538.2-2037 A3358\n",
      "     WARNING: Nmatch= 0 29.673148452323098 84.768 -28.551 0.254 MS0537.1-2834 \n",
      "     WARNING: Nmatch= 0 856.236484280817 85.042 -43.382 0.085 RXCJ0540.1-4322 A3360\n",
      "     WARNING: Nmatch= 0 1065.9784247876387 85.539 -26.124 0.039 RXCJ0542.1-2607 CID 36\n",
      "     WARNING: Nmatch= 0 65.26483471470668 85.712 -41.001 0.642 BVH2007 73 \n",
      "     WARNING: Nmatch= 0 866.0301938010787 85.852 -44.505 0.1637 RXCJ0543.4-4430 \n",
      "     WARNING: Nmatch= 0 36.49857459221857 86.055 -25.928 0.26 BVH2007 74 \n",
      "     WARNING: Nmatch= 0 317.2978475185198 86.363 -25.939 0.0424 RXCJ0545.4-2556 A0548W\n",
      "     WARNING: Nmatch= 0 907.174298075099 86.377 -47.94 0.1254 RXCJ0545.5-4756 A3363\n",
      "     WARNING: Nmatch= 0 558.0476223970549 86.756 -39.074 0.319 MACSJ0547.0-3904 \n",
      "     WARNING: Nmatch= 0 378.93837256332426 86.94 -47.39 0.0515 RXCJ0547.7-4723 S0547\n",
      "     WARNING: Nmatch= 0 2375.7009013895326 87.165 -25.458 0.042 RXCJ0548.6-2527 A0548E\n",
      "     WARNING: Nmatch= 0 694.9213413585284 87.21 -21.912 0.0928 RXCJ0548.8-2154 \n",
      "     WARNING: Nmatch= 0 2217.1222720620995 88.218 -21.057 0.0989 RXCJ0552.8-2103 A0550\n",
      "     WARNING: Nmatch= 0 886.5324166357593 88.363 -5.968 0.151 RXC J0553.4-0558 \n",
      "     WARNING: Nmatch= 0 1072.8398449998183 89.305 -37.466 0.0442 RXCJ0557.2-3727 S0555\n",
      "     WARNING: Nmatch= 0 312.39612304071545 90.201 -58.587 0.0369 RXCJ0600.8-5835 S0560\n",
      "     WARNING: Nmatch= 0 1057.592801722601 90.506 53.263 0.051 RXC J0602.0+5315 \n",
      "     WARNING: Nmatch= 0 3216.9590613827622 90.531 23.166 0.0654 RXC J0602.1+2309 \n",
      "     WARNING: Nmatch= 0 2396.330287469044 90.957 29.665 0.03 RXC J0603.8+2939 \n",
      "     WARNING: Nmatch= 0 1306.5720978419279 91.165 42.953 0.118 RXC J0604.6+4257 \n",
      "     WARNING: Nmatch= 0 2187.229554755229 91.47 -35.3 0.1392 RXCJ0605.8-3518 A3378\n",
      "     WARNING: Nmatch= 0 514.5738753111635 91.756 -49.483 0.0553 RXCJ0607.0-4928 A3380\n",
      "     WARNING: Nmatch= 0 61.961355653308374 92.633 -48.807 0.243 BVH2007 75 \n",
      "     WARNING: Nmatch= 0 1744.4470966072731 93.153 48.602 0.067 RXC J0612.6+4836 A0553\n",
      "     WARNING: Nmatch= 0 816.0739688479114 94.082 -21.948 0.171 RXC J0616.3-2156 \n",
      "     WARNING: Nmatch= 0 1114.702955466759 94.131 -39.8 0.152 RXCJ0616.5-3948 S0579\n",
      "     WARNING: Nmatch= 0 923.5900391338728 94.223 -47.805 0.1164 RXCJ0616.8-4748 \n",
      "     WARNING: Nmatch= 0 520.1645871812912 94.65 67.407 0.1127 RXC J0618.5+6724 A0554\n",
      "     WARNING: Nmatch= 0 760.8638960846087 95.432 -52.703 0.0511 RXCJ0621.7-5242 \n",
      "     WARNING: Nmatch= 0 729.9561720235318 96.153 -37.336 0.0333 RXCJ0624.6-3720 A3390\n",
      "     WARNING: Nmatch= 0 179.7105176239227 96.197 -52.679 0.074 MS0623.6-5238 \n",
      "     WARNING: Nmatch= 0 281.0712471542193 96.318 -55.352 0.118 MS0624.3-5519 \n",
      "     WARNING: Nmatch= 0 1995.9431964711257 96.784 -35.489 0.0554 RXCJ0627.1-3529 A3392\n",
      "     WARNING: Nmatch= 0 1306.8262576839695 97.207 -41.728 0.1759 RXCJ0628.8-4143 A3396\n",
      "     WARNING: Nmatch= 0 681.4477268738527 97.291 46.101 0.129 RXC J0629.1+4606 \n",
      "     WARNING: Nmatch= 0 1244.0847113145835 97.836 -56.172 0.054 RXCJ0631.3-5610 \n",
      "     WARNING: Nmatch= 0 2352.1871964266934 97.839 25.016 0.081 RXC J0631.3+2500 ZwCl 0628.1+2502\n",
      "     WARNING: Nmatch= 0 975.4051035014161 98.006 25.327 0.075 RXC J0632.0+2519 \n",
      "     WARNING: Nmatch= 0 72.63593886997863 98.642 -62.446 0.27 BVH2007 76 \n",
      "     WARNING: Nmatch= 0 6751.40696253263 98.764 22.525 0.068 RXC J0635.0+2231 \n",
      "     WARNING: Nmatch= 0 92.26624244152251 98.868 -62.568 0.157 BVH2007 77 A3398\n",
      "     WARNING: Nmatch= 0 768.1076360495032 99.329 -48.478 0.2026 RXCJ0637.3-4828 A3399\n",
      "     WARNING: Nmatch= 0 1527.1595159787444 99.531 47.791 0.174 RXC J0638.1+4747 ZwCl 0634.1+4750\n",
      "     WARNING: Nmatch= 0 3424.335759289072 100.033 -12.889 0.135 RXC J0640.1-1253 \n",
      "     WARNING: Nmatch= 0 4490.1511001458975 100.854 42.245 0.091 RXC J0643.4+4214 \n",
      "     WARNING: Nmatch= 0 2638.5403196019024 101.372 -54.219 0.1644 RXCJ0645.4-5413 A3404\n",
      "     WARNING: Nmatch= 0 2475.902070185085 102.345 18.017 0.064 RXC J0649.3+1801 \n",
      "     WARNING: Nmatch= 0 505.8858885942553 104.253 42.78 0.125 RXC J0657.0+4246 \n",
      "     WARNING: Nmatch= 0 1422.5364641784936 106.102 63.316 0.098 RXC J0704.4+6318 A0566\n",
      "     WARNING: Nmatch= 0 1079.8130559093709 106.761 27.106 0.062 RXC J0707.0+2706 \n",
      "     WARNING: Nmatch= 0 515.5081398064366 107.032 71.857 0.1053 RXC J0708.1+7151 A0565\n",
      "     WARNING: Nmatch= 0 727.7781379647215 107.603 22.673 0.289 RXC J0710.4+2240 \n",
      "     WARNING: Nmatch= 0 1853.8689533497588 107.948 32.319 0.0672 RXC J0711.7+3219 \n",
      "     WARNING: Nmatch= 0 415.6796646970106 108.022 -60.502 0.0322 RXCJ0712.0-6030 AM 0711\n",
      "     WARNING: Nmatch= 0 427.6076407233141 108.58 54.685 0.1043 A572 A0572\n",
      "     WARNING: Nmatch= 0 648.007452706153 109.178 53.408 0.0644 RXC J0716.7+5324 Zw 0712.9+5834\n",
      "     WARNING: Nmatch= 0 2539.364980921008 109.295 -36.36 0.032 RXC J0717.1-3621 \n",
      "     WARNING: Nmatch= 0 3747.4784866670675 109.363 -11.331 0.075 RXC J0717.4-1119 \n",
      "     WARNING: Nmatch= 0 1238.4764684236775 109.894 0.719 0.2197 RXC J0719.5+0043 \n",
      "     WARNING: Nmatch= 0 34.897710390403894 110.074 71.536 0.268 BVH2007 78 \n",
      "     WARNING: Nmatch= 0 757.0394279659404 110.075 23.816 0.168 RXC J0720.2+2348 \n",
      "     WARNING: Nmatch= 0 42.535435773505675 110.224 71.149 0.23 BVH2007 79 \n",
      "     WARNING: Nmatch= 0 435.0126107785379 111.23 66.979 0.0863 RXC J0724.9+6658 A0578\n",
      "     WARNING: Nmatch= 0 748.4296584085134 111.502 41.382 0.112 RXC J0726.0+4122 A0580\n",
      "     WARNING: Nmatch= 0 202.26410095425388 112.238 29.586 0.3976 RXC J0728.9+2935 \n",
      "     WARNING: Nmatch= 0 1071.8624989983377 112.37 24.606 0.161 RXC J0729.4+2436 \n",
      "     WARNING: Nmatch= 0 322.0171825222514 112.442 79.254 0.1058 RXC J0729.7+7915 A0575\n",
      "     WARNING: Nmatch= 0 1684.9361582049662 114.106 39.433 0.1177 RXC J0736.4+3925 \n",
      "     WARNING: Nmatch= 0 145.99947066610727 114.422 59.34 0.0384 RXC J0737.6+5920 \n",
      "     WARNING: Nmatch= 0 563.8555669452461 114.538 -75.107 0.111 RXCJ0738.1-7506 \n",
      "     WARNING: Nmatch= 0 865.4960425988222 114.569 1.031 0.189 RXC J0738.2+0101 \n",
      "     WARNING: Nmatch= 0 113.63224297093342 114.746 69.947 0.117 MS0733.6+7003 A0588\n",
      "     WARNING: Nmatch= 0 184.55819935867402 115.376 25.963 0.1577 RXC J0741.5+2557 \n",
      "     WARNING: Nmatch= 0 1011.3827248518264 115.661 9.369 0.062 RXC J0742.6+0922 A0592\n",
      "     WARNING: Nmatch= 0 2006.348414974794 116.29 -54.079 0.074 RXC J0745.1-5404 ESO 163-IG015\n",
      "     WARNING: Nmatch= 0 304.8060232797156 116.655 31.014 0.0579 RXC J0746.6+3100 \n",
      "     WARNING: Nmatch= 0 382.35085376240045 117.039 18.546 0.04 RXC J0748.1+1832 \n",
      "     WARNING: Nmatch= 0 774.6736625953183 117.844 50.213 0.0228 RXC J0751.3+5012 UGC 04052\n",
      "     WARNING: Nmatch= 0 877.1981476068363 117.85 17.513 0.1894 ZwCl1432 ZwCl1432\n",
      "     WARNING: Nmatch= 0 1149.000799722867 118.351 29.366 0.0621 A602 A0602\n",
      "     WARNING: Nmatch= 0 293.37359789346607 119.232 38.65 0.2203 RXC J0756.9+3839 \n",
      "     WARNING: Nmatch= 0 1787.3943475961626 119.444 -53.264 0.039 RXC J0757.7-5315 S606\n",
      "     WARNING: Nmatch= 0 3400.919411982508 119.495 -21.962 0.049 RXC J0757.9-2157 \n",
      "     WARNING: Nmatch= 0 211.47048608243733 119.589 26.679 0.2315 RXC J0758.3+2640 \n",
      "     WARNING: Nmatch= 0 816.1643251734735 119.928 54.002 0.1032 RXC J0759.7+5400 Zw 0755.8+5408\n",
      "     WARNING: Nmatch= 0 556.1019793603112 120.54 -19.434 0.14 RXC J0802.1-1926 \n",
      "     WARNING: Nmatch= 0 308.95403371149774 121.091 46.782 0.1868 RXC J0804.3+4646 A0616\n",
      "     WARNING: Nmatch= 0 347.635680169338 121.43 45.69 0.1353 RXC J0805.7+4541 A0620\n",
      "     WARNING: Nmatch= 0 173.81973924325962 122.421 28.199 0.399 BVH2007 80 \n",
      "     WARNING: Nmatch= 0 970.5173575609289 122.482 -2.982 0.27 RXC J0809.9-0258 \n",
      "     WARNING: Nmatch= 0 561.3956625850503 122.601 42.272 0.064 BVH2007 81 VMF98 47\n",
      "     WARNING: Nmatch= 0 265.5027600764998 122.76 16.735 0.0925 RXC J0811.0+1644 A0635\n",
      "     WARNING: Nmatch= 0 1015.3617052187572 122.783 70.039 0.223 RXC J0811.1+7002 A0621\n",
      "     WARNING: Nmatch= 0 4877.567376633807 123.126 -57.235 0.062 RXC J0812.5-5714 \n",
      "     WARNING: Nmatch= 0 623.6725602468582 123.869 -3.142 0.198 RXC J0815.4-0308 3C 196.1\n",
      "     WARNING: Nmatch= 0 64.41723977002361 123.999 62.886 0.312 MS0811.6+6301 \n",
      "     WARNING: Nmatch= 0 70.70113443551915 124.128 74.404 0.282 MS0810.5+7433 \n",
      "     WARNING: Nmatch= 0 901.7114281597585 124.557 1.367 0.0879 RXC J0818.2+0122 \n",
      "     WARNING: Nmatch= 0 22.722636386879334 124.741 56.909 0.26 RX J0818.9+5654 VMF98 48\n",
      "     WARNING: Nmatch= 0 21.24515176777923 124.844 70.913 0.226 RX J0819.3+7054 VMF98 49\n",
      "     WARNING: Nmatch= 0 80.86128240169354 124.978 56.577 0.26 BVH2007 82 VMF98 50\n",
      "     WARNING: Nmatch= 0 30.085738747403695 125.111 56.757 0.0429 BVH2007 83 VMF98 51\n",
      "     WARNING: Nmatch= 0 1668.3439149812107 125.248 -57.08 0.061 RXC J0820.9-5704 \n",
      "     WARNING: Nmatch= 0 729.9791653561535 125.257 7.866 0.11 RXC J0821.0+0751 RXJ0820.9+0751\n",
      "     WARNING: Nmatch= 0 706.1807093924186 125.465 1.212 0.0822 RXCJ0821.8+0112 A0653\n",
      "     WARNING: Nmatch= 0 1669.25279657026 125.54 47.1 0.1303 RXC J0822.1+4705 A0646\n",
      "     WARNING: Nmatch= 0 1398.025318550187 125.798 4.356 0.0293 ZwCl1665 ZwCl1665\n",
      "     WARNING: Nmatch= 0 22.919605337365756 126.045 3.463 0.347 MS0821.5+0337 \n",
      "     WARNING: Nmatch= 0 1609.367205728344 126.376 47.13 0.1267 RXC J0825.5+4707 A0655\n",
      "     WARNING: Nmatch= 0 493.7534899673632 126.436 82.31 0.2 RXC J0825.7+8218 A0625\n",
      "     WARNING: Nmatch= 0 728.497888030284 126.497 4.263 0.2248 ZwCl1693 ZwCl1693\n",
      "     WARNING: Nmatch= 0 27.33514550572647 126.527 26.43 0.351 RX J0826.1+2625 VMF98 52\n",
      "     WARNING: Nmatch= 0 2248.1609903519475 126.615 -27.355 0.041 RXC J0826.4-2721 S610\n",
      "     WARNING: Nmatch= 0 23.655413559956244 126.624 31.421 0.209 RX J0826.4+3125 VMF98 53\n",
      "     WARNING: Nmatch= 0 989.4991774309215 126.692 -20.133 0.0876 RXC J0826.7-2007 S611\n"
     ]
    },
    {
     "name": "stdout",
     "output_type": "stream",
     "text": [
      "     WARNING: Nmatch= 0 1088.2730956147323 127.019 44.764 0.145 A667 A0667\n",
      "     WARNING: Nmatch= 0 1156.764564522109 127.162 30.428 0.0503 RXC J0828.6+3025 A0671\n",
      "     WARNING: Nmatch= 0 2802.7751784628845 129.356 14.983 0.2793 A689 A0689\n",
      "     WARNING: Nmatch= 0 305.76377908839 129.543 25.101 0.0286 BVH2007 NS 3 CGCG120-014\n",
      "     WARNING: Nmatch= 0 119.71730453423572 129.63 19.805 0.123 BVH2007 84 \n",
      "     WARNING: Nmatch= 0 374.833600412245 130.13 5.733 0.2651 RXC J0840.5+0543 \n",
      "     WARNING: Nmatch= 0 80.9970105696388 130.281 64.378 0.343 BVH2007 85 VMF98 56\n",
      "     WARNING: Nmatch= 0 18.596669334765902 130.431 70.781 0.235 RX J0841.7+7046 VMF98 57\n",
      "     WARNING: Nmatch= 0 1370.2347931187364 130.478 -17.485 0.1687 RXC J0841.9-1729 A3411\n",
      "     WARNING: Nmatch= 0 15.335939797478686 130.72 50.388 0.423 RX J0842.8+5023 VMF98 58\n",
      "     WARNING: Nmatch= 0 170.82562926263952 131.236 42.982 0.0541 RXC J0844.9+4258 \n",
      "     WARNING: Nmatch= 0 34.60093570473908 131.797 34.821 0.56 RX J0847.1+3449 VMF98 59\n",
      "     WARNING: Nmatch= 0 469.468211487247 131.941 77.692 0.26 RXC J0847.7+7741 A0686\n",
      "     WARNING: Nmatch= 0 8.088747601868715 132.198 44.939 0.574 RX J0848.7+4456 VMF98 60\n",
      "     WARNING: Nmatch= 0 7.429162207494817 132.235 44.871 1.261 RX J0848.9+4452 VMF98 61\n",
      "     WARNING: Nmatch= 0 33.425076378977025 132.298 37.523 0.24 BVH2007 86 VMF98 62, A0708\n",
      "     WARNING: Nmatch= 0 26.208188373652362 132.991 11.995 0.115 WARP J0851.9+1159 \n",
      "     WARNING: Nmatch= 0 114.05098583701641 133.064 -5.549 0.192 MS0849.7-0521 \n",
      "     WARNING: Nmatch= 0 73.01708266774916 133.137 16.302 0.098 BVH2007 87 VMF98 63\n",
      "     WARNING: Nmatch= 0 56.41350284155176 133.306 57.996 0.475 BVH2007 88 VMF98 64\n",
      "     WARNING: Nmatch= 0 541.1648055222371 134.036 37.948 0.4107 RXC J0856.1+3756 \n",
      "     WARNING: Nmatch= 0 16.198545646575326 134.604 13.954 0.488 RX J0858.4+1357 VMF98 66\n",
      "     WARNING: Nmatch= 0 66.85394930342964 135.02 39.34 0.0951 BVH2007 89 \n",
      "     WARNING: Nmatch= 0 358.19010749447784 135.298 62.656 0.09 RXC J0901.1+6239 A0725\n",
      "     WARNING: Nmatch= 0 641.1498166153917 136.614 10.345 0.1328 A743 A0743\n",
      "     WARNING: Nmatch= 0 10.567911126797897 136.825 33.502 0.483 RX J0907.2+3330 VMF98 67\n",
      "     WARNING: Nmatch= 0 289.90432769859575 136.962 49.607 0.0352 RXC J0907.8+4936 VV 196\n",
      "     WARNING: Nmatch= 0 29.523112859087245 137.567 60.205 0.181 BVH2007 91 A0742\n",
      "     WARNING: Nmatch= 0 1023.8007046826751 137.651 -10.581 0.0916 RXCJ0910.6-1034 A0761\n",
      "     WARNING: Nmatch= 0 22.564531946794876 137.665 42.811 0.576 RX J0910.6+4248 VMF98 69\n",
      "     WARNING: Nmatch= 0 214.80375156633306 137.797 17.776 0.5049 MACSJ0911.2+1746 \n",
      "     WARNING: Nmatch= 0 1540.4894188242524 138.124 15.943 0.0851 A763 A0763\n",
      "     WARNING: Nmatch= 0 652.778421707325 138.259 47.706 0.051 RXC J0913.0+4742 A0757\n",
      "     WARNING: Nmatch= 0 294.4308101419797 139.029 17.602 0.0292 RXC J0916.1+1736 \n",
      "     WARNING: Nmatch= 0 291.87615851803656 139.955 33.76 0.023 RXC J0919.8+3345 A0779\n",
      "     WARNING: Nmatch= 0 139.94888333876077 140.002 1.04 0.0175 RXC J0920.0+0102 MKW 1s\n",
      "     WARNING: Nmatch= 0 293.76658361560476 140.094 73.837 0.133 RXC J0920.3+7350 A0765\n",
      "     WARNING: Nmatch= 0 419.0909308255822 140.109 30.515 0.2952 RXC J0920.4+3030 A0781\n",
      "     WARNING: Nmatch= 0 342.81003039850646 140.286 45.644 0.1745 RXC J0921.1+4538 3C 219\n",
      "     WARNING: Nmatch= 0 63.9053366785347 140.305 45.479 0.315 BVH2007 92 VMF98 70\n",
      "     WARNING: Nmatch= 0 166.9805791171465 140.783 22.298 0.0316 RXC J0923.1+2217 UGC 04991\n",
      "     WARNING: Nmatch= 0 1673.3145721427568 141.024 14.168 0.1357 RXC J0924.0+1410 A0795\n",
      "     WARNING: Nmatch= 0 46.30699805200567 141.652 12.716 0.489 BVH2007 93 VMF98 71\n",
      "     WARNING: Nmatch= 0 555.9851346546578 141.67 17.69 0.117 RXC J0926.6+1741 A0797\n",
      "     WARNING: Nmatch= 0 700.5727253240484 141.795 53.45 0.2052 ZwCl2379 ZwCl2379\n",
      "     WARNING: Nmatch= 0 427.0505341794918 142.021 74.783 0.124 RXC J0928.0+7446 A0786\n",
      "     WARNING: Nmatch= 0 346.06165961324047 142.033 20.542 0.192 RXC J0928.1+2032 A0801\n",
      "     WARNING: Nmatch= 0 358.04602371743164 142.157 37.799 0.2472 RXC J0928.6+3747 A0800\n",
      "     WARNING: Nmatch= 0 136.5846414869136 143.354 34.052 0.0269 RXC J0933.4+3403 UGC 05088\n",
      "     WARNING: Nmatch= 0 331.99188256755104 143.87 7.492 0.261 RXC J0935.4+0729 A0830\n",
      "     WARNING: Nmatch= 0 16.11884934125702 144.276 61.283 0.204 WARP J0937.1+6116 ZWCL 0933.6+6127\n",
      "     WARNING: Nmatch= 0 460.6126688020363 144.499 -20.346 0.0344 RXCJ0937.9-2020 S0617\n",
      "     WARNING: Nmatch= 0 196.15946873280782 144.567 75.887 0.1503 RXC J0938.2+7553 A0814\n",
      "     WARNING: Nmatch= 0 13.609550889883243 145.252 38.719 0.287 WARP J0941.0+3843 \n",
      "     WARNING: Nmatch= 0 793.700396445012 145.515 8.963 0.206 RXC J0942.0+0857 A0854\n",
      "     WARNING: Nmatch= 0 648.158818806241 145.561 15.387 0.1664 RXC J0942.2+1522 A0853\n",
      "     WARNING: Nmatch= 0 64.72123111511435 145.588 81.186 0.545 WARP J0942.3+8111 \n",
      "     WARNING: Nmatch= 0 229.46707397148907 145.779 46.998 0.4069 RXC J0943.1+4659 A0851\n",
      "     WARNING: Nmatch= 0 1100.9482531711628 145.854 -76.332 0.199 RXC J0943.4-7619 PKS 0943-76\n",
      "     WARNING: Nmatch= 0 57.67939242250188 145.885 16.667 0.256 BVH2007 94 VMF98 73\n",
      "     WARNING: Nmatch= 0 46.7384905120307 145.938 16.737 0.18 BVH2007 95 VMF98 74\n",
      "     WARNING: Nmatch= 0 406.40991626379935 146.007 64.412 0.12 RXC J0944.0+6424 A0845\n",
      "     WARNING: Nmatch= 0 215.4120559935318 146.043 -21.278 0.0077 RXCJ0944.1-2116 \n",
      "     WARNING: Nmatch= 0 1437.1784864389276 146.152 -26.566 0.1421 RXCJ0944.6-2633 \n",
      "     WARNING: Nmatch= 0 1032.9770478508494 146.352 -8.654 0.1535 RXCJ0945.4-0839 A0868\n",
      "     WARNING: Nmatch= 0 11.3618259711825 146.637 -14.164 0.23 RX J0946.5-1410 \n",
      "     WARNING: Nmatch= 0 39.6221885686878 146.941 7.688 0.625 RX J0947.7+0741 VMF98 75\n",
      "     WARNING: Nmatch= 0 12.964581947798674 146.99 7.507 0.128 RX J0947.9+0730 RX J0947.9+0730 (SSHARC)\n",
      "     WARNING: Nmatch= 0 648.9080763305052 147.164 -83.465 0.1982 RXCJ0948.6-8327 \n",
      "     WARNING: Nmatch= 0 989.1139037928899 147.47 17.13 0.3826 RXC J0949.8+1707 RX J0949.8+1708\n",
      "     WARNING: Nmatch= 0 79.20919943731887 147.532 70.566 0.21 BVH2007 96 \n",
      "     WARNING: Nmatch= 0 18.85647450827817 147.946 -1.476 0.568 RX J0951.7-0128 VMF98 76\n",
      "     WARNING: Nmatch= 0 436.8376075676286 148.301 -15.981 0.0302 RXCJ0953.2-1558 \n",
      "     WARNING: Nmatch= 0 256.9512172081559 148.4 70.908 0.185 BVH2007 97 A0875\n",
      "     WARNING: Nmatch= 0 35.83813033639596 148.436 69.791 0.214 BVH2007 98 \n",
      "     WARNING: Nmatch= 0 44.14272272445698 149.012 41.119 0.587 BVH2007 99 VMF98 79\n",
      "     WARNING: Nmatch= 0 2166.56898856745 149.11 -10.07 0.1634 RXCJ0956.4-1004 A0901\n",
      "     WARNING: Nmatch= 0 25.598517251149346 149.472 65.575 0.53 RX J0957.8+6534 VMF98 80\n",
      "     WARNING: Nmatch= 0 377.36404199302495 149.507 -26.838 0.145 MS0955.7-2635 \n",
      "     WARNING: Nmatch= 0 391.5761620352083 149.543 23.782 0.1471 RXC J0958.1+2346 \n",
      "     WARNING: Nmatch= 0 129.01924092540526 149.554 55.268 0.214 BVH2007 100 VMF98 81, A0899\n",
      "     WARNING: Nmatch= 0 80.7430877021814 149.58 47.038 0.39 BVH2007 101 \n",
      "     WARNING: Nmatch= 0 347.5230208862846 149.939 22.393 0.244 RXC J0959.7+2223 A0908\n",
      "     WARNING: Nmatch= 0 56.01979565809956 150.532 68.98 0.5 BVH2007 102 \n",
      "     WARNING: Nmatch= 0 793.7723959997903 150.661 32.7 0.0499 RXC J1002.6+3241 Zw 0959.6+3257\n",
      "     WARNING: Nmatch= 0 23.107654343700972 150.668 -8.146 0.524 RX J1002.6-0808 VMF98 83\n",
      "     WARNING: Nmatch= 0 253.24995355468684 150.767 32.908 0.4161 RXC J1003.0+3254 \n",
      "     WARNING: Nmatch= 0 70.35654865073967 150.777 -19.43 0.243 BVH2007 104 \n",
      "     WARNING: Nmatch= 0 564.1517151043187 150.783 67.158 0.206 RXC J1003.1+6709 A0910\n",
      "     WARNING: Nmatch= 0 709.6729071230918 151.665 25.91 0.1162 RXC J1006.6+2554 A0923\n",
      "     WARNING: Nmatch= 0 116.43489494616247 151.723 12.393 0.166 MS1004.2+1238 \n",
      "     WARNING: Nmatch= 0 24.371521240639805 151.785 -20.524 0.105 BVH2007 105 \n",
      "     WARNING: Nmatch= 0 283.71569657344503 151.954 0.517 0.096 RXC J1007.8+0031 A0933\n",
      "     WARNING: Nmatch= 0 21.174262155279024 152.199 53.701 0.872 WARP J1008.7+5342 \n",
      "     WARNING: Nmatch= 0 659.2443130233729 152.335 71.175 0.1927 RXC J1009.3+7110 A0914\n",
      "     WARNING: Nmatch= 0 27.836365544603 152.566 54.503 0.045 BVH2007 106 VMF98 84\n",
      "     WARNING: Nmatch= 0 169.2909605701214 152.567 54.488 0.047 RXC J1010.2+5429 RIXOS F231-526\n",
      "     WARNING: Nmatch= 0 9.629186895998895 152.743 55.963 0.171 WARP J1010.9+5557 A0935\n",
      "     WARNING: Nmatch= 0 21.734524414394663 152.751 53.968 0.372 WARP J1011.0+5358 \n",
      "     WARNING: Nmatch= 0 10.304255223537584 152.771 53.658 0.329 RX J1011.0+5339 VMF98 85\n",
      "     WARNING: Nmatch= 0 13.997136096602231 152.846 53.563 0.39 WARP J1011.3+5333 \n",
      "     WARNING: Nmatch= 0 50.69938089840346 152.856 54.835 0.294 BVH2007 107 VMF98 86\n",
      "     WARNING: Nmatch= 0 58.03907836206585 153.366 -1.612 0.276 BVH2007 108 \n",
      "     WARNING: Nmatch= 0 812.0273202380882 153.4 -13.842 0.1517 RXCJ1013.5-1350 \n",
      "     WARNING: Nmatch= 0 100.47009737333302 153.404 49.551 0.133 BVH2007 109 VMF98 87\n",
      "     WARNING: Nmatch= 0 1442.1381718356313 153.418 -0.914 0.0445 RXCJ1013.6-0054 A0957\n",
      "     WARNING: Nmatch= 0 602.454978832116 153.437 -0.108 0.0927 RXCJ1013.7-0006 A0954\n",
      "     WARNING: Nmatch= 0 27.317559161015538 153.785 49.526 0.383 RX J1015.1+4931 VMF98 88\n",
      "     WARNING: Nmatch= 0 719.2777916612852 154.094 33.635 0.124 RXC J1016.3+3338 A0961\n",
      "     WARNING: Nmatch= 0 431.1935333779749 154.15 24.808 0.0811 RXC J1016.6+2448 A0964\n",
      "     WARNING: Nmatch= 0 2157.8844798664695 154.348 -10.677 0.0586 RXCJ1017.3-1040 A0970\n",
      "     WARNING: Nmatch= 0 1071.4274276267251 154.398 59.567 0.353 RXC J1017.5+5934 A0959\n",
      "     WARNING: Nmatch= 0 57.323902869416095 154.504 21.91 0.24 BVH2007 110 \n",
      "     WARNING: Nmatch= 0 14.313631752264731 154.905 39.342 0.373 WARP J1019.6+3920 \n",
      "     WARNING: Nmatch= 0 527.7256755838422 154.999 40.987 0.0922 RXC J1019.9+4059 A0971\n",
      "     WARNING: Nmatch= 0 17.85217849965462 155.066 39.229 0.1463 WARP J1020.2+3913 RX J1020.0+3915 (BSHARC2)\n",
      "     WARNING: Nmatch= 0 548.7231438071669 155.12 -6.52 0.054 RXCJ1020.4-0631 A0978\n",
      "     WARNING: Nmatch= 0 12.42119007642324 155.127 39.38 0.143 WARP J1020.5+3922 RX J1020.2+3926 (BSHARC2)\n",
      "     WARNING: Nmatch= 0 85.31147275978647 155.189 38.524 0.053 BVH2007 NS 4 \n",
      "     WARNING: Nmatch= 0 14.448439776228394 155.247 51.549 0.5019 WARP J1020.9+5132 \n",
      "     WARNING: Nmatch= 0 1287.3702382850734 155.628 50.102 0.158 RXC J1022.5+5006 A0980\n",
      "     WARNING: Nmatch= 0 17.734615004291005 155.775 41.413 0.232 WARP J1023.1+4124 \n",
      "     WARNING: Nmatch= 0 237.9910244397454 155.829 59.808 0.2055 RXC J1023.3+5948 A0983\n",
      "     WARNING: Nmatch= 0 1826.2615550521698 155.922 49.133 0.144 RXC J1023.6+4907 A0990\n",
      "     WARNING: Nmatch= 0 1982.9596697367253 155.962 -27.258 0.2542 RXCJ1023.8-2715 A3444\n",
      "     WARNING: Nmatch= 0 145.72013599045397 156.08 68.082 0.201 BVH2007 NS 5 A0981\n",
      "     WARNING: Nmatch= 0 149.33379988338487 156.274 47.837 0.052 RXC J1025.0+4750 A1003\n",
      "     WARNING: Nmatch= 0 1259.2402348044952 156.483 12.685 0.1434 RXC J1025.9+1241 ZwCl3179\n",
      "     WARNING: Nmatch= 0 137.98697663789173 156.795 39.135 0.338 BVH2007 111 \n",
      "     WARNING: Nmatch= 0 622.0739373425115 156.999 -6.796 0.1176 RXCJ1027.9-0647 A1023\n",
      "     WARNING: Nmatch= 0 340.0951365612706 157.088 3.769 0.073 RXC J1028.3+0346 A1024\n",
      "     WARNING: Nmatch= 0 1732.6014751490736 157.932 35.049 0.1259 RXC J1031.7+3502 A1033\n",
      "     WARNING: Nmatch= 0 1019.8747358476883 158.062 40.265 0.079 RXC J1032.2+4015 A1035\n",
      "     WARNING: Nmatch= 0 18.088272616895228 158.466 57.053 0.0463 BVH2007 112 VMF98 89\n",
      "     WARNING: Nmatch= 0 866.6036156934732 158.747 30.694 0.1407 RXC J1034.9+3041 A1045\n",
      "     WARNING: Nmatch= 0 42.77305011368031 159.047 57.225 0.203 BVH2007 113 VMF98 90\n",
      "     WARNING: Nmatch= 0 55.57772975852288 159.508 41.777 0.125 BVH2007 114 A1056\n",
      "     WARNING: Nmatch= 0 823.3501544475854 159.601 -24.903 0.123 RXCJ1038.4-2454 \n",
      "     WARNING: Nmatch= 0 1126.833672973389 159.866 5.18 0.07 RXC J1039.4+0510 A1066\n",
      "     WARNING: Nmatch= 0 33.041531969656596 159.88 39.794 0.0926 BVH2007 115 \n",
      "     WARNING: Nmatch= 0 1105.3332636001087 159.935 -8.684 0.065 RXCJ1039.7-0841 A1069\n",
      "     WARNING: Nmatch= 0 1808.676362874268 160.187 -70.797 0.061 RXC J1040.7-7047 \n",
      "     WARNING: Nmatch= 0 531.6891845238752 160.392 -11.389 0.0839 RXCJ1041.5-1123 \n",
      "     WARNING: Nmatch= 0 75.8891310343703 160.601 -0.138 0.139 BVH2007 116 \n",
      "     WARNING: Nmatch= 0 2408.291928831987 161.138 -7.073 0.1342 RXCJ1044.5-0704 A1084\n",
      "     WARNING: Nmatch= 0 370.97971228665335 161.885 15.233 0.2108 RXC J1047.5+1513 A1095\n",
      "     WARNING: Nmatch= 0 27.54271090203417 162.003 -11.403 0.065 BVH2007 117 VMF98 91\n",
      "     WARNING: Nmatch= 0 184.37580144111203 162.19 22.24 0.045 RXC J1048.7+2214 A1100\n"
     ]
    },
    {
     "name": "stdout",
     "output_type": "stream",
     "text": [
      "     WARNING: Nmatch= 0 19.816187104116448 162.261 54.4 0.251 RX J1049.0+5424 VMF98 92\n",
      "     WARNING: Nmatch= 0 19.10513917667142 162.437 33.144 0.23 WARP J1049.7+3308 \n",
      "     WARNING: Nmatch= 0 778.8439326371561 162.648 -2.6 0.1651 RXCJ1050.5-0236 A1111\n",
      "     WARNING: Nmatch= 0 801.7529553297396 162.651 -24.096 0.2037 RXCJ1050.6-2405 \n",
      "     WARNING: Nmatch= 0 5.064001559171557 163.327 57.346 0.34 RX J1053.3+5720 VMF98 93\n",
      "     WARNING: Nmatch= 0 631.8701671662443 163.433 54.872 0.0704 RXC J1053.7+5452 RXJ1053.7+5450\n",
      "     WARNING: Nmatch= 0 730.4210094286543 163.434 49.499 0.14 MS1050.7+4946 \n",
      "     WARNING: Nmatch= 0 728.085605199821 163.451 16.84 0.0852 RXC J1053.8+1650 A1126\n",
      "     WARNING: Nmatch= 0 27.576742036908044 164.053 49.553 0.199 RX J1056.2+4933 VMF98 94\n",
      "     WARNING: Nmatch= 0 60.62383604166683 164.248 -3.625 0.8309 MS1054.4-0321 \n",
      "     WARNING: Nmatch= 0 126.5735773120525 164.432 37.635 0.0353 RXC J1057.7+3738 \n",
      "     WARNING: Nmatch= 0 276.6045816874371 164.543 1.587 0.0398 RXCJ1058.1+0135 A1139\n",
      "     WARNING: Nmatch= 0 225.4845129906827 164.553 1.616 0.0385 BVH2007 118 VMF98 95, A1139\n",
      "     WARNING: Nmatch= 0 1803.0985823365734 164.608 56.792 0.1369 RXC J1058.4+5647 A1132\n",
      "     WARNING: Nmatch= 0 22.010784408801815 164.71 62.398 0.37 WARP J1058.8+6223 \n",
      "     WARNING: Nmatch= 0 18.96592909370111 164.997 64.352 0.192 WARP J1059.9+6421 ZWCL 1056.5+6437\n",
      "     WARNING: Nmatch= 0 679.2464239622097 165.204 10.56 0.0353 RXC J1100.8+1033 A1142\n",
      "     WARNING: Nmatch= 0 708.9052789592347 165.32 -22.728 0.1416 RXCJ1101.2-2243 A1146\n",
      "     WARNING: Nmatch= 0 19.813423944158476 165.905 35.922 0.775 WARP J1103.6+3555 \n",
      "     WARNING: Nmatch= 0 16.963875004295964 166.125 36.006 0.497 WARP J1104.4+3600 \n",
      "     WARNING: Nmatch= 0 716.6273279148564 166.829 -23.002 0.0639 RXCJ1107.3-2300 S0651\n",
      "     WARNING: Nmatch= 0 793.9978588857014 167.328 41.562 0.0763 RXC J1109.3+4133 A1173\n",
      "     WARNING: Nmatch= 0 476.2459627423729 167.429 21.762 0.0319 RXC J1109.7+2145 A1177\n",
      "     WARNING: Nmatch= 0 37.71521228178887 167.519 -29.952 0.2 BVH2007 119 \n",
      "     WARNING: Nmatch= 0 817.814927983309 167.695 28.706 0.0314 A1185 A1185\n",
      "     WARNING: Nmatch= 0 1386.31761242103 167.91 40.842 0.0794 RXC J1111.6+4050 A1190\n",
      "     WARNING: Nmatch= 0 21.88711312834105 168.274 -26.26 0.725 WARP J1113.0-2615 \n",
      "     WARNING: Nmatch= 0 1481.8876559489627 168.336 2.532 0.078 RXC J1113.3+0231 A1205\n",
      "     WARNING: Nmatch= 0 112.96748662089294 168.452 40.289 0.0795 RX J1113.8+4017 A1203\n",
      "     WARNING: Nmatch= 0 1519.4446874323296 168.55 -38.189 0.1306 RXCJ1114.1-3811 MS1111.8\n",
      "     WARNING: Nmatch= 0 698.0291049987097 168.599 58.39 0.2065 RXC J1114.3+5823 Zw 1111.0+5843\n",
      "     WARNING: Nmatch= 0 508.06781676962197 168.887 54.435 0.0691 RXC J1115.5+5426 \n",
      "     WARNING: Nmatch= 0 346.67104186312076 169.014 24.688 0.1021 RXC J1116.0+2441 \n",
      "     WARNING: Nmatch= 0 35.16826192122876 169.228 18.056 0.0032 BVH2007 120 NGC3607\n",
      "     WARNING: Nmatch= 0 28.863375157172865 169.3 17.74 0.305 RX J1117.2+1744 VMF98 96\n",
      "     WARNING: Nmatch= 0 15.272419389723193 169.359 7.726 0.477 RX J1117.4+0743 VMF98 97\n",
      "     WARNING: Nmatch= 0 39.863956318482145 169.375 17.746 0.547 BVH2007 121 VMF98 98\n",
      "     WARNING: Nmatch= 0 15.733535569849856 169.375 7.777 0.155 WARP J1117.5+0746 RX J111730.1+074618 (RIXOS)\n",
      "     WARNING: Nmatch= 0 20.5640756048564 169.864 21.115 0.174 WARP J1119.4+2106 RX J111927.0+210651 (RIXOS), RX J1119.4+2106 (BSHARC2)\n",
      "     WARNING: Nmatch= 0 7.1987165692894814 169.931 21.446 0.061 RX J1119.7+2126 VMF98 99\n",
      "     WARNING: Nmatch= 0 91.59877710964024 170.032 43.302 0.6 BVH2007 122 RX J1120.1+4318 (BSHARC)\n",
      "     WARNING: Nmatch= 0 61.93180357521454 170.243 23.443 0.562 BVH2007 123 VMF98 100\n",
      "     WARNING: Nmatch= 0 531.7496555756042 170.398 48.063 0.112 RXC J1121.5+4803 A1227\n",
      "     WARNING: Nmatch= 0 866.3019614463041 170.428 2.818 0.0468 RXC J1121.7+0249 SHK 352 f\n",
      "     WARNING: Nmatch= 0 139.45802756600182 170.56 67.213 0.056 RXC J1122.2+6712 \n",
      "     WARNING: Nmatch= 0 219.75639358937764 170.585 24.317 0.0258 RXC J1122.3+2419 HCG 51\n",
      "     WARNING: Nmatch= 0 323.3641822982727 170.707 1.108 0.072 RXC J1122.8+0106 A1238\n",
      "     WARNING: Nmatch= 0 186.54570563940956 170.708 34.123 0.043 RXC J1122.8+3407 UGC 06394\n",
      "     WARNING: Nmatch= 0 47.17060859098999 170.794 14.161 0.34 BVH2007 124 VMF98 101\n",
      "     WARNING: Nmatch= 0 688.0864093976519 170.805 19.6 0.1042 RXC J1123.2+1935 A1235\n",
      "     WARNING: Nmatch= 0 973.972976017632 170.991 21.49 0.1904 RXC J1123.9+2129 A1246\n",
      "     WARNING: Nmatch= 0 28.15481257291686 171.016 -17.003 0.407 RX J1124.0-1700 VMF98 102\n",
      "     WARNING: Nmatch= 0 100.99170506386959 171.152 41.932 0.195 BVH2007 125 VMF98 103\n",
      "     WARNING: Nmatch= 0 17.371688323599063 171.196 38.995 0.3014 WARP J1124.7+3859 \n",
      "     WARNING: Nmatch= 0 14.99060289633394 171.346 38.902 0.5477 WARP J1125.3+3854 \n",
      "     WARNING: Nmatch= 0 781.32930431617 171.748 17.115 0.127 RXC J1126.9+1706 A1264\n",
      "     WARNING: Nmatch= 0 47.70796592176671 171.939 43.163 0.344 BVH2007 126 MS 1125.3+4324\n",
      "     WARNING: Nmatch= 0 381.9822628554265 172.005 75.49 0.165 RXC J1128.0+7529 A1255\n",
      "     WARNING: Nmatch= 0 45.438154763546784 172.226 42.867 0.411 BVH2007 127 \n",
      "     WARNING: Nmatch= 0 581.9611021591219 172.468 23.792 0.1371 RXC J1129.8+2347 A1272\n",
      "     WARNING: Nmatch= 0 779.1702414428105 172.52 20.477 0.129 RXC J1130.0+2028 A1278\n",
      "     WARNING: Nmatch= 0 1062.6021834251776 172.523 -42.23 0.155 RXC J1130.0-4213 \n",
      "     WARNING: Nmatch= 0 2162.4595803292223 172.581 -14.583 0.1068 RXCJ1130.3-1434 A1285\n",
      "     WARNING: Nmatch= 0 438.2106167280572 172.843 33.582 0.2212 RXC J1131.3+3334 A1290\n",
      "     WARNING: Nmatch= 0 729.4465949281296 173.082 55.979 0.0527 RXC J1132.3+5558 A1291\n",
      "     WARNING: Nmatch= 0 2784.9228999357915 173.221 14.469 0.0834 RXC J1132.8+1428 A1307\n",
      "     WARNING: Nmatch= 0 925.7735743200028 173.32 66.379 0.116 RXC J1133.2+6622 A1302\n",
      "     WARNING: Nmatch= 0 309.5603865298973 173.488 75.116 0.122 RXC J1133.9+7506 A1301\n",
      "     WARNING: Nmatch= 0 19.512121917317824 173.559 59.876 0.29 WARP J1134.2+5952 ZWCL 1131.2+6009\n",
      "     WARNING: Nmatch= 0 415.2653128690255 173.71 49.058 0.0341 RXC J1134.8+4903 A1314\n",
      "     WARNING: Nmatch= 0 670.4358283816968 173.822 -13.519 0.0722 RXCJ1135.2-1331 A1317\n",
      "     WARNING: Nmatch= 0 34.37704809441893 173.977 21.518 0.133 BVH2007 128 VMF98 104\n",
      "     WARNING: Nmatch= 0 29.74896630928535 174.68 3.259 0.127 BVH2007 129 VMF98 105\n",
      "     WARNING: Nmatch= 0 855.1598613710255 174.864 -33.454 0.1076 RXCJ1139.4-3327 \n",
      "     WARNING: Nmatch= 0 27.95639944282578 175.099 66.139 0.7843 MS1137.5+6625 \n",
      "     WARNING: Nmatch= 0 349.76703250206873 175.306 10.741 0.109 RXC J1141.2+1044 A1345\n",
      "     WARNING: Nmatch= 0 1158.3948992021574 175.351 -12.272 0.1195 RXCJ1141.4-1216 A1348\n",
      "     WARNING: Nmatch= 0 103.82639700003675 175.519 21.75 0.131 BVH2007 130 VMF98 106\n",
      "     WARNING: Nmatch= 0 103.2084898532798 175.526 10.148 0.119 BVH2007 131 A1354\n",
      "     WARNING: Nmatch= 0 66.99396174882325 175.569 10.451 0.117 BVH2007 132 A1356, BS RXJ1142.2+1026\n",
      "     WARNING: Nmatch= 0 429.77669676061834 175.628 58.539 0.322 RXC J1142.5+5832 A1351\n",
      "     WARNING: Nmatch= 0 11.471968194784251 175.664 10.473 0.188 WARP J1142.6+1028 \n",
      "     WARNING: Nmatch= 0 979.9467533672754 176.168 67.41 0.1159 RXC J1144.6+6724 A1366\n",
      "     WARNING: Nmatch= 0 1204.8297367045304 176.329 -34.429 0.0697 RXCJ1145.3-3425 A3490\n",
      "     WARNING: Nmatch= 0 586.9080438012826 176.344 15.495 0.067 RXC J1145.3+1529 A1371\n",
      "     WARNING: Nmatch= 0 1406.7040721887004 176.411 -54.341 0.155 RXC J1145.6-5420 \n",
      "     WARNING: Nmatch= 0 90.08421138698557 176.612 28.905 0.149 BVH2007 133 VMF98 107\n",
      "     WARNING: Nmatch= 0 438.295872973367 176.836 55.743 0.051 RXC J1147.3+5544 A1377\n",
      "     WARNING: Nmatch= 0 315.0265471954737 177.271 51.585 0.132 RXC J1149.0+5135 A1387\n",
      "     WARNING: Nmatch= 0 1024.0467276261677 177.449 -12.318 0.1557 RXCJ1149.7-1219 A1391\n",
      "     WARNING: Nmatch= 0 99.93257194987339 177.469 10.776 0.303 MS1147.3+1103 \n",
      "     WARNING: Nmatch= 0 998.1539098185411 177.909 -16.321 0.0722 RXCJ1151.6-1619 \n",
      "     WARNING: Nmatch= 0 7.640502606541856 177.918 81.077 0.29 RX J1151.6+8104 VMF98 108\n",
      "     WARNING: Nmatch= 0 90.66431013478346 178.149 37.546 0.23 BVH2007 134 \n",
      "     WARNING: Nmatch= 0 537.1613978883792 179.018 73.418 0.083 RXC J1156.0+7325 A1412\n",
      "     WARNING: Nmatch= 0 150.0478009473671 179.194 42.635 0.174 MS1154.1+4255 \n",
      "     WARNING: Nmatch= 0 628.1475946757632 179.241 24.258 0.1392 RXC J1156.9+2415 ZwCl4673\n",
      "     WARNING: Nmatch= 0 649.7307114721402 179.37 5.063 0.077 RXC J1157.4+0503 A1424\n",
      "     WARNING: Nmatch= 0 7.559792339884339 179.549 55.362 0.135 RX J1158.1+5521 VMF98 109\n",
      "     WARNING: Nmatch= 0 626.8077684347919 179.822 49.794 0.211 RXC J1159.2+4947 A1430\n",
      "     WARNING: Nmatch= 0 204.96840080843694 180.01 11.404 0.207 RXC J1200.0+1122 \n",
      "     WARNING: Nmatch= 0 1137.1996985242808 180.021 -31.406 0.0685 RXCJ1200.0-3124 A3497\n",
      "     WARNING: Nmatch= 0 99.44374916014318 180.032 68.152 0.265 BVH2007 136 \n",
      "     WARNING: Nmatch= 0 910.6263589105569 180.092 56.23 0.065 RXC J1200.3+5613 A1436\n",
      "     WARNING: Nmatch= 0 2005.751702001306 180.106 3.334 0.1339 RXC J1200.4+0320 A1437\n",
      "     WARNING: Nmatch= 0 49.88047267920738 180.206 -3.458 0.396 BVH2007 137 VMF98 111\n",
      "     WARNING: Nmatch= 0 707.0846656571201 180.264 -46.391 0.118 RXC J1201.0-4623 \n",
      "     WARNING: Nmatch= 0 138.82180807291837 180.27 12.159 0.304 BVH2007 138 \n",
      "     WARNING: Nmatch= 0 598.2215755346706 180.326 23.109 0.269 RXC J1201.3+2306 A1443\n",
      "     WARNING: Nmatch= 0 41.909084227951126 180.557 57.865 0.677 BVH2007 139 \n",
      "     WARNING: Nmatch= 0 745.5811114221585 180.726 -6.835 0.1268 RXCJ1202.9-0650 A1448\n",
      "     WARNING: Nmatch= 0 476.6745443101119 180.762 28.604 0.1341 RXC J1203.0+2836 A1449\n",
      "     WARNING: Nmatch= 0 1694.7637052195225 180.821 -21.523 0.1992 RXCJ1203.2-2131 A1451\n",
      "     WARNING: Nmatch= 0 253.50349061836968 181.013 28.123 0.1631 RXC J1204.0+2807 A1455\n",
      "     WARNING: Nmatch= 0 368.36780094328367 181.048 20.348 0.0252 RXC J1204.1+2020 NGC 4066\n",
      "     WARNING: Nmatch= 0 19.1253258993054 181.095 -3.849 0.261 RX J1204.3-0350 VMF98 113\n",
      "     WARNING: Nmatch= 0 122.42990827840562 181.24 22.617 0.2519 RXC J1204.9+2237 A1466\n",
      "     WARNING: Nmatch= 0 7.788202397506168 181.262 -3.542 0.368 RX J1205.0-0333 BSe RXJ1205.0-0332\n",
      "     WARNING: Nmatch= 0 1625.700124085451 181.302 39.349 0.0381 RXC J1205.2+3920 RXJ1205.1+3920\n",
      "     WARNING: Nmatch= 0 14.827488056256929 181.387 44.319 0.3384 WARP J1205.5+4419 \n",
      "     WARNING: Nmatch= 0 22.07069427951396 181.466 44.487 0.5921 WARP J1205.8+4429 RX J1205.8+4429 (BSHARC2)\n",
      "     WARNING: Nmatch= 0 13.539218296304254 181.528 44.325 0.2946 WARP J1206.1+4419 \n",
      "     WARNING: Nmatch= 0 202.90743384637926 181.617 22.253 0.0656 RXC J1206.4+2215 PGC 038401\n",
      "     WARNING: Nmatch= 0 277.6590994387959 181.64 -7.74 0.068 BVH2007 140 VMF98 114\n",
      "     WARNING: Nmatch= 0 498.00035187602646 181.656 28.184 0.0283 RXC J1206.6+2811 NGC 4104\n",
      "     WARNING: Nmatch= 0 314.00002440258885 181.743 71.658 0.1912 RXC J1206.9+7139 A1470\n",
      "     WARNING: Nmatch= 0 117.60452168949799 182.075 -29.633 0.171 MS1205.7-2921 \n",
      "     WARNING: Nmatch= 0 1015.7494194270729 182.578 5.385 0.0748 RXC J1210.3+0523 ZwCl4905\n",
      "     WARNING: Nmatch= 0 1246.3757212074443 182.684 -46.738 0.032 RXC J1210.7-4644 S0689\n",
      "     WARNING: Nmatch= 0 376.40706120625316 182.758 35.332 0.138 RXC J1211.0+3519 A1483\n",
      "     WARNING: Nmatch= 0 89.47781048359292 182.817 39.195 0.34 BVH2007 141 VMF98 115, MS1208.7+3928\n",
      "     WARNING: Nmatch= 0 710.6358881859902 183.079 -18.279 0.269 RXCJ1212.3-1816 \n",
      "     WARNING: Nmatch= 0 441.8973332309347 183.08 27.554 0.353 BVH2007 142 A1489\n",
      "     WARNING: Nmatch= 0 216.3297795227229 183.246 27.454 0.179 BVH2007 143 A1489\n",
      "     WARNING: Nmatch= 0 37.71657888808323 183.393 2.899 0.409 BVH2007 144 VMF98 116\n",
      "     WARNING: Nmatch= 0 1125.3498809777218 183.871 -39.015 0.119 RXCJ1215.4-3900 \n",
      "     WARNING: Nmatch= 0 41.110258352699894 184.083 26.556 0.428 BVH2007 145 VMF98 117\n",
      "     WARNING: Nmatch= 0 13.039628060773815 184.311 69.67 0.107 WARP J1217.2+6940 \n",
      "     WARNING: Nmatch= 0 178.7091473857484 184.432 47.487 0.27 BVH2007 146 \n",
      "     WARNING: Nmatch= 0 64.69585143050365 184.452 22.921 0.14 BVH2007 147 \n",
      "     WARNING: Nmatch= 0 401.2535625123386 184.62 40.218 0.3038 RXC J1218.4+4013 \n",
      "     WARNING: Nmatch= 0 11.93300879605024 184.621 30.196 0.368 RX J1218.4+3011 VMF98 118\n",
      "     WARNING: Nmatch= 0 1605.3376588941962 184.832 -13.26 0.0688 RXCJ1219.3-1315 A1520\n",
      "     WARNING: Nmatch= 0 73.69925059853549 185.072 75.37 0.0059 BVH2007 148 NGC4291\n",
      "     WARNING: Nmatch= 0 31.595787830036244 185.232 18.176 0.4294 WARP J1220.9+1810 \n",
      "     WARNING: Nmatch= 0 61.803646368469806 185.354 49.302 0.7 BVH2007 149 VMF98 119\n",
      "     WARNING: Nmatch= 0 52.34424731147517 185.508 27.155 0.472 BVH2007 150 \n",
      "     WARNING: Nmatch= 0 31.276257530855382 185.529 75.438 0.24 RX J1222.1+7526 MS1219.9+7542\n",
      "     WARNING: Nmatch= 0 39.88403019903302 185.568 25.994 0.16 BVH2007 151 \n",
      "     WARNING: Nmatch= 0 1064.4538388691649 185.777 10.624 0.0258 RXC J1223.1+1037 NGC 4325\n",
      "     WARNING: Nmatch= 0 7.606297049400538 186.073 75.527 0.0056 BVH2007 152 NGC4386\n"
     ]
    },
    {
     "name": "stdout",
     "output_type": "stream",
     "text": [
      "     WARNING: Nmatch= 0 223.76701299165504 186.167 31.986 0.063 RXC J1224.6+3159 SHK 245\n",
      "     WARNING: Nmatch= 0 653.3726139476962 186.3 32.229 0.0594 RXC J1225.2+3213 \n",
      "     WARNING: Nmatch= 0 37.266600944325326 186.592 62.411 0.398 BVH2007 153 \n",
      "     WARNING: Nmatch= 0 428.68082996466893 186.775 19.854 0.3241 RXC J1227.1+1951 MS 1224.7+2007\n",
      "     WARNING: Nmatch= 0 79.79808840485366 186.809 8.971 0.0873 BVH2007 155 RX J1227.2+0858 (SSHARC)\n",
      "     WARNING: Nmatch= 0 427.88610972595836 186.867 8.829 0.0896 RXC J1227.4+0849 A1541\n",
      "     WARNING: Nmatch= 0 458.04342333333557 186.96 63.383 0.1454 RXC J1227.8+6322 A1544\n",
      "     WARNING: Nmatch= 0 296.4852225960129 187.22 19.408 0.161 RXC J1228.8+1924 A1548\n",
      "     WARNING: Nmatch= 0 428.61792176460307 187.259 47.625 0.254 RXC J1229.0+4737 A1550\n",
      "     WARNING: Nmatch= 0 627.8440966936053 187.497 11.789 0.0852 RXC J1229.9+1147 A1552\n",
      "     WARNING: Nmatch= 0 78.37281973531135 187.559 23.434 0.221 BVH2007 156 \n",
      "     WARNING: Nmatch= 0 450.160525255102 187.679 34.655 0.3331 RXC J1230.7+3439 \n",
      "     WARNING: Nmatch= 0 1475.2621878757514 187.696 10.561 0.165 RXC J1230.7+1033 A1553\n",
      "     WARNING: Nmatch= 0 170.7594040426209 187.773 0.629 0.0232 RXC J1231.0+0037 NGC 4493\n",
      "     WARNING: Nmatch= 0 399.68680741298493 187.85 82.428 0.2053 RXC J1231.3+8225 \n",
      "     WARNING: Nmatch= 0 64.85008449160196 187.94 41.62 0.176 BVH2007 157 \n",
      "     WARNING: Nmatch= 0 91.64728199087806 188.202 26.094 0.22 RX J1232.8+2605 \n",
      "     WARNING: Nmatch= 0 204.40117583781793 188.481 15.432 0.238 MS1231.3+1542 \n",
      "     WARNING: Nmatch= 0 590.7842094828204 188.566 9.783 0.229 RXC J1234.2+0947 Zw 1231.4+1007\n",
      "     WARNING: Nmatch= 0 1067.0468824432512 188.571 -38.943 0.2373 RXCJ1234.2-3856 \n",
      "     WARNING: Nmatch= 0 71.76707540352626 188.777 41.296 0.189 BVH2007 158 A1565\n",
      "     WARNING: Nmatch= 0 22.775689542872627 188.988 27.712 0.3821 WARP J1235.9+2742 \n",
      "     WARNING: Nmatch= 0 38.72429534804606 189.119 12.406 0.0667 BVH2007 159 IC3574\n",
      "     WARNING: Nmatch= 0 8.482064237655871 189.131 0.862 0.205 RX J1236.5+0051 VMF98 121\n",
      "     WARNING: Nmatch= 0 915.0557670146999 189.186 -33.903 0.0796 RXCJ1236.7-3354 S0700\n",
      "     WARNING: Nmatch= 0 676.701186445621 189.194 -35.533 0.0736 RXCJ1236.7-3531 S0701\n",
      "     WARNING: Nmatch= 0 57.11308230518364 189.237 25.841 0.175 BVH2007 160 RX J1236.9+2550\n",
      "     WARNING: Nmatch= 0 15.322530032979783 189.411 26.54 0.278 RX J1237.6+2632 VMF98 123\n",
      "     WARNING: Nmatch= 0 2144.511662868211 190.057 -48.433 0.152 RXC J1240.2-4825 \n",
      "     WARNING: Nmatch= 0 29.898570027549273 190.104 -11.793 0.193 WARP J1240.4-1147 \n",
      "     WARNING: Nmatch= 0 1308.6839749065866 190.33 18.571 0.073 RXC J1241.3+1834 A1589\n",
      "     WARNING: Nmatch= 0 126.63641034492444 190.388 32.84 0.39 RX J1241.5+3250 \n",
      "     WARNING: Nmatch= 0 445.83945495084987 190.845 27.276 0.194 RXC J1243.3+2716 A1602\n",
      "     WARNING: Nmatch= 0 90.43377948908973 191.007 16.895 0.549 MS1241.5+1710 \n",
      "     WARNING: Nmatch= 0 1253.3510513206554 191.158 -11.985 0.0963 RXCJ1244.6-1159 A1606\n",
      "     WARNING: Nmatch= 0 318.7303477603073 191.522 70.965 0.225 MS1244.2+7114 ZwCl5434?\n",
      "     WARNING: Nmatch= 0 336.9193786859421 191.843 55.011 0.083 RXC J1247.3+5500 A1616\n",
      "     WARNING: Nmatch= 0 13.359814652895098 191.93 -5.816 0.2928 WARP J1247.7-0548 \n",
      "     WARNING: Nmatch= 0 636.772955931744 191.93 -2.792 0.1797 RXCJ1247.7-0247 A1612\n",
      "     WARNING: Nmatch= 0 19.732844285734853 192.152 -5.8 0.0041 BVH2007 161 NGC4697\n",
      "     WARNING: Nmatch= 0 48.43703930033909 193.02 -29.347 0.188 BVH2007 162 VMF98 124\n",
      "     WARNING: Nmatch= 0 2698.265741777928 193.142 -31.268 0.0535 RXCJ1252.5-3116 \n",
      "     WARNING: Nmatch= 0 56.22202003754653 193.27 62.803 0.235 BVH2007 163 A1636\n",
      "     WARNING: Nmatch= 0 1004.8513161203242 193.31 -15.38 0.0462 RXCJ1253.2-1522 A1631\n",
      "     WARNING: Nmatch= 0 44.16228053736651 193.312 15.931 0.275 RX J1253.2+1556 BSe RXJ1253.2+1556\n",
      "     WARNING: Nmatch= 0 3187.707171541052 193.421 -39.532 0.1794 RXCJ1253.6-3931 \n",
      "     WARNING: Nmatch= 0 881.1678659867559 193.511 -6.701 0.1962 RXCJ1254.0-0642 A1634\n",
      "     WARNING: Nmatch= 0 20.481092523248755 193.66 25.754 0.193 RX J1254.6+2545 VMF98 126\n",
      "     WARNING: Nmatch= 0 753.7667556898533 193.696 -15.444 0.1506 RXCJ1254.7-1526 \n",
      "     WARNING: Nmatch= 0 29.566439555097666 193.723 25.849 0.233 RX J1254.8+2550 VMF98 127\n",
      "     WARNING: Nmatch= 0 178.68019395660056 193.878 35.36 0.1585 RXC J1255.5+3521 \n",
      "     WARNING: Nmatch= 0 1809.9767313218588 193.894 -30.33 0.0541 RXCJ1255.5-3019 A3530\n",
      "     WARNING: Nmatch= 0 435.1414663243499 193.926 -12.655 0.0585 RXCJ1255.7-1239 \n",
      "     WARNING: Nmatch= 0 21.179014348846223 194.02 25.948 0.232 RX J1256.0+2556 VMF98 128\n",
      "     WARNING: Nmatch= 0 242.0684120047798 194.111 4.67 0.23 MS1253.9+0456 ZwCl5587\n",
      "     WARNING: Nmatch= 0 13.464374578510526 194.164 47.255 0.404 RX J1256.6+4715 VMF98 129\n",
      "     WARNING: Nmatch= 0 859.6106493774902 194.249 -31.322 0.0561 RXCJ1256.9-3119 \n",
      "     WARNING: Nmatch= 0 348.16869937269263 194.292 -13.656 0.0151 RXCJ1257.1-1339 \n",
      "     WARNING: Nmatch= 0 3826.6518991802404 194.32 -30.377 0.0554 RXCJ1257.2-3022 A3532\n",
      "     WARNING: Nmatch= 0 330.42207382673337 194.334 69.506 0.227 RXC J1257.3+6930 Zw 1255.4+6946\n",
      "     WARNING: Nmatch= 0 947.7854450425557 194.708 -26.668 0.0767 RXCJ1258.8-2640 A1648\n",
      "     WARNING: Nmatch= 0 81.95218243451684 194.939 -32.617 0.076 RX J1259.7-3236 \n",
      "     WARNING: Nmatch= 0 95.32443103173341 194.962 31.347 0.0523 BVH2007 164 \n",
      "     WARNING: Nmatch= 0 681.1046318334062 195.401 -6.833 0.0898 RXCJ1301.6-0650 \n",
      "     WARNING: Nmatch= 0 69.68900366373433 195.431 10.993 0.231 BVH2007 165 VMF98 130\n",
      "     WARNING: Nmatch= 0 781.4431405648403 195.711 -2.506 0.0847 RXCJ1302.8-0230 A1663\n",
      "     WARNING: Nmatch= 0 293.52359170611913 195.761 57.942 0.1961 RXC J1303.0+5756 \n",
      "     WARNING: Nmatch= 0 1855.0562075640566 195.94 19.271 0.0643 RXC J1303.7+1916 A1668\n",
      "     WARNING: Nmatch= 0 867.36378811171 196.07 -30.515 0.0117 RXCJ1304.2-3030 \n",
      "     WARNING: Nmatch= 0 637.3946542394062 196.115 33.592 0.1882 RXC J1304.4+3335 A1672\n",
      "     WARNING: Nmatch= 0 1334.475157975617 196.477 -37.661 0.0497 RXCJ1305.9-3739 S0721\n",
      "     WARNING: Nmatch= 0 850.3540193509313 196.478 30.906 0.1832 RXC J1305.9+3054 A1677\n",
      "     WARNING: Nmatch= 0 752.2076831184764 196.507 26.505 0.3063 ZwCl5699 ZwCl5699\n",
      "     WARNING: Nmatch= 0 942.586681946408 196.728 46.556 0.2259 RXC J1306.9+4633 A1682\n",
      "     WARNING: Nmatch= 0 89.44790353066331 196.953 29.43 0.241 MS1305.4+2941 ZwCl5722\n",
      "     WARNING: Nmatch= 0 43.22098073107453 197.137 53.704 0.33 BVH2007 166 RX J1308.5+5342 (BSHARC)\n",
      "     WARNING: Nmatch= 0 967.3057824862459 197.321 -1.613 0.088 RXCJ1309.2-0136 MS1306.7\n",
      "     WARNING: Nmatch= 0 20.249531981316277 197.482 32.375 0.29 RX J1309.9+3222 VMF98 131\n",
      "     WARNING: Nmatch= 0 810.687581934551 197.791 39.218 0.072 RXC J1311.1+3913 A1691\n",
      "     WARNING: Nmatch= 0 128.62280970157437 197.803 32.483 0.245 BVH2007 167 VMF98 132\n",
      "     WARNING: Nmatch= 0 37.73651053132081 197.876 -5.857 0.461 RX J1311.5-0551 VMF98 133\n",
      "     WARNING: Nmatch= 0 773.513863694219 197.884 22.009 0.266 ZwCl5768 ZwCl5768\n",
      "     WARNING: Nmatch= 0 245.41672686519112 197.93 22.027 0.1716 RXC J1311.7+2201 \n",
      "     WARNING: Nmatch= 0 57.63367411177154 197.958 32.461 0.43 RX J1311.8+3227 \n",
      "     WARNING: Nmatch= 0 73.59898503760188 198.081 39.016 0.404 BVH2007 168 \n",
      "     WARNING: Nmatch= 0 671.6533274579609 198.277 46.281 0.183 RXC J1313.1+4616 A1697\n",
      "     WARNING: Nmatch= 0 36.83169756428417 198.413 -32.845 0.0518 BVH2007 169 BS RXJ1313.6-3250\n",
      "     WARNING: Nmatch= 0 851.2711052426218 198.556 -6.993 0.1892 RXCJ1314.2-0659 A1698\n",
      "     WARNING: Nmatch= 0 301.6858751670447 198.561 41.393 0.2011 RXC J1314.2+4123 \n",
      "     WARNING: Nmatch= 0 776.6202837222919 198.602 64.578 0.22 RXC J1314.4+6434 A1704\n",
      "     WARNING: Nmatch= 0 1741.7899936066906 198.617 -25.261 0.2439 RXCJ1314.4-2515 \n",
      "     WARNING: Nmatch= 0 600.1452712029245 198.778 51.825 0.2836 RXC J1315.1+5149 A1703\n",
      "     WARNING: Nmatch= 0 18.657606519458803 199.017 28.922 0.253 WARP J1316.0+2856S GHO 1313+2911\n",
      "     WARNING: Nmatch= 0 1062.6001375225612 199.29 -38.362 0.2553 RXCJ1317.1-3821 \n",
      "     WARNING: Nmatch= 0 208.87195059405377 199.936 -21.456 0.164 MS1317.0-2111 \n",
      "     WARNING: Nmatch= 0 500.3698231565882 200.018 70.062 0.3275 RXC J1320.0+7003 A1722\n",
      "     WARNING: Nmatch= 0 734.3891785527412 200.178 -41.04 0.0495 RXCJ1320.7-4102 S0727\n",
      "     WARNING: Nmatch= 0 607.1839538960004 200.196 -48.93 0.227 RXC J1320.7-4855 \n",
      "     WARNING: Nmatch= 0 397.19137891549906 200.237 33.904 0.182 RXC J1320.9+3354 A1716\n",
      "     WARNING: Nmatch= 0 391.6528514981463 200.718 31.646 0.3083 RXC J1322.8+3138 \n",
      "     WARNING: Nmatch= 0 728.8508896940757 200.876 11.296 0.0911 A1728 A1728\n",
      "     WARNING: Nmatch= 0 349.1911598466168 201.05 13.979 0.023 RXC J1324.1+1358 NGC 5129\n",
      "     WARNING: Nmatch= 0 28.405990241289356 201.257 -38.227 0.296 RX J1325.0-3814 BSe RXJ1325.0-3814\n",
      "     WARNING: Nmatch= 0 923.6504634202105 201.278 -20.236 0.1926 RXCJ1325.1-2014 A1732\n",
      "     WARNING: Nmatch= 0 20.34686128541546 201.312 65.841 0.18 RX J1325.2+6550 VMF98 134\n",
      "     WARNING: Nmatch= 0 46.724782919551956 201.395 -38.431 0.445 RX J1325.5-3826 BSe RXJ1325.6-3825\n",
      "     WARNING: Nmatch= 0 650.1211498018589 201.457 59.322 0.1515 RXC J1325.8+5919 A1744\n",
      "     WARNING: Nmatch= 0 1880.1631687354654 201.572 12.501 0.204 RXC J1326.2+1230 A1735\n",
      "     WARNING: Nmatch= 0 1058.8876431003775 201.574 0.226 0.0826 RXCJ1326.2+0013 RXJ1326.3+0013\n",
      "     WARNING: Nmatch= 0 131.44573097441685 202.366 11.723 0.0228 BVH2007 170 VMF98 136, NGC5171, NGC5176\n",
      "     WARNING: Nmatch= 0 686.0722378015703 202.384 11.789 0.022 RXC J1329.5+1147 MKW 11\n",
      "     WARNING: Nmatch= 0 30.722489632949117 202.414 29.768 0.0473 BVH2007 NS 8 CGCG161-067\n",
      "     WARNING: Nmatch= 0 24.30241012325137 202.456 -33.173 0.0511 BVH2007 171 \n",
      "     WARNING: Nmatch= 0 20.387649258043115 202.493 58.569 0.302 WARP J1329.9+5834 \n",
      "     WARNING: Nmatch= 0 2743.963952891407 202.708 -1.873 0.0852 RXCJ1330.8-0152 A1750\n",
      "     WARNING: Nmatch= 0 38.09624827879196 202.746 58.249 0.31 WARP J1330.9+5814 \n",
      "     WARNING: Nmatch= 0 13.700441001370157 202.876 11.134 0.085 WARP J1331.5+1108 RX J133129.9+110802 (RIXOS)\n",
      "     WARNING: Nmatch= 0 51.84752449440077 202.879 62.64 0.219 BVH2007 172 \n",
      "     WARNING: Nmatch= 0 770.6910462955726 202.885 -31.815 0.0448 RXCJ1331.5-3148 A3558 (C)\n",
      "     WARNING: Nmatch= 0 2597.7961731279825 203.094 -33.139 0.0487 RXCJ1332.3-3308 A3560\n",
      "     WARNING: Nmatch= 0 471.1873808597105 203.167 54.32 0.1017 RXC J1332.6+5419 \n",
      "     WARNING: Nmatch= 0 625.4295346719522 203.233 -25.324 0.1199 RXCJ1332.9-2519 \n",
      "     WARNING: Nmatch= 0 1367.3403968136836 203.425 -23.284 0.1264 RXCJ1333.6-2317 A1757\n",
      "     WARNING: Nmatch= 0 528.8903684941617 203.529 20.231 0.171 RXC J1334.1+2013 A1759\n",
      "     WARNING: Nmatch= 0 53.894750188075456 203.585 50.518 0.62 BVH2007 173 \n",
      "     WARNING: Nmatch= 0 256.10271900660416 203.599 34.691 0.024 RXC J1334.3+3441 NGC 5223\n",
      "     WARNING: Nmatch= 0 2.719050019093728 203.643 37.949 0.308 RX J1334.5+3756 VMF98 138\n",
      "     WARNING: Nmatch= 0 6.081844655128375 203.765 37.833 0.382 RX J1335.0+3750 VMF98 139\n",
      "     WARNING: Nmatch= 0 2442.5088560734657 204.025 59.208 0.0701 RXC J1336.1+5912 A1767\n",
      "     WARNING: Nmatch= 0 256.36789633409455 204.162 -33.958 0.0123 RXCJ1336.6-3357 A3565\n",
      "     WARNING: Nmatch= 0 11.068263835483597 204.175 38.626 0.18 RX J1336.7+3837 VMF98 140\n",
      "     WARNING: Nmatch= 0 24.689287426120828 204.296 26.826 0.41 WARP J1337.1+2649 \n",
      "     WARNING: Nmatch= 0 801.4693017286795 204.367 -41.333 0.0519 RXCJ1337.4-4120 \n",
      "     WARNING: Nmatch= 0 23.314990136736174 204.46 26.647 0.342 RX J1337.8+2638 VMF98 142\n",
      "     WARNING: Nmatch= 0 33.79421737781028 204.472 38.903 0.252 RX J1337.8+3854 VMF98 143\n",
      "     WARNING: Nmatch= 0 103.09723541612738 204.524 -29.739 0.189 BVH2007 174 MS1335.2-2928\n",
      "     WARNING: Nmatch= 0 5.815812512951084 204.603 26.744 0.029 WARP J1338.4+2644 \n",
      "     WARNING: Nmatch= 0 171.37914894338667 204.709 38.855 0.246 BVH2007 175 3C28\n",
      "     WARNING: Nmatch= 0 24.384320223833058 204.768 27.757 0.13 WARP J1339.0+2745 \n",
      "     WARNING: Nmatch= 0 235.84362223178059 204.895 18.512 0.114 RXC J1339.5+1830 \n"
     ]
    },
    {
     "name": "stdout",
     "output_type": "stream",
     "text": [
      "     WARNING: Nmatch= 0 33.47715181543266 205.14 40.296 0.171 BVH2007 176 VMF98 144\n",
      "     WARNING: Nmatch= 0 81.89781682661561 205.225 39.974 0.169 BVH2007 177 VMF98 145, A1774\n",
      "     WARNING: Nmatch= 0 2514.661362218314 205.474 26.372 0.0724 RXC J1341.8+2622 A1775\n",
      "     WARNING: Nmatch= 0 1042.7905724491116 205.523 2.227 0.0765 RXCJ1342.0+0213 A1773\n",
      "     WARNING: Nmatch= 0 20.59174285140361 205.705 40.47 0.699 RX J1342.8+4028 VMF98 148\n",
      "     WARNING: Nmatch= 0 23.473332014698162 205.854 40.887 0.14 RX J1343.4+4053 VMF98 149\n",
      "     WARNING: Nmatch= 0 30.506414300217585 205.866 55.782 0.0673 BVH2007 179 VMF98 150, A1783\n",
      "     WARNING: Nmatch= 0 188.31697075402835 205.939 55.639 0.0766 RX J1343.7+5538 A1783\n",
      "     WARNING: Nmatch= 0 156.1369636732752 206.076 39.112 0.2997 RXC J1344.3+3906 \n",
      "     WARNING: Nmatch= 0 519.6313103601158 206.557 -16.545 0.0557 RXCJ1346.2-1632 \n",
      "     WARNING: Nmatch= 0 771.6390176175039 206.719 -37.874 0.0377 RXCJ1346.8-3752 A3570\n",
      "     WARNING: Nmatch= 0 273.3886615142299 206.801 -30.419 0.0145 RXCJ1347.2-3025 A3574W\n",
      "     WARNING: Nmatch= 0 740.1384414719821 207.233 -25.442 0.1269 RXCJ1348.9-2526 A1791\n",
      "     WARNING: Nmatch= 0 138.54312192407306 207.251 49.309 0.167 BVH2007 180 A1804\n",
      "     WARNING: Nmatch= 0 829.7336125880313 207.33 -30.309 0.016 RXCJ1349.3-3018 A3574E\n",
      "     WARNING: Nmatch= 0 1950.7493454618564 207.34 28.104 0.0748 RXC J1349.3+2806 A1800\n",
      "     WARNING: Nmatch= 0 800.8649857818771 207.683 -33.722 0.1142 RXCJ1350.7-3343 \n",
      "     WARNING: Nmatch= 0 38.85320047738633 207.71 60.126 0.796 WARP J1350.8+6007 \n",
      "     WARNING: Nmatch= 0 485.2392164527395 207.94 46.367 0.0625 RXC J1351.7+4622 \n",
      "     WARNING: Nmatch= 0 639.3391797105359 208.058 -9.759 0.2021 RXCJ1352.2-0945 A1807\n",
      "     WARNING: Nmatch= 0 1378.1278692916196 208.254 5.155 0.0788 RXC J1353.0+0509 A1809\n",
      "     WARNING: Nmatch= 0 777.2312107300928 208.372 -27.889 0.0468 RXCJ1353.4-2753 \n",
      "     WARNING: Nmatch= 0 671.6934340578337 208.51 14.923 0.1251 RXC J1354.0+1455 A1814\n",
      "     WARNING: Nmatch= 0 40.38991780784938 208.57 -2.363 0.546 BVH2007 181 VMF98 151\n",
      "     WARNING: Nmatch= 0 486.6831657674416 208.658 77.26 0.3967 RXC J1354.6+7715 \n",
      "     WARNING: Nmatch= 0 12.889566800355311 208.705 69.289 0.207 RX J1354.8+6917 VMF98 152\n",
      "     WARNING: Nmatch= 0 56.18172248004142 209.331 62.545 0.525 BVH2007 182 \n",
      "     WARNING: Nmatch= 0 166.3458276815893 209.508 20.636 0.062 RXC J1358.0+2038 A1825\n",
      "     WARNING: Nmatch= 0 4371.8147176142575 209.737 -47.839 0.074 RXC J1358.9-4750 \n",
      "     WARNING: Nmatch= 0 2266.348964817633 209.823 27.973 0.0612 RXC J1359.2+2758 A1831\n",
      "     WARNING: Nmatch= 0 355.485424054474 210.06 72.126 0.2143 RXC J1400.2+7207 A1851\n",
      "     WARNING: Nmatch= 0 983.5395485477103 210.403 -11.125 0.0698 RXCJ1401.6-1107 A1837\n",
      "     WARNING: Nmatch= 0 948.5443664547231 210.9 -33.988 0.0132 RXCJ1403.5-3359 S0753\n",
      "     WARNING: Nmatch= 0 56.218446200966966 211.116 4.384 0.23 MS1401.9+0437 \n",
      "     WARNING: Nmatch= 0 22.85219516867565 211.568 28.514 0.546 RX J1406.2+2830 VMF98 153\n",
      "     WARNING: Nmatch= 0 50.54841381973932 211.729 28.571 0.118 BVH2007 183 VMF98 154\n",
      "     WARNING: Nmatch= 0 4373.547721977505 211.969 -51.009 0.0966 RXC J1407.8-5100 \n",
      "     WARNING: Nmatch= 0 662.8597535826908 212.029 -9.071 0.0354 RXCJ1408.1-0904 CAN 40\n",
      "     WARNING: Nmatch= 0 93.6918996298554 212.556 59.711 0.316 BVH2007 184 VMF98 155\n",
      "     WARNING: Nmatch= 0 52.34830327109386 212.566 59.641 0.319 BVH2007 185 VMF98 156\n",
      "     WARNING: Nmatch= 0 1426.669656634705 212.619 -42.777 0.049 RXC J1410.4-4246 \n",
      "     WARNING: Nmatch= 0 74.3497887258349 213.148 -3.153 0.221 MS1409.9-0255 \n",
      "     WARNING: Nmatch= 0 1039.9277271638048 213.431 43.663 0.089 RXC J1413.7+4339 A1885\n",
      "     WARNING: Nmatch= 0 582.8950800657007 213.551 71.26 0.225 A1895 A1895\n",
      "     WARNING: Nmatch= 0 33.68252423158075 213.796 36.201 0.7 WARP J1415.1+3612 \n",
      "     WARNING: Nmatch= 0 827.7621858266507 213.809 -0.501 0.1403 RXCJ1415.2-0030 A1882\n",
      "     WARNING: Nmatch= 0 6.904883371975238 213.827 23.149 0.064 WARP J1415.3+2308 \n",
      "     WARNING: Nmatch= 0 193.83415587088072 213.965 0.259 0.1259 RXC J1415.8+0015 \n",
      "     WARNING: Nmatch= 0 359.5163242030664 214.112 23.259 0.138 BVH2007 186 \n",
      "     WARNING: Nmatch= 0 122.09320855250479 214.117 44.777 0.4 BVH2007 187 VMF98 158\n",
      "     WARNING: Nmatch= 0 184.19431914624803 214.135 30.762 0.186 RXC J1416.5+3045 A1889\n",
      "     WARNING: Nmatch= 0 821.7167867799775 214.214 -11.976 0.0982 RXCJ1416.8-1158 \n",
      "     WARNING: Nmatch= 0 233.60080633572304 214.63 25.18 0.29 BVH2007 188 VMF98 159\n",
      "     WARNING: Nmatch= 0 454.5395398021706 214.747 49.05 0.2806 RXC J1418.9+4903 \n",
      "     WARNING: Nmatch= 0 37.766727966174706 214.848 6.645 0.574 RX J1419.3+0638 VMF98 161\n",
      "     WARNING: Nmatch= 0 20.48344098208869 214.969 6.572 0.5641 WARP J1419.9+0634W VMF98 162\n",
      "     WARNING: Nmatch= 0 1207.1484767904042 215.398 49.552 0.0716 RXC J1421.5+4933 Zw 1420.2+4952\n",
      "     WARNING: Nmatch= 0 943.2961357854324 215.423 37.296 0.1813 RXC J1421.6+3717 A1902\n",
      "     WARNING: Nmatch= 0 564.488288006003 215.489 -20.16 0.1208 RXCJ1421.9-2009 \n",
      "     WARNING: Nmatch= 0 229.96274377493623 215.792 26.256 0.0375 RXC J1423.1+2615 RXJ1423.1+2616\n",
      "     WARNING: Nmatch= 0 72.96873623033018 215.795 29.703 0.261 MS1421.0+2955 \n",
      "     WARNING: Nmatch= 0 1601.4966635684295 215.93 -54.203 0.3 RXC J1423.7-5412 \n",
      "     WARNING: Nmatch= 0 401.8713009502004 215.969 40.262 0.0822 RXC J1423.8+4015 RXJ1423.9+4015\n",
      "     WARNING: Nmatch= 0 1217.1936248929744 216.345 63.187 0.1394 RXC J1425.3+6311 A1918\n",
      "     WARNING: Nmatch= 0 329.42532041691345 216.915 -25.351 0.318 MACSJ1427.6-2521 \n",
      "     WARNING: Nmatch= 0 15.67445674116889 216.992 26.506 0.0324 BVH2007 189 IC4436\n",
      "     WARNING: Nmatch= 0 642.9939934886429 217.117 56.883 0.1051 RXC J1428.4+5652 A1925\n",
      "     WARNING: Nmatch= 0 98.10463996567829 217.247 1.754 0.32 MS1426.4+0158 \n",
      "     WARNING: Nmatch= 0 20.14771983431911 217.274 42.687 0.92 WARP J1429.0+4241 CRSS J1429.1+4241\n",
      "     WARNING: Nmatch= 0 1195.584837916342 217.779 25.639 0.0908 RXC J1431.1+2538 A1927\n",
      "     WARNING: Nmatch= 0 1061.0988985185284 218.12 31.633 0.1313 A1930 A1930\n",
      "     WARNING: Nmatch= 0 409.0965422314939 218.572 -32.484 0.241 BVH2007 190 S0766\n",
      "     WARNING: Nmatch= 0 684.2977988538539 218.753 -28.366 0.0689 RXCJ1435.0-2821 A3605\n",
      "     WARNING: Nmatch= 0 784.0262981243685 219.223 -9.003 0.0842 RXCJ1436.8-0900 \n",
      "     WARNING: Nmatch= 0 53.7074643761453 219.243 55.129 0.125 BVH2007 191 \n",
      "     WARNING: Nmatch= 0 56.671970409525706 219.711 64.394 0.146 BVH2007 192 VMF98 164\n",
      "     WARNING: Nmatch= 0 1430.1550284144944 220.577 22.305 0.0901 RXC J1442.3+2218 UGC 09480\n",
      "     WARNING: Nmatch= 0 43.43096850891077 221.027 63.748 0.298 BVH2007 NS 11 VMF98 165, A1969\n",
      "     WARNING: Nmatch= 0 498.936555449712 221.094 31.235 0.234 A1961 A1961\n",
      "     WARNING: Nmatch= 0 1188.89571940222 221.857 8.464 0.1954 RXC J1447.4+0827 \n",
      "     WARNING: Nmatch= 0 129.17485362671732 222.151 -27.819 0.175 BVH2007 193 A3609\n",
      "     WARNING: Nmatch= 0 1078.3036261209854 222.775 14.611 0.146 A1978 A1978\n",
      "     WARNING: Nmatch= 0 37.325236959932795 222.822 18.683 0.0439 BVH2007 194 IC1062\n",
      "     WARNING: Nmatch= 0 870.238424830437 223.245 16.7 0.0444 RXC J1452.9+1641 A1983\n",
      "     WARNING: Nmatch= 0 473.9314357172366 223.28 21.895 0.1186 RXC J1453.1+2153 A1986\n",
      "     WARNING: Nmatch= 0 232.46818695475312 223.617 16.37 0.0456 RXC J1454.4+1622 \n",
      "     WARNING: Nmatch= 0 780.7548841547654 223.808 -33.427 0.1158 RXCJ1455.2-3325 \n",
      "     WARNING: Nmatch= 0 899.6986530330295 224.051 -38.44 0.115 RXC J1456.2-3826 \n",
      "     WARNING: Nmatch= 0 100.7694844072317 224.062 22.353 0.108 MS1454.0+2233 ZwCl7160\n",
      "     WARNING: Nmatch= 0 704.5050365812971 224.081 -5.828 0.22 RXCJ1456.3-0549 A1994\n",
      "     WARNING: Nmatch= 0 722.2173438946924 224.765 -8.725 0.1043 RXCJ1459.0-0843 \n",
      "     WARNING: Nmatch= 0 2847.1520089274904 224.872 -18.187 0.2357 RXCJ1459.4-1811 S0780\n",
      "     WARNING: Nmatch= 0 33.05373610389043 225.011 22.568 0.23 BVH2007 NS 12 VMF98 166\n",
      "     WARNING: Nmatch= 0 2311.412209350318 225.085 21.362 0.153 A2009 A2009\n",
      "     WARNING: Nmatch= 0 50.52324381667597 225.215 22.745 0.45 RX J1500.8+2244 VMF98 167\n",
      "     WARNING: Nmatch= 0 12.69868344603384 225.268 -8.416 0.51 WARP J1501.0-0824 \n",
      "     WARNING: Nmatch= 0 356.9816502465407 225.326 -8.509 0.108 BVH2007 195 \n",
      "     WARNING: Nmatch= 0 497.3872710128903 225.347 42.346 0.2917 RXC J1501.3+4220 ZwCl7215\n",
      "     WARNING: Nmatch= 0 73.89911744710939 226.163 -14.899 0.284 BVH2007 196 \n",
      "     WARNING: Nmatch= 0 500.7658452699056 227.776 18.044 0.1161 RXC J1511.1+1802 A2036\n",
      "     WARNING: Nmatch= 0 1825.2936319229814 227.848 6.319 0.0817 A2033 A2033\n",
      "     WARNING: Nmatch= 0 282.31829558552744 227.89 1.764 0.0384 RXCJ1511.5+0145 \n",
      "     WARNING: Nmatch= 0 860.5925971772292 228.053 -22.916 0.3152 RXCJ1512.2-2254 \n",
      "     WARNING: Nmatch= 0 278.5361061873786 228.155 34.86 0.1489 RXC J1512.6+3451 A2046\n",
      "     WARNING: Nmatch= 0 690.8004413066285 228.213 -1.48 0.1223 RXCJ1512.8-0128 \n",
      "     WARNING: Nmatch= 0 14.349878794904853 228.556 55.464 0.4753 WARP J1514.2+5527 \n",
      "     WARNING: Nmatch= 0 158.83143535372312 228.592 36.606 0.372 BVH2007 NS 13 MS1512.4+3647\n",
      "     WARNING: Nmatch= 0 4518.463674684896 228.651 -45.981 0.058 RXC J1514.6-4558 \n",
      "     WARNING: Nmatch= 0 29.8916521791802 228.73 55.691 0.559 WARP J1514.9+5541 \n",
      "     WARNING: Nmatch= 0 1276.4057972015644 228.742 -15.386 0.2226 RXCJ1514.9-1523 \n",
      "     WARNING: Nmatch= 0 75.53245208231775 228.887 43.776 0.137 BVH2007 197 VMF98 168\n",
      "     WARNING: Nmatch= 0 23.135115095167233 228.903 43.847 0.243 RX J1515.6+4350 VMF98 169\n",
      "     WARNING: Nmatch= 0 1036.2832691143797 229.08 0.098 0.1181 RXCJ1516.3+0005 A2050\n",
      "     WARNING: Nmatch= 0 731.2983533564021 229.142 -0.949 0.1198 RXCJ1516.5-0056 A2051\n",
      "     WARNING: Nmatch= 0 15.754266738928417 229.483 31.46 0.744 WARP J1517.9+3127 \n",
      "     WARNING: Nmatch= 0 1076.5746404102697 229.595 -46.54 0.056 RXC J1518.3-4632 \n",
      "     WARNING: Nmatch= 0 1987.807642732537 229.69 6.231 0.1021 RXC J1518.7+0613 A2055\n",
      "     WARNING: Nmatch= 0 1271.6681610161115 230.227 48.669 0.1076 RXC J1520.9+4840 A2064\n",
      "     WARNING: Nmatch= 0 2882.0024122091545 230.321 30.64 0.0777 A2061 A2061\n",
      "     WARNING: Nmatch= 0 197.09567132148803 230.556 29.877 0.117 MS1520.1+3002 \n",
      "     WARNING: Nmatch= 0 535.1687352581041 230.783 30.845 0.0756 A2067 A2067\n",
      "     WARNING: Nmatch= 0 28.556644564237608 231.017 10.054 0.22 WARP J1524.0+1003 \n",
      "     WARNING: Nmatch= 0 2581.391071426286 231.053 -31.904 0.1028 RXCJ1524.2-3154 \n",
      "     WARNING: Nmatch= 0 92.44851540776986 231.168 9.96 0.516 BVH2007 198 VMF98 170\n",
      "     WARNING: Nmatch= 0 14.437309690784724 231.218 10.088 0.251 WARP J1524.8+1005 \n",
      "     WARNING: Nmatch= 0 657.774265623611 231.436 28.428 0.1515 A2073 A2073\n",
      "     WARNING: Nmatch= 0 995.4397634739788 231.477 18.236 0.127 A2072 A2072\n",
      "     WARNING: Nmatch= 0 488.4014028959962 232.016 69.942 0.1136 RXC J1528.0+6956 \n",
      "     WARNING: Nmatch= 0 415.36035262920456 233.321 31.149 0.0673 BVH2007 199 A2092\n",
      "     WARNING: Nmatch= 0 43.39201351958801 233.758 1.347 0.32 MS1532.5+0130 \n",
      "     WARNING: Nmatch= 0 218.76367191935398 233.788 -46.979 0.036 RXC J1535.1-4658 \n",
      "     WARNING: Nmatch= 0 224.49865278024674 234.147 1.556 0.309 BVH2007 NS 14 \n",
      "     WARNING: Nmatch= 0 54.875901039960304 234.436 12.006 0.134 BVH2007 200 VMF98 171\n",
      "     WARNING: Nmatch= 0 2188.5008995924095 234.953 30.717 0.098 RXC J1539.8+3043 A2110\n",
      "     WARNING: Nmatch= 0 949.755457247141 235.038 17.878 0.0916 A2108 A2108\n",
      "     WARNING: Nmatch= 0 19.342065079708625 235.222 14.759 0.441 RX J1540.8+1445 VMF98 172\n",
      "     WARNING: Nmatch= 0 14.421367437151186 236.021 53.774 0.112 RX J1544.0+5346 VMF98 173\n",
      "     WARNING: Nmatch= 0 64.86503463020874 236.835 20.95 0.266 BVH2007 NS 17 VMF98 174\n",
      "     WARNING: Nmatch= 0 713.3428769419362 237.191 -2.996 0.101 RXCJ1548.7-0259 A2128\n",
      "     WARNING: Nmatch= 0 232.15556253044807 237.31 11.389 0.226 MS1546.8+1132 \n",
      "     WARNING: Nmatch= 0 115.9173516068071 238.051 20.228 0.136 BVH2007 201 VMF98 175\n",
      "     WARNING: Nmatch= 0 224.2766158315482 238.335 51.123 0.2354 RXC J1553.3+5107 A2136\n",
      "     WARNING: Nmatch= 0 372.3483672554101 238.573 32.628 0.075 RXC J1554.2+3237 \n",
      "     WARNING: Nmatch= 0 948.2136652301646 239.037 66.356 0.2339 RXC J1556.1+6621 A2146\n",
      "     WARNING: Nmatch= 0 654.9429010552357 239.438 35.504 0.1549 RXC J1557.7+3530 A2141\n",
      "     WARNING: Nmatch= 0 3373.8371814210745 239.597 -14.168 0.097 RXCJ1558.3-1410 \n"
     ]
    },
    {
     "name": "stdout",
     "output_type": "stream",
     "text": [
      "     WARNING: Nmatch= 0 24.4742226040775 239.792 63.885 0.85 WARP J1559.1+6353 \n",
      "     WARNING: Nmatch= 0 685.9376149531248 240.095 33.222 0.088 MS1558.5+3321 A2145\n",
      "     WARNING: Nmatch= 0 885.8546793196376 240.347 53.906 0.1068 RXC J1601.3+5354 A2149\n",
      "     WARNING: Nmatch= 0 4224.441956261476 240.445 -75.746 0.153 RXC J1601.7-7544 \n",
      "     WARNING: Nmatch= 0 710.1249688402899 240.759 25.404 0.0888 A2148 A2148\n",
      "     WARNING: Nmatch= 0 1806.1326385682926 241.238 23.921 0.0326 RXC J1604.9+2355 AWM 4\n",
      "     WARNING: Nmatch= 0 438.1700742606874 241.382 72.147 0.1332 RXC J1605.5+7208 \n",
      "     WARNING: Nmatch= 0 535.8209707264111 241.384 16.442 0.037 A2152 A2152\n",
      "     WARNING: Nmatch= 0 29.910244042785028 241.677 23.483 0.31 RX J1606.7+2329 VMF98 176\n",
      "     WARNING: Nmatch= 0 244.59505255733538 241.718 17.781 0.0321 A2151b A2151b\n",
      "     WARNING: Nmatch= 0 977.4494288690453 243.533 -63.131 0.062 RXC J1614.1-6307 \n",
      "     WARNING: Nmatch= 0 412.89037486308575 243.54 49.153 0.0579 A2169 A2169\n",
      "     WARNING: Nmatch= 0 58.37714753376954 243.548 34.424 0.269 BVH2007 202 \n",
      "     WARNING: Nmatch= 0 11.35823140122913 243.604 68.428 0.128 WARP J1614.4+6825 \n",
      "     WARNING: Nmatch= 0 318.3976637675543 243.895 19.46 0.0308 RXC J1615.5+1927 NGC 6098\n",
      "     WARNING: Nmatch= 0 1030.4124307311113 244.363 34.937 0.0315 RXC J1617.5+3458 NGC 6107\n",
      "     WARNING: Nmatch= 0 232.14222229085672 244.574 29.64 0.2993 RXC J1618.2+2938 \n",
      "     WARNING: Nmatch= 0 55.379416927956605 244.767 32.512 0.274 MS1617.1+3237 \n",
      "     WARNING: Nmatch= 0 38.861439380470514 245.09 17.389 0.112 BVH2007 NS 18 VMF98 177\n",
      "     WARNING: Nmatch= 0 1502.854941194752 245.132 29.895 0.0972 RXC J1620.5+2953 A2175\n",
      "     WARNING: Nmatch= 0 340.0380770058744 245.255 25.772 0.161 MS1618.9+2552 A2177\n",
      "     WARNING: Nmatch= 0 95.9937280047207 245.898 26.57 0.4274 MS1621.5+2640 \n",
      "     WARNING: Nmatch= 0 3784.8927336080064 246.586 -33.489 0.1098 RXC J1626.3-3329 \n",
      "     WARNING: Nmatch= 0 556.3453209197762 246.746 55.48 0.13 RXC J1626.9+5528 A2201\n",
      "     WARNING: Nmatch= 0 328.31598423922685 246.848 42.678 0.0317 RXC J1627.3+4240 A2192\n",
      "     WARNING: Nmatch= 0 377.96685700706706 246.917 40.92 0.0301 RXC J1627.6+4055 A2197\n",
      "     WARNING: Nmatch= 0 408.2933745219475 246.995 -29.881 0.064 RXC J1627.9-2952 \n",
      "     WARNING: Nmatch= 0 537.0319406000252 247.437 58.524 0.1329 RXC J1629.7+5831 A2208\n",
      "     WARNING: Nmatch= 0 58.149954596503925 247.442 21.399 0.184 BVH2007 203 VMF98 178\n",
      "     WARNING: Nmatch= 0 398.57869038296946 247.561 24.58 0.0655 BVH2007 204 VMF98 179\n",
      "     WARNING: Nmatch= 0 57.022135643832875 247.77 21.365 0.098 BVH2007 205 VMF98 180\n",
      "     WARNING: Nmatch= 0 3560.7153438188557 247.913 -75.122 0.105 RXC J1631.6-7507 A3628\n",
      "     WARNING: Nmatch= 0 6.190619301803643 248.417 57.244 0.239 RX J1633.6+5714 VMF98 181\n",
      "     WARNING: Nmatch= 0 597.2743942367656 248.475 -7.645 0.0974 RXCJ1633.8-0738 \n",
      "     WARNING: Nmatch= 0 217.1440185876573 248.659 67.637 0.1668 RXC J1634.6+6738 A2216\n",
      "     WARNING: Nmatch= 0 332.4905454075847 249.981 53.799 0.111 BVH2007 206 VMF98 182, A2220\n",
      "     WARNING: Nmatch= 0 229.9078585720523 250.296 82.541 0.206 BVH2007 207 VMF98 183\n",
      "     WARNING: Nmatch= 0 86.96536362200116 250.468 40.025 0.464 BVH2007 208 VMF98 184\n",
      "     WARNING: Nmatch= 0 25.14459728631978 250.662 39.598 0.355 RX J1642.6+3935 VMF98 186\n",
      "     WARNING: Nmatch= 0 374.92386533662136 250.804 51.25 0.199 RXC J1643.2+5114 A2227\n",
      "     WARNING: Nmatch= 0 293.5194164076751 250.834 21.526 0.1535 RXC J1643.3+2131 \n",
      "     WARNING: Nmatch= 0 1582.438663889744 251.359 -73.582 0.069 RXC J1645.4-7334 \n",
      "     WARNING: Nmatch= 0 1180.9440981220184 251.67 -60.399 0.148 RXC J1646.6-6023 \n",
      "     WARNING: Nmatch= 0 253.59628532729675 252.301 53.417 0.029 WARP J1649.2+5325 ARP 330, SHK 016\n",
      "     WARNING: Nmatch= 0 631.0788697915714 253.068 44.82 0.1753 RXC J1652.2+4449 \n",
      "     WARNING: Nmatch= 0 549.361346014487 253.166 40.193 0.1481 RXJ1652.6+4011 RXJ1652.6+4011\n",
      "     WARNING: Nmatch= 0 611.6585914523552 253.232 40.153 0.1492 RXC J1652.9+4009 \n",
      "     WARNING: Nmatch= 0 8317.525001410133 253.253 -59.733 0.048 RXC J1653.0-5943 \n",
      "     WARNING: Nmatch= 0 350.24935184204764 253.597 23.57 0.0575 RXC J1654.3+2334 \n",
      "     WARNING: Nmatch= 0 332.8806971237993 253.695 58.902 0.0869 RXC J1654.7+5854 A2239\n",
      "     WARNING: Nmatch= 0 1242.5847855299921 253.757 -26.425 0.094 RXC J1655.0-2625 \n",
      "     WARNING: Nmatch= 0 490.3025814477954 253.984 -1.229 0.0408 RXCJ1655.9-0113 \n",
      "     WARNING: Nmatch= 0 503.3830011939026 254.439 -1.832 0.0313 RXCJ1657.7-0149 \n",
      "     WARNING: Nmatch= 0 42.131671565342046 254.452 53.029 0.479 WARP J1657.8+5301 \n",
      "     WARNING: Nmatch= 0 989.9870668455848 254.503 27.854 0.0337 RXC J1658.0+2751 AWM 5\n",
      "     WARNING: Nmatch= 0 40.42414709996255 254.521 52.902 0.4655 WARP J1658.0+5254 \n",
      "     WARNING: Nmatch= 0 94.81557777226466 254.641 34.502 0.33 BVH2007 209 VMF98 187\n",
      "     WARNING: Nmatch= 0 54.99582587977139 254.759 32.487 0.0621 BVH2007 NS 20 \n",
      "     WARNING: Nmatch= 0 228.1951885354467 254.904 68.438 0.0504 RXC J1659.6+6826 \n",
      "     WARNING: Nmatch= 0 24.004564134924852 254.936 34.171 0.341 RX J1659.7+3410 VMF98 188\n",
      "     WARNING: Nmatch= 0 880.7676891538747 254.936 32.613 0.1013 RXC J1659.7+3236 A2241,B\n",
      "     WARNING: Nmatch= 0 268.06287693104866 255.195 64.214 0.225 RXC J1700.7+6412 A2246\n",
      "     WARNING: Nmatch= 0 498.99520442519537 255.223 -31.741 0.134 RXC J1700.8-3144 \n",
      "     WARNING: Nmatch= 0 118.28654216143228 255.344 64.236 0.453 BVH2007 211 VMF98 190\n",
      "     WARNING: Nmatch= 0 72.60747526598692 255.366 34.01 0.096 BVH2007 NS 21 \n",
      "     WARNING: Nmatch= 0 6.376907512464753 255.442 64.354 0.22 RX J1701.7+6421 VMF98 191\n",
      "     WARNING: Nmatch= 0 13.00106587543331 255.555 64.333 0.224 RX J1702.2+6420 VMF98 192\n",
      "     WARNING: Nmatch= 0 475.9522497650072 255.633 33.513 0.0843 A2245 A2245\n",
      "     WARNING: Nmatch= 0 10.718740939088825 255.789 59.648 0.1822 WARP J1703.1+5938 \n",
      "     WARNING: Nmatch= 0 1314.691838353476 256.293 -82.174 0.0737 RXCJ1705.1-8210 S0792\n",
      "     WARNING: Nmatch= 0 612.1263642478898 256.492 -74.375 0.19 RXC J1705.9-7422 \n",
      "     WARNING: Nmatch= 0 1185.738694404758 256.611 -1.54 0.0912 RXCJ1706.4-0132 Zw1703.8\n",
      "     WARNING: Nmatch= 0 2523.691843284767 257.453 34.441 0.0802 RXC J1709.8+3426 A2249\n",
      "     WARNING: Nmatch= 0 547.2187932916031 257.762 39.694 0.0647 RXC J1711.0+3941 A2250\n",
      "     WARNING: Nmatch= 0 297.6886695243865 258.578 43.69 0.0276 RXC J1714.3+4341 NGC 6329\n",
      "     WARNING: Nmatch= 0 1053.819232902607 258.803 3.163 0.1647 RXC J1715.2+0309 RXJ1715.2+0309\n",
      "     WARNING: Nmatch= 0 2212.4691078086867 258.841 57.407 0.0276 RXC J1715.3+5724 NGC 6338 i)\n",
      "     WARNING: Nmatch= 0 6.64891170196937 258.969 36.937 0.091 WARP J1715.8+3656 \n",
      "     WARNING: Nmatch= 0 646.684033772934 259.043 20.357 0.1306 ZwCl8182 ZwCl8182\n",
      "     WARNING: Nmatch= 0 62.72609204539325 259.165 64.176 0.2507 RX J1716.6+6410 \n",
      "     WARNING: Nmatch= 0 725.4081032338414 259.329 42.444 0.1754 ZwCl8193 ZwCl8193\n",
      "     WARNING: Nmatch= 0 262.4900052466674 259.4 36.464 0.1709 RXC J1717.6+3627 \n",
      "     WARNING: Nmatch= 0 1476.1998312559995 259.455 19.683 0.178 RXC J1717.8+1940 A2254\n",
      "     WARNING: Nmatch= 0 704.4377113455047 259.473 32.586 0.1054 RXC J1717.8+3235 A2257\n",
      "     WARNING: Nmatch= 0 1132.9367276730504 259.541 56.666 0.1138 RXC J1718.1+5639 Zw 1717.9+5636\n",
      "     WARNING: Nmatch= 0 788.1771680764191 259.542 78.022 0.0584 RXC J1718.1+7801 A2271\n",
      "     WARNING: Nmatch= 0 12.49551135670658 260.353 67.554 0.0861 RX J1721.4+6733 \n",
      "     WARNING: Nmatch= 0 120.76942816338617 260.562 30.704 0.05 RXC J1722.2+3042 CGCG170-018\n",
      "     WARNING: Nmatch= 0 78.01780548688444 260.725 41.092 0.309 BVH2007 212 VMF98 193\n",
      "     WARNING: Nmatch= 0 164.6394096901581 260.847 56.978 0.0272 RXC J1723.3+5658 NGC 6370\n",
      "     WARNING: Nmatch= 0 14.68250943571113 261.048 70.007 0.0386 RX J1724.1+7000 \n",
      "     WARNING: Nmatch= 0 16.14496887302108 261.067 69.946 0.0386 RX J1724.2+6956 \n",
      "     WARNING: Nmatch= 0 17.47926666261582 261.197 67.269 0.254 RX J1724.7+6716 \n",
      "     WARNING: Nmatch= 0 974.1648706581309 261.744 -3.295 0.088 RXC J1726.9-0317 \n",
      "     WARNING: Nmatch= 0 122.81731614409746 261.858 70.594 0.3059 RX J1727.4+7035 \n",
      "     WARNING: Nmatch= 0 73.81002887347888 262.165 70.685 0.5509 RX J1728.6+7041 \n",
      "     WARNING: Nmatch= 0 39.50884386172471 262.253 74.678 0.213 BVH2007 213 VMF98 194\n",
      "     WARNING: Nmatch= 0 252.7842878681909 262.621 74.375 0.11 RXC J1730.4+7422 \n",
      "     WARNING: Nmatch= 0 549.630578212195 262.913 22.864 0.389 MACSJ1731.6+2252 \n",
      "     WARNING: Nmatch= 0 374.9278429309378 263.772 64.102 0.1406 RXC J1735.0+6406 A2276\n",
      "     WARNING: Nmatch= 0 1495.5149661226756 263.949 -7.362 0.0239 RXC J1735.7-0721 \n",
      "     WARNING: Nmatch= 0 306.8484179204972 263.976 16.994 0.0858 RXC J1735.9+1659 \n",
      "     WARNING: Nmatch= 0 216.53124055989787 264.092 68.057 0.0248 RXC J1736.3+6803 Zw 1745.6+6703\n",
      "     WARNING: Nmatch= 0 1013.6121563561697 265.136 35.647 0.0428 RXC J1740.5+3538 RXJ1740.5+3539\n",
      "     WARNING: Nmatch= 0 61.85674898540386 265.695 67.598 0.042 RX J1742.7+6735 \n",
      "     WARNING: Nmatch= 0 748.5941950558358 265.701 39.01 0.0423 RXC J1742.8+3900 \n",
      "     WARNING: Nmatch= 0 74.0510455950201 265.847 64.672 0.179 RX J1743.3+6440 \n",
      "     WARNING: Nmatch= 0 122.88069004658684 265.867 63.694 0.327 RX J1743.4+6341 \n",
      "     WARNING: Nmatch= 0 15.470377375124615 266.318 65.938 0.608 RX J1745.2+6556 \n",
      "     WARNING: Nmatch= 0 33.270195256097246 266.579 68.831 0.203 WARP J1746.3+6849W VMF98 195\n",
      "     WARNING: Nmatch= 0 15.333876498232126 266.638 68.814 0.307 WARP J1746.3+6849E VMF98 195\n",
      "     WARNING: Nmatch= 0 17.647857669037357 266.688 66.656 0.3864 RX J1746.7+6639 \n",
      "     WARNING: Nmatch= 0 514.0493311684982 266.82 45.216 0.1565 RXC J1747.2+4512 ZwCl8284\n",
      "     WARNING: Nmatch= 0 31.859066836798196 266.89 63.732 0.328 RX J1747.5+6343 \n",
      "     WARNING: Nmatch= 0 28.35192993837932 267.173 70.342 0.345 RX J1748.6+7020 \n",
      "     WARNING: Nmatch= 0 61.291016484985526 267.265 70.245 0.579 RX J1749.0+7014 \n",
      "     WARNING: Nmatch= 0 276.8045745334276 267.341 42.762 0.2296 RXC J1749.3+4245 \n",
      "     WARNING: Nmatch= 0 292.0982075235576 267.422 53.579 0.0909 RXC J1749.6+5334 \n",
      "     WARNING: Nmatch= 0 12.840977011149311 267.457 68.387 0.0508 RX J1749.8+6823 \n",
      "     WARNING: Nmatch= 0 970.6720044397221 267.569 35.082 0.1712 RXC J1750.2+3504 RXJ1750.2+3505\n",
      "     WARNING: Nmatch= 0 48.104028321577864 267.786 65.533 0.0428 BVH2007 215 NGC6505\n",
      "     WARNING: Nmatch= 0 29.179460957468237 267.878 70.226 0.4925 RX J1751.5+7013 \n",
      "     WARNING: Nmatch= 0 97.04291413204383 267.911 67.322 0.0933 BVH2007 216 \n",
      "     WARNING: Nmatch= 0 476.57446030366 267.948 23.07 0.0132 RXC J1751.7+2304 NGC 6482\n",
      "     WARNING: Nmatch= 0 1474.6189850663345 268.023 -63.816 0.133 RXC J1752.0-6348 \n",
      "     WARNING: Nmatch= 0 12.623163700336894 268.05 65.373 0.3923 RX J1752.2+6522 \n",
      "     WARNING: Nmatch= 0 216.92346812447875 268.374 52.092 0.0988 RXC J1753.4+5205 A2286\n",
      "     WARNING: Nmatch= 0 326.7265094400791 268.509 58.089 0.2263 RXC J1754.0+5805 A2289\n",
      "     WARNING: Nmatch= 0 13.318836304595044 268.522 64.867 0.246 RX J1754.0+6452 \n",
      "     WARNING: Nmatch= 0 15.702776707256627 268.646 69.083 0.5113 RX J1754.5+6904 \n",
      "     WARNING: Nmatch= 0 733.0852253647422 268.665 68.056 0.077 RXC J1754.6+6803 Zw 1754.5+6807\n",
      "     WARNING: Nmatch= 0 19.44473319697423 268.69 66.398 0.0879 RX J1754.7+6623 \n",
      "     WARNING: Nmatch= 0 12.977499442356415 268.833 65.082 0.0846 RX J1755.3+6504 \n",
      "     WARNING: Nmatch= 0 135.44306768987647 268.94 67.878 0.0833 RX J1755.7+6752 \n",
      "     WARNING: Nmatch= 0 314.1331426343005 268.956 62.613 0.0266 RXC J1755.8+6236 NGC 6521\n",
      "     WARNING: Nmatch= 0 37.94373765828376 268.985 63.234 0.385 RX J1755.9+6314 \n",
      "     WARNING: Nmatch= 0 13.649111269870874 269.129 65.217 0.0284 RX J1756.5+6513 \n",
      "     WARNING: Nmatch= 0 8.047067039768933 269.332 66.527 0.6909 RX J1757.3+6631 \n",
      "     WARNING: Nmatch= 0 1755.9957514131304 269.43 -1.143 0.0728 RXC J1757.7-0108 \n",
      "     WARNING: Nmatch= 0 8.229722520840461 269.74 65.349 0.3652 RX J1758.9+6520 \n",
      "     WARNING: Nmatch= 0 2869.9197842148137 269.762 -13.554 0.045 RXC J1759.0-1333 \n",
      "     WARNING: Nmatch= 0 15.730174794697788 269.823 69.039 0.0994 RX J1759.2+6902 \n",
      "     WARNING: Nmatch= 0 326.00987148135624 270.128 69.224 0.0823 RXC J1800.5+6913 A2295\n",
      "     WARNING: Nmatch= 0 1172.9019053100421 270.622 -52.609 0.125 RXC J1802.4-5236 \n",
      "     WARNING: Nmatch= 0 164.6299878551181 270.681 42.796 0.0502 RXC J1802.7+4247 \n",
      "     WARNING: Nmatch= 0 6.96093011165919 270.725 63.653 0.0907 RX J1802.9+6339 \n",
      "     WARNING: Nmatch= 0 2385.9524421612696 271.045 0.706 0.0882 RXC J1804.1+0042 \n",
      "     WARNING: Nmatch= 0 3.8330990599386485 271.065 67.489 0.0617 RX J1804.2+6729 \n",
      "     WARNING: Nmatch= 0 1951.712344563938 271.119 10.039 0.1525 RXC J1804.4+1002 \n"
     ]
    },
    {
     "name": "stdout",
     "output_type": "stream",
     "text": [
      "     WARNING: Nmatch= 0 41.31095714276446 271.527 68.219 0.303 RX J1806.1+6813 \n",
      "     WARNING: Nmatch= 0 52.26305954099687 271.604 70.478 0.0971 RX J1806.4+7028 \n",
      "     WARNING: Nmatch= 0 138.8786609409058 271.733 65.62 0.263 BVH2007 217 \n",
      "     WARNING: Nmatch= 0 23.006552573413863 271.867 69.773 0.0941 BVH2007 218 \n",
      "     WARNING: Nmatch= 0 14.179415986839622 271.885 64.488 0.2391 RX J1807.5+6429 \n",
      "     WARNING: Nmatch= 0 10.719115905233618 272.182 65.951 0.246 RX J1808.7+6557 \n",
      "     WARNING: Nmatch= 0 952.661746902956 272.255 -4.244 0.305 RXC J1809.0-0414 \n",
      "     WARNING: Nmatch= 0 1587.026430675228 272.75 49.911 0.0501 RXC J1811.0+4954 ZwCl8338\n",
      "     WARNING: Nmatch= 0 29.860247596334784 272.83 64.793 0.451 RX J1811.3+6447 \n",
      "     WARNING: Nmatch= 0 19.07930858407197 273.007 31.22 0.2246 WARP J1812.0+3113 \n",
      "     WARNING: Nmatch= 0 40.6247685567794 273.035 63.893 0.5408 RX J1812.1+6353 \n",
      "     WARNING: Nmatch= 0 27.376396571368392 273.298 62.509 0.1829 RX J1813.1+6230 \n",
      "     WARNING: Nmatch= 0 1961.0341808731519 273.328 -61.458 0.147 RXC J1813.3-6127 PMN J1813-6126\n",
      "     WARNING: Nmatch= 0 145.00134612160062 273.574 69.659 0.0863 RXC J1814.2+6939 A2301\n",
      "     WARNING: Nmatch= 0 272.1707699648497 274.112 53.238 0.2764 RXC J1816.4+5314 \n",
      "     WARNING: Nmatch= 0 22.497036739444482 274.135 69.193 0.2097 RX J1816.5+6911 \n",
      "     WARNING: Nmatch= 0 28.745382331630974 274.285 70.404 0.0859 RX J1817.1+7024 \n",
      "     WARNING: Nmatch= 0 191.1854479644325 274.442 68.407 0.282 RX J1817.7+6824 \n",
      "     WARNING: Nmatch= 0 61.6521458682812 274.792 69.161 0.205 BVH2007 219 \n",
      "     WARNING: Nmatch= 0 23.08095814644237 274.953 67.813 0.2153 RX J1819.8+6748 \n",
      "     WARNING: Nmatch= 0 255.07787769814206 274.967 33.133 0.2796 RXC J1819.8+3307 \n",
      "     WARNING: Nmatch= 0 337.61347866303623 275.044 68.955 0.087 RXC J1820.1+6857 A2304\n",
      "     WARNING: Nmatch= 0 24.07570646841175 275.409 68.464 0.8156 RX J1821.6+6827 \n",
      "     WARNING: Nmatch= 0 19.348766567321192 275.656 66.691 0.0888 RX J1822.6+6641 \n",
      "     WARNING: Nmatch= 0 49.5468695384846 275.931 56.974 0.105 BVH2007 220 \n",
      "     WARNING: Nmatch= 0 849.6646798834323 276.04 30.492 0.072 RXC J1824.1+3029 NPM1G +30.0453\n",
      "     WARNING: Nmatch= 0 78.25179715030411 276.079 43.164 0.487 MACSJ1824.3+4309 MCS  J1824.3+4309\n",
      "     WARNING: Nmatch= 0 3474.6391148650264 276.345 30.442 0.065 RXC J1825.3+3026 \n",
      "     WARNING: Nmatch= 0 295.0693345478127 276.817 61.582 0.1014 RXC J1827.2+6134 \n",
      "     WARNING: Nmatch= 0 225.98775035573829 277.265 69.231 0.2057 RX J1829.0+6913 \n",
      "     WARNING: Nmatch= 0 38.68328794378814 278.055 68.541 0.1981 RX J1832.2+6832 \n",
      "     WARNING: Nmatch= 0 356.05872726908746 278.14 64.831 0.1623 RXC J1832.5+6449 \n",
      "     WARNING: Nmatch= 0 773.5922595339267 278.144 68.803 0.205 RXC J1832.5+6848 \n",
      "     WARNING: Nmatch= 0 61.5220008323747 278.436 65.36 0.1621 RX J1833.7+6521 \n",
      "     WARNING: Nmatch= 0 363.76264840337797 278.539 70.958 0.0824 RXC J1834.1+7057 A2308\n",
      "     WARNING: Nmatch= 0 525.0434574617362 279.127 63.748 0.0834 RXJ1836.5+6344 RXJ1836.5+6344\n",
      "     WARNING: Nmatch= 0 85.82318399253319 279.552 63.351 0.2167 RX J1838.2+6321 \n",
      "     WARNING: Nmatch= 0 28.26542012902804 279.823 70.306 0.2297 RX J1839.2+7018 \n",
      "     WARNING: Nmatch= 0 877.1985135488045 279.973 -21.144 0.068 RXC J1839.8-2108 \n",
      "     WARNING: Nmatch= 0 1764.5827456915242 280.155 -77.156 0.0194 RXCJ1840.6-7709 \n",
      "     WARNING: Nmatch= 0 46.82797875445772 280.878 79.832 0.051 BVH2007 NS 23 MS1846.9+7947\n",
      "     WARNING: Nmatch= 0 461.141106134105 280.913 50.364 0.1158 RXC J1843.6+5021 \n",
      "     WARNING: Nmatch= 0 727.4249545861093 281.132 -37.405 0.203 RXC J1844.5-3724 CGMW 4-2867\n",
      "     WARNING: Nmatch= 0 104.93586223335812 281.678 -74.533 0.141 BVH2007 221 \n",
      "     WARNING: Nmatch= 0 491.483682623191 281.817 73.347 0.1125 RXC J1847.2+7320 A2310\n",
      "     WARNING: Nmatch= 0 738.1618228241875 281.833 -63.337 0.0146 RXCJ1847.3-6320 S0805\n",
      "     WARNING: Nmatch= 0 1044.8229779377627 283.492 68.381 0.0928 RXC J1853.9+6822 A2312\n",
      "     WARNING: Nmatch= 0 321.7246732355234 283.527 68.971 0.2415 RXC J1854.1+6858 \n",
      "     WARNING: Nmatch= 0 731.736770212549 283.972 -66.913 0.1797 RXCJ1855.8-6654 \n",
      "     WARNING: Nmatch= 0 2215.4935280544305 284.415 38.008 0.0567 RXC J1857.6+3800 \n",
      "     WARNING: Nmatch= 0 951.1868145656537 285.12 69.969 0.0877 RXC J1900.4+6958 A2315\n",
      "     WARNING: Nmatch= 0 551.6100909556338 286.055 36.447 0.078 RXC J1904.2+3626 MG2 J190411+3627\n",
      "     WARNING: Nmatch= 0 1276.8260950930435 286.433 78.083 0.1405 A2318 A2318\n",
      "     WARNING: Nmatch= 0 386.8008250664133 287.1 69.062 0.2103 RXC J1908.3+6903 A2317\n",
      "     WARNING: Nmatch= 0 771.9257171504429 287.537 -22.651 0.056 RXC J1910.1-2239 CGMW 3-3366\n",
      "     WARNING: Nmatch= 0 489.75172941110037 287.614 67.691 0.2471 RXC J1910.4+6741 MS 1910.5+6736\n",
      "     WARNING: Nmatch= 0 1897.9424088718274 288.168 -75.292 0.0726 RXCJ1912.6-7517 S0810\n",
      "     WARNING: Nmatch= 0 1122.8308088479114 289.027 35.422 0.209 RXC J1916.1+3525 \n",
      "     WARNING: Nmatch= 0 1155.0134778921897 289.399 -13.255 0.177 RXC J1917.5-1315 TXS 1914-133\n",
      "     WARNING: Nmatch= 0 629.6105136164374 289.631 -8.708 0.09 RXC J1918.5-0842 CGMW 3-3640\n",
      "     WARNING: Nmatch= 0 1043.7859313361346 291.343 37.097 0.314 RXC J1925.3+3705 \n",
      "     WARNING: Nmatch= 0 1248.9289361822766 291.373 -42.949 0.0774 RXCJ1925.4-4256 A3638\n",
      "     WARNING: Nmatch= 0 1228.185163344585 291.545 48.55 0.098 RXC J1926.1+4833 \n",
      "     WARNING: Nmatch= 0 1491.4534823260942 291.743 -53.703 0.057 RXCJ1926.9-5342 \n",
      "     WARNING: Nmatch= 0 326.76227272692967 291.876 65.832 0.1886 RXC J1927.5+6549 \n",
      "     WARNING: Nmatch= 0 781.7210678520612 292.059 -50.93 0.1496 RXCJ1928.2-5055 A3639\n",
      "     WARNING: Nmatch= 0 1423.8269062639474 292.507 -15.163 0.0829 RXC J1930.0-1509 \n",
      "     WARNING: Nmatch= 0 26.906753519341446 292.548 74.06 0.291 WARP J1930.5+7403W \n",
      "     WARNING: Nmatch= 0 1289.3680219900398 292.911 -33.913 0.0972 RXCJ1931.6-3354 \n",
      "     WARNING: Nmatch= 0 952.7022595373771 293.697 -50.897 0.2371 RXCJ1934.7-5053 S0821\n",
      "     WARNING: Nmatch= 0 382.01572136905725 293.834 67.576 0.1706 RXC J1935.3+6734 \n",
      "     WARNING: Nmatch= 0 1160.4140572815659 294.578 54.159 0.26 RXC J1938.3+5409 \n",
      "     WARNING: Nmatch= 0 723.994686745208 294.581 -47.804 0.2665 RXCJ1938.3-4748 \n",
      "     WARNING: Nmatch= 0 5.887817779902188 295.429 77.162 0.048 WARP J1941.2+7709E \n",
      "     WARNING: Nmatch= 0 587.9083152113899 296.643 -42.942 0.1128 RXCJ1946.5-4256 S0827\n",
      "     WARNING: Nmatch= 0 891.404845463903 296.83 -76.392 0.217 RXCJ1947.3-7623 \n",
      "     WARNING: Nmatch= 0 398.98443129259124 296.914 -5.704 0.028 RXC J1947.6-0542 CGMW 3-4849\n",
      "     WARNING: Nmatch= 0 831.1028989942337 297.08 51.231 0.185 RXC J1948.3+5113 \n",
      "     WARNING: Nmatch= 0 1319.7445936384606 298.069 -55.062 0.06 RXCJ1952.2-5503 A3651\n",
      "     WARNING: Nmatch= 0 1175.5243087439871 298.254 -52.031 0.1069 RXCJ1953.0-5201 A3653\n",
      "     WARNING: Nmatch= 0 801.8613718898073 299.308 57.854 0.088 RXC J1957.2+5751 ZwCl 1956.0+5746\n",
      "     WARNING: Nmatch= 0 2615.887749901234 299.561 -30.19 0.1171 RXCJ1958.2-3011 \n",
      "     WARNING: Nmatch= 0 679.1554362959369 299.794 -34.91 0.1728 RXCJ1959.1-3454 A3654\n",
      "     WARNING: Nmatch= 0 120.00819040832678 300.66 77.896 0.3492 WARP J2002.6+7753 \n",
      "     WARNING: Nmatch= 0 64.1799525486259 300.805 -32.792 0.256 BVH2007 222 \n",
      "     WARNING: Nmatch= 0 47.217275520578085 300.868 -55.946 0.0148 BVH2007 223 VMF98 196, S0840\n",
      "     WARNING: Nmatch= 0 757.6970162474565 300.877 -23.385 0.3171 RXCJ2003.5-2323 \n",
      "     WARNING: Nmatch= 0 499.55454923021637 302.267 -54.358 0.0516 RXCJ2009.0-5421 S0849\n",
      "     WARNING: Nmatch= 0 476.85501735827705 302.476 -48.393 0.0097 RXCJ2009.9-4823 S0851\n",
      "     WARNING: Nmatch= 0 32.0332323248684 302.476 77.742 0.3461 WARP J2009.9+7744 \n",
      "     WARNING: Nmatch= 0 761.1544408321114 302.846 -57.428 0.2786 RXCJ2011.3-5725 \n",
      "     WARNING: Nmatch= 0 46.9014544431523 302.972 -35.928 0.172 BVH2007 224 \n",
      "     WARNING: Nmatch= 0 880.3416566093659 303.013 -41.492 0.1496 RXCJ2012.0-4129 A3668\n",
      "     WARNING: Nmatch= 0 717.6652357483404 303.556 -80.642 0.138 RXCJ2014.2-8038 A3664\n",
      "     WARNING: Nmatch= 0 4160.448845205415 303.707 -24.508 0.1612 RXCJ2014.8-2430 \n",
      "     WARNING: Nmatch= 0 800.793517856885 303.828 56.159 0.082 RXC J2015.3+5609 \n",
      "     WARNING: Nmatch= 0 637.5347966693206 304.059 -80.799 0.1309 RXCJ2016.2-8047 A3666\n",
      "     WARNING: Nmatch= 0 494.2468538263669 304.607 -41.047 0.0192 RXCJ2018.4-4102 IC4992\n",
      "     WARNING: Nmatch= 0 2127.830823647066 304.69 -52.706 0.0505 RXCJ2018.7-5242 S0861\n",
      "     WARNING: Nmatch= 0 675.5225805138632 305.208 -30.034 0.2073 RXCJ2020.8-3002 A3674\n",
      "     WARNING: Nmatch= 0 640.5281435357684 305.478 -52.948 0.1383 RXCJ2021.9-5256 A3675\n",
      "     WARNING: Nmatch= 0 966.7191626743809 305.757 -20.949 0.0564 RXCJ2023.0-2056 S0868\n",
      "     WARNING: Nmatch= 0 780.1087039864603 305.852 -55.592 0.232 RXCJ2023.4-5535 \n",
      "     WARNING: Nmatch= 0 644.9127275392746 307.7 -35.544 0.1398 RXCJ2030.7-3532 \n",
      "     WARNING: Nmatch= 0 853.1355992374488 307.965 -40.62 0.3416 RXCJ2031.8-4037 \n",
      "     WARNING: Nmatch= 0 745.5853517012869 308.037 -56.452 0.138 RXCJ2032.1-5627 A3685\n",
      "     WARNING: Nmatch= 0 870.2131581460366 308.581 -34.487 0.124 RXCJ2034.3-3429 A3693\n",
      "     WARNING: Nmatch= 0 1839.1279225214287 308.675 -34.074 0.0936 RXCJ2034.7-3404 A3694\n",
      "     WARNING: Nmatch= 0 3686.9150450894385 308.699 -35.813 0.0894 RXCJ2034.7-3548 A3695\n",
      "     WARNING: Nmatch= 0 697.2030058045592 308.733 -21.717 0.1947 RXCJ2034.9-2143 \n",
      "     WARNING: Nmatch= 0 244.10947445771407 308.935 -25.218 0.02 RXCJ2035.7-2513 A3698\n",
      "     WARNING: Nmatch= 0 62.104766761132474 309.166 -22.789 0.18 WARP J2036.6-2247 \n",
      "     WARNING: Nmatch= 0 22.605812201930245 309.622 -1.421 0.673 RX J2038.4-0125 WARPS J2038.4-0125\n",
      "     WARNING: Nmatch= 0 2261.339993292219 310.048 17.214 0.169 RXC J2040.1+1712 \n",
      "     WARNING: Nmatch= 0 129.70508168518924 310.425 7.357 0.0639 RXC J2041.7+0721 \n",
      "     WARNING: Nmatch= 0 2979.351798681455 310.529 24.441 0.1019 RXC J2042.1+2426 \n",
      "     WARNING: Nmatch= 0 851.4238599534926 310.803 -21.735 0.2041 RXCJ2043.2-2144 \n",
      "     WARNING: Nmatch= 0 646.4812238148232 310.81 -26.49 0.0408 RXCJ2043.2-2629 S0894\n",
      "     WARNING: Nmatch= 0 1301.6024672084948 312.044 -17.844 0.1475 RXCJ2048.1-1750 A2328\n",
      "     WARNING: Nmatch= 0 1530.2210512608167 312.172 25.253 0.0482 RXC J2048.6+2515 \n",
      "     WARNING: Nmatch= 0 269.356465593029 312.69 1.389 0.3334 RXC J2050.7+0123 \n",
      "     WARNING: Nmatch= 0 364.4730064600518 312.781 2.268 0.3211 RXC J2051.1+0216 \n",
      "     WARNING: Nmatch= 0 19.59398335168262 312.911 -57.073 0.0599 BVH2007 225 \n",
      "     WARNING: Nmatch= 0 1004.3695924631315 313.965 -54.92 0.139 RXCJ2055.8-5455 A3718\n",
      "     WARNING: Nmatch= 0 36.91933901611876 314.091 -4.631 0.583 MS2053.7-0449 \n",
      "     WARNING: Nmatch= 0 170.7792116362253 314.389 13.571 0.2232 RXC J2057.5+1334 \n",
      "     WARNING: Nmatch= 0 564.4021931673861 314.563 -7.761 0.0793 RXCJ2058.2-0745 A2331\n",
      "     WARNING: Nmatch= 0 27.47324712586753 314.98 -42.759 0.323 RX J2059.9-4245 VMF98 199\n",
      "     WARNING: Nmatch= 0 666.070781569959 315.367 -41.002 0.1694 RXCJ2101.4-4100 S0915\n",
      "     WARNING: Nmatch= 0 573.3297639476036 315.395 -13.292 0.0282 RXCJ2101.5-1317 \n",
      "     WARNING: Nmatch= 0 1297.4784612024832 315.453 -28.035 0.0382 RXCJ2101.8-2802 A3733\n",
      "     WARNING: Nmatch= 0 1224.829516631136 315.541 -24.531 0.188 RXCJ2102.1-2431 RBS 1712\n",
      "     WARNING: Nmatch= 0 658.2958192524316 315.858 -43.329 0.0487 RXCJ2103.4-4319 A3736\n",
      "     WARNING: Nmatch= 0 135.1949421606975 315.961 4.626 0.1694 RXC J2103.8+0437 \n",
      "     WARNING: Nmatch= 0 1327.3909221156866 316.084 -41.349 0.1651 RXCJ2104.3-4120 A3739\n",
      "     WARNING: Nmatch= 0 692.329245662679 316.226 14.028 0.1615 RXC J2104.9+1401 ZwCl8484\n",
      "     WARNING: Nmatch= 0 1592.4653746680187 316.228 -51.826 0.0491 RXCJ2104.9-5149 \n",
      "     WARNING: Nmatch= 0 557.9746129358099 316.245 -82.723 0.0969 RXCJ2104.9-8243 A3728\n",
      "     WARNING: Nmatch= 0 926.794189826783 316.518 -38.772 0.1521 RXCJ2106.0-3846 A3740\n",
      "     WARNING: Nmatch= 0 644.4627713758279 316.568 34.44 0.087 RXC J2106.2+3426 \n",
      "     WARNING: Nmatch= 0 85.35993857586521 316.705 -5.165 0.449 RX J2106.8-0510 \n",
      "     WARNING: Nmatch= 0 707.4723505245022 316.801 -25.438 0.0381 RXCJ2107.2-2526 A3744\n",
      "     WARNING: Nmatch= 0 7.731547491808243 317.166 -5.124 0.222 WARP J2108.6-0507 \n",
      "     WARNING: Nmatch= 0 28.190979907389895 317.213 -5.28 0.319 RX J2108.8-0516 VMF98 200\n",
      "     WARNING: Nmatch= 0 279.53622461595205 317.916 -23.15 0.0333 RXCJ2111.6-2308 AM2108\n",
      "     WARNING: Nmatch= 0 2406.9403784527462 318.474 2.556 0.0494 RXC J2113.8+0233 IC 1365\n",
      "     WARNING: Nmatch= 0 52.782399472262185 318.582 -68.016 0.13 BVH2007 226 VMF98 201\n",
      "     WARNING: Nmatch= 0 734.9714732370113 319.202 -59.498 0.0602 RXCJ2116.8-5929 S0927\n",
      "     WARNING: Nmatch= 0 882.7004446037146 321.095 -74.774 0.0586 RXCJ2124.3-7446 \n",
      "     WARNING: Nmatch= 0 594.6934668421104 321.302 -6.965 0.1153 RXCJ2125.2-0657 \n",
      "     WARNING: Nmatch= 0 447.56828945637966 321.479 -34.724 0.0757 RXCJ2125.9-3443 A3764\n",
      "     WARNING: Nmatch= 0 1184.7822042504679 321.796 -12.159 0.176 RXCJ2127.1-1209 A2345\n",
      "     WARNING: Nmatch= 0 329.292373760052 321.875 -21.903 0.113 MS2124.7-2206 \n",
      "     WARNING: Nmatch= 0 271.2071128727423 322.358 -7.692 0.594 MACSJ2129.4-0741 MCS  J2129.4-0741\n",
      "     WARNING: Nmatch= 0 894.9511948066174 322.462 -50.801 0.0796 RXCJ2129.8-5048 A3771\n",
      "     WARNING: Nmatch= 0 450.27570849137146 323.351 -71.936 0.0559 RXCJ2133.4-7156 \n",
      "     WARNING: Nmatch= 0 2004.7875619285871 323.569 -13.48 0.0897 RXCJ2134.2-1328 A2351\n"
     ]
    },
    {
     "name": "stdout",
     "output_type": "stream",
     "text": [
      "     WARNING: Nmatch= 0 874.7544389183715 323.822 1.432 0.1244 RXCJ2135.2+0125 A2355\n",
      "     WARNING: Nmatch= 0 40.226787811113475 324.279 0.447 0.0509 BVH2007 227 VMF98 202\n",
      "     WARNING: Nmatch= 0 130.38351893764232 324.463 -42.852 0.185 BVH2007 228 A3791\n",
      "     WARNING: Nmatch= 0 155.42923924135184 324.77 -23.552 0.32 BVH2007 NS 24 \n",
      "     WARNING: Nmatch= 0 405.9157264063485 324.966 -22.473 0.0328 RXCJ2139.8-2228 S0963\n",
      "     WARNING: Nmatch= 0 20.497097937326384 324.994 -43.087 0.376 RX J2139.9-4305 VMF98 203\n",
      "     WARNING: Nmatch= 0 2215.5906938555227 325.993 -56.626 0.0824 RXCJ2143.9-5637 APMCC 699\n",
      "     WARNING: Nmatch= 0 91.13157682966664 326.31 3.742 0.239 MS2142.7+0330 \n",
      "     WARNING: Nmatch= 0 1368.1187339155235 326.478 -10.104 0.0808 RXCJ2145.9-1006 A2377\n",
      "     WARNING: Nmatch= 0 39.24202688328963 326.52 4.389 0.531 RX J2146.0+0423 VMF98 204\n",
      "     WARNING: Nmatch= 0 1271.1252199998185 326.587 -57.289 0.076 RXCJ2146.3-5717 A3806\n",
      "     WARNING: Nmatch= 0 1683.0951222519577 326.741 -43.91 0.062 RXCJ2146.9-4354 A3809\n",
      "     WARNING: Nmatch= 0 548.0119553522416 326.752 -10.318 0.078 RXCJ2147.0-1019 \n",
      "     WARNING: Nmatch= 0 1179.3894198161488 326.981 -46.005 0.0593 RXCJ2147.9-4600 S0974\n",
      "     WARNING: Nmatch= 0 1302.3963050501648 327.281 -30.699 0.1184 RXCJ2149.1-3041 A3814\n",
      "     WARNING: Nmatch= 0 392.1226588594172 327.845 -55.353 0.0385 RXCJ2151.3-5521 \n",
      "     WARNING: Nmatch= 0 488.4346042049458 327.859 13.798 0.2076 RXC J2151.4+1347 \n",
      "     WARNING: Nmatch= 0 658.8258623628544 327.97 -15.717 0.0614 RXCJ2151.8-1543 A2382\n",
      "     WARNING: Nmatch= 0 696.6363270803854 328.55 -4.005 0.1509 RXCJ2154.2-0400 A2389\n",
      "     WARNING: Nmatch= 0 785.9040071344547 328.92 12.534 0.192 RXC J2155.6+1232 A2396\n",
      "     WARNING: Nmatch= 0 17.16712124662506 328.997 1.151 0.219 RX J2155.9+0109 \n",
      "     WARNING: Nmatch= 0 2628.777334591095 329.103 33.31 0.078 RXC J2156.4+3318 \n",
      "     WARNING: Nmatch= 0 949.7144837402299 329.357 -7.795 0.0579 RXCJ2157.4-0747 A2399\n",
      "     WARNING: Nmatch= 0 550.7515717530193 329.584 -20.104 0.057 RXCJ2158.3-2006 A2401\n",
      "     WARNING: Nmatch= 0 1539.208224003772 329.613 -60.4 0.075 RXCJ2158.4-6023 A3825\n",
      "     WARNING: Nmatch= 0 1058.1946480276647 329.627 -9.808 0.0809 RXCJ2158.5-0948 A2402\n",
      "     WARNING: Nmatch= 0 971.040873112729 330.462 -22.444 0.0691 RXCJ2201.8-2226 S0987\n",
      "     WARNING: Nmatch= 0 1059.7468301110182 330.524 -9.825 0.0809 RXCJ2202.0-0949 A2410\n",
      "     WARNING: Nmatch= 0 16.236341908760014 330.687 -19.036 0.438 RX J2202.7-1902 VMF98 205\n",
      "     WARNING: Nmatch= 0 393.32890124572367 330.961 -21.509 0.0732 RXC J2203.8-2130 \n",
      "     WARNING: Nmatch= 0 2792.6961948575527 331.419 -5.593 0.0582 RXCJ2205.6-0535 A2415\n",
      "     WARNING: Nmatch= 0 1169.1611556373841 332.347 -51.815 0.1065 RXCJ2209.3-5148 A3836\n",
      "     WARNING: Nmatch= 0 1634.1916038704587 332.941 -3.828 0.397 MACSJ2211.7-0349 \n",
      "     WARNING: Nmatch= 0 7.675092760440747 333.159 -17.232 0.134 RX J2212.6-1713 VMF98 206\n",
      "     WARNING: Nmatch= 0 510.6040802674757 333.272 -27.9 0.061 RXCJ2213.0-2753 \n",
      "     WARNING: Nmatch= 0 46.035096657003386 333.377 -16.935 0.297 BVH2007 229 VMF98 207\n",
      "     WARNING: Nmatch= 0 792.6761775208684 333.61 -17.023 0.153 RXC J2214.4-1701 A3847\n",
      "     WARNING: Nmatch= 0 2797.3071288762762 333.636 -10.372 0.098 RXCJ2214.5-1022 A2426\n",
      "     WARNING: Nmatch= 0 358.4090344890475 333.72 13.847 0.0253 RXC J2214.8+1350 RXJ2214.7+1350\n",
      "     WARNING: Nmatch= 0 1456.721169575847 333.925 37.305 0.019 RXC J2215.6+3718 NGC7242\n",
      "     WARNING: Nmatch= 0 1836.6260439100931 334.065 -9.34 0.0825 RXCJ2216.2-0920 A2428\n",
      "     WARNING: Nmatch= 0 1153.6402704912705 334.235 -17.426 0.1301 RXCJ2216.9-1725 RBS 1842\n",
      "     WARNING: Nmatch= 0 1472.6771740975082 334.43 -35.726 0.1486 RXCJ2217.7-3543 A3854\n",
      "     WARNING: Nmatch= 0 1846.829109738293 334.523 -65.185 0.0951 RXCJ2218.0-6511 RBS 1847\n",
      "     WARNING: Nmatch= 0 1894.7495750281917 334.571 -3.834 0.0901 RXCJ2218.2-0350 MS2215\n",
      "     WARNING: Nmatch= 0 1635.9218119814864 334.668 -38.897 0.1411 RXCJ2218.6-3853 A3856\n",
      "     WARNING: Nmatch= 0 934.2948850395725 334.669 -3.78 0.09 MS2216.0-0401 \n",
      "     WARNING: Nmatch= 0 714.3220809233326 334.705 -2.968 0.0902 RXCJ2218.8-0258 \n",
      "     WARNING: Nmatch= 0 498.99764517634816 335.038 -52.467 0.102 BVH2007 230 A3864\n",
      "     WARNING: Nmatch= 0 2401.3629302796326 335.144 -35.165 0.1544 RXCJ2220.5-3509 A3866\n",
      "     WARNING: Nmatch= 0 59.21498171177344 335.558 -52.587 0.174 BVH2007 231 A3870\n",
      "     WARNING: Nmatch= 0 2106.9125165763776 335.971 -1.638 0.0906 RXCJ2223.8-0138 A2440\n",
      "     WARNING: Nmatch= 0 1089.2158841206247 336.115 -55.256 0.0791 RXCJ2224.4-5515 APMCC 772\n",
      "     WARNING: Nmatch= 0 442.9569814446834 336.182 -56.535 0.0355 RXCJ2224.7-5632 S1020\n",
      "     WARNING: Nmatch= 0 982.9622232009277 336.463 -6.603 0.0897 RXCJ2225.8-0636 A2442\n",
      "     WARNING: Nmatch= 0 1291.1056626302475 336.511 17.378 0.1072 A2443 A2443\n",
      "     WARNING: Nmatch= 0 269.6308985373437 336.544 -47.75 0.113 RXC J2226.1-4745 A3876\n",
      "     WARNING: Nmatch= 0 705.9463808243287 336.72 25.843 0.165 RXC J2226.8+2550 A2445\n",
      "     WARNING: Nmatch= 0 379.214570390954 336.868 -48.882 0.097 RXC J2227.4-4852 APMCC782\n",
      "     WARNING: Nmatch= 0 514.5568166234289 337.214 -60.899 0.0423 RXCJ2228.8-6053 \n",
      "     WARNING: Nmatch= 0 2992.255927142645 338.629 -37.735 0.151 RXCJ2234.5-3744 A3888\n",
      "     WARNING: Nmatch= 0 482.1558841699396 338.723 -30.566 0.2515 RXC J2234.8-3033 A3889\n",
      "     WARNING: Nmatch= 0 2035.5580363303948 338.919 1.472 0.0594 RXCJ2235.6+0128 A2457\n",
      "     WARNING: Nmatch= 0 81.02443724280741 339.253 -15.269 0.299 RX J2237.0-1516 \n",
      "     WARNING: Nmatch= 0 54.24540364471376 339.852 -5.782 0.242 BVH2007 232 VMF98 208, A2465\n",
      "     WARNING: Nmatch= 0 10.429701999022212 339.893 -6.004 0.173 RX J2239.5-0600 VMF98 209\n",
      "     WARNING: Nmatch= 0 83.92233334010135 339.912 -5.72 0.243 BVH2007 233 VMF98 210, A2465\n",
      "     WARNING: Nmatch= 0 489.18470492146724 340.474 17.542 0.3137 RXC J2241.8+1732 A2472\n",
      "     WARNING: Nmatch= 0 938.0983279440555 340.721 53.018 0.192 RXC J2242.8+5301 \n",
      "     WARNING: Nmatch= 0 1015.3388047784775 340.769 -20.166 0.1359 RXCJ2243.0-2009 A2474\n",
      "     WARNING: Nmatch= 0 713.1268119219901 340.839 -9.595 0.447 MACSJ2243.3-0935 \n",
      "     WARNING: Nmatch= 0 450.19220538865216 341.145 -17.739 0.1325 RXC J2244.5-1744 A2478\n",
      "     WARNING: Nmatch= 0 242.78703509565375 341.549 -36.006 0.0673 RXC J2246.1-3600 \n",
      "     WARNING: Nmatch= 0 2636.1512050597808 341.578 -52.729 0.0965 RXCJ2246.3-5243 A3911\n",
      "     WARNING: Nmatch= 0 53.21873823901468 341.873 3.619 0.2 BVH2007 234 VMF98 211\n",
      "     WARNING: Nmatch= 0 685.264651851817 342.137 -16.106 0.2472 RXCJ2248.5-1606 A2485\n",
      "     WARNING: Nmatch= 0 260.2272444434985 342.323 -37.457 0.0289 RXC J2249.2-3727 S1065\n",
      "     WARNING: Nmatch= 0 363.6175453685878 342.523 11.617 0.0255 RXJ2250.0+1137 RXJ2250.0+1137\n",
      "     WARNING: Nmatch= 0 2351.5116148607326 342.587 10.902 0.0768 RXC J2250.3+1054 A2495\n",
      "     WARNING: Nmatch= 0 231.11461512472684 342.704 -45.359 0.0511 RXC J2250.8-4521 S1067\n",
      "     WARNING: Nmatch= 0 1202.5280756097745 342.753 -16.407 0.1221 RXCJ2251.0-1624 A2496\n",
      "     WARNING: Nmatch= 0 843.6702992620819 342.948 -32.103 0.246 RXCJ2251.7-3206 \n",
      "     WARNING: Nmatch= 0 776.6241903416818 343.392 -33.724 0.224 RXCJ2253.5-3343 A3934\n",
      "     WARNING: Nmatch= 0 1092.1482468178906 343.513 -63.254 0.2112 RXCJ2254.0-6315 AM2250\n",
      "     WARNING: Nmatch= 0 499.4182235862674 344.238 5.547 0.1696 A2507 A2507\n",
      "     WARNING: Nmatch= 0 26.19425585248764 344.456 20.94 0.297 RX J2257.8+2056 VMF98 212\n",
      "     WARNING: Nmatch= 0 146.4835295488924 344.53 20.918 0.288 BVH2007 235 VMF98 213, MS2255.7+2039\n",
      "     WARNING: Nmatch= 0 454.9443304633656 345.058 29.442 0.0688 RXC J2300.2+2926 \n",
      "     WARNING: Nmatch= 0 1200.596002737573 345.688 71.621 0.145 RXC J2302.7+7137 \n",
      "     WARNING: Nmatch= 0 20.335787571538436 345.7 8.731 0.722 WARP J2302.8+0843 \n",
      "     WARNING: Nmatch= 0 220.4683407253547 345.943 15.384 0.247 MS2301.3+1506 ZwCl8822\n",
      "     WARNING: Nmatch= 0 33.66339530944394 346.357 -35.762 0.201 BVH2007 236 VMF98 214\n",
      "     WARNING: Nmatch= 0 7.036554452846998 346.361 -51.508 0.194 RX J2305.4-5130 VMF98 215\n",
      "     WARNING: Nmatch= 0 851.2126371143885 346.394 -45.221 0.1253 RXCJ2305.5-4513 A3970\n",
      "     WARNING: Nmatch= 0 977.4874346276748 346.65 -13.32 0.0659 RXCJ2306.6-1319 \n",
      "     WARNING: Nmatch= 0 597.8592881086256 346.715 -13.416 0.0659 RXC J2306.8-1324 \n",
      "     WARNING: Nmatch= 0 805.6926179713261 346.763 16.524 0.2502 RXC J2307.0+1631 \n",
      "     WARNING: Nmatch= 0 1069.800503854001 346.814 -15.228 0.111 RXCJ2307.2-1513 A2533\n",
      "     WARNING: Nmatch= 0 245.76121684881068 346.917 27.27 0.11 RXC J2307.6+2716 \n",
      "     WARNING: Nmatch= 0 1690.8650582533537 347.61 7.577 0.0424 RXC J2310.4+0734 Pegasus II\n",
      "     WARNING: Nmatch= 0 312.53282524434997 347.788 11.632 0.261 RXC J2311.1+1137 \n",
      "     WARNING: Nmatch= 0 1156.651969482637 347.888 3.644 0.2998 RXC J2311.5+0338 A2552\n",
      "     WARNING: Nmatch= 2 974.1900118413836 348.086 -21.501 0.1108 RXCJ2312.3-2130 A2554\n",
      "     WARNING: Nmatch= 0 41.359532440540555 348.178 10.725 0.31 WARP J2312.7+1043 RX J231242.9+104302 (RIXOS)\n",
      "     WARNING: Nmatch= 2 1734.0568891665325 348.254 -21.632 0.0871 RXCJ2313.0-2137 A2556\n",
      "     WARNING: Nmatch= 0 588.294472946336 348.499 14.744 0.1627 A2561 A2561\n",
      "     WARNING: Nmatch= 0 1387.5371440508145 348.934 -37.782 0.1786 RXCJ2315.7-3746 A3984\n",
      "     WARNING: Nmatch= 0 1081.7586444474794 348.938 -2.377 0.0267 RXCJ2315.7-0222 NGC 7556\n",
      "     WARNING: Nmatch= 0 1506.3428502471593 349.031 -20.455 0.0822 RXCJ2316.1-2027 A2566\n",
      "     WARNING: Nmatch= 0 2198.4819700825437 349.294 18.691 0.0422 A2572a A2572a\n",
      "     WARNING: Nmatch= 0 34.40324406868206 349.523 -42.593 0.209 BVH2007 237 VMF98 216\n",
      "     WARNING: Nmatch= 0 1543.454593898409 349.612 18.724 0.0389 A2572b A2572b\n",
      "     WARNING: Nmatch= 0 1420.7266021265825 349.632 18.705 0.0403 RXC J2318.5+1842 A2572\n",
      "     WARNING: Nmatch= 0 6331.13592415434 349.775 -42.114 0.045 MS2316.3-4222 S1111\n",
      "     WARNING: Nmatch= 0 275.39589183893804 349.8 -67.84 0.0286 RXCJ2319.2-6750 A3990\n",
      "     WARNING: Nmatch= 0 81.9672492138394 349.892 12.437 0.126 BVH2007 238 VMF98 217\n",
      "     WARNING: Nmatch= 0 758.7809129626197 349.924 -73.231 0.0984 RXCJ2319.6-7313 A3992\n",
      "     WARNING: Nmatch= 0 906.0234507669743 350.06 41.779 0.14 RXC J2320.2+4146 RGB J2320+417\n",
      "     WARNING: Nmatch= 0 583.59824338358 350.351 -23.205 0.089 RXCJ2321.4-2312 A2580\n",
      "     WARNING: Nmatch= 0 1793.819632111561 350.389 -41.899 0.0894 RXCJ2321.5-4153 A3998\n",
      "     WARNING: Nmatch= 0 1044.898699932602 350.453 -69.699 0.1846 RXCJ2321.8-6941 A3995\n",
      "     WARNING: Nmatch= 0 427.7768819270946 350.467 15.043 0.15 RXC J2321.8+1505 \n",
      "     WARNING: Nmatch= 0 122.86916317011163 350.812 18.19 0.154 BVH2007 239 \n",
      "     WARNING: Nmatch= 0 461.83545833571117 350.913 9.148 0.1992 RXC J2323.6+0908 A2588\n",
      "     WARNING: Nmatch= 0 2426.3970757999437 351.084 14.651 0.0428 A2593 A2593\n",
      "     WARNING: Nmatch= 0 141.84978204836838 351.249 18.697 0.2018 RXC J2325.0+1841 \n",
      "     WARNING: Nmatch= 0 41.73160793106336 351.413 -54.732 0.102 BVH2007 240 VMF98 218\n",
      "     WARNING: Nmatch= 0 295.49507122840083 351.567 -24.104 0.088 RXC J2326.2-2406 APMCC895\n",
      "     WARNING: Nmatch= 0 602.5556410919355 351.695 -52.71 0.1074 RXCJ2326.7-5242 \n",
      "     WARNING: Nmatch= 0 19.639633453216174 352.208 14.887 0.497 RX J2328.8+1453 VMF98 219\n",
      "     WARNING: Nmatch= 0 790.6615367172445 352.666 45.937 0.242 RXC J2330.6+4556 \n",
      "     WARNING: Nmatch= 0 2501.2971951829627 352.803 -36.507 0.0957 RXCJ2331.2-3630 A4010\n",
      "     WARNING: Nmatch= 0 24.850235938179598 352.967 -37.786 0.28 RX J2331.8-3747 VMF98 220\n",
      "     WARNING: Nmatch= 0 492.469796109272 353.471 21.677 0.1022 RXC J2333.8+2140 \n",
      "     WARNING: Nmatch= 0 309.74503966954796 353.52 7.071 0.099 RXC J2334.0+0704 A2620\n",
      "     WARNING: Nmatch= 0 1040.7432993627808 353.771 27.37 0.0613 A2622 A2622\n",
      "     WARNING: Nmatch= 0 15.839248011477908 353.905 2.292 0.3877 WARP J2335.6+0217 \n",
      "     WARNING: Nmatch= 0 530.456858506721 354.034 20.623 0.0601 A2625 A2625\n",
      "     WARNING: Nmatch= 0 880.7848619620332 354.071 -31.61 0.0643 RXCJ2336.2-3136 S1136\n",
      "     WARNING: Nmatch= 0 1105.6269211728497 354.174 23.93 0.1245 A2627 A2627\n",
      "     WARNING: Nmatch= 0 673.4992243674798 355.043 -85.178 0.1934 RXCJ2340.1-8510 A4023\n",
      "     WARNING: Nmatch= 0 359.4250984688642 355.134 10.491 0.18 RXC J2340.5+1029 A2639\n",
      "     WARNING: Nmatch= 0 356.57205065302674 355.276 0.315 0.11 RXC J2341.1+0018 \n",
      "     WARNING: Nmatch= 0 772.9718464951725 355.32 -9.028 0.251 RXCJ2341.2-0901 A2645\n",
      "     WARNING: Nmatch= 0 2755.433277608019 356.067 -4.368 0.0786 RXCJ2344.2-0422 \n",
      "     WARNING: Nmatch= 0 361.5791607687053 356.12 -21.893 0.1122 RXC J2344.4-2153 A2655\n",
      "     WARNING: Nmatch= 0 514.9171972820538 356.677 -10.47 0.1911 RXC J2346.7-1028 A2661\n",
      "     WARNING: Nmatch= 0 280.06664192716266 356.852 -2.314 0.0223 RXCJ2347.4-0218 HCG 97\n",
      "     WARNING: Nmatch= 0 399.1534519306529 357.054 -28.817 0.226 RXC J2348.2-2849 A4041/S1151 dc\n"
     ]
    },
    {
     "name": "stdout",
     "output_type": "stream",
     "text": [
      "     WARNING: Nmatch= 0 77.46266907017419 357.223 -31.287 0.184 BVH2007 241 VMF98 221, A4043\n",
      "     WARNING: Nmatch= 0 466.153274872924 357.538 -3.653 0.1466 RXC J2350.1-0339 A2664\n",
      "     WARNING: Nmatch= 0 771.1502974435741 357.64 29.498 0.1498 RXC J2350.5+2929 MS 2348.0+2913\n",
      "     WARNING: Nmatch= 0 959.6537428215652 357.644 29.531 0.095 ZwCl9077 ZwCl9077\n",
      "     WARNING: Nmatch= 0 2570.4805755538337 357.711 6.161 0.0562 RXC J2350.8+0609 A2665\n",
      "     WARNING: Nmatch= 0 1971.5609399681891 358.556 -10.413 0.0765 RXCJ2354.2-1024 A2670\n",
      "     WARNING: Nmatch= 0 47.089305407337235 358.798 -15.008 0.0857 BVH2007 242 VMF98 223\n",
      "     WARNING: Nmatch= 0 1182.1995258553395 358.909 11.343 0.0726 RXC J2355.6+1120 A2675\n",
      "     WARNING: Nmatch= 0 470.4457497745491 358.925 11.647 0.0729 A2678 A2678\n",
      "     WARNING: Nmatch= 0 466.90438898194867 358.957 34.386 0.148 RXC J2355.8+3423 A2677\n",
      "     WARNING: Nmatch= 0 857.9782884780825 359.83 -60.7 0.0989 RXCJ2359.3-6042 A4067\n",
      "     WARNING: Nmatch= 0 96.66478251970356 359.864 -34.306 0.115 MS2356.9-3434 \n",
      "     WARNING: Nmatch= 0 25.160683569449017 359.9 -32.185 0.478 RX J2359.5-3211 BSe RXJ2359.5-3211\n",
      "     WARNING: Nmatch= 0 957.7862002052325 359.982 -39.48 0.1024 RXCJ2359.9-3928 A4068\n",
      "No K0 for 1506/1743\n"
     ]
    }
   ],
   "source": [
    "cat_name = []\n",
    "cat_ra   = []\n",
    "cat_dec  = []\n",
    "cat_z    = []\n",
    "cat_mass = []\n",
    "cat_lx   = []\n",
    "cat_K0   = []\n",
    "cat_cat  = []\n",
    "\n",
    "#---------- Start with MCXC and treshold it\n",
    "no_k0_count = 0\n",
    "for icl in range(len(mcxc[1].data)):\n",
    "    Dl = cosmo.luminosity_distance(mcxc[1].data[icl][14]).to_value('cm')\n",
    "    if 1e44*mcxc[1].data[icl][18]**1.2/(4*np.pi*Dl**2) > Fx500_treshold: \n",
    "        # Use baseline name unless empty\n",
    "        if mcxc[1].data[icl][2] == '':\n",
    "            cat_name.append(mcxc[1].data[icl][1].replace(\" \", \"_\").replace(\"(\", \"\").replace(\")\", \"\"))\n",
    "        else:\n",
    "            cat_name.append(mcxc[1].data[icl][2].replace(\" \", \"_\").replace(\"(\", \"\").replace(\")\", \"\"))\n",
    "            \n",
    "        cat_ra.append(mcxc_data[icl][10])\n",
    "        cat_dec.append(mcxc_data[icl][11])\n",
    "        cat_z.append(mcxc_data[icl][14])\n",
    "        cat_mass.append(mcxc_data[icl][19])\n",
    "        cat_lx.append(mcxc_data[icl][18])\n",
    "        cat_cat.append(mcxc_data[icl][16])\n",
    "\n",
    "        #---------- Match to ACCEPT to get entropy\n",
    "        dist = minot.ClusterTools.map_tools.greatcircle(accept_ra, accept_dec, \n",
    "                                                        mcxc[1].data[icl][10], mcxc_data[icl][11])\n",
    "        c1 = (dist < 15.0/60)\n",
    "        c2 = np.abs(accept_z - mcxc_data[icl][14]) < 0.1\n",
    "        w    = c1*c2\n",
    "        if np.sum(w) == 1: \n",
    "            cat_K0.append(accept_k0[w][0])\n",
    "        else:\n",
    "            print('     WARNING: Nmatch=', np.sum(w), \n",
    "                  1e44*mcxc[1].data[icl][18]**1.2/(4*np.pi*Dl**2)/Fx500_treshold, \n",
    "                  mcxc_data[icl][10], mcxc_data[icl][11], mcxc_data[icl][14],\n",
    "                  mcxc[1].data[icl][1], mcxc[1].data[icl][2])\n",
    "            cat_K0.append(np.nan)\n",
    "            no_k0_count+=1\n",
    "            \n",
    "print('No K0 for '+str(no_k0_count)+'/'+str(len(cat_name)))\n",
    "\n",
    "cat_name = np.array(cat_name)\n",
    "cat_ra   = np.array(cat_ra)\n",
    "cat_dec  = np.array(cat_dec)\n",
    "cat_z    = np.array(cat_z)\n",
    "cat_mass = np.array(cat_mass)\n",
    "cat_lx   = np.array(cat_lx)\n",
    "cat_K0   = np.array(cat_K0)\n",
    "cat_cat  = np.array(cat_cat)"
   ]
  },
  {
   "cell_type": "code",
   "execution_count": 6,
   "metadata": {},
   "outputs": [
    {
     "data": {
      "text/html": [
       "<div>\n",
       "<style scoped>\n",
       "    .dataframe tbody tr th:only-of-type {\n",
       "        vertical-align: middle;\n",
       "    }\n",
       "\n",
       "    .dataframe tbody tr th {\n",
       "        vertical-align: top;\n",
       "    }\n",
       "\n",
       "    .dataframe thead th {\n",
       "        text-align: right;\n",
       "    }\n",
       "</style>\n",
       "<table border=\"1\" class=\"dataframe\">\n",
       "  <thead>\n",
       "    <tr style=\"text-align: right;\">\n",
       "      <th></th>\n",
       "      <th>name</th>\n",
       "      <th>RA</th>\n",
       "      <th>Dec</th>\n",
       "      <th>redshift</th>\n",
       "      <th>Mass</th>\n",
       "      <th>Lx</th>\n",
       "      <th>K0</th>\n",
       "      <th>catalog</th>\n",
       "    </tr>\n",
       "  </thead>\n",
       "  <tbody>\n",
       "    <tr>\n",
       "      <th>0</th>\n",
       "      <td>UGC_12890</td>\n",
       "      <td>0.030</td>\n",
       "      <td>8.274</td>\n",
       "      <td>0.0396</td>\n",
       "      <td>0.7373</td>\n",
       "      <td>0.196280</td>\n",
       "      <td>NaN</td>\n",
       "      <td>NORAS</td>\n",
       "    </tr>\n",
       "    <tr>\n",
       "      <th>1</th>\n",
       "      <td>RXC_J0000.4-0237</td>\n",
       "      <td>0.103</td>\n",
       "      <td>-2.625</td>\n",
       "      <td>0.0379</td>\n",
       "      <td>0.3297</td>\n",
       "      <td>0.052338</td>\n",
       "      <td>NaN</td>\n",
       "      <td>SGP</td>\n",
       "    </tr>\n",
       "    <tr>\n",
       "      <th>2</th>\n",
       "      <td>RXC_J0001.6-1540</td>\n",
       "      <td>0.412</td>\n",
       "      <td>-15.681</td>\n",
       "      <td>0.1246</td>\n",
       "      <td>1.6557</td>\n",
       "      <td>0.814902</td>\n",
       "      <td>NaN</td>\n",
       "      <td>SGP</td>\n",
       "    </tr>\n",
       "    <tr>\n",
       "      <th>3</th>\n",
       "      <td>A2692</td>\n",
       "      <td>0.488</td>\n",
       "      <td>12.073</td>\n",
       "      <td>0.2033</td>\n",
       "      <td>2.6927</td>\n",
       "      <td>1.990205</td>\n",
       "      <td>NaN</td>\n",
       "      <td>NORAS</td>\n",
       "    </tr>\n",
       "    <tr>\n",
       "      <th>4</th>\n",
       "      <td>A2697</td>\n",
       "      <td>0.799</td>\n",
       "      <td>-6.086</td>\n",
       "      <td>0.2320</td>\n",
       "      <td>5.2188</td>\n",
       "      <td>6.107094</td>\n",
       "      <td>NaN</td>\n",
       "      <td>REFLEX</td>\n",
       "    </tr>\n",
       "    <tr>\n",
       "      <th>...</th>\n",
       "      <td>...</td>\n",
       "      <td>...</td>\n",
       "      <td>...</td>\n",
       "      <td>...</td>\n",
       "      <td>...</td>\n",
       "      <td>...</td>\n",
       "      <td>...</td>\n",
       "      <td>...</td>\n",
       "    </tr>\n",
       "    <tr>\n",
       "      <th>1738</th>\n",
       "      <td>A4059</td>\n",
       "      <td>359.260</td>\n",
       "      <td>-34.761</td>\n",
       "      <td>0.0475</td>\n",
       "      <td>2.6658</td>\n",
       "      <td>1.629622</td>\n",
       "      <td>7.06</td>\n",
       "      <td>REFLEX</td>\n",
       "    </tr>\n",
       "    <tr>\n",
       "      <th>1739</th>\n",
       "      <td>A4067</td>\n",
       "      <td>359.830</td>\n",
       "      <td>-60.700</td>\n",
       "      <td>0.0989</td>\n",
       "      <td>1.9699</td>\n",
       "      <td>1.051539</td>\n",
       "      <td>NaN</td>\n",
       "      <td>REFLEX</td>\n",
       "    </tr>\n",
       "    <tr>\n",
       "      <th>1740</th>\n",
       "      <td>MS2356.9-3434</td>\n",
       "      <td>359.864</td>\n",
       "      <td>-34.306</td>\n",
       "      <td>0.1150</td>\n",
       "      <td>0.7568</td>\n",
       "      <td>0.223131</td>\n",
       "      <td>NaN</td>\n",
       "      <td>EMSS_1994</td>\n",
       "    </tr>\n",
       "    <tr>\n",
       "      <th>1741</th>\n",
       "      <td>BSe_RXJ2359.5-3211</td>\n",
       "      <td>359.900</td>\n",
       "      <td>-32.185</td>\n",
       "      <td>0.4780</td>\n",
       "      <td>1.4784</td>\n",
       "      <td>1.069996</td>\n",
       "      <td>NaN</td>\n",
       "      <td>SHARC_SOUTH</td>\n",
       "    </tr>\n",
       "    <tr>\n",
       "      <th>1742</th>\n",
       "      <td>A4068</td>\n",
       "      <td>359.982</td>\n",
       "      <td>-39.480</td>\n",
       "      <td>0.1024</td>\n",
       "      <td>2.1579</td>\n",
       "      <td>1.226090</td>\n",
       "      <td>NaN</td>\n",
       "      <td>REFLEX</td>\n",
       "    </tr>\n",
       "  </tbody>\n",
       "</table>\n",
       "<p>1743 rows × 8 columns</p>\n",
       "</div>"
      ],
      "text/plain": [
       "                    name       RA     Dec  redshift    Mass        Lx    K0  \\\n",
       "0              UGC_12890    0.030   8.274    0.0396  0.7373  0.196280   NaN   \n",
       "1       RXC_J0000.4-0237    0.103  -2.625    0.0379  0.3297  0.052338   NaN   \n",
       "2       RXC_J0001.6-1540    0.412 -15.681    0.1246  1.6557  0.814902   NaN   \n",
       "3                  A2692    0.488  12.073    0.2033  2.6927  1.990205   NaN   \n",
       "4                  A2697    0.799  -6.086    0.2320  5.2188  6.107094   NaN   \n",
       "...                  ...      ...     ...       ...     ...       ...   ...   \n",
       "1738               A4059  359.260 -34.761    0.0475  2.6658  1.629622  7.06   \n",
       "1739               A4067  359.830 -60.700    0.0989  1.9699  1.051539   NaN   \n",
       "1740       MS2356.9-3434  359.864 -34.306    0.1150  0.7568  0.223131   NaN   \n",
       "1741  BSe_RXJ2359.5-3211  359.900 -32.185    0.4780  1.4784  1.069996   NaN   \n",
       "1742               A4068  359.982 -39.480    0.1024  2.1579  1.226090   NaN   \n",
       "\n",
       "          catalog  \n",
       "0           NORAS  \n",
       "1             SGP  \n",
       "2             SGP  \n",
       "3           NORAS  \n",
       "4          REFLEX  \n",
       "...           ...  \n",
       "1738       REFLEX  \n",
       "1739       REFLEX  \n",
       "1740    EMSS_1994  \n",
       "1741  SHARC_SOUTH  \n",
       "1742       REFLEX  \n",
       "\n",
       "[1743 rows x 8 columns]"
      ]
     },
     "execution_count": 6,
     "metadata": {},
     "output_type": "execute_result"
    }
   ],
   "source": [
    "catalog = {'name': cat_name, \n",
    "           'RA': cat_ra, 'Dec':cat_dec, \n",
    "           'redshift':cat_z, 'Mass':cat_mass, 'Lx':cat_lx,\n",
    "           'K0':cat_K0, 'catalog':cat_cat}\n",
    "df = pandas.DataFrame(data=catalog)\n",
    "df.to_csv('/Users/adam/Desktop/catalog.csv')\n",
    "df"
   ]
  },
  {
   "cell_type": "code",
   "execution_count": 7,
   "metadata": {},
   "outputs": [
    {
     "data": {
      "text/html": [
       "<i>Table length=1743</i>\n",
       "<table id=\"table99263379664\" class=\"table-striped table-bordered table-condensed\">\n",
       "<thead><tr><th>name</th><th>RA</th><th>Dec</th><th>redshift</th><th>Mass</th><th>Lx</th><th>K0</th><th>catalog</th></tr></thead>\n",
       "<thead><tr><th>bytes50</th><th>float64</th><th>float64</th><th>float64</th><th>float64</th><th>float64</th><th>float64</th><th>bytes12</th></tr></thead>\n",
       "<tr><td>UGC_12890</td><td>0.03</td><td>8.274</td><td>0.0396</td><td>0.7373</td><td>0.19628</td><td>1e+20</td><td>NORAS</td></tr>\n",
       "<tr><td>RXC_J0000.4-0237</td><td>0.103</td><td>-2.625</td><td>0.0379</td><td>0.3297</td><td>0.052338</td><td>1e+20</td><td>SGP</td></tr>\n",
       "<tr><td>RXC_J0001.6-1540</td><td>0.412</td><td>-15.681</td><td>0.1246</td><td>1.6557</td><td>0.814902</td><td>1e+20</td><td>SGP</td></tr>\n",
       "<tr><td>A2692</td><td>0.488</td><td>12.073</td><td>0.2033</td><td>2.6927</td><td>1.990205</td><td>1e+20</td><td>NORAS</td></tr>\n",
       "<tr><td>A2697</td><td>0.799</td><td>-6.086</td><td>0.232</td><td>5.2188</td><td>6.107094</td><td>1e+20</td><td>REFLEX</td></tr>\n",
       "<tr><td>A2717</td><td>0.801</td><td>-35.927</td><td>0.049</td><td>1.2016</td><td>0.441862</td><td>27.05</td><td>REFLEX</td></tr>\n",
       "<tr><td>A2700</td><td>0.961</td><td>2.063</td><td>0.0924</td><td>1.7342</td><td>0.846881</td><td>1e+20</td><td>REFLEX</td></tr>\n",
       "<tr><td>UGC_00032</td><td>1.247</td><td>11.701</td><td>0.0761</td><td>1.3009</td><td>0.518795</td><td>1e+20</td><td>NORAS</td></tr>\n",
       "<tr><td>A2703</td><td>1.344</td><td>16.211</td><td>0.1164</td><td>2.4929</td><td>1.579007</td><td>1e+20</td><td>NORAS</td></tr>\n",
       "<tr><td>A2721</td><td>1.513</td><td>-34.724</td><td>0.1147</td><td>2.7122</td><td>1.809494</td><td>1e+20</td><td>REFLEX</td></tr>\n",
       "<tr><td>...</td><td>...</td><td>...</td><td>...</td><td>...</td><td>...</td><td>...</td><td>...</td></tr>\n",
       "<tr><td>A2670</td><td>358.556</td><td>-10.413</td><td>0.0765</td><td>2.316</td><td>1.336537</td><td>1e+20</td><td>REFLEX</td></tr>\n",
       "<tr><td>VMF98_223</td><td>358.798</td><td>-15.008</td><td>0.0857</td><td>0.3897</td><td>0.072643</td><td>1e+20</td><td>400SD_SER</td></tr>\n",
       "<tr><td>A2675</td><td>358.909</td><td>11.343</td><td>0.0726</td><td>1.6934</td><td>0.79624</td><td>1e+20</td><td>NORAS</td></tr>\n",
       "<tr><td>A2678</td><td>358.925</td><td>11.647</td><td>0.0729</td><td>1.0647</td><td>0.372131</td><td>1e+20</td><td>eBCS</td></tr>\n",
       "<tr><td>A2677</td><td>358.957</td><td>34.386</td><td>0.148</td><td>2.1719</td><td>1.307553</td><td>1e+20</td><td>NORAS</td></tr>\n",
       "<tr><td>A4059</td><td>359.26</td><td>-34.761</td><td>0.0475</td><td>2.6658</td><td>1.629622</td><td>7.06</td><td>REFLEX</td></tr>\n",
       "<tr><td>A4067</td><td>359.83</td><td>-60.7</td><td>0.0989</td><td>1.9699</td><td>1.051539</td><td>1e+20</td><td>REFLEX</td></tr>\n",
       "<tr><td>MS2356.9-3434</td><td>359.864</td><td>-34.306</td><td>0.115</td><td>0.7568</td><td>0.223131</td><td>1e+20</td><td>EMSS_1994</td></tr>\n",
       "<tr><td>BSe_RXJ2359.5-3211</td><td>359.9</td><td>-32.185</td><td>0.478</td><td>1.4784</td><td>1.069996</td><td>1e+20</td><td>SHARC_SOUTH</td></tr>\n",
       "<tr><td>A4068</td><td>359.982</td><td>-39.48</td><td>0.1024</td><td>2.1579</td><td>1.22609</td><td>1e+20</td><td>REFLEX</td></tr>\n",
       "</table>"
      ],
      "text/plain": [
       "<Table length=1743>\n",
       "       name           RA     Dec   redshift   Mass     Lx       K0     catalog  \n",
       "     bytes50       float64 float64 float64  float64 float64  float64   bytes12  \n",
       "------------------ ------- ------- -------- ------- -------- ------- -----------\n",
       "         UGC_12890    0.03   8.274   0.0396  0.7373  0.19628   1e+20       NORAS\n",
       "  RXC_J0000.4-0237   0.103  -2.625   0.0379  0.3297 0.052338   1e+20         SGP\n",
       "  RXC_J0001.6-1540   0.412 -15.681   0.1246  1.6557 0.814902   1e+20         SGP\n",
       "             A2692   0.488  12.073   0.2033  2.6927 1.990205   1e+20       NORAS\n",
       "             A2697   0.799  -6.086    0.232  5.2188 6.107094   1e+20      REFLEX\n",
       "             A2717   0.801 -35.927    0.049  1.2016 0.441862   27.05      REFLEX\n",
       "             A2700   0.961   2.063   0.0924  1.7342 0.846881   1e+20      REFLEX\n",
       "         UGC_00032   1.247  11.701   0.0761  1.3009 0.518795   1e+20       NORAS\n",
       "             A2703   1.344  16.211   0.1164  2.4929 1.579007   1e+20       NORAS\n",
       "             A2721   1.513 -34.724   0.1147  2.7122 1.809494   1e+20      REFLEX\n",
       "               ...     ...     ...      ...     ...      ...     ...         ...\n",
       "             A2670 358.556 -10.413   0.0765   2.316 1.336537   1e+20      REFLEX\n",
       "         VMF98_223 358.798 -15.008   0.0857  0.3897 0.072643   1e+20   400SD_SER\n",
       "             A2675 358.909  11.343   0.0726  1.6934  0.79624   1e+20       NORAS\n",
       "             A2678 358.925  11.647   0.0729  1.0647 0.372131   1e+20        eBCS\n",
       "             A2677 358.957  34.386    0.148  2.1719 1.307553   1e+20       NORAS\n",
       "             A4059  359.26 -34.761   0.0475  2.6658 1.629622    7.06      REFLEX\n",
       "             A4067  359.83   -60.7   0.0989  1.9699 1.051539   1e+20      REFLEX\n",
       "     MS2356.9-3434 359.864 -34.306    0.115  0.7568 0.223131   1e+20   EMSS_1994\n",
       "BSe_RXJ2359.5-3211   359.9 -32.185    0.478  1.4784 1.069996   1e+20 SHARC_SOUTH\n",
       "             A4068 359.982  -39.48   0.1024  2.1579  1.22609   1e+20      REFLEX"
      ]
     },
     "execution_count": 7,
     "metadata": {},
     "output_type": "execute_result"
    }
   ],
   "source": [
    "from astropy.table import Table\n",
    "t = Table.from_pandas(df)\n",
    "t.write('/Users/adam/Desktop/catalog.fits', overwrite=True)\n",
    "new_table = Table.read('/Users/adam/Desktop/catalog.fits')\n",
    "new_table"
   ]
  },
  {
   "cell_type": "markdown",
   "metadata": {},
   "source": [
    "# Compute sky maps looping over catalog"
   ]
  },
  {
   "cell_type": "code",
   "execution_count": 6,
   "metadata": {},
   "outputs": [
    {
     "data": {
      "text/plain": [
       "(<Quantity [   100.,   1000.,  10000., 100000.] GeV>,\n",
       " <Quantity [  550.,  5500., 55000.] GeV>,\n",
       " array([  316.22776602,  3162.27766017, 31622.77660168]))"
      ]
     },
     "execution_count": 6,
     "metadata": {},
     "output_type": "execute_result"
    }
   ],
   "source": [
    "#---------- Energy bining definition\n",
    "Ebin_emin = 100*u.GeV\n",
    "Ebin_emax = 100*u.TeV\n",
    "Ebin_nbin = 3\n",
    "\n",
    "Ebin_pot    = np.logspace(np.log10(Ebin_emin.to_value('GeV')), \n",
    "                          np.log10(Ebin_emax.to_value('GeV')), \n",
    "                          Ebin_nbin+1)*u.GeV\n",
    "Ebin_ctr    = ((Ebin_pot + np.roll(Ebin_pot,1))/2)[1:]\n",
    "Ebin_logctr = 10**((np.log10(Ebin_pot.to_value('GeV')) + np.roll(np.log10(Ebin_pot.to_value('GeV')),1))/2)[1:]\n",
    "\n",
    "Ebin_pot, Ebin_ctr, Ebin_logctr"
   ]
  },
  {
   "cell_type": "code",
   "execution_count": 7,
   "metadata": {},
   "outputs": [],
   "source": [
    "#---------- Helpix bining\n",
    "skymap = np.zeros((Ebin_nbin, hp.nside2npix(Nside)))"
   ]
  },
  {
   "cell_type": "code",
   "execution_count": 8,
   "metadata": {},
   "outputs": [
    {
     "name": "stderr",
     "output_type": "stream",
     "text": [
      "/Users/adam/Project/anaconda3/envs/ctaphys/lib/python3.7/site-packages/healpy/pixelfunc.py:528: RuntimeWarning: divide by zero encountered in _pix2ang_ring\n",
      "  theta, phi = pixlib._pix2ang_ring(nside, ipix)\n",
      "/Users/adam/Project/anaconda3/envs/ctaphys/lib/python3.7/site-packages/healpy/pixelfunc.py:528: RuntimeWarning: invalid value encountered in _pix2ang_ring\n",
      "  theta, phi = pixlib._pix2ang_ring(nside, ipix)\n",
      "/Users/adam/Project/anaconda3/envs/ctaphys/lib/python3.7/site-packages/minot/ClusterTools/map_tools.py:216: RuntimeWarning: invalid value encountered in sin\n",
      "  arg4 = (np.sin((lon_ref-lon)*np.pi/180.0/2.0))**2\n"
     ]
    }
   ],
   "source": [
    "#---------- Init the healpix to get lon and lat maps\n",
    "bid_cl = minot.Cluster(silent=True)\n",
    "bid_map, lon, lat = bid_cl.get_gamma_hpmap(nside=Nside, output_lonlat=True)"
   ]
  },
  {
   "cell_type": "code",
   "execution_count": 9,
   "metadata": {
    "scrolled": false
   },
   "outputs": [
    {
     "name": "stdout",
     "output_type": "stream",
     "text": [
      "1/484 A2697 0.799 -6.086 5.2188 0.232\n"
     ]
    },
    {
     "name": "stderr",
     "output_type": "stream",
     "text": [
      "/Users/adam/Project/anaconda3/envs/ctaphys/lib/python3.7/site-packages/minot/ClusterTools/map_tools.py:216: RuntimeWarning: invalid value encountered in sin\n",
      "  arg4 = (np.sin((lon_ref-lon)*np.pi/180.0/2.0))**2\n",
      "/Users/adam/Project/anaconda3/envs/ctaphys/lib/python3.7/site-packages/minot/ClusterTools/map_tools.py:216: RuntimeWarning: invalid value encountered in sin\n",
      "  arg4 = (np.sin((lon_ref-lon)*np.pi/180.0/2.0))**2\n",
      "/Users/adam/Project/anaconda3/envs/ctaphys/lib/python3.7/site-packages/minot/ClusterTools/map_tools.py:216: RuntimeWarning: invalid value encountered in sin\n",
      "  arg4 = (np.sin((lon_ref-lon)*np.pi/180.0/2.0))**2\n"
     ]
    },
    {
     "name": "stdout",
     "output_type": "stream",
     "text": [
      "2/484 A2717 0.801 -35.927 1.2016 0.049\n"
     ]
    },
    {
     "name": "stderr",
     "output_type": "stream",
     "text": [
      "/Users/adam/Project/anaconda3/envs/ctaphys/lib/python3.7/site-packages/minot/ClusterTools/map_tools.py:216: RuntimeWarning: invalid value encountered in sin\n",
      "  arg4 = (np.sin((lon_ref-lon)*np.pi/180.0/2.0))**2\n",
      "/Users/adam/Project/anaconda3/envs/ctaphys/lib/python3.7/site-packages/minot/ClusterTools/map_tools.py:216: RuntimeWarning: invalid value encountered in sin\n",
      "  arg4 = (np.sin((lon_ref-lon)*np.pi/180.0/2.0))**2\n",
      "/Users/adam/Project/anaconda3/envs/ctaphys/lib/python3.7/site-packages/minot/ClusterTools/map_tools.py:216: RuntimeWarning: invalid value encountered in sin\n",
      "  arg4 = (np.sin((lon_ref-lon)*np.pi/180.0/2.0))**2\n"
     ]
    },
    {
     "name": "stdout",
     "output_type": "stream",
     "text": [
      "3/484 A2721 1.513 -34.724 2.7122 0.1147\n"
     ]
    },
    {
     "name": "stderr",
     "output_type": "stream",
     "text": [
      "/Users/adam/Project/anaconda3/envs/ctaphys/lib/python3.7/site-packages/minot/ClusterTools/map_tools.py:216: RuntimeWarning: invalid value encountered in sin\n",
      "  arg4 = (np.sin((lon_ref-lon)*np.pi/180.0/2.0))**2\n",
      "/Users/adam/Project/anaconda3/envs/ctaphys/lib/python3.7/site-packages/minot/ClusterTools/map_tools.py:216: RuntimeWarning: invalid value encountered in sin\n",
      "  arg4 = (np.sin((lon_ref-lon)*np.pi/180.0/2.0))**2\n",
      "/Users/adam/Project/anaconda3/envs/ctaphys/lib/python3.7/site-packages/minot/ClusterTools/map_tools.py:216: RuntimeWarning: invalid value encountered in sin\n",
      "  arg4 = (np.sin((lon_ref-lon)*np.pi/180.0/2.0))**2\n"
     ]
    },
    {
     "name": "stdout",
     "output_type": "stream",
     "text": [
      "4/484 A2734 2.836 -28.855 2.0611 0.062\n"
     ]
    },
    {
     "name": "stderr",
     "output_type": "stream",
     "text": [
      "/Users/adam/Project/anaconda3/envs/ctaphys/lib/python3.7/site-packages/minot/ClusterTools/map_tools.py:216: RuntimeWarning: invalid value encountered in sin\n",
      "  arg4 = (np.sin((lon_ref-lon)*np.pi/180.0/2.0))**2\n",
      "/Users/adam/Project/anaconda3/envs/ctaphys/lib/python3.7/site-packages/minot/ClusterTools/map_tools.py:216: RuntimeWarning: invalid value encountered in sin\n",
      "  arg4 = (np.sin((lon_ref-lon)*np.pi/180.0/2.0))**2\n",
      "/Users/adam/Project/anaconda3/envs/ctaphys/lib/python3.7/site-packages/minot/ClusterTools/map_tools.py:216: RuntimeWarning: invalid value encountered in sin\n",
      "  arg4 = (np.sin((lon_ref-lon)*np.pi/180.0/2.0))**2\n"
     ]
    },
    {
     "name": "stdout",
     "output_type": "stream",
     "text": [
      "5/484 A0007 2.935 32.417 3.3785 0.1073\n"
     ]
    },
    {
     "name": "stderr",
     "output_type": "stream",
     "text": [
      "/Users/adam/Project/anaconda3/envs/ctaphys/lib/python3.7/site-packages/minot/ClusterTools/map_tools.py:216: RuntimeWarning: invalid value encountered in sin\n",
      "  arg4 = (np.sin((lon_ref-lon)*np.pi/180.0/2.0))**2\n",
      "/Users/adam/Project/anaconda3/envs/ctaphys/lib/python3.7/site-packages/minot/ClusterTools/map_tools.py:216: RuntimeWarning: invalid value encountered in sin\n",
      "  arg4 = (np.sin((lon_ref-lon)*np.pi/180.0/2.0))**2\n",
      "/Users/adam/Project/anaconda3/envs/ctaphys/lib/python3.7/site-packages/minot/ClusterTools/map_tools.py:216: RuntimeWarning: invalid value encountered in sin\n",
      "  arg4 = (np.sin((lon_ref-lon)*np.pi/180.0/2.0))**2\n"
     ]
    },
    {
     "name": "stdout",
     "output_type": "stream",
     "text": [
      "6/484 A0013 3.409 -19.502 2.1818 0.094\n"
     ]
    },
    {
     "name": "stderr",
     "output_type": "stream",
     "text": [
      "/Users/adam/Project/anaconda3/envs/ctaphys/lib/python3.7/site-packages/minot/ClusterTools/map_tools.py:216: RuntimeWarning: invalid value encountered in sin\n",
      "  arg4 = (np.sin((lon_ref-lon)*np.pi/180.0/2.0))**2\n",
      "/Users/adam/Project/anaconda3/envs/ctaphys/lib/python3.7/site-packages/minot/ClusterTools/map_tools.py:216: RuntimeWarning: invalid value encountered in sin\n",
      "  arg4 = (np.sin((lon_ref-lon)*np.pi/180.0/2.0))**2\n",
      "/Users/adam/Project/anaconda3/envs/ctaphys/lib/python3.7/site-packages/minot/ClusterTools/map_tools.py:216: RuntimeWarning: invalid value encountered in sin\n",
      "  arg4 = (np.sin((lon_ref-lon)*np.pi/180.0/2.0))**2\n"
     ]
    },
    {
     "name": "stdout",
     "output_type": "stream",
     "text": [
      "7/484 A2744 3.578 -30.383 7.3614 0.3066\n"
     ]
    },
    {
     "name": "stderr",
     "output_type": "stream",
     "text": [
      "/Users/adam/Project/anaconda3/envs/ctaphys/lib/python3.7/site-packages/minot/ClusterTools/map_tools.py:216: RuntimeWarning: invalid value encountered in sin\n",
      "  arg4 = (np.sin((lon_ref-lon)*np.pi/180.0/2.0))**2\n",
      "/Users/adam/Project/anaconda3/envs/ctaphys/lib/python3.7/site-packages/minot/ClusterTools/map_tools.py:216: RuntimeWarning: invalid value encountered in sin\n",
      "  arg4 = (np.sin((lon_ref-lon)*np.pi/180.0/2.0))**2\n",
      "/Users/adam/Project/anaconda3/envs/ctaphys/lib/python3.7/site-packages/minot/ClusterTools/map_tools.py:216: RuntimeWarning: invalid value encountered in sin\n",
      "  arg4 = (np.sin((lon_ref-lon)*np.pi/180.0/2.0))**2\n"
     ]
    },
    {
     "name": "stdout",
     "output_type": "stream",
     "text": [
      "8/484 A0021 5.17 28.675 2.389 0.094\n"
     ]
    },
    {
     "name": "stderr",
     "output_type": "stream",
     "text": [
      "/Users/adam/Project/anaconda3/envs/ctaphys/lib/python3.7/site-packages/minot/ClusterTools/map_tools.py:216: RuntimeWarning: invalid value encountered in sin\n",
      "  arg4 = (np.sin((lon_ref-lon)*np.pi/180.0/2.0))**2\n",
      "/Users/adam/Project/anaconda3/envs/ctaphys/lib/python3.7/site-packages/minot/ClusterTools/map_tools.py:216: RuntimeWarning: invalid value encountered in sin\n",
      "  arg4 = (np.sin((lon_ref-lon)*np.pi/180.0/2.0))**2\n",
      "/Users/adam/Project/anaconda3/envs/ctaphys/lib/python3.7/site-packages/minot/ClusterTools/map_tools.py:216: RuntimeWarning: invalid value encountered in sin\n",
      "  arg4 = (np.sin((lon_ref-lon)*np.pi/180.0/2.0))**2\n"
     ]
    },
    {
     "name": "stdout",
     "output_type": "stream",
     "text": [
      "9/484 A0022 5.179 -25.71 3.5275 0.141\n"
     ]
    },
    {
     "name": "stderr",
     "output_type": "stream",
     "text": [
      "/Users/adam/Project/anaconda3/envs/ctaphys/lib/python3.7/site-packages/minot/ClusterTools/map_tools.py:216: RuntimeWarning: invalid value encountered in sin\n",
      "  arg4 = (np.sin((lon_ref-lon)*np.pi/180.0/2.0))**2\n",
      "/Users/adam/Project/anaconda3/envs/ctaphys/lib/python3.7/site-packages/minot/ClusterTools/map_tools.py:216: RuntimeWarning: invalid value encountered in sin\n",
      "  arg4 = (np.sin((lon_ref-lon)*np.pi/180.0/2.0))**2\n",
      "/Users/adam/Project/anaconda3/envs/ctaphys/lib/python3.7/site-packages/minot/ClusterTools/map_tools.py:216: RuntimeWarning: invalid value encountered in sin\n",
      "  arg4 = (np.sin((lon_ref-lon)*np.pi/180.0/2.0))**2\n"
     ]
    },
    {
     "name": "stdout",
     "output_type": "stream",
     "text": [
      "10/484 S0041 6.385 -33.047 1.2872 0.0491\n"
     ]
    },
    {
     "name": "stderr",
     "output_type": "stream",
     "text": [
      "/Users/adam/Project/anaconda3/envs/ctaphys/lib/python3.7/site-packages/minot/ClusterTools/map_tools.py:216: RuntimeWarning: invalid value encountered in sin\n",
      "  arg4 = (np.sin((lon_ref-lon)*np.pi/180.0/2.0))**2\n",
      "/Users/adam/Project/anaconda3/envs/ctaphys/lib/python3.7/site-packages/minot/ClusterTools/map_tools.py:216: RuntimeWarning: invalid value encountered in sin\n",
      "  arg4 = (np.sin((lon_ref-lon)*np.pi/180.0/2.0))**2\n",
      "/Users/adam/Project/anaconda3/envs/ctaphys/lib/python3.7/site-packages/minot/ClusterTools/map_tools.py:216: RuntimeWarning: invalid value encountered in sin\n",
      "  arg4 = (np.sin((lon_ref-lon)*np.pi/180.0/2.0))**2\n"
     ]
    },
    {
     "name": "stdout",
     "output_type": "stream",
     "text": [
      "11/484 SH518 8.558 -2.075 2.193 0.0822\n"
     ]
    },
    {
     "name": "stderr",
     "output_type": "stream",
     "text": [
      "/Users/adam/Project/anaconda3/envs/ctaphys/lib/python3.7/site-packages/minot/ClusterTools/map_tools.py:216: RuntimeWarning: invalid value encountered in sin\n",
      "  arg4 = (np.sin((lon_ref-lon)*np.pi/180.0/2.0))**2\n",
      "/Users/adam/Project/anaconda3/envs/ctaphys/lib/python3.7/site-packages/minot/ClusterTools/map_tools.py:216: RuntimeWarning: invalid value encountered in sin\n",
      "  arg4 = (np.sin((lon_ref-lon)*np.pi/180.0/2.0))**2\n",
      "/Users/adam/Project/anaconda3/envs/ctaphys/lib/python3.7/site-packages/minot/ClusterTools/map_tools.py:216: RuntimeWarning: invalid value encountered in sin\n",
      "  arg4 = (np.sin((lon_ref-lon)*np.pi/180.0/2.0))**2\n"
     ]
    },
    {
     "name": "stdout",
     "output_type": "stream",
     "text": [
      "12/484 RXCJ0034.6-0208 8.65 -2.14 2.2202 0.0812\n"
     ]
    },
    {
     "name": "stderr",
     "output_type": "stream",
     "text": [
      "/Users/adam/Project/anaconda3/envs/ctaphys/lib/python3.7/site-packages/minot/ClusterTools/map_tools.py:216: RuntimeWarning: invalid value encountered in sin\n",
      "  arg4 = (np.sin((lon_ref-lon)*np.pi/180.0/2.0))**2\n",
      "/Users/adam/Project/anaconda3/envs/ctaphys/lib/python3.7/site-packages/minot/ClusterTools/map_tools.py:216: RuntimeWarning: invalid value encountered in sin\n",
      "  arg4 = (np.sin((lon_ref-lon)*np.pi/180.0/2.0))**2\n",
      "/Users/adam/Project/anaconda3/envs/ctaphys/lib/python3.7/site-packages/minot/ClusterTools/map_tools.py:216: RuntimeWarning: invalid value encountered in sin\n",
      "  arg4 = (np.sin((lon_ref-lon)*np.pi/180.0/2.0))**2\n"
     ]
    },
    {
     "name": "stdout",
     "output_type": "stream",
     "text": [
      "13/484 A0068 9.272 9.153 5.9801 0.2546\n"
     ]
    },
    {
     "name": "stderr",
     "output_type": "stream",
     "text": [
      "/Users/adam/Project/anaconda3/envs/ctaphys/lib/python3.7/site-packages/minot/ClusterTools/map_tools.py:216: RuntimeWarning: invalid value encountered in sin\n",
      "  arg4 = (np.sin((lon_ref-lon)*np.pi/180.0/2.0))**2\n",
      "/Users/adam/Project/anaconda3/envs/ctaphys/lib/python3.7/site-packages/minot/ClusterTools/map_tools.py:216: RuntimeWarning: invalid value encountered in sin\n",
      "  arg4 = (np.sin((lon_ref-lon)*np.pi/180.0/2.0))**2\n",
      "/Users/adam/Project/anaconda3/envs/ctaphys/lib/python3.7/site-packages/minot/ClusterTools/map_tools.py:216: RuntimeWarning: invalid value encountered in sin\n",
      "  arg4 = (np.sin((lon_ref-lon)*np.pi/180.0/2.0))**2\n"
     ]
    },
    {
     "name": "stdout",
     "output_type": "stream",
     "text": [
      "14/484 A0076 10.002 6.818 0.9933 0.0395\n"
     ]
    },
    {
     "name": "stderr",
     "output_type": "stream",
     "text": [
      "/Users/adam/Project/anaconda3/envs/ctaphys/lib/python3.7/site-packages/minot/ClusterTools/map_tools.py:216: RuntimeWarning: invalid value encountered in sin\n",
      "  arg4 = (np.sin((lon_ref-lon)*np.pi/180.0/2.0))**2\n",
      "/Users/adam/Project/anaconda3/envs/ctaphys/lib/python3.7/site-packages/minot/ClusterTools/map_tools.py:216: RuntimeWarning: invalid value encountered in sin\n",
      "  arg4 = (np.sin((lon_ref-lon)*np.pi/180.0/2.0))**2\n",
      "/Users/adam/Project/anaconda3/envs/ctaphys/lib/python3.7/site-packages/minot/ClusterTools/map_tools.py:216: RuntimeWarning: invalid value encountered in sin\n",
      "  arg4 = (np.sin((lon_ref-lon)*np.pi/180.0/2.0))**2\n"
     ]
    },
    {
     "name": "stdout",
     "output_type": "stream",
     "text": [
      "15/484 A0077 10.114 29.559 1.8872 0.0712\n"
     ]
    },
    {
     "name": "stderr",
     "output_type": "stream",
     "text": [
      "/Users/adam/Project/anaconda3/envs/ctaphys/lib/python3.7/site-packages/minot/ClusterTools/map_tools.py:216: RuntimeWarning: invalid value encountered in sin\n",
      "  arg4 = (np.sin((lon_ref-lon)*np.pi/180.0/2.0))**2\n",
      "/Users/adam/Project/anaconda3/envs/ctaphys/lib/python3.7/site-packages/minot/ClusterTools/map_tools.py:216: RuntimeWarning: invalid value encountered in sin\n",
      "  arg4 = (np.sin((lon_ref-lon)*np.pi/180.0/2.0))**2\n",
      "/Users/adam/Project/anaconda3/envs/ctaphys/lib/python3.7/site-packages/minot/ClusterTools/map_tools.py:216: RuntimeWarning: invalid value encountered in sin\n",
      "  arg4 = (np.sin((lon_ref-lon)*np.pi/180.0/2.0))**2\n"
     ]
    },
    {
     "name": "stdout",
     "output_type": "stream",
     "text": [
      "16/484 A0085 10.459 -9.302 5.3163 0.0555\n"
     ]
    },
    {
     "name": "stderr",
     "output_type": "stream",
     "text": [
      "/Users/adam/Project/anaconda3/envs/ctaphys/lib/python3.7/site-packages/minot/ClusterTools/map_tools.py:216: RuntimeWarning: invalid value encountered in sin\n",
      "  arg4 = (np.sin((lon_ref-lon)*np.pi/180.0/2.0))**2\n",
      "/Users/adam/Project/anaconda3/envs/ctaphys/lib/python3.7/site-packages/minot/ClusterTools/map_tools.py:216: RuntimeWarning: invalid value encountered in sin\n",
      "  arg4 = (np.sin((lon_ref-lon)*np.pi/180.0/2.0))**2\n",
      "/Users/adam/Project/anaconda3/envs/ctaphys/lib/python3.7/site-packages/minot/ClusterTools/map_tools.py:216: RuntimeWarning: invalid value encountered in sin\n",
      "  arg4 = (np.sin((lon_ref-lon)*np.pi/180.0/2.0))**2\n"
     ]
    },
    {
     "name": "stdout",
     "output_type": "stream",
     "text": [
      "17/484 A2811 10.536 -28.536 3.5046 0.1082\n"
     ]
    },
    {
     "name": "stderr",
     "output_type": "stream",
     "text": [
      "/Users/adam/Project/anaconda3/envs/ctaphys/lib/python3.7/site-packages/minot/ClusterTools/map_tools.py:216: RuntimeWarning: invalid value encountered in sin\n",
      "  arg4 = (np.sin((lon_ref-lon)*np.pi/180.0/2.0))**2\n",
      "/Users/adam/Project/anaconda3/envs/ctaphys/lib/python3.7/site-packages/minot/ClusterTools/map_tools.py:216: RuntimeWarning: invalid value encountered in sin\n",
      "  arg4 = (np.sin((lon_ref-lon)*np.pi/180.0/2.0))**2\n",
      "/Users/adam/Project/anaconda3/envs/ctaphys/lib/python3.7/site-packages/minot/ClusterTools/map_tools.py:216: RuntimeWarning: invalid value encountered in sin\n",
      "  arg4 = (np.sin((lon_ref-lon)*np.pi/180.0/2.0))**2\n"
     ]
    },
    {
     "name": "stdout",
     "output_type": "stream",
     "text": [
      "18/484 ZwCl235 10.967 24.402 2.8014 0.083\n"
     ]
    },
    {
     "name": "stderr",
     "output_type": "stream",
     "text": [
      "/Users/adam/Project/anaconda3/envs/ctaphys/lib/python3.7/site-packages/minot/ClusterTools/map_tools.py:216: RuntimeWarning: invalid value encountered in sin\n",
      "  arg4 = (np.sin((lon_ref-lon)*np.pi/180.0/2.0))**2\n",
      "/Users/adam/Project/anaconda3/envs/ctaphys/lib/python3.7/site-packages/minot/ClusterTools/map_tools.py:216: RuntimeWarning: invalid value encountered in sin\n",
      "  arg4 = (np.sin((lon_ref-lon)*np.pi/180.0/2.0))**2\n",
      "/Users/adam/Project/anaconda3/envs/ctaphys/lib/python3.7/site-packages/minot/ClusterTools/map_tools.py:216: RuntimeWarning: invalid value encountered in sin\n",
      "  arg4 = (np.sin((lon_ref-lon)*np.pi/180.0/2.0))**2\n"
     ]
    },
    {
     "name": "stdout",
     "output_type": "stream",
     "text": [
      "19/484 S0084 12.35 -29.524 2.3682 0.1084\n"
     ]
    },
    {
     "name": "stderr",
     "output_type": "stream",
     "text": [
      "/Users/adam/Project/anaconda3/envs/ctaphys/lib/python3.7/site-packages/minot/ClusterTools/map_tools.py:216: RuntimeWarning: invalid value encountered in sin\n",
      "  arg4 = (np.sin((lon_ref-lon)*np.pi/180.0/2.0))**2\n",
      "/Users/adam/Project/anaconda3/envs/ctaphys/lib/python3.7/site-packages/minot/ClusterTools/map_tools.py:216: RuntimeWarning: invalid value encountered in sin\n",
      "  arg4 = (np.sin((lon_ref-lon)*np.pi/180.0/2.0))**2\n",
      "/Users/adam/Project/anaconda3/envs/ctaphys/lib/python3.7/site-packages/minot/ClusterTools/map_tools.py:216: RuntimeWarning: invalid value encountered in sin\n",
      "  arg4 = (np.sin((lon_ref-lon)*np.pi/180.0/2.0))**2\n"
     ]
    },
    {
     "name": "stdout",
     "output_type": "stream",
     "text": [
      "20/484 A0104 12.452 24.441 1.9841 0.0815\n"
     ]
    },
    {
     "name": "stderr",
     "output_type": "stream",
     "text": [
      "/Users/adam/Project/anaconda3/envs/ctaphys/lib/python3.7/site-packages/minot/ClusterTools/map_tools.py:216: RuntimeWarning: invalid value encountered in sin\n",
      "  arg4 = (np.sin((lon_ref-lon)*np.pi/180.0/2.0))**2\n",
      "/Users/adam/Project/anaconda3/envs/ctaphys/lib/python3.7/site-packages/minot/ClusterTools/map_tools.py:216: RuntimeWarning: invalid value encountered in sin\n",
      "  arg4 = (np.sin((lon_ref-lon)*np.pi/180.0/2.0))**2\n",
      "/Users/adam/Project/anaconda3/envs/ctaphys/lib/python3.7/site-packages/minot/ClusterTools/map_tools.py:216: RuntimeWarning: invalid value encountered in sin\n",
      "  arg4 = (np.sin((lon_ref-lon)*np.pi/180.0/2.0))**2\n"
     ]
    },
    {
     "name": "stdout",
     "output_type": "stream",
     "text": [
      "21/484 A2837 13.187 -80.266 3.9812 0.1141\n"
     ]
    },
    {
     "name": "stderr",
     "output_type": "stream",
     "text": [
      "/Users/adam/Project/anaconda3/envs/ctaphys/lib/python3.7/site-packages/minot/ClusterTools/map_tools.py:216: RuntimeWarning: invalid value encountered in sin\n",
      "  arg4 = (np.sin((lon_ref-lon)*np.pi/180.0/2.0))**2\n",
      "/Users/adam/Project/anaconda3/envs/ctaphys/lib/python3.7/site-packages/minot/ClusterTools/map_tools.py:216: RuntimeWarning: invalid value encountered in sin\n",
      "  arg4 = (np.sin((lon_ref-lon)*np.pi/180.0/2.0))**2\n",
      "/Users/adam/Project/anaconda3/envs/ctaphys/lib/python3.7/site-packages/minot/ClusterTools/map_tools.py:216: RuntimeWarning: invalid value encountered in sin\n",
      "  arg4 = (np.sin((lon_ref-lon)*np.pi/180.0/2.0))**2\n"
     ]
    },
    {
     "name": "stdout",
     "output_type": "stream",
     "text": [
      "22/484 A0115 13.999 26.378 6.0676 0.1971\n"
     ]
    },
    {
     "name": "stderr",
     "output_type": "stream",
     "text": [
      "/Users/adam/Project/anaconda3/envs/ctaphys/lib/python3.7/site-packages/minot/ClusterTools/map_tools.py:216: RuntimeWarning: invalid value encountered in sin\n",
      "  arg4 = (np.sin((lon_ref-lon)*np.pi/180.0/2.0))**2\n",
      "/Users/adam/Project/anaconda3/envs/ctaphys/lib/python3.7/site-packages/minot/ClusterTools/map_tools.py:216: RuntimeWarning: invalid value encountered in sin\n",
      "  arg4 = (np.sin((lon_ref-lon)*np.pi/180.0/2.0))**2\n",
      "/Users/adam/Project/anaconda3/envs/ctaphys/lib/python3.7/site-packages/minot/ClusterTools/map_tools.py:216: RuntimeWarning: invalid value encountered in sin\n",
      "  arg4 = (np.sin((lon_ref-lon)*np.pi/180.0/2.0))**2\n"
     ]
    },
    {
     "name": "stdout",
     "output_type": "stream",
     "text": [
      "23/484 A0119 14.076 -1.217 2.4747 0.0442\n"
     ]
    },
    {
     "name": "stderr",
     "output_type": "stream",
     "text": [
      "/Users/adam/Project/anaconda3/envs/ctaphys/lib/python3.7/site-packages/minot/ClusterTools/map_tools.py:216: RuntimeWarning: invalid value encountered in sin\n",
      "  arg4 = (np.sin((lon_ref-lon)*np.pi/180.0/2.0))**2\n",
      "/Users/adam/Project/anaconda3/envs/ctaphys/lib/python3.7/site-packages/minot/ClusterTools/map_tools.py:216: RuntimeWarning: invalid value encountered in sin\n",
      "  arg4 = (np.sin((lon_ref-lon)*np.pi/180.0/2.0))**2\n",
      "/Users/adam/Project/anaconda3/envs/ctaphys/lib/python3.7/site-packages/minot/ClusterTools/map_tools.py:216: RuntimeWarning: invalid value encountered in sin\n",
      "  arg4 = (np.sin((lon_ref-lon)*np.pi/180.0/2.0))**2\n"
     ]
    },
    {
     "name": "stdout",
     "output_type": "stream",
     "text": [
      "24/484 S0112 14.45 -66.812 1.6195 0.0661\n"
     ]
    },
    {
     "name": "stderr",
     "output_type": "stream",
     "text": [
      "/Users/adam/Project/anaconda3/envs/ctaphys/lib/python3.7/site-packages/minot/ClusterTools/map_tools.py:216: RuntimeWarning: invalid value encountered in sin\n",
      "  arg4 = (np.sin((lon_ref-lon)*np.pi/180.0/2.0))**2\n",
      "/Users/adam/Project/anaconda3/envs/ctaphys/lib/python3.7/site-packages/minot/ClusterTools/map_tools.py:216: RuntimeWarning: invalid value encountered in sin\n",
      "  arg4 = (np.sin((lon_ref-lon)*np.pi/180.0/2.0))**2\n",
      "/Users/adam/Project/anaconda3/envs/ctaphys/lib/python3.7/site-packages/minot/ClusterTools/map_tools.py:216: RuntimeWarning: invalid value encountered in sin\n",
      "  arg4 = (np.sin((lon_ref-lon)*np.pi/180.0/2.0))**2\n"
     ]
    },
    {
     "name": "stdout",
     "output_type": "stream",
     "text": [
      "25/484 A0133 15.675 -21.874 2.4774 0.0569\n"
     ]
    },
    {
     "name": "stderr",
     "output_type": "stream",
     "text": [
      "/Users/adam/Project/anaconda3/envs/ctaphys/lib/python3.7/site-packages/minot/ClusterTools/map_tools.py:216: RuntimeWarning: invalid value encountered in sin\n",
      "  arg4 = (np.sin((lon_ref-lon)*np.pi/180.0/2.0))**2\n",
      "/Users/adam/Project/anaconda3/envs/ctaphys/lib/python3.7/site-packages/minot/ClusterTools/map_tools.py:216: RuntimeWarning: invalid value encountered in sin\n",
      "  arg4 = (np.sin((lon_ref-lon)*np.pi/180.0/2.0))**2\n",
      "/Users/adam/Project/anaconda3/envs/ctaphys/lib/python3.7/site-packages/minot/ClusterTools/map_tools.py:216: RuntimeWarning: invalid value encountered in sin\n",
      "  arg4 = (np.sin((lon_ref-lon)*np.pi/180.0/2.0))**2\n"
     ]
    },
    {
     "name": "stdout",
     "output_type": "stream",
     "text": [
      "26/484 IV_Zw_038 16.868 32.462 0.3972 0.017\n"
     ]
    },
    {
     "name": "stderr",
     "output_type": "stream",
     "text": [
      "/Users/adam/Project/anaconda3/envs/ctaphys/lib/python3.7/site-packages/minot/ClusterTools/map_tools.py:216: RuntimeWarning: invalid value encountered in sin\n",
      "  arg4 = (np.sin((lon_ref-lon)*np.pi/180.0/2.0))**2\n",
      "/Users/adam/Project/anaconda3/envs/ctaphys/lib/python3.7/site-packages/minot/ClusterTools/map_tools.py:216: RuntimeWarning: invalid value encountered in sin\n",
      "  arg4 = (np.sin((lon_ref-lon)*np.pi/180.0/2.0))**2\n",
      "/Users/adam/Project/anaconda3/envs/ctaphys/lib/python3.7/site-packages/minot/ClusterTools/map_tools.py:216: RuntimeWarning: invalid value encountered in sin\n",
      "  arg4 = (np.sin((lon_ref-lon)*np.pi/180.0/2.0))**2\n"
     ]
    },
    {
     "name": "stdout",
     "output_type": "stream",
     "text": [
      "27/484 ZwCl_0104.9+5350 16.949 54.142 3.5609 0.1066\n"
     ]
    },
    {
     "name": "stderr",
     "output_type": "stream",
     "text": [
      "/Users/adam/Project/anaconda3/envs/ctaphys/lib/python3.7/site-packages/minot/ClusterTools/map_tools.py:216: RuntimeWarning: invalid value encountered in sin\n",
      "  arg4 = (np.sin((lon_ref-lon)*np.pi/180.0/2.0))**2\n",
      "/Users/adam/Project/anaconda3/envs/ctaphys/lib/python3.7/site-packages/minot/ClusterTools/map_tools.py:216: RuntimeWarning: invalid value encountered in sin\n",
      "  arg4 = (np.sin((lon_ref-lon)*np.pi/180.0/2.0))**2\n",
      "/Users/adam/Project/anaconda3/envs/ctaphys/lib/python3.7/site-packages/minot/ClusterTools/map_tools.py:216: RuntimeWarning: invalid value encountered in sin\n",
      "  arg4 = (np.sin((lon_ref-lon)*np.pi/180.0/2.0))**2\n"
     ]
    },
    {
     "name": "stdout",
     "output_type": "stream",
     "text": [
      "28/484 RXC_J0108.0+7558 17.005 75.978 2.5121 0.096\n"
     ]
    },
    {
     "name": "stderr",
     "output_type": "stream",
     "text": [
      "/Users/adam/Project/anaconda3/envs/ctaphys/lib/python3.7/site-packages/minot/ClusterTools/map_tools.py:216: RuntimeWarning: invalid value encountered in sin\n",
      "  arg4 = (np.sin((lon_ref-lon)*np.pi/180.0/2.0))**2\n",
      "/Users/adam/Project/anaconda3/envs/ctaphys/lib/python3.7/site-packages/minot/ClusterTools/map_tools.py:216: RuntimeWarning: invalid value encountered in sin\n",
      "  arg4 = (np.sin((lon_ref-lon)*np.pi/180.0/2.0))**2\n",
      "/Users/adam/Project/anaconda3/envs/ctaphys/lib/python3.7/site-packages/minot/ClusterTools/map_tools.py:216: RuntimeWarning: invalid value encountered in sin\n",
      "  arg4 = (np.sin((lon_ref-lon)*np.pi/180.0/2.0))**2\n"
     ]
    },
    {
     "name": "stdout",
     "output_type": "stream",
     "text": [
      "29/484 A0151N 17.209 -15.41 1.2778 0.0533\n"
     ]
    },
    {
     "name": "stderr",
     "output_type": "stream",
     "text": [
      "/Users/adam/Project/anaconda3/envs/ctaphys/lib/python3.7/site-packages/minot/ClusterTools/map_tools.py:216: RuntimeWarning: invalid value encountered in sin\n",
      "  arg4 = (np.sin((lon_ref-lon)*np.pi/180.0/2.0))**2\n",
      "/Users/adam/Project/anaconda3/envs/ctaphys/lib/python3.7/site-packages/minot/ClusterTools/map_tools.py:216: RuntimeWarning: invalid value encountered in sin\n",
      "  arg4 = (np.sin((lon_ref-lon)*np.pi/180.0/2.0))**2\n",
      "/Users/adam/Project/anaconda3/envs/ctaphys/lib/python3.7/site-packages/minot/ClusterTools/map_tools.py:216: RuntimeWarning: invalid value encountered in sin\n",
      "  arg4 = (np.sin((lon_ref-lon)*np.pi/180.0/2.0))**2\n"
     ]
    },
    {
     "name": "stdout",
     "output_type": "stream",
     "text": [
      "30/484 A2877 17.501 -45.923 0.7103 0.0238\n"
     ]
    },
    {
     "name": "stderr",
     "output_type": "stream",
     "text": [
      "/Users/adam/Project/anaconda3/envs/ctaphys/lib/python3.7/site-packages/minot/ClusterTools/map_tools.py:216: RuntimeWarning: invalid value encountered in sin\n",
      "  arg4 = (np.sin((lon_ref-lon)*np.pi/180.0/2.0))**2\n",
      "/Users/adam/Project/anaconda3/envs/ctaphys/lib/python3.7/site-packages/minot/ClusterTools/map_tools.py:216: RuntimeWarning: invalid value encountered in sin\n",
      "  arg4 = (np.sin((lon_ref-lon)*np.pi/180.0/2.0))**2\n",
      "/Users/adam/Project/anaconda3/envs/ctaphys/lib/python3.7/site-packages/minot/ClusterTools/map_tools.py:216: RuntimeWarning: invalid value encountered in sin\n",
      "  arg4 = (np.sin((lon_ref-lon)*np.pi/180.0/2.0))**2\n"
     ]
    },
    {
     "name": "stdout",
     "output_type": "stream",
     "text": [
      "31/484 A0168 18.8 0.33 1.2471 0.045\n"
     ]
    },
    {
     "name": "stderr",
     "output_type": "stream",
     "text": [
      "/Users/adam/Project/anaconda3/envs/ctaphys/lib/python3.7/site-packages/minot/ClusterTools/map_tools.py:216: RuntimeWarning: invalid value encountered in sin\n",
      "  arg4 = (np.sin((lon_ref-lon)*np.pi/180.0/2.0))**2\n",
      "/Users/adam/Project/anaconda3/envs/ctaphys/lib/python3.7/site-packages/minot/ClusterTools/map_tools.py:216: RuntimeWarning: invalid value encountered in sin\n",
      "  arg4 = (np.sin((lon_ref-lon)*np.pi/180.0/2.0))**2\n",
      "/Users/adam/Project/anaconda3/envs/ctaphys/lib/python3.7/site-packages/minot/ClusterTools/map_tools.py:216: RuntimeWarning: invalid value encountered in sin\n",
      "  arg4 = (np.sin((lon_ref-lon)*np.pi/180.0/2.0))**2\n"
     ]
    },
    {
     "name": "stdout",
     "output_type": "stream",
     "text": [
      "32/484 CAN_010 20.246 -13.858 1.6737 0.0519\n"
     ]
    },
    {
     "name": "stderr",
     "output_type": "stream",
     "text": [
      "/Users/adam/Project/anaconda3/envs/ctaphys/lib/python3.7/site-packages/minot/ClusterTools/map_tools.py:216: RuntimeWarning: invalid value encountered in sin\n",
      "  arg4 = (np.sin((lon_ref-lon)*np.pi/180.0/2.0))**2\n",
      "/Users/adam/Project/anaconda3/envs/ctaphys/lib/python3.7/site-packages/minot/ClusterTools/map_tools.py:216: RuntimeWarning: invalid value encountered in sin\n",
      "  arg4 = (np.sin((lon_ref-lon)*np.pi/180.0/2.0))**2\n",
      "/Users/adam/Project/anaconda3/envs/ctaphys/lib/python3.7/site-packages/minot/ClusterTools/map_tools.py:216: RuntimeWarning: invalid value encountered in sin\n",
      "  arg4 = (np.sin((lon_ref-lon)*np.pi/180.0/2.0))**2\n"
     ]
    },
    {
     "name": "stdout",
     "output_type": "stream",
     "text": [
      "33/484 RXJ0123.2+3327 20.801 33.461 0.3624 0.0146\n"
     ]
    },
    {
     "name": "stderr",
     "output_type": "stream",
     "text": [
      "/Users/adam/Project/anaconda3/envs/ctaphys/lib/python3.7/site-packages/minot/ClusterTools/map_tools.py:216: RuntimeWarning: invalid value encountered in sin\n",
      "  arg4 = (np.sin((lon_ref-lon)*np.pi/180.0/2.0))**2\n",
      "/Users/adam/Project/anaconda3/envs/ctaphys/lib/python3.7/site-packages/minot/ClusterTools/map_tools.py:216: RuntimeWarning: invalid value encountered in sin\n",
      "  arg4 = (np.sin((lon_ref-lon)*np.pi/180.0/2.0))**2\n",
      "/Users/adam/Project/anaconda3/envs/ctaphys/lib/python3.7/site-packages/minot/ClusterTools/map_tools.py:216: RuntimeWarning: invalid value encountered in sin\n",
      "  arg4 = (np.sin((lon_ref-lon)*np.pi/180.0/2.0))**2\n"
     ]
    },
    {
     "name": "stdout",
     "output_type": "stream",
     "text": [
      "34/484 RXJ0123.6+3315 20.921 33.261 0.6106 0.0164\n"
     ]
    },
    {
     "name": "stderr",
     "output_type": "stream",
     "text": [
      "/Users/adam/Project/anaconda3/envs/ctaphys/lib/python3.7/site-packages/minot/ClusterTools/map_tools.py:216: RuntimeWarning: invalid value encountered in sin\n",
      "  arg4 = (np.sin((lon_ref-lon)*np.pi/180.0/2.0))**2\n",
      "/Users/adam/Project/anaconda3/envs/ctaphys/lib/python3.7/site-packages/minot/ClusterTools/map_tools.py:216: RuntimeWarning: invalid value encountered in sin\n",
      "  arg4 = (np.sin((lon_ref-lon)*np.pi/180.0/2.0))**2\n",
      "/Users/adam/Project/anaconda3/envs/ctaphys/lib/python3.7/site-packages/minot/ClusterTools/map_tools.py:216: RuntimeWarning: invalid value encountered in sin\n",
      "  arg4 = (np.sin((lon_ref-lon)*np.pi/180.0/2.0))**2\n"
     ]
    },
    {
     "name": "stdout",
     "output_type": "stream",
     "text": [
      "35/484 A0193 21.266 8.688 1.7624 0.0491\n"
     ]
    },
    {
     "name": "stderr",
     "output_type": "stream",
     "text": [
      "/Users/adam/Project/anaconda3/envs/ctaphys/lib/python3.7/site-packages/minot/ClusterTools/map_tools.py:216: RuntimeWarning: invalid value encountered in sin\n",
      "  arg4 = (np.sin((lon_ref-lon)*np.pi/180.0/2.0))**2\n",
      "/Users/adam/Project/anaconda3/envs/ctaphys/lib/python3.7/site-packages/minot/ClusterTools/map_tools.py:216: RuntimeWarning: invalid value encountered in sin\n",
      "  arg4 = (np.sin((lon_ref-lon)*np.pi/180.0/2.0))**2\n",
      "/Users/adam/Project/anaconda3/envs/ctaphys/lib/python3.7/site-packages/minot/ClusterTools/map_tools.py:216: RuntimeWarning: invalid value encountered in sin\n",
      "  arg4 = (np.sin((lon_ref-lon)*np.pi/180.0/2.0))**2\n"
     ]
    },
    {
     "name": "stdout",
     "output_type": "stream",
     "text": [
      "36/484 A0194 21.42 -1.407 0.3981 0.018\n"
     ]
    },
    {
     "name": "stderr",
     "output_type": "stream",
     "text": [
      "/Users/adam/Project/anaconda3/envs/ctaphys/lib/python3.7/site-packages/minot/ClusterTools/map_tools.py:216: RuntimeWarning: invalid value encountered in sin\n",
      "  arg4 = (np.sin((lon_ref-lon)*np.pi/180.0/2.0))**2\n",
      "/Users/adam/Project/anaconda3/envs/ctaphys/lib/python3.7/site-packages/minot/ClusterTools/map_tools.py:216: RuntimeWarning: invalid value encountered in sin\n",
      "  arg4 = (np.sin((lon_ref-lon)*np.pi/180.0/2.0))**2\n",
      "/Users/adam/Project/anaconda3/envs/ctaphys/lib/python3.7/site-packages/minot/ClusterTools/map_tools.py:216: RuntimeWarning: invalid value encountered in sin\n",
      "  arg4 = (np.sin((lon_ref-lon)*np.pi/180.0/2.0))**2\n"
     ]
    },
    {
     "name": "stdout",
     "output_type": "stream",
     "text": [
      "37/484 A0209 22.971 -13.609 5.1051 0.206\n"
     ]
    },
    {
     "name": "stderr",
     "output_type": "stream",
     "text": [
      "/Users/adam/Project/anaconda3/envs/ctaphys/lib/python3.7/site-packages/minot/ClusterTools/map_tools.py:216: RuntimeWarning: invalid value encountered in sin\n",
      "  arg4 = (np.sin((lon_ref-lon)*np.pi/180.0/2.0))**2\n",
      "/Users/adam/Project/anaconda3/envs/ctaphys/lib/python3.7/site-packages/minot/ClusterTools/map_tools.py:216: RuntimeWarning: invalid value encountered in sin\n",
      "  arg4 = (np.sin((lon_ref-lon)*np.pi/180.0/2.0))**2\n",
      "/Users/adam/Project/anaconda3/envs/ctaphys/lib/python3.7/site-packages/minot/ClusterTools/map_tools.py:216: RuntimeWarning: invalid value encountered in sin\n",
      "  arg4 = (np.sin((lon_ref-lon)*np.pi/180.0/2.0))**2\n"
     ]
    },
    {
     "name": "stdout",
     "output_type": "stream",
     "text": [
      "38/484 RXCJ0137.2-0912 24.314 -9.203 0.9472 0.0409\n"
     ]
    },
    {
     "name": "stderr",
     "output_type": "stream",
     "text": [
      "/Users/adam/Project/anaconda3/envs/ctaphys/lib/python3.7/site-packages/minot/ClusterTools/map_tools.py:216: RuntimeWarning: invalid value encountered in sin\n",
      "  arg4 = (np.sin((lon_ref-lon)*np.pi/180.0/2.0))**2\n",
      "/Users/adam/Project/anaconda3/envs/ctaphys/lib/python3.7/site-packages/minot/ClusterTools/map_tools.py:216: RuntimeWarning: invalid value encountered in sin\n",
      "  arg4 = (np.sin((lon_ref-lon)*np.pi/180.0/2.0))**2\n",
      "/Users/adam/Project/anaconda3/envs/ctaphys/lib/python3.7/site-packages/minot/ClusterTools/map_tools.py:216: RuntimeWarning: invalid value encountered in sin\n",
      "  arg4 = (np.sin((lon_ref-lon)*np.pi/180.0/2.0))**2\n"
     ]
    },
    {
     "name": "stdout",
     "output_type": "stream",
     "text": [
      "39/484 RXC_J0142.9+4438 25.739 44.644 7.6442 0.341\n"
     ]
    },
    {
     "name": "stderr",
     "output_type": "stream",
     "text": [
      "/Users/adam/Project/anaconda3/envs/ctaphys/lib/python3.7/site-packages/minot/ClusterTools/map_tools.py:216: RuntimeWarning: invalid value encountered in sin\n",
      "  arg4 = (np.sin((lon_ref-lon)*np.pi/180.0/2.0))**2\n",
      "/Users/adam/Project/anaconda3/envs/ctaphys/lib/python3.7/site-packages/minot/ClusterTools/map_tools.py:216: RuntimeWarning: invalid value encountered in sin\n",
      "  arg4 = (np.sin((lon_ref-lon)*np.pi/180.0/2.0))**2\n",
      "/Users/adam/Project/anaconda3/envs/ctaphys/lib/python3.7/site-packages/minot/ClusterTools/map_tools.py:216: RuntimeWarning: invalid value encountered in sin\n",
      "  arg4 = (np.sin((lon_ref-lon)*np.pi/180.0/2.0))**2\n"
     ]
    },
    {
     "name": "stdout",
     "output_type": "stream",
     "text": [
      "40/484 A2941 26.259 -53.014 2.888 0.1168\n"
     ]
    },
    {
     "name": "stderr",
     "output_type": "stream",
     "text": [
      "/Users/adam/Project/anaconda3/envs/ctaphys/lib/python3.7/site-packages/minot/ClusterTools/map_tools.py:216: RuntimeWarning: invalid value encountered in sin\n",
      "  arg4 = (np.sin((lon_ref-lon)*np.pi/180.0/2.0))**2\n",
      "/Users/adam/Project/anaconda3/envs/ctaphys/lib/python3.7/site-packages/minot/ClusterTools/map_tools.py:216: RuntimeWarning: invalid value encountered in sin\n",
      "  arg4 = (np.sin((lon_ref-lon)*np.pi/180.0/2.0))**2\n",
      "/Users/adam/Project/anaconda3/envs/ctaphys/lib/python3.7/site-packages/minot/ClusterTools/map_tools.py:216: RuntimeWarning: invalid value encountered in sin\n",
      "  arg4 = (np.sin((lon_ref-lon)*np.pi/180.0/2.0))**2\n"
     ]
    },
    {
     "name": "stdout",
     "output_type": "stream",
     "text": [
      "41/484 RBS_0238 26.32 -60.565 4.3428 0.1805\n"
     ]
    },
    {
     "name": "stderr",
     "output_type": "stream",
     "text": [
      "/Users/adam/Project/anaconda3/envs/ctaphys/lib/python3.7/site-packages/minot/ClusterTools/map_tools.py:216: RuntimeWarning: invalid value encountered in sin\n",
      "  arg4 = (np.sin((lon_ref-lon)*np.pi/180.0/2.0))**2\n",
      "/Users/adam/Project/anaconda3/envs/ctaphys/lib/python3.7/site-packages/minot/ClusterTools/map_tools.py:216: RuntimeWarning: invalid value encountered in sin\n",
      "  arg4 = (np.sin((lon_ref-lon)*np.pi/180.0/2.0))**2\n",
      "/Users/adam/Project/anaconda3/envs/ctaphys/lib/python3.7/site-packages/minot/ClusterTools/map_tools.py:216: RuntimeWarning: invalid value encountered in sin\n",
      "  arg4 = (np.sin((lon_ref-lon)*np.pi/180.0/2.0))**2\n"
     ]
    },
    {
     "name": "stdout",
     "output_type": "stream",
     "text": [
      "42/484 A0267 28.182 1.016 4.9286 0.227\n"
     ]
    },
    {
     "name": "stderr",
     "output_type": "stream",
     "text": [
      "/Users/adam/Project/anaconda3/envs/ctaphys/lib/python3.7/site-packages/minot/ClusterTools/map_tools.py:216: RuntimeWarning: invalid value encountered in sin\n",
      "  arg4 = (np.sin((lon_ref-lon)*np.pi/180.0/2.0))**2\n",
      "/Users/adam/Project/anaconda3/envs/ctaphys/lib/python3.7/site-packages/minot/ClusterTools/map_tools.py:216: RuntimeWarning: invalid value encountered in sin\n",
      "  arg4 = (np.sin((lon_ref-lon)*np.pi/180.0/2.0))**2\n",
      "/Users/adam/Project/anaconda3/envs/ctaphys/lib/python3.7/site-packages/minot/ClusterTools/map_tools.py:216: RuntimeWarning: invalid value encountered in sin\n",
      "  arg4 = (np.sin((lon_ref-lon)*np.pi/180.0/2.0))**2\n"
     ]
    },
    {
     "name": "stdout",
     "output_type": "stream",
     "text": [
      "43/484 A0262 28.195 36.151 1.1891 0.0163\n"
     ]
    },
    {
     "name": "stderr",
     "output_type": "stream",
     "text": [
      "/Users/adam/Project/anaconda3/envs/ctaphys/lib/python3.7/site-packages/minot/ClusterTools/map_tools.py:216: RuntimeWarning: invalid value encountered in sin\n",
      "  arg4 = (np.sin((lon_ref-lon)*np.pi/180.0/2.0))**2\n",
      "/Users/adam/Project/anaconda3/envs/ctaphys/lib/python3.7/site-packages/minot/ClusterTools/map_tools.py:216: RuntimeWarning: invalid value encountered in sin\n",
      "  arg4 = (np.sin((lon_ref-lon)*np.pi/180.0/2.0))**2\n",
      "/Users/adam/Project/anaconda3/envs/ctaphys/lib/python3.7/site-packages/minot/ClusterTools/map_tools.py:216: RuntimeWarning: invalid value encountered in sin\n",
      "  arg4 = (np.sin((lon_ref-lon)*np.pi/180.0/2.0))**2\n"
     ]
    },
    {
     "name": "stdout",
     "output_type": "stream",
     "text": [
      "44/484 A0272 28.79 33.922 1.9872 0.0872\n"
     ]
    },
    {
     "name": "stderr",
     "output_type": "stream",
     "text": [
      "/Users/adam/Project/anaconda3/envs/ctaphys/lib/python3.7/site-packages/minot/ClusterTools/map_tools.py:216: RuntimeWarning: invalid value encountered in sin\n",
      "  arg4 = (np.sin((lon_ref-lon)*np.pi/180.0/2.0))**2\n",
      "/Users/adam/Project/anaconda3/envs/ctaphys/lib/python3.7/site-packages/minot/ClusterTools/map_tools.py:216: RuntimeWarning: invalid value encountered in sin\n",
      "  arg4 = (np.sin((lon_ref-lon)*np.pi/180.0/2.0))**2\n",
      "/Users/adam/Project/anaconda3/envs/ctaphys/lib/python3.7/site-packages/minot/ClusterTools/map_tools.py:216: RuntimeWarning: invalid value encountered in sin\n",
      "  arg4 = (np.sin((lon_ref-lon)*np.pi/180.0/2.0))**2\n"
     ]
    },
    {
     "name": "stdout",
     "output_type": "stream",
     "text": [
      "45/484 A0276 29.282 41.34 1.7753 0.081\n"
     ]
    },
    {
     "name": "stderr",
     "output_type": "stream",
     "text": [
      "/Users/adam/Project/anaconda3/envs/ctaphys/lib/python3.7/site-packages/minot/ClusterTools/map_tools.py:216: RuntimeWarning: invalid value encountered in sin\n",
      "  arg4 = (np.sin((lon_ref-lon)*np.pi/180.0/2.0))**2\n",
      "/Users/adam/Project/anaconda3/envs/ctaphys/lib/python3.7/site-packages/minot/ClusterTools/map_tools.py:216: RuntimeWarning: invalid value encountered in sin\n",
      "  arg4 = (np.sin((lon_ref-lon)*np.pi/180.0/2.0))**2\n",
      "/Users/adam/Project/anaconda3/envs/ctaphys/lib/python3.7/site-packages/minot/ClusterTools/map_tools.py:216: RuntimeWarning: invalid value encountered in sin\n",
      "  arg4 = (np.sin((lon_ref-lon)*np.pi/180.0/2.0))**2\n"
     ]
    },
    {
     "name": "stdout",
     "output_type": "stream",
     "text": [
      "46/484 A0291 30.434 -2.201 4.3137 0.196\n"
     ]
    },
    {
     "name": "stderr",
     "output_type": "stream",
     "text": [
      "/Users/adam/Project/anaconda3/envs/ctaphys/lib/python3.7/site-packages/minot/ClusterTools/map_tools.py:216: RuntimeWarning: invalid value encountered in sin\n",
      "  arg4 = (np.sin((lon_ref-lon)*np.pi/180.0/2.0))**2\n",
      "/Users/adam/Project/anaconda3/envs/ctaphys/lib/python3.7/site-packages/minot/ClusterTools/map_tools.py:216: RuntimeWarning: invalid value encountered in sin\n",
      "  arg4 = (np.sin((lon_ref-lon)*np.pi/180.0/2.0))**2\n",
      "/Users/adam/Project/anaconda3/envs/ctaphys/lib/python3.7/site-packages/minot/ClusterTools/map_tools.py:216: RuntimeWarning: invalid value encountered in sin\n",
      "  arg4 = (np.sin((lon_ref-lon)*np.pi/180.0/2.0))**2\n"
     ]
    },
    {
     "name": "stdout",
     "output_type": "stream",
     "text": [
      "47/484 RXC_J0214.2+5144 33.568 51.747 1.4083 0.0489\n"
     ]
    },
    {
     "name": "stderr",
     "output_type": "stream",
     "text": [
      "/Users/adam/Project/anaconda3/envs/ctaphys/lib/python3.7/site-packages/minot/ClusterTools/map_tools.py:216: RuntimeWarning: invalid value encountered in sin\n",
      "  arg4 = (np.sin((lon_ref-lon)*np.pi/180.0/2.0))**2\n",
      "/Users/adam/Project/anaconda3/envs/ctaphys/lib/python3.7/site-packages/minot/ClusterTools/map_tools.py:216: RuntimeWarning: invalid value encountered in sin\n",
      "  arg4 = (np.sin((lon_ref-lon)*np.pi/180.0/2.0))**2\n",
      "/Users/adam/Project/anaconda3/envs/ctaphys/lib/python3.7/site-packages/minot/ClusterTools/map_tools.py:216: RuntimeWarning: invalid value encountered in sin\n",
      "  arg4 = (np.sin((lon_ref-lon)*np.pi/180.0/2.0))**2\n"
     ]
    },
    {
     "name": "stdout",
     "output_type": "stream",
     "text": [
      "48/484 A3016 36.478 -41.91 5.2528 0.2195\n"
     ]
    },
    {
     "name": "stderr",
     "output_type": "stream",
     "text": [
      "/Users/adam/Project/anaconda3/envs/ctaphys/lib/python3.7/site-packages/minot/ClusterTools/map_tools.py:216: RuntimeWarning: invalid value encountered in sin\n",
      "  arg4 = (np.sin((lon_ref-lon)*np.pi/180.0/2.0))**2\n",
      "/Users/adam/Project/anaconda3/envs/ctaphys/lib/python3.7/site-packages/minot/ClusterTools/map_tools.py:216: RuntimeWarning: invalid value encountered in sin\n",
      "  arg4 = (np.sin((lon_ref-lon)*np.pi/180.0/2.0))**2\n",
      "/Users/adam/Project/anaconda3/envs/ctaphys/lib/python3.7/site-packages/minot/ClusterTools/map_tools.py:216: RuntimeWarning: invalid value encountered in sin\n",
      "  arg4 = (np.sin((lon_ref-lon)*np.pi/180.0/2.0))**2\n"
     ]
    },
    {
     "name": "stdout",
     "output_type": "stream",
     "text": [
      "49/484 RXCJ0232.2-4420 38.07 -44.347 6.1319 0.2836\n"
     ]
    },
    {
     "name": "stderr",
     "output_type": "stream",
     "text": [
      "/Users/adam/Project/anaconda3/envs/ctaphys/lib/python3.7/site-packages/minot/ClusterTools/map_tools.py:216: RuntimeWarning: invalid value encountered in sin\n",
      "  arg4 = (np.sin((lon_ref-lon)*np.pi/180.0/2.0))**2\n",
      "/Users/adam/Project/anaconda3/envs/ctaphys/lib/python3.7/site-packages/minot/ClusterTools/map_tools.py:216: RuntimeWarning: invalid value encountered in sin\n",
      "  arg4 = (np.sin((lon_ref-lon)*np.pi/180.0/2.0))**2\n",
      "/Users/adam/Project/anaconda3/envs/ctaphys/lib/python3.7/site-packages/minot/ClusterTools/map_tools.py:216: RuntimeWarning: invalid value encountered in sin\n",
      "  arg4 = (np.sin((lon_ref-lon)*np.pi/180.0/2.0))**2\n"
     ]
    },
    {
     "name": "stdout",
     "output_type": "stream",
     "text": [
      "50/484 MCS__J0242.6-2132 40.649 -21.541 5.0925 0.314\n"
     ]
    },
    {
     "name": "stderr",
     "output_type": "stream",
     "text": [
      "/Users/adam/Project/anaconda3/envs/ctaphys/lib/python3.7/site-packages/minot/ClusterTools/map_tools.py:216: RuntimeWarning: invalid value encountered in sin\n",
      "  arg4 = (np.sin((lon_ref-lon)*np.pi/180.0/2.0))**2\n",
      "/Users/adam/Project/anaconda3/envs/ctaphys/lib/python3.7/site-packages/minot/ClusterTools/map_tools.py:216: RuntimeWarning: invalid value encountered in sin\n",
      "  arg4 = (np.sin((lon_ref-lon)*np.pi/180.0/2.0))**2\n",
      "/Users/adam/Project/anaconda3/envs/ctaphys/lib/python3.7/site-packages/minot/ClusterTools/map_tools.py:216: RuntimeWarning: invalid value encountered in sin\n",
      "  arg4 = (np.sin((lon_ref-lon)*np.pi/180.0/2.0))**2\n"
     ]
    },
    {
     "name": "stdout",
     "output_type": "stream",
     "text": [
      "51/484 A0376 41.511 36.888 1.6098 0.0488\n"
     ]
    },
    {
     "name": "stderr",
     "output_type": "stream",
     "text": [
      "/Users/adam/Project/anaconda3/envs/ctaphys/lib/python3.7/site-packages/minot/ClusterTools/map_tools.py:216: RuntimeWarning: invalid value encountered in sin\n",
      "  arg4 = (np.sin((lon_ref-lon)*np.pi/180.0/2.0))**2\n",
      "/Users/adam/Project/anaconda3/envs/ctaphys/lib/python3.7/site-packages/minot/ClusterTools/map_tools.py:216: RuntimeWarning: invalid value encountered in sin\n",
      "  arg4 = (np.sin((lon_ref-lon)*np.pi/180.0/2.0))**2\n",
      "/Users/adam/Project/anaconda3/envs/ctaphys/lib/python3.7/site-packages/minot/ClusterTools/map_tools.py:216: RuntimeWarning: invalid value encountered in sin\n",
      "  arg4 = (np.sin((lon_ref-lon)*np.pi/180.0/2.0))**2\n"
     ]
    },
    {
     "name": "stdout",
     "output_type": "stream",
     "text": [
      "52/484 A0383 42.008 -3.537 4.2465 0.1883\n"
     ]
    },
    {
     "name": "stderr",
     "output_type": "stream",
     "text": [
      "/Users/adam/Project/anaconda3/envs/ctaphys/lib/python3.7/site-packages/minot/ClusterTools/map_tools.py:216: RuntimeWarning: invalid value encountered in sin\n",
      "  arg4 = (np.sin((lon_ref-lon)*np.pi/180.0/2.0))**2\n",
      "/Users/adam/Project/anaconda3/envs/ctaphys/lib/python3.7/site-packages/minot/ClusterTools/map_tools.py:216: RuntimeWarning: invalid value encountered in sin\n",
      "  arg4 = (np.sin((lon_ref-lon)*np.pi/180.0/2.0))**2\n",
      "/Users/adam/Project/anaconda3/envs/ctaphys/lib/python3.7/site-packages/minot/ClusterTools/map_tools.py:216: RuntimeWarning: invalid value encountered in sin\n",
      "  arg4 = (np.sin((lon_ref-lon)*np.pi/180.0/2.0))**2\n"
     ]
    },
    {
     "name": "stdout",
     "output_type": "stream",
     "text": [
      "53/484 A0384 42.068 -2.279 5.2314 0.236\n"
     ]
    },
    {
     "name": "stderr",
     "output_type": "stream",
     "text": [
      "/Users/adam/Project/anaconda3/envs/ctaphys/lib/python3.7/site-packages/minot/ClusterTools/map_tools.py:216: RuntimeWarning: invalid value encountered in sin\n",
      "  arg4 = (np.sin((lon_ref-lon)*np.pi/180.0/2.0))**2\n",
      "/Users/adam/Project/anaconda3/envs/ctaphys/lib/python3.7/site-packages/minot/ClusterTools/map_tools.py:216: RuntimeWarning: invalid value encountered in sin\n",
      "  arg4 = (np.sin((lon_ref-lon)*np.pi/180.0/2.0))**2\n",
      "/Users/adam/Project/anaconda3/envs/ctaphys/lib/python3.7/site-packages/minot/ClusterTools/map_tools.py:216: RuntimeWarning: invalid value encountered in sin\n",
      "  arg4 = (np.sin((lon_ref-lon)*np.pi/180.0/2.0))**2\n"
     ]
    },
    {
     "name": "stdout",
     "output_type": "stream",
     "text": [
      "54/484 AWM_7 43.623 41.572 1.8346 0.0172\n"
     ]
    },
    {
     "name": "stderr",
     "output_type": "stream",
     "text": [
      "/Users/adam/Project/anaconda3/envs/ctaphys/lib/python3.7/site-packages/minot/ClusterTools/map_tools.py:216: RuntimeWarning: invalid value encountered in sin\n",
      "  arg4 = (np.sin((lon_ref-lon)*np.pi/180.0/2.0))**2\n",
      "/Users/adam/Project/anaconda3/envs/ctaphys/lib/python3.7/site-packages/minot/ClusterTools/map_tools.py:216: RuntimeWarning: invalid value encountered in sin\n",
      "  arg4 = (np.sin((lon_ref-lon)*np.pi/180.0/2.0))**2\n",
      "/Users/adam/Project/anaconda3/envs/ctaphys/lib/python3.7/site-packages/minot/ClusterTools/map_tools.py:216: RuntimeWarning: invalid value encountered in sin\n",
      "  arg4 = (np.sin((lon_ref-lon)*np.pi/180.0/2.0))**2\n"
     ]
    },
    {
     "name": "stdout",
     "output_type": "stream",
     "text": [
      "55/484 A0400 44.412 6.006 0.8012 0.0238\n"
     ]
    },
    {
     "name": "stderr",
     "output_type": "stream",
     "text": [
      "/Users/adam/Project/anaconda3/envs/ctaphys/lib/python3.7/site-packages/minot/ClusterTools/map_tools.py:216: RuntimeWarning: invalid value encountered in sin\n",
      "  arg4 = (np.sin((lon_ref-lon)*np.pi/180.0/2.0))**2\n",
      "/Users/adam/Project/anaconda3/envs/ctaphys/lib/python3.7/site-packages/minot/ClusterTools/map_tools.py:216: RuntimeWarning: invalid value encountered in sin\n",
      "  arg4 = (np.sin((lon_ref-lon)*np.pi/180.0/2.0))**2\n",
      "/Users/adam/Project/anaconda3/envs/ctaphys/lib/python3.7/site-packages/minot/ClusterTools/map_tools.py:216: RuntimeWarning: invalid value encountered in sin\n",
      "  arg4 = (np.sin((lon_ref-lon)*np.pi/180.0/2.0))**2\n"
     ]
    },
    {
     "name": "stdout",
     "output_type": "stream",
     "text": [
      "56/484 A0399 44.457 13.049 4.2452 0.0722\n"
     ]
    },
    {
     "name": "stderr",
     "output_type": "stream",
     "text": [
      "/Users/adam/Project/anaconda3/envs/ctaphys/lib/python3.7/site-packages/minot/ClusterTools/map_tools.py:216: RuntimeWarning: invalid value encountered in sin\n",
      "  arg4 = (np.sin((lon_ref-lon)*np.pi/180.0/2.0))**2\n",
      "/Users/adam/Project/anaconda3/envs/ctaphys/lib/python3.7/site-packages/minot/ClusterTools/map_tools.py:216: RuntimeWarning: invalid value encountered in sin\n",
      "  arg4 = (np.sin((lon_ref-lon)*np.pi/180.0/2.0))**2\n",
      "/Users/adam/Project/anaconda3/envs/ctaphys/lib/python3.7/site-packages/minot/ClusterTools/map_tools.py:216: RuntimeWarning: invalid value encountered in sin\n",
      "  arg4 = (np.sin((lon_ref-lon)*np.pi/180.0/2.0))**2\n"
     ]
    },
    {
     "name": "stdout",
     "output_type": "stream",
     "text": [
      "57/484 A0401 44.74 13.58 5.8488 0.0739\n"
     ]
    },
    {
     "name": "stderr",
     "output_type": "stream",
     "text": [
      "/Users/adam/Project/anaconda3/envs/ctaphys/lib/python3.7/site-packages/minot/ClusterTools/map_tools.py:216: RuntimeWarning: invalid value encountered in sin\n",
      "  arg4 = (np.sin((lon_ref-lon)*np.pi/180.0/2.0))**2\n",
      "/Users/adam/Project/anaconda3/envs/ctaphys/lib/python3.7/site-packages/minot/ClusterTools/map_tools.py:216: RuntimeWarning: invalid value encountered in sin\n",
      "  arg4 = (np.sin((lon_ref-lon)*np.pi/180.0/2.0))**2\n",
      "/Users/adam/Project/anaconda3/envs/ctaphys/lib/python3.7/site-packages/minot/ClusterTools/map_tools.py:216: RuntimeWarning: invalid value encountered in sin\n",
      "  arg4 = (np.sin((lon_ref-lon)*np.pi/180.0/2.0))**2\n"
     ]
    },
    {
     "name": "stdout",
     "output_type": "stream",
     "text": [
      "58/484 RXC_J0300.7+4427 45.188 44.463 1.9253 0.03\n"
     ]
    },
    {
     "name": "stderr",
     "output_type": "stream",
     "text": [
      "/Users/adam/Project/anaconda3/envs/ctaphys/lib/python3.7/site-packages/minot/ClusterTools/map_tools.py:216: RuntimeWarning: invalid value encountered in sin\n",
      "  arg4 = (np.sin((lon_ref-lon)*np.pi/180.0/2.0))**2\n",
      "/Users/adam/Project/anaconda3/envs/ctaphys/lib/python3.7/site-packages/minot/ClusterTools/map_tools.py:216: RuntimeWarning: invalid value encountered in sin\n",
      "  arg4 = (np.sin((lon_ref-lon)*np.pi/180.0/2.0))**2\n",
      "/Users/adam/Project/anaconda3/envs/ctaphys/lib/python3.7/site-packages/minot/ClusterTools/map_tools.py:216: RuntimeWarning: invalid value encountered in sin\n",
      "  arg4 = (np.sin((lon_ref-lon)*np.pi/180.0/2.0))**2\n"
     ]
    },
    {
     "name": "stdout",
     "output_type": "stream",
     "text": [
      "59/484 Zw0258.9 45.405 1.92 4.0333 0.1712\n"
     ]
    },
    {
     "name": "stderr",
     "output_type": "stream",
     "text": [
      "/Users/adam/Project/anaconda3/envs/ctaphys/lib/python3.7/site-packages/minot/ClusterTools/map_tools.py:216: RuntimeWarning: invalid value encountered in sin\n",
      "  arg4 = (np.sin((lon_ref-lon)*np.pi/180.0/2.0))**2\n",
      "/Users/adam/Project/anaconda3/envs/ctaphys/lib/python3.7/site-packages/minot/ClusterTools/map_tools.py:216: RuntimeWarning: invalid value encountered in sin\n",
      "  arg4 = (np.sin((lon_ref-lon)*np.pi/180.0/2.0))**2\n",
      "/Users/adam/Project/anaconda3/envs/ctaphys/lib/python3.7/site-packages/minot/ClusterTools/map_tools.py:216: RuntimeWarning: invalid value encountered in sin\n",
      "  arg4 = (np.sin((lon_ref-lon)*np.pi/180.0/2.0))**2\n"
     ]
    },
    {
     "name": "stdout",
     "output_type": "stream",
     "text": [
      "60/484 A0409 45.838 1.926 3.6105 0.153\n"
     ]
    },
    {
     "name": "stderr",
     "output_type": "stream",
     "text": [
      "/Users/adam/Project/anaconda3/envs/ctaphys/lib/python3.7/site-packages/minot/ClusterTools/map_tools.py:216: RuntimeWarning: invalid value encountered in sin\n",
      "  arg4 = (np.sin((lon_ref-lon)*np.pi/180.0/2.0))**2\n",
      "/Users/adam/Project/anaconda3/envs/ctaphys/lib/python3.7/site-packages/minot/ClusterTools/map_tools.py:216: RuntimeWarning: invalid value encountered in sin\n",
      "  arg4 = (np.sin((lon_ref-lon)*np.pi/180.0/2.0))**2\n",
      "/Users/adam/Project/anaconda3/envs/ctaphys/lib/python3.7/site-packages/minot/ClusterTools/map_tools.py:216: RuntimeWarning: invalid value encountered in sin\n",
      "  arg4 = (np.sin((lon_ref-lon)*np.pi/180.0/2.0))**2\n"
     ]
    },
    {
     "name": "stdout",
     "output_type": "stream",
     "text": [
      "61/484 MACSJ0308.9+2645 47.233 26.76 16.4 0.356\n"
     ]
    },
    {
     "name": "stderr",
     "output_type": "stream",
     "text": [
      "/Users/adam/Project/anaconda3/envs/ctaphys/lib/python3.7/site-packages/minot/ClusterTools/map_tools.py:216: RuntimeWarning: invalid value encountered in sin\n",
      "  arg4 = (np.sin((lon_ref-lon)*np.pi/180.0/2.0))**2\n",
      "/Users/adam/Project/anaconda3/envs/ctaphys/lib/python3.7/site-packages/minot/ClusterTools/map_tools.py:216: RuntimeWarning: invalid value encountered in sin\n",
      "  arg4 = (np.sin((lon_ref-lon)*np.pi/180.0/2.0))**2\n",
      "/Users/adam/Project/anaconda3/envs/ctaphys/lib/python3.7/site-packages/minot/ClusterTools/map_tools.py:216: RuntimeWarning: invalid value encountered in sin\n",
      "  arg4 = (np.sin((lon_ref-lon)*np.pi/180.0/2.0))**2\n"
     ]
    },
    {
     "name": "stdout",
     "output_type": "stream",
     "text": [
      "62/484 A3104 48.582 -45.424 1.9792 0.0718\n"
     ]
    },
    {
     "name": "stderr",
     "output_type": "stream",
     "text": [
      "/Users/adam/Project/anaconda3/envs/ctaphys/lib/python3.7/site-packages/minot/ClusterTools/map_tools.py:216: RuntimeWarning: invalid value encountered in sin\n",
      "  arg4 = (np.sin((lon_ref-lon)*np.pi/180.0/2.0))**2\n",
      "/Users/adam/Project/anaconda3/envs/ctaphys/lib/python3.7/site-packages/minot/ClusterTools/map_tools.py:216: RuntimeWarning: invalid value encountered in sin\n",
      "  arg4 = (np.sin((lon_ref-lon)*np.pi/180.0/2.0))**2\n",
      "/Users/adam/Project/anaconda3/envs/ctaphys/lib/python3.7/site-packages/minot/ClusterTools/map_tools.py:216: RuntimeWarning: invalid value encountered in sin\n",
      "  arg4 = (np.sin((lon_ref-lon)*np.pi/180.0/2.0))**2\n"
     ]
    },
    {
     "name": "stdout",
     "output_type": "stream",
     "text": [
      "63/484 A3112 49.494 -44.239 4.3948 0.0752\n"
     ]
    },
    {
     "name": "stderr",
     "output_type": "stream",
     "text": [
      "/Users/adam/Project/anaconda3/envs/ctaphys/lib/python3.7/site-packages/minot/ClusterTools/map_tools.py:216: RuntimeWarning: invalid value encountered in sin\n",
      "  arg4 = (np.sin((lon_ref-lon)*np.pi/180.0/2.0))**2\n",
      "/Users/adam/Project/anaconda3/envs/ctaphys/lib/python3.7/site-packages/minot/ClusterTools/map_tools.py:216: RuntimeWarning: invalid value encountered in sin\n",
      "  arg4 = (np.sin((lon_ref-lon)*np.pi/180.0/2.0))**2\n",
      "/Users/adam/Project/anaconda3/envs/ctaphys/lib/python3.7/site-packages/minot/ClusterTools/map_tools.py:216: RuntimeWarning: invalid value encountered in sin\n",
      "  arg4 = (np.sin((lon_ref-lon)*np.pi/180.0/2.0))**2\n"
     ]
    },
    {
     "name": "stdout",
     "output_type": "stream",
     "text": [
      "64/484 A0426 49.947 41.513 6.1508 0.0179\n",
      "   --> This is Perseus!\n"
     ]
    },
    {
     "name": "stderr",
     "output_type": "stream",
     "text": [
      "/Users/adam/Project/anaconda3/envs/ctaphys/lib/python3.7/site-packages/minot/ClusterTools/map_tools.py:216: RuntimeWarning: invalid value encountered in sin\n",
      "  arg4 = (np.sin((lon_ref-lon)*np.pi/180.0/2.0))**2\n",
      "/Users/adam/Project/anaconda3/envs/ctaphys/lib/python3.7/site-packages/minot/ClusterTools/map_tools.py:216: RuntimeWarning: invalid value encountered in sin\n",
      "  arg4 = (np.sin((lon_ref-lon)*np.pi/180.0/2.0))**2\n",
      "/Users/adam/Project/anaconda3/envs/ctaphys/lib/python3.7/site-packages/minot/ClusterTools/map_tools.py:216: RuntimeWarning: invalid value encountered in sin\n",
      "  arg4 = (np.sin((lon_ref-lon)*np.pi/180.0/2.0))**2\n"
     ]
    },
    {
     "name": "stdout",
     "output_type": "stream",
     "text": [
      "65/484 A3122 50.578 -41.36 1.4238 0.0643\n"
     ]
    },
    {
     "name": "stderr",
     "output_type": "stream",
     "text": [
      "/Users/adam/Project/anaconda3/envs/ctaphys/lib/python3.7/site-packages/minot/ClusterTools/map_tools.py:216: RuntimeWarning: invalid value encountered in sin\n",
      "  arg4 = (np.sin((lon_ref-lon)*np.pi/180.0/2.0))**2\n",
      "/Users/adam/Project/anaconda3/envs/ctaphys/lib/python3.7/site-packages/minot/ClusterTools/map_tools.py:216: RuntimeWarning: invalid value encountered in sin\n",
      "  arg4 = (np.sin((lon_ref-lon)*np.pi/180.0/2.0))**2\n",
      "/Users/adam/Project/anaconda3/envs/ctaphys/lib/python3.7/site-packages/minot/ClusterTools/map_tools.py:216: RuntimeWarning: invalid value encountered in sin\n",
      "  arg4 = (np.sin((lon_ref-lon)*np.pi/180.0/2.0))**2\n"
     ]
    },
    {
     "name": "stdout",
     "output_type": "stream",
     "text": [
      "66/484 A3126 52.156 -55.713 2.4368 0.0853\n"
     ]
    },
    {
     "name": "stderr",
     "output_type": "stream",
     "text": [
      "/Users/adam/Project/anaconda3/envs/ctaphys/lib/python3.7/site-packages/minot/ClusterTools/map_tools.py:216: RuntimeWarning: invalid value encountered in sin\n",
      "  arg4 = (np.sin((lon_ref-lon)*np.pi/180.0/2.0))**2\n",
      "/Users/adam/Project/anaconda3/envs/ctaphys/lib/python3.7/site-packages/minot/ClusterTools/map_tools.py:216: RuntimeWarning: invalid value encountered in sin\n",
      "  arg4 = (np.sin((lon_ref-lon)*np.pi/180.0/2.0))**2\n",
      "/Users/adam/Project/anaconda3/envs/ctaphys/lib/python3.7/site-packages/minot/ClusterTools/map_tools.py:216: RuntimeWarning: invalid value encountered in sin\n",
      "  arg4 = (np.sin((lon_ref-lon)*np.pi/180.0/2.0))**2\n"
     ]
    },
    {
     "name": "stdout",
     "output_type": "stream",
     "text": [
      "67/484 A3128 52.503 -52.596 2.0786 0.0624\n"
     ]
    },
    {
     "name": "stderr",
     "output_type": "stream",
     "text": [
      "/Users/adam/Project/anaconda3/envs/ctaphys/lib/python3.7/site-packages/minot/ClusterTools/map_tools.py:216: RuntimeWarning: invalid value encountered in sin\n",
      "  arg4 = (np.sin((lon_ref-lon)*np.pi/180.0/2.0))**2\n",
      "/Users/adam/Project/anaconda3/envs/ctaphys/lib/python3.7/site-packages/minot/ClusterTools/map_tools.py:216: RuntimeWarning: invalid value encountered in sin\n",
      "  arg4 = (np.sin((lon_ref-lon)*np.pi/180.0/2.0))**2\n",
      "/Users/adam/Project/anaconda3/envs/ctaphys/lib/python3.7/site-packages/minot/ClusterTools/map_tools.py:216: RuntimeWarning: invalid value encountered in sin\n",
      "  arg4 = (np.sin((lon_ref-lon)*np.pi/180.0/2.0))**2\n"
     ]
    },
    {
     "name": "stdout",
     "output_type": "stream",
     "text": [
      "68/484 A3140 54.078 -40.622 4.295 0.1729\n"
     ]
    },
    {
     "name": "stderr",
     "output_type": "stream",
     "text": [
      "/Users/adam/Project/anaconda3/envs/ctaphys/lib/python3.7/site-packages/minot/ClusterTools/map_tools.py:216: RuntimeWarning: invalid value encountered in sin\n",
      "  arg4 = (np.sin((lon_ref-lon)*np.pi/180.0/2.0))**2\n",
      "/Users/adam/Project/anaconda3/envs/ctaphys/lib/python3.7/site-packages/minot/ClusterTools/map_tools.py:216: RuntimeWarning: invalid value encountered in sin\n",
      "  arg4 = (np.sin((lon_ref-lon)*np.pi/180.0/2.0))**2\n",
      "/Users/adam/Project/anaconda3/envs/ctaphys/lib/python3.7/site-packages/minot/ClusterTools/map_tools.py:216: RuntimeWarning: invalid value encountered in sin\n",
      "  arg4 = (np.sin((lon_ref-lon)*np.pi/180.0/2.0))**2\n"
     ]
    },
    {
     "name": "stdout",
     "output_type": "stream",
     "text": [
      "69/484 FORNAX 54.616 -35.448 0.1855 0.0051\n"
     ]
    },
    {
     "name": "stderr",
     "output_type": "stream",
     "text": [
      "/Users/adam/Project/anaconda3/envs/ctaphys/lib/python3.7/site-packages/minot/ClusterTools/map_tools.py:216: RuntimeWarning: invalid value encountered in sin\n",
      "  arg4 = (np.sin((lon_ref-lon)*np.pi/180.0/2.0))**2\n",
      "/Users/adam/Project/anaconda3/envs/ctaphys/lib/python3.7/site-packages/ebltable/tau_from_model.py:307: RuntimeWarning: Warning: a z value is below interpolation range, zmin = 0.01\n",
      "  RuntimeWarning)\n",
      "/Users/adam/Project/anaconda3/envs/ctaphys/lib/python3.7/site-packages/minot/ClusterTools/map_tools.py:216: RuntimeWarning: invalid value encountered in sin\n",
      "  arg4 = (np.sin((lon_ref-lon)*np.pi/180.0/2.0))**2\n",
      "/Users/adam/Project/anaconda3/envs/ctaphys/lib/python3.7/site-packages/ebltable/tau_from_model.py:307: RuntimeWarning: Warning: a z value is below interpolation range, zmin = 0.01\n",
      "  RuntimeWarning)\n",
      "/Users/adam/Project/anaconda3/envs/ctaphys/lib/python3.7/site-packages/minot/ClusterTools/map_tools.py:216: RuntimeWarning: invalid value encountered in sin\n",
      "  arg4 = (np.sin((lon_ref-lon)*np.pi/180.0/2.0))**2\n",
      "/Users/adam/Project/anaconda3/envs/ctaphys/lib/python3.7/site-packages/ebltable/tau_from_model.py:307: RuntimeWarning: Warning: a z value is below interpolation range, zmin = 0.01\n",
      "  RuntimeWarning)\n",
      "/Users/adam/Project/anaconda3/envs/ctaphys/lib/python3.7/site-packages/ebltable/tau_from_model.py:307: RuntimeWarning: Warning: a z value is below interpolation range, zmin = 0.01\n",
      "  RuntimeWarning)\n",
      "/Users/adam/Project/anaconda3/envs/ctaphys/lib/python3.7/site-packages/ebltable/tau_from_model.py:307: RuntimeWarning: Warning: a z value is below interpolation range, zmin = 0.01\n",
      "  RuntimeWarning)\n",
      "/Users/adam/Project/anaconda3/envs/ctaphys/lib/python3.7/site-packages/ebltable/tau_from_model.py:307: RuntimeWarning: Warning: a z value is below interpolation range, zmin = 0.01\n",
      "  RuntimeWarning)\n"
     ]
    },
    {
     "name": "stdout",
     "output_type": "stream",
     "text": [
      "70/484 2A0335 54.67 9.974 3.4496 0.0347\n"
     ]
    },
    {
     "name": "stderr",
     "output_type": "stream",
     "text": [
      "/Users/adam/Project/anaconda3/envs/ctaphys/lib/python3.7/site-packages/minot/ClusterTools/map_tools.py:216: RuntimeWarning: invalid value encountered in sin\n",
      "  arg4 = (np.sin((lon_ref-lon)*np.pi/180.0/2.0))**2\n",
      "/Users/adam/Project/anaconda3/envs/ctaphys/lib/python3.7/site-packages/minot/ClusterTools/map_tools.py:216: RuntimeWarning: invalid value encountered in sin\n",
      "  arg4 = (np.sin((lon_ref-lon)*np.pi/180.0/2.0))**2\n",
      "/Users/adam/Project/anaconda3/envs/ctaphys/lib/python3.7/site-packages/minot/ClusterTools/map_tools.py:216: RuntimeWarning: invalid value encountered in sin\n",
      "  arg4 = (np.sin((lon_ref-lon)*np.pi/180.0/2.0))**2\n"
     ]
    },
    {
     "name": "stdout",
     "output_type": "stream",
     "text": [
      "71/484 RXCJ0340.6-0239 55.174 -2.666 0.7946 0.0352\n"
     ]
    },
    {
     "name": "stderr",
     "output_type": "stream",
     "text": [
      "/Users/adam/Project/anaconda3/envs/ctaphys/lib/python3.7/site-packages/minot/ClusterTools/map_tools.py:216: RuntimeWarning: invalid value encountered in sin\n",
      "  arg4 = (np.sin((lon_ref-lon)*np.pi/180.0/2.0))**2\n",
      "/Users/adam/Project/anaconda3/envs/ctaphys/lib/python3.7/site-packages/minot/ClusterTools/map_tools.py:216: RuntimeWarning: invalid value encountered in sin\n",
      "  arg4 = (np.sin((lon_ref-lon)*np.pi/180.0/2.0))**2\n",
      "/Users/adam/Project/anaconda3/envs/ctaphys/lib/python3.7/site-packages/minot/ClusterTools/map_tools.py:216: RuntimeWarning: invalid value encountered in sin\n",
      "  arg4 = (np.sin((lon_ref-lon)*np.pi/180.0/2.0))**2\n"
     ]
    },
    {
     "name": "stdout",
     "output_type": "stream",
     "text": [
      "72/484 RXJ0341.3+1524 55.321 15.407 1.1301 0.0311\n"
     ]
    },
    {
     "name": "stderr",
     "output_type": "stream",
     "text": [
      "/Users/adam/Project/anaconda3/envs/ctaphys/lib/python3.7/site-packages/minot/ClusterTools/map_tools.py:216: RuntimeWarning: invalid value encountered in sin\n",
      "  arg4 = (np.sin((lon_ref-lon)*np.pi/180.0/2.0))**2\n",
      "/Users/adam/Project/anaconda3/envs/ctaphys/lib/python3.7/site-packages/minot/ClusterTools/map_tools.py:216: RuntimeWarning: invalid value encountered in sin\n",
      "  arg4 = (np.sin((lon_ref-lon)*np.pi/180.0/2.0))**2\n",
      "/Users/adam/Project/anaconda3/envs/ctaphys/lib/python3.7/site-packages/minot/ClusterTools/map_tools.py:216: RuntimeWarning: invalid value encountered in sin\n",
      "  arg4 = (np.sin((lon_ref-lon)*np.pi/180.0/2.0))**2\n"
     ]
    },
    {
     "name": "stdout",
     "output_type": "stream",
     "text": [
      "73/484 A3158 55.724 -53.635 3.6513 0.059\n"
     ]
    },
    {
     "name": "stderr",
     "output_type": "stream",
     "text": [
      "/Users/adam/Project/anaconda3/envs/ctaphys/lib/python3.7/site-packages/minot/ClusterTools/map_tools.py:216: RuntimeWarning: invalid value encountered in sin\n",
      "  arg4 = (np.sin((lon_ref-lon)*np.pi/180.0/2.0))**2\n",
      "/Users/adam/Project/anaconda3/envs/ctaphys/lib/python3.7/site-packages/minot/ClusterTools/map_tools.py:216: RuntimeWarning: invalid value encountered in sin\n",
      "  arg4 = (np.sin((lon_ref-lon)*np.pi/180.0/2.0))**2\n",
      "/Users/adam/Project/anaconda3/envs/ctaphys/lib/python3.7/site-packages/minot/ClusterTools/map_tools.py:216: RuntimeWarning: invalid value encountered in sin\n",
      "  arg4 = (np.sin((lon_ref-lon)*np.pi/180.0/2.0))**2\n"
     ]
    },
    {
     "name": "stdout",
     "output_type": "stream",
     "text": [
      "74/484 A0458 56.484 -24.28 2.397 0.1057\n"
     ]
    },
    {
     "name": "stderr",
     "output_type": "stream",
     "text": [
      "/Users/adam/Project/anaconda3/envs/ctaphys/lib/python3.7/site-packages/minot/ClusterTools/map_tools.py:216: RuntimeWarning: invalid value encountered in sin\n",
      "  arg4 = (np.sin((lon_ref-lon)*np.pi/180.0/2.0))**2\n",
      "/Users/adam/Project/anaconda3/envs/ctaphys/lib/python3.7/site-packages/minot/ClusterTools/map_tools.py:216: RuntimeWarning: invalid value encountered in sin\n",
      "  arg4 = (np.sin((lon_ref-lon)*np.pi/180.0/2.0))**2\n",
      "/Users/adam/Project/anaconda3/envs/ctaphys/lib/python3.7/site-packages/minot/ClusterTools/map_tools.py:216: RuntimeWarning: invalid value encountered in sin\n",
      "  arg4 = (np.sin((lon_ref-lon)*np.pi/180.0/2.0))**2\n"
     ]
    },
    {
     "name": "stdout",
     "output_type": "stream",
     "text": [
      "75/484 A3164 56.54 -57.05 1.3469 0.057\n"
     ]
    },
    {
     "name": "stderr",
     "output_type": "stream",
     "text": [
      "/Users/adam/Project/anaconda3/envs/ctaphys/lib/python3.7/site-packages/minot/ClusterTools/map_tools.py:216: RuntimeWarning: invalid value encountered in sin\n",
      "  arg4 = (np.sin((lon_ref-lon)*np.pi/180.0/2.0))**2\n",
      "/Users/adam/Project/anaconda3/envs/ctaphys/lib/python3.7/site-packages/minot/ClusterTools/map_tools.py:216: RuntimeWarning: invalid value encountered in sin\n",
      "  arg4 = (np.sin((lon_ref-lon)*np.pi/180.0/2.0))**2\n",
      "/Users/adam/Project/anaconda3/envs/ctaphys/lib/python3.7/site-packages/minot/ClusterTools/map_tools.py:216: RuntimeWarning: invalid value encountered in sin\n",
      "  arg4 = (np.sin((lon_ref-lon)*np.pi/180.0/2.0))**2\n"
     ]
    },
    {
     "name": "stdout",
     "output_type": "stream",
     "text": [
      "76/484 S0405 57.787 -82.217 2.1924 0.0613\n"
     ]
    },
    {
     "name": "stderr",
     "output_type": "stream",
     "text": [
      "/Users/adam/Project/anaconda3/envs/ctaphys/lib/python3.7/site-packages/minot/ClusterTools/map_tools.py:216: RuntimeWarning: invalid value encountered in sin\n",
      "  arg4 = (np.sin((lon_ref-lon)*np.pi/180.0/2.0))**2\n",
      "/Users/adam/Project/anaconda3/envs/ctaphys/lib/python3.7/site-packages/minot/ClusterTools/map_tools.py:216: RuntimeWarning: invalid value encountered in sin\n",
      "  arg4 = (np.sin((lon_ref-lon)*np.pi/180.0/2.0))**2\n",
      "/Users/adam/Project/anaconda3/envs/ctaphys/lib/python3.7/site-packages/minot/ClusterTools/map_tools.py:216: RuntimeWarning: invalid value encountered in sin\n",
      "  arg4 = (np.sin((lon_ref-lon)*np.pi/180.0/2.0))**2\n"
     ]
    },
    {
     "name": "stdout",
     "output_type": "stream",
     "text": [
      "77/484 A3186 58.123 -74.031 3.092 0.127\n"
     ]
    },
    {
     "name": "stderr",
     "output_type": "stream",
     "text": [
      "/Users/adam/Project/anaconda3/envs/ctaphys/lib/python3.7/site-packages/minot/ClusterTools/map_tools.py:216: RuntimeWarning: invalid value encountered in sin\n",
      "  arg4 = (np.sin((lon_ref-lon)*np.pi/180.0/2.0))**2\n",
      "/Users/adam/Project/anaconda3/envs/ctaphys/lib/python3.7/site-packages/minot/ClusterTools/map_tools.py:216: RuntimeWarning: invalid value encountered in sin\n",
      "  arg4 = (np.sin((lon_ref-lon)*np.pi/180.0/2.0))**2\n",
      "/Users/adam/Project/anaconda3/envs/ctaphys/lib/python3.7/site-packages/minot/ClusterTools/map_tools.py:216: RuntimeWarning: invalid value encountered in sin\n",
      "  arg4 = (np.sin((lon_ref-lon)*np.pi/180.0/2.0))**2\n"
     ]
    },
    {
     "name": "stdout",
     "output_type": "stream",
     "text": [
      "78/484 RXJ0352.9+1941 58.249 19.69 3.0843 0.1085\n"
     ]
    },
    {
     "name": "stderr",
     "output_type": "stream",
     "text": [
      "/Users/adam/Project/anaconda3/envs/ctaphys/lib/python3.7/site-packages/minot/ClusterTools/map_tools.py:216: RuntimeWarning: invalid value encountered in sin\n",
      "  arg4 = (np.sin((lon_ref-lon)*np.pi/180.0/2.0))**2\n",
      "/Users/adam/Project/anaconda3/envs/ctaphys/lib/python3.7/site-packages/minot/ClusterTools/map_tools.py:216: RuntimeWarning: invalid value encountered in sin\n",
      "  arg4 = (np.sin((lon_ref-lon)*np.pi/180.0/2.0))**2\n",
      "/Users/adam/Project/anaconda3/envs/ctaphys/lib/python3.7/site-packages/minot/ClusterTools/map_tools.py:216: RuntimeWarning: invalid value encountered in sin\n",
      "  arg4 = (np.sin((lon_ref-lon)*np.pi/180.0/2.0))**2\n"
     ]
    },
    {
     "name": "stdout",
     "output_type": "stream",
     "text": [
      "79/484 A3192 59.727 -29.926 8.9001 0.425\n"
     ]
    },
    {
     "name": "stderr",
     "output_type": "stream",
     "text": [
      "/Users/adam/Project/anaconda3/envs/ctaphys/lib/python3.7/site-packages/minot/ClusterTools/map_tools.py:216: RuntimeWarning: invalid value encountered in sin\n",
      "  arg4 = (np.sin((lon_ref-lon)*np.pi/180.0/2.0))**2\n",
      "/Users/adam/Project/anaconda3/envs/ctaphys/lib/python3.7/site-packages/minot/ClusterTools/map_tools.py:216: RuntimeWarning: invalid value encountered in sin\n",
      "  arg4 = (np.sin((lon_ref-lon)*np.pi/180.0/2.0))**2\n",
      "/Users/adam/Project/anaconda3/envs/ctaphys/lib/python3.7/site-packages/minot/ClusterTools/map_tools.py:216: RuntimeWarning: invalid value encountered in sin\n",
      "  arg4 = (np.sin((lon_ref-lon)*np.pi/180.0/2.0))**2\n"
     ]
    },
    {
     "name": "stdout",
     "output_type": "stream",
     "text": [
      "80/484 A3223 62.068 -30.894 1.5303 0.06\n"
     ]
    },
    {
     "name": "stderr",
     "output_type": "stream",
     "text": [
      "/Users/adam/Project/anaconda3/envs/ctaphys/lib/python3.7/site-packages/minot/ClusterTools/map_tools.py:216: RuntimeWarning: invalid value encountered in sin\n",
      "  arg4 = (np.sin((lon_ref-lon)*np.pi/180.0/2.0))**2\n",
      "/Users/adam/Project/anaconda3/envs/ctaphys/lib/python3.7/site-packages/minot/ClusterTools/map_tools.py:216: RuntimeWarning: invalid value encountered in sin\n",
      "  arg4 = (np.sin((lon_ref-lon)*np.pi/180.0/2.0))**2\n",
      "/Users/adam/Project/anaconda3/envs/ctaphys/lib/python3.7/site-packages/minot/ClusterTools/map_tools.py:216: RuntimeWarning: invalid value encountered in sin\n",
      "  arg4 = (np.sin((lon_ref-lon)*np.pi/180.0/2.0))**2\n"
     ]
    },
    {
     "name": "stdout",
     "output_type": "stream",
     "text": [
      "81/484 A0478 63.356 10.467 6.424 0.0882\n"
     ]
    },
    {
     "name": "stderr",
     "output_type": "stream",
     "text": [
      "/Users/adam/Project/anaconda3/envs/ctaphys/lib/python3.7/site-packages/minot/ClusterTools/map_tools.py:216: RuntimeWarning: invalid value encountered in sin\n",
      "  arg4 = (np.sin((lon_ref-lon)*np.pi/180.0/2.0))**2\n",
      "/Users/adam/Project/anaconda3/envs/ctaphys/lib/python3.7/site-packages/minot/ClusterTools/map_tools.py:216: RuntimeWarning: invalid value encountered in sin\n",
      "  arg4 = (np.sin((lon_ref-lon)*np.pi/180.0/2.0))**2\n",
      "/Users/adam/Project/anaconda3/envs/ctaphys/lib/python3.7/site-packages/minot/ClusterTools/map_tools.py:216: RuntimeWarning: invalid value encountered in sin\n",
      "  arg4 = (np.sin((lon_ref-lon)*np.pi/180.0/2.0))**2\n"
     ]
    },
    {
     "name": "stdout",
     "output_type": "stream",
     "text": [
      "82/484 RXCJ0413.9-3805 63.488 -38.1 1.6249 0.0501\n"
     ]
    },
    {
     "name": "stderr",
     "output_type": "stream",
     "text": [
      "/Users/adam/Project/anaconda3/envs/ctaphys/lib/python3.7/site-packages/minot/ClusterTools/map_tools.py:216: RuntimeWarning: invalid value encountered in sin\n",
      "  arg4 = (np.sin((lon_ref-lon)*np.pi/180.0/2.0))**2\n",
      "/Users/adam/Project/anaconda3/envs/ctaphys/lib/python3.7/site-packages/minot/ClusterTools/map_tools.py:216: RuntimeWarning: invalid value encountered in sin\n",
      "  arg4 = (np.sin((lon_ref-lon)*np.pi/180.0/2.0))**2\n",
      "/Users/adam/Project/anaconda3/envs/ctaphys/lib/python3.7/site-packages/minot/ClusterTools/map_tools.py:216: RuntimeWarning: invalid value encountered in sin\n",
      "  arg4 = (np.sin((lon_ref-lon)*np.pi/180.0/2.0))**2\n"
     ]
    },
    {
     "name": "stdout",
     "output_type": "stream",
     "text": [
      "83/484 MACSJ0417.5-1154 64.393 -11.908 22.1 0.443\n"
     ]
    },
    {
     "name": "stderr",
     "output_type": "stream",
     "text": [
      "/Users/adam/Project/anaconda3/envs/ctaphys/lib/python3.7/site-packages/minot/ClusterTools/map_tools.py:216: RuntimeWarning: invalid value encountered in sin\n",
      "  arg4 = (np.sin((lon_ref-lon)*np.pi/180.0/2.0))**2\n",
      "/Users/adam/Project/anaconda3/envs/ctaphys/lib/python3.7/site-packages/minot/ClusterTools/map_tools.py:216: RuntimeWarning: invalid value encountered in sin\n",
      "  arg4 = (np.sin((lon_ref-lon)*np.pi/180.0/2.0))**2\n",
      "/Users/adam/Project/anaconda3/envs/ctaphys/lib/python3.7/site-packages/minot/ClusterTools/map_tools.py:216: RuntimeWarning: invalid value encountered in sin\n",
      "  arg4 = (np.sin((lon_ref-lon)*np.pi/180.0/2.0))**2\n"
     ]
    },
    {
     "name": "stdout",
     "output_type": "stream",
     "text": [
      "84/484 NGC1550 64.908 2.414 0.7031 0.0131\n"
     ]
    },
    {
     "name": "stderr",
     "output_type": "stream",
     "text": [
      "/Users/adam/Project/anaconda3/envs/ctaphys/lib/python3.7/site-packages/minot/ClusterTools/map_tools.py:216: RuntimeWarning: invalid value encountered in sin\n",
      "  arg4 = (np.sin((lon_ref-lon)*np.pi/180.0/2.0))**2\n",
      "/Users/adam/Project/anaconda3/envs/ctaphys/lib/python3.7/site-packages/minot/ClusterTools/map_tools.py:216: RuntimeWarning: invalid value encountered in sin\n",
      "  arg4 = (np.sin((lon_ref-lon)*np.pi/180.0/2.0))**2\n",
      "/Users/adam/Project/anaconda3/envs/ctaphys/lib/python3.7/site-packages/minot/ClusterTools/map_tools.py:216: RuntimeWarning: invalid value encountered in sin\n",
      "  arg4 = (np.sin((lon_ref-lon)*np.pi/180.0/2.0))**2\n"
     ]
    },
    {
     "name": "stdout",
     "output_type": "stream",
     "text": [
      "85/484 RBS_0540 66.464 -8.559 2.0861 0.0397\n"
     ]
    },
    {
     "name": "stderr",
     "output_type": "stream",
     "text": [
      "/Users/adam/Project/anaconda3/envs/ctaphys/lib/python3.7/site-packages/minot/ClusterTools/map_tools.py:216: RuntimeWarning: invalid value encountered in sin\n",
      "  arg4 = (np.sin((lon_ref-lon)*np.pi/180.0/2.0))**2\n",
      "/Users/adam/Project/anaconda3/envs/ctaphys/lib/python3.7/site-packages/minot/ClusterTools/map_tools.py:216: RuntimeWarning: invalid value encountered in sin\n",
      "  arg4 = (np.sin((lon_ref-lon)*np.pi/180.0/2.0))**2\n",
      "/Users/adam/Project/anaconda3/envs/ctaphys/lib/python3.7/site-packages/minot/ClusterTools/map_tools.py:216: RuntimeWarning: invalid value encountered in sin\n",
      "  arg4 = (np.sin((lon_ref-lon)*np.pi/180.0/2.0))**2\n"
     ]
    },
    {
     "name": "stdout",
     "output_type": "stream",
     "text": [
      "86/484 A3266 67.85 -61.444 4.5579 0.0589\n"
     ]
    },
    {
     "name": "stderr",
     "output_type": "stream",
     "text": [
      "/Users/adam/Project/anaconda3/envs/ctaphys/lib/python3.7/site-packages/minot/ClusterTools/map_tools.py:216: RuntimeWarning: invalid value encountered in sin\n",
      "  arg4 = (np.sin((lon_ref-lon)*np.pi/180.0/2.0))**2\n",
      "/Users/adam/Project/anaconda3/envs/ctaphys/lib/python3.7/site-packages/minot/ClusterTools/map_tools.py:216: RuntimeWarning: invalid value encountered in sin\n",
      "  arg4 = (np.sin((lon_ref-lon)*np.pi/180.0/2.0))**2\n",
      "/Users/adam/Project/anaconda3/envs/ctaphys/lib/python3.7/site-packages/minot/ClusterTools/map_tools.py:216: RuntimeWarning: invalid value encountered in sin\n",
      "  arg4 = (np.sin((lon_ref-lon)*np.pi/180.0/2.0))**2\n"
     ]
    },
    {
     "name": "stdout",
     "output_type": "stream",
     "text": [
      "87/484 A0496 68.41 -13.259 2.9118 0.0326\n"
     ]
    },
    {
     "name": "stderr",
     "output_type": "stream",
     "text": [
      "/Users/adam/Project/anaconda3/envs/ctaphys/lib/python3.7/site-packages/minot/ClusterTools/map_tools.py:216: RuntimeWarning: invalid value encountered in sin\n",
      "  arg4 = (np.sin((lon_ref-lon)*np.pi/180.0/2.0))**2\n",
      "/Users/adam/Project/anaconda3/envs/ctaphys/lib/python3.7/site-packages/minot/ClusterTools/map_tools.py:216: RuntimeWarning: invalid value encountered in sin\n",
      "  arg4 = (np.sin((lon_ref-lon)*np.pi/180.0/2.0))**2\n",
      "/Users/adam/Project/anaconda3/envs/ctaphys/lib/python3.7/site-packages/minot/ClusterTools/map_tools.py:216: RuntimeWarning: invalid value encountered in sin\n",
      "  arg4 = (np.sin((lon_ref-lon)*np.pi/180.0/2.0))**2\n"
     ]
    },
    {
     "name": "stdout",
     "output_type": "stream",
     "text": [
      "88/484 A0500 69.728 -22.114 1.5091 0.067\n"
     ]
    },
    {
     "name": "stderr",
     "output_type": "stream",
     "text": [
      "/Users/adam/Project/anaconda3/envs/ctaphys/lib/python3.7/site-packages/minot/ClusterTools/map_tools.py:216: RuntimeWarning: invalid value encountered in sin\n",
      "  arg4 = (np.sin((lon_ref-lon)*np.pi/180.0/2.0))**2\n",
      "/Users/adam/Project/anaconda3/envs/ctaphys/lib/python3.7/site-packages/minot/ClusterTools/map_tools.py:216: RuntimeWarning: invalid value encountered in sin\n",
      "  arg4 = (np.sin((lon_ref-lon)*np.pi/180.0/2.0))**2\n",
      "/Users/adam/Project/anaconda3/envs/ctaphys/lib/python3.7/site-packages/minot/ClusterTools/map_tools.py:216: RuntimeWarning: invalid value encountered in sin\n",
      "  arg4 = (np.sin((lon_ref-lon)*np.pi/180.0/2.0))**2\n"
     ]
    },
    {
     "name": "stdout",
     "output_type": "stream",
     "text": [
      "89/484 RXJ0439.0+0715 69.753 7.262 5.6202 0.245\n"
     ]
    },
    {
     "name": "stderr",
     "output_type": "stream",
     "text": [
      "/Users/adam/Project/anaconda3/envs/ctaphys/lib/python3.7/site-packages/minot/ClusterTools/map_tools.py:216: RuntimeWarning: invalid value encountered in sin\n",
      "  arg4 = (np.sin((lon_ref-lon)*np.pi/180.0/2.0))**2\n",
      "/Users/adam/Project/anaconda3/envs/ctaphys/lib/python3.7/site-packages/minot/ClusterTools/map_tools.py:216: RuntimeWarning: invalid value encountered in sin\n",
      "  arg4 = (np.sin((lon_ref-lon)*np.pi/180.0/2.0))**2\n",
      "/Users/adam/Project/anaconda3/envs/ctaphys/lib/python3.7/site-packages/minot/ClusterTools/map_tools.py:216: RuntimeWarning: invalid value encountered in sin\n",
      "  arg4 = (np.sin((lon_ref-lon)*np.pi/180.0/2.0))**2\n"
     ]
    },
    {
     "name": "stdout",
     "output_type": "stream",
     "text": [
      "90/484 RXJ0439.0+0520 69.76 5.344 4.6097 0.208\n"
     ]
    },
    {
     "name": "stderr",
     "output_type": "stream",
     "text": [
      "/Users/adam/Project/anaconda3/envs/ctaphys/lib/python3.7/site-packages/minot/ClusterTools/map_tools.py:216: RuntimeWarning: invalid value encountered in sin\n",
      "  arg4 = (np.sin((lon_ref-lon)*np.pi/180.0/2.0))**2\n",
      "/Users/adam/Project/anaconda3/envs/ctaphys/lib/python3.7/site-packages/minot/ClusterTools/map_tools.py:216: RuntimeWarning: invalid value encountered in sin\n",
      "  arg4 = (np.sin((lon_ref-lon)*np.pi/180.0/2.0))**2\n",
      "/Users/adam/Project/anaconda3/envs/ctaphys/lib/python3.7/site-packages/minot/ClusterTools/map_tools.py:216: RuntimeWarning: invalid value encountered in sin\n",
      "  arg4 = (np.sin((lon_ref-lon)*np.pi/180.0/2.0))**2\n"
     ]
    },
    {
     "name": "stdout",
     "output_type": "stream",
     "text": [
      "91/484 NGC1650 71.292 -15.85 0.8642 0.036\n"
     ]
    },
    {
     "name": "stderr",
     "output_type": "stream",
     "text": [
      "/Users/adam/Project/anaconda3/envs/ctaphys/lib/python3.7/site-packages/minot/ClusterTools/map_tools.py:216: RuntimeWarning: invalid value encountered in sin\n",
      "  arg4 = (np.sin((lon_ref-lon)*np.pi/180.0/2.0))**2\n",
      "/Users/adam/Project/anaconda3/envs/ctaphys/lib/python3.7/site-packages/minot/ClusterTools/map_tools.py:216: RuntimeWarning: invalid value encountered in sin\n",
      "  arg4 = (np.sin((lon_ref-lon)*np.pi/180.0/2.0))**2\n",
      "/Users/adam/Project/anaconda3/envs/ctaphys/lib/python3.7/site-packages/minot/ClusterTools/map_tools.py:216: RuntimeWarning: invalid value encountered in sin\n",
      "  arg4 = (np.sin((lon_ref-lon)*np.pi/180.0/2.0))**2\n"
     ]
    },
    {
     "name": "stdout",
     "output_type": "stream",
     "text": [
      "92/484 A0514 72.051 -20.47 1.9513 0.072\n"
     ]
    },
    {
     "name": "stderr",
     "output_type": "stream",
     "text": [
      "/Users/adam/Project/anaconda3/envs/ctaphys/lib/python3.7/site-packages/minot/ClusterTools/map_tools.py:216: RuntimeWarning: invalid value encountered in sin\n",
      "  arg4 = (np.sin((lon_ref-lon)*np.pi/180.0/2.0))**2\n",
      "/Users/adam/Project/anaconda3/envs/ctaphys/lib/python3.7/site-packages/minot/ClusterTools/map_tools.py:216: RuntimeWarning: invalid value encountered in sin\n",
      "  arg4 = (np.sin((lon_ref-lon)*np.pi/180.0/2.0))**2\n",
      "/Users/adam/Project/anaconda3/envs/ctaphys/lib/python3.7/site-packages/minot/ClusterTools/map_tools.py:216: RuntimeWarning: invalid value encountered in sin\n",
      "  arg4 = (np.sin((lon_ref-lon)*np.pi/180.0/2.0))**2\n"
     ]
    },
    {
     "name": "stdout",
     "output_type": "stream",
     "text": [
      "93/484 3C_129.1 72.515 45.024 1.8897 0.022\n"
     ]
    },
    {
     "name": "stderr",
     "output_type": "stream",
     "text": [
      "/Users/adam/Project/anaconda3/envs/ctaphys/lib/python3.7/site-packages/minot/ClusterTools/map_tools.py:216: RuntimeWarning: invalid value encountered in sin\n",
      "  arg4 = (np.sin((lon_ref-lon)*np.pi/180.0/2.0))**2\n",
      "/Users/adam/Project/anaconda3/envs/ctaphys/lib/python3.7/site-packages/minot/ClusterTools/map_tools.py:216: RuntimeWarning: invalid value encountered in sin\n",
      "  arg4 = (np.sin((lon_ref-lon)*np.pi/180.0/2.0))**2\n",
      "/Users/adam/Project/anaconda3/envs/ctaphys/lib/python3.7/site-packages/minot/ClusterTools/map_tools.py:216: RuntimeWarning: invalid value encountered in sin\n",
      "  arg4 = (np.sin((lon_ref-lon)*np.pi/180.0/2.0))**2\n"
     ]
    },
    {
     "name": "stdout",
     "output_type": "stream",
     "text": [
      "94/484 A0521 73.538 -10.239 5.8187 0.2475\n"
     ]
    },
    {
     "name": "stderr",
     "output_type": "stream",
     "text": [
      "/Users/adam/Project/anaconda3/envs/ctaphys/lib/python3.7/site-packages/minot/ClusterTools/map_tools.py:216: RuntimeWarning: invalid value encountered in sin\n",
      "  arg4 = (np.sin((lon_ref-lon)*np.pi/180.0/2.0))**2\n",
      "/Users/adam/Project/anaconda3/envs/ctaphys/lib/python3.7/site-packages/minot/ClusterTools/map_tools.py:216: RuntimeWarning: invalid value encountered in sin\n",
      "  arg4 = (np.sin((lon_ref-lon)*np.pi/180.0/2.0))**2\n",
      "/Users/adam/Project/anaconda3/envs/ctaphys/lib/python3.7/site-packages/minot/ClusterTools/map_tools.py:216: RuntimeWarning: invalid value encountered in sin\n",
      "  arg4 = (np.sin((lon_ref-lon)*np.pi/180.0/2.0))**2\n"
     ]
    },
    {
     "name": "stdout",
     "output_type": "stream",
     "text": [
      "95/484 A0520 73.546 2.918 6.4364 0.203\n"
     ]
    },
    {
     "name": "stderr",
     "output_type": "stream",
     "text": [
      "/Users/adam/Project/anaconda3/envs/ctaphys/lib/python3.7/site-packages/minot/ClusterTools/map_tools.py:216: RuntimeWarning: invalid value encountered in sin\n",
      "  arg4 = (np.sin((lon_ref-lon)*np.pi/180.0/2.0))**2\n",
      "/Users/adam/Project/anaconda3/envs/ctaphys/lib/python3.7/site-packages/minot/ClusterTools/map_tools.py:216: RuntimeWarning: invalid value encountered in sin\n",
      "  arg4 = (np.sin((lon_ref-lon)*np.pi/180.0/2.0))**2\n",
      "/Users/adam/Project/anaconda3/envs/ctaphys/lib/python3.7/site-packages/minot/ClusterTools/map_tools.py:216: RuntimeWarning: invalid value encountered in sin\n",
      "  arg4 = (np.sin((lon_ref-lon)*np.pi/180.0/2.0))**2\n"
     ]
    },
    {
     "name": "stdout",
     "output_type": "stream",
     "text": [
      "96/484 A3301 75.194 -38.678 1.2705 0.0536\n"
     ]
    },
    {
     "name": "stderr",
     "output_type": "stream",
     "text": [
      "/Users/adam/Project/anaconda3/envs/ctaphys/lib/python3.7/site-packages/minot/ClusterTools/map_tools.py:216: RuntimeWarning: invalid value encountered in sin\n",
      "  arg4 = (np.sin((lon_ref-lon)*np.pi/180.0/2.0))**2\n",
      "/Users/adam/Project/anaconda3/envs/ctaphys/lib/python3.7/site-packages/minot/ClusterTools/map_tools.py:216: RuntimeWarning: invalid value encountered in sin\n",
      "  arg4 = (np.sin((lon_ref-lon)*np.pi/180.0/2.0))**2\n",
      "/Users/adam/Project/anaconda3/envs/ctaphys/lib/python3.7/site-packages/minot/ClusterTools/map_tools.py:216: RuntimeWarning: invalid value encountered in sin\n",
      "  arg4 = (np.sin((lon_ref-lon)*np.pi/180.0/2.0))**2\n"
     ]
    },
    {
     "name": "stdout",
     "output_type": "stream",
     "text": [
      "97/484 A3322 77.558 -45.321 4.6483 0.2\n"
     ]
    },
    {
     "name": "stderr",
     "output_type": "stream",
     "text": [
      "/Users/adam/Project/anaconda3/envs/ctaphys/lib/python3.7/site-packages/minot/ClusterTools/map_tools.py:216: RuntimeWarning: invalid value encountered in sin\n",
      "  arg4 = (np.sin((lon_ref-lon)*np.pi/180.0/2.0))**2\n",
      "/Users/adam/Project/anaconda3/envs/ctaphys/lib/python3.7/site-packages/minot/ClusterTools/map_tools.py:216: RuntimeWarning: invalid value encountered in sin\n",
      "  arg4 = (np.sin((lon_ref-lon)*np.pi/180.0/2.0))**2\n",
      "/Users/adam/Project/anaconda3/envs/ctaphys/lib/python3.7/site-packages/minot/ClusterTools/map_tools.py:216: RuntimeWarning: invalid value encountered in sin\n",
      "  arg4 = (np.sin((lon_ref-lon)*np.pi/180.0/2.0))**2\n"
     ]
    },
    {
     "name": "stdout",
     "output_type": "stream",
     "text": [
      "98/484 RXCJ0510.7-0801 77.686 -8.018 6.0827 0.2195\n"
     ]
    },
    {
     "name": "stderr",
     "output_type": "stream",
     "text": [
      "/Users/adam/Project/anaconda3/envs/ctaphys/lib/python3.7/site-packages/minot/ClusterTools/map_tools.py:216: RuntimeWarning: invalid value encountered in sin\n",
      "  arg4 = (np.sin((lon_ref-lon)*np.pi/180.0/2.0))**2\n",
      "/Users/adam/Project/anaconda3/envs/ctaphys/lib/python3.7/site-packages/minot/ClusterTools/map_tools.py:216: RuntimeWarning: invalid value encountered in sin\n",
      "  arg4 = (np.sin((lon_ref-lon)*np.pi/180.0/2.0))**2\n",
      "/Users/adam/Project/anaconda3/envs/ctaphys/lib/python3.7/site-packages/minot/ClusterTools/map_tools.py:216: RuntimeWarning: invalid value encountered in sin\n",
      "  arg4 = (np.sin((lon_ref-lon)*np.pi/180.0/2.0))**2\n"
     ]
    },
    {
     "name": "stdout",
     "output_type": "stream",
     "text": [
      "99/484 RXC_J0515.3+5845 78.835 58.766 3.1585 0.1203\n"
     ]
    },
    {
     "name": "stderr",
     "output_type": "stream",
     "text": [
      "/Users/adam/Project/anaconda3/envs/ctaphys/lib/python3.7/site-packages/minot/ClusterTools/map_tools.py:216: RuntimeWarning: invalid value encountered in sin\n",
      "  arg4 = (np.sin((lon_ref-lon)*np.pi/180.0/2.0))**2\n",
      "/Users/adam/Project/anaconda3/envs/ctaphys/lib/python3.7/site-packages/minot/ClusterTools/map_tools.py:216: RuntimeWarning: invalid value encountered in sin\n",
      "  arg4 = (np.sin((lon_ref-lon)*np.pi/180.0/2.0))**2\n",
      "/Users/adam/Project/anaconda3/envs/ctaphys/lib/python3.7/site-packages/minot/ClusterTools/map_tools.py:216: RuntimeWarning: invalid value encountered in sin\n",
      "  arg4 = (np.sin((lon_ref-lon)*np.pi/180.0/2.0))**2\n"
     ]
    },
    {
     "name": "stdout",
     "output_type": "stream",
     "text": [
      "100/484 RXC_J0516.3+1712 79.086 17.209 4.2315 0.115\n"
     ]
    },
    {
     "name": "stderr",
     "output_type": "stream",
     "text": [
      "/Users/adam/Project/anaconda3/envs/ctaphys/lib/python3.7/site-packages/minot/ClusterTools/map_tools.py:216: RuntimeWarning: invalid value encountered in sin\n",
      "  arg4 = (np.sin((lon_ref-lon)*np.pi/180.0/2.0))**2\n",
      "/Users/adam/Project/anaconda3/envs/ctaphys/lib/python3.7/site-packages/minot/ClusterTools/map_tools.py:216: RuntimeWarning: invalid value encountered in sin\n",
      "  arg4 = (np.sin((lon_ref-lon)*np.pi/180.0/2.0))**2\n",
      "/Users/adam/Project/anaconda3/envs/ctaphys/lib/python3.7/site-packages/minot/ClusterTools/map_tools.py:216: RuntimeWarning: invalid value encountered in sin\n",
      "  arg4 = (np.sin((lon_ref-lon)*np.pi/180.0/2.0))**2\n"
     ]
    },
    {
     "name": "stdout",
     "output_type": "stream",
     "text": [
      "101/484 A0539 79.155 6.438 1.3731 0.0284\n"
     ]
    },
    {
     "name": "stderr",
     "output_type": "stream",
     "text": [
      "/Users/adam/Project/anaconda3/envs/ctaphys/lib/python3.7/site-packages/minot/ClusterTools/map_tools.py:216: RuntimeWarning: invalid value encountered in sin\n",
      "  arg4 = (np.sin((lon_ref-lon)*np.pi/180.0/2.0))**2\n",
      "/Users/adam/Project/anaconda3/envs/ctaphys/lib/python3.7/site-packages/minot/ClusterTools/map_tools.py:216: RuntimeWarning: invalid value encountered in sin\n",
      "  arg4 = (np.sin((lon_ref-lon)*np.pi/180.0/2.0))**2\n",
      "/Users/adam/Project/anaconda3/envs/ctaphys/lib/python3.7/site-packages/minot/ClusterTools/map_tools.py:216: RuntimeWarning: invalid value encountered in sin\n",
      "  arg4 = (np.sin((lon_ref-lon)*np.pi/180.0/2.0))**2\n"
     ]
    },
    {
     "name": "stdout",
     "output_type": "stream",
     "text": [
      "102/484 S0520 79.158 -54.514 7.7238 0.2952\n"
     ]
    },
    {
     "name": "stderr",
     "output_type": "stream",
     "text": [
      "/Users/adam/Project/anaconda3/envs/ctaphys/lib/python3.7/site-packages/minot/ClusterTools/map_tools.py:216: RuntimeWarning: invalid value encountered in sin\n",
      "  arg4 = (np.sin((lon_ref-lon)*np.pi/180.0/2.0))**2\n",
      "/Users/adam/Project/anaconda3/envs/ctaphys/lib/python3.7/site-packages/minot/ClusterTools/map_tools.py:216: RuntimeWarning: invalid value encountered in sin\n",
      "  arg4 = (np.sin((lon_ref-lon)*np.pi/180.0/2.0))**2\n",
      "/Users/adam/Project/anaconda3/envs/ctaphys/lib/python3.7/site-packages/minot/ClusterTools/map_tools.py:216: RuntimeWarning: invalid value encountered in sin\n",
      "  arg4 = (np.sin((lon_ref-lon)*np.pi/180.0/2.0))**2\n"
     ]
    },
    {
     "name": "stdout",
     "output_type": "stream",
     "text": [
      "103/484 RXC_J0516.9+2925 79.243 29.421 3.0614 0.13\n"
     ]
    },
    {
     "name": "stderr",
     "output_type": "stream",
     "text": [
      "/Users/adam/Project/anaconda3/envs/ctaphys/lib/python3.7/site-packages/minot/ClusterTools/map_tools.py:216: RuntimeWarning: invalid value encountered in sin\n",
      "  arg4 = (np.sin((lon_ref-lon)*np.pi/180.0/2.0))**2\n",
      "/Users/adam/Project/anaconda3/envs/ctaphys/lib/python3.7/site-packages/minot/ClusterTools/map_tools.py:216: RuntimeWarning: invalid value encountered in sin\n",
      "  arg4 = (np.sin((lon_ref-lon)*np.pi/180.0/2.0))**2\n",
      "/Users/adam/Project/anaconda3/envs/ctaphys/lib/python3.7/site-packages/minot/ClusterTools/map_tools.py:216: RuntimeWarning: invalid value encountered in sin\n",
      "  arg4 = (np.sin((lon_ref-lon)*np.pi/180.0/2.0))**2\n"
     ]
    },
    {
     "name": "stdout",
     "output_type": "stream",
     "text": [
      "104/484 RXC_J0522.7+2806 80.699 28.109 1.9868 0.058\n"
     ]
    },
    {
     "name": "stderr",
     "output_type": "stream",
     "text": [
      "/Users/adam/Project/anaconda3/envs/ctaphys/lib/python3.7/site-packages/minot/ClusterTools/map_tools.py:216: RuntimeWarning: invalid value encountered in sin\n",
      "  arg4 = (np.sin((lon_ref-lon)*np.pi/180.0/2.0))**2\n",
      "/Users/adam/Project/anaconda3/envs/ctaphys/lib/python3.7/site-packages/minot/ClusterTools/map_tools.py:216: RuntimeWarning: invalid value encountered in sin\n",
      "  arg4 = (np.sin((lon_ref-lon)*np.pi/180.0/2.0))**2\n",
      "/Users/adam/Project/anaconda3/envs/ctaphys/lib/python3.7/site-packages/minot/ClusterTools/map_tools.py:216: RuntimeWarning: invalid value encountered in sin\n",
      "  arg4 = (np.sin((lon_ref-lon)*np.pi/180.0/2.0))**2\n"
     ]
    },
    {
     "name": "stdout",
     "output_type": "stream",
     "text": [
      "105/484 RXC_J0524.4+0819 81.115 8.329 2.0256 0.068\n"
     ]
    },
    {
     "name": "stderr",
     "output_type": "stream",
     "text": [
      "/Users/adam/Project/anaconda3/envs/ctaphys/lib/python3.7/site-packages/minot/ClusterTools/map_tools.py:216: RuntimeWarning: invalid value encountered in sin\n",
      "  arg4 = (np.sin((lon_ref-lon)*np.pi/180.0/2.0))**2\n",
      "/Users/adam/Project/anaconda3/envs/ctaphys/lib/python3.7/site-packages/minot/ClusterTools/map_tools.py:216: RuntimeWarning: invalid value encountered in sin\n",
      "  arg4 = (np.sin((lon_ref-lon)*np.pi/180.0/2.0))**2\n",
      "/Users/adam/Project/anaconda3/envs/ctaphys/lib/python3.7/site-packages/minot/ClusterTools/map_tools.py:216: RuntimeWarning: invalid value encountered in sin\n",
      "  arg4 = (np.sin((lon_ref-lon)*np.pi/180.0/2.0))**2\n"
     ]
    },
    {
     "name": "stdout",
     "output_type": "stream",
     "text": [
      "106/484 A3341 81.386 -31.596 1.0913 0.038\n"
     ]
    },
    {
     "name": "stderr",
     "output_type": "stream",
     "text": [
      "/Users/adam/Project/anaconda3/envs/ctaphys/lib/python3.7/site-packages/minot/ClusterTools/map_tools.py:216: RuntimeWarning: invalid value encountered in sin\n",
      "  arg4 = (np.sin((lon_ref-lon)*np.pi/180.0/2.0))**2\n",
      "/Users/adam/Project/anaconda3/envs/ctaphys/lib/python3.7/site-packages/minot/ClusterTools/map_tools.py:216: RuntimeWarning: invalid value encountered in sin\n",
      "  arg4 = (np.sin((lon_ref-lon)*np.pi/180.0/2.0))**2\n",
      "/Users/adam/Project/anaconda3/envs/ctaphys/lib/python3.7/site-packages/minot/ClusterTools/map_tools.py:216: RuntimeWarning: invalid value encountered in sin\n",
      "  arg4 = (np.sin((lon_ref-lon)*np.pi/180.0/2.0))**2\n"
     ]
    },
    {
     "name": "stdout",
     "output_type": "stream",
     "text": [
      "107/484 RBS_0653 82.234 -39.463 7.5474 0.2839\n"
     ]
    },
    {
     "name": "stderr",
     "output_type": "stream",
     "text": [
      "/Users/adam/Project/anaconda3/envs/ctaphys/lib/python3.7/site-packages/minot/ClusterTools/map_tools.py:216: RuntimeWarning: invalid value encountered in sin\n",
      "  arg4 = (np.sin((lon_ref-lon)*np.pi/180.0/2.0))**2\n",
      "/Users/adam/Project/anaconda3/envs/ctaphys/lib/python3.7/site-packages/minot/ClusterTools/map_tools.py:216: RuntimeWarning: invalid value encountered in sin\n",
      "  arg4 = (np.sin((lon_ref-lon)*np.pi/180.0/2.0))**2\n",
      "/Users/adam/Project/anaconda3/envs/ctaphys/lib/python3.7/site-packages/minot/ClusterTools/map_tools.py:216: RuntimeWarning: invalid value encountered in sin\n",
      "  arg4 = (np.sin((lon_ref-lon)*np.pi/180.0/2.0))**2\n"
     ]
    },
    {
     "name": "stdout",
     "output_type": "stream",
     "text": [
      "108/484 A0543 82.66 -22.448 4.2146 0.1706\n"
     ]
    },
    {
     "name": "stderr",
     "output_type": "stream",
     "text": [
      "/Users/adam/Project/anaconda3/envs/ctaphys/lib/python3.7/site-packages/minot/ClusterTools/map_tools.py:216: RuntimeWarning: invalid value encountered in sin\n",
      "  arg4 = (np.sin((lon_ref-lon)*np.pi/180.0/2.0))**2\n",
      "/Users/adam/Project/anaconda3/envs/ctaphys/lib/python3.7/site-packages/minot/ClusterTools/map_tools.py:216: RuntimeWarning: invalid value encountered in sin\n",
      "  arg4 = (np.sin((lon_ref-lon)*np.pi/180.0/2.0))**2\n",
      "/Users/adam/Project/anaconda3/envs/ctaphys/lib/python3.7/site-packages/minot/ClusterTools/map_tools.py:216: RuntimeWarning: invalid value encountered in sin\n",
      "  arg4 = (np.sin((lon_ref-lon)*np.pi/180.0/2.0))**2\n"
     ]
    },
    {
     "name": "stdout",
     "output_type": "stream",
     "text": [
      "109/484 A0545 83.096 -11.531 4.9028 0.154\n"
     ]
    },
    {
     "name": "stderr",
     "output_type": "stream",
     "text": [
      "/Users/adam/Project/anaconda3/envs/ctaphys/lib/python3.7/site-packages/minot/ClusterTools/map_tools.py:216: RuntimeWarning: invalid value encountered in sin\n",
      "  arg4 = (np.sin((lon_ref-lon)*np.pi/180.0/2.0))**2\n",
      "/Users/adam/Project/anaconda3/envs/ctaphys/lib/python3.7/site-packages/minot/ClusterTools/map_tools.py:216: RuntimeWarning: invalid value encountered in sin\n",
      "  arg4 = (np.sin((lon_ref-lon)*np.pi/180.0/2.0))**2\n",
      "/Users/adam/Project/anaconda3/envs/ctaphys/lib/python3.7/site-packages/minot/ClusterTools/map_tools.py:216: RuntimeWarning: invalid value encountered in sin\n",
      "  arg4 = (np.sin((lon_ref-lon)*np.pi/180.0/2.0))**2\n"
     ]
    },
    {
     "name": "stdout",
     "output_type": "stream",
     "text": [
      "110/484 S0540 85.026 -40.842 1.2212 0.0358\n"
     ]
    },
    {
     "name": "stderr",
     "output_type": "stream",
     "text": [
      "/Users/adam/Project/anaconda3/envs/ctaphys/lib/python3.7/site-packages/minot/ClusterTools/map_tools.py:216: RuntimeWarning: invalid value encountered in sin\n",
      "  arg4 = (np.sin((lon_ref-lon)*np.pi/180.0/2.0))**2\n",
      "/Users/adam/Project/anaconda3/envs/ctaphys/lib/python3.7/site-packages/minot/ClusterTools/map_tools.py:216: RuntimeWarning: invalid value encountered in sin\n",
      "  arg4 = (np.sin((lon_ref-lon)*np.pi/180.0/2.0))**2\n",
      "/Users/adam/Project/anaconda3/envs/ctaphys/lib/python3.7/site-packages/minot/ClusterTools/map_tools.py:216: RuntimeWarning: invalid value encountered in sin\n",
      "  arg4 = (np.sin((lon_ref-lon)*np.pi/180.0/2.0))**2\n"
     ]
    },
    {
     "name": "stdout",
     "output_type": "stream",
     "text": [
      "111/484 CID_36 85.539 -26.124 0.853 0.039\n"
     ]
    },
    {
     "name": "stderr",
     "output_type": "stream",
     "text": [
      "/Users/adam/Project/anaconda3/envs/ctaphys/lib/python3.7/site-packages/minot/ClusterTools/map_tools.py:216: RuntimeWarning: invalid value encountered in sin\n",
      "  arg4 = (np.sin((lon_ref-lon)*np.pi/180.0/2.0))**2\n",
      "/Users/adam/Project/anaconda3/envs/ctaphys/lib/python3.7/site-packages/minot/ClusterTools/map_tools.py:216: RuntimeWarning: invalid value encountered in sin\n",
      "  arg4 = (np.sin((lon_ref-lon)*np.pi/180.0/2.0))**2\n",
      "/Users/adam/Project/anaconda3/envs/ctaphys/lib/python3.7/site-packages/minot/ClusterTools/map_tools.py:216: RuntimeWarning: invalid value encountered in sin\n",
      "  arg4 = (np.sin((lon_ref-lon)*np.pi/180.0/2.0))**2\n"
     ]
    },
    {
     "name": "stdout",
     "output_type": "stream",
     "text": [
      "112/484 A3364 86.909 -31.875 4.5029 0.1483\n"
     ]
    },
    {
     "name": "stderr",
     "output_type": "stream",
     "text": [
      "/Users/adam/Project/anaconda3/envs/ctaphys/lib/python3.7/site-packages/minot/ClusterTools/map_tools.py:216: RuntimeWarning: invalid value encountered in sin\n",
      "  arg4 = (np.sin((lon_ref-lon)*np.pi/180.0/2.0))**2\n",
      "/Users/adam/Project/anaconda3/envs/ctaphys/lib/python3.7/site-packages/minot/ClusterTools/map_tools.py:216: RuntimeWarning: invalid value encountered in sin\n",
      "  arg4 = (np.sin((lon_ref-lon)*np.pi/180.0/2.0))**2\n",
      "/Users/adam/Project/anaconda3/envs/ctaphys/lib/python3.7/site-packages/minot/ClusterTools/map_tools.py:216: RuntimeWarning: invalid value encountered in sin\n",
      "  arg4 = (np.sin((lon_ref-lon)*np.pi/180.0/2.0))**2\n"
     ]
    },
    {
     "name": "stdout",
     "output_type": "stream",
     "text": [
      "113/484 A0548E 87.165 -25.458 1.3823 0.042\n"
     ]
    },
    {
     "name": "stderr",
     "output_type": "stream",
     "text": [
      "/Users/adam/Project/anaconda3/envs/ctaphys/lib/python3.7/site-packages/minot/ClusterTools/map_tools.py:216: RuntimeWarning: invalid value encountered in sin\n",
      "  arg4 = (np.sin((lon_ref-lon)*np.pi/180.0/2.0))**2\n",
      "/Users/adam/Project/anaconda3/envs/ctaphys/lib/python3.7/site-packages/minot/ClusterTools/map_tools.py:216: RuntimeWarning: invalid value encountered in sin\n",
      "  arg4 = (np.sin((lon_ref-lon)*np.pi/180.0/2.0))**2\n",
      "/Users/adam/Project/anaconda3/envs/ctaphys/lib/python3.7/site-packages/minot/ClusterTools/map_tools.py:216: RuntimeWarning: invalid value encountered in sin\n",
      "  arg4 = (np.sin((lon_ref-lon)*np.pi/180.0/2.0))**2\n"
     ]
    },
    {
     "name": "stdout",
     "output_type": "stream",
     "text": [
      "114/484 A0550 88.218 -21.057 3.1912 0.0989\n"
     ]
    },
    {
     "name": "stderr",
     "output_type": "stream",
     "text": [
      "/Users/adam/Project/anaconda3/envs/ctaphys/lib/python3.7/site-packages/minot/ClusterTools/map_tools.py:216: RuntimeWarning: invalid value encountered in sin\n",
      "  arg4 = (np.sin((lon_ref-lon)*np.pi/180.0/2.0))**2\n",
      "/Users/adam/Project/anaconda3/envs/ctaphys/lib/python3.7/site-packages/minot/ClusterTools/map_tools.py:216: RuntimeWarning: invalid value encountered in sin\n",
      "  arg4 = (np.sin((lon_ref-lon)*np.pi/180.0/2.0))**2\n",
      "/Users/adam/Project/anaconda3/envs/ctaphys/lib/python3.7/site-packages/minot/ClusterTools/map_tools.py:216: RuntimeWarning: invalid value encountered in sin\n",
      "  arg4 = (np.sin((lon_ref-lon)*np.pi/180.0/2.0))**2\n"
     ]
    },
    {
     "name": "stdout",
     "output_type": "stream",
     "text": [
      "115/484 S0555 89.305 -37.466 0.9722 0.0442\n"
     ]
    },
    {
     "name": "stderr",
     "output_type": "stream",
     "text": [
      "/Users/adam/Project/anaconda3/envs/ctaphys/lib/python3.7/site-packages/minot/ClusterTools/map_tools.py:216: RuntimeWarning: invalid value encountered in sin\n",
      "  arg4 = (np.sin((lon_ref-lon)*np.pi/180.0/2.0))**2\n",
      "/Users/adam/Project/anaconda3/envs/ctaphys/lib/python3.7/site-packages/minot/ClusterTools/map_tools.py:216: RuntimeWarning: invalid value encountered in sin\n",
      "  arg4 = (np.sin((lon_ref-lon)*np.pi/180.0/2.0))**2\n",
      "/Users/adam/Project/anaconda3/envs/ctaphys/lib/python3.7/site-packages/minot/ClusterTools/map_tools.py:216: RuntimeWarning: invalid value encountered in sin\n",
      "  arg4 = (np.sin((lon_ref-lon)*np.pi/180.0/2.0))**2\n"
     ]
    },
    {
     "name": "stdout",
     "output_type": "stream",
     "text": [
      "116/484 A3376 90.44 -39.993 1.9761 0.0468\n"
     ]
    },
    {
     "name": "stderr",
     "output_type": "stream",
     "text": [
      "/Users/adam/Project/anaconda3/envs/ctaphys/lib/python3.7/site-packages/minot/ClusterTools/map_tools.py:216: RuntimeWarning: invalid value encountered in sin\n",
      "  arg4 = (np.sin((lon_ref-lon)*np.pi/180.0/2.0))**2\n",
      "/Users/adam/Project/anaconda3/envs/ctaphys/lib/python3.7/site-packages/minot/ClusterTools/map_tools.py:216: RuntimeWarning: invalid value encountered in sin\n",
      "  arg4 = (np.sin((lon_ref-lon)*np.pi/180.0/2.0))**2\n",
      "/Users/adam/Project/anaconda3/envs/ctaphys/lib/python3.7/site-packages/minot/ClusterTools/map_tools.py:216: RuntimeWarning: invalid value encountered in sin\n",
      "  arg4 = (np.sin((lon_ref-lon)*np.pi/180.0/2.0))**2\n"
     ]
    },
    {
     "name": "stdout",
     "output_type": "stream",
     "text": [
      "117/484 RXC_J0602.0+5315 90.506 53.263 1.1167 0.051\n"
     ]
    },
    {
     "name": "stderr",
     "output_type": "stream",
     "text": [
      "/Users/adam/Project/anaconda3/envs/ctaphys/lib/python3.7/site-packages/minot/ClusterTools/map_tools.py:216: RuntimeWarning: invalid value encountered in sin\n",
      "  arg4 = (np.sin((lon_ref-lon)*np.pi/180.0/2.0))**2\n",
      "/Users/adam/Project/anaconda3/envs/ctaphys/lib/python3.7/site-packages/minot/ClusterTools/map_tools.py:216: RuntimeWarning: invalid value encountered in sin\n",
      "  arg4 = (np.sin((lon_ref-lon)*np.pi/180.0/2.0))**2\n",
      "/Users/adam/Project/anaconda3/envs/ctaphys/lib/python3.7/site-packages/minot/ClusterTools/map_tools.py:216: RuntimeWarning: invalid value encountered in sin\n",
      "  arg4 = (np.sin((lon_ref-lon)*np.pi/180.0/2.0))**2\n"
     ]
    },
    {
     "name": "stdout",
     "output_type": "stream",
     "text": [
      "118/484 RXC_J0602.1+2309 90.531 23.166 2.5321 0.0654\n"
     ]
    },
    {
     "name": "stderr",
     "output_type": "stream",
     "text": [
      "/Users/adam/Project/anaconda3/envs/ctaphys/lib/python3.7/site-packages/minot/ClusterTools/map_tools.py:216: RuntimeWarning: invalid value encountered in sin\n",
      "  arg4 = (np.sin((lon_ref-lon)*np.pi/180.0/2.0))**2\n",
      "/Users/adam/Project/anaconda3/envs/ctaphys/lib/python3.7/site-packages/minot/ClusterTools/map_tools.py:216: RuntimeWarning: invalid value encountered in sin\n",
      "  arg4 = (np.sin((lon_ref-lon)*np.pi/180.0/2.0))**2\n",
      "/Users/adam/Project/anaconda3/envs/ctaphys/lib/python3.7/site-packages/minot/ClusterTools/map_tools.py:216: RuntimeWarning: invalid value encountered in sin\n",
      "  arg4 = (np.sin((lon_ref-lon)*np.pi/180.0/2.0))**2\n"
     ]
    },
    {
     "name": "stdout",
     "output_type": "stream",
     "text": [
      "119/484 RXC_J0603.8+2939 90.957 29.665 0.9853 0.03\n"
     ]
    },
    {
     "name": "stderr",
     "output_type": "stream",
     "text": [
      "/Users/adam/Project/anaconda3/envs/ctaphys/lib/python3.7/site-packages/minot/ClusterTools/map_tools.py:216: RuntimeWarning: invalid value encountered in sin\n",
      "  arg4 = (np.sin((lon_ref-lon)*np.pi/180.0/2.0))**2\n",
      "/Users/adam/Project/anaconda3/envs/ctaphys/lib/python3.7/site-packages/minot/ClusterTools/map_tools.py:216: RuntimeWarning: invalid value encountered in sin\n",
      "  arg4 = (np.sin((lon_ref-lon)*np.pi/180.0/2.0))**2\n",
      "/Users/adam/Project/anaconda3/envs/ctaphys/lib/python3.7/site-packages/minot/ClusterTools/map_tools.py:216: RuntimeWarning: invalid value encountered in sin\n",
      "  arg4 = (np.sin((lon_ref-lon)*np.pi/180.0/2.0))**2\n"
     ]
    },
    {
     "name": "stdout",
     "output_type": "stream",
     "text": [
      "120/484 RXC_J0604.6+4257 91.165 42.953 2.9167 0.118\n"
     ]
    },
    {
     "name": "stderr",
     "output_type": "stream",
     "text": [
      "/Users/adam/Project/anaconda3/envs/ctaphys/lib/python3.7/site-packages/minot/ClusterTools/map_tools.py:216: RuntimeWarning: invalid value encountered in sin\n",
      "  arg4 = (np.sin((lon_ref-lon)*np.pi/180.0/2.0))**2\n",
      "/Users/adam/Project/anaconda3/envs/ctaphys/lib/python3.7/site-packages/minot/ClusterTools/map_tools.py:216: RuntimeWarning: invalid value encountered in sin\n",
      "  arg4 = (np.sin((lon_ref-lon)*np.pi/180.0/2.0))**2\n",
      "/Users/adam/Project/anaconda3/envs/ctaphys/lib/python3.7/site-packages/minot/ClusterTools/map_tools.py:216: RuntimeWarning: invalid value encountered in sin\n",
      "  arg4 = (np.sin((lon_ref-lon)*np.pi/180.0/2.0))**2\n"
     ]
    },
    {
     "name": "stdout",
     "output_type": "stream",
     "text": [
      "121/484 A3378 91.47 -35.3 4.4761 0.1392\n"
     ]
    },
    {
     "name": "stderr",
     "output_type": "stream",
     "text": [
      "/Users/adam/Project/anaconda3/envs/ctaphys/lib/python3.7/site-packages/minot/ClusterTools/map_tools.py:216: RuntimeWarning: invalid value encountered in sin\n",
      "  arg4 = (np.sin((lon_ref-lon)*np.pi/180.0/2.0))**2\n",
      "/Users/adam/Project/anaconda3/envs/ctaphys/lib/python3.7/site-packages/minot/ClusterTools/map_tools.py:216: RuntimeWarning: invalid value encountered in sin\n",
      "  arg4 = (np.sin((lon_ref-lon)*np.pi/180.0/2.0))**2\n",
      "/Users/adam/Project/anaconda3/envs/ctaphys/lib/python3.7/site-packages/minot/ClusterTools/map_tools.py:216: RuntimeWarning: invalid value encountered in sin\n",
      "  arg4 = (np.sin((lon_ref-lon)*np.pi/180.0/2.0))**2\n"
     ]
    },
    {
     "name": "stdout",
     "output_type": "stream",
     "text": [
      "122/484 A0553 93.153 48.602 1.9016 0.067\n"
     ]
    },
    {
     "name": "stderr",
     "output_type": "stream",
     "text": [
      "/Users/adam/Project/anaconda3/envs/ctaphys/lib/python3.7/site-packages/minot/ClusterTools/map_tools.py:216: RuntimeWarning: invalid value encountered in sin\n",
      "  arg4 = (np.sin((lon_ref-lon)*np.pi/180.0/2.0))**2\n",
      "/Users/adam/Project/anaconda3/envs/ctaphys/lib/python3.7/site-packages/minot/ClusterTools/map_tools.py:216: RuntimeWarning: invalid value encountered in sin\n",
      "  arg4 = (np.sin((lon_ref-lon)*np.pi/180.0/2.0))**2\n",
      "/Users/adam/Project/anaconda3/envs/ctaphys/lib/python3.7/site-packages/minot/ClusterTools/map_tools.py:216: RuntimeWarning: invalid value encountered in sin\n",
      "  arg4 = (np.sin((lon_ref-lon)*np.pi/180.0/2.0))**2\n"
     ]
    },
    {
     "name": "stdout",
     "output_type": "stream",
     "text": [
      "123/484 S0579 94.131 -39.8 3.4712 0.152\n"
     ]
    },
    {
     "name": "stderr",
     "output_type": "stream",
     "text": [
      "/Users/adam/Project/anaconda3/envs/ctaphys/lib/python3.7/site-packages/minot/ClusterTools/map_tools.py:216: RuntimeWarning: invalid value encountered in sin\n",
      "  arg4 = (np.sin((lon_ref-lon)*np.pi/180.0/2.0))**2\n",
      "/Users/adam/Project/anaconda3/envs/ctaphys/lib/python3.7/site-packages/minot/ClusterTools/map_tools.py:216: RuntimeWarning: invalid value encountered in sin\n",
      "  arg4 = (np.sin((lon_ref-lon)*np.pi/180.0/2.0))**2\n",
      "/Users/adam/Project/anaconda3/envs/ctaphys/lib/python3.7/site-packages/minot/ClusterTools/map_tools.py:216: RuntimeWarning: invalid value encountered in sin\n",
      "  arg4 = (np.sin((lon_ref-lon)*np.pi/180.0/2.0))**2\n"
     ]
    },
    {
     "name": "stdout",
     "output_type": "stream",
     "text": [
      "124/484 A3391 96.595 -53.695 2.1612 0.0514\n"
     ]
    },
    {
     "name": "stderr",
     "output_type": "stream",
     "text": [
      "/Users/adam/Project/anaconda3/envs/ctaphys/lib/python3.7/site-packages/minot/ClusterTools/map_tools.py:216: RuntimeWarning: invalid value encountered in sin\n",
      "  arg4 = (np.sin((lon_ref-lon)*np.pi/180.0/2.0))**2\n",
      "/Users/adam/Project/anaconda3/envs/ctaphys/lib/python3.7/site-packages/minot/ClusterTools/map_tools.py:216: RuntimeWarning: invalid value encountered in sin\n",
      "  arg4 = (np.sin((lon_ref-lon)*np.pi/180.0/2.0))**2\n",
      "/Users/adam/Project/anaconda3/envs/ctaphys/lib/python3.7/site-packages/minot/ClusterTools/map_tools.py:216: RuntimeWarning: invalid value encountered in sin\n",
      "  arg4 = (np.sin((lon_ref-lon)*np.pi/180.0/2.0))**2\n"
     ]
    },
    {
     "name": "stdout",
     "output_type": "stream",
     "text": [
      "125/484 A3392 96.784 -35.489 1.6778 0.0554\n"
     ]
    },
    {
     "name": "stderr",
     "output_type": "stream",
     "text": [
      "/Users/adam/Project/anaconda3/envs/ctaphys/lib/python3.7/site-packages/minot/ClusterTools/map_tools.py:216: RuntimeWarning: invalid value encountered in sin\n",
      "  arg4 = (np.sin((lon_ref-lon)*np.pi/180.0/2.0))**2\n",
      "/Users/adam/Project/anaconda3/envs/ctaphys/lib/python3.7/site-packages/minot/ClusterTools/map_tools.py:216: RuntimeWarning: invalid value encountered in sin\n",
      "  arg4 = (np.sin((lon_ref-lon)*np.pi/180.0/2.0))**2\n",
      "/Users/adam/Project/anaconda3/envs/ctaphys/lib/python3.7/site-packages/minot/ClusterTools/map_tools.py:216: RuntimeWarning: invalid value encountered in sin\n",
      "  arg4 = (np.sin((lon_ref-lon)*np.pi/180.0/2.0))**2\n"
     ]
    },
    {
     "name": "stdout",
     "output_type": "stream",
     "text": [
      "126/484 A3395 96.81 -54.47 2.3989 0.0506\n"
     ]
    },
    {
     "name": "stderr",
     "output_type": "stream",
     "text": [
      "/Users/adam/Project/anaconda3/envs/ctaphys/lib/python3.7/site-packages/minot/ClusterTools/map_tools.py:216: RuntimeWarning: invalid value encountered in sin\n",
      "  arg4 = (np.sin((lon_ref-lon)*np.pi/180.0/2.0))**2\n",
      "/Users/adam/Project/anaconda3/envs/ctaphys/lib/python3.7/site-packages/minot/ClusterTools/map_tools.py:216: RuntimeWarning: invalid value encountered in sin\n",
      "  arg4 = (np.sin((lon_ref-lon)*np.pi/180.0/2.0))**2\n",
      "/Users/adam/Project/anaconda3/envs/ctaphys/lib/python3.7/site-packages/minot/ClusterTools/map_tools.py:216: RuntimeWarning: invalid value encountered in sin\n",
      "  arg4 = (np.sin((lon_ref-lon)*np.pi/180.0/2.0))**2\n"
     ]
    },
    {
     "name": "stdout",
     "output_type": "stream",
     "text": [
      "127/484 A3396 97.207 -41.728 4.3533 0.1759\n"
     ]
    },
    {
     "name": "stderr",
     "output_type": "stream",
     "text": [
      "/Users/adam/Project/anaconda3/envs/ctaphys/lib/python3.7/site-packages/minot/ClusterTools/map_tools.py:216: RuntimeWarning: invalid value encountered in sin\n",
      "  arg4 = (np.sin((lon_ref-lon)*np.pi/180.0/2.0))**2\n",
      "/Users/adam/Project/anaconda3/envs/ctaphys/lib/python3.7/site-packages/minot/ClusterTools/map_tools.py:216: RuntimeWarning: invalid value encountered in sin\n",
      "  arg4 = (np.sin((lon_ref-lon)*np.pi/180.0/2.0))**2\n",
      "/Users/adam/Project/anaconda3/envs/ctaphys/lib/python3.7/site-packages/minot/ClusterTools/map_tools.py:216: RuntimeWarning: invalid value encountered in sin\n",
      "  arg4 = (np.sin((lon_ref-lon)*np.pi/180.0/2.0))**2\n"
     ]
    },
    {
     "name": "stdout",
     "output_type": "stream",
     "text": [
      "128/484 RXCJ0631.3-5610 97.836 -56.172 1.2855 0.054\n"
     ]
    },
    {
     "name": "stderr",
     "output_type": "stream",
     "text": [
      "/Users/adam/Project/anaconda3/envs/ctaphys/lib/python3.7/site-packages/minot/ClusterTools/map_tools.py:216: RuntimeWarning: invalid value encountered in sin\n",
      "  arg4 = (np.sin((lon_ref-lon)*np.pi/180.0/2.0))**2\n",
      "/Users/adam/Project/anaconda3/envs/ctaphys/lib/python3.7/site-packages/minot/ClusterTools/map_tools.py:216: RuntimeWarning: invalid value encountered in sin\n",
      "  arg4 = (np.sin((lon_ref-lon)*np.pi/180.0/2.0))**2\n",
      "/Users/adam/Project/anaconda3/envs/ctaphys/lib/python3.7/site-packages/minot/ClusterTools/map_tools.py:216: RuntimeWarning: invalid value encountered in sin\n",
      "  arg4 = (np.sin((lon_ref-lon)*np.pi/180.0/2.0))**2\n"
     ]
    },
    {
     "name": "stdout",
     "output_type": "stream",
     "text": [
      "129/484 ZwCl_0628.1+2502 97.839 25.016 2.685 0.081\n"
     ]
    },
    {
     "name": "stderr",
     "output_type": "stream",
     "text": [
      "/Users/adam/Project/anaconda3/envs/ctaphys/lib/python3.7/site-packages/minot/ClusterTools/map_tools.py:216: RuntimeWarning: invalid value encountered in sin\n",
      "  arg4 = (np.sin((lon_ref-lon)*np.pi/180.0/2.0))**2\n",
      "/Users/adam/Project/anaconda3/envs/ctaphys/lib/python3.7/site-packages/minot/ClusterTools/map_tools.py:216: RuntimeWarning: invalid value encountered in sin\n",
      "  arg4 = (np.sin((lon_ref-lon)*np.pi/180.0/2.0))**2\n",
      "/Users/adam/Project/anaconda3/envs/ctaphys/lib/python3.7/site-packages/minot/ClusterTools/map_tools.py:216: RuntimeWarning: invalid value encountered in sin\n",
      "  arg4 = (np.sin((lon_ref-lon)*np.pi/180.0/2.0))**2\n"
     ]
    },
    {
     "name": "stdout",
     "output_type": "stream",
     "text": [
      "130/484 RXC_J0635.0+2231 98.764 22.525 3.8399 0.068\n"
     ]
    },
    {
     "name": "stderr",
     "output_type": "stream",
     "text": [
      "/Users/adam/Project/anaconda3/envs/ctaphys/lib/python3.7/site-packages/minot/ClusterTools/map_tools.py:216: RuntimeWarning: invalid value encountered in sin\n",
      "  arg4 = (np.sin((lon_ref-lon)*np.pi/180.0/2.0))**2\n",
      "/Users/adam/Project/anaconda3/envs/ctaphys/lib/python3.7/site-packages/minot/ClusterTools/map_tools.py:216: RuntimeWarning: invalid value encountered in sin\n",
      "  arg4 = (np.sin((lon_ref-lon)*np.pi/180.0/2.0))**2\n",
      "/Users/adam/Project/anaconda3/envs/ctaphys/lib/python3.7/site-packages/minot/ClusterTools/map_tools.py:216: RuntimeWarning: invalid value encountered in sin\n",
      "  arg4 = (np.sin((lon_ref-lon)*np.pi/180.0/2.0))**2\n"
     ]
    },
    {
     "name": "stdout",
     "output_type": "stream",
     "text": [
      "131/484 ZwCl_0634.1+4750 99.531 47.791 4.6614 0.174\n"
     ]
    },
    {
     "name": "stderr",
     "output_type": "stream",
     "text": [
      "/Users/adam/Project/anaconda3/envs/ctaphys/lib/python3.7/site-packages/minot/ClusterTools/map_tools.py:216: RuntimeWarning: invalid value encountered in sin\n",
      "  arg4 = (np.sin((lon_ref-lon)*np.pi/180.0/2.0))**2\n",
      "/Users/adam/Project/anaconda3/envs/ctaphys/lib/python3.7/site-packages/minot/ClusterTools/map_tools.py:216: RuntimeWarning: invalid value encountered in sin\n",
      "  arg4 = (np.sin((lon_ref-lon)*np.pi/180.0/2.0))**2\n",
      "/Users/adam/Project/anaconda3/envs/ctaphys/lib/python3.7/site-packages/minot/ClusterTools/map_tools.py:216: RuntimeWarning: invalid value encountered in sin\n",
      "  arg4 = (np.sin((lon_ref-lon)*np.pi/180.0/2.0))**2\n"
     ]
    },
    {
     "name": "stdout",
     "output_type": "stream",
     "text": [
      "132/484 S0592 99.694 -53.972 6.8771 0.2266\n"
     ]
    },
    {
     "name": "stderr",
     "output_type": "stream",
     "text": [
      "/Users/adam/Project/anaconda3/envs/ctaphys/lib/python3.7/site-packages/minot/ClusterTools/map_tools.py:216: RuntimeWarning: invalid value encountered in sin\n",
      "  arg4 = (np.sin((lon_ref-lon)*np.pi/180.0/2.0))**2\n",
      "/Users/adam/Project/anaconda3/envs/ctaphys/lib/python3.7/site-packages/minot/ClusterTools/map_tools.py:216: RuntimeWarning: invalid value encountered in sin\n",
      "  arg4 = (np.sin((lon_ref-lon)*np.pi/180.0/2.0))**2\n",
      "/Users/adam/Project/anaconda3/envs/ctaphys/lib/python3.7/site-packages/minot/ClusterTools/map_tools.py:216: RuntimeWarning: invalid value encountered in sin\n",
      "  arg4 = (np.sin((lon_ref-lon)*np.pi/180.0/2.0))**2\n"
     ]
    },
    {
     "name": "stdout",
     "output_type": "stream",
     "text": [
      "133/484 RXC_J0640.1-1253 100.033 -12.889 5.4507 0.135\n"
     ]
    },
    {
     "name": "stderr",
     "output_type": "stream",
     "text": [
      "/Users/adam/Project/anaconda3/envs/ctaphys/lib/python3.7/site-packages/minot/ClusterTools/map_tools.py:216: RuntimeWarning: invalid value encountered in sin\n",
      "  arg4 = (np.sin((lon_ref-lon)*np.pi/180.0/2.0))**2\n",
      "/Users/adam/Project/anaconda3/envs/ctaphys/lib/python3.7/site-packages/minot/ClusterTools/map_tools.py:216: RuntimeWarning: invalid value encountered in sin\n",
      "  arg4 = (np.sin((lon_ref-lon)*np.pi/180.0/2.0))**2\n",
      "/Users/adam/Project/anaconda3/envs/ctaphys/lib/python3.7/site-packages/minot/ClusterTools/map_tools.py:216: RuntimeWarning: invalid value encountered in sin\n",
      "  arg4 = (np.sin((lon_ref-lon)*np.pi/180.0/2.0))**2\n"
     ]
    },
    {
     "name": "stdout",
     "output_type": "stream",
     "text": [
      "134/484 RXC_J0643.4+4214 100.854 42.245 4.1975 0.091\n"
     ]
    },
    {
     "name": "stderr",
     "output_type": "stream",
     "text": [
      "/Users/adam/Project/anaconda3/envs/ctaphys/lib/python3.7/site-packages/minot/ClusterTools/map_tools.py:216: RuntimeWarning: invalid value encountered in sin\n",
      "  arg4 = (np.sin((lon_ref-lon)*np.pi/180.0/2.0))**2\n",
      "/Users/adam/Project/anaconda3/envs/ctaphys/lib/python3.7/site-packages/minot/ClusterTools/map_tools.py:216: RuntimeWarning: invalid value encountered in sin\n",
      "  arg4 = (np.sin((lon_ref-lon)*np.pi/180.0/2.0))**2\n",
      "/Users/adam/Project/anaconda3/envs/ctaphys/lib/python3.7/site-packages/minot/ClusterTools/map_tools.py:216: RuntimeWarning: invalid value encountered in sin\n",
      "  arg4 = (np.sin((lon_ref-lon)*np.pi/180.0/2.0))**2\n"
     ]
    },
    {
     "name": "stdout",
     "output_type": "stream",
     "text": [
      "135/484 A3404 101.372 -54.219 5.8164 0.1644\n"
     ]
    },
    {
     "name": "stderr",
     "output_type": "stream",
     "text": [
      "/Users/adam/Project/anaconda3/envs/ctaphys/lib/python3.7/site-packages/minot/ClusterTools/map_tools.py:216: RuntimeWarning: invalid value encountered in sin\n",
      "  arg4 = (np.sin((lon_ref-lon)*np.pi/180.0/2.0))**2\n",
      "/Users/adam/Project/anaconda3/envs/ctaphys/lib/python3.7/site-packages/minot/ClusterTools/map_tools.py:216: RuntimeWarning: invalid value encountered in sin\n",
      "  arg4 = (np.sin((lon_ref-lon)*np.pi/180.0/2.0))**2\n",
      "/Users/adam/Project/anaconda3/envs/ctaphys/lib/python3.7/site-packages/minot/ClusterTools/map_tools.py:216: RuntimeWarning: invalid value encountered in sin\n",
      "  arg4 = (np.sin((lon_ref-lon)*np.pi/180.0/2.0))**2\n"
     ]
    },
    {
     "name": "stdout",
     "output_type": "stream",
     "text": [
      "136/484 RXC_J0649.3+1801 102.345 18.017 2.1684 0.064\n"
     ]
    },
    {
     "name": "stderr",
     "output_type": "stream",
     "text": [
      "/Users/adam/Project/anaconda3/envs/ctaphys/lib/python3.7/site-packages/minot/ClusterTools/map_tools.py:216: RuntimeWarning: invalid value encountered in sin\n",
      "  arg4 = (np.sin((lon_ref-lon)*np.pi/180.0/2.0))**2\n",
      "/Users/adam/Project/anaconda3/envs/ctaphys/lib/python3.7/site-packages/minot/ClusterTools/map_tools.py:216: RuntimeWarning: invalid value encountered in sin\n",
      "  arg4 = (np.sin((lon_ref-lon)*np.pi/180.0/2.0))**2\n",
      "/Users/adam/Project/anaconda3/envs/ctaphys/lib/python3.7/site-packages/minot/ClusterTools/map_tools.py:216: RuntimeWarning: invalid value encountered in sin\n",
      "  arg4 = (np.sin((lon_ref-lon)*np.pi/180.0/2.0))**2\n"
     ]
    },
    {
     "name": "stdout",
     "output_type": "stream",
     "text": [
      "137/484 1ES0657 104.63 -55.947 10.3599 0.2965\n"
     ]
    },
    {
     "name": "stderr",
     "output_type": "stream",
     "text": [
      "/Users/adam/Project/anaconda3/envs/ctaphys/lib/python3.7/site-packages/minot/ClusterTools/map_tools.py:216: RuntimeWarning: invalid value encountered in sin\n",
      "  arg4 = (np.sin((lon_ref-lon)*np.pi/180.0/2.0))**2\n",
      "/Users/adam/Project/anaconda3/envs/ctaphys/lib/python3.7/site-packages/minot/ClusterTools/map_tools.py:216: RuntimeWarning: invalid value encountered in sin\n",
      "  arg4 = (np.sin((lon_ref-lon)*np.pi/180.0/2.0))**2\n",
      "/Users/adam/Project/anaconda3/envs/ctaphys/lib/python3.7/site-packages/minot/ClusterTools/map_tools.py:216: RuntimeWarning: invalid value encountered in sin\n",
      "  arg4 = (np.sin((lon_ref-lon)*np.pi/180.0/2.0))**2\n"
     ]
    },
    {
     "name": "stdout",
     "output_type": "stream",
     "text": [
      "138/484 A0566 106.102 63.316 2.5235 0.098\n"
     ]
    },
    {
     "name": "stderr",
     "output_type": "stream",
     "text": [
      "/Users/adam/Project/anaconda3/envs/ctaphys/lib/python3.7/site-packages/minot/ClusterTools/map_tools.py:216: RuntimeWarning: invalid value encountered in sin\n",
      "  arg4 = (np.sin((lon_ref-lon)*np.pi/180.0/2.0))**2\n",
      "/Users/adam/Project/anaconda3/envs/ctaphys/lib/python3.7/site-packages/minot/ClusterTools/map_tools.py:216: RuntimeWarning: invalid value encountered in sin\n",
      "  arg4 = (np.sin((lon_ref-lon)*np.pi/180.0/2.0))**2\n",
      "/Users/adam/Project/anaconda3/envs/ctaphys/lib/python3.7/site-packages/minot/ClusterTools/map_tools.py:216: RuntimeWarning: invalid value encountered in sin\n",
      "  arg4 = (np.sin((lon_ref-lon)*np.pi/180.0/2.0))**2\n"
     ]
    },
    {
     "name": "stdout",
     "output_type": "stream",
     "text": [
      "139/484 RXC_J0707.0+2706 106.761 27.106 1.3771 0.062\n"
     ]
    },
    {
     "name": "stderr",
     "output_type": "stream",
     "text": [
      "/Users/adam/Project/anaconda3/envs/ctaphys/lib/python3.7/site-packages/minot/ClusterTools/map_tools.py:216: RuntimeWarning: invalid value encountered in sin\n",
      "  arg4 = (np.sin((lon_ref-lon)*np.pi/180.0/2.0))**2\n",
      "/Users/adam/Project/anaconda3/envs/ctaphys/lib/python3.7/site-packages/minot/ClusterTools/map_tools.py:216: RuntimeWarning: invalid value encountered in sin\n",
      "  arg4 = (np.sin((lon_ref-lon)*np.pi/180.0/2.0))**2\n",
      "/Users/adam/Project/anaconda3/envs/ctaphys/lib/python3.7/site-packages/minot/ClusterTools/map_tools.py:216: RuntimeWarning: invalid value encountered in sin\n",
      "  arg4 = (np.sin((lon_ref-lon)*np.pi/180.0/2.0))**2\n"
     ]
    },
    {
     "name": "stdout",
     "output_type": "stream",
     "text": [
      "140/484 RXC_J0711.7+3219 107.948 32.319 1.9673 0.0672\n"
     ]
    },
    {
     "name": "stderr",
     "output_type": "stream",
     "text": [
      "/Users/adam/Project/anaconda3/envs/ctaphys/lib/python3.7/site-packages/minot/ClusterTools/map_tools.py:216: RuntimeWarning: invalid value encountered in sin\n",
      "  arg4 = (np.sin((lon_ref-lon)*np.pi/180.0/2.0))**2\n",
      "/Users/adam/Project/anaconda3/envs/ctaphys/lib/python3.7/site-packages/minot/ClusterTools/map_tools.py:216: RuntimeWarning: invalid value encountered in sin\n",
      "  arg4 = (np.sin((lon_ref-lon)*np.pi/180.0/2.0))**2\n",
      "/Users/adam/Project/anaconda3/envs/ctaphys/lib/python3.7/site-packages/minot/ClusterTools/map_tools.py:216: RuntimeWarning: invalid value encountered in sin\n",
      "  arg4 = (np.sin((lon_ref-lon)*np.pi/180.0/2.0))**2\n"
     ]
    },
    {
     "name": "stdout",
     "output_type": "stream",
     "text": [
      "141/484 RXC_J0717.1-3621 109.295 -36.36 1.0838 0.032\n"
     ]
    },
    {
     "name": "stderr",
     "output_type": "stream",
     "text": [
      "/Users/adam/Project/anaconda3/envs/ctaphys/lib/python3.7/site-packages/minot/ClusterTools/map_tools.py:216: RuntimeWarning: invalid value encountered in sin\n",
      "  arg4 = (np.sin((lon_ref-lon)*np.pi/180.0/2.0))**2\n",
      "/Users/adam/Project/anaconda3/envs/ctaphys/lib/python3.7/site-packages/minot/ClusterTools/map_tools.py:216: RuntimeWarning: invalid value encountered in sin\n",
      "  arg4 = (np.sin((lon_ref-lon)*np.pi/180.0/2.0))**2\n",
      "/Users/adam/Project/anaconda3/envs/ctaphys/lib/python3.7/site-packages/minot/ClusterTools/map_tools.py:216: RuntimeWarning: invalid value encountered in sin\n",
      "  arg4 = (np.sin((lon_ref-lon)*np.pi/180.0/2.0))**2\n"
     ]
    },
    {
     "name": "stdout",
     "output_type": "stream",
     "text": [
      "142/484 RXC_J0717.4-1119 109.363 -11.331 3.1457 0.075\n"
     ]
    },
    {
     "name": "stderr",
     "output_type": "stream",
     "text": [
      "/Users/adam/Project/anaconda3/envs/ctaphys/lib/python3.7/site-packages/minot/ClusterTools/map_tools.py:216: RuntimeWarning: invalid value encountered in sin\n",
      "  arg4 = (np.sin((lon_ref-lon)*np.pi/180.0/2.0))**2\n",
      "/Users/adam/Project/anaconda3/envs/ctaphys/lib/python3.7/site-packages/minot/ClusterTools/map_tools.py:216: RuntimeWarning: invalid value encountered in sin\n",
      "  arg4 = (np.sin((lon_ref-lon)*np.pi/180.0/2.0))**2\n",
      "/Users/adam/Project/anaconda3/envs/ctaphys/lib/python3.7/site-packages/minot/ClusterTools/map_tools.py:216: RuntimeWarning: invalid value encountered in sin\n",
      "  arg4 = (np.sin((lon_ref-lon)*np.pi/180.0/2.0))**2\n"
     ]
    },
    {
     "name": "stdout",
     "output_type": "stream",
     "text": [
      "143/484 RXC_J0719.5+0043 109.894 0.719 5.2729 0.2197\n"
     ]
    },
    {
     "name": "stderr",
     "output_type": "stream",
     "text": [
      "/Users/adam/Project/anaconda3/envs/ctaphys/lib/python3.7/site-packages/minot/ClusterTools/map_tools.py:216: RuntimeWarning: invalid value encountered in sin\n",
      "  arg4 = (np.sin((lon_ref-lon)*np.pi/180.0/2.0))**2\n",
      "/Users/adam/Project/anaconda3/envs/ctaphys/lib/python3.7/site-packages/minot/ClusterTools/map_tools.py:216: RuntimeWarning: invalid value encountered in sin\n",
      "  arg4 = (np.sin((lon_ref-lon)*np.pi/180.0/2.0))**2\n",
      "/Users/adam/Project/anaconda3/envs/ctaphys/lib/python3.7/site-packages/minot/ClusterTools/map_tools.py:216: RuntimeWarning: invalid value encountered in sin\n",
      "  arg4 = (np.sin((lon_ref-lon)*np.pi/180.0/2.0))**2\n"
     ]
    },
    {
     "name": "stdout",
     "output_type": "stream",
     "text": [
      "144/484 A0576 110.343 55.786 1.681 0.0381\n"
     ]
    },
    {
     "name": "stderr",
     "output_type": "stream",
     "text": [
      "/Users/adam/Project/anaconda3/envs/ctaphys/lib/python3.7/site-packages/minot/ClusterTools/map_tools.py:216: RuntimeWarning: invalid value encountered in sin\n",
      "  arg4 = (np.sin((lon_ref-lon)*np.pi/180.0/2.0))**2\n",
      "/Users/adam/Project/anaconda3/envs/ctaphys/lib/python3.7/site-packages/minot/ClusterTools/map_tools.py:216: RuntimeWarning: invalid value encountered in sin\n",
      "  arg4 = (np.sin((lon_ref-lon)*np.pi/180.0/2.0))**2\n",
      "/Users/adam/Project/anaconda3/envs/ctaphys/lib/python3.7/site-packages/minot/ClusterTools/map_tools.py:216: RuntimeWarning: invalid value encountered in sin\n",
      "  arg4 = (np.sin((lon_ref-lon)*np.pi/180.0/2.0))**2\n"
     ]
    },
    {
     "name": "stdout",
     "output_type": "stream",
     "text": [
      "145/484 RXC_J0729.4+2436 112.37 24.606 3.6042 0.161\n"
     ]
    },
    {
     "name": "stderr",
     "output_type": "stream",
     "text": [
      "/Users/adam/Project/anaconda3/envs/ctaphys/lib/python3.7/site-packages/minot/ClusterTools/map_tools.py:216: RuntimeWarning: invalid value encountered in sin\n",
      "  arg4 = (np.sin((lon_ref-lon)*np.pi/180.0/2.0))**2\n",
      "/Users/adam/Project/anaconda3/envs/ctaphys/lib/python3.7/site-packages/minot/ClusterTools/map_tools.py:216: RuntimeWarning: invalid value encountered in sin\n",
      "  arg4 = (np.sin((lon_ref-lon)*np.pi/180.0/2.0))**2\n",
      "/Users/adam/Project/anaconda3/envs/ctaphys/lib/python3.7/site-packages/minot/ClusterTools/map_tools.py:216: RuntimeWarning: invalid value encountered in sin\n",
      "  arg4 = (np.sin((lon_ref-lon)*np.pi/180.0/2.0))**2\n"
     ]
    },
    {
     "name": "stdout",
     "output_type": "stream",
     "text": [
      "146/484 A0586 113.092 31.63 5.1975 0.171\n"
     ]
    },
    {
     "name": "stderr",
     "output_type": "stream",
     "text": [
      "/Users/adam/Project/anaconda3/envs/ctaphys/lib/python3.7/site-packages/minot/ClusterTools/map_tools.py:216: RuntimeWarning: invalid value encountered in sin\n",
      "  arg4 = (np.sin((lon_ref-lon)*np.pi/180.0/2.0))**2\n",
      "/Users/adam/Project/anaconda3/envs/ctaphys/lib/python3.7/site-packages/minot/ClusterTools/map_tools.py:216: RuntimeWarning: invalid value encountered in sin\n",
      "  arg4 = (np.sin((lon_ref-lon)*np.pi/180.0/2.0))**2\n",
      "/Users/adam/Project/anaconda3/envs/ctaphys/lib/python3.7/site-packages/minot/ClusterTools/map_tools.py:216: RuntimeWarning: invalid value encountered in sin\n",
      "  arg4 = (np.sin((lon_ref-lon)*np.pi/180.0/2.0))**2\n"
     ]
    },
    {
     "name": "stdout",
     "output_type": "stream",
     "text": [
      "147/484 RXC_J0736.4+3925 114.106 39.433 3.3105 0.1177\n"
     ]
    },
    {
     "name": "stderr",
     "output_type": "stream",
     "text": [
      "/Users/adam/Project/anaconda3/envs/ctaphys/lib/python3.7/site-packages/minot/ClusterTools/map_tools.py:216: RuntimeWarning: invalid value encountered in sin\n",
      "  arg4 = (np.sin((lon_ref-lon)*np.pi/180.0/2.0))**2\n",
      "/Users/adam/Project/anaconda3/envs/ctaphys/lib/python3.7/site-packages/minot/ClusterTools/map_tools.py:216: RuntimeWarning: invalid value encountered in sin\n",
      "  arg4 = (np.sin((lon_ref-lon)*np.pi/180.0/2.0))**2\n",
      "/Users/adam/Project/anaconda3/envs/ctaphys/lib/python3.7/site-packages/minot/ClusterTools/map_tools.py:216: RuntimeWarning: invalid value encountered in sin\n",
      "  arg4 = (np.sin((lon_ref-lon)*np.pi/180.0/2.0))**2\n"
     ]
    },
    {
     "name": "stdout",
     "output_type": "stream",
     "text": [
      "148/484 UGC_03957 115.248 55.432 1.2902 0.034\n"
     ]
    },
    {
     "name": "stderr",
     "output_type": "stream",
     "text": [
      "/Users/adam/Project/anaconda3/envs/ctaphys/lib/python3.7/site-packages/minot/ClusterTools/map_tools.py:216: RuntimeWarning: invalid value encountered in sin\n",
      "  arg4 = (np.sin((lon_ref-lon)*np.pi/180.0/2.0))**2\n",
      "/Users/adam/Project/anaconda3/envs/ctaphys/lib/python3.7/site-packages/minot/ClusterTools/map_tools.py:216: RuntimeWarning: invalid value encountered in sin\n",
      "  arg4 = (np.sin((lon_ref-lon)*np.pi/180.0/2.0))**2\n",
      "/Users/adam/Project/anaconda3/envs/ctaphys/lib/python3.7/site-packages/minot/ClusterTools/map_tools.py:216: RuntimeWarning: invalid value encountered in sin\n",
      "  arg4 = (np.sin((lon_ref-lon)*np.pi/180.0/2.0))**2\n"
     ]
    },
    {
     "name": "stdout",
     "output_type": "stream",
     "text": [
      "149/484 A0592 115.661 9.369 1.332 0.062\n"
     ]
    },
    {
     "name": "stderr",
     "output_type": "stream",
     "text": [
      "/Users/adam/Project/anaconda3/envs/ctaphys/lib/python3.7/site-packages/minot/ClusterTools/map_tools.py:216: RuntimeWarning: invalid value encountered in sin\n",
      "  arg4 = (np.sin((lon_ref-lon)*np.pi/180.0/2.0))**2\n",
      "/Users/adam/Project/anaconda3/envs/ctaphys/lib/python3.7/site-packages/minot/ClusterTools/map_tools.py:216: RuntimeWarning: invalid value encountered in sin\n",
      "  arg4 = (np.sin((lon_ref-lon)*np.pi/180.0/2.0))**2\n",
      "/Users/adam/Project/anaconda3/envs/ctaphys/lib/python3.7/site-packages/minot/ClusterTools/map_tools.py:216: RuntimeWarning: invalid value encountered in sin\n",
      "  arg4 = (np.sin((lon_ref-lon)*np.pi/180.0/2.0))**2\n"
     ]
    },
    {
     "name": "stdout",
     "output_type": "stream",
     "text": [
      "150/484 ESO_163-IG015 116.29 -54.079 2.259 0.074\n"
     ]
    },
    {
     "name": "stderr",
     "output_type": "stream",
     "text": [
      "/Users/adam/Project/anaconda3/envs/ctaphys/lib/python3.7/site-packages/minot/ClusterTools/map_tools.py:216: RuntimeWarning: invalid value encountered in sin\n",
      "  arg4 = (np.sin((lon_ref-lon)*np.pi/180.0/2.0))**2\n",
      "/Users/adam/Project/anaconda3/envs/ctaphys/lib/python3.7/site-packages/minot/ClusterTools/map_tools.py:216: RuntimeWarning: invalid value encountered in sin\n",
      "  arg4 = (np.sin((lon_ref-lon)*np.pi/180.0/2.0))**2\n",
      "/Users/adam/Project/anaconda3/envs/ctaphys/lib/python3.7/site-packages/minot/ClusterTools/map_tools.py:216: RuntimeWarning: invalid value encountered in sin\n",
      "  arg4 = (np.sin((lon_ref-lon)*np.pi/180.0/2.0))**2\n"
     ]
    },
    {
     "name": "stdout",
     "output_type": "stream",
     "text": [
      "151/484 PKS0745-19 116.885 -19.292 7.9855 0.1028\n"
     ]
    },
    {
     "name": "stderr",
     "output_type": "stream",
     "text": [
      "/Users/adam/Project/anaconda3/envs/ctaphys/lib/python3.7/site-packages/minot/ClusterTools/map_tools.py:216: RuntimeWarning: invalid value encountered in sin\n",
      "  arg4 = (np.sin((lon_ref-lon)*np.pi/180.0/2.0))**2\n",
      "/Users/adam/Project/anaconda3/envs/ctaphys/lib/python3.7/site-packages/minot/ClusterTools/map_tools.py:216: RuntimeWarning: invalid value encountered in sin\n",
      "  arg4 = (np.sin((lon_ref-lon)*np.pi/180.0/2.0))**2\n",
      "/Users/adam/Project/anaconda3/envs/ctaphys/lib/python3.7/site-packages/minot/ClusterTools/map_tools.py:216: RuntimeWarning: invalid value encountered in sin\n",
      "  arg4 = (np.sin((lon_ref-lon)*np.pi/180.0/2.0))**2\n"
     ]
    },
    {
     "name": "stdout",
     "output_type": "stream",
     "text": [
      "152/484 A0602 118.351 29.366 1.4236 0.0621\n"
     ]
    },
    {
     "name": "stderr",
     "output_type": "stream",
     "text": [
      "/Users/adam/Project/anaconda3/envs/ctaphys/lib/python3.7/site-packages/minot/ClusterTools/map_tools.py:216: RuntimeWarning: invalid value encountered in sin\n",
      "  arg4 = (np.sin((lon_ref-lon)*np.pi/180.0/2.0))**2\n",
      "/Users/adam/Project/anaconda3/envs/ctaphys/lib/python3.7/site-packages/minot/ClusterTools/map_tools.py:216: RuntimeWarning: invalid value encountered in sin\n",
      "  arg4 = (np.sin((lon_ref-lon)*np.pi/180.0/2.0))**2\n",
      "/Users/adam/Project/anaconda3/envs/ctaphys/lib/python3.7/site-packages/minot/ClusterTools/map_tools.py:216: RuntimeWarning: invalid value encountered in sin\n",
      "  arg4 = (np.sin((lon_ref-lon)*np.pi/180.0/2.0))**2\n"
     ]
    },
    {
     "name": "stdout",
     "output_type": "stream",
     "text": [
      "153/484 S606 119.444 -53.264 1.1092 0.039\n"
     ]
    },
    {
     "name": "stderr",
     "output_type": "stream",
     "text": [
      "/Users/adam/Project/anaconda3/envs/ctaphys/lib/python3.7/site-packages/minot/ClusterTools/map_tools.py:216: RuntimeWarning: invalid value encountered in sin\n",
      "  arg4 = (np.sin((lon_ref-lon)*np.pi/180.0/2.0))**2\n",
      "/Users/adam/Project/anaconda3/envs/ctaphys/lib/python3.7/site-packages/minot/ClusterTools/map_tools.py:216: RuntimeWarning: invalid value encountered in sin\n",
      "  arg4 = (np.sin((lon_ref-lon)*np.pi/180.0/2.0))**2\n",
      "/Users/adam/Project/anaconda3/envs/ctaphys/lib/python3.7/site-packages/minot/ClusterTools/map_tools.py:216: RuntimeWarning: invalid value encountered in sin\n",
      "  arg4 = (np.sin((lon_ref-lon)*np.pi/180.0/2.0))**2\n"
     ]
    },
    {
     "name": "stdout",
     "output_type": "stream",
     "text": [
      "154/484 RXC_J0757.9-2157 119.495 -21.962 1.9409 0.049\n"
     ]
    },
    {
     "name": "stderr",
     "output_type": "stream",
     "text": [
      "/Users/adam/Project/anaconda3/envs/ctaphys/lib/python3.7/site-packages/minot/ClusterTools/map_tools.py:216: RuntimeWarning: invalid value encountered in sin\n",
      "  arg4 = (np.sin((lon_ref-lon)*np.pi/180.0/2.0))**2\n",
      "/Users/adam/Project/anaconda3/envs/ctaphys/lib/python3.7/site-packages/minot/ClusterTools/map_tools.py:216: RuntimeWarning: invalid value encountered in sin\n",
      "  arg4 = (np.sin((lon_ref-lon)*np.pi/180.0/2.0))**2\n",
      "/Users/adam/Project/anaconda3/envs/ctaphys/lib/python3.7/site-packages/minot/ClusterTools/map_tools.py:216: RuntimeWarning: invalid value encountered in sin\n",
      "  arg4 = (np.sin((lon_ref-lon)*np.pi/180.0/2.0))**2\n"
     ]
    },
    {
     "name": "stdout",
     "output_type": "stream",
     "text": [
      "155/484 A0621 122.783 70.039 4.8364 0.223\n"
     ]
    },
    {
     "name": "stderr",
     "output_type": "stream",
     "text": [
      "/Users/adam/Project/anaconda3/envs/ctaphys/lib/python3.7/site-packages/minot/ClusterTools/map_tools.py:216: RuntimeWarning: invalid value encountered in sin\n",
      "  arg4 = (np.sin((lon_ref-lon)*np.pi/180.0/2.0))**2\n",
      "/Users/adam/Project/anaconda3/envs/ctaphys/lib/python3.7/site-packages/minot/ClusterTools/map_tools.py:216: RuntimeWarning: invalid value encountered in sin\n",
      "  arg4 = (np.sin((lon_ref-lon)*np.pi/180.0/2.0))**2\n",
      "/Users/adam/Project/anaconda3/envs/ctaphys/lib/python3.7/site-packages/minot/ClusterTools/map_tools.py:216: RuntimeWarning: invalid value encountered in sin\n",
      "  arg4 = (np.sin((lon_ref-lon)*np.pi/180.0/2.0))**2\n"
     ]
    },
    {
     "name": "stdout",
     "output_type": "stream",
     "text": [
      "156/484 RXC_J0812.5-5714 123.126 -57.235 2.9629 0.062\n"
     ]
    },
    {
     "name": "stderr",
     "output_type": "stream",
     "text": [
      "/Users/adam/Project/anaconda3/envs/ctaphys/lib/python3.7/site-packages/minot/ClusterTools/map_tools.py:216: RuntimeWarning: invalid value encountered in sin\n",
      "  arg4 = (np.sin((lon_ref-lon)*np.pi/180.0/2.0))**2\n",
      "/Users/adam/Project/anaconda3/envs/ctaphys/lib/python3.7/site-packages/minot/ClusterTools/map_tools.py:216: RuntimeWarning: invalid value encountered in sin\n",
      "  arg4 = (np.sin((lon_ref-lon)*np.pi/180.0/2.0))**2\n",
      "/Users/adam/Project/anaconda3/envs/ctaphys/lib/python3.7/site-packages/minot/ClusterTools/map_tools.py:216: RuntimeWarning: invalid value encountered in sin\n",
      "  arg4 = (np.sin((lon_ref-lon)*np.pi/180.0/2.0))**2\n"
     ]
    },
    {
     "name": "stdout",
     "output_type": "stream",
     "text": [
      "157/484 A0644 124.352 -7.513 3.8772 0.0704\n"
     ]
    },
    {
     "name": "stderr",
     "output_type": "stream",
     "text": [
      "/Users/adam/Project/anaconda3/envs/ctaphys/lib/python3.7/site-packages/minot/ClusterTools/map_tools.py:216: RuntimeWarning: invalid value encountered in sin\n",
      "  arg4 = (np.sin((lon_ref-lon)*np.pi/180.0/2.0))**2\n",
      "/Users/adam/Project/anaconda3/envs/ctaphys/lib/python3.7/site-packages/minot/ClusterTools/map_tools.py:216: RuntimeWarning: invalid value encountered in sin\n",
      "  arg4 = (np.sin((lon_ref-lon)*np.pi/180.0/2.0))**2\n",
      "/Users/adam/Project/anaconda3/envs/ctaphys/lib/python3.7/site-packages/minot/ClusterTools/map_tools.py:216: RuntimeWarning: invalid value encountered in sin\n",
      "  arg4 = (np.sin((lon_ref-lon)*np.pi/180.0/2.0))**2\n"
     ]
    },
    {
     "name": "stdout",
     "output_type": "stream",
     "text": [
      "158/484 RXC_J0820.9-5704 125.248 -57.08 1.6896 0.061\n"
     ]
    },
    {
     "name": "stderr",
     "output_type": "stream",
     "text": [
      "/Users/adam/Project/anaconda3/envs/ctaphys/lib/python3.7/site-packages/minot/ClusterTools/map_tools.py:216: RuntimeWarning: invalid value encountered in sin\n",
      "  arg4 = (np.sin((lon_ref-lon)*np.pi/180.0/2.0))**2\n",
      "/Users/adam/Project/anaconda3/envs/ctaphys/lib/python3.7/site-packages/minot/ClusterTools/map_tools.py:216: RuntimeWarning: invalid value encountered in sin\n",
      "  arg4 = (np.sin((lon_ref-lon)*np.pi/180.0/2.0))**2\n",
      "/Users/adam/Project/anaconda3/envs/ctaphys/lib/python3.7/site-packages/minot/ClusterTools/map_tools.py:216: RuntimeWarning: invalid value encountered in sin\n",
      "  arg4 = (np.sin((lon_ref-lon)*np.pi/180.0/2.0))**2\n"
     ]
    },
    {
     "name": "stdout",
     "output_type": "stream",
     "text": [
      "159/484 A0646 125.54 47.1 3.6508 0.1303\n"
     ]
    },
    {
     "name": "stderr",
     "output_type": "stream",
     "text": [
      "/Users/adam/Project/anaconda3/envs/ctaphys/lib/python3.7/site-packages/minot/ClusterTools/map_tools.py:216: RuntimeWarning: invalid value encountered in sin\n",
      "  arg4 = (np.sin((lon_ref-lon)*np.pi/180.0/2.0))**2\n",
      "/Users/adam/Project/anaconda3/envs/ctaphys/lib/python3.7/site-packages/minot/ClusterTools/map_tools.py:216: RuntimeWarning: invalid value encountered in sin\n",
      "  arg4 = (np.sin((lon_ref-lon)*np.pi/180.0/2.0))**2\n",
      "/Users/adam/Project/anaconda3/envs/ctaphys/lib/python3.7/site-packages/minot/ClusterTools/map_tools.py:216: RuntimeWarning: invalid value encountered in sin\n",
      "  arg4 = (np.sin((lon_ref-lon)*np.pi/180.0/2.0))**2\n"
     ]
    },
    {
     "name": "stdout",
     "output_type": "stream",
     "text": [
      "160/484 ZwCl1665 125.798 4.356 0.7315 0.0293\n"
     ]
    },
    {
     "name": "stderr",
     "output_type": "stream",
     "text": [
      "/Users/adam/Project/anaconda3/envs/ctaphys/lib/python3.7/site-packages/minot/ClusterTools/map_tools.py:216: RuntimeWarning: invalid value encountered in sin\n",
      "  arg4 = (np.sin((lon_ref-lon)*np.pi/180.0/2.0))**2\n",
      "/Users/adam/Project/anaconda3/envs/ctaphys/lib/python3.7/site-packages/minot/ClusterTools/map_tools.py:216: RuntimeWarning: invalid value encountered in sin\n",
      "  arg4 = (np.sin((lon_ref-lon)*np.pi/180.0/2.0))**2\n",
      "/Users/adam/Project/anaconda3/envs/ctaphys/lib/python3.7/site-packages/minot/ClusterTools/map_tools.py:216: RuntimeWarning: invalid value encountered in sin\n",
      "  arg4 = (np.sin((lon_ref-lon)*np.pi/180.0/2.0))**2\n"
     ]
    },
    {
     "name": "stdout",
     "output_type": "stream",
     "text": [
      "161/484 A0655 126.376 47.13 3.4839 0.1267\n"
     ]
    },
    {
     "name": "stderr",
     "output_type": "stream",
     "text": [
      "/Users/adam/Project/anaconda3/envs/ctaphys/lib/python3.7/site-packages/minot/ClusterTools/map_tools.py:216: RuntimeWarning: invalid value encountered in sin\n",
      "  arg4 = (np.sin((lon_ref-lon)*np.pi/180.0/2.0))**2\n",
      "/Users/adam/Project/anaconda3/envs/ctaphys/lib/python3.7/site-packages/minot/ClusterTools/map_tools.py:216: RuntimeWarning: invalid value encountered in sin\n",
      "  arg4 = (np.sin((lon_ref-lon)*np.pi/180.0/2.0))**2\n",
      "/Users/adam/Project/anaconda3/envs/ctaphys/lib/python3.7/site-packages/minot/ClusterTools/map_tools.py:216: RuntimeWarning: invalid value encountered in sin\n",
      "  arg4 = (np.sin((lon_ref-lon)*np.pi/180.0/2.0))**2\n"
     ]
    },
    {
     "name": "stdout",
     "output_type": "stream",
     "text": [
      "162/484 S610 126.615 -27.355 1.3115 0.041\n"
     ]
    },
    {
     "name": "stderr",
     "output_type": "stream",
     "text": [
      "/Users/adam/Project/anaconda3/envs/ctaphys/lib/python3.7/site-packages/minot/ClusterTools/map_tools.py:216: RuntimeWarning: invalid value encountered in sin\n",
      "  arg4 = (np.sin((lon_ref-lon)*np.pi/180.0/2.0))**2\n",
      "/Users/adam/Project/anaconda3/envs/ctaphys/lib/python3.7/site-packages/minot/ClusterTools/map_tools.py:216: RuntimeWarning: invalid value encountered in sin\n",
      "  arg4 = (np.sin((lon_ref-lon)*np.pi/180.0/2.0))**2\n",
      "/Users/adam/Project/anaconda3/envs/ctaphys/lib/python3.7/site-packages/minot/ClusterTools/map_tools.py:216: RuntimeWarning: invalid value encountered in sin\n",
      "  arg4 = (np.sin((lon_ref-lon)*np.pi/180.0/2.0))**2\n"
     ]
    },
    {
     "name": "stdout",
     "output_type": "stream",
     "text": [
      "163/484 A0667 127.019 44.764 3.2709 0.145\n"
     ]
    },
    {
     "name": "stderr",
     "output_type": "stream",
     "text": [
      "/Users/adam/Project/anaconda3/envs/ctaphys/lib/python3.7/site-packages/minot/ClusterTools/map_tools.py:216: RuntimeWarning: invalid value encountered in sin\n",
      "  arg4 = (np.sin((lon_ref-lon)*np.pi/180.0/2.0))**2\n",
      "/Users/adam/Project/anaconda3/envs/ctaphys/lib/python3.7/site-packages/minot/ClusterTools/map_tools.py:216: RuntimeWarning: invalid value encountered in sin\n",
      "  arg4 = (np.sin((lon_ref-lon)*np.pi/180.0/2.0))**2\n",
      "/Users/adam/Project/anaconda3/envs/ctaphys/lib/python3.7/site-packages/minot/ClusterTools/map_tools.py:216: RuntimeWarning: invalid value encountered in sin\n",
      "  arg4 = (np.sin((lon_ref-lon)*np.pi/180.0/2.0))**2\n"
     ]
    },
    {
     "name": "stdout",
     "output_type": "stream",
     "text": [
      "164/484 A0671 127.162 30.428 1.1524 0.0503\n"
     ]
    },
    {
     "name": "stderr",
     "output_type": "stream",
     "text": [
      "/Users/adam/Project/anaconda3/envs/ctaphys/lib/python3.7/site-packages/minot/ClusterTools/map_tools.py:216: RuntimeWarning: invalid value encountered in sin\n",
      "  arg4 = (np.sin((lon_ref-lon)*np.pi/180.0/2.0))**2\n",
      "/Users/adam/Project/anaconda3/envs/ctaphys/lib/python3.7/site-packages/minot/ClusterTools/map_tools.py:216: RuntimeWarning: invalid value encountered in sin\n",
      "  arg4 = (np.sin((lon_ref-lon)*np.pi/180.0/2.0))**2\n",
      "/Users/adam/Project/anaconda3/envs/ctaphys/lib/python3.7/site-packages/minot/ClusterTools/map_tools.py:216: RuntimeWarning: invalid value encountered in sin\n",
      "  arg4 = (np.sin((lon_ref-lon)*np.pi/180.0/2.0))**2\n"
     ]
    },
    {
     "name": "stdout",
     "output_type": "stream",
     "text": [
      "165/484 A0665 127.743 65.85 6.8668 0.1818\n"
     ]
    },
    {
     "name": "stderr",
     "output_type": "stream",
     "text": [
      "/Users/adam/Project/anaconda3/envs/ctaphys/lib/python3.7/site-packages/minot/ClusterTools/map_tools.py:216: RuntimeWarning: invalid value encountered in sin\n",
      "  arg4 = (np.sin((lon_ref-lon)*np.pi/180.0/2.0))**2\n",
      "/Users/adam/Project/anaconda3/envs/ctaphys/lib/python3.7/site-packages/minot/ClusterTools/map_tools.py:216: RuntimeWarning: invalid value encountered in sin\n",
      "  arg4 = (np.sin((lon_ref-lon)*np.pi/180.0/2.0))**2\n",
      "/Users/adam/Project/anaconda3/envs/ctaphys/lib/python3.7/site-packages/minot/ClusterTools/map_tools.py:216: RuntimeWarning: invalid value encountered in sin\n",
      "  arg4 = (np.sin((lon_ref-lon)*np.pi/180.0/2.0))**2\n"
     ]
    },
    {
     "name": "stdout",
     "output_type": "stream",
     "text": [
      "166/484 A0689 129.356 14.983 10.0572 0.2793\n"
     ]
    },
    {
     "name": "stderr",
     "output_type": "stream",
     "text": [
      "/Users/adam/Project/anaconda3/envs/ctaphys/lib/python3.7/site-packages/minot/ClusterTools/map_tools.py:216: RuntimeWarning: invalid value encountered in sin\n",
      "  arg4 = (np.sin((lon_ref-lon)*np.pi/180.0/2.0))**2\n",
      "/Users/adam/Project/anaconda3/envs/ctaphys/lib/python3.7/site-packages/minot/ClusterTools/map_tools.py:216: RuntimeWarning: invalid value encountered in sin\n",
      "  arg4 = (np.sin((lon_ref-lon)*np.pi/180.0/2.0))**2\n",
      "/Users/adam/Project/anaconda3/envs/ctaphys/lib/python3.7/site-packages/minot/ClusterTools/map_tools.py:216: RuntimeWarning: invalid value encountered in sin\n",
      "  arg4 = (np.sin((lon_ref-lon)*np.pi/180.0/2.0))**2\n"
     ]
    },
    {
     "name": "stdout",
     "output_type": "stream",
     "text": [
      "167/484 A3411 130.478 -17.485 4.2779 0.1687\n"
     ]
    },
    {
     "name": "stderr",
     "output_type": "stream",
     "text": [
      "/Users/adam/Project/anaconda3/envs/ctaphys/lib/python3.7/site-packages/minot/ClusterTools/map_tools.py:216: RuntimeWarning: invalid value encountered in sin\n",
      "  arg4 = (np.sin((lon_ref-lon)*np.pi/180.0/2.0))**2\n",
      "/Users/adam/Project/anaconda3/envs/ctaphys/lib/python3.7/site-packages/minot/ClusterTools/map_tools.py:216: RuntimeWarning: invalid value encountered in sin\n",
      "  arg4 = (np.sin((lon_ref-lon)*np.pi/180.0/2.0))**2\n",
      "/Users/adam/Project/anaconda3/envs/ctaphys/lib/python3.7/site-packages/minot/ClusterTools/map_tools.py:216: RuntimeWarning: invalid value encountered in sin\n",
      "  arg4 = (np.sin((lon_ref-lon)*np.pi/180.0/2.0))**2\n"
     ]
    },
    {
     "name": "stdout",
     "output_type": "stream",
     "text": [
      "168/484 A0697 130.736 36.362 7.5349 0.282\n"
     ]
    },
    {
     "name": "stderr",
     "output_type": "stream",
     "text": [
      "/Users/adam/Project/anaconda3/envs/ctaphys/lib/python3.7/site-packages/minot/ClusterTools/map_tools.py:216: RuntimeWarning: invalid value encountered in sin\n",
      "  arg4 = (np.sin((lon_ref-lon)*np.pi/180.0/2.0))**2\n",
      "/Users/adam/Project/anaconda3/envs/ctaphys/lib/python3.7/site-packages/minot/ClusterTools/map_tools.py:216: RuntimeWarning: invalid value encountered in sin\n",
      "  arg4 = (np.sin((lon_ref-lon)*np.pi/180.0/2.0))**2\n",
      "/Users/adam/Project/anaconda3/envs/ctaphys/lib/python3.7/site-packages/minot/ClusterTools/map_tools.py:216: RuntimeWarning: invalid value encountered in sin\n",
      "  arg4 = (np.sin((lon_ref-lon)*np.pi/180.0/2.0))**2\n"
     ]
    },
    {
     "name": "stdout",
     "output_type": "stream",
     "text": [
      "169/484 ZwCl2089 135.158 20.916 5.2335 0.2347\n"
     ]
    },
    {
     "name": "stderr",
     "output_type": "stream",
     "text": [
      "/Users/adam/Project/anaconda3/envs/ctaphys/lib/python3.7/site-packages/minot/ClusterTools/map_tools.py:216: RuntimeWarning: invalid value encountered in sin\n",
      "  arg4 = (np.sin((lon_ref-lon)*np.pi/180.0/2.0))**2\n",
      "/Users/adam/Project/anaconda3/envs/ctaphys/lib/python3.7/site-packages/minot/ClusterTools/map_tools.py:216: RuntimeWarning: invalid value encountered in sin\n",
      "  arg4 = (np.sin((lon_ref-lon)*np.pi/180.0/2.0))**2\n",
      "/Users/adam/Project/anaconda3/envs/ctaphys/lib/python3.7/site-packages/minot/ClusterTools/map_tools.py:216: RuntimeWarning: invalid value encountered in sin\n",
      "  arg4 = (np.sin((lon_ref-lon)*np.pi/180.0/2.0))**2\n"
     ]
    },
    {
     "name": "stdout",
     "output_type": "stream",
     "text": [
      "170/484 A0750 137.283 10.993 4.7375 0.1751\n"
     ]
    },
    {
     "name": "stderr",
     "output_type": "stream",
     "text": [
      "/Users/adam/Project/anaconda3/envs/ctaphys/lib/python3.7/site-packages/minot/ClusterTools/map_tools.py:216: RuntimeWarning: invalid value encountered in sin\n",
      "  arg4 = (np.sin((lon_ref-lon)*np.pi/180.0/2.0))**2\n",
      "/Users/adam/Project/anaconda3/envs/ctaphys/lib/python3.7/site-packages/minot/ClusterTools/map_tools.py:216: RuntimeWarning: invalid value encountered in sin\n",
      "  arg4 = (np.sin((lon_ref-lon)*np.pi/180.0/2.0))**2\n",
      "/Users/adam/Project/anaconda3/envs/ctaphys/lib/python3.7/site-packages/minot/ClusterTools/map_tools.py:216: RuntimeWarning: invalid value encountered in sin\n",
      "  arg4 = (np.sin((lon_ref-lon)*np.pi/180.0/2.0))**2\n"
     ]
    },
    {
     "name": "stdout",
     "output_type": "stream",
     "text": [
      "171/484 A0754 137.285 -9.666 4.4824 0.0542\n"
     ]
    },
    {
     "name": "stderr",
     "output_type": "stream",
     "text": [
      "/Users/adam/Project/anaconda3/envs/ctaphys/lib/python3.7/site-packages/minot/ClusterTools/map_tools.py:216: RuntimeWarning: invalid value encountered in sin\n",
      "  arg4 = (np.sin((lon_ref-lon)*np.pi/180.0/2.0))**2\n",
      "/Users/adam/Project/anaconda3/envs/ctaphys/lib/python3.7/site-packages/minot/ClusterTools/map_tools.py:216: RuntimeWarning: invalid value encountered in sin\n",
      "  arg4 = (np.sin((lon_ref-lon)*np.pi/180.0/2.0))**2\n",
      "/Users/adam/Project/anaconda3/envs/ctaphys/lib/python3.7/site-packages/minot/ClusterTools/map_tools.py:216: RuntimeWarning: invalid value encountered in sin\n",
      "  arg4 = (np.sin((lon_ref-lon)*np.pi/180.0/2.0))**2\n"
     ]
    },
    {
     "name": "stdout",
     "output_type": "stream",
     "text": [
      "172/484 A0761 137.651 -10.581 1.9936 0.0916\n"
     ]
    },
    {
     "name": "stderr",
     "output_type": "stream",
     "text": [
      "/Users/adam/Project/anaconda3/envs/ctaphys/lib/python3.7/site-packages/minot/ClusterTools/map_tools.py:216: RuntimeWarning: invalid value encountered in sin\n",
      "  arg4 = (np.sin((lon_ref-lon)*np.pi/180.0/2.0))**2\n",
      "/Users/adam/Project/anaconda3/envs/ctaphys/lib/python3.7/site-packages/minot/ClusterTools/map_tools.py:216: RuntimeWarning: invalid value encountered in sin\n",
      "  arg4 = (np.sin((lon_ref-lon)*np.pi/180.0/2.0))**2\n",
      "/Users/adam/Project/anaconda3/envs/ctaphys/lib/python3.7/site-packages/minot/ClusterTools/map_tools.py:216: RuntimeWarning: invalid value encountered in sin\n",
      "  arg4 = (np.sin((lon_ref-lon)*np.pi/180.0/2.0))**2\n"
     ]
    },
    {
     "name": "stdout",
     "output_type": "stream",
     "text": [
      "173/484 A0763 138.124 15.943 2.2769 0.0851\n"
     ]
    },
    {
     "name": "stderr",
     "output_type": "stream",
     "text": [
      "/Users/adam/Project/anaconda3/envs/ctaphys/lib/python3.7/site-packages/minot/ClusterTools/map_tools.py:216: RuntimeWarning: invalid value encountered in sin\n",
      "  arg4 = (np.sin((lon_ref-lon)*np.pi/180.0/2.0))**2\n",
      "/Users/adam/Project/anaconda3/envs/ctaphys/lib/python3.7/site-packages/minot/ClusterTools/map_tools.py:216: RuntimeWarning: invalid value encountered in sin\n",
      "  arg4 = (np.sin((lon_ref-lon)*np.pi/180.0/2.0))**2\n",
      "/Users/adam/Project/anaconda3/envs/ctaphys/lib/python3.7/site-packages/minot/ClusterTools/map_tools.py:216: RuntimeWarning: invalid value encountered in sin\n",
      "  arg4 = (np.sin((lon_ref-lon)*np.pi/180.0/2.0))**2\n"
     ]
    },
    {
     "name": "stdout",
     "output_type": "stream",
     "text": [
      "174/484 A0773 139.462 51.725 5.7894 0.2172\n"
     ]
    },
    {
     "name": "stderr",
     "output_type": "stream",
     "text": [
      "/Users/adam/Project/anaconda3/envs/ctaphys/lib/python3.7/site-packages/minot/ClusterTools/map_tools.py:216: RuntimeWarning: invalid value encountered in sin\n",
      "  arg4 = (np.sin((lon_ref-lon)*np.pi/180.0/2.0))**2\n",
      "/Users/adam/Project/anaconda3/envs/ctaphys/lib/python3.7/site-packages/minot/ClusterTools/map_tools.py:216: RuntimeWarning: invalid value encountered in sin\n",
      "  arg4 = (np.sin((lon_ref-lon)*np.pi/180.0/2.0))**2\n",
      "/Users/adam/Project/anaconda3/envs/ctaphys/lib/python3.7/site-packages/minot/ClusterTools/map_tools.py:216: RuntimeWarning: invalid value encountered in sin\n",
      "  arg4 = (np.sin((lon_ref-lon)*np.pi/180.0/2.0))**2\n"
     ]
    },
    {
     "name": "stdout",
     "output_type": "stream",
     "text": [
      "175/484 A0780 139.527 -12.093 3.6243 0.0539\n"
     ]
    },
    {
     "name": "stderr",
     "output_type": "stream",
     "text": [
      "/Users/adam/Project/anaconda3/envs/ctaphys/lib/python3.7/site-packages/minot/ClusterTools/map_tools.py:216: RuntimeWarning: invalid value encountered in sin\n",
      "  arg4 = (np.sin((lon_ref-lon)*np.pi/180.0/2.0))**2\n",
      "/Users/adam/Project/anaconda3/envs/ctaphys/lib/python3.7/site-packages/minot/ClusterTools/map_tools.py:216: RuntimeWarning: invalid value encountered in sin\n",
      "  arg4 = (np.sin((lon_ref-lon)*np.pi/180.0/2.0))**2\n",
      "/Users/adam/Project/anaconda3/envs/ctaphys/lib/python3.7/site-packages/minot/ClusterTools/map_tools.py:216: RuntimeWarning: invalid value encountered in sin\n",
      "  arg4 = (np.sin((lon_ref-lon)*np.pi/180.0/2.0))**2\n"
     ]
    },
    {
     "name": "stdout",
     "output_type": "stream",
     "text": [
      "176/484 A0795 141.024 14.168 3.8079 0.1357\n"
     ]
    },
    {
     "name": "stderr",
     "output_type": "stream",
     "text": [
      "/Users/adam/Project/anaconda3/envs/ctaphys/lib/python3.7/site-packages/minot/ClusterTools/map_tools.py:216: RuntimeWarning: invalid value encountered in sin\n",
      "  arg4 = (np.sin((lon_ref-lon)*np.pi/180.0/2.0))**2\n",
      "/Users/adam/Project/anaconda3/envs/ctaphys/lib/python3.7/site-packages/minot/ClusterTools/map_tools.py:216: RuntimeWarning: invalid value encountered in sin\n",
      "  arg4 = (np.sin((lon_ref-lon)*np.pi/180.0/2.0))**2\n",
      "/Users/adam/Project/anaconda3/envs/ctaphys/lib/python3.7/site-packages/minot/ClusterTools/map_tools.py:216: RuntimeWarning: invalid value encountered in sin\n",
      "  arg4 = (np.sin((lon_ref-lon)*np.pi/180.0/2.0))**2\n"
     ]
    },
    {
     "name": "stdout",
     "output_type": "stream",
     "text": [
      "177/484 PKS_0943-76 145.854 -76.332 4.5079 0.199\n"
     ]
    },
    {
     "name": "stderr",
     "output_type": "stream",
     "text": [
      "/Users/adam/Project/anaconda3/envs/ctaphys/lib/python3.7/site-packages/minot/ClusterTools/map_tools.py:216: RuntimeWarning: invalid value encountered in sin\n",
      "  arg4 = (np.sin((lon_ref-lon)*np.pi/180.0/2.0))**2\n",
      "/Users/adam/Project/anaconda3/envs/ctaphys/lib/python3.7/site-packages/minot/ClusterTools/map_tools.py:216: RuntimeWarning: invalid value encountered in sin\n",
      "  arg4 = (np.sin((lon_ref-lon)*np.pi/180.0/2.0))**2\n",
      "/Users/adam/Project/anaconda3/envs/ctaphys/lib/python3.7/site-packages/minot/ClusterTools/map_tools.py:216: RuntimeWarning: invalid value encountered in sin\n",
      "  arg4 = (np.sin((lon_ref-lon)*np.pi/180.0/2.0))**2\n"
     ]
    },
    {
     "name": "stdout",
     "output_type": "stream",
     "text": [
      "178/484 RXCJ0944.6-2633 146.152 -26.566 3.6917 0.1421\n"
     ]
    },
    {
     "name": "stderr",
     "output_type": "stream",
     "text": [
      "/Users/adam/Project/anaconda3/envs/ctaphys/lib/python3.7/site-packages/minot/ClusterTools/map_tools.py:216: RuntimeWarning: invalid value encountered in sin\n",
      "  arg4 = (np.sin((lon_ref-lon)*np.pi/180.0/2.0))**2\n",
      "/Users/adam/Project/anaconda3/envs/ctaphys/lib/python3.7/site-packages/minot/ClusterTools/map_tools.py:216: RuntimeWarning: invalid value encountered in sin\n",
      "  arg4 = (np.sin((lon_ref-lon)*np.pi/180.0/2.0))**2\n",
      "/Users/adam/Project/anaconda3/envs/ctaphys/lib/python3.7/site-packages/minot/ClusterTools/map_tools.py:216: RuntimeWarning: invalid value encountered in sin\n",
      "  arg4 = (np.sin((lon_ref-lon)*np.pi/180.0/2.0))**2\n"
     ]
    },
    {
     "name": "stdout",
     "output_type": "stream",
     "text": [
      "179/484 A0868 146.352 -8.654 3.3724 0.1535\n"
     ]
    },
    {
     "name": "stderr",
     "output_type": "stream",
     "text": [
      "/Users/adam/Project/anaconda3/envs/ctaphys/lib/python3.7/site-packages/minot/ClusterTools/map_tools.py:216: RuntimeWarning: invalid value encountered in sin\n",
      "  arg4 = (np.sin((lon_ref-lon)*np.pi/180.0/2.0))**2\n",
      "/Users/adam/Project/anaconda3/envs/ctaphys/lib/python3.7/site-packages/minot/ClusterTools/map_tools.py:216: RuntimeWarning: invalid value encountered in sin\n",
      "  arg4 = (np.sin((lon_ref-lon)*np.pi/180.0/2.0))**2\n",
      "/Users/adam/Project/anaconda3/envs/ctaphys/lib/python3.7/site-packages/minot/ClusterTools/map_tools.py:216: RuntimeWarning: invalid value encountered in sin\n",
      "  arg4 = (np.sin((lon_ref-lon)*np.pi/180.0/2.0))**2\n"
     ]
    },
    {
     "name": "stdout",
     "output_type": "stream",
     "text": [
      "180/484 RBS0797 146.804 76.387 8.5 0.345\n"
     ]
    },
    {
     "name": "stderr",
     "output_type": "stream",
     "text": [
      "/Users/adam/Project/anaconda3/envs/ctaphys/lib/python3.7/site-packages/minot/ClusterTools/map_tools.py:216: RuntimeWarning: invalid value encountered in sin\n",
      "  arg4 = (np.sin((lon_ref-lon)*np.pi/180.0/2.0))**2\n",
      "/Users/adam/Project/anaconda3/envs/ctaphys/lib/python3.7/site-packages/minot/ClusterTools/map_tools.py:216: RuntimeWarning: invalid value encountered in sin\n",
      "  arg4 = (np.sin((lon_ref-lon)*np.pi/180.0/2.0))**2\n",
      "/Users/adam/Project/anaconda3/envs/ctaphys/lib/python3.7/site-packages/minot/ClusterTools/map_tools.py:216: RuntimeWarning: invalid value encountered in sin\n",
      "  arg4 = (np.sin((lon_ref-lon)*np.pi/180.0/2.0))**2\n"
     ]
    },
    {
     "name": "stdout",
     "output_type": "stream",
     "text": [
      "181/484 ZwCl2701 148.198 51.891 5.2717 0.214\n"
     ]
    },
    {
     "name": "stderr",
     "output_type": "stream",
     "text": [
      "/Users/adam/Project/anaconda3/envs/ctaphys/lib/python3.7/site-packages/minot/ClusterTools/map_tools.py:216: RuntimeWarning: invalid value encountered in sin\n",
      "  arg4 = (np.sin((lon_ref-lon)*np.pi/180.0/2.0))**2\n",
      "/Users/adam/Project/anaconda3/envs/ctaphys/lib/python3.7/site-packages/minot/ClusterTools/map_tools.py:216: RuntimeWarning: invalid value encountered in sin\n",
      "  arg4 = (np.sin((lon_ref-lon)*np.pi/180.0/2.0))**2\n",
      "/Users/adam/Project/anaconda3/envs/ctaphys/lib/python3.7/site-packages/minot/ClusterTools/map_tools.py:216: RuntimeWarning: invalid value encountered in sin\n",
      "  arg4 = (np.sin((lon_ref-lon)*np.pi/180.0/2.0))**2\n"
     ]
    },
    {
     "name": "stdout",
     "output_type": "stream",
     "text": [
      "182/484 A0901 149.11 -10.07 5.2302 0.1634\n"
     ]
    },
    {
     "name": "stderr",
     "output_type": "stream",
     "text": [
      "/Users/adam/Project/anaconda3/envs/ctaphys/lib/python3.7/site-packages/minot/ClusterTools/map_tools.py:216: RuntimeWarning: invalid value encountered in sin\n",
      "  arg4 = (np.sin((lon_ref-lon)*np.pi/180.0/2.0))**2\n",
      "/Users/adam/Project/anaconda3/envs/ctaphys/lib/python3.7/site-packages/minot/ClusterTools/map_tools.py:216: RuntimeWarning: invalid value encountered in sin\n",
      "  arg4 = (np.sin((lon_ref-lon)*np.pi/180.0/2.0))**2\n",
      "/Users/adam/Project/anaconda3/envs/ctaphys/lib/python3.7/site-packages/minot/ClusterTools/map_tools.py:216: RuntimeWarning: invalid value encountered in sin\n",
      "  arg4 = (np.sin((lon_ref-lon)*np.pi/180.0/2.0))**2\n"
     ]
    },
    {
     "name": "stdout",
     "output_type": "stream",
     "text": [
      "183/484 A0907 149.592 -11.06 5.0282 0.1669\n"
     ]
    },
    {
     "name": "stderr",
     "output_type": "stream",
     "text": [
      "/Users/adam/Project/anaconda3/envs/ctaphys/lib/python3.7/site-packages/minot/ClusterTools/map_tools.py:216: RuntimeWarning: invalid value encountered in sin\n",
      "  arg4 = (np.sin((lon_ref-lon)*np.pi/180.0/2.0))**2\n",
      "/Users/adam/Project/anaconda3/envs/ctaphys/lib/python3.7/site-packages/minot/ClusterTools/map_tools.py:216: RuntimeWarning: invalid value encountered in sin\n",
      "  arg4 = (np.sin((lon_ref-lon)*np.pi/180.0/2.0))**2\n",
      "/Users/adam/Project/anaconda3/envs/ctaphys/lib/python3.7/site-packages/minot/ClusterTools/map_tools.py:216: RuntimeWarning: invalid value encountered in sin\n",
      "  arg4 = (np.sin((lon_ref-lon)*np.pi/180.0/2.0))**2\n"
     ]
    },
    {
     "name": "stdout",
     "output_type": "stream",
     "text": [
      "184/484 A0957 153.418 -0.914 1.1377 0.0445\n"
     ]
    },
    {
     "name": "stderr",
     "output_type": "stream",
     "text": [
      "/Users/adam/Project/anaconda3/envs/ctaphys/lib/python3.7/site-packages/minot/ClusterTools/map_tools.py:216: RuntimeWarning: invalid value encountered in sin\n",
      "  arg4 = (np.sin((lon_ref-lon)*np.pi/180.0/2.0))**2\n",
      "/Users/adam/Project/anaconda3/envs/ctaphys/lib/python3.7/site-packages/minot/ClusterTools/map_tools.py:216: RuntimeWarning: invalid value encountered in sin\n",
      "  arg4 = (np.sin((lon_ref-lon)*np.pi/180.0/2.0))**2\n",
      "/Users/adam/Project/anaconda3/envs/ctaphys/lib/python3.7/site-packages/minot/ClusterTools/map_tools.py:216: RuntimeWarning: invalid value encountered in sin\n",
      "  arg4 = (np.sin((lon_ref-lon)*np.pi/180.0/2.0))**2\n"
     ]
    },
    {
     "name": "stdout",
     "output_type": "stream",
     "text": [
      "185/484 A0963 154.26 39.048 4.7297 0.206\n"
     ]
    },
    {
     "name": "stderr",
     "output_type": "stream",
     "text": [
      "/Users/adam/Project/anaconda3/envs/ctaphys/lib/python3.7/site-packages/minot/ClusterTools/map_tools.py:216: RuntimeWarning: invalid value encountered in sin\n",
      "  arg4 = (np.sin((lon_ref-lon)*np.pi/180.0/2.0))**2\n",
      "/Users/adam/Project/anaconda3/envs/ctaphys/lib/python3.7/site-packages/minot/ClusterTools/map_tools.py:216: RuntimeWarning: invalid value encountered in sin\n",
      "  arg4 = (np.sin((lon_ref-lon)*np.pi/180.0/2.0))**2\n",
      "/Users/adam/Project/anaconda3/envs/ctaphys/lib/python3.7/site-packages/minot/ClusterTools/map_tools.py:216: RuntimeWarning: invalid value encountered in sin\n",
      "  arg4 = (np.sin((lon_ref-lon)*np.pi/180.0/2.0))**2\n"
     ]
    },
    {
     "name": "stdout",
     "output_type": "stream",
     "text": [
      "186/484 A0970 154.348 -10.677 1.8484 0.0586\n"
     ]
    },
    {
     "name": "stderr",
     "output_type": "stream",
     "text": [
      "/Users/adam/Project/anaconda3/envs/ctaphys/lib/python3.7/site-packages/minot/ClusterTools/map_tools.py:216: RuntimeWarning: invalid value encountered in sin\n",
      "  arg4 = (np.sin((lon_ref-lon)*np.pi/180.0/2.0))**2\n",
      "/Users/adam/Project/anaconda3/envs/ctaphys/lib/python3.7/site-packages/minot/ClusterTools/map_tools.py:216: RuntimeWarning: invalid value encountered in sin\n",
      "  arg4 = (np.sin((lon_ref-lon)*np.pi/180.0/2.0))**2\n",
      "/Users/adam/Project/anaconda3/envs/ctaphys/lib/python3.7/site-packages/minot/ClusterTools/map_tools.py:216: RuntimeWarning: invalid value encountered in sin\n",
      "  arg4 = (np.sin((lon_ref-lon)*np.pi/180.0/2.0))**2\n"
     ]
    },
    {
     "name": "stdout",
     "output_type": "stream",
     "text": [
      "187/484 A0959 154.398 59.567 7.6611 0.353\n"
     ]
    },
    {
     "name": "stderr",
     "output_type": "stream",
     "text": [
      "/Users/adam/Project/anaconda3/envs/ctaphys/lib/python3.7/site-packages/minot/ClusterTools/map_tools.py:216: RuntimeWarning: invalid value encountered in sin\n",
      "  arg4 = (np.sin((lon_ref-lon)*np.pi/180.0/2.0))**2\n",
      "/Users/adam/Project/anaconda3/envs/ctaphys/lib/python3.7/site-packages/minot/ClusterTools/map_tools.py:216: RuntimeWarning: invalid value encountered in sin\n",
      "  arg4 = (np.sin((lon_ref-lon)*np.pi/180.0/2.0))**2\n",
      "/Users/adam/Project/anaconda3/envs/ctaphys/lib/python3.7/site-packages/minot/ClusterTools/map_tools.py:216: RuntimeWarning: invalid value encountered in sin\n",
      "  arg4 = (np.sin((lon_ref-lon)*np.pi/180.0/2.0))**2\n"
     ]
    },
    {
     "name": "stdout",
     "output_type": "stream",
     "text": [
      "188/484 A0980 155.628 50.102 3.8822 0.158\n"
     ]
    },
    {
     "name": "stderr",
     "output_type": "stream",
     "text": [
      "/Users/adam/Project/anaconda3/envs/ctaphys/lib/python3.7/site-packages/minot/ClusterTools/map_tools.py:216: RuntimeWarning: invalid value encountered in sin\n",
      "  arg4 = (np.sin((lon_ref-lon)*np.pi/180.0/2.0))**2\n",
      "/Users/adam/Project/anaconda3/envs/ctaphys/lib/python3.7/site-packages/minot/ClusterTools/map_tools.py:216: RuntimeWarning: invalid value encountered in sin\n",
      "  arg4 = (np.sin((lon_ref-lon)*np.pi/180.0/2.0))**2\n",
      "/Users/adam/Project/anaconda3/envs/ctaphys/lib/python3.7/site-packages/minot/ClusterTools/map_tools.py:216: RuntimeWarning: invalid value encountered in sin\n",
      "  arg4 = (np.sin((lon_ref-lon)*np.pi/180.0/2.0))**2\n"
     ]
    },
    {
     "name": "stdout",
     "output_type": "stream",
     "text": [
      "189/484 Zw_1021.0+0426 155.912 4.187 9.7115 0.285\n"
     ]
    },
    {
     "name": "stderr",
     "output_type": "stream",
     "text": [
      "/Users/adam/Project/anaconda3/envs/ctaphys/lib/python3.7/site-packages/minot/ClusterTools/map_tools.py:216: RuntimeWarning: invalid value encountered in sin\n",
      "  arg4 = (np.sin((lon_ref-lon)*np.pi/180.0/2.0))**2\n",
      "/Users/adam/Project/anaconda3/envs/ctaphys/lib/python3.7/site-packages/minot/ClusterTools/map_tools.py:216: RuntimeWarning: invalid value encountered in sin\n",
      "  arg4 = (np.sin((lon_ref-lon)*np.pi/180.0/2.0))**2\n",
      "/Users/adam/Project/anaconda3/envs/ctaphys/lib/python3.7/site-packages/minot/ClusterTools/map_tools.py:216: RuntimeWarning: invalid value encountered in sin\n",
      "  arg4 = (np.sin((lon_ref-lon)*np.pi/180.0/2.0))**2\n"
     ]
    },
    {
     "name": "stdout",
     "output_type": "stream",
     "text": [
      "190/484 A0990 155.922 49.133 4.2256 0.144\n"
     ]
    },
    {
     "name": "stderr",
     "output_type": "stream",
     "text": [
      "/Users/adam/Project/anaconda3/envs/ctaphys/lib/python3.7/site-packages/minot/ClusterTools/map_tools.py:216: RuntimeWarning: invalid value encountered in sin\n",
      "  arg4 = (np.sin((lon_ref-lon)*np.pi/180.0/2.0))**2\n",
      "/Users/adam/Project/anaconda3/envs/ctaphys/lib/python3.7/site-packages/minot/ClusterTools/map_tools.py:216: RuntimeWarning: invalid value encountered in sin\n",
      "  arg4 = (np.sin((lon_ref-lon)*np.pi/180.0/2.0))**2\n",
      "/Users/adam/Project/anaconda3/envs/ctaphys/lib/python3.7/site-packages/minot/ClusterTools/map_tools.py:216: RuntimeWarning: invalid value encountered in sin\n",
      "  arg4 = (np.sin((lon_ref-lon)*np.pi/180.0/2.0))**2\n"
     ]
    },
    {
     "name": "stdout",
     "output_type": "stream",
     "text": [
      "191/484 A3444 155.962 -27.258 7.7124 0.2542\n"
     ]
    },
    {
     "name": "stderr",
     "output_type": "stream",
     "text": [
      "/Users/adam/Project/anaconda3/envs/ctaphys/lib/python3.7/site-packages/minot/ClusterTools/map_tools.py:216: RuntimeWarning: invalid value encountered in sin\n",
      "  arg4 = (np.sin((lon_ref-lon)*np.pi/180.0/2.0))**2\n",
      "/Users/adam/Project/anaconda3/envs/ctaphys/lib/python3.7/site-packages/minot/ClusterTools/map_tools.py:216: RuntimeWarning: invalid value encountered in sin\n",
      "  arg4 = (np.sin((lon_ref-lon)*np.pi/180.0/2.0))**2\n",
      "/Users/adam/Project/anaconda3/envs/ctaphys/lib/python3.7/site-packages/minot/ClusterTools/map_tools.py:216: RuntimeWarning: invalid value encountered in sin\n",
      "  arg4 = (np.sin((lon_ref-lon)*np.pi/180.0/2.0))**2\n"
     ]
    },
    {
     "name": "stdout",
     "output_type": "stream",
     "text": [
      "192/484 ZwCl3179 156.483 12.685 3.4836 0.1434\n"
     ]
    },
    {
     "name": "stderr",
     "output_type": "stream",
     "text": [
      "/Users/adam/Project/anaconda3/envs/ctaphys/lib/python3.7/site-packages/minot/ClusterTools/map_tools.py:216: RuntimeWarning: invalid value encountered in sin\n",
      "  arg4 = (np.sin((lon_ref-lon)*np.pi/180.0/2.0))**2\n",
      "/Users/adam/Project/anaconda3/envs/ctaphys/lib/python3.7/site-packages/minot/ClusterTools/map_tools.py:216: RuntimeWarning: invalid value encountered in sin\n",
      "  arg4 = (np.sin((lon_ref-lon)*np.pi/180.0/2.0))**2\n",
      "/Users/adam/Project/anaconda3/envs/ctaphys/lib/python3.7/site-packages/minot/ClusterTools/map_tools.py:216: RuntimeWarning: invalid value encountered in sin\n",
      "  arg4 = (np.sin((lon_ref-lon)*np.pi/180.0/2.0))**2\n"
     ]
    },
    {
     "name": "stdout",
     "output_type": "stream",
     "text": [
      "193/484 A1033 157.932 35.049 3.594 0.1259\n"
     ]
    },
    {
     "name": "stderr",
     "output_type": "stream",
     "text": [
      "/Users/adam/Project/anaconda3/envs/ctaphys/lib/python3.7/site-packages/minot/ClusterTools/map_tools.py:216: RuntimeWarning: invalid value encountered in sin\n",
      "  arg4 = (np.sin((lon_ref-lon)*np.pi/180.0/2.0))**2\n",
      "/Users/adam/Project/anaconda3/envs/ctaphys/lib/python3.7/site-packages/minot/ClusterTools/map_tools.py:216: RuntimeWarning: invalid value encountered in sin\n",
      "  arg4 = (np.sin((lon_ref-lon)*np.pi/180.0/2.0))**2\n",
      "/Users/adam/Project/anaconda3/envs/ctaphys/lib/python3.7/site-packages/minot/ClusterTools/map_tools.py:216: RuntimeWarning: invalid value encountered in sin\n",
      "  arg4 = (np.sin((lon_ref-lon)*np.pi/180.0/2.0))**2\n"
     ]
    },
    {
     "name": "stdout",
     "output_type": "stream",
     "text": [
      "194/484 A1035 158.062 40.265 1.7119 0.079\n"
     ]
    },
    {
     "name": "stderr",
     "output_type": "stream",
     "text": [
      "/Users/adam/Project/anaconda3/envs/ctaphys/lib/python3.7/site-packages/minot/ClusterTools/map_tools.py:216: RuntimeWarning: invalid value encountered in sin\n",
      "  arg4 = (np.sin((lon_ref-lon)*np.pi/180.0/2.0))**2\n",
      "/Users/adam/Project/anaconda3/envs/ctaphys/lib/python3.7/site-packages/minot/ClusterTools/map_tools.py:216: RuntimeWarning: invalid value encountered in sin\n",
      "  arg4 = (np.sin((lon_ref-lon)*np.pi/180.0/2.0))**2\n",
      "/Users/adam/Project/anaconda3/envs/ctaphys/lib/python3.7/site-packages/minot/ClusterTools/map_tools.py:216: RuntimeWarning: invalid value encountered in sin\n",
      "  arg4 = (np.sin((lon_ref-lon)*np.pi/180.0/2.0))**2\n"
     ]
    },
    {
     "name": "stdout",
     "output_type": "stream",
     "text": [
      "195/484 A1060 159.174 -27.524 0.9944 0.0126\n"
     ]
    },
    {
     "name": "stderr",
     "output_type": "stream",
     "text": [
      "/Users/adam/Project/anaconda3/envs/ctaphys/lib/python3.7/site-packages/minot/ClusterTools/map_tools.py:216: RuntimeWarning: invalid value encountered in sin\n",
      "  arg4 = (np.sin((lon_ref-lon)*np.pi/180.0/2.0))**2\n",
      "/Users/adam/Project/anaconda3/envs/ctaphys/lib/python3.7/site-packages/minot/ClusterTools/map_tools.py:216: RuntimeWarning: invalid value encountered in sin\n",
      "  arg4 = (np.sin((lon_ref-lon)*np.pi/180.0/2.0))**2\n",
      "/Users/adam/Project/anaconda3/envs/ctaphys/lib/python3.7/site-packages/minot/ClusterTools/map_tools.py:216: RuntimeWarning: invalid value encountered in sin\n",
      "  arg4 = (np.sin((lon_ref-lon)*np.pi/180.0/2.0))**2\n"
     ]
    },
    {
     "name": "stdout",
     "output_type": "stream",
     "text": [
      "196/484 A1066 159.866 5.18 1.5924 0.07\n"
     ]
    },
    {
     "name": "stderr",
     "output_type": "stream",
     "text": [
      "/Users/adam/Project/anaconda3/envs/ctaphys/lib/python3.7/site-packages/minot/ClusterTools/map_tools.py:216: RuntimeWarning: invalid value encountered in sin\n",
      "  arg4 = (np.sin((lon_ref-lon)*np.pi/180.0/2.0))**2\n",
      "/Users/adam/Project/anaconda3/envs/ctaphys/lib/python3.7/site-packages/minot/ClusterTools/map_tools.py:216: RuntimeWarning: invalid value encountered in sin\n",
      "  arg4 = (np.sin((lon_ref-lon)*np.pi/180.0/2.0))**2\n",
      "/Users/adam/Project/anaconda3/envs/ctaphys/lib/python3.7/site-packages/minot/ClusterTools/map_tools.py:216: RuntimeWarning: invalid value encountered in sin\n",
      "  arg4 = (np.sin((lon_ref-lon)*np.pi/180.0/2.0))**2\n"
     ]
    },
    {
     "name": "stdout",
     "output_type": "stream",
     "text": [
      "197/484 A1069 159.935 -8.684 1.4622 0.065\n"
     ]
    },
    {
     "name": "stderr",
     "output_type": "stream",
     "text": [
      "/Users/adam/Project/anaconda3/envs/ctaphys/lib/python3.7/site-packages/minot/ClusterTools/map_tools.py:216: RuntimeWarning: invalid value encountered in sin\n",
      "  arg4 = (np.sin((lon_ref-lon)*np.pi/180.0/2.0))**2\n",
      "/Users/adam/Project/anaconda3/envs/ctaphys/lib/python3.7/site-packages/minot/ClusterTools/map_tools.py:216: RuntimeWarning: invalid value encountered in sin\n",
      "  arg4 = (np.sin((lon_ref-lon)*np.pi/180.0/2.0))**2\n",
      "/Users/adam/Project/anaconda3/envs/ctaphys/lib/python3.7/site-packages/minot/ClusterTools/map_tools.py:216: RuntimeWarning: invalid value encountered in sin\n",
      "  arg4 = (np.sin((lon_ref-lon)*np.pi/180.0/2.0))**2\n"
     ]
    },
    {
     "name": "stdout",
     "output_type": "stream",
     "text": [
      "198/484 A1068 160.183 39.948 4.1023 0.1372\n"
     ]
    },
    {
     "name": "stderr",
     "output_type": "stream",
     "text": [
      "/Users/adam/Project/anaconda3/envs/ctaphys/lib/python3.7/site-packages/minot/ClusterTools/map_tools.py:216: RuntimeWarning: invalid value encountered in sin\n",
      "  arg4 = (np.sin((lon_ref-lon)*np.pi/180.0/2.0))**2\n",
      "/Users/adam/Project/anaconda3/envs/ctaphys/lib/python3.7/site-packages/minot/ClusterTools/map_tools.py:216: RuntimeWarning: invalid value encountered in sin\n",
      "  arg4 = (np.sin((lon_ref-lon)*np.pi/180.0/2.0))**2\n",
      "/Users/adam/Project/anaconda3/envs/ctaphys/lib/python3.7/site-packages/minot/ClusterTools/map_tools.py:216: RuntimeWarning: invalid value encountered in sin\n",
      "  arg4 = (np.sin((lon_ref-lon)*np.pi/180.0/2.0))**2\n"
     ]
    },
    {
     "name": "stdout",
     "output_type": "stream",
     "text": [
      "199/484 RXC_J1040.7-7047 160.187 -70.797 1.7603 0.061\n"
     ]
    },
    {
     "name": "stderr",
     "output_type": "stream",
     "text": [
      "/Users/adam/Project/anaconda3/envs/ctaphys/lib/python3.7/site-packages/minot/ClusterTools/map_tools.py:216: RuntimeWarning: invalid value encountered in sin\n",
      "  arg4 = (np.sin((lon_ref-lon)*np.pi/180.0/2.0))**2\n",
      "/Users/adam/Project/anaconda3/envs/ctaphys/lib/python3.7/site-packages/minot/ClusterTools/map_tools.py:216: RuntimeWarning: invalid value encountered in sin\n",
      "  arg4 = (np.sin((lon_ref-lon)*np.pi/180.0/2.0))**2\n",
      "/Users/adam/Project/anaconda3/envs/ctaphys/lib/python3.7/site-packages/minot/ClusterTools/map_tools.py:216: RuntimeWarning: invalid value encountered in sin\n",
      "  arg4 = (np.sin((lon_ref-lon)*np.pi/180.0/2.0))**2\n"
     ]
    },
    {
     "name": "stdout",
     "output_type": "stream",
     "text": [
      "200/484 A1084 161.138 -7.073 4.5308 0.1342\n"
     ]
    },
    {
     "name": "stderr",
     "output_type": "stream",
     "text": [
      "/Users/adam/Project/anaconda3/envs/ctaphys/lib/python3.7/site-packages/minot/ClusterTools/map_tools.py:216: RuntimeWarning: invalid value encountered in sin\n",
      "  arg4 = (np.sin((lon_ref-lon)*np.pi/180.0/2.0))**2\n",
      "/Users/adam/Project/anaconda3/envs/ctaphys/lib/python3.7/site-packages/minot/ClusterTools/map_tools.py:216: RuntimeWarning: invalid value encountered in sin\n",
      "  arg4 = (np.sin((lon_ref-lon)*np.pi/180.0/2.0))**2\n",
      "/Users/adam/Project/anaconda3/envs/ctaphys/lib/python3.7/site-packages/minot/ClusterTools/map_tools.py:216: RuntimeWarning: invalid value encountered in sin\n",
      "  arg4 = (np.sin((lon_ref-lon)*np.pi/180.0/2.0))**2\n"
     ]
    },
    {
     "name": "stdout",
     "output_type": "stream",
     "text": [
      "201/484 USGC_S152 162.606 -12.846 0.4109 0.0155\n"
     ]
    },
    {
     "name": "stderr",
     "output_type": "stream",
     "text": [
      "/Users/adam/Project/anaconda3/envs/ctaphys/lib/python3.7/site-packages/minot/ClusterTools/map_tools.py:216: RuntimeWarning: invalid value encountered in sin\n",
      "  arg4 = (np.sin((lon_ref-lon)*np.pi/180.0/2.0))**2\n",
      "/Users/adam/Project/anaconda3/envs/ctaphys/lib/python3.7/site-packages/minot/ClusterTools/map_tools.py:216: RuntimeWarning: invalid value encountered in sin\n",
      "  arg4 = (np.sin((lon_ref-lon)*np.pi/180.0/2.0))**2\n",
      "/Users/adam/Project/anaconda3/envs/ctaphys/lib/python3.7/site-packages/minot/ClusterTools/map_tools.py:216: RuntimeWarning: invalid value encountered in sin\n",
      "  arg4 = (np.sin((lon_ref-lon)*np.pi/180.0/2.0))**2\n"
     ]
    },
    {
     "name": "stdout",
     "output_type": "stream",
     "text": [
      "202/484 A1132 164.608 56.792 3.9904 0.1369\n"
     ]
    },
    {
     "name": "stderr",
     "output_type": "stream",
     "text": [
      "/Users/adam/Project/anaconda3/envs/ctaphys/lib/python3.7/site-packages/minot/ClusterTools/map_tools.py:216: RuntimeWarning: invalid value encountered in sin\n",
      "  arg4 = (np.sin((lon_ref-lon)*np.pi/180.0/2.0))**2\n",
      "/Users/adam/Project/anaconda3/envs/ctaphys/lib/python3.7/site-packages/minot/ClusterTools/map_tools.py:216: RuntimeWarning: invalid value encountered in sin\n",
      "  arg4 = (np.sin((lon_ref-lon)*np.pi/180.0/2.0))**2\n",
      "/Users/adam/Project/anaconda3/envs/ctaphys/lib/python3.7/site-packages/minot/ClusterTools/map_tools.py:216: RuntimeWarning: invalid value encountered in sin\n",
      "  arg4 = (np.sin((lon_ref-lon)*np.pi/180.0/2.0))**2\n"
     ]
    },
    {
     "name": "stdout",
     "output_type": "stream",
     "text": [
      "203/484 A1190 167.91 40.842 2.0112 0.0794\n"
     ]
    },
    {
     "name": "stderr",
     "output_type": "stream",
     "text": [
      "/Users/adam/Project/anaconda3/envs/ctaphys/lib/python3.7/site-packages/minot/ClusterTools/map_tools.py:216: RuntimeWarning: invalid value encountered in sin\n",
      "  arg4 = (np.sin((lon_ref-lon)*np.pi/180.0/2.0))**2\n",
      "/Users/adam/Project/anaconda3/envs/ctaphys/lib/python3.7/site-packages/minot/ClusterTools/map_tools.py:216: RuntimeWarning: invalid value encountered in sin\n",
      "  arg4 = (np.sin((lon_ref-lon)*np.pi/180.0/2.0))**2\n",
      "/Users/adam/Project/anaconda3/envs/ctaphys/lib/python3.7/site-packages/minot/ClusterTools/map_tools.py:216: RuntimeWarning: invalid value encountered in sin\n",
      "  arg4 = (np.sin((lon_ref-lon)*np.pi/180.0/2.0))**2\n"
     ]
    },
    {
     "name": "stdout",
     "output_type": "stream",
     "text": [
      "204/484 A1204 168.332 17.594 4.2492 0.1706\n"
     ]
    },
    {
     "name": "stderr",
     "output_type": "stream",
     "text": [
      "/Users/adam/Project/anaconda3/envs/ctaphys/lib/python3.7/site-packages/minot/ClusterTools/map_tools.py:216: RuntimeWarning: invalid value encountered in sin\n",
      "  arg4 = (np.sin((lon_ref-lon)*np.pi/180.0/2.0))**2\n",
      "/Users/adam/Project/anaconda3/envs/ctaphys/lib/python3.7/site-packages/minot/ClusterTools/map_tools.py:216: RuntimeWarning: invalid value encountered in sin\n",
      "  arg4 = (np.sin((lon_ref-lon)*np.pi/180.0/2.0))**2\n",
      "/Users/adam/Project/anaconda3/envs/ctaphys/lib/python3.7/site-packages/minot/ClusterTools/map_tools.py:216: RuntimeWarning: invalid value encountered in sin\n",
      "  arg4 = (np.sin((lon_ref-lon)*np.pi/180.0/2.0))**2\n"
     ]
    },
    {
     "name": "stdout",
     "output_type": "stream",
     "text": [
      "205/484 A1205 168.336 2.532 2.0432 0.078\n"
     ]
    },
    {
     "name": "stderr",
     "output_type": "stream",
     "text": [
      "/Users/adam/Project/anaconda3/envs/ctaphys/lib/python3.7/site-packages/minot/ClusterTools/map_tools.py:216: RuntimeWarning: invalid value encountered in sin\n",
      "  arg4 = (np.sin((lon_ref-lon)*np.pi/180.0/2.0))**2\n",
      "/Users/adam/Project/anaconda3/envs/ctaphys/lib/python3.7/site-packages/minot/ClusterTools/map_tools.py:216: RuntimeWarning: invalid value encountered in sin\n",
      "  arg4 = (np.sin((lon_ref-lon)*np.pi/180.0/2.0))**2\n",
      "/Users/adam/Project/anaconda3/envs/ctaphys/lib/python3.7/site-packages/minot/ClusterTools/map_tools.py:216: RuntimeWarning: invalid value encountered in sin\n",
      "  arg4 = (np.sin((lon_ref-lon)*np.pi/180.0/2.0))**2\n"
     ]
    },
    {
     "name": "stdout",
     "output_type": "stream",
     "text": [
      "206/484 MS1111.8 168.55 -38.189 3.4886 0.1306\n"
     ]
    },
    {
     "name": "stderr",
     "output_type": "stream",
     "text": [
      "/Users/adam/Project/anaconda3/envs/ctaphys/lib/python3.7/site-packages/minot/ClusterTools/map_tools.py:216: RuntimeWarning: invalid value encountered in sin\n",
      "  arg4 = (np.sin((lon_ref-lon)*np.pi/180.0/2.0))**2\n",
      "/Users/adam/Project/anaconda3/envs/ctaphys/lib/python3.7/site-packages/minot/ClusterTools/map_tools.py:216: RuntimeWarning: invalid value encountered in sin\n",
      "  arg4 = (np.sin((lon_ref-lon)*np.pi/180.0/2.0))**2\n",
      "/Users/adam/Project/anaconda3/envs/ctaphys/lib/python3.7/site-packages/minot/ClusterTools/map_tools.py:216: RuntimeWarning: invalid value encountered in sin\n",
      "  arg4 = (np.sin((lon_ref-lon)*np.pi/180.0/2.0))**2\n"
     ]
    },
    {
     "name": "stdout",
     "output_type": "stream",
     "text": [
      "207/484 RXC_J1130.0-4213 172.523 -42.23 3.4547 0.155\n"
     ]
    },
    {
     "name": "stderr",
     "output_type": "stream",
     "text": [
      "/Users/adam/Project/anaconda3/envs/ctaphys/lib/python3.7/site-packages/minot/ClusterTools/map_tools.py:216: RuntimeWarning: invalid value encountered in sin\n",
      "  arg4 = (np.sin((lon_ref-lon)*np.pi/180.0/2.0))**2\n",
      "/Users/adam/Project/anaconda3/envs/ctaphys/lib/python3.7/site-packages/minot/ClusterTools/map_tools.py:216: RuntimeWarning: invalid value encountered in sin\n",
      "  arg4 = (np.sin((lon_ref-lon)*np.pi/180.0/2.0))**2\n",
      "/Users/adam/Project/anaconda3/envs/ctaphys/lib/python3.7/site-packages/minot/ClusterTools/map_tools.py:216: RuntimeWarning: invalid value encountered in sin\n",
      "  arg4 = (np.sin((lon_ref-lon)*np.pi/180.0/2.0))**2\n"
     ]
    },
    {
     "name": "stdout",
     "output_type": "stream",
     "text": [
      "208/484 A1285 172.581 -14.583 3.4062 0.1068\n"
     ]
    },
    {
     "name": "stderr",
     "output_type": "stream",
     "text": [
      "/Users/adam/Project/anaconda3/envs/ctaphys/lib/python3.7/site-packages/minot/ClusterTools/map_tools.py:216: RuntimeWarning: invalid value encountered in sin\n",
      "  arg4 = (np.sin((lon_ref-lon)*np.pi/180.0/2.0))**2\n",
      "/Users/adam/Project/anaconda3/envs/ctaphys/lib/python3.7/site-packages/minot/ClusterTools/map_tools.py:216: RuntimeWarning: invalid value encountered in sin\n",
      "  arg4 = (np.sin((lon_ref-lon)*np.pi/180.0/2.0))**2\n",
      "/Users/adam/Project/anaconda3/envs/ctaphys/lib/python3.7/site-packages/minot/ClusterTools/map_tools.py:216: RuntimeWarning: invalid value encountered in sin\n",
      "  arg4 = (np.sin((lon_ref-lon)*np.pi/180.0/2.0))**2\n"
     ]
    },
    {
     "name": "stdout",
     "output_type": "stream",
     "text": [
      "209/484 A1300 172.985 -19.927 7.598 0.3075\n"
     ]
    },
    {
     "name": "stderr",
     "output_type": "stream",
     "text": [
      "/Users/adam/Project/anaconda3/envs/ctaphys/lib/python3.7/site-packages/minot/ClusterTools/map_tools.py:216: RuntimeWarning: invalid value encountered in sin\n",
      "  arg4 = (np.sin((lon_ref-lon)*np.pi/180.0/2.0))**2\n",
      "/Users/adam/Project/anaconda3/envs/ctaphys/lib/python3.7/site-packages/minot/ClusterTools/map_tools.py:216: RuntimeWarning: invalid value encountered in sin\n",
      "  arg4 = (np.sin((lon_ref-lon)*np.pi/180.0/2.0))**2\n",
      "/Users/adam/Project/anaconda3/envs/ctaphys/lib/python3.7/site-packages/minot/ClusterTools/map_tools.py:216: RuntimeWarning: invalid value encountered in sin\n",
      "  arg4 = (np.sin((lon_ref-lon)*np.pi/180.0/2.0))**2\n"
     ]
    },
    {
     "name": "stdout",
     "output_type": "stream",
     "text": [
      "210/484 A1307 173.221 14.469 3.0137 0.0834\n"
     ]
    },
    {
     "name": "stderr",
     "output_type": "stream",
     "text": [
      "/Users/adam/Project/anaconda3/envs/ctaphys/lib/python3.7/site-packages/minot/ClusterTools/map_tools.py:216: RuntimeWarning: invalid value encountered in sin\n",
      "  arg4 = (np.sin((lon_ref-lon)*np.pi/180.0/2.0))**2\n",
      "/Users/adam/Project/anaconda3/envs/ctaphys/lib/python3.7/site-packages/minot/ClusterTools/map_tools.py:216: RuntimeWarning: invalid value encountered in sin\n",
      "  arg4 = (np.sin((lon_ref-lon)*np.pi/180.0/2.0))**2\n",
      "/Users/adam/Project/anaconda3/envs/ctaphys/lib/python3.7/site-packages/minot/ClusterTools/map_tools.py:216: RuntimeWarning: invalid value encountered in sin\n",
      "  arg4 = (np.sin((lon_ref-lon)*np.pi/180.0/2.0))**2\n"
     ]
    },
    {
     "name": "stdout",
     "output_type": "stream",
     "text": [
      "211/484 A1348 175.351 -12.272 2.7789 0.1195\n"
     ]
    },
    {
     "name": "stderr",
     "output_type": "stream",
     "text": [
      "/Users/adam/Project/anaconda3/envs/ctaphys/lib/python3.7/site-packages/minot/ClusterTools/map_tools.py:216: RuntimeWarning: invalid value encountered in sin\n",
      "  arg4 = (np.sin((lon_ref-lon)*np.pi/180.0/2.0))**2\n",
      "/Users/adam/Project/anaconda3/envs/ctaphys/lib/python3.7/site-packages/minot/ClusterTools/map_tools.py:216: RuntimeWarning: invalid value encountered in sin\n",
      "  arg4 = (np.sin((lon_ref-lon)*np.pi/180.0/2.0))**2\n",
      "/Users/adam/Project/anaconda3/envs/ctaphys/lib/python3.7/site-packages/minot/ClusterTools/map_tools.py:216: RuntimeWarning: invalid value encountered in sin\n",
      "  arg4 = (np.sin((lon_ref-lon)*np.pi/180.0/2.0))**2\n"
     ]
    },
    {
     "name": "stdout",
     "output_type": "stream",
     "text": [
      "212/484 A1361 175.876 46.384 3.5238 0.1167\n"
     ]
    },
    {
     "name": "stderr",
     "output_type": "stream",
     "text": [
      "/Users/adam/Project/anaconda3/envs/ctaphys/lib/python3.7/site-packages/minot/ClusterTools/map_tools.py:216: RuntimeWarning: invalid value encountered in sin\n",
      "  arg4 = (np.sin((lon_ref-lon)*np.pi/180.0/2.0))**2\n",
      "/Users/adam/Project/anaconda3/envs/ctaphys/lib/python3.7/site-packages/minot/ClusterTools/map_tools.py:216: RuntimeWarning: invalid value encountered in sin\n",
      "  arg4 = (np.sin((lon_ref-lon)*np.pi/180.0/2.0))**2\n",
      "/Users/adam/Project/anaconda3/envs/ctaphys/lib/python3.7/site-packages/minot/ClusterTools/map_tools.py:216: RuntimeWarning: invalid value encountered in sin\n",
      "  arg4 = (np.sin((lon_ref-lon)*np.pi/180.0/2.0))**2\n"
     ]
    },
    {
     "name": "stdout",
     "output_type": "stream",
     "text": [
      "213/484 A1367 176.152 19.759 2.1398 0.0214\n"
     ]
    },
    {
     "name": "stderr",
     "output_type": "stream",
     "text": [
      "/Users/adam/Project/anaconda3/envs/ctaphys/lib/python3.7/site-packages/minot/ClusterTools/map_tools.py:216: RuntimeWarning: invalid value encountered in sin\n",
      "  arg4 = (np.sin((lon_ref-lon)*np.pi/180.0/2.0))**2\n",
      "/Users/adam/Project/anaconda3/envs/ctaphys/lib/python3.7/site-packages/minot/ClusterTools/map_tools.py:216: RuntimeWarning: invalid value encountered in sin\n",
      "  arg4 = (np.sin((lon_ref-lon)*np.pi/180.0/2.0))**2\n",
      "/Users/adam/Project/anaconda3/envs/ctaphys/lib/python3.7/site-packages/minot/ClusterTools/map_tools.py:216: RuntimeWarning: invalid value encountered in sin\n",
      "  arg4 = (np.sin((lon_ref-lon)*np.pi/180.0/2.0))**2\n"
     ]
    },
    {
     "name": "stdout",
     "output_type": "stream",
     "text": [
      "214/484 A3490 176.329 -34.429 1.6403 0.0697\n"
     ]
    },
    {
     "name": "stderr",
     "output_type": "stream",
     "text": [
      "/Users/adam/Project/anaconda3/envs/ctaphys/lib/python3.7/site-packages/minot/ClusterTools/map_tools.py:216: RuntimeWarning: invalid value encountered in sin\n",
      "  arg4 = (np.sin((lon_ref-lon)*np.pi/180.0/2.0))**2\n",
      "/Users/adam/Project/anaconda3/envs/ctaphys/lib/python3.7/site-packages/minot/ClusterTools/map_tools.py:216: RuntimeWarning: invalid value encountered in sin\n",
      "  arg4 = (np.sin((lon_ref-lon)*np.pi/180.0/2.0))**2\n",
      "/Users/adam/Project/anaconda3/envs/ctaphys/lib/python3.7/site-packages/minot/ClusterTools/map_tools.py:216: RuntimeWarning: invalid value encountered in sin\n",
      "  arg4 = (np.sin((lon_ref-lon)*np.pi/180.0/2.0))**2\n"
     ]
    },
    {
     "name": "stdout",
     "output_type": "stream",
     "text": [
      "215/484 RXC_J1145.6-5420 176.411 -54.341 3.984 0.155\n"
     ]
    },
    {
     "name": "stderr",
     "output_type": "stream",
     "text": [
      "/Users/adam/Project/anaconda3/envs/ctaphys/lib/python3.7/site-packages/minot/ClusterTools/map_tools.py:216: RuntimeWarning: invalid value encountered in sin\n",
      "  arg4 = (np.sin((lon_ref-lon)*np.pi/180.0/2.0))**2\n",
      "/Users/adam/Project/anaconda3/envs/ctaphys/lib/python3.7/site-packages/minot/ClusterTools/map_tools.py:216: RuntimeWarning: invalid value encountered in sin\n",
      "  arg4 = (np.sin((lon_ref-lon)*np.pi/180.0/2.0))**2\n",
      "/Users/adam/Project/anaconda3/envs/ctaphys/lib/python3.7/site-packages/minot/ClusterTools/map_tools.py:216: RuntimeWarning: invalid value encountered in sin\n",
      "  arg4 = (np.sin((lon_ref-lon)*np.pi/180.0/2.0))**2\n"
     ]
    },
    {
     "name": "stdout",
     "output_type": "stream",
     "text": [
      "216/484 A1391 177.449 -12.318 3.4057 0.1557\n"
     ]
    },
    {
     "name": "stderr",
     "output_type": "stream",
     "text": [
      "/Users/adam/Project/anaconda3/envs/ctaphys/lib/python3.7/site-packages/minot/ClusterTools/map_tools.py:216: RuntimeWarning: invalid value encountered in sin\n",
      "  arg4 = (np.sin((lon_ref-lon)*np.pi/180.0/2.0))**2\n",
      "/Users/adam/Project/anaconda3/envs/ctaphys/lib/python3.7/site-packages/minot/ClusterTools/map_tools.py:216: RuntimeWarning: invalid value encountered in sin\n",
      "  arg4 = (np.sin((lon_ref-lon)*np.pi/180.0/2.0))**2\n",
      "/Users/adam/Project/anaconda3/envs/ctaphys/lib/python3.7/site-packages/minot/ClusterTools/map_tools.py:216: RuntimeWarning: invalid value encountered in sin\n",
      "  arg4 = (np.sin((lon_ref-lon)*np.pi/180.0/2.0))**2\n"
     ]
    },
    {
     "name": "stdout",
     "output_type": "stream",
     "text": [
      "217/484 A1413 178.827 23.407 5.5454 0.1427\n"
     ]
    },
    {
     "name": "stderr",
     "output_type": "stream",
     "text": [
      "/Users/adam/Project/anaconda3/envs/ctaphys/lib/python3.7/site-packages/minot/ClusterTools/map_tools.py:216: RuntimeWarning: invalid value encountered in sin\n",
      "  arg4 = (np.sin((lon_ref-lon)*np.pi/180.0/2.0))**2\n",
      "/Users/adam/Project/anaconda3/envs/ctaphys/lib/python3.7/site-packages/minot/ClusterTools/map_tools.py:216: RuntimeWarning: invalid value encountered in sin\n",
      "  arg4 = (np.sin((lon_ref-lon)*np.pi/180.0/2.0))**2\n",
      "/Users/adam/Project/anaconda3/envs/ctaphys/lib/python3.7/site-packages/minot/ClusterTools/map_tools.py:216: RuntimeWarning: invalid value encountered in sin\n",
      "  arg4 = (np.sin((lon_ref-lon)*np.pi/180.0/2.0))**2\n"
     ]
    },
    {
     "name": "stdout",
     "output_type": "stream",
     "text": [
      "218/484 A3497 180.021 -31.406 1.5649 0.0685\n"
     ]
    },
    {
     "name": "stderr",
     "output_type": "stream",
     "text": [
      "/Users/adam/Project/anaconda3/envs/ctaphys/lib/python3.7/site-packages/minot/ClusterTools/map_tools.py:216: RuntimeWarning: invalid value encountered in sin\n",
      "  arg4 = (np.sin((lon_ref-lon)*np.pi/180.0/2.0))**2\n",
      "/Users/adam/Project/anaconda3/envs/ctaphys/lib/python3.7/site-packages/minot/ClusterTools/map_tools.py:216: RuntimeWarning: invalid value encountered in sin\n",
      "  arg4 = (np.sin((lon_ref-lon)*np.pi/180.0/2.0))**2\n",
      "/Users/adam/Project/anaconda3/envs/ctaphys/lib/python3.7/site-packages/minot/ClusterTools/map_tools.py:216: RuntimeWarning: invalid value encountered in sin\n",
      "  arg4 = (np.sin((lon_ref-lon)*np.pi/180.0/2.0))**2\n"
     ]
    },
    {
     "name": "stdout",
     "output_type": "stream",
     "text": [
      "219/484 A1437 180.106 3.334 4.1194 0.1339\n"
     ]
    },
    {
     "name": "stderr",
     "output_type": "stream",
     "text": [
      "/Users/adam/Project/anaconda3/envs/ctaphys/lib/python3.7/site-packages/minot/ClusterTools/map_tools.py:216: RuntimeWarning: invalid value encountered in sin\n",
      "  arg4 = (np.sin((lon_ref-lon)*np.pi/180.0/2.0))**2\n",
      "/Users/adam/Project/anaconda3/envs/ctaphys/lib/python3.7/site-packages/minot/ClusterTools/map_tools.py:216: RuntimeWarning: invalid value encountered in sin\n",
      "  arg4 = (np.sin((lon_ref-lon)*np.pi/180.0/2.0))**2\n",
      "/Users/adam/Project/anaconda3/envs/ctaphys/lib/python3.7/site-packages/minot/ClusterTools/map_tools.py:216: RuntimeWarning: invalid value encountered in sin\n",
      "  arg4 = (np.sin((lon_ref-lon)*np.pi/180.0/2.0))**2\n"
     ]
    },
    {
     "name": "stdout",
     "output_type": "stream",
     "text": [
      "220/484 A1451 180.821 -21.523 5.6182 0.1992\n"
     ]
    },
    {
     "name": "stderr",
     "output_type": "stream",
     "text": [
      "/Users/adam/Project/anaconda3/envs/ctaphys/lib/python3.7/site-packages/minot/ClusterTools/map_tools.py:216: RuntimeWarning: invalid value encountered in sin\n",
      "  arg4 = (np.sin((lon_ref-lon)*np.pi/180.0/2.0))**2\n",
      "/Users/adam/Project/anaconda3/envs/ctaphys/lib/python3.7/site-packages/minot/ClusterTools/map_tools.py:216: RuntimeWarning: invalid value encountered in sin\n",
      "  arg4 = (np.sin((lon_ref-lon)*np.pi/180.0/2.0))**2\n",
      "/Users/adam/Project/anaconda3/envs/ctaphys/lib/python3.7/site-packages/minot/ClusterTools/map_tools.py:216: RuntimeWarning: invalid value encountered in sin\n",
      "  arg4 = (np.sin((lon_ref-lon)*np.pi/180.0/2.0))**2\n"
     ]
    },
    {
     "name": "stdout",
     "output_type": "stream",
     "text": [
      "221/484 MKW4 181.105 1.901 0.6772 0.0199\n"
     ]
    },
    {
     "name": "stderr",
     "output_type": "stream",
     "text": [
      "/Users/adam/Project/anaconda3/envs/ctaphys/lib/python3.7/site-packages/minot/ClusterTools/map_tools.py:216: RuntimeWarning: invalid value encountered in sin\n",
      "  arg4 = (np.sin((lon_ref-lon)*np.pi/180.0/2.0))**2\n",
      "/Users/adam/Project/anaconda3/envs/ctaphys/lib/python3.7/site-packages/minot/ClusterTools/map_tools.py:216: RuntimeWarning: invalid value encountered in sin\n",
      "  arg4 = (np.sin((lon_ref-lon)*np.pi/180.0/2.0))**2\n",
      "/Users/adam/Project/anaconda3/envs/ctaphys/lib/python3.7/site-packages/minot/ClusterTools/map_tools.py:216: RuntimeWarning: invalid value encountered in sin\n",
      "  arg4 = (np.sin((lon_ref-lon)*np.pi/180.0/2.0))**2\n"
     ]
    },
    {
     "name": "stdout",
     "output_type": "stream",
     "text": [
      "222/484 RXJ1205.1+3920 181.302 39.349 1.0322 0.0381\n"
     ]
    },
    {
     "name": "stderr",
     "output_type": "stream",
     "text": [
      "/Users/adam/Project/anaconda3/envs/ctaphys/lib/python3.7/site-packages/minot/ClusterTools/map_tools.py:216: RuntimeWarning: invalid value encountered in sin\n",
      "  arg4 = (np.sin((lon_ref-lon)*np.pi/180.0/2.0))**2\n",
      "/Users/adam/Project/anaconda3/envs/ctaphys/lib/python3.7/site-packages/minot/ClusterTools/map_tools.py:216: RuntimeWarning: invalid value encountered in sin\n",
      "  arg4 = (np.sin((lon_ref-lon)*np.pi/180.0/2.0))**2\n",
      "/Users/adam/Project/anaconda3/envs/ctaphys/lib/python3.7/site-packages/minot/ClusterTools/map_tools.py:216: RuntimeWarning: invalid value encountered in sin\n",
      "  arg4 = (np.sin((lon_ref-lon)*np.pi/180.0/2.0))**2\n"
     ]
    },
    {
     "name": "stdout",
     "output_type": "stream",
     "text": [
      "223/484 ZwCl4905 182.578 5.385 1.616 0.0748\n"
     ]
    },
    {
     "name": "stderr",
     "output_type": "stream",
     "text": [
      "/Users/adam/Project/anaconda3/envs/ctaphys/lib/python3.7/site-packages/minot/ClusterTools/map_tools.py:216: RuntimeWarning: invalid value encountered in sin\n",
      "  arg4 = (np.sin((lon_ref-lon)*np.pi/180.0/2.0))**2\n",
      "/Users/adam/Project/anaconda3/envs/ctaphys/lib/python3.7/site-packages/minot/ClusterTools/map_tools.py:216: RuntimeWarning: invalid value encountered in sin\n",
      "  arg4 = (np.sin((lon_ref-lon)*np.pi/180.0/2.0))**2\n",
      "/Users/adam/Project/anaconda3/envs/ctaphys/lib/python3.7/site-packages/minot/ClusterTools/map_tools.py:216: RuntimeWarning: invalid value encountered in sin\n",
      "  arg4 = (np.sin((lon_ref-lon)*np.pi/180.0/2.0))**2\n"
     ]
    },
    {
     "name": "stdout",
     "output_type": "stream",
     "text": [
      "224/484 S0689 182.684 -46.738 0.7549 0.032\n"
     ]
    },
    {
     "name": "stderr",
     "output_type": "stream",
     "text": [
      "/Users/adam/Project/anaconda3/envs/ctaphys/lib/python3.7/site-packages/minot/ClusterTools/map_tools.py:216: RuntimeWarning: invalid value encountered in sin\n",
      "  arg4 = (np.sin((lon_ref-lon)*np.pi/180.0/2.0))**2\n",
      "/Users/adam/Project/anaconda3/envs/ctaphys/lib/python3.7/site-packages/minot/ClusterTools/map_tools.py:216: RuntimeWarning: invalid value encountered in sin\n",
      "  arg4 = (np.sin((lon_ref-lon)*np.pi/180.0/2.0))**2\n",
      "/Users/adam/Project/anaconda3/envs/ctaphys/lib/python3.7/site-packages/minot/ClusterTools/map_tools.py:216: RuntimeWarning: invalid value encountered in sin\n",
      "  arg4 = (np.sin((lon_ref-lon)*np.pi/180.0/2.0))**2\n"
     ]
    },
    {
     "name": "stdout",
     "output_type": "stream",
     "text": [
      "225/484 RXCJ1215.4-3900 183.871 -39.015 2.7267 0.119\n"
     ]
    },
    {
     "name": "stderr",
     "output_type": "stream",
     "text": [
      "/Users/adam/Project/anaconda3/envs/ctaphys/lib/python3.7/site-packages/minot/ClusterTools/map_tools.py:216: RuntimeWarning: invalid value encountered in sin\n",
      "  arg4 = (np.sin((lon_ref-lon)*np.pi/180.0/2.0))**2\n",
      "/Users/adam/Project/anaconda3/envs/ctaphys/lib/python3.7/site-packages/minot/ClusterTools/map_tools.py:216: RuntimeWarning: invalid value encountered in sin\n",
      "  arg4 = (np.sin((lon_ref-lon)*np.pi/180.0/2.0))**2\n",
      "/Users/adam/Project/anaconda3/envs/ctaphys/lib/python3.7/site-packages/minot/ClusterTools/map_tools.py:216: RuntimeWarning: invalid value encountered in sin\n",
      "  arg4 = (np.sin((lon_ref-lon)*np.pi/180.0/2.0))**2\n"
     ]
    },
    {
     "name": "stdout",
     "output_type": "stream",
     "text": [
      "226/484 Zw_1215.1+0400 184.419 3.662 3.5915 0.0766\n"
     ]
    },
    {
     "name": "stderr",
     "output_type": "stream",
     "text": [
      "/Users/adam/Project/anaconda3/envs/ctaphys/lib/python3.7/site-packages/minot/ClusterTools/map_tools.py:216: RuntimeWarning: invalid value encountered in sin\n",
      "  arg4 = (np.sin((lon_ref-lon)*np.pi/180.0/2.0))**2\n",
      "/Users/adam/Project/anaconda3/envs/ctaphys/lib/python3.7/site-packages/minot/ClusterTools/map_tools.py:216: RuntimeWarning: invalid value encountered in sin\n",
      "  arg4 = (np.sin((lon_ref-lon)*np.pi/180.0/2.0))**2\n",
      "/Users/adam/Project/anaconda3/envs/ctaphys/lib/python3.7/site-packages/minot/ClusterTools/map_tools.py:216: RuntimeWarning: invalid value encountered in sin\n",
      "  arg4 = (np.sin((lon_ref-lon)*np.pi/180.0/2.0))**2\n"
     ]
    },
    {
     "name": "stdout",
     "output_type": "stream",
     "text": [
      "227/484 A1520 184.832 -13.26 1.8728 0.0688\n"
     ]
    },
    {
     "name": "stderr",
     "output_type": "stream",
     "text": [
      "/Users/adam/Project/anaconda3/envs/ctaphys/lib/python3.7/site-packages/minot/ClusterTools/map_tools.py:216: RuntimeWarning: invalid value encountered in sin\n",
      "  arg4 = (np.sin((lon_ref-lon)*np.pi/180.0/2.0))**2\n",
      "/Users/adam/Project/anaconda3/envs/ctaphys/lib/python3.7/site-packages/minot/ClusterTools/map_tools.py:216: RuntimeWarning: invalid value encountered in sin\n",
      "  arg4 = (np.sin((lon_ref-lon)*np.pi/180.0/2.0))**2\n",
      "/Users/adam/Project/anaconda3/envs/ctaphys/lib/python3.7/site-packages/minot/ClusterTools/map_tools.py:216: RuntimeWarning: invalid value encountered in sin\n",
      "  arg4 = (np.sin((lon_ref-lon)*np.pi/180.0/2.0))**2\n"
     ]
    },
    {
     "name": "stdout",
     "output_type": "stream",
     "text": [
      "228/484 NGC_4325 185.777 10.624 0.5594 0.0258\n"
     ]
    },
    {
     "name": "stderr",
     "output_type": "stream",
     "text": [
      "/Users/adam/Project/anaconda3/envs/ctaphys/lib/python3.7/site-packages/minot/ClusterTools/map_tools.py:216: RuntimeWarning: invalid value encountered in sin\n",
      "  arg4 = (np.sin((lon_ref-lon)*np.pi/180.0/2.0))**2\n",
      "/Users/adam/Project/anaconda3/envs/ctaphys/lib/python3.7/site-packages/minot/ClusterTools/map_tools.py:216: RuntimeWarning: invalid value encountered in sin\n",
      "  arg4 = (np.sin((lon_ref-lon)*np.pi/180.0/2.0))**2\n",
      "/Users/adam/Project/anaconda3/envs/ctaphys/lib/python3.7/site-packages/minot/ClusterTools/map_tools.py:216: RuntimeWarning: invalid value encountered in sin\n",
      "  arg4 = (np.sin((lon_ref-lon)*np.pi/180.0/2.0))**2\n"
     ]
    },
    {
     "name": "stdout",
     "output_type": "stream",
     "text": [
      "229/484 A1553 187.696 10.561 4.3444 0.165\n"
     ]
    },
    {
     "name": "stderr",
     "output_type": "stream",
     "text": [
      "/Users/adam/Project/anaconda3/envs/ctaphys/lib/python3.7/site-packages/minot/ClusterTools/map_tools.py:216: RuntimeWarning: invalid value encountered in sin\n",
      "  arg4 = (np.sin((lon_ref-lon)*np.pi/180.0/2.0))**2\n",
      "/Users/adam/Project/anaconda3/envs/ctaphys/lib/python3.7/site-packages/minot/ClusterTools/map_tools.py:216: RuntimeWarning: invalid value encountered in sin\n",
      "  arg4 = (np.sin((lon_ref-lon)*np.pi/180.0/2.0))**2\n",
      "/Users/adam/Project/anaconda3/envs/ctaphys/lib/python3.7/site-packages/minot/ClusterTools/map_tools.py:216: RuntimeWarning: invalid value encountered in sin\n",
      "  arg4 = (np.sin((lon_ref-lon)*np.pi/180.0/2.0))**2\n"
     ]
    },
    {
     "name": "stdout",
     "output_type": "stream",
     "text": [
      "230/484 Virgo 187.697 12.337 1.2092 0.0036\n"
     ]
    },
    {
     "name": "stderr",
     "output_type": "stream",
     "text": [
      "/Users/adam/Project/anaconda3/envs/ctaphys/lib/python3.7/site-packages/minot/ClusterTools/map_tools.py:216: RuntimeWarning: invalid value encountered in sin\n",
      "  arg4 = (np.sin((lon_ref-lon)*np.pi/180.0/2.0))**2\n",
      "/Users/adam/Project/anaconda3/envs/ctaphys/lib/python3.7/site-packages/ebltable/tau_from_model.py:307: RuntimeWarning: Warning: a z value is below interpolation range, zmin = 0.01\n",
      "  RuntimeWarning)\n",
      "/Users/adam/Project/anaconda3/envs/ctaphys/lib/python3.7/site-packages/minot/ClusterTools/map_tools.py:216: RuntimeWarning: invalid value encountered in sin\n",
      "  arg4 = (np.sin((lon_ref-lon)*np.pi/180.0/2.0))**2\n",
      "/Users/adam/Project/anaconda3/envs/ctaphys/lib/python3.7/site-packages/ebltable/tau_from_model.py:307: RuntimeWarning: Warning: a z value is below interpolation range, zmin = 0.01\n",
      "  RuntimeWarning)\n",
      "/Users/adam/Project/anaconda3/envs/ctaphys/lib/python3.7/site-packages/minot/ClusterTools/map_tools.py:216: RuntimeWarning: invalid value encountered in sin\n",
      "  arg4 = (np.sin((lon_ref-lon)*np.pi/180.0/2.0))**2\n",
      "/Users/adam/Project/anaconda3/envs/ctaphys/lib/python3.7/site-packages/ebltable/tau_from_model.py:307: RuntimeWarning: Warning: a z value is below interpolation range, zmin = 0.01\n",
      "  RuntimeWarning)\n",
      "/Users/adam/Project/anaconda3/envs/ctaphys/lib/python3.7/site-packages/ebltable/tau_from_model.py:307: RuntimeWarning: Warning: a z value is below interpolation range, zmin = 0.01\n",
      "  RuntimeWarning)\n",
      "/Users/adam/Project/anaconda3/envs/ctaphys/lib/python3.7/site-packages/ebltable/tau_from_model.py:307: RuntimeWarning: Warning: a z value is below interpolation range, zmin = 0.01\n",
      "  RuntimeWarning)\n",
      "/Users/adam/Project/anaconda3/envs/ctaphys/lib/python3.7/site-packages/ebltable/tau_from_model.py:307: RuntimeWarning: Warning: a z value is below interpolation range, zmin = 0.01\n",
      "  RuntimeWarning)\n"
     ]
    },
    {
     "name": "stdout",
     "output_type": "stream",
     "text": [
      "231/484 RXCJ1234.2-3856 188.571 -38.943 5.2683 0.2373\n"
     ]
    },
    {
     "name": "stderr",
     "output_type": "stream",
     "text": [
      "/Users/adam/Project/anaconda3/envs/ctaphys/lib/python3.7/site-packages/minot/ClusterTools/map_tools.py:216: RuntimeWarning: invalid value encountered in sin\n",
      "  arg4 = (np.sin((lon_ref-lon)*np.pi/180.0/2.0))**2\n",
      "/Users/adam/Project/anaconda3/envs/ctaphys/lib/python3.7/site-packages/minot/ClusterTools/map_tools.py:216: RuntimeWarning: invalid value encountered in sin\n",
      "  arg4 = (np.sin((lon_ref-lon)*np.pi/180.0/2.0))**2\n",
      "/Users/adam/Project/anaconda3/envs/ctaphys/lib/python3.7/site-packages/minot/ClusterTools/map_tools.py:216: RuntimeWarning: invalid value encountered in sin\n",
      "  arg4 = (np.sin((lon_ref-lon)*np.pi/180.0/2.0))**2\n"
     ]
    },
    {
     "name": "stdout",
     "output_type": "stream",
     "text": [
      "232/484 RXC_J1240.2-4825 190.057 -48.433 4.8403 0.152\n"
     ]
    },
    {
     "name": "stderr",
     "output_type": "stream",
     "text": [
      "/Users/adam/Project/anaconda3/envs/ctaphys/lib/python3.7/site-packages/minot/ClusterTools/map_tools.py:216: RuntimeWarning: invalid value encountered in sin\n",
      "  arg4 = (np.sin((lon_ref-lon)*np.pi/180.0/2.0))**2\n",
      "/Users/adam/Project/anaconda3/envs/ctaphys/lib/python3.7/site-packages/minot/ClusterTools/map_tools.py:216: RuntimeWarning: invalid value encountered in sin\n",
      "  arg4 = (np.sin((lon_ref-lon)*np.pi/180.0/2.0))**2\n",
      "/Users/adam/Project/anaconda3/envs/ctaphys/lib/python3.7/site-packages/minot/ClusterTools/map_tools.py:216: RuntimeWarning: invalid value encountered in sin\n",
      "  arg4 = (np.sin((lon_ref-lon)*np.pi/180.0/2.0))**2\n"
     ]
    },
    {
     "name": "stdout",
     "output_type": "stream",
     "text": [
      "233/484 A1589 190.33 18.571 1.7931 0.073\n"
     ]
    },
    {
     "name": "stderr",
     "output_type": "stream",
     "text": [
      "/Users/adam/Project/anaconda3/envs/ctaphys/lib/python3.7/site-packages/minot/ClusterTools/map_tools.py:216: RuntimeWarning: invalid value encountered in sin\n",
      "  arg4 = (np.sin((lon_ref-lon)*np.pi/180.0/2.0))**2\n",
      "/Users/adam/Project/anaconda3/envs/ctaphys/lib/python3.7/site-packages/minot/ClusterTools/map_tools.py:216: RuntimeWarning: invalid value encountered in sin\n",
      "  arg4 = (np.sin((lon_ref-lon)*np.pi/180.0/2.0))**2\n",
      "/Users/adam/Project/anaconda3/envs/ctaphys/lib/python3.7/site-packages/minot/ClusterTools/map_tools.py:216: RuntimeWarning: invalid value encountered in sin\n",
      "  arg4 = (np.sin((lon_ref-lon)*np.pi/180.0/2.0))**2\n"
     ]
    },
    {
     "name": "stdout",
     "output_type": "stream",
     "text": [
      "234/484 NGC_4636 190.706 2.686 0.1231 0.0031\n"
     ]
    },
    {
     "name": "stderr",
     "output_type": "stream",
     "text": [
      "/Users/adam/Project/anaconda3/envs/ctaphys/lib/python3.7/site-packages/minot/ClusterTools/map_tools.py:216: RuntimeWarning: invalid value encountered in sin\n",
      "  arg4 = (np.sin((lon_ref-lon)*np.pi/180.0/2.0))**2\n",
      "/Users/adam/Project/anaconda3/envs/ctaphys/lib/python3.7/site-packages/ebltable/tau_from_model.py:307: RuntimeWarning: Warning: a z value is below interpolation range, zmin = 0.01\n",
      "  RuntimeWarning)\n",
      "/Users/adam/Project/anaconda3/envs/ctaphys/lib/python3.7/site-packages/minot/ClusterTools/map_tools.py:216: RuntimeWarning: invalid value encountered in sin\n",
      "  arg4 = (np.sin((lon_ref-lon)*np.pi/180.0/2.0))**2\n",
      "/Users/adam/Project/anaconda3/envs/ctaphys/lib/python3.7/site-packages/ebltable/tau_from_model.py:307: RuntimeWarning: Warning: a z value is below interpolation range, zmin = 0.01\n",
      "  RuntimeWarning)\n",
      "/Users/adam/Project/anaconda3/envs/ctaphys/lib/python3.7/site-packages/minot/ClusterTools/map_tools.py:216: RuntimeWarning: invalid value encountered in sin\n",
      "  arg4 = (np.sin((lon_ref-lon)*np.pi/180.0/2.0))**2\n",
      "/Users/adam/Project/anaconda3/envs/ctaphys/lib/python3.7/site-packages/ebltable/tau_from_model.py:307: RuntimeWarning: Warning: a z value is below interpolation range, zmin = 0.01\n",
      "  RuntimeWarning)\n",
      "/Users/adam/Project/anaconda3/envs/ctaphys/lib/python3.7/site-packages/ebltable/tau_from_model.py:307: RuntimeWarning: Warning: a z value is below interpolation range, zmin = 0.01\n",
      "  RuntimeWarning)\n",
      "/Users/adam/Project/anaconda3/envs/ctaphys/lib/python3.7/site-packages/ebltable/tau_from_model.py:307: RuntimeWarning: Warning: a z value is below interpolation range, zmin = 0.01\n",
      "  RuntimeWarning)\n",
      "/Users/adam/Project/anaconda3/envs/ctaphys/lib/python3.7/site-packages/ebltable/tau_from_model.py:307: RuntimeWarning: Warning: a z value is below interpolation range, zmin = 0.01\n",
      "  RuntimeWarning)\n"
     ]
    },
    {
     "name": "stdout",
     "output_type": "stream",
     "text": [
      "235/484 A1606 191.158 -11.985 2.3246 0.0963\n"
     ]
    },
    {
     "name": "stderr",
     "output_type": "stream",
     "text": [
      "/Users/adam/Project/anaconda3/envs/ctaphys/lib/python3.7/site-packages/minot/ClusterTools/map_tools.py:216: RuntimeWarning: invalid value encountered in sin\n",
      "  arg4 = (np.sin((lon_ref-lon)*np.pi/180.0/2.0))**2\n",
      "/Users/adam/Project/anaconda3/envs/ctaphys/lib/python3.7/site-packages/minot/ClusterTools/map_tools.py:216: RuntimeWarning: invalid value encountered in sin\n",
      "  arg4 = (np.sin((lon_ref-lon)*np.pi/180.0/2.0))**2\n",
      "/Users/adam/Project/anaconda3/envs/ctaphys/lib/python3.7/site-packages/minot/ClusterTools/map_tools.py:216: RuntimeWarning: invalid value encountered in sin\n",
      "  arg4 = (np.sin((lon_ref-lon)*np.pi/180.0/2.0))**2\n"
     ]
    },
    {
     "name": "stdout",
     "output_type": "stream",
     "text": [
      "236/484 A3526 192.2 -41.308 1.6218 0.0114\n"
     ]
    },
    {
     "name": "stderr",
     "output_type": "stream",
     "text": [
      "/Users/adam/Project/anaconda3/envs/ctaphys/lib/python3.7/site-packages/minot/ClusterTools/map_tools.py:216: RuntimeWarning: invalid value encountered in sin\n",
      "  arg4 = (np.sin((lon_ref-lon)*np.pi/180.0/2.0))**2\n",
      "/Users/adam/Project/anaconda3/envs/ctaphys/lib/python3.7/site-packages/minot/ClusterTools/map_tools.py:216: RuntimeWarning: invalid value encountered in sin\n",
      "  arg4 = (np.sin((lon_ref-lon)*np.pi/180.0/2.0))**2\n",
      "/Users/adam/Project/anaconda3/envs/ctaphys/lib/python3.7/site-packages/minot/ClusterTools/map_tools.py:216: RuntimeWarning: invalid value encountered in sin\n",
      "  arg4 = (np.sin((lon_ref-lon)*np.pi/180.0/2.0))**2\n"
     ]
    },
    {
     "name": "stdout",
     "output_type": "stream",
     "text": [
      "237/484 RXCJ1252.5-3116 193.142 -31.268 1.8872 0.0535\n"
     ]
    },
    {
     "name": "stderr",
     "output_type": "stream",
     "text": [
      "/Users/adam/Project/anaconda3/envs/ctaphys/lib/python3.7/site-packages/minot/ClusterTools/map_tools.py:216: RuntimeWarning: invalid value encountered in sin\n",
      "  arg4 = (np.sin((lon_ref-lon)*np.pi/180.0/2.0))**2\n",
      "/Users/adam/Project/anaconda3/envs/ctaphys/lib/python3.7/site-packages/minot/ClusterTools/map_tools.py:216: RuntimeWarning: invalid value encountered in sin\n",
      "  arg4 = (np.sin((lon_ref-lon)*np.pi/180.0/2.0))**2\n",
      "/Users/adam/Project/anaconda3/envs/ctaphys/lib/python3.7/site-packages/minot/ClusterTools/map_tools.py:216: RuntimeWarning: invalid value encountered in sin\n",
      "  arg4 = (np.sin((lon_ref-lon)*np.pi/180.0/2.0))**2\n"
     ]
    },
    {
     "name": "stdout",
     "output_type": "stream",
     "text": [
      "238/484 A1631 193.31 -15.38 0.9838 0.0462\n"
     ]
    },
    {
     "name": "stderr",
     "output_type": "stream",
     "text": [
      "/Users/adam/Project/anaconda3/envs/ctaphys/lib/python3.7/site-packages/minot/ClusterTools/map_tools.py:216: RuntimeWarning: invalid value encountered in sin\n",
      "  arg4 = (np.sin((lon_ref-lon)*np.pi/180.0/2.0))**2\n",
      "/Users/adam/Project/anaconda3/envs/ctaphys/lib/python3.7/site-packages/minot/ClusterTools/map_tools.py:216: RuntimeWarning: invalid value encountered in sin\n",
      "  arg4 = (np.sin((lon_ref-lon)*np.pi/180.0/2.0))**2\n",
      "/Users/adam/Project/anaconda3/envs/ctaphys/lib/python3.7/site-packages/minot/ClusterTools/map_tools.py:216: RuntimeWarning: invalid value encountered in sin\n",
      "  arg4 = (np.sin((lon_ref-lon)*np.pi/180.0/2.0))**2\n"
     ]
    },
    {
     "name": "stdout",
     "output_type": "stream",
     "text": [
      "239/484 RXCJ1253.6-3931 193.421 -39.532 6.9838 0.1794\n"
     ]
    },
    {
     "name": "stderr",
     "output_type": "stream",
     "text": [
      "/Users/adam/Project/anaconda3/envs/ctaphys/lib/python3.7/site-packages/minot/ClusterTools/map_tools.py:216: RuntimeWarning: invalid value encountered in sin\n",
      "  arg4 = (np.sin((lon_ref-lon)*np.pi/180.0/2.0))**2\n",
      "/Users/adam/Project/anaconda3/envs/ctaphys/lib/python3.7/site-packages/minot/ClusterTools/map_tools.py:216: RuntimeWarning: invalid value encountered in sin\n",
      "  arg4 = (np.sin((lon_ref-lon)*np.pi/180.0/2.0))**2\n",
      "/Users/adam/Project/anaconda3/envs/ctaphys/lib/python3.7/site-packages/minot/ClusterTools/map_tools.py:216: RuntimeWarning: invalid value encountered in sin\n",
      "  arg4 = (np.sin((lon_ref-lon)*np.pi/180.0/2.0))**2\n"
     ]
    },
    {
     "name": "stdout",
     "output_type": "stream",
     "text": [
      "240/484 A3528N 193.598 -29.023 1.5435 0.0542\n"
     ]
    },
    {
     "name": "stderr",
     "output_type": "stream",
     "text": [
      "/Users/adam/Project/anaconda3/envs/ctaphys/lib/python3.7/site-packages/minot/ClusterTools/map_tools.py:216: RuntimeWarning: invalid value encountered in sin\n",
      "  arg4 = (np.sin((lon_ref-lon)*np.pi/180.0/2.0))**2\n",
      "/Users/adam/Project/anaconda3/envs/ctaphys/lib/python3.7/site-packages/minot/ClusterTools/map_tools.py:216: RuntimeWarning: invalid value encountered in sin\n",
      "  arg4 = (np.sin((lon_ref-lon)*np.pi/180.0/2.0))**2\n",
      "/Users/adam/Project/anaconda3/envs/ctaphys/lib/python3.7/site-packages/minot/ClusterTools/map_tools.py:216: RuntimeWarning: invalid value encountered in sin\n",
      "  arg4 = (np.sin((lon_ref-lon)*np.pi/180.0/2.0))**2\n"
     ]
    },
    {
     "name": "stdout",
     "output_type": "stream",
     "text": [
      "241/484 A3528S 193.673 -29.223 2.0799 0.0544\n"
     ]
    },
    {
     "name": "stderr",
     "output_type": "stream",
     "text": [
      "/Users/adam/Project/anaconda3/envs/ctaphys/lib/python3.7/site-packages/minot/ClusterTools/map_tools.py:216: RuntimeWarning: invalid value encountered in sin\n",
      "  arg4 = (np.sin((lon_ref-lon)*np.pi/180.0/2.0))**2\n",
      "/Users/adam/Project/anaconda3/envs/ctaphys/lib/python3.7/site-packages/minot/ClusterTools/map_tools.py:216: RuntimeWarning: invalid value encountered in sin\n",
      "  arg4 = (np.sin((lon_ref-lon)*np.pi/180.0/2.0))**2\n",
      "/Users/adam/Project/anaconda3/envs/ctaphys/lib/python3.7/site-packages/minot/ClusterTools/map_tools.py:216: RuntimeWarning: invalid value encountered in sin\n",
      "  arg4 = (np.sin((lon_ref-lon)*np.pi/180.0/2.0))**2\n"
     ]
    },
    {
     "name": "stdout",
     "output_type": "stream",
     "text": [
      "242/484 A3530 193.894 -30.33 1.5583 0.0541\n"
     ]
    },
    {
     "name": "stderr",
     "output_type": "stream",
     "text": [
      "/Users/adam/Project/anaconda3/envs/ctaphys/lib/python3.7/site-packages/minot/ClusterTools/map_tools.py:216: RuntimeWarning: invalid value encountered in sin\n",
      "  arg4 = (np.sin((lon_ref-lon)*np.pi/180.0/2.0))**2\n",
      "/Users/adam/Project/anaconda3/envs/ctaphys/lib/python3.7/site-packages/minot/ClusterTools/map_tools.py:216: RuntimeWarning: invalid value encountered in sin\n",
      "  arg4 = (np.sin((lon_ref-lon)*np.pi/180.0/2.0))**2\n",
      "/Users/adam/Project/anaconda3/envs/ctaphys/lib/python3.7/site-packages/minot/ClusterTools/map_tools.py:216: RuntimeWarning: invalid value encountered in sin\n",
      "  arg4 = (np.sin((lon_ref-lon)*np.pi/180.0/2.0))**2\n"
     ]
    },
    {
     "name": "stdout",
     "output_type": "stream",
     "text": [
      "243/484 A1644 194.291 -17.4 2.9254 0.0473\n"
     ]
    },
    {
     "name": "stderr",
     "output_type": "stream",
     "text": [
      "/Users/adam/Project/anaconda3/envs/ctaphys/lib/python3.7/site-packages/minot/ClusterTools/map_tools.py:216: RuntimeWarning: invalid value encountered in sin\n",
      "  arg4 = (np.sin((lon_ref-lon)*np.pi/180.0/2.0))**2\n",
      "/Users/adam/Project/anaconda3/envs/ctaphys/lib/python3.7/site-packages/minot/ClusterTools/map_tools.py:216: RuntimeWarning: invalid value encountered in sin\n",
      "  arg4 = (np.sin((lon_ref-lon)*np.pi/180.0/2.0))**2\n",
      "/Users/adam/Project/anaconda3/envs/ctaphys/lib/python3.7/site-packages/minot/ClusterTools/map_tools.py:216: RuntimeWarning: invalid value encountered in sin\n",
      "  arg4 = (np.sin((lon_ref-lon)*np.pi/180.0/2.0))**2\n"
     ]
    },
    {
     "name": "stdout",
     "output_type": "stream",
     "text": [
      "244/484 A3532 194.32 -30.377 2.3354 0.0554\n"
     ]
    },
    {
     "name": "stderr",
     "output_type": "stream",
     "text": [
      "/Users/adam/Project/anaconda3/envs/ctaphys/lib/python3.7/site-packages/minot/ClusterTools/map_tools.py:216: RuntimeWarning: invalid value encountered in sin\n",
      "  arg4 = (np.sin((lon_ref-lon)*np.pi/180.0/2.0))**2\n",
      "/Users/adam/Project/anaconda3/envs/ctaphys/lib/python3.7/site-packages/minot/ClusterTools/map_tools.py:216: RuntimeWarning: invalid value encountered in sin\n",
      "  arg4 = (np.sin((lon_ref-lon)*np.pi/180.0/2.0))**2\n",
      "/Users/adam/Project/anaconda3/envs/ctaphys/lib/python3.7/site-packages/minot/ClusterTools/map_tools.py:216: RuntimeWarning: invalid value encountered in sin\n",
      "  arg4 = (np.sin((lon_ref-lon)*np.pi/180.0/2.0))**2\n"
     ]
    },
    {
     "name": "stdout",
     "output_type": "stream",
     "text": [
      "245/484 A1650 194.671 -1.757 4.1213 0.0845\n"
     ]
    },
    {
     "name": "stderr",
     "output_type": "stream",
     "text": [
      "/Users/adam/Project/anaconda3/envs/ctaphys/lib/python3.7/site-packages/minot/ClusterTools/map_tools.py:216: RuntimeWarning: invalid value encountered in sin\n",
      "  arg4 = (np.sin((lon_ref-lon)*np.pi/180.0/2.0))**2\n",
      "/Users/adam/Project/anaconda3/envs/ctaphys/lib/python3.7/site-packages/minot/ClusterTools/map_tools.py:216: RuntimeWarning: invalid value encountered in sin\n",
      "  arg4 = (np.sin((lon_ref-lon)*np.pi/180.0/2.0))**2\n",
      "/Users/adam/Project/anaconda3/envs/ctaphys/lib/python3.7/site-packages/minot/ClusterTools/map_tools.py:216: RuntimeWarning: invalid value encountered in sin\n",
      "  arg4 = (np.sin((lon_ref-lon)*np.pi/180.0/2.0))**2\n"
     ]
    },
    {
     "name": "stdout",
     "output_type": "stream",
     "text": [
      "246/484 A1651 194.839 -4.195 4.3928 0.0845\n"
     ]
    },
    {
     "name": "stderr",
     "output_type": "stream",
     "text": [
      "/Users/adam/Project/anaconda3/envs/ctaphys/lib/python3.7/site-packages/minot/ClusterTools/map_tools.py:216: RuntimeWarning: invalid value encountered in sin\n",
      "  arg4 = (np.sin((lon_ref-lon)*np.pi/180.0/2.0))**2\n",
      "/Users/adam/Project/anaconda3/envs/ctaphys/lib/python3.7/site-packages/minot/ClusterTools/map_tools.py:216: RuntimeWarning: invalid value encountered in sin\n",
      "  arg4 = (np.sin((lon_ref-lon)*np.pi/180.0/2.0))**2\n",
      "/Users/adam/Project/anaconda3/envs/ctaphys/lib/python3.7/site-packages/minot/ClusterTools/map_tools.py:216: RuntimeWarning: invalid value encountered in sin\n",
      "  arg4 = (np.sin((lon_ref-lon)*np.pi/180.0/2.0))**2\n"
     ]
    },
    {
     "name": "stdout",
     "output_type": "stream",
     "text": [
      "247/484 Coma 194.929 27.939 4.2846 0.0231\n"
     ]
    },
    {
     "name": "stderr",
     "output_type": "stream",
     "text": [
      "/Users/adam/Project/anaconda3/envs/ctaphys/lib/python3.7/site-packages/minot/ClusterTools/map_tools.py:216: RuntimeWarning: invalid value encountered in sin\n",
      "  arg4 = (np.sin((lon_ref-lon)*np.pi/180.0/2.0))**2\n",
      "/Users/adam/Project/anaconda3/envs/ctaphys/lib/python3.7/site-packages/minot/ClusterTools/map_tools.py:216: RuntimeWarning: invalid value encountered in sin\n",
      "  arg4 = (np.sin((lon_ref-lon)*np.pi/180.0/2.0))**2\n",
      "/Users/adam/Project/anaconda3/envs/ctaphys/lib/python3.7/site-packages/minot/ClusterTools/map_tools.py:216: RuntimeWarning: invalid value encountered in sin\n",
      "  arg4 = (np.sin((lon_ref-lon)*np.pi/180.0/2.0))**2\n"
     ]
    },
    {
     "name": "stdout",
     "output_type": "stream",
     "text": [
      "248/484 A3541 195.934 -24.251 4.0606 0.1288\n"
     ]
    },
    {
     "name": "stderr",
     "output_type": "stream",
     "text": [
      "/Users/adam/Project/anaconda3/envs/ctaphys/lib/python3.7/site-packages/minot/ClusterTools/map_tools.py:216: RuntimeWarning: invalid value encountered in sin\n",
      "  arg4 = (np.sin((lon_ref-lon)*np.pi/180.0/2.0))**2\n",
      "/Users/adam/Project/anaconda3/envs/ctaphys/lib/python3.7/site-packages/minot/ClusterTools/map_tools.py:216: RuntimeWarning: invalid value encountered in sin\n",
      "  arg4 = (np.sin((lon_ref-lon)*np.pi/180.0/2.0))**2\n",
      "/Users/adam/Project/anaconda3/envs/ctaphys/lib/python3.7/site-packages/minot/ClusterTools/map_tools.py:216: RuntimeWarning: invalid value encountered in sin\n",
      "  arg4 = (np.sin((lon_ref-lon)*np.pi/180.0/2.0))**2\n"
     ]
    },
    {
     "name": "stdout",
     "output_type": "stream",
     "text": [
      "249/484 A1668 195.94 19.271 1.8814 0.0643\n"
     ]
    },
    {
     "name": "stderr",
     "output_type": "stream",
     "text": [
      "/Users/adam/Project/anaconda3/envs/ctaphys/lib/python3.7/site-packages/minot/ClusterTools/map_tools.py:216: RuntimeWarning: invalid value encountered in sin\n",
      "  arg4 = (np.sin((lon_ref-lon)*np.pi/180.0/2.0))**2\n",
      "/Users/adam/Project/anaconda3/envs/ctaphys/lib/python3.7/site-packages/minot/ClusterTools/map_tools.py:216: RuntimeWarning: invalid value encountered in sin\n",
      "  arg4 = (np.sin((lon_ref-lon)*np.pi/180.0/2.0))**2\n",
      "/Users/adam/Project/anaconda3/envs/ctaphys/lib/python3.7/site-packages/minot/ClusterTools/map_tools.py:216: RuntimeWarning: invalid value encountered in sin\n",
      "  arg4 = (np.sin((lon_ref-lon)*np.pi/180.0/2.0))**2\n"
     ]
    },
    {
     "name": "stdout",
     "output_type": "stream",
     "text": [
      "250/484 S0721 196.477 -37.661 1.2242 0.0497\n"
     ]
    },
    {
     "name": "stderr",
     "output_type": "stream",
     "text": [
      "/Users/adam/Project/anaconda3/envs/ctaphys/lib/python3.7/site-packages/minot/ClusterTools/map_tools.py:216: RuntimeWarning: invalid value encountered in sin\n",
      "  arg4 = (np.sin((lon_ref-lon)*np.pi/180.0/2.0))**2\n",
      "/Users/adam/Project/anaconda3/envs/ctaphys/lib/python3.7/site-packages/minot/ClusterTools/map_tools.py:216: RuntimeWarning: invalid value encountered in sin\n",
      "  arg4 = (np.sin((lon_ref-lon)*np.pi/180.0/2.0))**2\n",
      "/Users/adam/Project/anaconda3/envs/ctaphys/lib/python3.7/site-packages/minot/ClusterTools/map_tools.py:216: RuntimeWarning: invalid value encountered in sin\n",
      "  arg4 = (np.sin((lon_ref-lon)*np.pi/180.0/2.0))**2\n"
     ]
    },
    {
     "name": "stdout",
     "output_type": "stream",
     "text": [
      "251/484 A1689 197.875 -1.335 8.392 0.1832\n"
     ]
    },
    {
     "name": "stderr",
     "output_type": "stream",
     "text": [
      "/Users/adam/Project/anaconda3/envs/ctaphys/lib/python3.7/site-packages/minot/ClusterTools/map_tools.py:216: RuntimeWarning: invalid value encountered in sin\n",
      "  arg4 = (np.sin((lon_ref-lon)*np.pi/180.0/2.0))**2\n",
      "/Users/adam/Project/anaconda3/envs/ctaphys/lib/python3.7/site-packages/minot/ClusterTools/map_tools.py:216: RuntimeWarning: invalid value encountered in sin\n",
      "  arg4 = (np.sin((lon_ref-lon)*np.pi/180.0/2.0))**2\n",
      "/Users/adam/Project/anaconda3/envs/ctaphys/lib/python3.7/site-packages/minot/ClusterTools/map_tools.py:216: RuntimeWarning: invalid value encountered in sin\n",
      "  arg4 = (np.sin((lon_ref-lon)*np.pi/180.0/2.0))**2\n"
     ]
    },
    {
     "name": "stdout",
     "output_type": "stream",
     "text": [
      "252/484 RXCJ1314.4-2515 198.617 -25.261 6.9392 0.2439\n"
     ]
    },
    {
     "name": "stderr",
     "output_type": "stream",
     "text": [
      "/Users/adam/Project/anaconda3/envs/ctaphys/lib/python3.7/site-packages/minot/ClusterTools/map_tools.py:216: RuntimeWarning: invalid value encountered in sin\n",
      "  arg4 = (np.sin((lon_ref-lon)*np.pi/180.0/2.0))**2\n",
      "/Users/adam/Project/anaconda3/envs/ctaphys/lib/python3.7/site-packages/minot/ClusterTools/map_tools.py:216: RuntimeWarning: invalid value encountered in sin\n",
      "  arg4 = (np.sin((lon_ref-lon)*np.pi/180.0/2.0))**2\n",
      "/Users/adam/Project/anaconda3/envs/ctaphys/lib/python3.7/site-packages/minot/ClusterTools/map_tools.py:216: RuntimeWarning: invalid value encountered in sin\n",
      "  arg4 = (np.sin((lon_ref-lon)*np.pi/180.0/2.0))**2\n"
     ]
    },
    {
     "name": "stdout",
     "output_type": "stream",
     "text": [
      "253/484 NGC_5044 198.85 -16.39 0.5144 0.0087\n"
     ]
    },
    {
     "name": "stderr",
     "output_type": "stream",
     "text": [
      "/Users/adam/Project/anaconda3/envs/ctaphys/lib/python3.7/site-packages/minot/ClusterTools/map_tools.py:216: RuntimeWarning: invalid value encountered in sin\n",
      "  arg4 = (np.sin((lon_ref-lon)*np.pi/180.0/2.0))**2\n",
      "/Users/adam/Project/anaconda3/envs/ctaphys/lib/python3.7/site-packages/ebltable/tau_from_model.py:307: RuntimeWarning: Warning: a z value is below interpolation range, zmin = 0.01\n",
      "  RuntimeWarning)\n",
      "/Users/adam/Project/anaconda3/envs/ctaphys/lib/python3.7/site-packages/minot/ClusterTools/map_tools.py:216: RuntimeWarning: invalid value encountered in sin\n",
      "  arg4 = (np.sin((lon_ref-lon)*np.pi/180.0/2.0))**2\n",
      "/Users/adam/Project/anaconda3/envs/ctaphys/lib/python3.7/site-packages/ebltable/tau_from_model.py:307: RuntimeWarning: Warning: a z value is below interpolation range, zmin = 0.01\n",
      "  RuntimeWarning)\n",
      "/Users/adam/Project/anaconda3/envs/ctaphys/lib/python3.7/site-packages/minot/ClusterTools/map_tools.py:216: RuntimeWarning: invalid value encountered in sin\n",
      "  arg4 = (np.sin((lon_ref-lon)*np.pi/180.0/2.0))**2\n",
      "/Users/adam/Project/anaconda3/envs/ctaphys/lib/python3.7/site-packages/ebltable/tau_from_model.py:307: RuntimeWarning: Warning: a z value is below interpolation range, zmin = 0.01\n",
      "  RuntimeWarning)\n",
      "/Users/adam/Project/anaconda3/envs/ctaphys/lib/python3.7/site-packages/ebltable/tau_from_model.py:307: RuntimeWarning: Warning: a z value is below interpolation range, zmin = 0.01\n",
      "  RuntimeWarning)\n",
      "/Users/adam/Project/anaconda3/envs/ctaphys/lib/python3.7/site-packages/ebltable/tau_from_model.py:307: RuntimeWarning: Warning: a z value is below interpolation range, zmin = 0.01\n",
      "  RuntimeWarning)\n",
      "/Users/adam/Project/anaconda3/envs/ctaphys/lib/python3.7/site-packages/ebltable/tau_from_model.py:307: RuntimeWarning: Warning: a z value is below interpolation range, zmin = 0.01\n",
      "  RuntimeWarning)\n"
     ]
    },
    {
     "name": "stdout",
     "output_type": "stream",
     "text": [
      "254/484 RXCJ1317.1-3821 199.29 -38.362 5.6404 0.2553\n"
     ]
    },
    {
     "name": "stderr",
     "output_type": "stream",
     "text": [
      "/Users/adam/Project/anaconda3/envs/ctaphys/lib/python3.7/site-packages/minot/ClusterTools/map_tools.py:216: RuntimeWarning: invalid value encountered in sin\n",
      "  arg4 = (np.sin((lon_ref-lon)*np.pi/180.0/2.0))**2\n",
      "/Users/adam/Project/anaconda3/envs/ctaphys/lib/python3.7/site-packages/minot/ClusterTools/map_tools.py:216: RuntimeWarning: invalid value encountered in sin\n",
      "  arg4 = (np.sin((lon_ref-lon)*np.pi/180.0/2.0))**2\n",
      "/Users/adam/Project/anaconda3/envs/ctaphys/lib/python3.7/site-packages/minot/ClusterTools/map_tools.py:216: RuntimeWarning: invalid value encountered in sin\n",
      "  arg4 = (np.sin((lon_ref-lon)*np.pi/180.0/2.0))**2\n"
     ]
    },
    {
     "name": "stdout",
     "output_type": "stream",
     "text": [
      "255/484 RXC_J1324.7-5736 201.18 -57.614 1.6812 0.019\n"
     ]
    },
    {
     "name": "stderr",
     "output_type": "stream",
     "text": [
      "/Users/adam/Project/anaconda3/envs/ctaphys/lib/python3.7/site-packages/minot/ClusterTools/map_tools.py:216: RuntimeWarning: invalid value encountered in sin\n",
      "  arg4 = (np.sin((lon_ref-lon)*np.pi/180.0/2.0))**2\n",
      "/Users/adam/Project/anaconda3/envs/ctaphys/lib/python3.7/site-packages/minot/ClusterTools/map_tools.py:216: RuntimeWarning: invalid value encountered in sin\n",
      "  arg4 = (np.sin((lon_ref-lon)*np.pi/180.0/2.0))**2\n",
      "/Users/adam/Project/anaconda3/envs/ctaphys/lib/python3.7/site-packages/minot/ClusterTools/map_tools.py:216: RuntimeWarning: invalid value encountered in sin\n",
      "  arg4 = (np.sin((lon_ref-lon)*np.pi/180.0/2.0))**2\n"
     ]
    },
    {
     "name": "stdout",
     "output_type": "stream",
     "text": [
      "256/484 A1735 201.572 12.501 6.0627 0.204\n"
     ]
    },
    {
     "name": "stderr",
     "output_type": "stream",
     "text": [
      "/Users/adam/Project/anaconda3/envs/ctaphys/lib/python3.7/site-packages/minot/ClusterTools/map_tools.py:216: RuntimeWarning: invalid value encountered in sin\n",
      "  arg4 = (np.sin((lon_ref-lon)*np.pi/180.0/2.0))**2\n",
      "/Users/adam/Project/anaconda3/envs/ctaphys/lib/python3.7/site-packages/minot/ClusterTools/map_tools.py:216: RuntimeWarning: invalid value encountered in sin\n",
      "  arg4 = (np.sin((lon_ref-lon)*np.pi/180.0/2.0))**2\n",
      "/Users/adam/Project/anaconda3/envs/ctaphys/lib/python3.7/site-packages/minot/ClusterTools/map_tools.py:216: RuntimeWarning: invalid value encountered in sin\n",
      "  arg4 = (np.sin((lon_ref-lon)*np.pi/180.0/2.0))**2\n"
     ]
    },
    {
     "name": "stdout",
     "output_type": "stream",
     "text": [
      "257/484 RXJ1326.3+0013 201.574 0.226 1.8258 0.0826\n"
     ]
    },
    {
     "name": "stderr",
     "output_type": "stream",
     "text": [
      "/Users/adam/Project/anaconda3/envs/ctaphys/lib/python3.7/site-packages/minot/ClusterTools/map_tools.py:216: RuntimeWarning: invalid value encountered in sin\n",
      "  arg4 = (np.sin((lon_ref-lon)*np.pi/180.0/2.0))**2\n",
      "/Users/adam/Project/anaconda3/envs/ctaphys/lib/python3.7/site-packages/minot/ClusterTools/map_tools.py:216: RuntimeWarning: invalid value encountered in sin\n",
      "  arg4 = (np.sin((lon_ref-lon)*np.pi/180.0/2.0))**2\n",
      "/Users/adam/Project/anaconda3/envs/ctaphys/lib/python3.7/site-packages/minot/ClusterTools/map_tools.py:216: RuntimeWarning: invalid value encountered in sin\n",
      "  arg4 = (np.sin((lon_ref-lon)*np.pi/180.0/2.0))**2\n"
     ]
    },
    {
     "name": "stdout",
     "output_type": "stream",
     "text": [
      "258/484 A1736 201.725 -27.183 2.7065 0.0458\n"
     ]
    },
    {
     "name": "stderr",
     "output_type": "stream",
     "text": [
      "/Users/adam/Project/anaconda3/envs/ctaphys/lib/python3.7/site-packages/minot/ClusterTools/map_tools.py:216: RuntimeWarning: invalid value encountered in sin\n",
      "  arg4 = (np.sin((lon_ref-lon)*np.pi/180.0/2.0))**2\n",
      "/Users/adam/Project/anaconda3/envs/ctaphys/lib/python3.7/site-packages/minot/ClusterTools/map_tools.py:216: RuntimeWarning: invalid value encountered in sin\n",
      "  arg4 = (np.sin((lon_ref-lon)*np.pi/180.0/2.0))**2\n",
      "/Users/adam/Project/anaconda3/envs/ctaphys/lib/python3.7/site-packages/minot/ClusterTools/map_tools.py:216: RuntimeWarning: invalid value encountered in sin\n",
      "  arg4 = (np.sin((lon_ref-lon)*np.pi/180.0/2.0))**2\n"
     ]
    },
    {
     "name": "stdout",
     "output_type": "stream",
     "text": [
      "259/484 A3558 201.99 -31.503 3.9741 0.048\n"
     ]
    },
    {
     "name": "stderr",
     "output_type": "stream",
     "text": [
      "/Users/adam/Project/anaconda3/envs/ctaphys/lib/python3.7/site-packages/minot/ClusterTools/map_tools.py:216: RuntimeWarning: invalid value encountered in sin\n",
      "  arg4 = (np.sin((lon_ref-lon)*np.pi/180.0/2.0))**2\n",
      "/Users/adam/Project/anaconda3/envs/ctaphys/lib/python3.7/site-packages/minot/ClusterTools/map_tools.py:216: RuntimeWarning: invalid value encountered in sin\n",
      "  arg4 = (np.sin((lon_ref-lon)*np.pi/180.0/2.0))**2\n",
      "/Users/adam/Project/anaconda3/envs/ctaphys/lib/python3.7/site-packages/minot/ClusterTools/map_tools.py:216: RuntimeWarning: invalid value encountered in sin\n",
      "  arg4 = (np.sin((lon_ref-lon)*np.pi/180.0/2.0))**2\n"
     ]
    },
    {
     "name": "stdout",
     "output_type": "stream",
     "text": [
      "260/484 A3558_B 202.429 -31.603 1.721 0.0488\n"
     ]
    },
    {
     "name": "stderr",
     "output_type": "stream",
     "text": [
      "/Users/adam/Project/anaconda3/envs/ctaphys/lib/python3.7/site-packages/minot/ClusterTools/map_tools.py:216: RuntimeWarning: invalid value encountered in sin\n",
      "  arg4 = (np.sin((lon_ref-lon)*np.pi/180.0/2.0))**2\n",
      "/Users/adam/Project/anaconda3/envs/ctaphys/lib/python3.7/site-packages/minot/ClusterTools/map_tools.py:216: RuntimeWarning: invalid value encountered in sin\n",
      "  arg4 = (np.sin((lon_ref-lon)*np.pi/180.0/2.0))**2\n",
      "/Users/adam/Project/anaconda3/envs/ctaphys/lib/python3.7/site-packages/minot/ClusterTools/map_tools.py:216: RuntimeWarning: invalid value encountered in sin\n",
      "  arg4 = (np.sin((lon_ref-lon)*np.pi/180.0/2.0))**2\n"
     ]
    },
    {
     "name": "stdout",
     "output_type": "stream",
     "text": [
      "261/484 A1750 202.708 -1.873 3.0567 0.0852\n"
     ]
    },
    {
     "name": "stderr",
     "output_type": "stream",
     "text": [
      "/Users/adam/Project/anaconda3/envs/ctaphys/lib/python3.7/site-packages/minot/ClusterTools/map_tools.py:216: RuntimeWarning: invalid value encountered in sin\n",
      "  arg4 = (np.sin((lon_ref-lon)*np.pi/180.0/2.0))**2\n",
      "/Users/adam/Project/anaconda3/envs/ctaphys/lib/python3.7/site-packages/minot/ClusterTools/map_tools.py:216: RuntimeWarning: invalid value encountered in sin\n",
      "  arg4 = (np.sin((lon_ref-lon)*np.pi/180.0/2.0))**2\n",
      "/Users/adam/Project/anaconda3/envs/ctaphys/lib/python3.7/site-packages/minot/ClusterTools/map_tools.py:216: RuntimeWarning: invalid value encountered in sin\n",
      "  arg4 = (np.sin((lon_ref-lon)*np.pi/180.0/2.0))**2\n"
     ]
    },
    {
     "name": "stdout",
     "output_type": "stream",
     "text": [
      "262/484 A3560 203.094 -33.139 1.6821 0.0487\n"
     ]
    },
    {
     "name": "stderr",
     "output_type": "stream",
     "text": [
      "/Users/adam/Project/anaconda3/envs/ctaphys/lib/python3.7/site-packages/minot/ClusterTools/map_tools.py:216: RuntimeWarning: invalid value encountered in sin\n",
      "  arg4 = (np.sin((lon_ref-lon)*np.pi/180.0/2.0))**2\n",
      "/Users/adam/Project/anaconda3/envs/ctaphys/lib/python3.7/site-packages/minot/ClusterTools/map_tools.py:216: RuntimeWarning: invalid value encountered in sin\n",
      "  arg4 = (np.sin((lon_ref-lon)*np.pi/180.0/2.0))**2\n",
      "/Users/adam/Project/anaconda3/envs/ctaphys/lib/python3.7/site-packages/minot/ClusterTools/map_tools.py:216: RuntimeWarning: invalid value encountered in sin\n",
      "  arg4 = (np.sin((lon_ref-lon)*np.pi/180.0/2.0))**2\n"
     ]
    },
    {
     "name": "stdout",
     "output_type": "stream",
     "text": [
      "263/484 A1758a 203.18 50.55 7.1929 0.2799\n"
     ]
    },
    {
     "name": "stderr",
     "output_type": "stream",
     "text": [
      "/Users/adam/Project/anaconda3/envs/ctaphys/lib/python3.7/site-packages/minot/ClusterTools/map_tools.py:216: RuntimeWarning: invalid value encountered in sin\n",
      "  arg4 = (np.sin((lon_ref-lon)*np.pi/180.0/2.0))**2\n",
      "/Users/adam/Project/anaconda3/envs/ctaphys/lib/python3.7/site-packages/minot/ClusterTools/map_tools.py:216: RuntimeWarning: invalid value encountered in sin\n",
      "  arg4 = (np.sin((lon_ref-lon)*np.pi/180.0/2.0))**2\n",
      "/Users/adam/Project/anaconda3/envs/ctaphys/lib/python3.7/site-packages/minot/ClusterTools/map_tools.py:216: RuntimeWarning: invalid value encountered in sin\n",
      "  arg4 = (np.sin((lon_ref-lon)*np.pi/180.0/2.0))**2\n"
     ]
    },
    {
     "name": "stdout",
     "output_type": "stream",
     "text": [
      "264/484 A3562 203.401 -31.661 2.3698 0.049\n"
     ]
    },
    {
     "name": "stderr",
     "output_type": "stream",
     "text": [
      "/Users/adam/Project/anaconda3/envs/ctaphys/lib/python3.7/site-packages/minot/ClusterTools/map_tools.py:216: RuntimeWarning: invalid value encountered in sin\n",
      "  arg4 = (np.sin((lon_ref-lon)*np.pi/180.0/2.0))**2\n",
      "/Users/adam/Project/anaconda3/envs/ctaphys/lib/python3.7/site-packages/minot/ClusterTools/map_tools.py:216: RuntimeWarning: invalid value encountered in sin\n",
      "  arg4 = (np.sin((lon_ref-lon)*np.pi/180.0/2.0))**2\n",
      "/Users/adam/Project/anaconda3/envs/ctaphys/lib/python3.7/site-packages/minot/ClusterTools/map_tools.py:216: RuntimeWarning: invalid value encountered in sin\n",
      "  arg4 = (np.sin((lon_ref-lon)*np.pi/180.0/2.0))**2\n"
     ]
    },
    {
     "name": "stdout",
     "output_type": "stream",
     "text": [
      "265/484 A1757 203.425 -23.284 3.1994 0.1264\n"
     ]
    },
    {
     "name": "stderr",
     "output_type": "stream",
     "text": [
      "/Users/adam/Project/anaconda3/envs/ctaphys/lib/python3.7/site-packages/minot/ClusterTools/map_tools.py:216: RuntimeWarning: invalid value encountered in sin\n",
      "  arg4 = (np.sin((lon_ref-lon)*np.pi/180.0/2.0))**2\n",
      "/Users/adam/Project/anaconda3/envs/ctaphys/lib/python3.7/site-packages/minot/ClusterTools/map_tools.py:216: RuntimeWarning: invalid value encountered in sin\n",
      "  arg4 = (np.sin((lon_ref-lon)*np.pi/180.0/2.0))**2\n",
      "/Users/adam/Project/anaconda3/envs/ctaphys/lib/python3.7/site-packages/minot/ClusterTools/map_tools.py:216: RuntimeWarning: invalid value encountered in sin\n",
      "  arg4 = (np.sin((lon_ref-lon)*np.pi/180.0/2.0))**2\n"
     ]
    },
    {
     "name": "stdout",
     "output_type": "stream",
     "text": [
      "266/484 A1763 203.826 40.997 6.2197 0.2279\n"
     ]
    },
    {
     "name": "stderr",
     "output_type": "stream",
     "text": [
      "/Users/adam/Project/anaconda3/envs/ctaphys/lib/python3.7/site-packages/minot/ClusterTools/map_tools.py:216: RuntimeWarning: invalid value encountered in sin\n",
      "  arg4 = (np.sin((lon_ref-lon)*np.pi/180.0/2.0))**2\n",
      "/Users/adam/Project/anaconda3/envs/ctaphys/lib/python3.7/site-packages/minot/ClusterTools/map_tools.py:216: RuntimeWarning: invalid value encountered in sin\n",
      "  arg4 = (np.sin((lon_ref-lon)*np.pi/180.0/2.0))**2\n",
      "/Users/adam/Project/anaconda3/envs/ctaphys/lib/python3.7/site-packages/minot/ClusterTools/map_tools.py:216: RuntimeWarning: invalid value encountered in sin\n",
      "  arg4 = (np.sin((lon_ref-lon)*np.pi/180.0/2.0))**2\n"
     ]
    },
    {
     "name": "stdout",
     "output_type": "stream",
     "text": [
      "267/484 A1767 204.025 59.208 2.3626 0.0701\n"
     ]
    },
    {
     "name": "stderr",
     "output_type": "stream",
     "text": [
      "/Users/adam/Project/anaconda3/envs/ctaphys/lib/python3.7/site-packages/minot/ClusterTools/map_tools.py:216: RuntimeWarning: invalid value encountered in sin\n",
      "  arg4 = (np.sin((lon_ref-lon)*np.pi/180.0/2.0))**2\n",
      "/Users/adam/Project/anaconda3/envs/ctaphys/lib/python3.7/site-packages/minot/ClusterTools/map_tools.py:216: RuntimeWarning: invalid value encountered in sin\n",
      "  arg4 = (np.sin((lon_ref-lon)*np.pi/180.0/2.0))**2\n",
      "/Users/adam/Project/anaconda3/envs/ctaphys/lib/python3.7/site-packages/minot/ClusterTools/map_tools.py:216: RuntimeWarning: invalid value encountered in sin\n",
      "  arg4 = (np.sin((lon_ref-lon)*np.pi/180.0/2.0))**2\n"
     ]
    },
    {
     "name": "stdout",
     "output_type": "stream",
     "text": [
      "268/484 A1775 205.474 26.372 2.4779 0.0724\n"
     ]
    },
    {
     "name": "stderr",
     "output_type": "stream",
     "text": [
      "/Users/adam/Project/anaconda3/envs/ctaphys/lib/python3.7/site-packages/minot/ClusterTools/map_tools.py:216: RuntimeWarning: invalid value encountered in sin\n",
      "  arg4 = (np.sin((lon_ref-lon)*np.pi/180.0/2.0))**2\n",
      "/Users/adam/Project/anaconda3/envs/ctaphys/lib/python3.7/site-packages/minot/ClusterTools/map_tools.py:216: RuntimeWarning: invalid value encountered in sin\n",
      "  arg4 = (np.sin((lon_ref-lon)*np.pi/180.0/2.0))**2\n",
      "/Users/adam/Project/anaconda3/envs/ctaphys/lib/python3.7/site-packages/minot/ClusterTools/map_tools.py:216: RuntimeWarning: invalid value encountered in sin\n",
      "  arg4 = (np.sin((lon_ref-lon)*np.pi/180.0/2.0))**2\n"
     ]
    },
    {
     "name": "stdout",
     "output_type": "stream",
     "text": [
      "269/484 A1773 205.523 2.227 1.6756 0.0765\n"
     ]
    },
    {
     "name": "stderr",
     "output_type": "stream",
     "text": [
      "/Users/adam/Project/anaconda3/envs/ctaphys/lib/python3.7/site-packages/minot/ClusterTools/map_tools.py:216: RuntimeWarning: invalid value encountered in sin\n",
      "  arg4 = (np.sin((lon_ref-lon)*np.pi/180.0/2.0))**2\n",
      "/Users/adam/Project/anaconda3/envs/ctaphys/lib/python3.7/site-packages/minot/ClusterTools/map_tools.py:216: RuntimeWarning: invalid value encountered in sin\n",
      "  arg4 = (np.sin((lon_ref-lon)*np.pi/180.0/2.0))**2\n",
      "/Users/adam/Project/anaconda3/envs/ctaphys/lib/python3.7/site-packages/minot/ClusterTools/map_tools.py:216: RuntimeWarning: invalid value encountered in sin\n",
      "  arg4 = (np.sin((lon_ref-lon)*np.pi/180.0/2.0))**2\n"
     ]
    },
    {
     "name": "stdout",
     "output_type": "stream",
     "text": [
      "270/484 A3571 206.868 -32.85 4.5067 0.0391\n"
     ]
    },
    {
     "name": "stderr",
     "output_type": "stream",
     "text": [
      "/Users/adam/Project/anaconda3/envs/ctaphys/lib/python3.7/site-packages/minot/ClusterTools/map_tools.py:216: RuntimeWarning: invalid value encountered in sin\n",
      "  arg4 = (np.sin((lon_ref-lon)*np.pi/180.0/2.0))**2\n",
      "/Users/adam/Project/anaconda3/envs/ctaphys/lib/python3.7/site-packages/minot/ClusterTools/map_tools.py:216: RuntimeWarning: invalid value encountered in sin\n",
      "  arg4 = (np.sin((lon_ref-lon)*np.pi/180.0/2.0))**2\n",
      "/Users/adam/Project/anaconda3/envs/ctaphys/lib/python3.7/site-packages/minot/ClusterTools/map_tools.py:216: RuntimeWarning: invalid value encountered in sin\n",
      "  arg4 = (np.sin((lon_ref-lon)*np.pi/180.0/2.0))**2\n"
     ]
    },
    {
     "name": "stdout",
     "output_type": "stream",
     "text": [
      "271/484 RXJ1347.5-1145 206.875 -11.749 13.1779 0.4516\n"
     ]
    },
    {
     "name": "stderr",
     "output_type": "stream",
     "text": [
      "/Users/adam/Project/anaconda3/envs/ctaphys/lib/python3.7/site-packages/minot/ClusterTools/map_tools.py:216: RuntimeWarning: invalid value encountered in sin\n",
      "  arg4 = (np.sin((lon_ref-lon)*np.pi/180.0/2.0))**2\n",
      "/Users/adam/Project/anaconda3/envs/ctaphys/lib/python3.7/site-packages/minot/ClusterTools/map_tools.py:216: RuntimeWarning: invalid value encountered in sin\n",
      "  arg4 = (np.sin((lon_ref-lon)*np.pi/180.0/2.0))**2\n",
      "/Users/adam/Project/anaconda3/envs/ctaphys/lib/python3.7/site-packages/minot/ClusterTools/map_tools.py:216: RuntimeWarning: invalid value encountered in sin\n",
      "  arg4 = (np.sin((lon_ref-lon)*np.pi/180.0/2.0))**2\n"
     ]
    },
    {
     "name": "stdout",
     "output_type": "stream",
     "text": [
      "272/484 A1795 207.221 26.596 5.528 0.0622\n"
     ]
    },
    {
     "name": "stderr",
     "output_type": "stream",
     "text": [
      "/Users/adam/Project/anaconda3/envs/ctaphys/lib/python3.7/site-packages/minot/ClusterTools/map_tools.py:216: RuntimeWarning: invalid value encountered in sin\n",
      "  arg4 = (np.sin((lon_ref-lon)*np.pi/180.0/2.0))**2\n",
      "/Users/adam/Project/anaconda3/envs/ctaphys/lib/python3.7/site-packages/minot/ClusterTools/map_tools.py:216: RuntimeWarning: invalid value encountered in sin\n",
      "  arg4 = (np.sin((lon_ref-lon)*np.pi/180.0/2.0))**2\n",
      "/Users/adam/Project/anaconda3/envs/ctaphys/lib/python3.7/site-packages/minot/ClusterTools/map_tools.py:216: RuntimeWarning: invalid value encountered in sin\n",
      "  arg4 = (np.sin((lon_ref-lon)*np.pi/180.0/2.0))**2\n"
     ]
    },
    {
     "name": "stdout",
     "output_type": "stream",
     "text": [
      "273/484 A1800 207.34 28.104 2.2515 0.0748\n"
     ]
    },
    {
     "name": "stderr",
     "output_type": "stream",
     "text": [
      "/Users/adam/Project/anaconda3/envs/ctaphys/lib/python3.7/site-packages/minot/ClusterTools/map_tools.py:216: RuntimeWarning: invalid value encountered in sin\n",
      "  arg4 = (np.sin((lon_ref-lon)*np.pi/180.0/2.0))**2\n",
      "/Users/adam/Project/anaconda3/envs/ctaphys/lib/python3.7/site-packages/minot/ClusterTools/map_tools.py:216: RuntimeWarning: invalid value encountered in sin\n",
      "  arg4 = (np.sin((lon_ref-lon)*np.pi/180.0/2.0))**2\n",
      "/Users/adam/Project/anaconda3/envs/ctaphys/lib/python3.7/site-packages/minot/ClusterTools/map_tools.py:216: RuntimeWarning: invalid value encountered in sin\n",
      "  arg4 = (np.sin((lon_ref-lon)*np.pi/180.0/2.0))**2\n"
     ]
    },
    {
     "name": "stdout",
     "output_type": "stream",
     "text": [
      "274/484 A1809 208.254 5.155 1.9898 0.0788\n"
     ]
    },
    {
     "name": "stderr",
     "output_type": "stream",
     "text": [
      "/Users/adam/Project/anaconda3/envs/ctaphys/lib/python3.7/site-packages/minot/ClusterTools/map_tools.py:216: RuntimeWarning: invalid value encountered in sin\n",
      "  arg4 = (np.sin((lon_ref-lon)*np.pi/180.0/2.0))**2\n",
      "/Users/adam/Project/anaconda3/envs/ctaphys/lib/python3.7/site-packages/minot/ClusterTools/map_tools.py:216: RuntimeWarning: invalid value encountered in sin\n",
      "  arg4 = (np.sin((lon_ref-lon)*np.pi/180.0/2.0))**2\n",
      "/Users/adam/Project/anaconda3/envs/ctaphys/lib/python3.7/site-packages/minot/ClusterTools/map_tools.py:216: RuntimeWarning: invalid value encountered in sin\n",
      "  arg4 = (np.sin((lon_ref-lon)*np.pi/180.0/2.0))**2\n"
     ]
    },
    {
     "name": "stdout",
     "output_type": "stream",
     "text": [
      "275/484 RXC_J1358.9-4750 209.737 -47.839 3.3558 0.074\n"
     ]
    },
    {
     "name": "stderr",
     "output_type": "stream",
     "text": [
      "/Users/adam/Project/anaconda3/envs/ctaphys/lib/python3.7/site-packages/minot/ClusterTools/map_tools.py:216: RuntimeWarning: invalid value encountered in sin\n",
      "  arg4 = (np.sin((lon_ref-lon)*np.pi/180.0/2.0))**2\n",
      "/Users/adam/Project/anaconda3/envs/ctaphys/lib/python3.7/site-packages/minot/ClusterTools/map_tools.py:216: RuntimeWarning: invalid value encountered in sin\n",
      "  arg4 = (np.sin((lon_ref-lon)*np.pi/180.0/2.0))**2\n",
      "/Users/adam/Project/anaconda3/envs/ctaphys/lib/python3.7/site-packages/minot/ClusterTools/map_tools.py:216: RuntimeWarning: invalid value encountered in sin\n",
      "  arg4 = (np.sin((lon_ref-lon)*np.pi/180.0/2.0))**2\n"
     ]
    },
    {
     "name": "stdout",
     "output_type": "stream",
     "text": [
      "276/484 A1831 209.823 27.973 1.9807 0.0612\n"
     ]
    },
    {
     "name": "stderr",
     "output_type": "stream",
     "text": [
      "/Users/adam/Project/anaconda3/envs/ctaphys/lib/python3.7/site-packages/minot/ClusterTools/map_tools.py:216: RuntimeWarning: invalid value encountered in sin\n",
      "  arg4 = (np.sin((lon_ref-lon)*np.pi/180.0/2.0))**2\n",
      "/Users/adam/Project/anaconda3/envs/ctaphys/lib/python3.7/site-packages/minot/ClusterTools/map_tools.py:216: RuntimeWarning: invalid value encountered in sin\n",
      "  arg4 = (np.sin((lon_ref-lon)*np.pi/180.0/2.0))**2\n",
      "/Users/adam/Project/anaconda3/envs/ctaphys/lib/python3.7/site-packages/minot/ClusterTools/map_tools.py:216: RuntimeWarning: invalid value encountered in sin\n",
      "  arg4 = (np.sin((lon_ref-lon)*np.pi/180.0/2.0))**2\n"
     ]
    },
    {
     "name": "stdout",
     "output_type": "stream",
     "text": [
      "277/484 A1835 210.26 2.88 10.4956 0.2528\n"
     ]
    },
    {
     "name": "stderr",
     "output_type": "stream",
     "text": [
      "/Users/adam/Project/anaconda3/envs/ctaphys/lib/python3.7/site-packages/minot/ClusterTools/map_tools.py:216: RuntimeWarning: invalid value encountered in sin\n",
      "  arg4 = (np.sin((lon_ref-lon)*np.pi/180.0/2.0))**2\n",
      "/Users/adam/Project/anaconda3/envs/ctaphys/lib/python3.7/site-packages/minot/ClusterTools/map_tools.py:216: RuntimeWarning: invalid value encountered in sin\n",
      "  arg4 = (np.sin((lon_ref-lon)*np.pi/180.0/2.0))**2\n",
      "/Users/adam/Project/anaconda3/envs/ctaphys/lib/python3.7/site-packages/minot/ClusterTools/map_tools.py:216: RuntimeWarning: invalid value encountered in sin\n",
      "  arg4 = (np.sin((lon_ref-lon)*np.pi/180.0/2.0))**2\n"
     ]
    },
    {
     "name": "stdout",
     "output_type": "stream",
     "text": [
      "278/484 A3581 211.867 -27.015 1.0806 0.023\n"
     ]
    },
    {
     "name": "stderr",
     "output_type": "stream",
     "text": [
      "/Users/adam/Project/anaconda3/envs/ctaphys/lib/python3.7/site-packages/minot/ClusterTools/map_tools.py:216: RuntimeWarning: invalid value encountered in sin\n",
      "  arg4 = (np.sin((lon_ref-lon)*np.pi/180.0/2.0))**2\n",
      "/Users/adam/Project/anaconda3/envs/ctaphys/lib/python3.7/site-packages/minot/ClusterTools/map_tools.py:216: RuntimeWarning: invalid value encountered in sin\n",
      "  arg4 = (np.sin((lon_ref-lon)*np.pi/180.0/2.0))**2\n",
      "/Users/adam/Project/anaconda3/envs/ctaphys/lib/python3.7/site-packages/minot/ClusterTools/map_tools.py:216: RuntimeWarning: invalid value encountered in sin\n",
      "  arg4 = (np.sin((lon_ref-lon)*np.pi/180.0/2.0))**2\n"
     ]
    },
    {
     "name": "stdout",
     "output_type": "stream",
     "text": [
      "279/484 RXC_J1407.8-5100 211.969 -51.009 4.4006 0.0966\n"
     ]
    },
    {
     "name": "stderr",
     "output_type": "stream",
     "text": [
      "/Users/adam/Project/anaconda3/envs/ctaphys/lib/python3.7/site-packages/minot/ClusterTools/map_tools.py:216: RuntimeWarning: invalid value encountered in sin\n",
      "  arg4 = (np.sin((lon_ref-lon)*np.pi/180.0/2.0))**2\n",
      "/Users/adam/Project/anaconda3/envs/ctaphys/lib/python3.7/site-packages/minot/ClusterTools/map_tools.py:216: RuntimeWarning: invalid value encountered in sin\n",
      "  arg4 = (np.sin((lon_ref-lon)*np.pi/180.0/2.0))**2\n",
      "/Users/adam/Project/anaconda3/envs/ctaphys/lib/python3.7/site-packages/minot/ClusterTools/map_tools.py:216: RuntimeWarning: invalid value encountered in sin\n",
      "  arg4 = (np.sin((lon_ref-lon)*np.pi/180.0/2.0))**2\n"
     ]
    },
    {
     "name": "stdout",
     "output_type": "stream",
     "text": [
      "280/484 RXC_J1410.4-4246 212.619 -42.777 1.2483 0.049\n"
     ]
    },
    {
     "name": "stderr",
     "output_type": "stream",
     "text": [
      "/Users/adam/Project/anaconda3/envs/ctaphys/lib/python3.7/site-packages/minot/ClusterTools/map_tools.py:216: RuntimeWarning: invalid value encountered in sin\n",
      "  arg4 = (np.sin((lon_ref-lon)*np.pi/180.0/2.0))**2\n",
      "/Users/adam/Project/anaconda3/envs/ctaphys/lib/python3.7/site-packages/minot/ClusterTools/map_tools.py:216: RuntimeWarning: invalid value encountered in sin\n",
      "  arg4 = (np.sin((lon_ref-lon)*np.pi/180.0/2.0))**2\n",
      "/Users/adam/Project/anaconda3/envs/ctaphys/lib/python3.7/site-packages/minot/ClusterTools/map_tools.py:216: RuntimeWarning: invalid value encountered in sin\n",
      "  arg4 = (np.sin((lon_ref-lon)*np.pi/180.0/2.0))**2\n"
     ]
    },
    {
     "name": "stdout",
     "output_type": "stream",
     "text": [
      "281/484 A1885 213.431 43.663 1.9516 0.089\n"
     ]
    },
    {
     "name": "stderr",
     "output_type": "stream",
     "text": [
      "/Users/adam/Project/anaconda3/envs/ctaphys/lib/python3.7/site-packages/minot/ClusterTools/map_tools.py:216: RuntimeWarning: invalid value encountered in sin\n",
      "  arg4 = (np.sin((lon_ref-lon)*np.pi/180.0/2.0))**2\n",
      "/Users/adam/Project/anaconda3/envs/ctaphys/lib/python3.7/site-packages/minot/ClusterTools/map_tools.py:216: RuntimeWarning: invalid value encountered in sin\n",
      "  arg4 = (np.sin((lon_ref-lon)*np.pi/180.0/2.0))**2\n",
      "/Users/adam/Project/anaconda3/envs/ctaphys/lib/python3.7/site-packages/minot/ClusterTools/map_tools.py:216: RuntimeWarning: invalid value encountered in sin\n",
      "  arg4 = (np.sin((lon_ref-lon)*np.pi/180.0/2.0))**2\n"
     ]
    },
    {
     "name": "stdout",
     "output_type": "stream",
     "text": [
      "282/484 Zw_1420.2+4952 215.398 49.552 1.6874 0.0716\n"
     ]
    },
    {
     "name": "stderr",
     "output_type": "stream",
     "text": [
      "/Users/adam/Project/anaconda3/envs/ctaphys/lib/python3.7/site-packages/minot/ClusterTools/map_tools.py:216: RuntimeWarning: invalid value encountered in sin\n",
      "  arg4 = (np.sin((lon_ref-lon)*np.pi/180.0/2.0))**2\n",
      "/Users/adam/Project/anaconda3/envs/ctaphys/lib/python3.7/site-packages/minot/ClusterTools/map_tools.py:216: RuntimeWarning: invalid value encountered in sin\n",
      "  arg4 = (np.sin((lon_ref-lon)*np.pi/180.0/2.0))**2\n",
      "/Users/adam/Project/anaconda3/envs/ctaphys/lib/python3.7/site-packages/minot/ClusterTools/map_tools.py:216: RuntimeWarning: invalid value encountered in sin\n",
      "  arg4 = (np.sin((lon_ref-lon)*np.pi/180.0/2.0))**2\n"
     ]
    },
    {
     "name": "stdout",
     "output_type": "stream",
     "text": [
      "283/484 RXC_J1423.7-5412 215.93 -54.203 8.0935 0.3\n"
     ]
    },
    {
     "name": "stderr",
     "output_type": "stream",
     "text": [
      "/Users/adam/Project/anaconda3/envs/ctaphys/lib/python3.7/site-packages/minot/ClusterTools/map_tools.py:216: RuntimeWarning: invalid value encountered in sin\n",
      "  arg4 = (np.sin((lon_ref-lon)*np.pi/180.0/2.0))**2\n",
      "/Users/adam/Project/anaconda3/envs/ctaphys/lib/python3.7/site-packages/minot/ClusterTools/map_tools.py:216: RuntimeWarning: invalid value encountered in sin\n",
      "  arg4 = (np.sin((lon_ref-lon)*np.pi/180.0/2.0))**2\n",
      "/Users/adam/Project/anaconda3/envs/ctaphys/lib/python3.7/site-packages/minot/ClusterTools/map_tools.py:216: RuntimeWarning: invalid value encountered in sin\n",
      "  arg4 = (np.sin((lon_ref-lon)*np.pi/180.0/2.0))**2\n"
     ]
    },
    {
     "name": "stdout",
     "output_type": "stream",
     "text": [
      "284/484 A1918 216.345 63.187 3.3281 0.1394\n"
     ]
    },
    {
     "name": "stderr",
     "output_type": "stream",
     "text": [
      "/Users/adam/Project/anaconda3/envs/ctaphys/lib/python3.7/site-packages/minot/ClusterTools/map_tools.py:216: RuntimeWarning: invalid value encountered in sin\n",
      "  arg4 = (np.sin((lon_ref-lon)*np.pi/180.0/2.0))**2\n",
      "/Users/adam/Project/anaconda3/envs/ctaphys/lib/python3.7/site-packages/minot/ClusterTools/map_tools.py:216: RuntimeWarning: invalid value encountered in sin\n",
      "  arg4 = (np.sin((lon_ref-lon)*np.pi/180.0/2.0))**2\n",
      "/Users/adam/Project/anaconda3/envs/ctaphys/lib/python3.7/site-packages/minot/ClusterTools/map_tools.py:216: RuntimeWarning: invalid value encountered in sin\n",
      "  arg4 = (np.sin((lon_ref-lon)*np.pi/180.0/2.0))**2\n"
     ]
    },
    {
     "name": "stdout",
     "output_type": "stream",
     "text": [
      "285/484 A1914 216.507 37.827 7.0075 0.1712\n"
     ]
    },
    {
     "name": "stderr",
     "output_type": "stream",
     "text": [
      "/Users/adam/Project/anaconda3/envs/ctaphys/lib/python3.7/site-packages/minot/ClusterTools/map_tools.py:216: RuntimeWarning: invalid value encountered in sin\n",
      "  arg4 = (np.sin((lon_ref-lon)*np.pi/180.0/2.0))**2\n",
      "/Users/adam/Project/anaconda3/envs/ctaphys/lib/python3.7/site-packages/minot/ClusterTools/map_tools.py:216: RuntimeWarning: invalid value encountered in sin\n",
      "  arg4 = (np.sin((lon_ref-lon)*np.pi/180.0/2.0))**2\n",
      "/Users/adam/Project/anaconda3/envs/ctaphys/lib/python3.7/site-packages/minot/ClusterTools/map_tools.py:216: RuntimeWarning: invalid value encountered in sin\n",
      "  arg4 = (np.sin((lon_ref-lon)*np.pi/180.0/2.0))**2\n"
     ]
    },
    {
     "name": "stdout",
     "output_type": "stream",
     "text": [
      "286/484 A1927 217.779 25.639 2.138 0.0908\n"
     ]
    },
    {
     "name": "stderr",
     "output_type": "stream",
     "text": [
      "/Users/adam/Project/anaconda3/envs/ctaphys/lib/python3.7/site-packages/minot/ClusterTools/map_tools.py:216: RuntimeWarning: invalid value encountered in sin\n",
      "  arg4 = (np.sin((lon_ref-lon)*np.pi/180.0/2.0))**2\n",
      "/Users/adam/Project/anaconda3/envs/ctaphys/lib/python3.7/site-packages/minot/ClusterTools/map_tools.py:216: RuntimeWarning: invalid value encountered in sin\n",
      "  arg4 = (np.sin((lon_ref-lon)*np.pi/180.0/2.0))**2\n",
      "/Users/adam/Project/anaconda3/envs/ctaphys/lib/python3.7/site-packages/minot/ClusterTools/map_tools.py:216: RuntimeWarning: invalid value encountered in sin\n",
      "  arg4 = (np.sin((lon_ref-lon)*np.pi/180.0/2.0))**2\n"
     ]
    },
    {
     "name": "stdout",
     "output_type": "stream",
     "text": [
      "287/484 A1930 218.12 31.633 2.9225 0.1313\n"
     ]
    },
    {
     "name": "stderr",
     "output_type": "stream",
     "text": [
      "/Users/adam/Project/anaconda3/envs/ctaphys/lib/python3.7/site-packages/minot/ClusterTools/map_tools.py:216: RuntimeWarning: invalid value encountered in sin\n",
      "  arg4 = (np.sin((lon_ref-lon)*np.pi/180.0/2.0))**2\n",
      "/Users/adam/Project/anaconda3/envs/ctaphys/lib/python3.7/site-packages/minot/ClusterTools/map_tools.py:216: RuntimeWarning: invalid value encountered in sin\n",
      "  arg4 = (np.sin((lon_ref-lon)*np.pi/180.0/2.0))**2\n",
      "/Users/adam/Project/anaconda3/envs/ctaphys/lib/python3.7/site-packages/minot/ClusterTools/map_tools.py:216: RuntimeWarning: invalid value encountered in sin\n",
      "  arg4 = (np.sin((lon_ref-lon)*np.pi/180.0/2.0))**2\n"
     ]
    },
    {
     "name": "stdout",
     "output_type": "stream",
     "text": [
      "288/484 MKW_8 220.159 3.477 0.7352 0.0263\n"
     ]
    },
    {
     "name": "stderr",
     "output_type": "stream",
     "text": [
      "/Users/adam/Project/anaconda3/envs/ctaphys/lib/python3.7/site-packages/minot/ClusterTools/map_tools.py:216: RuntimeWarning: invalid value encountered in sin\n",
      "  arg4 = (np.sin((lon_ref-lon)*np.pi/180.0/2.0))**2\n",
      "/Users/adam/Project/anaconda3/envs/ctaphys/lib/python3.7/site-packages/minot/ClusterTools/map_tools.py:216: RuntimeWarning: invalid value encountered in sin\n",
      "  arg4 = (np.sin((lon_ref-lon)*np.pi/180.0/2.0))**2\n",
      "/Users/adam/Project/anaconda3/envs/ctaphys/lib/python3.7/site-packages/minot/ClusterTools/map_tools.py:216: RuntimeWarning: invalid value encountered in sin\n",
      "  arg4 = (np.sin((lon_ref-lon)*np.pi/180.0/2.0))**2\n"
     ]
    },
    {
     "name": "stdout",
     "output_type": "stream",
     "text": [
      "289/484 UGC_09480 220.577 22.305 2.3234 0.0901\n"
     ]
    },
    {
     "name": "stderr",
     "output_type": "stream",
     "text": [
      "/Users/adam/Project/anaconda3/envs/ctaphys/lib/python3.7/site-packages/minot/ClusterTools/map_tools.py:216: RuntimeWarning: invalid value encountered in sin\n",
      "  arg4 = (np.sin((lon_ref-lon)*np.pi/180.0/2.0))**2\n",
      "/Users/adam/Project/anaconda3/envs/ctaphys/lib/python3.7/site-packages/minot/ClusterTools/map_tools.py:216: RuntimeWarning: invalid value encountered in sin\n",
      "  arg4 = (np.sin((lon_ref-lon)*np.pi/180.0/2.0))**2\n",
      "/Users/adam/Project/anaconda3/envs/ctaphys/lib/python3.7/site-packages/minot/ClusterTools/map_tools.py:216: RuntimeWarning: invalid value encountered in sin\n",
      "  arg4 = (np.sin((lon_ref-lon)*np.pi/180.0/2.0))**2\n"
     ]
    },
    {
     "name": "stdout",
     "output_type": "stream",
     "text": [
      "290/484 RXC_J1447.4+0827 221.857 8.464 4.6039 0.1954\n"
     ]
    },
    {
     "name": "stderr",
     "output_type": "stream",
     "text": [
      "/Users/adam/Project/anaconda3/envs/ctaphys/lib/python3.7/site-packages/minot/ClusterTools/map_tools.py:216: RuntimeWarning: invalid value encountered in sin\n",
      "  arg4 = (np.sin((lon_ref-lon)*np.pi/180.0/2.0))**2\n",
      "/Users/adam/Project/anaconda3/envs/ctaphys/lib/python3.7/site-packages/minot/ClusterTools/map_tools.py:216: RuntimeWarning: invalid value encountered in sin\n",
      "  arg4 = (np.sin((lon_ref-lon)*np.pi/180.0/2.0))**2\n",
      "/Users/adam/Project/anaconda3/envs/ctaphys/lib/python3.7/site-packages/minot/ClusterTools/map_tools.py:216: RuntimeWarning: invalid value encountered in sin\n",
      "  arg4 = (np.sin((lon_ref-lon)*np.pi/180.0/2.0))**2\n"
     ]
    },
    {
     "name": "stdout",
     "output_type": "stream",
     "text": [
      "291/484 A1978 222.775 14.611 3.2781 0.146\n"
     ]
    },
    {
     "name": "stderr",
     "output_type": "stream",
     "text": [
      "/Users/adam/Project/anaconda3/envs/ctaphys/lib/python3.7/site-packages/minot/ClusterTools/map_tools.py:216: RuntimeWarning: invalid value encountered in sin\n",
      "  arg4 = (np.sin((lon_ref-lon)*np.pi/180.0/2.0))**2\n",
      "/Users/adam/Project/anaconda3/envs/ctaphys/lib/python3.7/site-packages/minot/ClusterTools/map_tools.py:216: RuntimeWarning: invalid value encountered in sin\n",
      "  arg4 = (np.sin((lon_ref-lon)*np.pi/180.0/2.0))**2\n",
      "/Users/adam/Project/anaconda3/envs/ctaphys/lib/python3.7/site-packages/minot/ClusterTools/map_tools.py:216: RuntimeWarning: invalid value encountered in sin\n",
      "  arg4 = (np.sin((lon_ref-lon)*np.pi/180.0/2.0))**2\n"
     ]
    },
    {
     "name": "stdout",
     "output_type": "stream",
     "text": [
      "292/484 A1991 223.631 18.642 1.6755 0.0586\n"
     ]
    },
    {
     "name": "stderr",
     "output_type": "stream",
     "text": [
      "/Users/adam/Project/anaconda3/envs/ctaphys/lib/python3.7/site-packages/minot/ClusterTools/map_tools.py:216: RuntimeWarning: invalid value encountered in sin\n",
      "  arg4 = (np.sin((lon_ref-lon)*np.pi/180.0/2.0))**2\n",
      "/Users/adam/Project/anaconda3/envs/ctaphys/lib/python3.7/site-packages/minot/ClusterTools/map_tools.py:216: RuntimeWarning: invalid value encountered in sin\n",
      "  arg4 = (np.sin((lon_ref-lon)*np.pi/180.0/2.0))**2\n",
      "/Users/adam/Project/anaconda3/envs/ctaphys/lib/python3.7/site-packages/minot/ClusterTools/map_tools.py:216: RuntimeWarning: invalid value encountered in sin\n",
      "  arg4 = (np.sin((lon_ref-lon)*np.pi/180.0/2.0))**2\n"
     ]
    },
    {
     "name": "stdout",
     "output_type": "stream",
     "text": [
      "293/484 MS_1455.0+2232 224.316 22.343 6.315 0.2579\n"
     ]
    },
    {
     "name": "stderr",
     "output_type": "stream",
     "text": [
      "/Users/adam/Project/anaconda3/envs/ctaphys/lib/python3.7/site-packages/minot/ClusterTools/map_tools.py:216: RuntimeWarning: invalid value encountered in sin\n",
      "  arg4 = (np.sin((lon_ref-lon)*np.pi/180.0/2.0))**2\n",
      "/Users/adam/Project/anaconda3/envs/ctaphys/lib/python3.7/site-packages/minot/ClusterTools/map_tools.py:216: RuntimeWarning: invalid value encountered in sin\n",
      "  arg4 = (np.sin((lon_ref-lon)*np.pi/180.0/2.0))**2\n",
      "/Users/adam/Project/anaconda3/envs/ctaphys/lib/python3.7/site-packages/minot/ClusterTools/map_tools.py:216: RuntimeWarning: invalid value encountered in sin\n",
      "  arg4 = (np.sin((lon_ref-lon)*np.pi/180.0/2.0))**2\n"
     ]
    },
    {
     "name": "stdout",
     "output_type": "stream",
     "text": [
      "294/484 S0780 224.872 -18.187 8.618 0.2357\n"
     ]
    },
    {
     "name": "stderr",
     "output_type": "stream",
     "text": [
      "/Users/adam/Project/anaconda3/envs/ctaphys/lib/python3.7/site-packages/minot/ClusterTools/map_tools.py:216: RuntimeWarning: invalid value encountered in sin\n",
      "  arg4 = (np.sin((lon_ref-lon)*np.pi/180.0/2.0))**2\n",
      "/Users/adam/Project/anaconda3/envs/ctaphys/lib/python3.7/site-packages/minot/ClusterTools/map_tools.py:216: RuntimeWarning: invalid value encountered in sin\n",
      "  arg4 = (np.sin((lon_ref-lon)*np.pi/180.0/2.0))**2\n",
      "/Users/adam/Project/anaconda3/envs/ctaphys/lib/python3.7/site-packages/minot/ClusterTools/map_tools.py:216: RuntimeWarning: invalid value encountered in sin\n",
      "  arg4 = (np.sin((lon_ref-lon)*np.pi/180.0/2.0))**2\n"
     ]
    },
    {
     "name": "stdout",
     "output_type": "stream",
     "text": [
      "295/484 A2009 225.085 21.362 5.0613 0.153\n"
     ]
    },
    {
     "name": "stderr",
     "output_type": "stream",
     "text": [
      "/Users/adam/Project/anaconda3/envs/ctaphys/lib/python3.7/site-packages/minot/ClusterTools/map_tools.py:216: RuntimeWarning: invalid value encountered in sin\n",
      "  arg4 = (np.sin((lon_ref-lon)*np.pi/180.0/2.0))**2\n",
      "/Users/adam/Project/anaconda3/envs/ctaphys/lib/python3.7/site-packages/minot/ClusterTools/map_tools.py:216: RuntimeWarning: invalid value encountered in sin\n",
      "  arg4 = (np.sin((lon_ref-lon)*np.pi/180.0/2.0))**2\n",
      "/Users/adam/Project/anaconda3/envs/ctaphys/lib/python3.7/site-packages/minot/ClusterTools/map_tools.py:216: RuntimeWarning: invalid value encountered in sin\n",
      "  arg4 = (np.sin((lon_ref-lon)*np.pi/180.0/2.0))**2\n"
     ]
    },
    {
     "name": "stdout",
     "output_type": "stream",
     "text": [
      "296/484 NGC5813 225.299 1.698 0.2399 0.005\n"
     ]
    },
    {
     "name": "stderr",
     "output_type": "stream",
     "text": [
      "/Users/adam/Project/anaconda3/envs/ctaphys/lib/python3.7/site-packages/minot/ClusterTools/map_tools.py:216: RuntimeWarning: invalid value encountered in sin\n",
      "  arg4 = (np.sin((lon_ref-lon)*np.pi/180.0/2.0))**2\n",
      "/Users/adam/Project/anaconda3/envs/ctaphys/lib/python3.7/site-packages/ebltable/tau_from_model.py:307: RuntimeWarning: Warning: a z value is below interpolation range, zmin = 0.01\n",
      "  RuntimeWarning)\n",
      "/Users/adam/Project/anaconda3/envs/ctaphys/lib/python3.7/site-packages/minot/ClusterTools/map_tools.py:216: RuntimeWarning: invalid value encountered in sin\n",
      "  arg4 = (np.sin((lon_ref-lon)*np.pi/180.0/2.0))**2\n",
      "/Users/adam/Project/anaconda3/envs/ctaphys/lib/python3.7/site-packages/ebltable/tau_from_model.py:307: RuntimeWarning: Warning: a z value is below interpolation range, zmin = 0.01\n",
      "  RuntimeWarning)\n",
      "/Users/adam/Project/anaconda3/envs/ctaphys/lib/python3.7/site-packages/minot/ClusterTools/map_tools.py:216: RuntimeWarning: invalid value encountered in sin\n",
      "  arg4 = (np.sin((lon_ref-lon)*np.pi/180.0/2.0))**2\n",
      "/Users/adam/Project/anaconda3/envs/ctaphys/lib/python3.7/site-packages/ebltable/tau_from_model.py:307: RuntimeWarning: Warning: a z value is below interpolation range, zmin = 0.01\n",
      "  RuntimeWarning)\n",
      "/Users/adam/Project/anaconda3/envs/ctaphys/lib/python3.7/site-packages/ebltable/tau_from_model.py:307: RuntimeWarning: Warning: a z value is below interpolation range, zmin = 0.01\n",
      "  RuntimeWarning)\n",
      "/Users/adam/Project/anaconda3/envs/ctaphys/lib/python3.7/site-packages/ebltable/tau_from_model.py:307: RuntimeWarning: Warning: a z value is below interpolation range, zmin = 0.01\n",
      "  RuntimeWarning)\n",
      "/Users/adam/Project/anaconda3/envs/ctaphys/lib/python3.7/site-packages/ebltable/tau_from_model.py:307: RuntimeWarning: Warning: a z value is below interpolation range, zmin = 0.01\n",
      "  RuntimeWarning)\n"
     ]
    },
    {
     "name": "stdout",
     "output_type": "stream",
     "text": [
      "297/484 RXCJ1504.1-0248 226.032 -2.805 12.475 0.2153\n"
     ]
    },
    {
     "name": "stderr",
     "output_type": "stream",
     "text": [
      "/Users/adam/Project/anaconda3/envs/ctaphys/lib/python3.7/site-packages/minot/ClusterTools/map_tools.py:216: RuntimeWarning: invalid value encountered in sin\n",
      "  arg4 = (np.sin((lon_ref-lon)*np.pi/180.0/2.0))**2\n",
      "/Users/adam/Project/anaconda3/envs/ctaphys/lib/python3.7/site-packages/minot/ClusterTools/map_tools.py:216: RuntimeWarning: invalid value encountered in sin\n",
      "  arg4 = (np.sin((lon_ref-lon)*np.pi/180.0/2.0))**2\n",
      "/Users/adam/Project/anaconda3/envs/ctaphys/lib/python3.7/site-packages/minot/ClusterTools/map_tools.py:216: RuntimeWarning: invalid value encountered in sin\n",
      "  arg4 = (np.sin((lon_ref-lon)*np.pi/180.0/2.0))**2\n"
     ]
    },
    {
     "name": "stdout",
     "output_type": "stream",
     "text": [
      "298/484 NGC_5846 226.624 1.605 0.1305 0.006\n"
     ]
    },
    {
     "name": "stderr",
     "output_type": "stream",
     "text": [
      "/Users/adam/Project/anaconda3/envs/ctaphys/lib/python3.7/site-packages/minot/ClusterTools/map_tools.py:216: RuntimeWarning: invalid value encountered in sin\n",
      "  arg4 = (np.sin((lon_ref-lon)*np.pi/180.0/2.0))**2\n",
      "/Users/adam/Project/anaconda3/envs/ctaphys/lib/python3.7/site-packages/ebltable/tau_from_model.py:307: RuntimeWarning: Warning: a z value is below interpolation range, zmin = 0.01\n",
      "  RuntimeWarning)\n",
      "/Users/adam/Project/anaconda3/envs/ctaphys/lib/python3.7/site-packages/minot/ClusterTools/map_tools.py:216: RuntimeWarning: invalid value encountered in sin\n",
      "  arg4 = (np.sin((lon_ref-lon)*np.pi/180.0/2.0))**2\n",
      "/Users/adam/Project/anaconda3/envs/ctaphys/lib/python3.7/site-packages/ebltable/tau_from_model.py:307: RuntimeWarning: Warning: a z value is below interpolation range, zmin = 0.01\n",
      "  RuntimeWarning)\n",
      "/Users/adam/Project/anaconda3/envs/ctaphys/lib/python3.7/site-packages/minot/ClusterTools/map_tools.py:216: RuntimeWarning: invalid value encountered in sin\n",
      "  arg4 = (np.sin((lon_ref-lon)*np.pi/180.0/2.0))**2\n",
      "/Users/adam/Project/anaconda3/envs/ctaphys/lib/python3.7/site-packages/ebltable/tau_from_model.py:307: RuntimeWarning: Warning: a z value is below interpolation range, zmin = 0.01\n",
      "  RuntimeWarning)\n",
      "/Users/adam/Project/anaconda3/envs/ctaphys/lib/python3.7/site-packages/ebltable/tau_from_model.py:307: RuntimeWarning: Warning: a z value is below interpolation range, zmin = 0.01\n",
      "  RuntimeWarning)\n",
      "/Users/adam/Project/anaconda3/envs/ctaphys/lib/python3.7/site-packages/ebltable/tau_from_model.py:307: RuntimeWarning: Warning: a z value is below interpolation range, zmin = 0.01\n",
      "  RuntimeWarning)\n",
      "/Users/adam/Project/anaconda3/envs/ctaphys/lib/python3.7/site-packages/ebltable/tau_from_model.py:307: RuntimeWarning: Warning: a z value is below interpolation range, zmin = 0.01\n",
      "  RuntimeWarning)\n"
     ]
    },
    {
     "name": "stdout",
     "output_type": "stream",
     "text": [
      "299/484 A2034 227.549 33.515 4.0695 0.113\n"
     ]
    },
    {
     "name": "stderr",
     "output_type": "stream",
     "text": [
      "/Users/adam/Project/anaconda3/envs/ctaphys/lib/python3.7/site-packages/minot/ClusterTools/map_tools.py:216: RuntimeWarning: invalid value encountered in sin\n",
      "  arg4 = (np.sin((lon_ref-lon)*np.pi/180.0/2.0))**2\n",
      "/Users/adam/Project/anaconda3/envs/ctaphys/lib/python3.7/site-packages/minot/ClusterTools/map_tools.py:216: RuntimeWarning: invalid value encountered in sin\n",
      "  arg4 = (np.sin((lon_ref-lon)*np.pi/180.0/2.0))**2\n",
      "/Users/adam/Project/anaconda3/envs/ctaphys/lib/python3.7/site-packages/minot/ClusterTools/map_tools.py:216: RuntimeWarning: invalid value encountered in sin\n",
      "  arg4 = (np.sin((lon_ref-lon)*np.pi/180.0/2.0))**2\n"
     ]
    },
    {
     "name": "stdout",
     "output_type": "stream",
     "text": [
      "300/484 A2029 227.729 5.72 7.2708 0.0766\n"
     ]
    },
    {
     "name": "stderr",
     "output_type": "stream",
     "text": [
      "/Users/adam/Project/anaconda3/envs/ctaphys/lib/python3.7/site-packages/minot/ClusterTools/map_tools.py:216: RuntimeWarning: invalid value encountered in sin\n",
      "  arg4 = (np.sin((lon_ref-lon)*np.pi/180.0/2.0))**2\n",
      "/Users/adam/Project/anaconda3/envs/ctaphys/lib/python3.7/site-packages/minot/ClusterTools/map_tools.py:216: RuntimeWarning: invalid value encountered in sin\n",
      "  arg4 = (np.sin((lon_ref-lon)*np.pi/180.0/2.0))**2\n",
      "/Users/adam/Project/anaconda3/envs/ctaphys/lib/python3.7/site-packages/minot/ClusterTools/map_tools.py:216: RuntimeWarning: invalid value encountered in sin\n",
      "  arg4 = (np.sin((lon_ref-lon)*np.pi/180.0/2.0))**2\n"
     ]
    },
    {
     "name": "stdout",
     "output_type": "stream",
     "text": [
      "301/484 A2033 227.848 6.319 2.3811 0.0817\n"
     ]
    },
    {
     "name": "stderr",
     "output_type": "stream",
     "text": [
      "/Users/adam/Project/anaconda3/envs/ctaphys/lib/python3.7/site-packages/minot/ClusterTools/map_tools.py:216: RuntimeWarning: invalid value encountered in sin\n",
      "  arg4 = (np.sin((lon_ref-lon)*np.pi/180.0/2.0))**2\n",
      "/Users/adam/Project/anaconda3/envs/ctaphys/lib/python3.7/site-packages/minot/ClusterTools/map_tools.py:216: RuntimeWarning: invalid value encountered in sin\n",
      "  arg4 = (np.sin((lon_ref-lon)*np.pi/180.0/2.0))**2\n",
      "/Users/adam/Project/anaconda3/envs/ctaphys/lib/python3.7/site-packages/minot/ClusterTools/map_tools.py:216: RuntimeWarning: invalid value encountered in sin\n",
      "  arg4 = (np.sin((lon_ref-lon)*np.pi/180.0/2.0))**2\n"
     ]
    },
    {
     "name": "stdout",
     "output_type": "stream",
     "text": [
      "302/484 RXC_J1514.6-4558 228.651 -45.981 2.6628 0.058\n"
     ]
    },
    {
     "name": "stderr",
     "output_type": "stream",
     "text": [
      "/Users/adam/Project/anaconda3/envs/ctaphys/lib/python3.7/site-packages/minot/ClusterTools/map_tools.py:216: RuntimeWarning: invalid value encountered in sin\n",
      "  arg4 = (np.sin((lon_ref-lon)*np.pi/180.0/2.0))**2\n",
      "/Users/adam/Project/anaconda3/envs/ctaphys/lib/python3.7/site-packages/minot/ClusterTools/map_tools.py:216: RuntimeWarning: invalid value encountered in sin\n",
      "  arg4 = (np.sin((lon_ref-lon)*np.pi/180.0/2.0))**2\n",
      "/Users/adam/Project/anaconda3/envs/ctaphys/lib/python3.7/site-packages/minot/ClusterTools/map_tools.py:216: RuntimeWarning: invalid value encountered in sin\n",
      "  arg4 = (np.sin((lon_ref-lon)*np.pi/180.0/2.0))**2\n"
     ]
    },
    {
     "name": "stdout",
     "output_type": "stream",
     "text": [
      "303/484 RXCJ1514.9-1523 228.742 -15.386 5.4232 0.2226\n"
     ]
    },
    {
     "name": "stderr",
     "output_type": "stream",
     "text": [
      "/Users/adam/Project/anaconda3/envs/ctaphys/lib/python3.7/site-packages/minot/ClusterTools/map_tools.py:216: RuntimeWarning: invalid value encountered in sin\n",
      "  arg4 = (np.sin((lon_ref-lon)*np.pi/180.0/2.0))**2\n",
      "/Users/adam/Project/anaconda3/envs/ctaphys/lib/python3.7/site-packages/minot/ClusterTools/map_tools.py:216: RuntimeWarning: invalid value encountered in sin\n",
      "  arg4 = (np.sin((lon_ref-lon)*np.pi/180.0/2.0))**2\n",
      "/Users/adam/Project/anaconda3/envs/ctaphys/lib/python3.7/site-packages/minot/ClusterTools/map_tools.py:216: RuntimeWarning: invalid value encountered in sin\n",
      "  arg4 = (np.sin((lon_ref-lon)*np.pi/180.0/2.0))**2\n"
     ]
    },
    {
     "name": "stdout",
     "output_type": "stream",
     "text": [
      "304/484 A2050 229.08 0.098 2.5949 0.1181\n"
     ]
    },
    {
     "name": "stderr",
     "output_type": "stream",
     "text": [
      "/Users/adam/Project/anaconda3/envs/ctaphys/lib/python3.7/site-packages/minot/ClusterTools/map_tools.py:216: RuntimeWarning: invalid value encountered in sin\n",
      "  arg4 = (np.sin((lon_ref-lon)*np.pi/180.0/2.0))**2\n",
      "/Users/adam/Project/anaconda3/envs/ctaphys/lib/python3.7/site-packages/minot/ClusterTools/map_tools.py:216: RuntimeWarning: invalid value encountered in sin\n",
      "  arg4 = (np.sin((lon_ref-lon)*np.pi/180.0/2.0))**2\n",
      "/Users/adam/Project/anaconda3/envs/ctaphys/lib/python3.7/site-packages/minot/ClusterTools/map_tools.py:216: RuntimeWarning: invalid value encountered in sin\n",
      "  arg4 = (np.sin((lon_ref-lon)*np.pi/180.0/2.0))**2\n"
     ]
    },
    {
     "name": "stdout",
     "output_type": "stream",
     "text": [
      "305/484 A2052 229.183 7.018 2.4945 0.0353\n"
     ]
    },
    {
     "name": "stderr",
     "output_type": "stream",
     "text": [
      "/Users/adam/Project/anaconda3/envs/ctaphys/lib/python3.7/site-packages/minot/ClusterTools/map_tools.py:216: RuntimeWarning: invalid value encountered in sin\n",
      "  arg4 = (np.sin((lon_ref-lon)*np.pi/180.0/2.0))**2\n",
      "/Users/adam/Project/anaconda3/envs/ctaphys/lib/python3.7/site-packages/minot/ClusterTools/map_tools.py:216: RuntimeWarning: invalid value encountered in sin\n",
      "  arg4 = (np.sin((lon_ref-lon)*np.pi/180.0/2.0))**2\n",
      "/Users/adam/Project/anaconda3/envs/ctaphys/lib/python3.7/site-packages/minot/ClusterTools/map_tools.py:216: RuntimeWarning: invalid value encountered in sin\n",
      "  arg4 = (np.sin((lon_ref-lon)*np.pi/180.0/2.0))**2\n"
     ]
    },
    {
     "name": "stdout",
     "output_type": "stream",
     "text": [
      "306/484 RXC_J1518.3-4632 229.595 -46.54 1.2396 0.056\n"
     ]
    },
    {
     "name": "stderr",
     "output_type": "stream",
     "text": [
      "/Users/adam/Project/anaconda3/envs/ctaphys/lib/python3.7/site-packages/minot/ClusterTools/map_tools.py:216: RuntimeWarning: invalid value encountered in sin\n",
      "  arg4 = (np.sin((lon_ref-lon)*np.pi/180.0/2.0))**2\n",
      "/Users/adam/Project/anaconda3/envs/ctaphys/lib/python3.7/site-packages/minot/ClusterTools/map_tools.py:216: RuntimeWarning: invalid value encountered in sin\n",
      "  arg4 = (np.sin((lon_ref-lon)*np.pi/180.0/2.0))**2\n",
      "/Users/adam/Project/anaconda3/envs/ctaphys/lib/python3.7/site-packages/minot/ClusterTools/map_tools.py:216: RuntimeWarning: invalid value encountered in sin\n",
      "  arg4 = (np.sin((lon_ref-lon)*np.pi/180.0/2.0))**2\n"
     ]
    },
    {
     "name": "stdout",
     "output_type": "stream",
     "text": [
      "307/484 A2055 229.69 6.231 3.118 0.1021\n"
     ]
    },
    {
     "name": "stderr",
     "output_type": "stream",
     "text": [
      "/Users/adam/Project/anaconda3/envs/ctaphys/lib/python3.7/site-packages/minot/ClusterTools/map_tools.py:216: RuntimeWarning: invalid value encountered in sin\n",
      "  arg4 = (np.sin((lon_ref-lon)*np.pi/180.0/2.0))**2\n",
      "/Users/adam/Project/anaconda3/envs/ctaphys/lib/python3.7/site-packages/minot/ClusterTools/map_tools.py:216: RuntimeWarning: invalid value encountered in sin\n",
      "  arg4 = (np.sin((lon_ref-lon)*np.pi/180.0/2.0))**2\n",
      "/Users/adam/Project/anaconda3/envs/ctaphys/lib/python3.7/site-packages/minot/ClusterTools/map_tools.py:216: RuntimeWarning: invalid value encountered in sin\n",
      "  arg4 = (np.sin((lon_ref-lon)*np.pi/180.0/2.0))**2\n"
     ]
    },
    {
     "name": "stdout",
     "output_type": "stream",
     "text": [
      "308/484 A2064 230.227 48.669 2.6205 0.1076\n"
     ]
    },
    {
     "name": "stderr",
     "output_type": "stream",
     "text": [
      "/Users/adam/Project/anaconda3/envs/ctaphys/lib/python3.7/site-packages/minot/ClusterTools/map_tools.py:216: RuntimeWarning: invalid value encountered in sin\n",
      "  arg4 = (np.sin((lon_ref-lon)*np.pi/180.0/2.0))**2\n",
      "/Users/adam/Project/anaconda3/envs/ctaphys/lib/python3.7/site-packages/minot/ClusterTools/map_tools.py:216: RuntimeWarning: invalid value encountered in sin\n",
      "  arg4 = (np.sin((lon_ref-lon)*np.pi/180.0/2.0))**2\n",
      "/Users/adam/Project/anaconda3/envs/ctaphys/lib/python3.7/site-packages/minot/ClusterTools/map_tools.py:216: RuntimeWarning: invalid value encountered in sin\n",
      "  arg4 = (np.sin((lon_ref-lon)*np.pi/180.0/2.0))**2\n"
     ]
    },
    {
     "name": "stdout",
     "output_type": "stream",
     "text": [
      "309/484 A2061 230.321 30.64 2.8536 0.0777\n"
     ]
    },
    {
     "name": "stderr",
     "output_type": "stream",
     "text": [
      "/Users/adam/Project/anaconda3/envs/ctaphys/lib/python3.7/site-packages/minot/ClusterTools/map_tools.py:216: RuntimeWarning: invalid value encountered in sin\n",
      "  arg4 = (np.sin((lon_ref-lon)*np.pi/180.0/2.0))**2\n",
      "/Users/adam/Project/anaconda3/envs/ctaphys/lib/python3.7/site-packages/minot/ClusterTools/map_tools.py:216: RuntimeWarning: invalid value encountered in sin\n",
      "  arg4 = (np.sin((lon_ref-lon)*np.pi/180.0/2.0))**2\n",
      "/Users/adam/Project/anaconda3/envs/ctaphys/lib/python3.7/site-packages/minot/ClusterTools/map_tools.py:216: RuntimeWarning: invalid value encountered in sin\n",
      "  arg4 = (np.sin((lon_ref-lon)*np.pi/180.0/2.0))**2\n"
     ]
    },
    {
     "name": "stdout",
     "output_type": "stream",
     "text": [
      "310/484 MKW_3s 230.458 7.709 2.5215 0.0442\n"
     ]
    },
    {
     "name": "stderr",
     "output_type": "stream",
     "text": [
      "/Users/adam/Project/anaconda3/envs/ctaphys/lib/python3.7/site-packages/minot/ClusterTools/map_tools.py:216: RuntimeWarning: invalid value encountered in sin\n",
      "  arg4 = (np.sin((lon_ref-lon)*np.pi/180.0/2.0))**2\n",
      "/Users/adam/Project/anaconda3/envs/ctaphys/lib/python3.7/site-packages/minot/ClusterTools/map_tools.py:216: RuntimeWarning: invalid value encountered in sin\n",
      "  arg4 = (np.sin((lon_ref-lon)*np.pi/180.0/2.0))**2\n",
      "/Users/adam/Project/anaconda3/envs/ctaphys/lib/python3.7/site-packages/minot/ClusterTools/map_tools.py:216: RuntimeWarning: invalid value encountered in sin\n",
      "  arg4 = (np.sin((lon_ref-lon)*np.pi/180.0/2.0))**2\n"
     ]
    },
    {
     "name": "stdout",
     "output_type": "stream",
     "text": [
      "311/484 A2065 230.611 27.709 3.5078 0.0723\n"
     ]
    },
    {
     "name": "stderr",
     "output_type": "stream",
     "text": [
      "/Users/adam/Project/anaconda3/envs/ctaphys/lib/python3.7/site-packages/minot/ClusterTools/map_tools.py:216: RuntimeWarning: invalid value encountered in sin\n",
      "  arg4 = (np.sin((lon_ref-lon)*np.pi/180.0/2.0))**2\n",
      "/Users/adam/Project/anaconda3/envs/ctaphys/lib/python3.7/site-packages/minot/ClusterTools/map_tools.py:216: RuntimeWarning: invalid value encountered in sin\n",
      "  arg4 = (np.sin((lon_ref-lon)*np.pi/180.0/2.0))**2\n",
      "/Users/adam/Project/anaconda3/envs/ctaphys/lib/python3.7/site-packages/minot/ClusterTools/map_tools.py:216: RuntimeWarning: invalid value encountered in sin\n",
      "  arg4 = (np.sin((lon_ref-lon)*np.pi/180.0/2.0))**2\n"
     ]
    },
    {
     "name": "stdout",
     "output_type": "stream",
     "text": [
      "312/484 A2063 230.772 8.602 2.1598 0.0355\n"
     ]
    },
    {
     "name": "stderr",
     "output_type": "stream",
     "text": [
      "/Users/adam/Project/anaconda3/envs/ctaphys/lib/python3.7/site-packages/minot/ClusterTools/map_tools.py:216: RuntimeWarning: invalid value encountered in sin\n",
      "  arg4 = (np.sin((lon_ref-lon)*np.pi/180.0/2.0))**2\n",
      "/Users/adam/Project/anaconda3/envs/ctaphys/lib/python3.7/site-packages/minot/ClusterTools/map_tools.py:216: RuntimeWarning: invalid value encountered in sin\n",
      "  arg4 = (np.sin((lon_ref-lon)*np.pi/180.0/2.0))**2\n",
      "/Users/adam/Project/anaconda3/envs/ctaphys/lib/python3.7/site-packages/minot/ClusterTools/map_tools.py:216: RuntimeWarning: invalid value encountered in sin\n",
      "  arg4 = (np.sin((lon_ref-lon)*np.pi/180.0/2.0))**2\n"
     ]
    },
    {
     "name": "stdout",
     "output_type": "stream",
     "text": [
      "313/484 A2069 231.041 29.921 4.5741 0.1145\n"
     ]
    },
    {
     "name": "stderr",
     "output_type": "stream",
     "text": [
      "/Users/adam/Project/anaconda3/envs/ctaphys/lib/python3.7/site-packages/minot/ClusterTools/map_tools.py:216: RuntimeWarning: invalid value encountered in sin\n",
      "  arg4 = (np.sin((lon_ref-lon)*np.pi/180.0/2.0))**2\n",
      "/Users/adam/Project/anaconda3/envs/ctaphys/lib/python3.7/site-packages/minot/ClusterTools/map_tools.py:216: RuntimeWarning: invalid value encountered in sin\n",
      "  arg4 = (np.sin((lon_ref-lon)*np.pi/180.0/2.0))**2\n",
      "/Users/adam/Project/anaconda3/envs/ctaphys/lib/python3.7/site-packages/minot/ClusterTools/map_tools.py:216: RuntimeWarning: invalid value encountered in sin\n",
      "  arg4 = (np.sin((lon_ref-lon)*np.pi/180.0/2.0))**2\n"
     ]
    },
    {
     "name": "stdout",
     "output_type": "stream",
     "text": [
      "314/484 RXCJ1524.2-3154 231.053 -31.904 3.5855 0.1028\n"
     ]
    },
    {
     "name": "stderr",
     "output_type": "stream",
     "text": [
      "/Users/adam/Project/anaconda3/envs/ctaphys/lib/python3.7/site-packages/minot/ClusterTools/map_tools.py:216: RuntimeWarning: invalid value encountered in sin\n",
      "  arg4 = (np.sin((lon_ref-lon)*np.pi/180.0/2.0))**2\n",
      "/Users/adam/Project/anaconda3/envs/ctaphys/lib/python3.7/site-packages/minot/ClusterTools/map_tools.py:216: RuntimeWarning: invalid value encountered in sin\n",
      "  arg4 = (np.sin((lon_ref-lon)*np.pi/180.0/2.0))**2\n",
      "/Users/adam/Project/anaconda3/envs/ctaphys/lib/python3.7/site-packages/minot/ClusterTools/map_tools.py:216: RuntimeWarning: invalid value encountered in sin\n",
      "  arg4 = (np.sin((lon_ref-lon)*np.pi/180.0/2.0))**2\n"
     ]
    },
    {
     "name": "stdout",
     "output_type": "stream",
     "text": [
      "315/484 RXJ1532.9+3021 233.226 30.353 8.1627 0.345\n"
     ]
    },
    {
     "name": "stderr",
     "output_type": "stream",
     "text": [
      "/Users/adam/Project/anaconda3/envs/ctaphys/lib/python3.7/site-packages/minot/ClusterTools/map_tools.py:216: RuntimeWarning: invalid value encountered in sin\n",
      "  arg4 = (np.sin((lon_ref-lon)*np.pi/180.0/2.0))**2\n",
      "/Users/adam/Project/anaconda3/envs/ctaphys/lib/python3.7/site-packages/minot/ClusterTools/map_tools.py:216: RuntimeWarning: invalid value encountered in sin\n",
      "  arg4 = (np.sin((lon_ref-lon)*np.pi/180.0/2.0))**2\n",
      "/Users/adam/Project/anaconda3/envs/ctaphys/lib/python3.7/site-packages/minot/ClusterTools/map_tools.py:216: RuntimeWarning: invalid value encountered in sin\n",
      "  arg4 = (np.sin((lon_ref-lon)*np.pi/180.0/2.0))**2\n"
     ]
    },
    {
     "name": "stdout",
     "output_type": "stream",
     "text": [
      "316/484 RXCJ1539.5-8335 234.891 -83.592 3.177 0.0728\n"
     ]
    },
    {
     "name": "stderr",
     "output_type": "stream",
     "text": [
      "/Users/adam/Project/anaconda3/envs/ctaphys/lib/python3.7/site-packages/minot/ClusterTools/map_tools.py:216: RuntimeWarning: invalid value encountered in sin\n",
      "  arg4 = (np.sin((lon_ref-lon)*np.pi/180.0/2.0))**2\n",
      "/Users/adam/Project/anaconda3/envs/ctaphys/lib/python3.7/site-packages/minot/ClusterTools/map_tools.py:216: RuntimeWarning: invalid value encountered in sin\n",
      "  arg4 = (np.sin((lon_ref-lon)*np.pi/180.0/2.0))**2\n",
      "/Users/adam/Project/anaconda3/envs/ctaphys/lib/python3.7/site-packages/minot/ClusterTools/map_tools.py:216: RuntimeWarning: invalid value encountered in sin\n",
      "  arg4 = (np.sin((lon_ref-lon)*np.pi/180.0/2.0))**2\n"
     ]
    },
    {
     "name": "stdout",
     "output_type": "stream",
     "text": [
      "317/484 A2107 234.91 21.789 1.4922 0.0411\n"
     ]
    },
    {
     "name": "stderr",
     "output_type": "stream",
     "text": [
      "/Users/adam/Project/anaconda3/envs/ctaphys/lib/python3.7/site-packages/minot/ClusterTools/map_tools.py:216: RuntimeWarning: invalid value encountered in sin\n",
      "  arg4 = (np.sin((lon_ref-lon)*np.pi/180.0/2.0))**2\n",
      "/Users/adam/Project/anaconda3/envs/ctaphys/lib/python3.7/site-packages/minot/ClusterTools/map_tools.py:216: RuntimeWarning: invalid value encountered in sin\n",
      "  arg4 = (np.sin((lon_ref-lon)*np.pi/180.0/2.0))**2\n",
      "/Users/adam/Project/anaconda3/envs/ctaphys/lib/python3.7/site-packages/minot/ClusterTools/map_tools.py:216: RuntimeWarning: invalid value encountered in sin\n",
      "  arg4 = (np.sin((lon_ref-lon)*np.pi/180.0/2.0))**2\n"
     ]
    },
    {
     "name": "stdout",
     "output_type": "stream",
     "text": [
      "318/484 A2110 234.953 30.717 3.1409 0.098\n"
     ]
    },
    {
     "name": "stderr",
     "output_type": "stream",
     "text": [
      "/Users/adam/Project/anaconda3/envs/ctaphys/lib/python3.7/site-packages/minot/ClusterTools/map_tools.py:216: RuntimeWarning: invalid value encountered in sin\n",
      "  arg4 = (np.sin((lon_ref-lon)*np.pi/180.0/2.0))**2\n",
      "/Users/adam/Project/anaconda3/envs/ctaphys/lib/python3.7/site-packages/minot/ClusterTools/map_tools.py:216: RuntimeWarning: invalid value encountered in sin\n",
      "  arg4 = (np.sin((lon_ref-lon)*np.pi/180.0/2.0))**2\n",
      "/Users/adam/Project/anaconda3/envs/ctaphys/lib/python3.7/site-packages/minot/ClusterTools/map_tools.py:216: RuntimeWarning: invalid value encountered in sin\n",
      "  arg4 = (np.sin((lon_ref-lon)*np.pi/180.0/2.0))**2\n"
     ]
    },
    {
     "name": "stdout",
     "output_type": "stream",
     "text": [
      "319/484 A2104 235.031 -3.308 4.4239 0.1533\n"
     ]
    },
    {
     "name": "stderr",
     "output_type": "stream",
     "text": [
      "/Users/adam/Project/anaconda3/envs/ctaphys/lib/python3.7/site-packages/minot/ClusterTools/map_tools.py:216: RuntimeWarning: invalid value encountered in sin\n",
      "  arg4 = (np.sin((lon_ref-lon)*np.pi/180.0/2.0))**2\n",
      "/Users/adam/Project/anaconda3/envs/ctaphys/lib/python3.7/site-packages/minot/ClusterTools/map_tools.py:216: RuntimeWarning: invalid value encountered in sin\n",
      "  arg4 = (np.sin((lon_ref-lon)*np.pi/180.0/2.0))**2\n",
      "/Users/adam/Project/anaconda3/envs/ctaphys/lib/python3.7/site-packages/minot/ClusterTools/map_tools.py:216: RuntimeWarning: invalid value encountered in sin\n",
      "  arg4 = (np.sin((lon_ref-lon)*np.pi/180.0/2.0))**2\n"
     ]
    },
    {
     "name": "stdout",
     "output_type": "stream",
     "text": [
      "320/484 A2124 236.25 36.066 1.5514 0.0654\n"
     ]
    },
    {
     "name": "stderr",
     "output_type": "stream",
     "text": [
      "/Users/adam/Project/anaconda3/envs/ctaphys/lib/python3.7/site-packages/minot/ClusterTools/map_tools.py:216: RuntimeWarning: invalid value encountered in sin\n",
      "  arg4 = (np.sin((lon_ref-lon)*np.pi/180.0/2.0))**2\n",
      "/Users/adam/Project/anaconda3/envs/ctaphys/lib/python3.7/site-packages/minot/ClusterTools/map_tools.py:216: RuntimeWarning: invalid value encountered in sin\n",
      "  arg4 = (np.sin((lon_ref-lon)*np.pi/180.0/2.0))**2\n",
      "/Users/adam/Project/anaconda3/envs/ctaphys/lib/python3.7/site-packages/minot/ClusterTools/map_tools.py:216: RuntimeWarning: invalid value encountered in sin\n",
      "  arg4 = (np.sin((lon_ref-lon)*np.pi/180.0/2.0))**2\n"
     ]
    },
    {
     "name": "stdout",
     "output_type": "stream",
     "text": [
      "321/484 A2142 239.586 27.227 8.1491 0.0894\n"
     ]
    },
    {
     "name": "stderr",
     "output_type": "stream",
     "text": [
      "/Users/adam/Project/anaconda3/envs/ctaphys/lib/python3.7/site-packages/minot/ClusterTools/map_tools.py:216: RuntimeWarning: invalid value encountered in sin\n",
      "  arg4 = (np.sin((lon_ref-lon)*np.pi/180.0/2.0))**2\n",
      "/Users/adam/Project/anaconda3/envs/ctaphys/lib/python3.7/site-packages/minot/ClusterTools/map_tools.py:216: RuntimeWarning: invalid value encountered in sin\n",
      "  arg4 = (np.sin((lon_ref-lon)*np.pi/180.0/2.0))**2\n",
      "/Users/adam/Project/anaconda3/envs/ctaphys/lib/python3.7/site-packages/minot/ClusterTools/map_tools.py:216: RuntimeWarning: invalid value encountered in sin\n",
      "  arg4 = (np.sin((lon_ref-lon)*np.pi/180.0/2.0))**2\n"
     ]
    },
    {
     "name": "stdout",
     "output_type": "stream",
     "text": [
      "322/484 RXCJ1558.3-1410 239.597 -14.168 3.8731 0.097\n"
     ]
    },
    {
     "name": "stderr",
     "output_type": "stream",
     "text": [
      "/Users/adam/Project/anaconda3/envs/ctaphys/lib/python3.7/site-packages/minot/ClusterTools/map_tools.py:216: RuntimeWarning: invalid value encountered in sin\n",
      "  arg4 = (np.sin((lon_ref-lon)*np.pi/180.0/2.0))**2\n",
      "/Users/adam/Project/anaconda3/envs/ctaphys/lib/python3.7/site-packages/minot/ClusterTools/map_tools.py:216: RuntimeWarning: invalid value encountered in sin\n",
      "  arg4 = (np.sin((lon_ref-lon)*np.pi/180.0/2.0))**2\n",
      "/Users/adam/Project/anaconda3/envs/ctaphys/lib/python3.7/site-packages/minot/ClusterTools/map_tools.py:216: RuntimeWarning: invalid value encountered in sin\n",
      "  arg4 = (np.sin((lon_ref-lon)*np.pi/180.0/2.0))**2\n"
     ]
    },
    {
     "name": "stdout",
     "output_type": "stream",
     "text": [
      "323/484 RXC_J1601.7-7544 240.445 -75.746 6.876 0.153\n"
     ]
    },
    {
     "name": "stderr",
     "output_type": "stream",
     "text": [
      "/Users/adam/Project/anaconda3/envs/ctaphys/lib/python3.7/site-packages/minot/ClusterTools/map_tools.py:216: RuntimeWarning: invalid value encountered in sin\n",
      "  arg4 = (np.sin((lon_ref-lon)*np.pi/180.0/2.0))**2\n",
      "/Users/adam/Project/anaconda3/envs/ctaphys/lib/python3.7/site-packages/minot/ClusterTools/map_tools.py:216: RuntimeWarning: invalid value encountered in sin\n",
      "  arg4 = (np.sin((lon_ref-lon)*np.pi/180.0/2.0))**2\n",
      "/Users/adam/Project/anaconda3/envs/ctaphys/lib/python3.7/site-packages/minot/ClusterTools/map_tools.py:216: RuntimeWarning: invalid value encountered in sin\n",
      "  arg4 = (np.sin((lon_ref-lon)*np.pi/180.0/2.0))**2\n"
     ]
    },
    {
     "name": "stdout",
     "output_type": "stream",
     "text": [
      "324/484 A2147 240.578 16.02 2.4052 0.0353\n"
     ]
    },
    {
     "name": "stderr",
     "output_type": "stream",
     "text": [
      "/Users/adam/Project/anaconda3/envs/ctaphys/lib/python3.7/site-packages/minot/ClusterTools/map_tools.py:216: RuntimeWarning: invalid value encountered in sin\n",
      "  arg4 = (np.sin((lon_ref-lon)*np.pi/180.0/2.0))**2\n",
      "/Users/adam/Project/anaconda3/envs/ctaphys/lib/python3.7/site-packages/minot/ClusterTools/map_tools.py:216: RuntimeWarning: invalid value encountered in sin\n",
      "  arg4 = (np.sin((lon_ref-lon)*np.pi/180.0/2.0))**2\n",
      "/Users/adam/Project/anaconda3/envs/ctaphys/lib/python3.7/site-packages/minot/ClusterTools/map_tools.py:216: RuntimeWarning: invalid value encountered in sin\n",
      "  arg4 = (np.sin((lon_ref-lon)*np.pi/180.0/2.0))**2\n"
     ]
    },
    {
     "name": "stdout",
     "output_type": "stream",
     "text": [
      "325/484 A2151a 241.149 17.724 1.3202 0.037\n"
     ]
    },
    {
     "name": "stderr",
     "output_type": "stream",
     "text": [
      "/Users/adam/Project/anaconda3/envs/ctaphys/lib/python3.7/site-packages/minot/ClusterTools/map_tools.py:216: RuntimeWarning: invalid value encountered in sin\n",
      "  arg4 = (np.sin((lon_ref-lon)*np.pi/180.0/2.0))**2\n",
      "/Users/adam/Project/anaconda3/envs/ctaphys/lib/python3.7/site-packages/minot/ClusterTools/map_tools.py:216: RuntimeWarning: invalid value encountered in sin\n",
      "  arg4 = (np.sin((lon_ref-lon)*np.pi/180.0/2.0))**2\n",
      "/Users/adam/Project/anaconda3/envs/ctaphys/lib/python3.7/site-packages/minot/ClusterTools/map_tools.py:216: RuntimeWarning: invalid value encountered in sin\n",
      "  arg4 = (np.sin((lon_ref-lon)*np.pi/180.0/2.0))**2\n"
     ]
    },
    {
     "name": "stdout",
     "output_type": "stream",
     "text": [
      "326/484 AWM_4 241.238 23.921 0.9289 0.0326\n"
     ]
    },
    {
     "name": "stderr",
     "output_type": "stream",
     "text": [
      "/Users/adam/Project/anaconda3/envs/ctaphys/lib/python3.7/site-packages/minot/ClusterTools/map_tools.py:216: RuntimeWarning: invalid value encountered in sin\n",
      "  arg4 = (np.sin((lon_ref-lon)*np.pi/180.0/2.0))**2\n",
      "/Users/adam/Project/anaconda3/envs/ctaphys/lib/python3.7/site-packages/minot/ClusterTools/map_tools.py:216: RuntimeWarning: invalid value encountered in sin\n",
      "  arg4 = (np.sin((lon_ref-lon)*np.pi/180.0/2.0))**2\n",
      "/Users/adam/Project/anaconda3/envs/ctaphys/lib/python3.7/site-packages/minot/ClusterTools/map_tools.py:216: RuntimeWarning: invalid value encountered in sin\n",
      "  arg4 = (np.sin((lon_ref-lon)*np.pi/180.0/2.0))**2\n"
     ]
    },
    {
     "name": "stdout",
     "output_type": "stream",
     "text": [
      "327/484 A3627 243.594 -60.869 2.136 0.0157\n"
     ]
    },
    {
     "name": "stderr",
     "output_type": "stream",
     "text": [
      "/Users/adam/Project/anaconda3/envs/ctaphys/lib/python3.7/site-packages/minot/ClusterTools/map_tools.py:216: RuntimeWarning: invalid value encountered in sin\n",
      "  arg4 = (np.sin((lon_ref-lon)*np.pi/180.0/2.0))**2\n",
      "/Users/adam/Project/anaconda3/envs/ctaphys/lib/python3.7/site-packages/minot/ClusterTools/map_tools.py:216: RuntimeWarning: invalid value encountered in sin\n",
      "  arg4 = (np.sin((lon_ref-lon)*np.pi/180.0/2.0))**2\n",
      "/Users/adam/Project/anaconda3/envs/ctaphys/lib/python3.7/site-packages/minot/ClusterTools/map_tools.py:216: RuntimeWarning: invalid value encountered in sin\n",
      "  arg4 = (np.sin((lon_ref-lon)*np.pi/180.0/2.0))**2\n"
     ]
    },
    {
     "name": "stdout",
     "output_type": "stream",
     "text": [
      "328/484 A2163 243.945 -6.146 11.0518 0.203\n"
     ]
    },
    {
     "name": "stderr",
     "output_type": "stream",
     "text": [
      "/Users/adam/Project/anaconda3/envs/ctaphys/lib/python3.7/site-packages/minot/ClusterTools/map_tools.py:216: RuntimeWarning: invalid value encountered in sin\n",
      "  arg4 = (np.sin((lon_ref-lon)*np.pi/180.0/2.0))**2\n",
      "/Users/adam/Project/anaconda3/envs/ctaphys/lib/python3.7/site-packages/minot/ClusterTools/map_tools.py:216: RuntimeWarning: invalid value encountered in sin\n",
      "  arg4 = (np.sin((lon_ref-lon)*np.pi/180.0/2.0))**2\n",
      "/Users/adam/Project/anaconda3/envs/ctaphys/lib/python3.7/site-packages/minot/ClusterTools/map_tools.py:216: RuntimeWarning: invalid value encountered in sin\n",
      "  arg4 = (np.sin((lon_ref-lon)*np.pi/180.0/2.0))**2\n"
     ]
    },
    {
     "name": "stdout",
     "output_type": "stream",
     "text": [
      "329/484 NGC_6107 244.363 34.937 0.6744 0.0315\n"
     ]
    },
    {
     "name": "stderr",
     "output_type": "stream",
     "text": [
      "/Users/adam/Project/anaconda3/envs/ctaphys/lib/python3.7/site-packages/minot/ClusterTools/map_tools.py:216: RuntimeWarning: invalid value encountered in sin\n",
      "  arg4 = (np.sin((lon_ref-lon)*np.pi/180.0/2.0))**2\n",
      "/Users/adam/Project/anaconda3/envs/ctaphys/lib/python3.7/site-packages/minot/ClusterTools/map_tools.py:216: RuntimeWarning: invalid value encountered in sin\n",
      "  arg4 = (np.sin((lon_ref-lon)*np.pi/180.0/2.0))**2\n",
      "/Users/adam/Project/anaconda3/envs/ctaphys/lib/python3.7/site-packages/minot/ClusterTools/map_tools.py:216: RuntimeWarning: invalid value encountered in sin\n",
      "  arg4 = (np.sin((lon_ref-lon)*np.pi/180.0/2.0))**2\n"
     ]
    },
    {
     "name": "stdout",
     "output_type": "stream",
     "text": [
      "330/484 A2175 245.132 29.895 2.5734 0.0972\n"
     ]
    },
    {
     "name": "stderr",
     "output_type": "stream",
     "text": [
      "/Users/adam/Project/anaconda3/envs/ctaphys/lib/python3.7/site-packages/minot/ClusterTools/map_tools.py:216: RuntimeWarning: invalid value encountered in sin\n",
      "  arg4 = (np.sin((lon_ref-lon)*np.pi/180.0/2.0))**2\n",
      "/Users/adam/Project/anaconda3/envs/ctaphys/lib/python3.7/site-packages/minot/ClusterTools/map_tools.py:216: RuntimeWarning: invalid value encountered in sin\n",
      "  arg4 = (np.sin((lon_ref-lon)*np.pi/180.0/2.0))**2\n",
      "/Users/adam/Project/anaconda3/envs/ctaphys/lib/python3.7/site-packages/minot/ClusterTools/map_tools.py:216: RuntimeWarning: invalid value encountered in sin\n",
      "  arg4 = (np.sin((lon_ref-lon)*np.pi/180.0/2.0))**2\n"
     ]
    },
    {
     "name": "stdout",
     "output_type": "stream",
     "text": [
      "331/484 RXC_J1626.3-3329 246.586 -33.489 4.6556 0.1098\n"
     ]
    },
    {
     "name": "stderr",
     "output_type": "stream",
     "text": [
      "/Users/adam/Project/anaconda3/envs/ctaphys/lib/python3.7/site-packages/minot/ClusterTools/map_tools.py:216: RuntimeWarning: invalid value encountered in sin\n",
      "  arg4 = (np.sin((lon_ref-lon)*np.pi/180.0/2.0))**2\n",
      "/Users/adam/Project/anaconda3/envs/ctaphys/lib/python3.7/site-packages/minot/ClusterTools/map_tools.py:216: RuntimeWarning: invalid value encountered in sin\n",
      "  arg4 = (np.sin((lon_ref-lon)*np.pi/180.0/2.0))**2\n",
      "/Users/adam/Project/anaconda3/envs/ctaphys/lib/python3.7/site-packages/minot/ClusterTools/map_tools.py:216: RuntimeWarning: invalid value encountered in sin\n",
      "  arg4 = (np.sin((lon_ref-lon)*np.pi/180.0/2.0))**2\n"
     ]
    },
    {
     "name": "stdout",
     "output_type": "stream",
     "text": [
      "332/484 A2199 247.158 39.549 2.9626 0.0299\n"
     ]
    },
    {
     "name": "stderr",
     "output_type": "stream",
     "text": [
      "/Users/adam/Project/anaconda3/envs/ctaphys/lib/python3.7/site-packages/minot/ClusterTools/map_tools.py:216: RuntimeWarning: invalid value encountered in sin\n",
      "  arg4 = (np.sin((lon_ref-lon)*np.pi/180.0/2.0))**2\n",
      "/Users/adam/Project/anaconda3/envs/ctaphys/lib/python3.7/site-packages/minot/ClusterTools/map_tools.py:216: RuntimeWarning: invalid value encountered in sin\n",
      "  arg4 = (np.sin((lon_ref-lon)*np.pi/180.0/2.0))**2\n",
      "/Users/adam/Project/anaconda3/envs/ctaphys/lib/python3.7/site-packages/minot/ClusterTools/map_tools.py:216: RuntimeWarning: invalid value encountered in sin\n",
      "  arg4 = (np.sin((lon_ref-lon)*np.pi/180.0/2.0))**2\n"
     ]
    },
    {
     "name": "stdout",
     "output_type": "stream",
     "text": [
      "333/484 A3628 247.913 -75.122 4.3137 0.105\n"
     ]
    },
    {
     "name": "stderr",
     "output_type": "stream",
     "text": [
      "/Users/adam/Project/anaconda3/envs/ctaphys/lib/python3.7/site-packages/minot/ClusterTools/map_tools.py:216: RuntimeWarning: invalid value encountered in sin\n",
      "  arg4 = (np.sin((lon_ref-lon)*np.pi/180.0/2.0))**2\n",
      "/Users/adam/Project/anaconda3/envs/ctaphys/lib/python3.7/site-packages/minot/ClusterTools/map_tools.py:216: RuntimeWarning: invalid value encountered in sin\n",
      "  arg4 = (np.sin((lon_ref-lon)*np.pi/180.0/2.0))**2\n",
      "/Users/adam/Project/anaconda3/envs/ctaphys/lib/python3.7/site-packages/minot/ClusterTools/map_tools.py:216: RuntimeWarning: invalid value encountered in sin\n",
      "  arg4 = (np.sin((lon_ref-lon)*np.pi/180.0/2.0))**2\n"
     ]
    },
    {
     "name": "stdout",
     "output_type": "stream",
     "text": [
      "334/484 A2204 248.194 5.57 9.0453 0.1514\n"
     ]
    },
    {
     "name": "stderr",
     "output_type": "stream",
     "text": [
      "/Users/adam/Project/anaconda3/envs/ctaphys/lib/python3.7/site-packages/minot/ClusterTools/map_tools.py:216: RuntimeWarning: invalid value encountered in sin\n",
      "  arg4 = (np.sin((lon_ref-lon)*np.pi/180.0/2.0))**2\n",
      "/Users/adam/Project/anaconda3/envs/ctaphys/lib/python3.7/site-packages/minot/ClusterTools/map_tools.py:216: RuntimeWarning: invalid value encountered in sin\n",
      "  arg4 = (np.sin((lon_ref-lon)*np.pi/180.0/2.0))**2\n",
      "/Users/adam/Project/anaconda3/envs/ctaphys/lib/python3.7/site-packages/minot/ClusterTools/map_tools.py:216: RuntimeWarning: invalid value encountered in sin\n",
      "  arg4 = (np.sin((lon_ref-lon)*np.pi/180.0/2.0))**2\n"
     ]
    },
    {
     "name": "stdout",
     "output_type": "stream",
     "text": [
      "335/484 A2218 248.968 66.214 4.6412 0.1709\n"
     ]
    },
    {
     "name": "stderr",
     "output_type": "stream",
     "text": [
      "/Users/adam/Project/anaconda3/envs/ctaphys/lib/python3.7/site-packages/minot/ClusterTools/map_tools.py:216: RuntimeWarning: invalid value encountered in sin\n",
      "  arg4 = (np.sin((lon_ref-lon)*np.pi/180.0/2.0))**2\n",
      "/Users/adam/Project/anaconda3/envs/ctaphys/lib/python3.7/site-packages/minot/ClusterTools/map_tools.py:216: RuntimeWarning: invalid value encountered in sin\n",
      "  arg4 = (np.sin((lon_ref-lon)*np.pi/180.0/2.0))**2\n",
      "/Users/adam/Project/anaconda3/envs/ctaphys/lib/python3.7/site-packages/minot/ClusterTools/map_tools.py:216: RuntimeWarning: invalid value encountered in sin\n",
      "  arg4 = (np.sin((lon_ref-lon)*np.pi/180.0/2.0))**2\n"
     ]
    },
    {
     "name": "stdout",
     "output_type": "stream",
     "text": [
      "336/484 Triangulum_Australis 249.567 -64.347 5.235 0.0508\n"
     ]
    },
    {
     "name": "stderr",
     "output_type": "stream",
     "text": [
      "/Users/adam/Project/anaconda3/envs/ctaphys/lib/python3.7/site-packages/minot/ClusterTools/map_tools.py:216: RuntimeWarning: invalid value encountered in sin\n",
      "  arg4 = (np.sin((lon_ref-lon)*np.pi/180.0/2.0))**2\n",
      "/Users/adam/Project/anaconda3/envs/ctaphys/lib/python3.7/site-packages/minot/ClusterTools/map_tools.py:216: RuntimeWarning: invalid value encountered in sin\n",
      "  arg4 = (np.sin((lon_ref-lon)*np.pi/180.0/2.0))**2\n",
      "/Users/adam/Project/anaconda3/envs/ctaphys/lib/python3.7/site-packages/minot/ClusterTools/map_tools.py:216: RuntimeWarning: invalid value encountered in sin\n",
      "  arg4 = (np.sin((lon_ref-lon)*np.pi/180.0/2.0))**2\n"
     ]
    },
    {
     "name": "stdout",
     "output_type": "stream",
     "text": [
      "337/484 A2219 250.089 46.706 8.7019 0.228\n"
     ]
    },
    {
     "name": "stderr",
     "output_type": "stream",
     "text": [
      "/Users/adam/Project/anaconda3/envs/ctaphys/lib/python3.7/site-packages/minot/ClusterTools/map_tools.py:216: RuntimeWarning: invalid value encountered in sin\n",
      "  arg4 = (np.sin((lon_ref-lon)*np.pi/180.0/2.0))**2\n",
      "/Users/adam/Project/anaconda3/envs/ctaphys/lib/python3.7/site-packages/minot/ClusterTools/map_tools.py:216: RuntimeWarning: invalid value encountered in sin\n",
      "  arg4 = (np.sin((lon_ref-lon)*np.pi/180.0/2.0))**2\n",
      "/Users/adam/Project/anaconda3/envs/ctaphys/lib/python3.7/site-packages/minot/ClusterTools/map_tools.py:216: RuntimeWarning: invalid value encountered in sin\n",
      "  arg4 = (np.sin((lon_ref-lon)*np.pi/180.0/2.0))**2\n"
     ]
    },
    {
     "name": "stdout",
     "output_type": "stream",
     "text": [
      "338/484 RXC_J1645.4-7334 251.359 -73.582 1.8647 0.069\n"
     ]
    },
    {
     "name": "stderr",
     "output_type": "stream",
     "text": [
      "/Users/adam/Project/anaconda3/envs/ctaphys/lib/python3.7/site-packages/minot/ClusterTools/map_tools.py:216: RuntimeWarning: invalid value encountered in sin\n",
      "  arg4 = (np.sin((lon_ref-lon)*np.pi/180.0/2.0))**2\n",
      "/Users/adam/Project/anaconda3/envs/ctaphys/lib/python3.7/site-packages/minot/ClusterTools/map_tools.py:216: RuntimeWarning: invalid value encountered in sin\n",
      "  arg4 = (np.sin((lon_ref-lon)*np.pi/180.0/2.0))**2\n",
      "/Users/adam/Project/anaconda3/envs/ctaphys/lib/python3.7/site-packages/minot/ClusterTools/map_tools.py:216: RuntimeWarning: invalid value encountered in sin\n",
      "  arg4 = (np.sin((lon_ref-lon)*np.pi/180.0/2.0))**2\n"
     ]
    },
    {
     "name": "stdout",
     "output_type": "stream",
     "text": [
      "339/484 RXC_J1646.6-6023 251.67 -60.399 3.4803 0.148\n"
     ]
    },
    {
     "name": "stderr",
     "output_type": "stream",
     "text": [
      "/Users/adam/Project/anaconda3/envs/ctaphys/lib/python3.7/site-packages/minot/ClusterTools/map_tools.py:216: RuntimeWarning: invalid value encountered in sin\n",
      "  arg4 = (np.sin((lon_ref-lon)*np.pi/180.0/2.0))**2\n",
      "/Users/adam/Project/anaconda3/envs/ctaphys/lib/python3.7/site-packages/minot/ClusterTools/map_tools.py:216: RuntimeWarning: invalid value encountered in sin\n",
      "  arg4 = (np.sin((lon_ref-lon)*np.pi/180.0/2.0))**2\n",
      "/Users/adam/Project/anaconda3/envs/ctaphys/lib/python3.7/site-packages/minot/ClusterTools/map_tools.py:216: RuntimeWarning: invalid value encountered in sin\n",
      "  arg4 = (np.sin((lon_ref-lon)*np.pi/180.0/2.0))**2\n"
     ]
    },
    {
     "name": "stdout",
     "output_type": "stream",
     "text": [
      "340/484 Her_A 252.792 4.996 3.7563 0.154\n"
     ]
    },
    {
     "name": "stderr",
     "output_type": "stream",
     "text": [
      "/Users/adam/Project/anaconda3/envs/ctaphys/lib/python3.7/site-packages/minot/ClusterTools/map_tools.py:216: RuntimeWarning: invalid value encountered in sin\n",
      "  arg4 = (np.sin((lon_ref-lon)*np.pi/180.0/2.0))**2\n",
      "/Users/adam/Project/anaconda3/envs/ctaphys/lib/python3.7/site-packages/minot/ClusterTools/map_tools.py:216: RuntimeWarning: invalid value encountered in sin\n",
      "  arg4 = (np.sin((lon_ref-lon)*np.pi/180.0/2.0))**2\n",
      "/Users/adam/Project/anaconda3/envs/ctaphys/lib/python3.7/site-packages/minot/ClusterTools/map_tools.py:216: RuntimeWarning: invalid value encountered in sin\n",
      "  arg4 = (np.sin((lon_ref-lon)*np.pi/180.0/2.0))**2\n"
     ]
    },
    {
     "name": "stdout",
     "output_type": "stream",
     "text": [
      "341/484 RXC_J1653.0-5943 253.253 -59.733 2.9939 0.048\n"
     ]
    },
    {
     "name": "stderr",
     "output_type": "stream",
     "text": [
      "/Users/adam/Project/anaconda3/envs/ctaphys/lib/python3.7/site-packages/minot/ClusterTools/map_tools.py:216: RuntimeWarning: invalid value encountered in sin\n",
      "  arg4 = (np.sin((lon_ref-lon)*np.pi/180.0/2.0))**2\n",
      "/Users/adam/Project/anaconda3/envs/ctaphys/lib/python3.7/site-packages/minot/ClusterTools/map_tools.py:216: RuntimeWarning: invalid value encountered in sin\n",
      "  arg4 = (np.sin((lon_ref-lon)*np.pi/180.0/2.0))**2\n",
      "/Users/adam/Project/anaconda3/envs/ctaphys/lib/python3.7/site-packages/minot/ClusterTools/map_tools.py:216: RuntimeWarning: invalid value encountered in sin\n",
      "  arg4 = (np.sin((lon_ref-lon)*np.pi/180.0/2.0))**2\n"
     ]
    },
    {
     "name": "stdout",
     "output_type": "stream",
     "text": [
      "342/484 RXC_J1655.0-2625 253.757 -26.425 2.2583 0.094\n"
     ]
    },
    {
     "name": "stderr",
     "output_type": "stream",
     "text": [
      "/Users/adam/Project/anaconda3/envs/ctaphys/lib/python3.7/site-packages/minot/ClusterTools/map_tools.py:216: RuntimeWarning: invalid value encountered in sin\n",
      "  arg4 = (np.sin((lon_ref-lon)*np.pi/180.0/2.0))**2\n",
      "/Users/adam/Project/anaconda3/envs/ctaphys/lib/python3.7/site-packages/minot/ClusterTools/map_tools.py:216: RuntimeWarning: invalid value encountered in sin\n",
      "  arg4 = (np.sin((lon_ref-lon)*np.pi/180.0/2.0))**2\n",
      "/Users/adam/Project/anaconda3/envs/ctaphys/lib/python3.7/site-packages/minot/ClusterTools/map_tools.py:216: RuntimeWarning: invalid value encountered in sin\n",
      "  arg4 = (np.sin((lon_ref-lon)*np.pi/180.0/2.0))**2\n"
     ]
    },
    {
     "name": "stdout",
     "output_type": "stream",
     "text": [
      "343/484 A2244 255.679 34.062 4.4908 0.0953\n"
     ]
    },
    {
     "name": "stderr",
     "output_type": "stream",
     "text": [
      "/Users/adam/Project/anaconda3/envs/ctaphys/lib/python3.7/site-packages/minot/ClusterTools/map_tools.py:216: RuntimeWarning: invalid value encountered in sin\n",
      "  arg4 = (np.sin((lon_ref-lon)*np.pi/180.0/2.0))**2\n",
      "/Users/adam/Project/anaconda3/envs/ctaphys/lib/python3.7/site-packages/minot/ClusterTools/map_tools.py:216: RuntimeWarning: invalid value encountered in sin\n",
      "  arg4 = (np.sin((lon_ref-lon)*np.pi/180.0/2.0))**2\n",
      "/Users/adam/Project/anaconda3/envs/ctaphys/lib/python3.7/site-packages/minot/ClusterTools/map_tools.py:216: RuntimeWarning: invalid value encountered in sin\n",
      "  arg4 = (np.sin((lon_ref-lon)*np.pi/180.0/2.0))**2\n"
     ]
    },
    {
     "name": "stdout",
     "output_type": "stream",
     "text": [
      "344/484 A2256 255.953 78.644 4.2502 0.0581\n"
     ]
    },
    {
     "name": "stderr",
     "output_type": "stream",
     "text": [
      "/Users/adam/Project/anaconda3/envs/ctaphys/lib/python3.7/site-packages/minot/ClusterTools/map_tools.py:216: RuntimeWarning: invalid value encountered in sin\n",
      "  arg4 = (np.sin((lon_ref-lon)*np.pi/180.0/2.0))**2\n",
      "/Users/adam/Project/anaconda3/envs/ctaphys/lib/python3.7/site-packages/minot/ClusterTools/map_tools.py:216: RuntimeWarning: invalid value encountered in sin\n",
      "  arg4 = (np.sin((lon_ref-lon)*np.pi/180.0/2.0))**2\n",
      "/Users/adam/Project/anaconda3/envs/ctaphys/lib/python3.7/site-packages/minot/ClusterTools/map_tools.py:216: RuntimeWarning: invalid value encountered in sin\n",
      "  arg4 = (np.sin((lon_ref-lon)*np.pi/180.0/2.0))**2\n"
     ]
    },
    {
     "name": "stdout",
     "output_type": "stream",
     "text": [
      "345/484 S0792 256.293 -82.174 1.8148 0.0737\n"
     ]
    },
    {
     "name": "stderr",
     "output_type": "stream",
     "text": [
      "/Users/adam/Project/anaconda3/envs/ctaphys/lib/python3.7/site-packages/minot/ClusterTools/map_tools.py:216: RuntimeWarning: invalid value encountered in sin\n",
      "  arg4 = (np.sin((lon_ref-lon)*np.pi/180.0/2.0))**2\n",
      "/Users/adam/Project/anaconda3/envs/ctaphys/lib/python3.7/site-packages/minot/ClusterTools/map_tools.py:216: RuntimeWarning: invalid value encountered in sin\n",
      "  arg4 = (np.sin((lon_ref-lon)*np.pi/180.0/2.0))**2\n",
      "/Users/adam/Project/anaconda3/envs/ctaphys/lib/python3.7/site-packages/minot/ClusterTools/map_tools.py:216: RuntimeWarning: invalid value encountered in sin\n",
      "  arg4 = (np.sin((lon_ref-lon)*np.pi/180.0/2.0))**2\n"
     ]
    },
    {
     "name": "stdout",
     "output_type": "stream",
     "text": [
      "346/484 Zw1703.8 256.611 -1.54 2.1386 0.0912\n"
     ]
    },
    {
     "name": "stderr",
     "output_type": "stream",
     "text": [
      "/Users/adam/Project/anaconda3/envs/ctaphys/lib/python3.7/site-packages/minot/ClusterTools/map_tools.py:216: RuntimeWarning: invalid value encountered in sin\n",
      "  arg4 = (np.sin((lon_ref-lon)*np.pi/180.0/2.0))**2\n",
      "/Users/adam/Project/anaconda3/envs/ctaphys/lib/python3.7/site-packages/minot/ClusterTools/map_tools.py:216: RuntimeWarning: invalid value encountered in sin\n",
      "  arg4 = (np.sin((lon_ref-lon)*np.pi/180.0/2.0))**2\n",
      "/Users/adam/Project/anaconda3/envs/ctaphys/lib/python3.7/site-packages/minot/ClusterTools/map_tools.py:216: RuntimeWarning: invalid value encountered in sin\n",
      "  arg4 = (np.sin((lon_ref-lon)*np.pi/180.0/2.0))**2\n"
     ]
    },
    {
     "name": "stdout",
     "output_type": "stream",
     "text": [
      "347/484 A2249 257.453 34.441 2.7548 0.0802\n"
     ]
    },
    {
     "name": "stderr",
     "output_type": "stream",
     "text": [
      "/Users/adam/Project/anaconda3/envs/ctaphys/lib/python3.7/site-packages/minot/ClusterTools/map_tools.py:216: RuntimeWarning: invalid value encountered in sin\n",
      "  arg4 = (np.sin((lon_ref-lon)*np.pi/180.0/2.0))**2\n",
      "/Users/adam/Project/anaconda3/envs/ctaphys/lib/python3.7/site-packages/minot/ClusterTools/map_tools.py:216: RuntimeWarning: invalid value encountered in sin\n",
      "  arg4 = (np.sin((lon_ref-lon)*np.pi/180.0/2.0))**2\n",
      "/Users/adam/Project/anaconda3/envs/ctaphys/lib/python3.7/site-packages/minot/ClusterTools/map_tools.py:216: RuntimeWarning: invalid value encountered in sin\n",
      "  arg4 = (np.sin((lon_ref-lon)*np.pi/180.0/2.0))**2\n"
     ]
    },
    {
     "name": "stdout",
     "output_type": "stream",
     "text": [
      "348/484 Ophiuchus 258.103 -23.35 5.3123 0.028\n"
     ]
    },
    {
     "name": "stderr",
     "output_type": "stream",
     "text": [
      "/Users/adam/Project/anaconda3/envs/ctaphys/lib/python3.7/site-packages/minot/ClusterTools/map_tools.py:216: RuntimeWarning: invalid value encountered in sin\n",
      "  arg4 = (np.sin((lon_ref-lon)*np.pi/180.0/2.0))**2\n",
      "/Users/adam/Project/anaconda3/envs/ctaphys/lib/python3.7/site-packages/minot/ClusterTools/map_tools.py:216: RuntimeWarning: invalid value encountered in sin\n",
      "  arg4 = (np.sin((lon_ref-lon)*np.pi/180.0/2.0))**2\n",
      "/Users/adam/Project/anaconda3/envs/ctaphys/lib/python3.7/site-packages/minot/ClusterTools/map_tools.py:216: RuntimeWarning: invalid value encountered in sin\n",
      "  arg4 = (np.sin((lon_ref-lon)*np.pi/180.0/2.0))**2\n"
     ]
    },
    {
     "name": "stdout",
     "output_type": "stream",
     "text": [
      "349/484 A2255 258.197 64.061 3.741 0.0809\n"
     ]
    },
    {
     "name": "stderr",
     "output_type": "stream",
     "text": [
      "/Users/adam/Project/anaconda3/envs/ctaphys/lib/python3.7/site-packages/minot/ClusterTools/map_tools.py:216: RuntimeWarning: invalid value encountered in sin\n",
      "  arg4 = (np.sin((lon_ref-lon)*np.pi/180.0/2.0))**2\n",
      "/Users/adam/Project/anaconda3/envs/ctaphys/lib/python3.7/site-packages/minot/ClusterTools/map_tools.py:216: RuntimeWarning: invalid value encountered in sin\n",
      "  arg4 = (np.sin((lon_ref-lon)*np.pi/180.0/2.0))**2\n",
      "/Users/adam/Project/anaconda3/envs/ctaphys/lib/python3.7/site-packages/minot/ClusterTools/map_tools.py:216: RuntimeWarning: invalid value encountered in sin\n",
      "  arg4 = (np.sin((lon_ref-lon)*np.pi/180.0/2.0))**2\n"
     ]
    },
    {
     "name": "stdout",
     "output_type": "stream",
     "text": [
      "350/484 RXJ1715.2+0309 258.803 3.163 3.6551 0.1647\n"
     ]
    },
    {
     "name": "stderr",
     "output_type": "stream",
     "text": [
      "/Users/adam/Project/anaconda3/envs/ctaphys/lib/python3.7/site-packages/minot/ClusterTools/map_tools.py:216: RuntimeWarning: invalid value encountered in sin\n",
      "  arg4 = (np.sin((lon_ref-lon)*np.pi/180.0/2.0))**2\n",
      "/Users/adam/Project/anaconda3/envs/ctaphys/lib/python3.7/site-packages/minot/ClusterTools/map_tools.py:216: RuntimeWarning: invalid value encountered in sin\n",
      "  arg4 = (np.sin((lon_ref-lon)*np.pi/180.0/2.0))**2\n",
      "/Users/adam/Project/anaconda3/envs/ctaphys/lib/python3.7/site-packages/minot/ClusterTools/map_tools.py:216: RuntimeWarning: invalid value encountered in sin\n",
      "  arg4 = (np.sin((lon_ref-lon)*np.pi/180.0/2.0))**2\n"
     ]
    },
    {
     "name": "stdout",
     "output_type": "stream",
     "text": [
      "351/484 NGC_6338_i 258.841 57.407 0.8691 0.0276\n"
     ]
    },
    {
     "name": "stderr",
     "output_type": "stream",
     "text": [
      "/Users/adam/Project/anaconda3/envs/ctaphys/lib/python3.7/site-packages/minot/ClusterTools/map_tools.py:216: RuntimeWarning: invalid value encountered in sin\n",
      "  arg4 = (np.sin((lon_ref-lon)*np.pi/180.0/2.0))**2\n",
      "/Users/adam/Project/anaconda3/envs/ctaphys/lib/python3.7/site-packages/minot/ClusterTools/map_tools.py:216: RuntimeWarning: invalid value encountered in sin\n",
      "  arg4 = (np.sin((lon_ref-lon)*np.pi/180.0/2.0))**2\n",
      "/Users/adam/Project/anaconda3/envs/ctaphys/lib/python3.7/site-packages/minot/ClusterTools/map_tools.py:216: RuntimeWarning: invalid value encountered in sin\n",
      "  arg4 = (np.sin((lon_ref-lon)*np.pi/180.0/2.0))**2\n"
     ]
    },
    {
     "name": "stdout",
     "output_type": "stream",
     "text": [
      "352/484 A2254 259.455 19.683 4.6863 0.178\n"
     ]
    },
    {
     "name": "stderr",
     "output_type": "stream",
     "text": [
      "/Users/adam/Project/anaconda3/envs/ctaphys/lib/python3.7/site-packages/minot/ClusterTools/map_tools.py:216: RuntimeWarning: invalid value encountered in sin\n",
      "  arg4 = (np.sin((lon_ref-lon)*np.pi/180.0/2.0))**2\n",
      "/Users/adam/Project/anaconda3/envs/ctaphys/lib/python3.7/site-packages/minot/ClusterTools/map_tools.py:216: RuntimeWarning: invalid value encountered in sin\n",
      "  arg4 = (np.sin((lon_ref-lon)*np.pi/180.0/2.0))**2\n",
      "/Users/adam/Project/anaconda3/envs/ctaphys/lib/python3.7/site-packages/minot/ClusterTools/map_tools.py:216: RuntimeWarning: invalid value encountered in sin\n",
      "  arg4 = (np.sin((lon_ref-lon)*np.pi/180.0/2.0))**2\n"
     ]
    },
    {
     "name": "stdout",
     "output_type": "stream",
     "text": [
      "353/484 Zw_1717.9+5636 259.541 56.666 2.6153 0.1138\n"
     ]
    },
    {
     "name": "stderr",
     "output_type": "stream",
     "text": [
      "/Users/adam/Project/anaconda3/envs/ctaphys/lib/python3.7/site-packages/minot/ClusterTools/map_tools.py:216: RuntimeWarning: invalid value encountered in sin\n",
      "  arg4 = (np.sin((lon_ref-lon)*np.pi/180.0/2.0))**2\n",
      "/Users/adam/Project/anaconda3/envs/ctaphys/lib/python3.7/site-packages/minot/ClusterTools/map_tools.py:216: RuntimeWarning: invalid value encountered in sin\n",
      "  arg4 = (np.sin((lon_ref-lon)*np.pi/180.0/2.0))**2\n",
      "/Users/adam/Project/anaconda3/envs/ctaphys/lib/python3.7/site-packages/minot/ClusterTools/map_tools.py:216: RuntimeWarning: invalid value encountered in sin\n",
      "  arg4 = (np.sin((lon_ref-lon)*np.pi/180.0/2.0))**2\n"
     ]
    },
    {
     "name": "stdout",
     "output_type": "stream",
     "text": [
      "354/484 A2259 260.037 27.67 3.9006 0.164\n"
     ]
    },
    {
     "name": "stderr",
     "output_type": "stream",
     "text": [
      "/Users/adam/Project/anaconda3/envs/ctaphys/lib/python3.7/site-packages/minot/ClusterTools/map_tools.py:216: RuntimeWarning: invalid value encountered in sin\n",
      "  arg4 = (np.sin((lon_ref-lon)*np.pi/180.0/2.0))**2\n",
      "/Users/adam/Project/anaconda3/envs/ctaphys/lib/python3.7/site-packages/minot/ClusterTools/map_tools.py:216: RuntimeWarning: invalid value encountered in sin\n",
      "  arg4 = (np.sin((lon_ref-lon)*np.pi/180.0/2.0))**2\n",
      "/Users/adam/Project/anaconda3/envs/ctaphys/lib/python3.7/site-packages/minot/ClusterTools/map_tools.py:216: RuntimeWarning: invalid value encountered in sin\n",
      "  arg4 = (np.sin((lon_ref-lon)*np.pi/180.0/2.0))**2\n"
     ]
    },
    {
     "name": "stdout",
     "output_type": "stream",
     "text": [
      "355/484 RXJ1720.1+2638 260.039 26.627 6.0057 0.1644\n"
     ]
    },
    {
     "name": "stderr",
     "output_type": "stream",
     "text": [
      "/Users/adam/Project/anaconda3/envs/ctaphys/lib/python3.7/site-packages/minot/ClusterTools/map_tools.py:216: RuntimeWarning: invalid value encountered in sin\n",
      "  arg4 = (np.sin((lon_ref-lon)*np.pi/180.0/2.0))**2\n",
      "/Users/adam/Project/anaconda3/envs/ctaphys/lib/python3.7/site-packages/minot/ClusterTools/map_tools.py:216: RuntimeWarning: invalid value encountered in sin\n",
      "  arg4 = (np.sin((lon_ref-lon)*np.pi/180.0/2.0))**2\n",
      "/Users/adam/Project/anaconda3/envs/ctaphys/lib/python3.7/site-packages/minot/ClusterTools/map_tools.py:216: RuntimeWarning: invalid value encountered in sin\n",
      "  arg4 = (np.sin((lon_ref-lon)*np.pi/180.0/2.0))**2\n"
     ]
    },
    {
     "name": "stdout",
     "output_type": "stream",
     "text": [
      "356/484 A2261 260.613 32.134 7.8832 0.224\n"
     ]
    },
    {
     "name": "stderr",
     "output_type": "stream",
     "text": [
      "/Users/adam/Project/anaconda3/envs/ctaphys/lib/python3.7/site-packages/minot/ClusterTools/map_tools.py:216: RuntimeWarning: invalid value encountered in sin\n",
      "  arg4 = (np.sin((lon_ref-lon)*np.pi/180.0/2.0))**2\n",
      "/Users/adam/Project/anaconda3/envs/ctaphys/lib/python3.7/site-packages/minot/ClusterTools/map_tools.py:216: RuntimeWarning: invalid value encountered in sin\n",
      "  arg4 = (np.sin((lon_ref-lon)*np.pi/180.0/2.0))**2\n",
      "/Users/adam/Project/anaconda3/envs/ctaphys/lib/python3.7/site-packages/minot/ClusterTools/map_tools.py:216: RuntimeWarning: invalid value encountered in sin\n",
      "  arg4 = (np.sin((lon_ref-lon)*np.pi/180.0/2.0))**2\n"
     ]
    },
    {
     "name": "stdout",
     "output_type": "stream",
     "text": [
      "357/484 A2294 260.948 85.885 4.2334 0.178\n"
     ]
    },
    {
     "name": "stderr",
     "output_type": "stream",
     "text": [
      "/Users/adam/Project/anaconda3/envs/ctaphys/lib/python3.7/site-packages/minot/ClusterTools/map_tools.py:216: RuntimeWarning: invalid value encountered in sin\n",
      "  arg4 = (np.sin((lon_ref-lon)*np.pi/180.0/2.0))**2\n",
      "/Users/adam/Project/anaconda3/envs/ctaphys/lib/python3.7/site-packages/minot/ClusterTools/map_tools.py:216: RuntimeWarning: invalid value encountered in sin\n",
      "  arg4 = (np.sin((lon_ref-lon)*np.pi/180.0/2.0))**2\n",
      "/Users/adam/Project/anaconda3/envs/ctaphys/lib/python3.7/site-packages/minot/ClusterTools/map_tools.py:216: RuntimeWarning: invalid value encountered in sin\n",
      "  arg4 = (np.sin((lon_ref-lon)*np.pi/180.0/2.0))**2\n"
     ]
    },
    {
     "name": "stdout",
     "output_type": "stream",
     "text": [
      "358/484 IC_1262 263.261 43.763 0.8593 0.0307\n"
     ]
    },
    {
     "name": "stderr",
     "output_type": "stream",
     "text": [
      "/Users/adam/Project/anaconda3/envs/ctaphys/lib/python3.7/site-packages/minot/ClusterTools/map_tools.py:216: RuntimeWarning: invalid value encountered in sin\n",
      "  arg4 = (np.sin((lon_ref-lon)*np.pi/180.0/2.0))**2\n",
      "/Users/adam/Project/anaconda3/envs/ctaphys/lib/python3.7/site-packages/minot/ClusterTools/map_tools.py:216: RuntimeWarning: invalid value encountered in sin\n",
      "  arg4 = (np.sin((lon_ref-lon)*np.pi/180.0/2.0))**2\n",
      "/Users/adam/Project/anaconda3/envs/ctaphys/lib/python3.7/site-packages/minot/ClusterTools/map_tools.py:216: RuntimeWarning: invalid value encountered in sin\n",
      "  arg4 = (np.sin((lon_ref-lon)*np.pi/180.0/2.0))**2\n"
     ]
    },
    {
     "name": "stdout",
     "output_type": "stream",
     "text": [
      "359/484 RXC_J1735.7-0721 263.949 -7.362 0.6151 0.0239\n"
     ]
    },
    {
     "name": "stderr",
     "output_type": "stream",
     "text": [
      "/Users/adam/Project/anaconda3/envs/ctaphys/lib/python3.7/site-packages/minot/ClusterTools/map_tools.py:216: RuntimeWarning: invalid value encountered in sin\n",
      "  arg4 = (np.sin((lon_ref-lon)*np.pi/180.0/2.0))**2\n",
      "/Users/adam/Project/anaconda3/envs/ctaphys/lib/python3.7/site-packages/minot/ClusterTools/map_tools.py:216: RuntimeWarning: invalid value encountered in sin\n",
      "  arg4 = (np.sin((lon_ref-lon)*np.pi/180.0/2.0))**2\n",
      "/Users/adam/Project/anaconda3/envs/ctaphys/lib/python3.7/site-packages/minot/ClusterTools/map_tools.py:216: RuntimeWarning: invalid value encountered in sin\n",
      "  arg4 = (np.sin((lon_ref-lon)*np.pi/180.0/2.0))**2\n"
     ]
    },
    {
     "name": "stdout",
     "output_type": "stream",
     "text": [
      "360/484 RXJ1740.5+3539 265.136 35.647 0.9141 0.0428\n"
     ]
    },
    {
     "name": "stderr",
     "output_type": "stream",
     "text": [
      "/Users/adam/Project/anaconda3/envs/ctaphys/lib/python3.7/site-packages/minot/ClusterTools/map_tools.py:216: RuntimeWarning: invalid value encountered in sin\n",
      "  arg4 = (np.sin((lon_ref-lon)*np.pi/180.0/2.0))**2\n",
      "/Users/adam/Project/anaconda3/envs/ctaphys/lib/python3.7/site-packages/minot/ClusterTools/map_tools.py:216: RuntimeWarning: invalid value encountered in sin\n",
      "  arg4 = (np.sin((lon_ref-lon)*np.pi/180.0/2.0))**2\n",
      "/Users/adam/Project/anaconda3/envs/ctaphys/lib/python3.7/site-packages/minot/ClusterTools/map_tools.py:216: RuntimeWarning: invalid value encountered in sin\n",
      "  arg4 = (np.sin((lon_ref-lon)*np.pi/180.0/2.0))**2\n"
     ]
    },
    {
     "name": "stdout",
     "output_type": "stream",
     "text": [
      "361/484 Zw_1742.1+3306 266.062 32.99 3.2372 0.0757\n"
     ]
    },
    {
     "name": "stderr",
     "output_type": "stream",
     "text": [
      "/Users/adam/Project/anaconda3/envs/ctaphys/lib/python3.7/site-packages/minot/ClusterTools/map_tools.py:216: RuntimeWarning: invalid value encountered in sin\n",
      "  arg4 = (np.sin((lon_ref-lon)*np.pi/180.0/2.0))**2\n",
      "/Users/adam/Project/anaconda3/envs/ctaphys/lib/python3.7/site-packages/minot/ClusterTools/map_tools.py:216: RuntimeWarning: invalid value encountered in sin\n",
      "  arg4 = (np.sin((lon_ref-lon)*np.pi/180.0/2.0))**2\n",
      "/Users/adam/Project/anaconda3/envs/ctaphys/lib/python3.7/site-packages/minot/ClusterTools/map_tools.py:216: RuntimeWarning: invalid value encountered in sin\n",
      "  arg4 = (np.sin((lon_ref-lon)*np.pi/180.0/2.0))**2\n"
     ]
    },
    {
     "name": "stdout",
     "output_type": "stream",
     "text": [
      "362/484 RXC_J1752.0-6348 268.023 -63.816 3.4995 0.133\n"
     ]
    },
    {
     "name": "stderr",
     "output_type": "stream",
     "text": [
      "/Users/adam/Project/anaconda3/envs/ctaphys/lib/python3.7/site-packages/minot/ClusterTools/map_tools.py:216: RuntimeWarning: invalid value encountered in sin\n",
      "  arg4 = (np.sin((lon_ref-lon)*np.pi/180.0/2.0))**2\n",
      "/Users/adam/Project/anaconda3/envs/ctaphys/lib/python3.7/site-packages/minot/ClusterTools/map_tools.py:216: RuntimeWarning: invalid value encountered in sin\n",
      "  arg4 = (np.sin((lon_ref-lon)*np.pi/180.0/2.0))**2\n",
      "/Users/adam/Project/anaconda3/envs/ctaphys/lib/python3.7/site-packages/minot/ClusterTools/map_tools.py:216: RuntimeWarning: invalid value encountered in sin\n",
      "  arg4 = (np.sin((lon_ref-lon)*np.pi/180.0/2.0))**2\n"
     ]
    },
    {
     "name": "stdout",
     "output_type": "stream",
     "text": [
      "363/484 RXC_J1757.7-0108 269.43 -1.143 2.0762 0.0728\n"
     ]
    },
    {
     "name": "stderr",
     "output_type": "stream",
     "text": [
      "/Users/adam/Project/anaconda3/envs/ctaphys/lib/python3.7/site-packages/minot/ClusterTools/map_tools.py:216: RuntimeWarning: invalid value encountered in sin\n",
      "  arg4 = (np.sin((lon_ref-lon)*np.pi/180.0/2.0))**2\n",
      "/Users/adam/Project/anaconda3/envs/ctaphys/lib/python3.7/site-packages/minot/ClusterTools/map_tools.py:216: RuntimeWarning: invalid value encountered in sin\n",
      "  arg4 = (np.sin((lon_ref-lon)*np.pi/180.0/2.0))**2\n",
      "/Users/adam/Project/anaconda3/envs/ctaphys/lib/python3.7/site-packages/minot/ClusterTools/map_tools.py:216: RuntimeWarning: invalid value encountered in sin\n",
      "  arg4 = (np.sin((lon_ref-lon)*np.pi/180.0/2.0))**2\n"
     ]
    },
    {
     "name": "stdout",
     "output_type": "stream",
     "text": [
      "364/484 RXC_J1759.0-1333 269.762 -13.554 1.6325 0.045\n"
     ]
    },
    {
     "name": "stderr",
     "output_type": "stream",
     "text": [
      "/Users/adam/Project/anaconda3/envs/ctaphys/lib/python3.7/site-packages/minot/ClusterTools/map_tools.py:216: RuntimeWarning: invalid value encountered in sin\n",
      "  arg4 = (np.sin((lon_ref-lon)*np.pi/180.0/2.0))**2\n",
      "/Users/adam/Project/anaconda3/envs/ctaphys/lib/python3.7/site-packages/minot/ClusterTools/map_tools.py:216: RuntimeWarning: invalid value encountered in sin\n",
      "  arg4 = (np.sin((lon_ref-lon)*np.pi/180.0/2.0))**2\n",
      "/Users/adam/Project/anaconda3/envs/ctaphys/lib/python3.7/site-packages/minot/ClusterTools/map_tools.py:216: RuntimeWarning: invalid value encountered in sin\n",
      "  arg4 = (np.sin((lon_ref-lon)*np.pi/180.0/2.0))**2\n"
     ]
    },
    {
     "name": "stdout",
     "output_type": "stream",
     "text": [
      "365/484 RXC_J1802.4-5236 270.622 -52.609 2.9264 0.125\n"
     ]
    },
    {
     "name": "stderr",
     "output_type": "stream",
     "text": [
      "/Users/adam/Project/anaconda3/envs/ctaphys/lib/python3.7/site-packages/minot/ClusterTools/map_tools.py:216: RuntimeWarning: invalid value encountered in sin\n",
      "  arg4 = (np.sin((lon_ref-lon)*np.pi/180.0/2.0))**2\n",
      "/Users/adam/Project/anaconda3/envs/ctaphys/lib/python3.7/site-packages/minot/ClusterTools/map_tools.py:216: RuntimeWarning: invalid value encountered in sin\n",
      "  arg4 = (np.sin((lon_ref-lon)*np.pi/180.0/2.0))**2\n",
      "/Users/adam/Project/anaconda3/envs/ctaphys/lib/python3.7/site-packages/minot/ClusterTools/map_tools.py:216: RuntimeWarning: invalid value encountered in sin\n",
      "  arg4 = (np.sin((lon_ref-lon)*np.pi/180.0/2.0))**2\n"
     ]
    },
    {
     "name": "stdout",
     "output_type": "stream",
     "text": [
      "366/484 RXC_J1804.1+0042 271.045 0.706 2.949 0.0882\n"
     ]
    },
    {
     "name": "stderr",
     "output_type": "stream",
     "text": [
      "/Users/adam/Project/anaconda3/envs/ctaphys/lib/python3.7/site-packages/minot/ClusterTools/map_tools.py:216: RuntimeWarning: invalid value encountered in sin\n",
      "  arg4 = (np.sin((lon_ref-lon)*np.pi/180.0/2.0))**2\n",
      "/Users/adam/Project/anaconda3/envs/ctaphys/lib/python3.7/site-packages/minot/ClusterTools/map_tools.py:216: RuntimeWarning: invalid value encountered in sin\n",
      "  arg4 = (np.sin((lon_ref-lon)*np.pi/180.0/2.0))**2\n",
      "/Users/adam/Project/anaconda3/envs/ctaphys/lib/python3.7/site-packages/minot/ClusterTools/map_tools.py:216: RuntimeWarning: invalid value encountered in sin\n",
      "  arg4 = (np.sin((lon_ref-lon)*np.pi/180.0/2.0))**2\n"
     ]
    },
    {
     "name": "stdout",
     "output_type": "stream",
     "text": [
      "367/484 RXC_J1804.4+1002 271.119 10.039 4.6293 0.1525\n"
     ]
    },
    {
     "name": "stderr",
     "output_type": "stream",
     "text": [
      "/Users/adam/Project/anaconda3/envs/ctaphys/lib/python3.7/site-packages/minot/ClusterTools/map_tools.py:216: RuntimeWarning: invalid value encountered in sin\n",
      "  arg4 = (np.sin((lon_ref-lon)*np.pi/180.0/2.0))**2\n",
      "/Users/adam/Project/anaconda3/envs/ctaphys/lib/python3.7/site-packages/minot/ClusterTools/map_tools.py:216: RuntimeWarning: invalid value encountered in sin\n",
      "  arg4 = (np.sin((lon_ref-lon)*np.pi/180.0/2.0))**2\n",
      "/Users/adam/Project/anaconda3/envs/ctaphys/lib/python3.7/site-packages/minot/ClusterTools/map_tools.py:216: RuntimeWarning: invalid value encountered in sin\n",
      "  arg4 = (np.sin((lon_ref-lon)*np.pi/180.0/2.0))**2\n"
     ]
    },
    {
     "name": "stdout",
     "output_type": "stream",
     "text": [
      "368/484 ZwCl8338 272.75 49.911 1.3478 0.0501\n"
     ]
    },
    {
     "name": "stderr",
     "output_type": "stream",
     "text": [
      "/Users/adam/Project/anaconda3/envs/ctaphys/lib/python3.7/site-packages/minot/ClusterTools/map_tools.py:216: RuntimeWarning: invalid value encountered in sin\n",
      "  arg4 = (np.sin((lon_ref-lon)*np.pi/180.0/2.0))**2\n",
      "/Users/adam/Project/anaconda3/envs/ctaphys/lib/python3.7/site-packages/minot/ClusterTools/map_tools.py:216: RuntimeWarning: invalid value encountered in sin\n",
      "  arg4 = (np.sin((lon_ref-lon)*np.pi/180.0/2.0))**2\n",
      "/Users/adam/Project/anaconda3/envs/ctaphys/lib/python3.7/site-packages/minot/ClusterTools/map_tools.py:216: RuntimeWarning: invalid value encountered in sin\n",
      "  arg4 = (np.sin((lon_ref-lon)*np.pi/180.0/2.0))**2\n"
     ]
    },
    {
     "name": "stdout",
     "output_type": "stream",
     "text": [
      "369/484 PMN_J1813-6126 273.328 -61.458 4.4728 0.147\n"
     ]
    },
    {
     "name": "stderr",
     "output_type": "stream",
     "text": [
      "/Users/adam/Project/anaconda3/envs/ctaphys/lib/python3.7/site-packages/minot/ClusterTools/map_tools.py:216: RuntimeWarning: invalid value encountered in sin\n",
      "  arg4 = (np.sin((lon_ref-lon)*np.pi/180.0/2.0))**2\n",
      "/Users/adam/Project/anaconda3/envs/ctaphys/lib/python3.7/site-packages/minot/ClusterTools/map_tools.py:216: RuntimeWarning: invalid value encountered in sin\n",
      "  arg4 = (np.sin((lon_ref-lon)*np.pi/180.0/2.0))**2\n",
      "/Users/adam/Project/anaconda3/envs/ctaphys/lib/python3.7/site-packages/minot/ClusterTools/map_tools.py:216: RuntimeWarning: invalid value encountered in sin\n",
      "  arg4 = (np.sin((lon_ref-lon)*np.pi/180.0/2.0))**2\n"
     ]
    },
    {
     "name": "stdout",
     "output_type": "stream",
     "text": [
      "370/484 RXC_J1825.3+3026 276.345 30.442 2.6168 0.065\n"
     ]
    },
    {
     "name": "stderr",
     "output_type": "stream",
     "text": [
      "/Users/adam/Project/anaconda3/envs/ctaphys/lib/python3.7/site-packages/minot/ClusterTools/map_tools.py:216: RuntimeWarning: invalid value encountered in sin\n",
      "  arg4 = (np.sin((lon_ref-lon)*np.pi/180.0/2.0))**2\n",
      "/Users/adam/Project/anaconda3/envs/ctaphys/lib/python3.7/site-packages/minot/ClusterTools/map_tools.py:216: RuntimeWarning: invalid value encountered in sin\n",
      "  arg4 = (np.sin((lon_ref-lon)*np.pi/180.0/2.0))**2\n",
      "/Users/adam/Project/anaconda3/envs/ctaphys/lib/python3.7/site-packages/minot/ClusterTools/map_tools.py:216: RuntimeWarning: invalid value encountered in sin\n",
      "  arg4 = (np.sin((lon_ref-lon)*np.pi/180.0/2.0))**2\n"
     ]
    },
    {
     "name": "stdout",
     "output_type": "stream",
     "text": [
      "371/484 RXCJ1840.6-7709 280.155 -77.156 0.541 0.0194\n"
     ]
    },
    {
     "name": "stderr",
     "output_type": "stream",
     "text": [
      "/Users/adam/Project/anaconda3/envs/ctaphys/lib/python3.7/site-packages/minot/ClusterTools/map_tools.py:216: RuntimeWarning: invalid value encountered in sin\n",
      "  arg4 = (np.sin((lon_ref-lon)*np.pi/180.0/2.0))**2\n",
      "/Users/adam/Project/anaconda3/envs/ctaphys/lib/python3.7/site-packages/minot/ClusterTools/map_tools.py:216: RuntimeWarning: invalid value encountered in sin\n",
      "  arg4 = (np.sin((lon_ref-lon)*np.pi/180.0/2.0))**2\n",
      "/Users/adam/Project/anaconda3/envs/ctaphys/lib/python3.7/site-packages/minot/ClusterTools/map_tools.py:216: RuntimeWarning: invalid value encountered in sin\n",
      "  arg4 = (np.sin((lon_ref-lon)*np.pi/180.0/2.0))**2\n"
     ]
    },
    {
     "name": "stdout",
     "output_type": "stream",
     "text": [
      "372/484 A2312 283.492 68.381 2.0411 0.0928\n"
     ]
    },
    {
     "name": "stderr",
     "output_type": "stream",
     "text": [
      "/Users/adam/Project/anaconda3/envs/ctaphys/lib/python3.7/site-packages/minot/ClusterTools/map_tools.py:216: RuntimeWarning: invalid value encountered in sin\n",
      "  arg4 = (np.sin((lon_ref-lon)*np.pi/180.0/2.0))**2\n",
      "/Users/adam/Project/anaconda3/envs/ctaphys/lib/python3.7/site-packages/minot/ClusterTools/map_tools.py:216: RuntimeWarning: invalid value encountered in sin\n",
      "  arg4 = (np.sin((lon_ref-lon)*np.pi/180.0/2.0))**2\n",
      "/Users/adam/Project/anaconda3/envs/ctaphys/lib/python3.7/site-packages/minot/ClusterTools/map_tools.py:216: RuntimeWarning: invalid value encountered in sin\n",
      "  arg4 = (np.sin((lon_ref-lon)*np.pi/180.0/2.0))**2\n"
     ]
    },
    {
     "name": "stdout",
     "output_type": "stream",
     "text": [
      "373/484 RXC_J1857.6+3800 284.415 38.008 1.8114 0.0567\n"
     ]
    },
    {
     "name": "stderr",
     "output_type": "stream",
     "text": [
      "/Users/adam/Project/anaconda3/envs/ctaphys/lib/python3.7/site-packages/minot/ClusterTools/map_tools.py:216: RuntimeWarning: invalid value encountered in sin\n",
      "  arg4 = (np.sin((lon_ref-lon)*np.pi/180.0/2.0))**2\n",
      "/Users/adam/Project/anaconda3/envs/ctaphys/lib/python3.7/site-packages/minot/ClusterTools/map_tools.py:216: RuntimeWarning: invalid value encountered in sin\n",
      "  arg4 = (np.sin((lon_ref-lon)*np.pi/180.0/2.0))**2\n",
      "/Users/adam/Project/anaconda3/envs/ctaphys/lib/python3.7/site-packages/minot/ClusterTools/map_tools.py:216: RuntimeWarning: invalid value encountered in sin\n",
      "  arg4 = (np.sin((lon_ref-lon)*np.pi/180.0/2.0))**2\n"
     ]
    },
    {
     "name": "stdout",
     "output_type": "stream",
     "text": [
      "374/484 A2318 286.433 78.083 3.437 0.1405\n"
     ]
    },
    {
     "name": "stderr",
     "output_type": "stream",
     "text": [
      "/Users/adam/Project/anaconda3/envs/ctaphys/lib/python3.7/site-packages/minot/ClusterTools/map_tools.py:216: RuntimeWarning: invalid value encountered in sin\n",
      "  arg4 = (np.sin((lon_ref-lon)*np.pi/180.0/2.0))**2\n",
      "/Users/adam/Project/anaconda3/envs/ctaphys/lib/python3.7/site-packages/minot/ClusterTools/map_tools.py:216: RuntimeWarning: invalid value encountered in sin\n",
      "  arg4 = (np.sin((lon_ref-lon)*np.pi/180.0/2.0))**2\n",
      "/Users/adam/Project/anaconda3/envs/ctaphys/lib/python3.7/site-packages/minot/ClusterTools/map_tools.py:216: RuntimeWarning: invalid value encountered in sin\n",
      "  arg4 = (np.sin((lon_ref-lon)*np.pi/180.0/2.0))**2\n"
     ]
    },
    {
     "name": "stdout",
     "output_type": "stream",
     "text": [
      "375/484 S0810 288.168 -75.292 2.1539 0.0726\n"
     ]
    },
    {
     "name": "stderr",
     "output_type": "stream",
     "text": [
      "/Users/adam/Project/anaconda3/envs/ctaphys/lib/python3.7/site-packages/minot/ClusterTools/map_tools.py:216: RuntimeWarning: invalid value encountered in sin\n",
      "  arg4 = (np.sin((lon_ref-lon)*np.pi/180.0/2.0))**2\n",
      "/Users/adam/Project/anaconda3/envs/ctaphys/lib/python3.7/site-packages/minot/ClusterTools/map_tools.py:216: RuntimeWarning: invalid value encountered in sin\n",
      "  arg4 = (np.sin((lon_ref-lon)*np.pi/180.0/2.0))**2\n",
      "/Users/adam/Project/anaconda3/envs/ctaphys/lib/python3.7/site-packages/minot/ClusterTools/map_tools.py:216: RuntimeWarning: invalid value encountered in sin\n",
      "  arg4 = (np.sin((lon_ref-lon)*np.pi/180.0/2.0))**2\n"
     ]
    },
    {
     "name": "stdout",
     "output_type": "stream",
     "text": [
      "376/484 RXC_J1916.1+3525 289.027 35.422 4.7777 0.209\n"
     ]
    },
    {
     "name": "stderr",
     "output_type": "stream",
     "text": [
      "/Users/adam/Project/anaconda3/envs/ctaphys/lib/python3.7/site-packages/minot/ClusterTools/map_tools.py:216: RuntimeWarning: invalid value encountered in sin\n",
      "  arg4 = (np.sin((lon_ref-lon)*np.pi/180.0/2.0))**2\n",
      "/Users/adam/Project/anaconda3/envs/ctaphys/lib/python3.7/site-packages/minot/ClusterTools/map_tools.py:216: RuntimeWarning: invalid value encountered in sin\n",
      "  arg4 = (np.sin((lon_ref-lon)*np.pi/180.0/2.0))**2\n",
      "/Users/adam/Project/anaconda3/envs/ctaphys/lib/python3.7/site-packages/minot/ClusterTools/map_tools.py:216: RuntimeWarning: invalid value encountered in sin\n",
      "  arg4 = (np.sin((lon_ref-lon)*np.pi/180.0/2.0))**2\n"
     ]
    },
    {
     "name": "stdout",
     "output_type": "stream",
     "text": [
      "377/484 TXS_1914-133 289.399 -13.255 4.1139 0.177\n"
     ]
    },
    {
     "name": "stderr",
     "output_type": "stream",
     "text": [
      "/Users/adam/Project/anaconda3/envs/ctaphys/lib/python3.7/site-packages/minot/ClusterTools/map_tools.py:216: RuntimeWarning: invalid value encountered in sin\n",
      "  arg4 = (np.sin((lon_ref-lon)*np.pi/180.0/2.0))**2\n",
      "/Users/adam/Project/anaconda3/envs/ctaphys/lib/python3.7/site-packages/minot/ClusterTools/map_tools.py:216: RuntimeWarning: invalid value encountered in sin\n",
      "  arg4 = (np.sin((lon_ref-lon)*np.pi/180.0/2.0))**2\n",
      "/Users/adam/Project/anaconda3/envs/ctaphys/lib/python3.7/site-packages/minot/ClusterTools/map_tools.py:216: RuntimeWarning: invalid value encountered in sin\n",
      "  arg4 = (np.sin((lon_ref-lon)*np.pi/180.0/2.0))**2\n"
     ]
    },
    {
     "name": "stdout",
     "output_type": "stream",
     "text": [
      "378/484 A2319 290.287 43.958 5.8345 0.0557\n"
     ]
    },
    {
     "name": "stderr",
     "output_type": "stream",
     "text": [
      "/Users/adam/Project/anaconda3/envs/ctaphys/lib/python3.7/site-packages/minot/ClusterTools/map_tools.py:216: RuntimeWarning: invalid value encountered in sin\n",
      "  arg4 = (np.sin((lon_ref-lon)*np.pi/180.0/2.0))**2\n",
      "/Users/adam/Project/anaconda3/envs/ctaphys/lib/python3.7/site-packages/minot/ClusterTools/map_tools.py:216: RuntimeWarning: invalid value encountered in sin\n",
      "  arg4 = (np.sin((lon_ref-lon)*np.pi/180.0/2.0))**2\n",
      "/Users/adam/Project/anaconda3/envs/ctaphys/lib/python3.7/site-packages/minot/ClusterTools/map_tools.py:216: RuntimeWarning: invalid value encountered in sin\n",
      "  arg4 = (np.sin((lon_ref-lon)*np.pi/180.0/2.0))**2\n"
     ]
    },
    {
     "name": "stdout",
     "output_type": "stream",
     "text": [
      "379/484 RXC_J1925.3+3705 291.343 37.097 6.7932 0.314\n"
     ]
    },
    {
     "name": "stderr",
     "output_type": "stream",
     "text": [
      "/Users/adam/Project/anaconda3/envs/ctaphys/lib/python3.7/site-packages/minot/ClusterTools/map_tools.py:216: RuntimeWarning: invalid value encountered in sin\n",
      "  arg4 = (np.sin((lon_ref-lon)*np.pi/180.0/2.0))**2\n",
      "/Users/adam/Project/anaconda3/envs/ctaphys/lib/python3.7/site-packages/minot/ClusterTools/map_tools.py:216: RuntimeWarning: invalid value encountered in sin\n",
      "  arg4 = (np.sin((lon_ref-lon)*np.pi/180.0/2.0))**2\n",
      "/Users/adam/Project/anaconda3/envs/ctaphys/lib/python3.7/site-packages/minot/ClusterTools/map_tools.py:216: RuntimeWarning: invalid value encountered in sin\n",
      "  arg4 = (np.sin((lon_ref-lon)*np.pi/180.0/2.0))**2\n"
     ]
    },
    {
     "name": "stdout",
     "output_type": "stream",
     "text": [
      "380/484 A3638 291.373 -42.949 1.8585 0.0774\n"
     ]
    },
    {
     "name": "stderr",
     "output_type": "stream",
     "text": [
      "/Users/adam/Project/anaconda3/envs/ctaphys/lib/python3.7/site-packages/minot/ClusterTools/map_tools.py:216: RuntimeWarning: invalid value encountered in sin\n",
      "  arg4 = (np.sin((lon_ref-lon)*np.pi/180.0/2.0))**2\n",
      "/Users/adam/Project/anaconda3/envs/ctaphys/lib/python3.7/site-packages/minot/ClusterTools/map_tools.py:216: RuntimeWarning: invalid value encountered in sin\n",
      "  arg4 = (np.sin((lon_ref-lon)*np.pi/180.0/2.0))**2\n",
      "/Users/adam/Project/anaconda3/envs/ctaphys/lib/python3.7/site-packages/minot/ClusterTools/map_tools.py:216: RuntimeWarning: invalid value encountered in sin\n",
      "  arg4 = (np.sin((lon_ref-lon)*np.pi/180.0/2.0))**2\n"
     ]
    },
    {
     "name": "stdout",
     "output_type": "stream",
     "text": [
      "381/484 RXC_J1926.1+4833 291.545 48.55 2.3419 0.098\n"
     ]
    },
    {
     "name": "stderr",
     "output_type": "stream",
     "text": [
      "/Users/adam/Project/anaconda3/envs/ctaphys/lib/python3.7/site-packages/minot/ClusterTools/map_tools.py:216: RuntimeWarning: invalid value encountered in sin\n",
      "  arg4 = (np.sin((lon_ref-lon)*np.pi/180.0/2.0))**2\n",
      "/Users/adam/Project/anaconda3/envs/ctaphys/lib/python3.7/site-packages/minot/ClusterTools/map_tools.py:216: RuntimeWarning: invalid value encountered in sin\n",
      "  arg4 = (np.sin((lon_ref-lon)*np.pi/180.0/2.0))**2\n",
      "/Users/adam/Project/anaconda3/envs/ctaphys/lib/python3.7/site-packages/minot/ClusterTools/map_tools.py:216: RuntimeWarning: invalid value encountered in sin\n",
      "  arg4 = (np.sin((lon_ref-lon)*np.pi/180.0/2.0))**2\n"
     ]
    },
    {
     "name": "stdout",
     "output_type": "stream",
     "text": [
      "382/484 RXCJ1926.9-5342 291.743 -53.703 1.4895 0.057\n"
     ]
    },
    {
     "name": "stderr",
     "output_type": "stream",
     "text": [
      "/Users/adam/Project/anaconda3/envs/ctaphys/lib/python3.7/site-packages/minot/ClusterTools/map_tools.py:216: RuntimeWarning: invalid value encountered in sin\n",
      "  arg4 = (np.sin((lon_ref-lon)*np.pi/180.0/2.0))**2\n",
      "/Users/adam/Project/anaconda3/envs/ctaphys/lib/python3.7/site-packages/minot/ClusterTools/map_tools.py:216: RuntimeWarning: invalid value encountered in sin\n",
      "  arg4 = (np.sin((lon_ref-lon)*np.pi/180.0/2.0))**2\n",
      "/Users/adam/Project/anaconda3/envs/ctaphys/lib/python3.7/site-packages/minot/ClusterTools/map_tools.py:216: RuntimeWarning: invalid value encountered in sin\n",
      "  arg4 = (np.sin((lon_ref-lon)*np.pi/180.0/2.0))**2\n"
     ]
    },
    {
     "name": "stdout",
     "output_type": "stream",
     "text": [
      "383/484 RXC_J1930.0-1509 292.507 -15.163 2.1301 0.0829\n"
     ]
    },
    {
     "name": "stderr",
     "output_type": "stream",
     "text": [
      "/Users/adam/Project/anaconda3/envs/ctaphys/lib/python3.7/site-packages/minot/ClusterTools/map_tools.py:216: RuntimeWarning: invalid value encountered in sin\n",
      "  arg4 = (np.sin((lon_ref-lon)*np.pi/180.0/2.0))**2\n",
      "/Users/adam/Project/anaconda3/envs/ctaphys/lib/python3.7/site-packages/minot/ClusterTools/map_tools.py:216: RuntimeWarning: invalid value encountered in sin\n",
      "  arg4 = (np.sin((lon_ref-lon)*np.pi/180.0/2.0))**2\n",
      "/Users/adam/Project/anaconda3/envs/ctaphys/lib/python3.7/site-packages/minot/ClusterTools/map_tools.py:216: RuntimeWarning: invalid value encountered in sin\n",
      "  arg4 = (np.sin((lon_ref-lon)*np.pi/180.0/2.0))**2\n"
     ]
    },
    {
     "name": "stdout",
     "output_type": "stream",
     "text": [
      "384/484 RXCJ1931.6-3354 292.911 -33.913 2.3806 0.0972\n"
     ]
    },
    {
     "name": "stderr",
     "output_type": "stream",
     "text": [
      "/Users/adam/Project/anaconda3/envs/ctaphys/lib/python3.7/site-packages/minot/ClusterTools/map_tools.py:216: RuntimeWarning: invalid value encountered in sin\n",
      "  arg4 = (np.sin((lon_ref-lon)*np.pi/180.0/2.0))**2\n",
      "/Users/adam/Project/anaconda3/envs/ctaphys/lib/python3.7/site-packages/minot/ClusterTools/map_tools.py:216: RuntimeWarning: invalid value encountered in sin\n",
      "  arg4 = (np.sin((lon_ref-lon)*np.pi/180.0/2.0))**2\n",
      "/Users/adam/Project/anaconda3/envs/ctaphys/lib/python3.7/site-packages/minot/ClusterTools/map_tools.py:216: RuntimeWarning: invalid value encountered in sin\n",
      "  arg4 = (np.sin((lon_ref-lon)*np.pi/180.0/2.0))**2\n"
     ]
    },
    {
     "name": "stdout",
     "output_type": "stream",
     "text": [
      "385/484 MCS__J1931.8-2635 292.957 -26.576 5.9238 0.352\n"
     ]
    },
    {
     "name": "stderr",
     "output_type": "stream",
     "text": [
      "/Users/adam/Project/anaconda3/envs/ctaphys/lib/python3.7/site-packages/minot/ClusterTools/map_tools.py:216: RuntimeWarning: invalid value encountered in sin\n",
      "  arg4 = (np.sin((lon_ref-lon)*np.pi/180.0/2.0))**2\n",
      "/Users/adam/Project/anaconda3/envs/ctaphys/lib/python3.7/site-packages/minot/ClusterTools/map_tools.py:216: RuntimeWarning: invalid value encountered in sin\n",
      "  arg4 = (np.sin((lon_ref-lon)*np.pi/180.0/2.0))**2\n",
      "/Users/adam/Project/anaconda3/envs/ctaphys/lib/python3.7/site-packages/minot/ClusterTools/map_tools.py:216: RuntimeWarning: invalid value encountered in sin\n",
      "  arg4 = (np.sin((lon_ref-lon)*np.pi/180.0/2.0))**2\n"
     ]
    },
    {
     "name": "stdout",
     "output_type": "stream",
     "text": [
      "386/484 RXC_J1938.3+5409 294.578 54.159 6.0024 0.26\n"
     ]
    },
    {
     "name": "stderr",
     "output_type": "stream",
     "text": [
      "/Users/adam/Project/anaconda3/envs/ctaphys/lib/python3.7/site-packages/minot/ClusterTools/map_tools.py:216: RuntimeWarning: invalid value encountered in sin\n",
      "  arg4 = (np.sin((lon_ref-lon)*np.pi/180.0/2.0))**2\n",
      "/Users/adam/Project/anaconda3/envs/ctaphys/lib/python3.7/site-packages/minot/ClusterTools/map_tools.py:216: RuntimeWarning: invalid value encountered in sin\n",
      "  arg4 = (np.sin((lon_ref-lon)*np.pi/180.0/2.0))**2\n",
      "/Users/adam/Project/anaconda3/envs/ctaphys/lib/python3.7/site-packages/minot/ClusterTools/map_tools.py:216: RuntimeWarning: invalid value encountered in sin\n",
      "  arg4 = (np.sin((lon_ref-lon)*np.pi/180.0/2.0))**2\n"
     ]
    },
    {
     "name": "stdout",
     "output_type": "stream",
     "text": [
      "387/484 A3651 298.069 -55.062 1.4748 0.06\n"
     ]
    },
    {
     "name": "stderr",
     "output_type": "stream",
     "text": [
      "/Users/adam/Project/anaconda3/envs/ctaphys/lib/python3.7/site-packages/minot/ClusterTools/map_tools.py:216: RuntimeWarning: invalid value encountered in sin\n",
      "  arg4 = (np.sin((lon_ref-lon)*np.pi/180.0/2.0))**2\n",
      "/Users/adam/Project/anaconda3/envs/ctaphys/lib/python3.7/site-packages/minot/ClusterTools/map_tools.py:216: RuntimeWarning: invalid value encountered in sin\n",
      "  arg4 = (np.sin((lon_ref-lon)*np.pi/180.0/2.0))**2\n",
      "/Users/adam/Project/anaconda3/envs/ctaphys/lib/python3.7/site-packages/minot/ClusterTools/map_tools.py:216: RuntimeWarning: invalid value encountered in sin\n",
      "  arg4 = (np.sin((lon_ref-lon)*np.pi/180.0/2.0))**2\n"
     ]
    },
    {
     "name": "stdout",
     "output_type": "stream",
     "text": [
      "388/484 A3653 298.254 -52.031 2.5013 0.1069\n"
     ]
    },
    {
     "name": "stderr",
     "output_type": "stream",
     "text": [
      "/Users/adam/Project/anaconda3/envs/ctaphys/lib/python3.7/site-packages/minot/ClusterTools/map_tools.py:216: RuntimeWarning: invalid value encountered in sin\n",
      "  arg4 = (np.sin((lon_ref-lon)*np.pi/180.0/2.0))**2\n",
      "/Users/adam/Project/anaconda3/envs/ctaphys/lib/python3.7/site-packages/minot/ClusterTools/map_tools.py:216: RuntimeWarning: invalid value encountered in sin\n",
      "  arg4 = (np.sin((lon_ref-lon)*np.pi/180.0/2.0))**2\n",
      "/Users/adam/Project/anaconda3/envs/ctaphys/lib/python3.7/site-packages/minot/ClusterTools/map_tools.py:216: RuntimeWarning: invalid value encountered in sin\n",
      "  arg4 = (np.sin((lon_ref-lon)*np.pi/180.0/2.0))**2\n"
     ]
    },
    {
     "name": "stdout",
     "output_type": "stream",
     "text": [
      "389/484 RXCJ1958.2-3011 299.561 -30.19 4.1184 0.1171\n"
     ]
    },
    {
     "name": "stderr",
     "output_type": "stream",
     "text": [
      "/Users/adam/Project/anaconda3/envs/ctaphys/lib/python3.7/site-packages/minot/ClusterTools/map_tools.py:216: RuntimeWarning: invalid value encountered in sin\n",
      "  arg4 = (np.sin((lon_ref-lon)*np.pi/180.0/2.0))**2\n",
      "/Users/adam/Project/anaconda3/envs/ctaphys/lib/python3.7/site-packages/minot/ClusterTools/map_tools.py:216: RuntimeWarning: invalid value encountered in sin\n",
      "  arg4 = (np.sin((lon_ref-lon)*np.pi/180.0/2.0))**2\n",
      "/Users/adam/Project/anaconda3/envs/ctaphys/lib/python3.7/site-packages/minot/ClusterTools/map_tools.py:216: RuntimeWarning: invalid value encountered in sin\n",
      "  arg4 = (np.sin((lon_ref-lon)*np.pi/180.0/2.0))**2\n"
     ]
    },
    {
     "name": "stdout",
     "output_type": "stream",
     "text": [
      "390/484 Cygnus_A 299.876 40.736 4.2185 0.0561\n"
     ]
    },
    {
     "name": "stderr",
     "output_type": "stream",
     "text": [
      "/Users/adam/Project/anaconda3/envs/ctaphys/lib/python3.7/site-packages/minot/ClusterTools/map_tools.py:216: RuntimeWarning: invalid value encountered in sin\n",
      "  arg4 = (np.sin((lon_ref-lon)*np.pi/180.0/2.0))**2\n",
      "/Users/adam/Project/anaconda3/envs/ctaphys/lib/python3.7/site-packages/minot/ClusterTools/map_tools.py:216: RuntimeWarning: invalid value encountered in sin\n",
      "  arg4 = (np.sin((lon_ref-lon)*np.pi/180.0/2.0))**2\n",
      "/Users/adam/Project/anaconda3/envs/ctaphys/lib/python3.7/site-packages/minot/ClusterTools/map_tools.py:216: RuntimeWarning: invalid value encountered in sin\n",
      "  arg4 = (np.sin((lon_ref-lon)*np.pi/180.0/2.0))**2\n"
     ]
    },
    {
     "name": "stdout",
     "output_type": "stream",
     "text": [
      "391/484 A3667 303.127 -56.832 5.1696 0.0556\n"
     ]
    },
    {
     "name": "stderr",
     "output_type": "stream",
     "text": [
      "/Users/adam/Project/anaconda3/envs/ctaphys/lib/python3.7/site-packages/minot/ClusterTools/map_tools.py:216: RuntimeWarning: invalid value encountered in sin\n",
      "  arg4 = (np.sin((lon_ref-lon)*np.pi/180.0/2.0))**2\n",
      "/Users/adam/Project/anaconda3/envs/ctaphys/lib/python3.7/site-packages/minot/ClusterTools/map_tools.py:216: RuntimeWarning: invalid value encountered in sin\n",
      "  arg4 = (np.sin((lon_ref-lon)*np.pi/180.0/2.0))**2\n",
      "/Users/adam/Project/anaconda3/envs/ctaphys/lib/python3.7/site-packages/minot/ClusterTools/map_tools.py:216: RuntimeWarning: invalid value encountered in sin\n",
      "  arg4 = (np.sin((lon_ref-lon)*np.pi/180.0/2.0))**2\n"
     ]
    },
    {
     "name": "stdout",
     "output_type": "stream",
     "text": [
      "392/484 RXCJ2014.8-2430 303.707 -24.508 7.1884 0.1612\n"
     ]
    },
    {
     "name": "stderr",
     "output_type": "stream",
     "text": [
      "/Users/adam/Project/anaconda3/envs/ctaphys/lib/python3.7/site-packages/minot/ClusterTools/map_tools.py:216: RuntimeWarning: invalid value encountered in sin\n",
      "  arg4 = (np.sin((lon_ref-lon)*np.pi/180.0/2.0))**2\n",
      "/Users/adam/Project/anaconda3/envs/ctaphys/lib/python3.7/site-packages/minot/ClusterTools/map_tools.py:216: RuntimeWarning: invalid value encountered in sin\n",
      "  arg4 = (np.sin((lon_ref-lon)*np.pi/180.0/2.0))**2\n",
      "/Users/adam/Project/anaconda3/envs/ctaphys/lib/python3.7/site-packages/minot/ClusterTools/map_tools.py:216: RuntimeWarning: invalid value encountered in sin\n",
      "  arg4 = (np.sin((lon_ref-lon)*np.pi/180.0/2.0))**2\n"
     ]
    },
    {
     "name": "stdout",
     "output_type": "stream",
     "text": [
      "393/484 S0861 304.69 -52.706 1.5771 0.0505\n"
     ]
    },
    {
     "name": "stderr",
     "output_type": "stream",
     "text": [
      "/Users/adam/Project/anaconda3/envs/ctaphys/lib/python3.7/site-packages/minot/ClusterTools/map_tools.py:216: RuntimeWarning: invalid value encountered in sin\n",
      "  arg4 = (np.sin((lon_ref-lon)*np.pi/180.0/2.0))**2\n",
      "/Users/adam/Project/anaconda3/envs/ctaphys/lib/python3.7/site-packages/minot/ClusterTools/map_tools.py:216: RuntimeWarning: invalid value encountered in sin\n",
      "  arg4 = (np.sin((lon_ref-lon)*np.pi/180.0/2.0))**2\n",
      "/Users/adam/Project/anaconda3/envs/ctaphys/lib/python3.7/site-packages/minot/ClusterTools/map_tools.py:216: RuntimeWarning: invalid value encountered in sin\n",
      "  arg4 = (np.sin((lon_ref-lon)*np.pi/180.0/2.0))**2\n"
     ]
    },
    {
     "name": "stdout",
     "output_type": "stream",
     "text": [
      "394/484 A3694 308.675 -34.074 2.7443 0.0936\n"
     ]
    },
    {
     "name": "stderr",
     "output_type": "stream",
     "text": [
      "/Users/adam/Project/anaconda3/envs/ctaphys/lib/python3.7/site-packages/minot/ClusterTools/map_tools.py:216: RuntimeWarning: invalid value encountered in sin\n",
      "  arg4 = (np.sin((lon_ref-lon)*np.pi/180.0/2.0))**2\n",
      "/Users/adam/Project/anaconda3/envs/ctaphys/lib/python3.7/site-packages/minot/ClusterTools/map_tools.py:216: RuntimeWarning: invalid value encountered in sin\n",
      "  arg4 = (np.sin((lon_ref-lon)*np.pi/180.0/2.0))**2\n",
      "/Users/adam/Project/anaconda3/envs/ctaphys/lib/python3.7/site-packages/minot/ClusterTools/map_tools.py:216: RuntimeWarning: invalid value encountered in sin\n",
      "  arg4 = (np.sin((lon_ref-lon)*np.pi/180.0/2.0))**2\n"
     ]
    },
    {
     "name": "stdout",
     "output_type": "stream",
     "text": [
      "395/484 A3695 308.699 -35.813 3.7297 0.0894\n"
     ]
    },
    {
     "name": "stderr",
     "output_type": "stream",
     "text": [
      "/Users/adam/Project/anaconda3/envs/ctaphys/lib/python3.7/site-packages/minot/ClusterTools/map_tools.py:216: RuntimeWarning: invalid value encountered in sin\n",
      "  arg4 = (np.sin((lon_ref-lon)*np.pi/180.0/2.0))**2\n",
      "/Users/adam/Project/anaconda3/envs/ctaphys/lib/python3.7/site-packages/minot/ClusterTools/map_tools.py:216: RuntimeWarning: invalid value encountered in sin\n",
      "  arg4 = (np.sin((lon_ref-lon)*np.pi/180.0/2.0))**2\n",
      "/Users/adam/Project/anaconda3/envs/ctaphys/lib/python3.7/site-packages/minot/ClusterTools/map_tools.py:216: RuntimeWarning: invalid value encountered in sin\n",
      "  arg4 = (np.sin((lon_ref-lon)*np.pi/180.0/2.0))**2\n"
     ]
    },
    {
     "name": "stdout",
     "output_type": "stream",
     "text": [
      "396/484 RXC_J2040.1+1712 310.048 17.214 5.5278 0.169\n"
     ]
    },
    {
     "name": "stderr",
     "output_type": "stream",
     "text": [
      "/Users/adam/Project/anaconda3/envs/ctaphys/lib/python3.7/site-packages/minot/ClusterTools/map_tools.py:216: RuntimeWarning: invalid value encountered in sin\n",
      "  arg4 = (np.sin((lon_ref-lon)*np.pi/180.0/2.0))**2\n",
      "/Users/adam/Project/anaconda3/envs/ctaphys/lib/python3.7/site-packages/minot/ClusterTools/map_tools.py:216: RuntimeWarning: invalid value encountered in sin\n",
      "  arg4 = (np.sin((lon_ref-lon)*np.pi/180.0/2.0))**2\n",
      "/Users/adam/Project/anaconda3/envs/ctaphys/lib/python3.7/site-packages/minot/ClusterTools/map_tools.py:216: RuntimeWarning: invalid value encountered in sin\n",
      "  arg4 = (np.sin((lon_ref-lon)*np.pi/180.0/2.0))**2\n"
     ]
    },
    {
     "name": "stdout",
     "output_type": "stream",
     "text": [
      "397/484 RXC_J2042.1+2426 310.529 24.441 3.8223 0.1019\n"
     ]
    },
    {
     "name": "stderr",
     "output_type": "stream",
     "text": [
      "/Users/adam/Project/anaconda3/envs/ctaphys/lib/python3.7/site-packages/minot/ClusterTools/map_tools.py:216: RuntimeWarning: invalid value encountered in sin\n",
      "  arg4 = (np.sin((lon_ref-lon)*np.pi/180.0/2.0))**2\n",
      "/Users/adam/Project/anaconda3/envs/ctaphys/lib/python3.7/site-packages/minot/ClusterTools/map_tools.py:216: RuntimeWarning: invalid value encountered in sin\n",
      "  arg4 = (np.sin((lon_ref-lon)*np.pi/180.0/2.0))**2\n",
      "/Users/adam/Project/anaconda3/envs/ctaphys/lib/python3.7/site-packages/minot/ClusterTools/map_tools.py:216: RuntimeWarning: invalid value encountered in sin\n",
      "  arg4 = (np.sin((lon_ref-lon)*np.pi/180.0/2.0))**2\n"
     ]
    },
    {
     "name": "stdout",
     "output_type": "stream",
     "text": [
      "398/484 A2328 312.044 -17.844 3.6443 0.1475\n"
     ]
    },
    {
     "name": "stderr",
     "output_type": "stream",
     "text": [
      "/Users/adam/Project/anaconda3/envs/ctaphys/lib/python3.7/site-packages/minot/ClusterTools/map_tools.py:216: RuntimeWarning: invalid value encountered in sin\n",
      "  arg4 = (np.sin((lon_ref-lon)*np.pi/180.0/2.0))**2\n",
      "/Users/adam/Project/anaconda3/envs/ctaphys/lib/python3.7/site-packages/minot/ClusterTools/map_tools.py:216: RuntimeWarning: invalid value encountered in sin\n",
      "  arg4 = (np.sin((lon_ref-lon)*np.pi/180.0/2.0))**2\n",
      "/Users/adam/Project/anaconda3/envs/ctaphys/lib/python3.7/site-packages/minot/ClusterTools/map_tools.py:216: RuntimeWarning: invalid value encountered in sin\n",
      "  arg4 = (np.sin((lon_ref-lon)*np.pi/180.0/2.0))**2\n"
     ]
    },
    {
     "name": "stdout",
     "output_type": "stream",
     "text": [
      "399/484 RXC_J2048.6+2515 312.172 25.253 1.272 0.0482\n"
     ]
    },
    {
     "name": "stderr",
     "output_type": "stream",
     "text": [
      "/Users/adam/Project/anaconda3/envs/ctaphys/lib/python3.7/site-packages/minot/ClusterTools/map_tools.py:216: RuntimeWarning: invalid value encountered in sin\n",
      "  arg4 = (np.sin((lon_ref-lon)*np.pi/180.0/2.0))**2\n",
      "/Users/adam/Project/anaconda3/envs/ctaphys/lib/python3.7/site-packages/minot/ClusterTools/map_tools.py:216: RuntimeWarning: invalid value encountered in sin\n",
      "  arg4 = (np.sin((lon_ref-lon)*np.pi/180.0/2.0))**2\n",
      "/Users/adam/Project/anaconda3/envs/ctaphys/lib/python3.7/site-packages/minot/ClusterTools/map_tools.py:216: RuntimeWarning: invalid value encountered in sin\n",
      "  arg4 = (np.sin((lon_ref-lon)*np.pi/180.0/2.0))**2\n"
     ]
    },
    {
     "name": "stdout",
     "output_type": "stream",
     "text": [
      "400/484 A3718 313.965 -54.92 3.0097 0.139\n"
     ]
    },
    {
     "name": "stderr",
     "output_type": "stream",
     "text": [
      "/Users/adam/Project/anaconda3/envs/ctaphys/lib/python3.7/site-packages/minot/ClusterTools/map_tools.py:216: RuntimeWarning: invalid value encountered in sin\n",
      "  arg4 = (np.sin((lon_ref-lon)*np.pi/180.0/2.0))**2\n",
      "/Users/adam/Project/anaconda3/envs/ctaphys/lib/python3.7/site-packages/minot/ClusterTools/map_tools.py:216: RuntimeWarning: invalid value encountered in sin\n",
      "  arg4 = (np.sin((lon_ref-lon)*np.pi/180.0/2.0))**2\n",
      "/Users/adam/Project/anaconda3/envs/ctaphys/lib/python3.7/site-packages/minot/ClusterTools/map_tools.py:216: RuntimeWarning: invalid value encountered in sin\n",
      "  arg4 = (np.sin((lon_ref-lon)*np.pi/180.0/2.0))**2\n"
     ]
    },
    {
     "name": "stdout",
     "output_type": "stream",
     "text": [
      "401/484 A3733 315.453 -28.035 0.9229 0.0382\n"
     ]
    },
    {
     "name": "stderr",
     "output_type": "stream",
     "text": [
      "/Users/adam/Project/anaconda3/envs/ctaphys/lib/python3.7/site-packages/minot/ClusterTools/map_tools.py:216: RuntimeWarning: invalid value encountered in sin\n",
      "  arg4 = (np.sin((lon_ref-lon)*np.pi/180.0/2.0))**2\n",
      "/Users/adam/Project/anaconda3/envs/ctaphys/lib/python3.7/site-packages/minot/ClusterTools/map_tools.py:216: RuntimeWarning: invalid value encountered in sin\n",
      "  arg4 = (np.sin((lon_ref-lon)*np.pi/180.0/2.0))**2\n",
      "/Users/adam/Project/anaconda3/envs/ctaphys/lib/python3.7/site-packages/minot/ClusterTools/map_tools.py:216: RuntimeWarning: invalid value encountered in sin\n",
      "  arg4 = (np.sin((lon_ref-lon)*np.pi/180.0/2.0))**2\n"
     ]
    },
    {
     "name": "stdout",
     "output_type": "stream",
     "text": [
      "402/484 RBS_1712 315.541 -24.531 4.4993 0.188\n"
     ]
    },
    {
     "name": "stderr",
     "output_type": "stream",
     "text": [
      "/Users/adam/Project/anaconda3/envs/ctaphys/lib/python3.7/site-packages/minot/ClusterTools/map_tools.py:216: RuntimeWarning: invalid value encountered in sin\n",
      "  arg4 = (np.sin((lon_ref-lon)*np.pi/180.0/2.0))**2\n",
      "/Users/adam/Project/anaconda3/envs/ctaphys/lib/python3.7/site-packages/minot/ClusterTools/map_tools.py:216: RuntimeWarning: invalid value encountered in sin\n",
      "  arg4 = (np.sin((lon_ref-lon)*np.pi/180.0/2.0))**2\n",
      "/Users/adam/Project/anaconda3/envs/ctaphys/lib/python3.7/site-packages/minot/ClusterTools/map_tools.py:216: RuntimeWarning: invalid value encountered in sin\n",
      "  arg4 = (np.sin((lon_ref-lon)*np.pi/180.0/2.0))**2\n"
     ]
    },
    {
     "name": "stdout",
     "output_type": "stream",
     "text": [
      "403/484 A3739 316.084 -41.349 4.1199 0.1651\n"
     ]
    },
    {
     "name": "stderr",
     "output_type": "stream",
     "text": [
      "/Users/adam/Project/anaconda3/envs/ctaphys/lib/python3.7/site-packages/minot/ClusterTools/map_tools.py:216: RuntimeWarning: invalid value encountered in sin\n",
      "  arg4 = (np.sin((lon_ref-lon)*np.pi/180.0/2.0))**2\n",
      "/Users/adam/Project/anaconda3/envs/ctaphys/lib/python3.7/site-packages/minot/ClusterTools/map_tools.py:216: RuntimeWarning: invalid value encountered in sin\n",
      "  arg4 = (np.sin((lon_ref-lon)*np.pi/180.0/2.0))**2\n",
      "/Users/adam/Project/anaconda3/envs/ctaphys/lib/python3.7/site-packages/minot/ClusterTools/map_tools.py:216: RuntimeWarning: invalid value encountered in sin\n",
      "  arg4 = (np.sin((lon_ref-lon)*np.pi/180.0/2.0))**2\n"
     ]
    },
    {
     "name": "stdout",
     "output_type": "stream",
     "text": [
      "404/484 RXCJ2104.9-5149 316.228 -51.826 1.3227 0.0491\n"
     ]
    },
    {
     "name": "stderr",
     "output_type": "stream",
     "text": [
      "/Users/adam/Project/anaconda3/envs/ctaphys/lib/python3.7/site-packages/minot/ClusterTools/map_tools.py:216: RuntimeWarning: invalid value encountered in sin\n",
      "  arg4 = (np.sin((lon_ref-lon)*np.pi/180.0/2.0))**2\n",
      "/Users/adam/Project/anaconda3/envs/ctaphys/lib/python3.7/site-packages/minot/ClusterTools/map_tools.py:216: RuntimeWarning: invalid value encountered in sin\n",
      "  arg4 = (np.sin((lon_ref-lon)*np.pi/180.0/2.0))**2\n",
      "/Users/adam/Project/anaconda3/envs/ctaphys/lib/python3.7/site-packages/minot/ClusterTools/map_tools.py:216: RuntimeWarning: invalid value encountered in sin\n",
      "  arg4 = (np.sin((lon_ref-lon)*np.pi/180.0/2.0))**2\n"
     ]
    },
    {
     "name": "stdout",
     "output_type": "stream",
     "text": [
      "405/484 IC_1365 318.474 2.556 1.6418 0.0494\n"
     ]
    },
    {
     "name": "stderr",
     "output_type": "stream",
     "text": [
      "/Users/adam/Project/anaconda3/envs/ctaphys/lib/python3.7/site-packages/minot/ClusterTools/map_tools.py:216: RuntimeWarning: invalid value encountered in sin\n",
      "  arg4 = (np.sin((lon_ref-lon)*np.pi/180.0/2.0))**2\n",
      "/Users/adam/Project/anaconda3/envs/ctaphys/lib/python3.7/site-packages/minot/ClusterTools/map_tools.py:216: RuntimeWarning: invalid value encountered in sin\n",
      "  arg4 = (np.sin((lon_ref-lon)*np.pi/180.0/2.0))**2\n",
      "/Users/adam/Project/anaconda3/envs/ctaphys/lib/python3.7/site-packages/minot/ClusterTools/map_tools.py:216: RuntimeWarning: invalid value encountered in sin\n",
      "  arg4 = (np.sin((lon_ref-lon)*np.pi/180.0/2.0))**2\n"
     ]
    },
    {
     "name": "stdout",
     "output_type": "stream",
     "text": [
      "406/484 A2345 321.796 -12.159 4.1441 0.176\n"
     ]
    },
    {
     "name": "stderr",
     "output_type": "stream",
     "text": [
      "/Users/adam/Project/anaconda3/envs/ctaphys/lib/python3.7/site-packages/minot/ClusterTools/map_tools.py:216: RuntimeWarning: invalid value encountered in sin\n",
      "  arg4 = (np.sin((lon_ref-lon)*np.pi/180.0/2.0))**2\n",
      "/Users/adam/Project/anaconda3/envs/ctaphys/lib/python3.7/site-packages/minot/ClusterTools/map_tools.py:216: RuntimeWarning: invalid value encountered in sin\n",
      "  arg4 = (np.sin((lon_ref-lon)*np.pi/180.0/2.0))**2\n",
      "/Users/adam/Project/anaconda3/envs/ctaphys/lib/python3.7/site-packages/minot/ClusterTools/map_tools.py:216: RuntimeWarning: invalid value encountered in sin\n",
      "  arg4 = (np.sin((lon_ref-lon)*np.pi/180.0/2.0))**2\n"
     ]
    },
    {
     "name": "stdout",
     "output_type": "stream",
     "text": [
      "407/484 RXJ2129.6+0005 322.419 0.097 7.0455 0.2347\n"
     ]
    },
    {
     "name": "stderr",
     "output_type": "stream",
     "text": [
      "/Users/adam/Project/anaconda3/envs/ctaphys/lib/python3.7/site-packages/minot/ClusterTools/map_tools.py:216: RuntimeWarning: invalid value encountered in sin\n",
      "  arg4 = (np.sin((lon_ref-lon)*np.pi/180.0/2.0))**2\n",
      "/Users/adam/Project/anaconda3/envs/ctaphys/lib/python3.7/site-packages/minot/ClusterTools/map_tools.py:216: RuntimeWarning: invalid value encountered in sin\n",
      "  arg4 = (np.sin((lon_ref-lon)*np.pi/180.0/2.0))**2\n",
      "/Users/adam/Project/anaconda3/envs/ctaphys/lib/python3.7/site-packages/minot/ClusterTools/map_tools.py:216: RuntimeWarning: invalid value encountered in sin\n",
      "  arg4 = (np.sin((lon_ref-lon)*np.pi/180.0/2.0))**2\n"
     ]
    },
    {
     "name": "stdout",
     "output_type": "stream",
     "text": [
      "408/484 A2351 323.569 -13.48 2.746 0.0897\n"
     ]
    },
    {
     "name": "stderr",
     "output_type": "stream",
     "text": [
      "/Users/adam/Project/anaconda3/envs/ctaphys/lib/python3.7/site-packages/minot/ClusterTools/map_tools.py:216: RuntimeWarning: invalid value encountered in sin\n",
      "  arg4 = (np.sin((lon_ref-lon)*np.pi/180.0/2.0))**2\n",
      "/Users/adam/Project/anaconda3/envs/ctaphys/lib/python3.7/site-packages/minot/ClusterTools/map_tools.py:216: RuntimeWarning: invalid value encountered in sin\n",
      "  arg4 = (np.sin((lon_ref-lon)*np.pi/180.0/2.0))**2\n",
      "/Users/adam/Project/anaconda3/envs/ctaphys/lib/python3.7/site-packages/minot/ClusterTools/map_tools.py:216: RuntimeWarning: invalid value encountered in sin\n",
      "  arg4 = (np.sin((lon_ref-lon)*np.pi/180.0/2.0))**2\n"
     ]
    },
    {
     "name": "stdout",
     "output_type": "stream",
     "text": [
      "409/484 MS2137.3-2353 325.063 -23.661 4.7 0.313\n"
     ]
    },
    {
     "name": "stderr",
     "output_type": "stream",
     "text": [
      "/Users/adam/Project/anaconda3/envs/ctaphys/lib/python3.7/site-packages/minot/ClusterTools/map_tools.py:216: RuntimeWarning: invalid value encountered in sin\n",
      "  arg4 = (np.sin((lon_ref-lon)*np.pi/180.0/2.0))**2\n",
      "/Users/adam/Project/anaconda3/envs/ctaphys/lib/python3.7/site-packages/minot/ClusterTools/map_tools.py:216: RuntimeWarning: invalid value encountered in sin\n",
      "  arg4 = (np.sin((lon_ref-lon)*np.pi/180.0/2.0))**2\n",
      "/Users/adam/Project/anaconda3/envs/ctaphys/lib/python3.7/site-packages/minot/ClusterTools/map_tools.py:216: RuntimeWarning: invalid value encountered in sin\n",
      "  arg4 = (np.sin((lon_ref-lon)*np.pi/180.0/2.0))**2\n"
     ]
    },
    {
     "name": "stdout",
     "output_type": "stream",
     "text": [
      "410/484 APMCC_699 325.993 -56.626 2.6504 0.0824\n"
     ]
    },
    {
     "name": "stderr",
     "output_type": "stream",
     "text": [
      "/Users/adam/Project/anaconda3/envs/ctaphys/lib/python3.7/site-packages/minot/ClusterTools/map_tools.py:216: RuntimeWarning: invalid value encountered in sin\n",
      "  arg4 = (np.sin((lon_ref-lon)*np.pi/180.0/2.0))**2\n",
      "/Users/adam/Project/anaconda3/envs/ctaphys/lib/python3.7/site-packages/minot/ClusterTools/map_tools.py:216: RuntimeWarning: invalid value encountered in sin\n",
      "  arg4 = (np.sin((lon_ref-lon)*np.pi/180.0/2.0))**2\n",
      "/Users/adam/Project/anaconda3/envs/ctaphys/lib/python3.7/site-packages/minot/ClusterTools/map_tools.py:216: RuntimeWarning: invalid value encountered in sin\n",
      "  arg4 = (np.sin((lon_ref-lon)*np.pi/180.0/2.0))**2\n"
     ]
    },
    {
     "name": "stdout",
     "output_type": "stream",
     "text": [
      "411/484 A2377 326.478 -10.104 2.0336 0.0808\n"
     ]
    },
    {
     "name": "stderr",
     "output_type": "stream",
     "text": [
      "/Users/adam/Project/anaconda3/envs/ctaphys/lib/python3.7/site-packages/minot/ClusterTools/map_tools.py:216: RuntimeWarning: invalid value encountered in sin\n",
      "  arg4 = (np.sin((lon_ref-lon)*np.pi/180.0/2.0))**2\n",
      "/Users/adam/Project/anaconda3/envs/ctaphys/lib/python3.7/site-packages/minot/ClusterTools/map_tools.py:216: RuntimeWarning: invalid value encountered in sin\n",
      "  arg4 = (np.sin((lon_ref-lon)*np.pi/180.0/2.0))**2\n",
      "/Users/adam/Project/anaconda3/envs/ctaphys/lib/python3.7/site-packages/minot/ClusterTools/map_tools.py:216: RuntimeWarning: invalid value encountered in sin\n",
      "  arg4 = (np.sin((lon_ref-lon)*np.pi/180.0/2.0))**2\n"
     ]
    },
    {
     "name": "stdout",
     "output_type": "stream",
     "text": [
      "412/484 A3806 326.587 -57.289 1.8407 0.076\n"
     ]
    },
    {
     "name": "stderr",
     "output_type": "stream",
     "text": [
      "/Users/adam/Project/anaconda3/envs/ctaphys/lib/python3.7/site-packages/minot/ClusterTools/map_tools.py:216: RuntimeWarning: invalid value encountered in sin\n",
      "  arg4 = (np.sin((lon_ref-lon)*np.pi/180.0/2.0))**2\n",
      "/Users/adam/Project/anaconda3/envs/ctaphys/lib/python3.7/site-packages/minot/ClusterTools/map_tools.py:216: RuntimeWarning: invalid value encountered in sin\n",
      "  arg4 = (np.sin((lon_ref-lon)*np.pi/180.0/2.0))**2\n",
      "/Users/adam/Project/anaconda3/envs/ctaphys/lib/python3.7/site-packages/minot/ClusterTools/map_tools.py:216: RuntimeWarning: invalid value encountered in sin\n",
      "  arg4 = (np.sin((lon_ref-lon)*np.pi/180.0/2.0))**2\n"
     ]
    },
    {
     "name": "stdout",
     "output_type": "stream",
     "text": [
      "413/484 A3809 326.741 -43.91 1.7255 0.062\n"
     ]
    },
    {
     "name": "stderr",
     "output_type": "stream",
     "text": [
      "/Users/adam/Project/anaconda3/envs/ctaphys/lib/python3.7/site-packages/minot/ClusterTools/map_tools.py:216: RuntimeWarning: invalid value encountered in sin\n",
      "  arg4 = (np.sin((lon_ref-lon)*np.pi/180.0/2.0))**2\n",
      "/Users/adam/Project/anaconda3/envs/ctaphys/lib/python3.7/site-packages/minot/ClusterTools/map_tools.py:216: RuntimeWarning: invalid value encountered in sin\n",
      "  arg4 = (np.sin((lon_ref-lon)*np.pi/180.0/2.0))**2\n",
      "/Users/adam/Project/anaconda3/envs/ctaphys/lib/python3.7/site-packages/minot/ClusterTools/map_tools.py:216: RuntimeWarning: invalid value encountered in sin\n",
      "  arg4 = (np.sin((lon_ref-lon)*np.pi/180.0/2.0))**2\n"
     ]
    },
    {
     "name": "stdout",
     "output_type": "stream",
     "text": [
      "414/484 S0974 326.981 -46.005 1.3764 0.0593\n"
     ]
    },
    {
     "name": "stderr",
     "output_type": "stream",
     "text": [
      "/Users/adam/Project/anaconda3/envs/ctaphys/lib/python3.7/site-packages/minot/ClusterTools/map_tools.py:216: RuntimeWarning: invalid value encountered in sin\n",
      "  arg4 = (np.sin((lon_ref-lon)*np.pi/180.0/2.0))**2\n",
      "/Users/adam/Project/anaconda3/envs/ctaphys/lib/python3.7/site-packages/minot/ClusterTools/map_tools.py:216: RuntimeWarning: invalid value encountered in sin\n",
      "  arg4 = (np.sin((lon_ref-lon)*np.pi/180.0/2.0))**2\n",
      "/Users/adam/Project/anaconda3/envs/ctaphys/lib/python3.7/site-packages/minot/ClusterTools/map_tools.py:216: RuntimeWarning: invalid value encountered in sin\n",
      "  arg4 = (np.sin((lon_ref-lon)*np.pi/180.0/2.0))**2\n"
     ]
    },
    {
     "name": "stdout",
     "output_type": "stream",
     "text": [
      "415/484 A3814 327.281 -30.699 2.9219 0.1184\n"
     ]
    },
    {
     "name": "stderr",
     "output_type": "stream",
     "text": [
      "/Users/adam/Project/anaconda3/envs/ctaphys/lib/python3.7/site-packages/minot/ClusterTools/map_tools.py:216: RuntimeWarning: invalid value encountered in sin\n",
      "  arg4 = (np.sin((lon_ref-lon)*np.pi/180.0/2.0))**2\n",
      "/Users/adam/Project/anaconda3/envs/ctaphys/lib/python3.7/site-packages/minot/ClusterTools/map_tools.py:216: RuntimeWarning: invalid value encountered in sin\n",
      "  arg4 = (np.sin((lon_ref-lon)*np.pi/180.0/2.0))**2\n",
      "/Users/adam/Project/anaconda3/envs/ctaphys/lib/python3.7/site-packages/minot/ClusterTools/map_tools.py:216: RuntimeWarning: invalid value encountered in sin\n",
      "  arg4 = (np.sin((lon_ref-lon)*np.pi/180.0/2.0))**2\n"
     ]
    },
    {
     "name": "stdout",
     "output_type": "stream",
     "text": [
      "416/484 A2384_A 328.1 -19.565 2.6137 0.0943\n"
     ]
    },
    {
     "name": "stderr",
     "output_type": "stream",
     "text": [
      "/Users/adam/Project/anaconda3/envs/ctaphys/lib/python3.7/site-packages/minot/ClusterTools/map_tools.py:216: RuntimeWarning: invalid value encountered in sin\n",
      "  arg4 = (np.sin((lon_ref-lon)*np.pi/180.0/2.0))**2\n",
      "/Users/adam/Project/anaconda3/envs/ctaphys/lib/python3.7/site-packages/minot/ClusterTools/map_tools.py:216: RuntimeWarning: invalid value encountered in sin\n",
      "  arg4 = (np.sin((lon_ref-lon)*np.pi/180.0/2.0))**2\n",
      "/Users/adam/Project/anaconda3/envs/ctaphys/lib/python3.7/site-packages/minot/ClusterTools/map_tools.py:216: RuntimeWarning: invalid value encountered in sin\n",
      "  arg4 = (np.sin((lon_ref-lon)*np.pi/180.0/2.0))**2\n"
     ]
    },
    {
     "name": "stdout",
     "output_type": "stream",
     "text": [
      "417/484 A2390 328.398 17.687 8.9525 0.2329\n"
     ]
    },
    {
     "name": "stderr",
     "output_type": "stream",
     "text": [
      "/Users/adam/Project/anaconda3/envs/ctaphys/lib/python3.7/site-packages/minot/ClusterTools/map_tools.py:216: RuntimeWarning: invalid value encountered in sin\n",
      "  arg4 = (np.sin((lon_ref-lon)*np.pi/180.0/2.0))**2\n",
      "/Users/adam/Project/anaconda3/envs/ctaphys/lib/python3.7/site-packages/minot/ClusterTools/map_tools.py:216: RuntimeWarning: invalid value encountered in sin\n",
      "  arg4 = (np.sin((lon_ref-lon)*np.pi/180.0/2.0))**2\n",
      "/Users/adam/Project/anaconda3/envs/ctaphys/lib/python3.7/site-packages/minot/ClusterTools/map_tools.py:216: RuntimeWarning: invalid value encountered in sin\n",
      "  arg4 = (np.sin((lon_ref-lon)*np.pi/180.0/2.0))**2\n"
     ]
    },
    {
     "name": "stdout",
     "output_type": "stream",
     "text": [
      "418/484 A3822 328.538 -57.855 3.0499 0.076\n"
     ]
    },
    {
     "name": "stderr",
     "output_type": "stream",
     "text": [
      "/Users/adam/Project/anaconda3/envs/ctaphys/lib/python3.7/site-packages/minot/ClusterTools/map_tools.py:216: RuntimeWarning: invalid value encountered in sin\n",
      "  arg4 = (np.sin((lon_ref-lon)*np.pi/180.0/2.0))**2\n",
      "/Users/adam/Project/anaconda3/envs/ctaphys/lib/python3.7/site-packages/minot/ClusterTools/map_tools.py:216: RuntimeWarning: invalid value encountered in sin\n",
      "  arg4 = (np.sin((lon_ref-lon)*np.pi/180.0/2.0))**2\n",
      "/Users/adam/Project/anaconda3/envs/ctaphys/lib/python3.7/site-packages/minot/ClusterTools/map_tools.py:216: RuntimeWarning: invalid value encountered in sin\n",
      "  arg4 = (np.sin((lon_ref-lon)*np.pi/180.0/2.0))**2\n"
     ]
    },
    {
     "name": "stdout",
     "output_type": "stream",
     "text": [
      "419/484 RXC_J2156.4+3318 329.103 33.31 2.734 0.078\n"
     ]
    },
    {
     "name": "stderr",
     "output_type": "stream",
     "text": [
      "/Users/adam/Project/anaconda3/envs/ctaphys/lib/python3.7/site-packages/minot/ClusterTools/map_tools.py:216: RuntimeWarning: invalid value encountered in sin\n",
      "  arg4 = (np.sin((lon_ref-lon)*np.pi/180.0/2.0))**2\n",
      "/Users/adam/Project/anaconda3/envs/ctaphys/lib/python3.7/site-packages/minot/ClusterTools/map_tools.py:216: RuntimeWarning: invalid value encountered in sin\n",
      "  arg4 = (np.sin((lon_ref-lon)*np.pi/180.0/2.0))**2\n",
      "/Users/adam/Project/anaconda3/envs/ctaphys/lib/python3.7/site-packages/minot/ClusterTools/map_tools.py:216: RuntimeWarning: invalid value encountered in sin\n",
      "  arg4 = (np.sin((lon_ref-lon)*np.pi/180.0/2.0))**2\n"
     ]
    },
    {
     "name": "stdout",
     "output_type": "stream",
     "text": [
      "420/484 A3825 329.613 -60.4 2.0015 0.075\n"
     ]
    },
    {
     "name": "stderr",
     "output_type": "stream",
     "text": [
      "/Users/adam/Project/anaconda3/envs/ctaphys/lib/python3.7/site-packages/minot/ClusterTools/map_tools.py:216: RuntimeWarning: invalid value encountered in sin\n",
      "  arg4 = (np.sin((lon_ref-lon)*np.pi/180.0/2.0))**2\n",
      "/Users/adam/Project/anaconda3/envs/ctaphys/lib/python3.7/site-packages/minot/ClusterTools/map_tools.py:216: RuntimeWarning: invalid value encountered in sin\n",
      "  arg4 = (np.sin((lon_ref-lon)*np.pi/180.0/2.0))**2\n",
      "/Users/adam/Project/anaconda3/envs/ctaphys/lib/python3.7/site-packages/minot/ClusterTools/map_tools.py:216: RuntimeWarning: invalid value encountered in sin\n",
      "  arg4 = (np.sin((lon_ref-lon)*np.pi/180.0/2.0))**2\n"
     ]
    },
    {
     "name": "stdout",
     "output_type": "stream",
     "text": [
      "421/484 A2402 329.627 -9.808 1.787 0.0809\n"
     ]
    },
    {
     "name": "stderr",
     "output_type": "stream",
     "text": [
      "/Users/adam/Project/anaconda3/envs/ctaphys/lib/python3.7/site-packages/minot/ClusterTools/map_tools.py:216: RuntimeWarning: invalid value encountered in sin\n",
      "  arg4 = (np.sin((lon_ref-lon)*np.pi/180.0/2.0))**2\n",
      "/Users/adam/Project/anaconda3/envs/ctaphys/lib/python3.7/site-packages/minot/ClusterTools/map_tools.py:216: RuntimeWarning: invalid value encountered in sin\n",
      "  arg4 = (np.sin((lon_ref-lon)*np.pi/180.0/2.0))**2\n",
      "/Users/adam/Project/anaconda3/envs/ctaphys/lib/python3.7/site-packages/minot/ClusterTools/map_tools.py:216: RuntimeWarning: invalid value encountered in sin\n",
      "  arg4 = (np.sin((lon_ref-lon)*np.pi/180.0/2.0))**2\n"
     ]
    },
    {
     "name": "stdout",
     "output_type": "stream",
     "text": [
      "422/484 A2409 330.22 20.971 4.6339 0.147\n"
     ]
    },
    {
     "name": "stderr",
     "output_type": "stream",
     "text": [
      "/Users/adam/Project/anaconda3/envs/ctaphys/lib/python3.7/site-packages/minot/ClusterTools/map_tools.py:216: RuntimeWarning: invalid value encountered in sin\n",
      "  arg4 = (np.sin((lon_ref-lon)*np.pi/180.0/2.0))**2\n",
      "/Users/adam/Project/anaconda3/envs/ctaphys/lib/python3.7/site-packages/minot/ClusterTools/map_tools.py:216: RuntimeWarning: invalid value encountered in sin\n",
      "  arg4 = (np.sin((lon_ref-lon)*np.pi/180.0/2.0))**2\n",
      "/Users/adam/Project/anaconda3/envs/ctaphys/lib/python3.7/site-packages/minot/ClusterTools/map_tools.py:216: RuntimeWarning: invalid value encountered in sin\n",
      "  arg4 = (np.sin((lon_ref-lon)*np.pi/180.0/2.0))**2\n"
     ]
    },
    {
     "name": "stdout",
     "output_type": "stream",
     "text": [
      "423/484 A3827 330.483 -59.949 4.589 0.098\n"
     ]
    },
    {
     "name": "stderr",
     "output_type": "stream",
     "text": [
      "/Users/adam/Project/anaconda3/envs/ctaphys/lib/python3.7/site-packages/minot/ClusterTools/map_tools.py:216: RuntimeWarning: invalid value encountered in sin\n",
      "  arg4 = (np.sin((lon_ref-lon)*np.pi/180.0/2.0))**2\n",
      "/Users/adam/Project/anaconda3/envs/ctaphys/lib/python3.7/site-packages/minot/ClusterTools/map_tools.py:216: RuntimeWarning: invalid value encountered in sin\n",
      "  arg4 = (np.sin((lon_ref-lon)*np.pi/180.0/2.0))**2\n",
      "/Users/adam/Project/anaconda3/envs/ctaphys/lib/python3.7/site-packages/minot/ClusterTools/map_tools.py:216: RuntimeWarning: invalid value encountered in sin\n",
      "  arg4 = (np.sin((lon_ref-lon)*np.pi/180.0/2.0))**2\n"
     ]
    },
    {
     "name": "stdout",
     "output_type": "stream",
     "text": [
      "424/484 A2410 330.524 -9.825 1.7883 0.0809\n"
     ]
    },
    {
     "name": "stderr",
     "output_type": "stream",
     "text": [
      "/Users/adam/Project/anaconda3/envs/ctaphys/lib/python3.7/site-packages/minot/ClusterTools/map_tools.py:216: RuntimeWarning: invalid value encountered in sin\n",
      "  arg4 = (np.sin((lon_ref-lon)*np.pi/180.0/2.0))**2\n",
      "/Users/adam/Project/anaconda3/envs/ctaphys/lib/python3.7/site-packages/minot/ClusterTools/map_tools.py:216: RuntimeWarning: invalid value encountered in sin\n",
      "  arg4 = (np.sin((lon_ref-lon)*np.pi/180.0/2.0))**2\n",
      "/Users/adam/Project/anaconda3/envs/ctaphys/lib/python3.7/site-packages/minot/ClusterTools/map_tools.py:216: RuntimeWarning: invalid value encountered in sin\n",
      "  arg4 = (np.sin((lon_ref-lon)*np.pi/180.0/2.0))**2\n"
     ]
    },
    {
     "name": "stdout",
     "output_type": "stream",
     "text": [
      "425/484 A2415 331.419 -5.593 2.0925 0.0582\n"
     ]
    },
    {
     "name": "stderr",
     "output_type": "stream",
     "text": [
      "/Users/adam/Project/anaconda3/envs/ctaphys/lib/python3.7/site-packages/minot/ClusterTools/map_tools.py:216: RuntimeWarning: invalid value encountered in sin\n",
      "  arg4 = (np.sin((lon_ref-lon)*np.pi/180.0/2.0))**2\n",
      "/Users/adam/Project/anaconda3/envs/ctaphys/lib/python3.7/site-packages/minot/ClusterTools/map_tools.py:216: RuntimeWarning: invalid value encountered in sin\n",
      "  arg4 = (np.sin((lon_ref-lon)*np.pi/180.0/2.0))**2\n",
      "/Users/adam/Project/anaconda3/envs/ctaphys/lib/python3.7/site-packages/minot/ClusterTools/map_tools.py:216: RuntimeWarning: invalid value encountered in sin\n",
      "  arg4 = (np.sin((lon_ref-lon)*np.pi/180.0/2.0))**2\n"
     ]
    },
    {
     "name": "stdout",
     "output_type": "stream",
     "text": [
      "426/484 A3836 332.347 -51.815 2.485 0.1065\n"
     ]
    },
    {
     "name": "stderr",
     "output_type": "stream",
     "text": [
      "/Users/adam/Project/anaconda3/envs/ctaphys/lib/python3.7/site-packages/minot/ClusterTools/map_tools.py:216: RuntimeWarning: invalid value encountered in sin\n",
      "  arg4 = (np.sin((lon_ref-lon)*np.pi/180.0/2.0))**2\n",
      "/Users/adam/Project/anaconda3/envs/ctaphys/lib/python3.7/site-packages/minot/ClusterTools/map_tools.py:216: RuntimeWarning: invalid value encountered in sin\n",
      "  arg4 = (np.sin((lon_ref-lon)*np.pi/180.0/2.0))**2\n",
      "/Users/adam/Project/anaconda3/envs/ctaphys/lib/python3.7/site-packages/minot/ClusterTools/map_tools.py:216: RuntimeWarning: invalid value encountered in sin\n",
      "  arg4 = (np.sin((lon_ref-lon)*np.pi/180.0/2.0))**2\n"
     ]
    },
    {
     "name": "stdout",
     "output_type": "stream",
     "text": [
      "427/484 A2420 332.582 -12.176 3.5139 0.0846\n"
     ]
    },
    {
     "name": "stderr",
     "output_type": "stream",
     "text": [
      "/Users/adam/Project/anaconda3/envs/ctaphys/lib/python3.7/site-packages/minot/ClusterTools/map_tools.py:216: RuntimeWarning: invalid value encountered in sin\n",
      "  arg4 = (np.sin((lon_ref-lon)*np.pi/180.0/2.0))**2\n",
      "/Users/adam/Project/anaconda3/envs/ctaphys/lib/python3.7/site-packages/minot/ClusterTools/map_tools.py:216: RuntimeWarning: invalid value encountered in sin\n",
      "  arg4 = (np.sin((lon_ref-lon)*np.pi/180.0/2.0))**2\n",
      "/Users/adam/Project/anaconda3/envs/ctaphys/lib/python3.7/site-packages/minot/ClusterTools/map_tools.py:216: RuntimeWarning: invalid value encountered in sin\n",
      "  arg4 = (np.sin((lon_ref-lon)*np.pi/180.0/2.0))**2\n"
     ]
    },
    {
     "name": "stdout",
     "output_type": "stream",
     "text": [
      "428/484 MACSJ2211.7-0349 332.941 -3.828 18.1 0.397\n"
     ]
    },
    {
     "name": "stderr",
     "output_type": "stream",
     "text": [
      "/Users/adam/Project/anaconda3/envs/ctaphys/lib/python3.7/site-packages/minot/ClusterTools/map_tools.py:216: RuntimeWarning: invalid value encountered in sin\n",
      "  arg4 = (np.sin((lon_ref-lon)*np.pi/180.0/2.0))**2\n",
      "/Users/adam/Project/anaconda3/envs/ctaphys/lib/python3.7/site-packages/minot/ClusterTools/map_tools.py:216: RuntimeWarning: invalid value encountered in sin\n",
      "  arg4 = (np.sin((lon_ref-lon)*np.pi/180.0/2.0))**2\n",
      "/Users/adam/Project/anaconda3/envs/ctaphys/lib/python3.7/site-packages/minot/ClusterTools/map_tools.py:216: RuntimeWarning: invalid value encountered in sin\n",
      "  arg4 = (np.sin((lon_ref-lon)*np.pi/180.0/2.0))**2\n"
     ]
    },
    {
     "name": "stdout",
     "output_type": "stream",
     "text": [
      "429/484 A2426 333.636 -10.372 3.5581 0.098\n"
     ]
    },
    {
     "name": "stderr",
     "output_type": "stream",
     "text": [
      "/Users/adam/Project/anaconda3/envs/ctaphys/lib/python3.7/site-packages/minot/ClusterTools/map_tools.py:216: RuntimeWarning: invalid value encountered in sin\n",
      "  arg4 = (np.sin((lon_ref-lon)*np.pi/180.0/2.0))**2\n",
      "/Users/adam/Project/anaconda3/envs/ctaphys/lib/python3.7/site-packages/minot/ClusterTools/map_tools.py:216: RuntimeWarning: invalid value encountered in sin\n",
      "  arg4 = (np.sin((lon_ref-lon)*np.pi/180.0/2.0))**2\n",
      "/Users/adam/Project/anaconda3/envs/ctaphys/lib/python3.7/site-packages/minot/ClusterTools/map_tools.py:216: RuntimeWarning: invalid value encountered in sin\n",
      "  arg4 = (np.sin((lon_ref-lon)*np.pi/180.0/2.0))**2\n"
     ]
    },
    {
     "name": "stdout",
     "output_type": "stream",
     "text": [
      "430/484 NGC7242 333.925 37.305 0.4805 0.019\n"
     ]
    },
    {
     "name": "stderr",
     "output_type": "stream",
     "text": [
      "/Users/adam/Project/anaconda3/envs/ctaphys/lib/python3.7/site-packages/minot/ClusterTools/map_tools.py:216: RuntimeWarning: invalid value encountered in sin\n",
      "  arg4 = (np.sin((lon_ref-lon)*np.pi/180.0/2.0))**2\n",
      "/Users/adam/Project/anaconda3/envs/ctaphys/lib/python3.7/site-packages/minot/ClusterTools/map_tools.py:216: RuntimeWarning: invalid value encountered in sin\n",
      "  arg4 = (np.sin((lon_ref-lon)*np.pi/180.0/2.0))**2\n",
      "/Users/adam/Project/anaconda3/envs/ctaphys/lib/python3.7/site-packages/minot/ClusterTools/map_tools.py:216: RuntimeWarning: invalid value encountered in sin\n",
      "  arg4 = (np.sin((lon_ref-lon)*np.pi/180.0/2.0))**2\n"
     ]
    },
    {
     "name": "stdout",
     "output_type": "stream",
     "text": [
      "431/484 A2428 334.065 -9.34 2.4124 0.0825\n"
     ]
    },
    {
     "name": "stderr",
     "output_type": "stream",
     "text": [
      "/Users/adam/Project/anaconda3/envs/ctaphys/lib/python3.7/site-packages/minot/ClusterTools/map_tools.py:216: RuntimeWarning: invalid value encountered in sin\n",
      "  arg4 = (np.sin((lon_ref-lon)*np.pi/180.0/2.0))**2\n",
      "/Users/adam/Project/anaconda3/envs/ctaphys/lib/python3.7/site-packages/minot/ClusterTools/map_tools.py:216: RuntimeWarning: invalid value encountered in sin\n",
      "  arg4 = (np.sin((lon_ref-lon)*np.pi/180.0/2.0))**2\n",
      "/Users/adam/Project/anaconda3/envs/ctaphys/lib/python3.7/site-packages/minot/ClusterTools/map_tools.py:216: RuntimeWarning: invalid value encountered in sin\n",
      "  arg4 = (np.sin((lon_ref-lon)*np.pi/180.0/2.0))**2\n"
     ]
    },
    {
     "name": "stdout",
     "output_type": "stream",
     "text": [
      "432/484 RBS_1842 334.235 -17.426 3.0213 0.1301\n"
     ]
    },
    {
     "name": "stderr",
     "output_type": "stream",
     "text": [
      "/Users/adam/Project/anaconda3/envs/ctaphys/lib/python3.7/site-packages/minot/ClusterTools/map_tools.py:216: RuntimeWarning: invalid value encountered in sin\n",
      "  arg4 = (np.sin((lon_ref-lon)*np.pi/180.0/2.0))**2\n",
      "/Users/adam/Project/anaconda3/envs/ctaphys/lib/python3.7/site-packages/minot/ClusterTools/map_tools.py:216: RuntimeWarning: invalid value encountered in sin\n",
      "  arg4 = (np.sin((lon_ref-lon)*np.pi/180.0/2.0))**2\n",
      "/Users/adam/Project/anaconda3/envs/ctaphys/lib/python3.7/site-packages/minot/ClusterTools/map_tools.py:216: RuntimeWarning: invalid value encountered in sin\n",
      "  arg4 = (np.sin((lon_ref-lon)*np.pi/180.0/2.0))**2\n"
     ]
    },
    {
     "name": "stdout",
     "output_type": "stream",
     "text": [
      "433/484 A3854 334.43 -35.726 3.9093 0.1486\n"
     ]
    },
    {
     "name": "stderr",
     "output_type": "stream",
     "text": [
      "/Users/adam/Project/anaconda3/envs/ctaphys/lib/python3.7/site-packages/minot/ClusterTools/map_tools.py:216: RuntimeWarning: invalid value encountered in sin\n",
      "  arg4 = (np.sin((lon_ref-lon)*np.pi/180.0/2.0))**2\n",
      "/Users/adam/Project/anaconda3/envs/ctaphys/lib/python3.7/site-packages/minot/ClusterTools/map_tools.py:216: RuntimeWarning: invalid value encountered in sin\n",
      "  arg4 = (np.sin((lon_ref-lon)*np.pi/180.0/2.0))**2\n",
      "/Users/adam/Project/anaconda3/envs/ctaphys/lib/python3.7/site-packages/minot/ClusterTools/map_tools.py:216: RuntimeWarning: invalid value encountered in sin\n",
      "  arg4 = (np.sin((lon_ref-lon)*np.pi/180.0/2.0))**2\n"
     ]
    },
    {
     "name": "stdout",
     "output_type": "stream",
     "text": [
      "434/484 RBS_1847 334.523 -65.185 2.7949 0.0951\n"
     ]
    },
    {
     "name": "stderr",
     "output_type": "stream",
     "text": [
      "/Users/adam/Project/anaconda3/envs/ctaphys/lib/python3.7/site-packages/minot/ClusterTools/map_tools.py:216: RuntimeWarning: invalid value encountered in sin\n",
      "  arg4 = (np.sin((lon_ref-lon)*np.pi/180.0/2.0))**2\n",
      "/Users/adam/Project/anaconda3/envs/ctaphys/lib/python3.7/site-packages/minot/ClusterTools/map_tools.py:216: RuntimeWarning: invalid value encountered in sin\n",
      "  arg4 = (np.sin((lon_ref-lon)*np.pi/180.0/2.0))**2\n",
      "/Users/adam/Project/anaconda3/envs/ctaphys/lib/python3.7/site-packages/minot/ClusterTools/map_tools.py:216: RuntimeWarning: invalid value encountered in sin\n",
      "  arg4 = (np.sin((lon_ref-lon)*np.pi/180.0/2.0))**2\n"
     ]
    },
    {
     "name": "stdout",
     "output_type": "stream",
     "text": [
      "435/484 MS2215 334.571 -3.834 2.6804 0.0901\n"
     ]
    },
    {
     "name": "stderr",
     "output_type": "stream",
     "text": [
      "/Users/adam/Project/anaconda3/envs/ctaphys/lib/python3.7/site-packages/minot/ClusterTools/map_tools.py:216: RuntimeWarning: invalid value encountered in sin\n",
      "  arg4 = (np.sin((lon_ref-lon)*np.pi/180.0/2.0))**2\n",
      "/Users/adam/Project/anaconda3/envs/ctaphys/lib/python3.7/site-packages/minot/ClusterTools/map_tools.py:216: RuntimeWarning: invalid value encountered in sin\n",
      "  arg4 = (np.sin((lon_ref-lon)*np.pi/180.0/2.0))**2\n",
      "/Users/adam/Project/anaconda3/envs/ctaphys/lib/python3.7/site-packages/minot/ClusterTools/map_tools.py:216: RuntimeWarning: invalid value encountered in sin\n",
      "  arg4 = (np.sin((lon_ref-lon)*np.pi/180.0/2.0))**2\n"
     ]
    },
    {
     "name": "stdout",
     "output_type": "stream",
     "text": [
      "436/484 A3856 334.668 -38.897 3.915 0.1411\n"
     ]
    },
    {
     "name": "stderr",
     "output_type": "stream",
     "text": [
      "/Users/adam/Project/anaconda3/envs/ctaphys/lib/python3.7/site-packages/minot/ClusterTools/map_tools.py:216: RuntimeWarning: invalid value encountered in sin\n",
      "  arg4 = (np.sin((lon_ref-lon)*np.pi/180.0/2.0))**2\n",
      "/Users/adam/Project/anaconda3/envs/ctaphys/lib/python3.7/site-packages/minot/ClusterTools/map_tools.py:216: RuntimeWarning: invalid value encountered in sin\n",
      "  arg4 = (np.sin((lon_ref-lon)*np.pi/180.0/2.0))**2\n",
      "/Users/adam/Project/anaconda3/envs/ctaphys/lib/python3.7/site-packages/minot/ClusterTools/map_tools.py:216: RuntimeWarning: invalid value encountered in sin\n",
      "  arg4 = (np.sin((lon_ref-lon)*np.pi/180.0/2.0))**2\n"
     ]
    },
    {
     "name": "stdout",
     "output_type": "stream",
     "text": [
      "437/484 A3866 335.144 -35.165 5.2077 0.1544\n"
     ]
    },
    {
     "name": "stderr",
     "output_type": "stream",
     "text": [
      "/Users/adam/Project/anaconda3/envs/ctaphys/lib/python3.7/site-packages/minot/ClusterTools/map_tools.py:216: RuntimeWarning: invalid value encountered in sin\n",
      "  arg4 = (np.sin((lon_ref-lon)*np.pi/180.0/2.0))**2\n",
      "/Users/adam/Project/anaconda3/envs/ctaphys/lib/python3.7/site-packages/minot/ClusterTools/map_tools.py:216: RuntimeWarning: invalid value encountered in sin\n",
      "  arg4 = (np.sin((lon_ref-lon)*np.pi/180.0/2.0))**2\n",
      "/Users/adam/Project/anaconda3/envs/ctaphys/lib/python3.7/site-packages/minot/ClusterTools/map_tools.py:216: RuntimeWarning: invalid value encountered in sin\n",
      "  arg4 = (np.sin((lon_ref-lon)*np.pi/180.0/2.0))**2\n"
     ]
    },
    {
     "name": "stdout",
     "output_type": "stream",
     "text": [
      "438/484 A2440 335.971 -1.638 2.8449 0.0906\n"
     ]
    },
    {
     "name": "stderr",
     "output_type": "stream",
     "text": [
      "/Users/adam/Project/anaconda3/envs/ctaphys/lib/python3.7/site-packages/minot/ClusterTools/map_tools.py:216: RuntimeWarning: invalid value encountered in sin\n",
      "  arg4 = (np.sin((lon_ref-lon)*np.pi/180.0/2.0))**2\n",
      "/Users/adam/Project/anaconda3/envs/ctaphys/lib/python3.7/site-packages/minot/ClusterTools/map_tools.py:216: RuntimeWarning: invalid value encountered in sin\n",
      "  arg4 = (np.sin((lon_ref-lon)*np.pi/180.0/2.0))**2\n",
      "/Users/adam/Project/anaconda3/envs/ctaphys/lib/python3.7/site-packages/minot/ClusterTools/map_tools.py:216: RuntimeWarning: invalid value encountered in sin\n",
      "  arg4 = (np.sin((lon_ref-lon)*np.pi/180.0/2.0))**2\n"
     ]
    },
    {
     "name": "stdout",
     "output_type": "stream",
     "text": [
      "439/484 APMCC_772 336.115 -55.256 1.7724 0.0791\n"
     ]
    },
    {
     "name": "stderr",
     "output_type": "stream",
     "text": [
      "/Users/adam/Project/anaconda3/envs/ctaphys/lib/python3.7/site-packages/minot/ClusterTools/map_tools.py:216: RuntimeWarning: invalid value encountered in sin\n",
      "  arg4 = (np.sin((lon_ref-lon)*np.pi/180.0/2.0))**2\n",
      "/Users/adam/Project/anaconda3/envs/ctaphys/lib/python3.7/site-packages/minot/ClusterTools/map_tools.py:216: RuntimeWarning: invalid value encountered in sin\n",
      "  arg4 = (np.sin((lon_ref-lon)*np.pi/180.0/2.0))**2\n",
      "/Users/adam/Project/anaconda3/envs/ctaphys/lib/python3.7/site-packages/minot/ClusterTools/map_tools.py:216: RuntimeWarning: invalid value encountered in sin\n",
      "  arg4 = (np.sin((lon_ref-lon)*np.pi/180.0/2.0))**2\n"
     ]
    },
    {
     "name": "stdout",
     "output_type": "stream",
     "text": [
      "440/484 A2443 336.511 17.378 2.6308 0.1072\n"
     ]
    },
    {
     "name": "stderr",
     "output_type": "stream",
     "text": [
      "/Users/adam/Project/anaconda3/envs/ctaphys/lib/python3.7/site-packages/minot/ClusterTools/map_tools.py:216: RuntimeWarning: invalid value encountered in sin\n",
      "  arg4 = (np.sin((lon_ref-lon)*np.pi/180.0/2.0))**2\n",
      "/Users/adam/Project/anaconda3/envs/ctaphys/lib/python3.7/site-packages/minot/ClusterTools/map_tools.py:216: RuntimeWarning: invalid value encountered in sin\n",
      "  arg4 = (np.sin((lon_ref-lon)*np.pi/180.0/2.0))**2\n",
      "/Users/adam/Project/anaconda3/envs/ctaphys/lib/python3.7/site-packages/minot/ClusterTools/map_tools.py:216: RuntimeWarning: invalid value encountered in sin\n",
      "  arg4 = (np.sin((lon_ref-lon)*np.pi/180.0/2.0))**2\n"
     ]
    },
    {
     "name": "stdout",
     "output_type": "stream",
     "text": [
      "441/484 A3880 336.969 -30.57 1.7896 0.0579\n"
     ]
    },
    {
     "name": "stderr",
     "output_type": "stream",
     "text": [
      "/Users/adam/Project/anaconda3/envs/ctaphys/lib/python3.7/site-packages/minot/ClusterTools/map_tools.py:216: RuntimeWarning: invalid value encountered in sin\n",
      "  arg4 = (np.sin((lon_ref-lon)*np.pi/180.0/2.0))**2\n",
      "/Users/adam/Project/anaconda3/envs/ctaphys/lib/python3.7/site-packages/minot/ClusterTools/map_tools.py:216: RuntimeWarning: invalid value encountered in sin\n",
      "  arg4 = (np.sin((lon_ref-lon)*np.pi/180.0/2.0))**2\n",
      "/Users/adam/Project/anaconda3/envs/ctaphys/lib/python3.7/site-packages/minot/ClusterTools/map_tools.py:216: RuntimeWarning: invalid value encountered in sin\n",
      "  arg4 = (np.sin((lon_ref-lon)*np.pi/180.0/2.0))**2\n"
     ]
    },
    {
     "name": "stdout",
     "output_type": "stream",
     "text": [
      "442/484 RXJ2228.6+2037 337.155 20.609 9.1224 0.412\n"
     ]
    },
    {
     "name": "stderr",
     "output_type": "stream",
     "text": [
      "/Users/adam/Project/anaconda3/envs/ctaphys/lib/python3.7/site-packages/minot/ClusterTools/map_tools.py:216: RuntimeWarning: invalid value encountered in sin\n",
      "  arg4 = (np.sin((lon_ref-lon)*np.pi/180.0/2.0))**2\n",
      "/Users/adam/Project/anaconda3/envs/ctaphys/lib/python3.7/site-packages/minot/ClusterTools/map_tools.py:216: RuntimeWarning: invalid value encountered in sin\n",
      "  arg4 = (np.sin((lon_ref-lon)*np.pi/180.0/2.0))**2\n",
      "/Users/adam/Project/anaconda3/envs/ctaphys/lib/python3.7/site-packages/minot/ClusterTools/map_tools.py:216: RuntimeWarning: invalid value encountered in sin\n",
      "  arg4 = (np.sin((lon_ref-lon)*np.pi/180.0/2.0))**2\n"
     ]
    },
    {
     "name": "stdout",
     "output_type": "stream",
     "text": [
      "443/484 A3888 338.629 -37.735 5.6953 0.151\n"
     ]
    },
    {
     "name": "stderr",
     "output_type": "stream",
     "text": [
      "/Users/adam/Project/anaconda3/envs/ctaphys/lib/python3.7/site-packages/minot/ClusterTools/map_tools.py:216: RuntimeWarning: invalid value encountered in sin\n",
      "  arg4 = (np.sin((lon_ref-lon)*np.pi/180.0/2.0))**2\n",
      "/Users/adam/Project/anaconda3/envs/ctaphys/lib/python3.7/site-packages/minot/ClusterTools/map_tools.py:216: RuntimeWarning: invalid value encountered in sin\n",
      "  arg4 = (np.sin((lon_ref-lon)*np.pi/180.0/2.0))**2\n",
      "/Users/adam/Project/anaconda3/envs/ctaphys/lib/python3.7/site-packages/minot/ClusterTools/map_tools.py:216: RuntimeWarning: invalid value encountered in sin\n",
      "  arg4 = (np.sin((lon_ref-lon)*np.pi/180.0/2.0))**2\n"
     ]
    },
    {
     "name": "stdout",
     "output_type": "stream",
     "text": [
      "444/484 A2457 338.919 1.472 1.8194 0.0594\n"
     ]
    },
    {
     "name": "stderr",
     "output_type": "stream",
     "text": [
      "/Users/adam/Project/anaconda3/envs/ctaphys/lib/python3.7/site-packages/minot/ClusterTools/map_tools.py:216: RuntimeWarning: invalid value encountered in sin\n",
      "  arg4 = (np.sin((lon_ref-lon)*np.pi/180.0/2.0))**2\n",
      "/Users/adam/Project/anaconda3/envs/ctaphys/lib/python3.7/site-packages/minot/ClusterTools/map_tools.py:216: RuntimeWarning: invalid value encountered in sin\n",
      "  arg4 = (np.sin((lon_ref-lon)*np.pi/180.0/2.0))**2\n",
      "/Users/adam/Project/anaconda3/envs/ctaphys/lib/python3.7/site-packages/minot/ClusterTools/map_tools.py:216: RuntimeWarning: invalid value encountered in sin\n",
      "  arg4 = (np.sin((lon_ref-lon)*np.pi/180.0/2.0))**2\n"
     ]
    },
    {
     "name": "stdout",
     "output_type": "stream",
     "text": [
      "445/484 A2474 340.769 -20.166 2.9585 0.1359\n"
     ]
    },
    {
     "name": "stderr",
     "output_type": "stream",
     "text": [
      "/Users/adam/Project/anaconda3/envs/ctaphys/lib/python3.7/site-packages/minot/ClusterTools/map_tools.py:216: RuntimeWarning: invalid value encountered in sin\n",
      "  arg4 = (np.sin((lon_ref-lon)*np.pi/180.0/2.0))**2\n",
      "/Users/adam/Project/anaconda3/envs/ctaphys/lib/python3.7/site-packages/minot/ClusterTools/map_tools.py:216: RuntimeWarning: invalid value encountered in sin\n",
      "  arg4 = (np.sin((lon_ref-lon)*np.pi/180.0/2.0))**2\n",
      "/Users/adam/Project/anaconda3/envs/ctaphys/lib/python3.7/site-packages/minot/ClusterTools/map_tools.py:216: RuntimeWarning: invalid value encountered in sin\n",
      "  arg4 = (np.sin((lon_ref-lon)*np.pi/180.0/2.0))**2\n"
     ]
    },
    {
     "name": "stdout",
     "output_type": "stream",
     "text": [
      "446/484 A3911 341.578 -52.729 3.3988 0.0965\n"
     ]
    },
    {
     "name": "stderr",
     "output_type": "stream",
     "text": [
      "/Users/adam/Project/anaconda3/envs/ctaphys/lib/python3.7/site-packages/minot/ClusterTools/map_tools.py:216: RuntimeWarning: invalid value encountered in sin\n",
      "  arg4 = (np.sin((lon_ref-lon)*np.pi/180.0/2.0))**2\n",
      "/Users/adam/Project/anaconda3/envs/ctaphys/lib/python3.7/site-packages/minot/ClusterTools/map_tools.py:216: RuntimeWarning: invalid value encountered in sin\n",
      "  arg4 = (np.sin((lon_ref-lon)*np.pi/180.0/2.0))**2\n",
      "/Users/adam/Project/anaconda3/envs/ctaphys/lib/python3.7/site-packages/minot/ClusterTools/map_tools.py:216: RuntimeWarning: invalid value encountered in sin\n",
      "  arg4 = (np.sin((lon_ref-lon)*np.pi/180.0/2.0))**2\n"
     ]
    },
    {
     "name": "stdout",
     "output_type": "stream",
     "text": [
      "447/484 S1063 342.181 -44.529 11.8328 0.3475\n"
     ]
    },
    {
     "name": "stderr",
     "output_type": "stream",
     "text": [
      "/Users/adam/Project/anaconda3/envs/ctaphys/lib/python3.7/site-packages/minot/ClusterTools/map_tools.py:216: RuntimeWarning: invalid value encountered in sin\n",
      "  arg4 = (np.sin((lon_ref-lon)*np.pi/180.0/2.0))**2\n",
      "/Users/adam/Project/anaconda3/envs/ctaphys/lib/python3.7/site-packages/minot/ClusterTools/map_tools.py:216: RuntimeWarning: invalid value encountered in sin\n",
      "  arg4 = (np.sin((lon_ref-lon)*np.pi/180.0/2.0))**2\n",
      "/Users/adam/Project/anaconda3/envs/ctaphys/lib/python3.7/site-packages/minot/ClusterTools/map_tools.py:216: RuntimeWarning: invalid value encountered in sin\n",
      "  arg4 = (np.sin((lon_ref-lon)*np.pi/180.0/2.0))**2\n"
     ]
    },
    {
     "name": "stdout",
     "output_type": "stream",
     "text": [
      "448/484 A3921 342.488 -64.429 3.6139 0.094\n"
     ]
    },
    {
     "name": "stderr",
     "output_type": "stream",
     "text": [
      "/Users/adam/Project/anaconda3/envs/ctaphys/lib/python3.7/site-packages/minot/ClusterTools/map_tools.py:216: RuntimeWarning: invalid value encountered in sin\n",
      "  arg4 = (np.sin((lon_ref-lon)*np.pi/180.0/2.0))**2\n",
      "/Users/adam/Project/anaconda3/envs/ctaphys/lib/python3.7/site-packages/minot/ClusterTools/map_tools.py:216: RuntimeWarning: invalid value encountered in sin\n",
      "  arg4 = (np.sin((lon_ref-lon)*np.pi/180.0/2.0))**2\n",
      "/Users/adam/Project/anaconda3/envs/ctaphys/lib/python3.7/site-packages/minot/ClusterTools/map_tools.py:216: RuntimeWarning: invalid value encountered in sin\n",
      "  arg4 = (np.sin((lon_ref-lon)*np.pi/180.0/2.0))**2\n"
     ]
    },
    {
     "name": "stdout",
     "output_type": "stream",
     "text": [
      "449/484 A2495 342.587 10.902 2.5431 0.0768\n"
     ]
    },
    {
     "name": "stderr",
     "output_type": "stream",
     "text": [
      "/Users/adam/Project/anaconda3/envs/ctaphys/lib/python3.7/site-packages/minot/ClusterTools/map_tools.py:216: RuntimeWarning: invalid value encountered in sin\n",
      "  arg4 = (np.sin((lon_ref-lon)*np.pi/180.0/2.0))**2\n",
      "/Users/adam/Project/anaconda3/envs/ctaphys/lib/python3.7/site-packages/minot/ClusterTools/map_tools.py:216: RuntimeWarning: invalid value encountered in sin\n",
      "  arg4 = (np.sin((lon_ref-lon)*np.pi/180.0/2.0))**2\n",
      "/Users/adam/Project/anaconda3/envs/ctaphys/lib/python3.7/site-packages/minot/ClusterTools/map_tools.py:216: RuntimeWarning: invalid value encountered in sin\n",
      "  arg4 = (np.sin((lon_ref-lon)*np.pi/180.0/2.0))**2\n"
     ]
    },
    {
     "name": "stdout",
     "output_type": "stream",
     "text": [
      "450/484 A2496 342.753 -16.407 2.8944 0.1221\n"
     ]
    },
    {
     "name": "stderr",
     "output_type": "stream",
     "text": [
      "/Users/adam/Project/anaconda3/envs/ctaphys/lib/python3.7/site-packages/minot/ClusterTools/map_tools.py:216: RuntimeWarning: invalid value encountered in sin\n",
      "  arg4 = (np.sin((lon_ref-lon)*np.pi/180.0/2.0))**2\n",
      "/Users/adam/Project/anaconda3/envs/ctaphys/lib/python3.7/site-packages/minot/ClusterTools/map_tools.py:216: RuntimeWarning: invalid value encountered in sin\n",
      "  arg4 = (np.sin((lon_ref-lon)*np.pi/180.0/2.0))**2\n",
      "/Users/adam/Project/anaconda3/envs/ctaphys/lib/python3.7/site-packages/minot/ClusterTools/map_tools.py:216: RuntimeWarning: invalid value encountered in sin\n",
      "  arg4 = (np.sin((lon_ref-lon)*np.pi/180.0/2.0))**2\n"
     ]
    },
    {
     "name": "stdout",
     "output_type": "stream",
     "text": [
      "451/484 AM2250 343.513 -63.254 4.7595 0.2112\n"
     ]
    },
    {
     "name": "stderr",
     "output_type": "stream",
     "text": [
      "/Users/adam/Project/anaconda3/envs/ctaphys/lib/python3.7/site-packages/minot/ClusterTools/map_tools.py:216: RuntimeWarning: invalid value encountered in sin\n",
      "  arg4 = (np.sin((lon_ref-lon)*np.pi/180.0/2.0))**2\n",
      "/Users/adam/Project/anaconda3/envs/ctaphys/lib/python3.7/site-packages/minot/ClusterTools/map_tools.py:216: RuntimeWarning: invalid value encountered in sin\n",
      "  arg4 = (np.sin((lon_ref-lon)*np.pi/180.0/2.0))**2\n",
      "/Users/adam/Project/anaconda3/envs/ctaphys/lib/python3.7/site-packages/minot/ClusterTools/map_tools.py:216: RuntimeWarning: invalid value encountered in sin\n",
      "  arg4 = (np.sin((lon_ref-lon)*np.pi/180.0/2.0))**2\n"
     ]
    },
    {
     "name": "stdout",
     "output_type": "stream",
     "text": [
      "452/484 RXC_J2302.7+7137 345.688 71.621 3.4383 0.145\n"
     ]
    },
    {
     "name": "stderr",
     "output_type": "stream",
     "text": [
      "/Users/adam/Project/anaconda3/envs/ctaphys/lib/python3.7/site-packages/minot/ClusterTools/map_tools.py:216: RuntimeWarning: invalid value encountered in sin\n",
      "  arg4 = (np.sin((lon_ref-lon)*np.pi/180.0/2.0))**2\n",
      "/Users/adam/Project/anaconda3/envs/ctaphys/lib/python3.7/site-packages/minot/ClusterTools/map_tools.py:216: RuntimeWarning: invalid value encountered in sin\n",
      "  arg4 = (np.sin((lon_ref-lon)*np.pi/180.0/2.0))**2\n",
      "/Users/adam/Project/anaconda3/envs/ctaphys/lib/python3.7/site-packages/minot/ClusterTools/map_tools.py:216: RuntimeWarning: invalid value encountered in sin\n",
      "  arg4 = (np.sin((lon_ref-lon)*np.pi/180.0/2.0))**2\n"
     ]
    },
    {
     "name": "stdout",
     "output_type": "stream",
     "text": [
      "453/484 A2533 346.814 -15.228 2.4769 0.111\n"
     ]
    },
    {
     "name": "stderr",
     "output_type": "stream",
     "text": [
      "/Users/adam/Project/anaconda3/envs/ctaphys/lib/python3.7/site-packages/minot/ClusterTools/map_tools.py:216: RuntimeWarning: invalid value encountered in sin\n",
      "  arg4 = (np.sin((lon_ref-lon)*np.pi/180.0/2.0))**2\n",
      "/Users/adam/Project/anaconda3/envs/ctaphys/lib/python3.7/site-packages/minot/ClusterTools/map_tools.py:216: RuntimeWarning: invalid value encountered in sin\n",
      "  arg4 = (np.sin((lon_ref-lon)*np.pi/180.0/2.0))**2\n",
      "/Users/adam/Project/anaconda3/envs/ctaphys/lib/python3.7/site-packages/minot/ClusterTools/map_tools.py:216: RuntimeWarning: invalid value encountered in sin\n",
      "  arg4 = (np.sin((lon_ref-lon)*np.pi/180.0/2.0))**2\n"
     ]
    },
    {
     "name": "stdout",
     "output_type": "stream",
     "text": [
      "454/484 A2537 347.097 -2.192 6.4393 0.2966\n"
     ]
    },
    {
     "name": "stderr",
     "output_type": "stream",
     "text": [
      "/Users/adam/Project/anaconda3/envs/ctaphys/lib/python3.7/site-packages/minot/ClusterTools/map_tools.py:216: RuntimeWarning: invalid value encountered in sin\n",
      "  arg4 = (np.sin((lon_ref-lon)*np.pi/180.0/2.0))**2\n",
      "/Users/adam/Project/anaconda3/envs/ctaphys/lib/python3.7/site-packages/minot/ClusterTools/map_tools.py:216: RuntimeWarning: invalid value encountered in sin\n",
      "  arg4 = (np.sin((lon_ref-lon)*np.pi/180.0/2.0))**2\n",
      "/Users/adam/Project/anaconda3/envs/ctaphys/lib/python3.7/site-packages/minot/ClusterTools/map_tools.py:216: RuntimeWarning: invalid value encountered in sin\n",
      "  arg4 = (np.sin((lon_ref-lon)*np.pi/180.0/2.0))**2\n"
     ]
    },
    {
     "name": "stdout",
     "output_type": "stream",
     "text": [
      "455/484 Pegasus_II 347.61 7.577 1.1742 0.0424\n"
     ]
    },
    {
     "name": "stderr",
     "output_type": "stream",
     "text": [
      "/Users/adam/Project/anaconda3/envs/ctaphys/lib/python3.7/site-packages/minot/ClusterTools/map_tools.py:216: RuntimeWarning: invalid value encountered in sin\n",
      "  arg4 = (np.sin((lon_ref-lon)*np.pi/180.0/2.0))**2\n",
      "/Users/adam/Project/anaconda3/envs/ctaphys/lib/python3.7/site-packages/minot/ClusterTools/map_tools.py:216: RuntimeWarning: invalid value encountered in sin\n",
      "  arg4 = (np.sin((lon_ref-lon)*np.pi/180.0/2.0))**2\n",
      "/Users/adam/Project/anaconda3/envs/ctaphys/lib/python3.7/site-packages/minot/ClusterTools/map_tools.py:216: RuntimeWarning: invalid value encountered in sin\n",
      "  arg4 = (np.sin((lon_ref-lon)*np.pi/180.0/2.0))**2\n"
     ]
    },
    {
     "name": "stdout",
     "output_type": "stream",
     "text": [
      "456/484 A2552 347.888 3.644 6.8558 0.2998\n"
     ]
    },
    {
     "name": "stderr",
     "output_type": "stream",
     "text": [
      "/Users/adam/Project/anaconda3/envs/ctaphys/lib/python3.7/site-packages/minot/ClusterTools/map_tools.py:216: RuntimeWarning: invalid value encountered in sin\n",
      "  arg4 = (np.sin((lon_ref-lon)*np.pi/180.0/2.0))**2\n",
      "/Users/adam/Project/anaconda3/envs/ctaphys/lib/python3.7/site-packages/minot/ClusterTools/map_tools.py:216: RuntimeWarning: invalid value encountered in sin\n",
      "  arg4 = (np.sin((lon_ref-lon)*np.pi/180.0/2.0))**2\n",
      "/Users/adam/Project/anaconda3/envs/ctaphys/lib/python3.7/site-packages/minot/ClusterTools/map_tools.py:216: RuntimeWarning: invalid value encountered in sin\n",
      "  arg4 = (np.sin((lon_ref-lon)*np.pi/180.0/2.0))**2\n"
     ]
    },
    {
     "name": "stdout",
     "output_type": "stream",
     "text": [
      "457/484 A2556 348.254 -21.632 2.4758 0.0871\n"
     ]
    },
    {
     "name": "stderr",
     "output_type": "stream",
     "text": [
      "/Users/adam/Project/anaconda3/envs/ctaphys/lib/python3.7/site-packages/minot/ClusterTools/map_tools.py:216: RuntimeWarning: invalid value encountered in sin\n",
      "  arg4 = (np.sin((lon_ref-lon)*np.pi/180.0/2.0))**2\n",
      "/Users/adam/Project/anaconda3/envs/ctaphys/lib/python3.7/site-packages/minot/ClusterTools/map_tools.py:216: RuntimeWarning: invalid value encountered in sin\n",
      "  arg4 = (np.sin((lon_ref-lon)*np.pi/180.0/2.0))**2\n",
      "/Users/adam/Project/anaconda3/envs/ctaphys/lib/python3.7/site-packages/minot/ClusterTools/map_tools.py:216: RuntimeWarning: invalid value encountered in sin\n",
      "  arg4 = (np.sin((lon_ref-lon)*np.pi/180.0/2.0))**2\n"
     ]
    },
    {
     "name": "stdout",
     "output_type": "stream",
     "text": [
      "458/484 S1101 348.494 -42.734 2.8261 0.0564\n"
     ]
    },
    {
     "name": "stderr",
     "output_type": "stream",
     "text": [
      "/Users/adam/Project/anaconda3/envs/ctaphys/lib/python3.7/site-packages/minot/ClusterTools/map_tools.py:216: RuntimeWarning: invalid value encountered in sin\n",
      "  arg4 = (np.sin((lon_ref-lon)*np.pi/180.0/2.0))**2\n",
      "/Users/adam/Project/anaconda3/envs/ctaphys/lib/python3.7/site-packages/minot/ClusterTools/map_tools.py:216: RuntimeWarning: invalid value encountered in sin\n",
      "  arg4 = (np.sin((lon_ref-lon)*np.pi/180.0/2.0))**2\n",
      "/Users/adam/Project/anaconda3/envs/ctaphys/lib/python3.7/site-packages/minot/ClusterTools/map_tools.py:216: RuntimeWarning: invalid value encountered in sin\n",
      "  arg4 = (np.sin((lon_ref-lon)*np.pi/180.0/2.0))**2\n"
     ]
    },
    {
     "name": "stdout",
     "output_type": "stream",
     "text": [
      "459/484 A3984 348.934 -37.782 4.5563 0.1786\n"
     ]
    },
    {
     "name": "stderr",
     "output_type": "stream",
     "text": [
      "/Users/adam/Project/anaconda3/envs/ctaphys/lib/python3.7/site-packages/minot/ClusterTools/map_tools.py:216: RuntimeWarning: invalid value encountered in sin\n",
      "  arg4 = (np.sin((lon_ref-lon)*np.pi/180.0/2.0))**2\n",
      "/Users/adam/Project/anaconda3/envs/ctaphys/lib/python3.7/site-packages/minot/ClusterTools/map_tools.py:216: RuntimeWarning: invalid value encountered in sin\n",
      "  arg4 = (np.sin((lon_ref-lon)*np.pi/180.0/2.0))**2\n",
      "/Users/adam/Project/anaconda3/envs/ctaphys/lib/python3.7/site-packages/minot/ClusterTools/map_tools.py:216: RuntimeWarning: invalid value encountered in sin\n",
      "  arg4 = (np.sin((lon_ref-lon)*np.pi/180.0/2.0))**2\n"
     ]
    },
    {
     "name": "stdout",
     "output_type": "stream",
     "text": [
      "460/484 NGC_7556 348.938 -2.377 0.5841 0.0267\n"
     ]
    },
    {
     "name": "stderr",
     "output_type": "stream",
     "text": [
      "/Users/adam/Project/anaconda3/envs/ctaphys/lib/python3.7/site-packages/minot/ClusterTools/map_tools.py:216: RuntimeWarning: invalid value encountered in sin\n",
      "  arg4 = (np.sin((lon_ref-lon)*np.pi/180.0/2.0))**2\n",
      "/Users/adam/Project/anaconda3/envs/ctaphys/lib/python3.7/site-packages/minot/ClusterTools/map_tools.py:216: RuntimeWarning: invalid value encountered in sin\n",
      "  arg4 = (np.sin((lon_ref-lon)*np.pi/180.0/2.0))**2\n",
      "/Users/adam/Project/anaconda3/envs/ctaphys/lib/python3.7/site-packages/minot/ClusterTools/map_tools.py:216: RuntimeWarning: invalid value encountered in sin\n",
      "  arg4 = (np.sin((lon_ref-lon)*np.pi/180.0/2.0))**2\n"
     ]
    },
    {
     "name": "stdout",
     "output_type": "stream",
     "text": [
      "461/484 A2566 349.031 -20.455 2.1731 0.0822\n"
     ]
    },
    {
     "name": "stderr",
     "output_type": "stream",
     "text": [
      "/Users/adam/Project/anaconda3/envs/ctaphys/lib/python3.7/site-packages/minot/ClusterTools/map_tools.py:216: RuntimeWarning: invalid value encountered in sin\n",
      "  arg4 = (np.sin((lon_ref-lon)*np.pi/180.0/2.0))**2\n",
      "/Users/adam/Project/anaconda3/envs/ctaphys/lib/python3.7/site-packages/minot/ClusterTools/map_tools.py:216: RuntimeWarning: invalid value encountered in sin\n",
      "  arg4 = (np.sin((lon_ref-lon)*np.pi/180.0/2.0))**2\n",
      "/Users/adam/Project/anaconda3/envs/ctaphys/lib/python3.7/site-packages/minot/ClusterTools/map_tools.py:216: RuntimeWarning: invalid value encountered in sin\n",
      "  arg4 = (np.sin((lon_ref-lon)*np.pi/180.0/2.0))**2\n"
     ]
    },
    {
     "name": "stdout",
     "output_type": "stream",
     "text": [
      "462/484 A2572a 349.294 18.691 1.3354 0.0422\n"
     ]
    },
    {
     "name": "stderr",
     "output_type": "stream",
     "text": [
      "/Users/adam/Project/anaconda3/envs/ctaphys/lib/python3.7/site-packages/minot/ClusterTools/map_tools.py:216: RuntimeWarning: invalid value encountered in sin\n",
      "  arg4 = (np.sin((lon_ref-lon)*np.pi/180.0/2.0))**2\n",
      "/Users/adam/Project/anaconda3/envs/ctaphys/lib/python3.7/site-packages/minot/ClusterTools/map_tools.py:216: RuntimeWarning: invalid value encountered in sin\n",
      "  arg4 = (np.sin((lon_ref-lon)*np.pi/180.0/2.0))**2\n",
      "/Users/adam/Project/anaconda3/envs/ctaphys/lib/python3.7/site-packages/minot/ClusterTools/map_tools.py:216: RuntimeWarning: invalid value encountered in sin\n",
      "  arg4 = (np.sin((lon_ref-lon)*np.pi/180.0/2.0))**2\n"
     ]
    },
    {
     "name": "stdout",
     "output_type": "stream",
     "text": [
      "463/484 A2572b 349.612 18.724 1.0268 0.0389\n"
     ]
    },
    {
     "name": "stderr",
     "output_type": "stream",
     "text": [
      "/Users/adam/Project/anaconda3/envs/ctaphys/lib/python3.7/site-packages/minot/ClusterTools/map_tools.py:216: RuntimeWarning: invalid value encountered in sin\n",
      "  arg4 = (np.sin((lon_ref-lon)*np.pi/180.0/2.0))**2\n",
      "/Users/adam/Project/anaconda3/envs/ctaphys/lib/python3.7/site-packages/minot/ClusterTools/map_tools.py:216: RuntimeWarning: invalid value encountered in sin\n",
      "  arg4 = (np.sin((lon_ref-lon)*np.pi/180.0/2.0))**2\n",
      "/Users/adam/Project/anaconda3/envs/ctaphys/lib/python3.7/site-packages/minot/ClusterTools/map_tools.py:216: RuntimeWarning: invalid value encountered in sin\n",
      "  arg4 = (np.sin((lon_ref-lon)*np.pi/180.0/2.0))**2\n"
     ]
    },
    {
     "name": "stdout",
     "output_type": "stream",
     "text": [
      "464/484 A2572 349.632 18.705 1.0206 0.0403\n"
     ]
    },
    {
     "name": "stderr",
     "output_type": "stream",
     "text": [
      "/Users/adam/Project/anaconda3/envs/ctaphys/lib/python3.7/site-packages/minot/ClusterTools/map_tools.py:216: RuntimeWarning: invalid value encountered in sin\n",
      "  arg4 = (np.sin((lon_ref-lon)*np.pi/180.0/2.0))**2\n",
      "/Users/adam/Project/anaconda3/envs/ctaphys/lib/python3.7/site-packages/minot/ClusterTools/map_tools.py:216: RuntimeWarning: invalid value encountered in sin\n",
      "  arg4 = (np.sin((lon_ref-lon)*np.pi/180.0/2.0))**2\n",
      "/Users/adam/Project/anaconda3/envs/ctaphys/lib/python3.7/site-packages/minot/ClusterTools/map_tools.py:216: RuntimeWarning: invalid value encountered in sin\n",
      "  arg4 = (np.sin((lon_ref-lon)*np.pi/180.0/2.0))**2\n"
     ]
    },
    {
     "name": "stdout",
     "output_type": "stream",
     "text": [
      "465/484 RXC_J2318.6+4257 349.664 42.966 0.6152 0.0174\n"
     ]
    },
    {
     "name": "stderr",
     "output_type": "stream",
     "text": [
      "/Users/adam/Project/anaconda3/envs/ctaphys/lib/python3.7/site-packages/minot/ClusterTools/map_tools.py:216: RuntimeWarning: invalid value encountered in sin\n",
      "  arg4 = (np.sin((lon_ref-lon)*np.pi/180.0/2.0))**2\n",
      "/Users/adam/Project/anaconda3/envs/ctaphys/lib/python3.7/site-packages/minot/ClusterTools/map_tools.py:216: RuntimeWarning: invalid value encountered in sin\n",
      "  arg4 = (np.sin((lon_ref-lon)*np.pi/180.0/2.0))**2\n",
      "/Users/adam/Project/anaconda3/envs/ctaphys/lib/python3.7/site-packages/minot/ClusterTools/map_tools.py:216: RuntimeWarning: invalid value encountered in sin\n",
      "  arg4 = (np.sin((lon_ref-lon)*np.pi/180.0/2.0))**2\n"
     ]
    },
    {
     "name": "stdout",
     "output_type": "stream",
     "text": [
      "466/484 S1111 349.775 -42.114 2.4403 0.045\n"
     ]
    },
    {
     "name": "stderr",
     "output_type": "stream",
     "text": [
      "/Users/adam/Project/anaconda3/envs/ctaphys/lib/python3.7/site-packages/minot/ClusterTools/map_tools.py:216: RuntimeWarning: invalid value encountered in sin\n",
      "  arg4 = (np.sin((lon_ref-lon)*np.pi/180.0/2.0))**2\n",
      "/Users/adam/Project/anaconda3/envs/ctaphys/lib/python3.7/site-packages/minot/ClusterTools/map_tools.py:216: RuntimeWarning: invalid value encountered in sin\n",
      "  arg4 = (np.sin((lon_ref-lon)*np.pi/180.0/2.0))**2\n",
      "/Users/adam/Project/anaconda3/envs/ctaphys/lib/python3.7/site-packages/minot/ClusterTools/map_tools.py:216: RuntimeWarning: invalid value encountered in sin\n",
      "  arg4 = (np.sin((lon_ref-lon)*np.pi/180.0/2.0))**2\n"
     ]
    },
    {
     "name": "stdout",
     "output_type": "stream",
     "text": [
      "467/484 A3998 350.389 -41.899 2.5863 0.0894\n"
     ]
    },
    {
     "name": "stderr",
     "output_type": "stream",
     "text": [
      "/Users/adam/Project/anaconda3/envs/ctaphys/lib/python3.7/site-packages/minot/ClusterTools/map_tools.py:216: RuntimeWarning: invalid value encountered in sin\n",
      "  arg4 = (np.sin((lon_ref-lon)*np.pi/180.0/2.0))**2\n",
      "/Users/adam/Project/anaconda3/envs/ctaphys/lib/python3.7/site-packages/minot/ClusterTools/map_tools.py:216: RuntimeWarning: invalid value encountered in sin\n",
      "  arg4 = (np.sin((lon_ref-lon)*np.pi/180.0/2.0))**2\n",
      "/Users/adam/Project/anaconda3/envs/ctaphys/lib/python3.7/site-packages/minot/ClusterTools/map_tools.py:216: RuntimeWarning: invalid value encountered in sin\n",
      "  arg4 = (np.sin((lon_ref-lon)*np.pi/180.0/2.0))**2\n"
     ]
    },
    {
     "name": "stdout",
     "output_type": "stream",
     "text": [
      "468/484 A3995 350.453 -69.699 4.0761 0.1846\n"
     ]
    },
    {
     "name": "stderr",
     "output_type": "stream",
     "text": [
      "/Users/adam/Project/anaconda3/envs/ctaphys/lib/python3.7/site-packages/minot/ClusterTools/map_tools.py:216: RuntimeWarning: invalid value encountered in sin\n",
      "  arg4 = (np.sin((lon_ref-lon)*np.pi/180.0/2.0))**2\n",
      "/Users/adam/Project/anaconda3/envs/ctaphys/lib/python3.7/site-packages/minot/ClusterTools/map_tools.py:216: RuntimeWarning: invalid value encountered in sin\n",
      "  arg4 = (np.sin((lon_ref-lon)*np.pi/180.0/2.0))**2\n",
      "/Users/adam/Project/anaconda3/envs/ctaphys/lib/python3.7/site-packages/minot/ClusterTools/map_tools.py:216: RuntimeWarning: invalid value encountered in sin\n",
      "  arg4 = (np.sin((lon_ref-lon)*np.pi/180.0/2.0))**2\n"
     ]
    },
    {
     "name": "stdout",
     "output_type": "stream",
     "text": [
      "469/484 A2589 350.973 16.809 1.9896 0.0416\n"
     ]
    },
    {
     "name": "stderr",
     "output_type": "stream",
     "text": [
      "/Users/adam/Project/anaconda3/envs/ctaphys/lib/python3.7/site-packages/minot/ClusterTools/map_tools.py:216: RuntimeWarning: invalid value encountered in sin\n",
      "  arg4 = (np.sin((lon_ref-lon)*np.pi/180.0/2.0))**2\n",
      "/Users/adam/Project/anaconda3/envs/ctaphys/lib/python3.7/site-packages/minot/ClusterTools/map_tools.py:216: RuntimeWarning: invalid value encountered in sin\n",
      "  arg4 = (np.sin((lon_ref-lon)*np.pi/180.0/2.0))**2\n",
      "/Users/adam/Project/anaconda3/envs/ctaphys/lib/python3.7/site-packages/minot/ClusterTools/map_tools.py:216: RuntimeWarning: invalid value encountered in sin\n",
      "  arg4 = (np.sin((lon_ref-lon)*np.pi/180.0/2.0))**2\n"
     ]
    },
    {
     "name": "stdout",
     "output_type": "stream",
     "text": [
      "470/484 A2593 351.084 14.651 1.4243 0.0428\n"
     ]
    },
    {
     "name": "stderr",
     "output_type": "stream",
     "text": [
      "/Users/adam/Project/anaconda3/envs/ctaphys/lib/python3.7/site-packages/minot/ClusterTools/map_tools.py:216: RuntimeWarning: invalid value encountered in sin\n",
      "  arg4 = (np.sin((lon_ref-lon)*np.pi/180.0/2.0))**2\n",
      "/Users/adam/Project/anaconda3/envs/ctaphys/lib/python3.7/site-packages/minot/ClusterTools/map_tools.py:216: RuntimeWarning: invalid value encountered in sin\n",
      "  arg4 = (np.sin((lon_ref-lon)*np.pi/180.0/2.0))**2\n",
      "/Users/adam/Project/anaconda3/envs/ctaphys/lib/python3.7/site-packages/minot/ClusterTools/map_tools.py:216: RuntimeWarning: invalid value encountered in sin\n",
      "  arg4 = (np.sin((lon_ref-lon)*np.pi/180.0/2.0))**2\n"
     ]
    },
    {
     "name": "stdout",
     "output_type": "stream",
     "text": [
      "471/484 A2597 351.333 -12.127 4.1821 0.0852\n"
     ]
    },
    {
     "name": "stderr",
     "output_type": "stream",
     "text": [
      "/Users/adam/Project/anaconda3/envs/ctaphys/lib/python3.7/site-packages/minot/ClusterTools/map_tools.py:216: RuntimeWarning: invalid value encountered in sin\n",
      "  arg4 = (np.sin((lon_ref-lon)*np.pi/180.0/2.0))**2\n",
      "/Users/adam/Project/anaconda3/envs/ctaphys/lib/python3.7/site-packages/minot/ClusterTools/map_tools.py:216: RuntimeWarning: invalid value encountered in sin\n",
      "  arg4 = (np.sin((lon_ref-lon)*np.pi/180.0/2.0))**2\n",
      "/Users/adam/Project/anaconda3/envs/ctaphys/lib/python3.7/site-packages/minot/ClusterTools/map_tools.py:216: RuntimeWarning: invalid value encountered in sin\n",
      "  arg4 = (np.sin((lon_ref-lon)*np.pi/180.0/2.0))**2\n"
     ]
    },
    {
     "name": "stdout",
     "output_type": "stream",
     "text": [
      "472/484 A4010 352.803 -36.507 3.2815 0.0957\n"
     ]
    },
    {
     "name": "stderr",
     "output_type": "stream",
     "text": [
      "/Users/adam/Project/anaconda3/envs/ctaphys/lib/python3.7/site-packages/minot/ClusterTools/map_tools.py:216: RuntimeWarning: invalid value encountered in sin\n",
      "  arg4 = (np.sin((lon_ref-lon)*np.pi/180.0/2.0))**2\n",
      "/Users/adam/Project/anaconda3/envs/ctaphys/lib/python3.7/site-packages/minot/ClusterTools/map_tools.py:216: RuntimeWarning: invalid value encountered in sin\n",
      "  arg4 = (np.sin((lon_ref-lon)*np.pi/180.0/2.0))**2\n",
      "/Users/adam/Project/anaconda3/envs/ctaphys/lib/python3.7/site-packages/minot/ClusterTools/map_tools.py:216: RuntimeWarning: invalid value encountered in sin\n",
      "  arg4 = (np.sin((lon_ref-lon)*np.pi/180.0/2.0))**2\n"
     ]
    },
    {
     "name": "stdout",
     "output_type": "stream",
     "text": [
      "473/484 A2622 353.771 27.37 1.336 0.0613\n"
     ]
    },
    {
     "name": "stderr",
     "output_type": "stream",
     "text": [
      "/Users/adam/Project/anaconda3/envs/ctaphys/lib/python3.7/site-packages/minot/ClusterTools/map_tools.py:216: RuntimeWarning: invalid value encountered in sin\n",
      "  arg4 = (np.sin((lon_ref-lon)*np.pi/180.0/2.0))**2\n",
      "/Users/adam/Project/anaconda3/envs/ctaphys/lib/python3.7/site-packages/minot/ClusterTools/map_tools.py:216: RuntimeWarning: invalid value encountered in sin\n",
      "  arg4 = (np.sin((lon_ref-lon)*np.pi/180.0/2.0))**2\n",
      "/Users/adam/Project/anaconda3/envs/ctaphys/lib/python3.7/site-packages/minot/ClusterTools/map_tools.py:216: RuntimeWarning: invalid value encountered in sin\n",
      "  arg4 = (np.sin((lon_ref-lon)*np.pi/180.0/2.0))**2\n"
     ]
    },
    {
     "name": "stdout",
     "output_type": "stream",
     "text": [
      "474/484 A2626 354.126 21.142 1.8057 0.0565\n"
     ]
    },
    {
     "name": "stderr",
     "output_type": "stream",
     "text": [
      "/Users/adam/Project/anaconda3/envs/ctaphys/lib/python3.7/site-packages/minot/ClusterTools/map_tools.py:216: RuntimeWarning: invalid value encountered in sin\n",
      "  arg4 = (np.sin((lon_ref-lon)*np.pi/180.0/2.0))**2\n",
      "/Users/adam/Project/anaconda3/envs/ctaphys/lib/python3.7/site-packages/minot/ClusterTools/map_tools.py:216: RuntimeWarning: invalid value encountered in sin\n",
      "  arg4 = (np.sin((lon_ref-lon)*np.pi/180.0/2.0))**2\n",
      "/Users/adam/Project/anaconda3/envs/ctaphys/lib/python3.7/site-packages/minot/ClusterTools/map_tools.py:216: RuntimeWarning: invalid value encountered in sin\n",
      "  arg4 = (np.sin((lon_ref-lon)*np.pi/180.0/2.0))**2\n"
     ]
    },
    {
     "name": "stdout",
     "output_type": "stream",
     "text": [
      "475/484 A2627 354.174 23.93 2.8284 0.1245\n"
     ]
    },
    {
     "name": "stderr",
     "output_type": "stream",
     "text": [
      "/Users/adam/Project/anaconda3/envs/ctaphys/lib/python3.7/site-packages/minot/ClusterTools/map_tools.py:216: RuntimeWarning: invalid value encountered in sin\n",
      "  arg4 = (np.sin((lon_ref-lon)*np.pi/180.0/2.0))**2\n",
      "/Users/adam/Project/anaconda3/envs/ctaphys/lib/python3.7/site-packages/minot/ClusterTools/map_tools.py:216: RuntimeWarning: invalid value encountered in sin\n",
      "  arg4 = (np.sin((lon_ref-lon)*np.pi/180.0/2.0))**2\n",
      "/Users/adam/Project/anaconda3/envs/ctaphys/lib/python3.7/site-packages/minot/ClusterTools/map_tools.py:216: RuntimeWarning: invalid value encountered in sin\n",
      "  arg4 = (np.sin((lon_ref-lon)*np.pi/180.0/2.0))**2\n"
     ]
    },
    {
     "name": "stdout",
     "output_type": "stream",
     "text": [
      "476/484 A2634 354.607 27.013 1.2154 0.0309\n"
     ]
    },
    {
     "name": "stderr",
     "output_type": "stream",
     "text": [
      "/Users/adam/Project/anaconda3/envs/ctaphys/lib/python3.7/site-packages/minot/ClusterTools/map_tools.py:216: RuntimeWarning: invalid value encountered in sin\n",
      "  arg4 = (np.sin((lon_ref-lon)*np.pi/180.0/2.0))**2\n",
      "/Users/adam/Project/anaconda3/envs/ctaphys/lib/python3.7/site-packages/minot/ClusterTools/map_tools.py:216: RuntimeWarning: invalid value encountered in sin\n",
      "  arg4 = (np.sin((lon_ref-lon)*np.pi/180.0/2.0))**2\n",
      "/Users/adam/Project/anaconda3/envs/ctaphys/lib/python3.7/site-packages/minot/ClusterTools/map_tools.py:216: RuntimeWarning: invalid value encountered in sin\n",
      "  arg4 = (np.sin((lon_ref-lon)*np.pi/180.0/2.0))**2\n"
     ]
    },
    {
     "name": "stdout",
     "output_type": "stream",
     "text": [
      "477/484 RXCJ2344.2-0422 356.067 -4.368 2.8221 0.0786\n"
     ]
    },
    {
     "name": "stderr",
     "output_type": "stream",
     "text": [
      "/Users/adam/Project/anaconda3/envs/ctaphys/lib/python3.7/site-packages/minot/ClusterTools/map_tools.py:216: RuntimeWarning: invalid value encountered in sin\n",
      "  arg4 = (np.sin((lon_ref-lon)*np.pi/180.0/2.0))**2\n",
      "/Users/adam/Project/anaconda3/envs/ctaphys/lib/python3.7/site-packages/minot/ClusterTools/map_tools.py:216: RuntimeWarning: invalid value encountered in sin\n",
      "  arg4 = (np.sin((lon_ref-lon)*np.pi/180.0/2.0))**2\n",
      "/Users/adam/Project/anaconda3/envs/ctaphys/lib/python3.7/site-packages/minot/ClusterTools/map_tools.py:216: RuntimeWarning: invalid value encountered in sin\n",
      "  arg4 = (np.sin((lon_ref-lon)*np.pi/180.0/2.0))**2\n"
     ]
    },
    {
     "name": "stdout",
     "output_type": "stream",
     "text": [
      "478/484 A2657 356.238 9.198 1.8752 0.04\n"
     ]
    },
    {
     "name": "stderr",
     "output_type": "stream",
     "text": [
      "/Users/adam/Project/anaconda3/envs/ctaphys/lib/python3.7/site-packages/minot/ClusterTools/map_tools.py:216: RuntimeWarning: invalid value encountered in sin\n",
      "  arg4 = (np.sin((lon_ref-lon)*np.pi/180.0/2.0))**2\n",
      "/Users/adam/Project/anaconda3/envs/ctaphys/lib/python3.7/site-packages/minot/ClusterTools/map_tools.py:216: RuntimeWarning: invalid value encountered in sin\n",
      "  arg4 = (np.sin((lon_ref-lon)*np.pi/180.0/2.0))**2\n",
      "/Users/adam/Project/anaconda3/envs/ctaphys/lib/python3.7/site-packages/minot/ClusterTools/map_tools.py:216: RuntimeWarning: invalid value encountered in sin\n",
      "  arg4 = (np.sin((lon_ref-lon)*np.pi/180.0/2.0))**2\n"
     ]
    },
    {
     "name": "stdout",
     "output_type": "stream",
     "text": [
      "479/484 A4038 356.93 -28.141 2.0383 0.03\n"
     ]
    },
    {
     "name": "stderr",
     "output_type": "stream",
     "text": [
      "/Users/adam/Project/anaconda3/envs/ctaphys/lib/python3.7/site-packages/minot/ClusterTools/map_tools.py:216: RuntimeWarning: invalid value encountered in sin\n",
      "  arg4 = (np.sin((lon_ref-lon)*np.pi/180.0/2.0))**2\n",
      "/Users/adam/Project/anaconda3/envs/ctaphys/lib/python3.7/site-packages/minot/ClusterTools/map_tools.py:216: RuntimeWarning: invalid value encountered in sin\n",
      "  arg4 = (np.sin((lon_ref-lon)*np.pi/180.0/2.0))**2\n",
      "/Users/adam/Project/anaconda3/envs/ctaphys/lib/python3.7/site-packages/minot/ClusterTools/map_tools.py:216: RuntimeWarning: invalid value encountered in sin\n",
      "  arg4 = (np.sin((lon_ref-lon)*np.pi/180.0/2.0))**2\n"
     ]
    },
    {
     "name": "stdout",
     "output_type": "stream",
     "text": [
      "480/484 A2665 357.711 6.161 1.936 0.0562\n"
     ]
    },
    {
     "name": "stderr",
     "output_type": "stream",
     "text": [
      "/Users/adam/Project/anaconda3/envs/ctaphys/lib/python3.7/site-packages/minot/ClusterTools/map_tools.py:216: RuntimeWarning: invalid value encountered in sin\n",
      "  arg4 = (np.sin((lon_ref-lon)*np.pi/180.0/2.0))**2\n",
      "/Users/adam/Project/anaconda3/envs/ctaphys/lib/python3.7/site-packages/minot/ClusterTools/map_tools.py:216: RuntimeWarning: invalid value encountered in sin\n",
      "  arg4 = (np.sin((lon_ref-lon)*np.pi/180.0/2.0))**2\n",
      "/Users/adam/Project/anaconda3/envs/ctaphys/lib/python3.7/site-packages/minot/ClusterTools/map_tools.py:216: RuntimeWarning: invalid value encountered in sin\n",
      "  arg4 = (np.sin((lon_ref-lon)*np.pi/180.0/2.0))**2\n"
     ]
    },
    {
     "name": "stdout",
     "output_type": "stream",
     "text": [
      "481/484 A2667 357.919 -26.084 7.8996 0.2264\n"
     ]
    },
    {
     "name": "stderr",
     "output_type": "stream",
     "text": [
      "/Users/adam/Project/anaconda3/envs/ctaphys/lib/python3.7/site-packages/minot/ClusterTools/map_tools.py:216: RuntimeWarning: invalid value encountered in sin\n",
      "  arg4 = (np.sin((lon_ref-lon)*np.pi/180.0/2.0))**2\n",
      "/Users/adam/Project/anaconda3/envs/ctaphys/lib/python3.7/site-packages/minot/ClusterTools/map_tools.py:216: RuntimeWarning: invalid value encountered in sin\n",
      "  arg4 = (np.sin((lon_ref-lon)*np.pi/180.0/2.0))**2\n",
      "/Users/adam/Project/anaconda3/envs/ctaphys/lib/python3.7/site-packages/minot/ClusterTools/map_tools.py:216: RuntimeWarning: invalid value encountered in sin\n",
      "  arg4 = (np.sin((lon_ref-lon)*np.pi/180.0/2.0))**2\n"
     ]
    },
    {
     "name": "stdout",
     "output_type": "stream",
     "text": [
      "482/484 A2670 358.556 -10.413 2.316 0.0765\n"
     ]
    },
    {
     "name": "stderr",
     "output_type": "stream",
     "text": [
      "/Users/adam/Project/anaconda3/envs/ctaphys/lib/python3.7/site-packages/minot/ClusterTools/map_tools.py:216: RuntimeWarning: invalid value encountered in sin\n",
      "  arg4 = (np.sin((lon_ref-lon)*np.pi/180.0/2.0))**2\n",
      "/Users/adam/Project/anaconda3/envs/ctaphys/lib/python3.7/site-packages/minot/ClusterTools/map_tools.py:216: RuntimeWarning: invalid value encountered in sin\n",
      "  arg4 = (np.sin((lon_ref-lon)*np.pi/180.0/2.0))**2\n",
      "/Users/adam/Project/anaconda3/envs/ctaphys/lib/python3.7/site-packages/minot/ClusterTools/map_tools.py:216: RuntimeWarning: invalid value encountered in sin\n",
      "  arg4 = (np.sin((lon_ref-lon)*np.pi/180.0/2.0))**2\n"
     ]
    },
    {
     "name": "stdout",
     "output_type": "stream",
     "text": [
      "483/484 A2675 358.909 11.343 1.6934 0.0726\n"
     ]
    },
    {
     "name": "stderr",
     "output_type": "stream",
     "text": [
      "/Users/adam/Project/anaconda3/envs/ctaphys/lib/python3.7/site-packages/minot/ClusterTools/map_tools.py:216: RuntimeWarning: invalid value encountered in sin\n",
      "  arg4 = (np.sin((lon_ref-lon)*np.pi/180.0/2.0))**2\n",
      "/Users/adam/Project/anaconda3/envs/ctaphys/lib/python3.7/site-packages/minot/ClusterTools/map_tools.py:216: RuntimeWarning: invalid value encountered in sin\n",
      "  arg4 = (np.sin((lon_ref-lon)*np.pi/180.0/2.0))**2\n",
      "/Users/adam/Project/anaconda3/envs/ctaphys/lib/python3.7/site-packages/minot/ClusterTools/map_tools.py:216: RuntimeWarning: invalid value encountered in sin\n",
      "  arg4 = (np.sin((lon_ref-lon)*np.pi/180.0/2.0))**2\n"
     ]
    },
    {
     "name": "stdout",
     "output_type": "stream",
     "text": [
      "484/484 A4059 359.26 -34.761 2.6658 0.0475\n"
     ]
    },
    {
     "name": "stderr",
     "output_type": "stream",
     "text": [
      "/Users/adam/Project/anaconda3/envs/ctaphys/lib/python3.7/site-packages/minot/ClusterTools/map_tools.py:216: RuntimeWarning: invalid value encountered in sin\n",
      "  arg4 = (np.sin((lon_ref-lon)*np.pi/180.0/2.0))**2\n",
      "/Users/adam/Project/anaconda3/envs/ctaphys/lib/python3.7/site-packages/minot/ClusterTools/map_tools.py:216: RuntimeWarning: invalid value encountered in sin\n",
      "  arg4 = (np.sin((lon_ref-lon)*np.pi/180.0/2.0))**2\n",
      "/Users/adam/Project/anaconda3/envs/ctaphys/lib/python3.7/site-packages/minot/ClusterTools/map_tools.py:216: RuntimeWarning: invalid value encountered in sin\n",
      "  arg4 = (np.sin((lon_ref-lon)*np.pi/180.0/2.0))**2\n"
     ]
    }
   ],
   "source": [
    "K0_limits = [25, 70] # Used to define cool-cores, morphologically disturbed or universal clusters\n",
    "\n",
    "TemplateDir = workdir+'Template_X_'+str(X_crp)+'_alpha_'+str(alpha_crp)+'_eta'+str(eta_crp)\n",
    "if not os.path.exists(TemplateDir): os.mkdir(TemplateDir)\n",
    "model_tot = gammalib.GModels()\n",
    "\n",
    "for icl in range(len(cat_name)):\n",
    "    print(str(icl+1)+'/'+str(len(cat_name)), cat_name[icl], cat_ra[icl], cat_dec[icl], cat_mass[icl], cat_z[icl])\n",
    "    \n",
    "    #---------- Special case for Perseus\n",
    "    if cat_name[icl] == 'A0426': \n",
    "        print('   --> This is Perseus!')\n",
    "        cluster = perseus_model_library.default_model()\n",
    "        cluster.name = 'A0426'\n",
    "        cluster.output_dir = workdir\n",
    "        cluster.Npt_per_decade_integ = Npt_per_decade\n",
    "        cluster.R_truncation = 3*cluster.R500\n",
    "        cluster.map_coord = cluster.coord\n",
    "        cluster.map_reso = 0.01*u.deg\n",
    "        cluster.map_fov = 2.5*cluster.theta_truncation\n",
    "\n",
    "    #---------- Otherwise build a standard model\n",
    "    elif cat_mass[icl]/cat_mass[icl] == 1:\n",
    "        # Init the model\n",
    "        cluster = minot.Cluster(name=cat_name[icl], M500=cat_mass[icl]*1e14*u.Msun, redshift=cat_z[icl], \n",
    "                                RA=cat_ra[icl]*u.deg, Dec=cat_dec[icl]*u.deg, \n",
    "                                cosmology=cosmo, silent=True, output_dir=workdir)\n",
    "        cluster.Npt_per_decade_integ = Npt_per_decade\n",
    "        cluster.R_truncation = 3*cluster.R500\n",
    "        cluster.map_coord = SkyCoord(cat_ra[icl]*u.deg, cat_dec[icl]*u.deg, frame='icrs')\n",
    "        cluster.map_reso = 0.01*u.deg\n",
    "        cluster.map_fov = 2.5*cluster.theta_truncation\n",
    "        \n",
    "        # Select the thermodynamic profile using K0\n",
    "        if cat_K0[icl] is np.nan:                                            # Undefined --> UPP\n",
    "            cluster.set_pressure_gas_gNFW_param(pressure_model='A10UPP')\n",
    "            cluster.set_density_gas_universal_param(density_model='G19UDP')\n",
    "        else:\n",
    "            if cat_K0[icl] < K0_limits[0]:                                   # Low K0 --> CC\n",
    "                cluster.set_pressure_gas_gNFW_param(pressure_model='A10CC')\n",
    "                cluster.set_density_gas_universal_param(density_model='G19CC')\n",
    "            elif cat_K0[icl] >= K0_limits[0] and cat_K0[icl] < K0_limits[1]: # Intermediate K0 --> CC\n",
    "                cluster.set_pressure_gas_gNFW_param(pressure_model='A10UPP')\n",
    "                cluster.set_density_gas_universal_param(density_model='G19UDP')\n",
    "            else:                                                            # High K0 --> MD\n",
    "                cluster.set_pressure_gas_gNFW_param(pressure_model='A10MD')\n",
    "                cluster.set_density_gas_universal_param(density_model='G19MD')\n",
    "        \n",
    "        # Try polytropic expectation for density\n",
    "        if ne_gas_poly:\n",
    "            rad, prof = cluster.get_pressure_gas_profile(radius=np.logspace(-1,4,10000)*u.kpc)\n",
    "            E_z   = cluster.cosmo.efunc(cluster.redshift)\n",
    "            h70   = cluster.cosmo.H0.value/70.0\n",
    "            mu_g,mu_e,mu_p,mu_a = minot.ClusterTools.cluster_global.mean_molecular_weight(Y=cluster.helium_mass_fraction,\n",
    "                                                                                          Z=cluster.metallicity_sol*cluster.abundance)\n",
    "            P500 = 3.426*1e-3 * (cluster.M500.to_value('Msun')*h70/1e15)**(2.0/3) * E_z**(8.0/3) * ((cluster.cosmo.Ob0/cluster.cosmo.Om0)/0.16)*(mu_g/0.6)*(mu_e/1.14)\n",
    "            P0 = np.exp(-2.94)\n",
    "            n0 = np.exp(-10.3)\n",
    "            Gamma = 1.19\n",
    "            profile = (prof.to_value('keV cm-3')/(P500*P0))**(1/Gamma) * n0*E_z**2 * u.cm**-3\n",
    "            cluster.density_gas_model = {'name':'User', 'radius':rad, 'profile':profile}\n",
    "        \n",
    "        # Set the CR\n",
    "        cluster.X_cre1_E = {'X':0,    'R_norm':cluster.R500}\n",
    "        cluster.X_crp_E  = {'X':X_crp, 'R_norm':cluster.R500}\n",
    "        cluster.set_density_crp_isodens_scal_param(scal=eta_crp)\n",
    "        cluster.spectrum_crp_model = {'name':'PowerLaw', 'Index': alpha_crp}\n",
    "    \n",
    "    #---------- Compute the sky map in each energy bin and sum\n",
    "    for ieb in range(Ebin_nbin):\n",
    "        map_ebin = cluster.get_gamma_hpmap(nside=Nside, \n",
    "                                           Emin=Ebin_pot[ieb], Emax=Ebin_pot[ieb+1], \n",
    "                                           Rmin_los=1*u.kpc, NR500_los=3.0, Rmin=1*u.kpc, Rmax=3*cluster.R500, \n",
    "                                           Energy_density=False, Cframe=False, model='Kafexhiu2014', \n",
    "                                           maplonlat=[lon,lat], output_lonlat=False)\n",
    "        skymap[ieb,:] += map_ebin.to_value('s-1 sr-1 cm-2')\n",
    "            \n",
    "    #---------- Compute the templates\n",
    "    #----- Map\n",
    "    header = cluster.get_map_header()\n",
    "    image = cluster.get_gamma_map(Emin=5e-2*u.TeV, Emax=1e+2*u.TeV, # Emin/Emax not important since normalized\n",
    "                                  Rmin_los=None, NR500_los=5.0, Rmin=None, Rmax=None,\n",
    "                                  Normalize=True)\n",
    "    hdu = fits.PrimaryHDU(header=header)\n",
    "    hdu.data = image.value\n",
    "    hdu.header.add_comment('Gamma-ray normalized map')\n",
    "    hdu.header.add_comment('Unit = '+str(image.unit))\n",
    "    hdu.writeto(TemplateDir+'/TemplateMap_'+cluster.name+'.fits', overwrite=True)\n",
    "\n",
    "    #----- Spectrum\n",
    "    energy = np.logspace(-2,6,1000)*u.GeV\n",
    "    eng, spec = cluster.get_gamma_spectrum(energy,\n",
    "                                           Rmin=None, Rmax=cluster.R_truncation, Rmin_los=None, NR500_los=5.0,\n",
    "                                           type_integral='spherical')\n",
    "    wgood  = spec > 0\n",
    "    energy = energy[wgood]\n",
    "    spec   = spec[wgood]\n",
    "    cluster._save_txt_file(TemplateDir+'/TemplateSpectrum_'+cluster.name+'.txt', \n",
    "                           energy.to_value('MeV'), spec.to_value('MeV-1 cm-2 s-1'),\n",
    "                           'energy (MeV)', 'spectrum (MeV-1 cm-2 s-1)')\n",
    "    \n",
    "    #----- Add model\n",
    "    spatial  = gammalib.GModelSpatialDiffuseMap(TemplateDir+'/TemplateMap_'+cluster.name+'.fits')\n",
    "    spectral = gammalib.GModelSpectralFunc(TemplateDir+'/TemplateSpectrum_'+cluster.name+'.txt', 1.0)\n",
    "    timing   = gammalib.GModelTemporalConst(1)\n",
    "    model    = gammalib.GModelSky(spatial, spectral, timing)\n",
    "    model.name(cluster.name)\n",
    "    model.tscalc(True)\n",
    "    model_tot.append(model)\n",
    "    \n",
    "model_tot.save(TemplateDir+'/ClusterTemplates.xml')"
   ]
  },
  {
   "cell_type": "code",
   "execution_count": 10,
   "metadata": {},
   "outputs": [],
   "source": [
    "#---------- Save the maps as fits files\n",
    "filename = workdir+'cluster_sky_map_Vdc.fits'\n",
    "\n",
    "column_names = []\n",
    "for ieb in range(Ebin_nbin):\n",
    "    column_names.append('Gamma-ray in E=['+str(Ebin_pot[ieb].to_value('GeV'))+','+str(Ebin_pot[ieb+1].to_value('GeV'))+'] GeV')\n",
    "\n",
    "hp.write_map(filename, skymap, overwrite=True, fits_IDL=False,\n",
    "             column_names=column_names,\n",
    "             column_units='s-1 sr-1 cm-2')\n",
    "\n",
    "Ebin_hdr = fits.Header()\n",
    "Ebin_hdr.add_comment('Energy bin edges (GeV)')\n",
    "fits.append(filename, Ebin_pot.to_value('GeV'), Ebin_hdr)"
   ]
  }
 ],
 "metadata": {
  "kernelspec": {
   "display_name": "Python 2",
   "language": "python",
   "name": "python2"
  },
  "language_info": {
   "codemirror_mode": {
    "name": "ipython",
    "version": 2
   },
   "file_extension": ".py",
   "mimetype": "text/x-python",
   "name": "python",
   "nbconvert_exporter": "python",
   "pygments_lexer": "ipython2",
   "version": "2.7.17"
  }
 },
 "nbformat": 4,
 "nbformat_minor": 4
}
